{
 "cells": [
  {
   "cell_type": "markdown",
   "id": "ba7e458e",
   "metadata": {
    "papermill": {
     "duration": 0.00938,
     "end_time": "2024-02-21T09:44:20.591655",
     "exception": false,
     "start_time": "2024-02-21T09:44:20.582275",
     "status": "completed"
    },
    "tags": []
   },
   "source": [
    "# Framework for predictions and portfolio forming"
   ]
  },
  {
   "cell_type": "code",
   "execution_count": 1,
   "id": "2aa93fca",
   "metadata": {
    "execution": {
     "iopub.execute_input": "2024-02-21T09:44:20.611641Z",
     "iopub.status.busy": "2024-02-21T09:44:20.610463Z",
     "iopub.status.idle": "2024-02-21T09:44:23.787526Z",
     "shell.execute_reply": "2024-02-21T09:44:23.786549Z"
    },
    "papermill": {
     "duration": 3.190072,
     "end_time": "2024-02-21T09:44:23.790521",
     "exception": false,
     "start_time": "2024-02-21T09:44:20.600449",
     "status": "completed"
    },
    "tags": []
   },
   "outputs": [],
   "source": [
    "import numpy as np\n",
    "import pandas as pd\n",
    "pd.set_option('display.max_columns', None)\n",
    "import matplotlib.pyplot as plt\n",
    "import seaborn as sns\n",
    "import datetime as dt\n",
    "import time\n",
    "\n",
    "# import the parquet library\n",
    "import pyarrow.parquet as pq\n",
    "\n",
    "# import model libraries\n",
    "from sklearn.preprocessing import StandardScaler, MinMaxScaler\n",
    "from sklearn.linear_model import LogisticRegression, LinearRegression\n",
    "from sklearn.tree import DecisionTreeClassifier, DecisionTreeRegressor\n",
    "from sklearn.ensemble import RandomForestClassifier, RandomForestRegressor\n",
    "from sklearn.metrics import mean_squared_error, accuracy_score"
   ]
  },
  {
   "cell_type": "code",
   "execution_count": 2,
   "id": "914948a1",
   "metadata": {
    "execution": {
     "iopub.execute_input": "2024-02-21T09:44:23.810496Z",
     "iopub.status.busy": "2024-02-21T09:44:23.809986Z",
     "iopub.status.idle": "2024-02-21T09:44:24.943445Z",
     "shell.execute_reply": "2024-02-21T09:44:24.942340Z"
    },
    "papermill": {
     "duration": 1.14634,
     "end_time": "2024-02-21T09:44:24.945830",
     "exception": false,
     "start_time": "2024-02-21T09:44:23.799490",
     "status": "completed"
    },
    "tags": []
   },
   "outputs": [
    {
     "data": {
      "text/html": [
       "<div>\n",
       "<style scoped>\n",
       "    .dataframe tbody tr th:only-of-type {\n",
       "        vertical-align: middle;\n",
       "    }\n",
       "\n",
       "    .dataframe tbody tr th {\n",
       "        vertical-align: top;\n",
       "    }\n",
       "\n",
       "    .dataframe thead th {\n",
       "        text-align: right;\n",
       "    }\n",
       "</style>\n",
       "<table border=\"1\" class=\"dataframe\">\n",
       "  <thead>\n",
       "    <tr style=\"text-align: right;\">\n",
       "      <th></th>\n",
       "      <th>PERMNO</th>\n",
       "      <th>date</th>\n",
       "      <th>RET</th>\n",
       "      <th>ME</th>\n",
       "      <th>bull_D</th>\n",
       "      <th>bear_D</th>\n",
       "      <th>bull_W</th>\n",
       "      <th>bear_W</th>\n",
       "      <th>bull_M</th>\n",
       "      <th>bear_M</th>\n",
       "      <th>LMKT</th>\n",
       "      <th>IVOL</th>\n",
       "      <th>y</th>\n",
       "    </tr>\n",
       "  </thead>\n",
       "  <tbody>\n",
       "    <tr>\n",
       "      <th>0</th>\n",
       "      <td>10000</td>\n",
       "      <td>1986-02-28</td>\n",
       "      <td>-0.257143</td>\n",
       "      <td>11960.00000</td>\n",
       "      <td>0.0</td>\n",
       "      <td>0.0</td>\n",
       "      <td>0.0</td>\n",
       "      <td>1.0</td>\n",
       "      <td>0</td>\n",
       "      <td>0</td>\n",
       "      <td>0.0121</td>\n",
       "      <td>0.004058</td>\n",
       "      <td>0</td>\n",
       "    </tr>\n",
       "    <tr>\n",
       "      <th>1</th>\n",
       "      <td>10000</td>\n",
       "      <td>1986-03-31</td>\n",
       "      <td>0.365385</td>\n",
       "      <td>16330.00000</td>\n",
       "      <td>0.0</td>\n",
       "      <td>0.0</td>\n",
       "      <td>0.0</td>\n",
       "      <td>0.0</td>\n",
       "      <td>0</td>\n",
       "      <td>0</td>\n",
       "      <td>0.0766</td>\n",
       "      <td>0.000973</td>\n",
       "      <td>1</td>\n",
       "    </tr>\n",
       "    <tr>\n",
       "      <th>2</th>\n",
       "      <td>10000</td>\n",
       "      <td>1986-04-30</td>\n",
       "      <td>-0.098592</td>\n",
       "      <td>15172.00000</td>\n",
       "      <td>0.0</td>\n",
       "      <td>1.0</td>\n",
       "      <td>0.0</td>\n",
       "      <td>0.0</td>\n",
       "      <td>0</td>\n",
       "      <td>0</td>\n",
       "      <td>0.0548</td>\n",
       "      <td>0.001993</td>\n",
       "      <td>0</td>\n",
       "    </tr>\n",
       "    <tr>\n",
       "      <th>3</th>\n",
       "      <td>10000</td>\n",
       "      <td>1986-05-31</td>\n",
       "      <td>-0.222656</td>\n",
       "      <td>11793.87834</td>\n",
       "      <td>0.0</td>\n",
       "      <td>0.0</td>\n",
       "      <td>0.0</td>\n",
       "      <td>0.0</td>\n",
       "      <td>0</td>\n",
       "      <td>1</td>\n",
       "      <td>-0.0079</td>\n",
       "      <td>0.000163</td>\n",
       "      <td>0</td>\n",
       "    </tr>\n",
       "    <tr>\n",
       "      <th>4</th>\n",
       "      <td>10000</td>\n",
       "      <td>1986-06-30</td>\n",
       "      <td>-0.005025</td>\n",
       "      <td>11734.59375</td>\n",
       "      <td>0.0</td>\n",
       "      <td>0.0</td>\n",
       "      <td>0.0</td>\n",
       "      <td>0.0</td>\n",
       "      <td>0</td>\n",
       "      <td>2</td>\n",
       "      <td>0.0511</td>\n",
       "      <td>0.001569</td>\n",
       "      <td>0</td>\n",
       "    </tr>\n",
       "  </tbody>\n",
       "</table>\n",
       "</div>"
      ],
      "text/plain": [
       "   PERMNO       date       RET           ME  bull_D  bear_D  bull_W  bear_W  \\\n",
       "0   10000 1986-02-28 -0.257143  11960.00000     0.0     0.0     0.0     1.0   \n",
       "1   10000 1986-03-31  0.365385  16330.00000     0.0     0.0     0.0     0.0   \n",
       "2   10000 1986-04-30 -0.098592  15172.00000     0.0     1.0     0.0     0.0   \n",
       "3   10000 1986-05-31 -0.222656  11793.87834     0.0     0.0     0.0     0.0   \n",
       "4   10000 1986-06-30 -0.005025  11734.59375     0.0     0.0     0.0     0.0   \n",
       "\n",
       "   bull_M  bear_M    LMKT      IVOL  y  \n",
       "0       0       0  0.0121  0.004058  0  \n",
       "1       0       0  0.0766  0.000973  1  \n",
       "2       0       0  0.0548  0.001993  0  \n",
       "3       0       1 -0.0079  0.000163  0  \n",
       "4       0       2  0.0511  0.001569  0  "
      ]
     },
     "execution_count": 2,
     "metadata": {},
     "output_type": "execute_result"
    }
   ],
   "source": [
    "# load 'basemodel.parquet'\n",
    "#df = pd.read_parquet('basemodel.parquet')\n",
    "df = pd.read_parquet('/kaggle/input/sign-prediction-datasets/basemodel.parquet')\n",
    "prediction_cols = []\n",
    "df.head()"
   ]
  },
  {
   "cell_type": "code",
   "execution_count": 3,
   "id": "e8609f28",
   "metadata": {
    "execution": {
     "iopub.execute_input": "2024-02-21T09:44:24.967248Z",
     "iopub.status.busy": "2024-02-21T09:44:24.966396Z",
     "iopub.status.idle": "2024-02-21T09:44:24.972143Z",
     "shell.execute_reply": "2024-02-21T09:44:24.971333Z"
    },
    "papermill": {
     "duration": 0.019261,
     "end_time": "2024-02-21T09:44:24.974343",
     "exception": false,
     "start_time": "2024-02-21T09:44:24.955082",
     "status": "completed"
    },
    "tags": []
   },
   "outputs": [],
   "source": [
    "# select the columns to be used for prediction\n",
    "X_col = ['bull_D', 'bear_D', 'bull_W', 'bear_W', 'bull_M', 'bear_M', 'LMKT', 'IVOL']"
   ]
  },
  {
   "cell_type": "code",
   "execution_count": 4,
   "id": "15e00be8",
   "metadata": {
    "execution": {
     "iopub.execute_input": "2024-02-21T09:44:24.995045Z",
     "iopub.status.busy": "2024-02-21T09:44:24.994338Z",
     "iopub.status.idle": "2024-02-21T09:44:25.912943Z",
     "shell.execute_reply": "2024-02-21T09:44:25.911603Z"
    },
    "papermill": {
     "duration": 0.932186,
     "end_time": "2024-02-21T09:44:25.915948",
     "exception": false,
     "start_time": "2024-02-21T09:44:24.983762",
     "status": "completed"
    },
    "tags": []
   },
   "outputs": [],
   "source": [
    "# Convert 'date' to datetime format (if not already done) and sort the DataFrame\n",
    "df['date'] = pd.to_datetime(df['date'])\n",
    "df.sort_values(by='date', inplace=True)\n",
    "df.reset_index(drop=True, inplace=True)\n",
    "\n",
    "# Create a 'year' column based on the 'date' column\n",
    "df['year'] = df['date'].dt.year"
   ]
  },
  {
   "cell_type": "markdown",
   "id": "66a75525",
   "metadata": {
    "papermill": {
     "duration": 0.00926,
     "end_time": "2024-02-21T09:44:25.935586",
     "exception": false,
     "start_time": "2024-02-21T09:44:25.926326",
     "status": "completed"
    },
    "tags": []
   },
   "source": [
    "# Paper Replication - OLS and Logit, Expanding Window - No Hyperparameters\n",
    "- They start with out of sample forecasting in 1932\n",
    "- models will be named model_default"
   ]
  },
  {
   "cell_type": "markdown",
   "id": "b180355c",
   "metadata": {
    "papermill": {
     "duration": 0.008859,
     "end_time": "2024-02-21T09:44:25.953627",
     "exception": false,
     "start_time": "2024-02-21T09:44:25.944768",
     "status": "completed"
    },
    "tags": []
   },
   "source": [
    "# My Experiments"
   ]
  },
  {
   "cell_type": "markdown",
   "id": "717668bb",
   "metadata": {
    "papermill": {
     "duration": 0.009923,
     "end_time": "2024-02-21T09:44:25.972658",
     "exception": false,
     "start_time": "2024-02-21T09:44:25.962735",
     "status": "completed"
    },
    "tags": []
   },
   "source": [
    "## Machine Learning - Hyperparameter Tuning included in the process\n",
    "- models to be named 'model_clas/reg_exp/roll'"
   ]
  },
  {
   "cell_type": "markdown",
   "id": "24d2e5d5",
   "metadata": {
    "papermill": {
     "duration": 0.009391,
     "end_time": "2024-02-21T09:44:25.991406",
     "exception": false,
     "start_time": "2024-02-21T09:44:25.982015",
     "status": "completed"
    },
    "tags": []
   },
   "source": [
    "### First expanding, then rolling\n",
    "start predicting for 1932, expand the window until you reach X years, then roll it"
   ]
  },
  {
   "cell_type": "markdown",
   "id": "d6f0d1fa",
   "metadata": {
    "papermill": {
     "duration": 0.008951,
     "end_time": "2024-02-21T09:44:26.013023",
     "exception": false,
     "start_time": "2024-02-21T09:44:26.004072",
     "status": "completed"
    },
    "tags": []
   },
   "source": [
    "#### Accuracy Evaluation"
   ]
  },
  {
   "cell_type": "markdown",
   "id": "895201aa",
   "metadata": {
    "papermill": {
     "duration": 0.009012,
     "end_time": "2024-02-21T09:44:26.031177",
     "exception": false,
     "start_time": "2024-02-21T09:44:26.022165",
     "status": "completed"
    },
    "tags": []
   },
   "source": [
    "##### 5 year window"
   ]
  },
  {
   "cell_type": "markdown",
   "id": "cb4cc957",
   "metadata": {
    "papermill": {
     "duration": 0.008877,
     "end_time": "2024-02-21T09:44:26.049263",
     "exception": false,
     "start_time": "2024-02-21T09:44:26.040386",
     "status": "completed"
    },
    "tags": []
   },
   "source": [
    "##### 10 year window"
   ]
  },
  {
   "cell_type": "code",
   "execution_count": 5,
   "id": "53909ea7",
   "metadata": {
    "execution": {
     "iopub.execute_input": "2024-02-21T09:44:26.069839Z",
     "iopub.status.busy": "2024-02-21T09:44:26.069102Z",
     "iopub.status.idle": "2024-02-21T09:44:26.073191Z",
     "shell.execute_reply": "2024-02-21T09:44:26.072362Z"
    },
    "papermill": {
     "duration": 0.017501,
     "end_time": "2024-02-21T09:44:26.075934",
     "exception": false,
     "start_time": "2024-02-21T09:44:26.058433",
     "status": "completed"
    },
    "tags": []
   },
   "outputs": [],
   "source": [
    "# set the length of the rolling window\n",
    "rolling_window = 10 # years"
   ]
  },
  {
   "cell_type": "code",
   "execution_count": null,
   "id": "0f7e1645",
   "metadata": {
    "papermill": {
     "duration": 0.009027,
     "end_time": "2024-02-21T09:44:26.094268",
     "exception": false,
     "start_time": "2024-02-21T09:44:26.085241",
     "status": "completed"
    },
    "tags": []
   },
   "outputs": [],
   "source": []
  },
  {
   "cell_type": "markdown",
   "id": "a0d19f32",
   "metadata": {
    "papermill": {
     "duration": 0.008902,
     "end_time": "2024-02-21T09:44:26.114077",
     "exception": false,
     "start_time": "2024-02-21T09:44:26.105175",
     "status": "completed"
    },
    "tags": []
   },
   "source": [
    "##### 20 year window"
   ]
  },
  {
   "cell_type": "code",
   "execution_count": 6,
   "id": "4a000600",
   "metadata": {
    "execution": {
     "iopub.execute_input": "2024-02-21T09:44:26.134625Z",
     "iopub.status.busy": "2024-02-21T09:44:26.133824Z",
     "iopub.status.idle": "2024-02-21T09:44:26.138035Z",
     "shell.execute_reply": "2024-02-21T09:44:26.137173Z"
    },
    "papermill": {
     "duration": 0.017039,
     "end_time": "2024-02-21T09:44:26.140340",
     "exception": false,
     "start_time": "2024-02-21T09:44:26.123301",
     "status": "completed"
    },
    "tags": []
   },
   "outputs": [],
   "source": [
    "rolling_window = 20 # years"
   ]
  },
  {
   "cell_type": "code",
   "execution_count": 7,
   "id": "9a20c277",
   "metadata": {
    "execution": {
     "iopub.execute_input": "2024-02-21T09:44:26.161737Z",
     "iopub.status.busy": "2024-02-21T09:44:26.160991Z",
     "iopub.status.idle": "2024-02-21T12:50:34.646489Z",
     "shell.execute_reply": "2024-02-21T12:50:34.645679Z"
    },
    "papermill": {
     "duration": 11168.516728,
     "end_time": "2024-02-21T12:50:34.666792",
     "exception": false,
     "start_time": "2024-02-21T09:44:26.150064",
     "status": "completed"
    },
    "tags": []
   },
   "outputs": [
    {
     "name": "stdout",
     "output_type": "stream",
     "text": [
      "Year 1933 - Best n_estimators: 50, Best max_depth: 15, Best Accuracy: 0.86, Time: 5.89 seconds\n",
      "Year 1934 - Best n_estimators: 10, Best max_depth: 10, Best Accuracy: 0.89, Time: 6.02 seconds\n",
      "Year 1935 - Best n_estimators: 100, Best max_depth: 10, Best Accuracy: 0.85, Time: 7.96 seconds\n",
      "Year 1936 - Best n_estimators: 100, Best max_depth: 5, Best Accuracy: 0.83, Time: 9.17 seconds\n",
      "Year 1937 - Best n_estimators: 10, Best max_depth: 10, Best Accuracy: 0.85, Time: 8.78 seconds\n",
      "Year 1938 - Best n_estimators: 10, Best max_depth: 5, Best Accuracy: 0.89, Time: 9.62 seconds\n",
      "Year 1939 - Best n_estimators: 100, Best max_depth: 10, Best Accuracy: 0.88, Time: 12.99 seconds\n",
      "Year 1940 - Best n_estimators: 50, Best max_depth: 10, Best Accuracy: 0.9, Time: 12.74 seconds\n",
      "Year 1941 - Best n_estimators: 100, Best max_depth: 10, Best Accuracy: 0.83, Time: 15.48 seconds\n",
      "Year 1942 - Best n_estimators: 100, Best max_depth: 10, Best Accuracy: 0.82, Time: 16.36 seconds\n",
      "Year 1943 - Best n_estimators: 100, Best max_depth: 10, Best Accuracy: 0.84, Time: 18.06 seconds\n",
      "Year 1944 - Best n_estimators: 50, Best max_depth: 10, Best Accuracy: 0.88, Time: 17.77 seconds\n",
      "Year 1945 - Best n_estimators: 50, Best max_depth: 15, Best Accuracy: 0.84, Time: 20.36 seconds\n",
      "Year 1946 - Best n_estimators: 100, Best max_depth: 15, Best Accuracy: 0.9, Time: 24.10 seconds\n",
      "Year 1947 - Best n_estimators: 10, Best max_depth: 15, Best Accuracy: 0.88, Time: 19.97 seconds\n",
      "Year 1948 - Best n_estimators: 50, Best max_depth: 10, Best Accuracy: 0.83, Time: 22.76 seconds\n",
      "Year 1949 - Best n_estimators: 10, Best max_depth: 10, Best Accuracy: 0.88, Time: 21.37 seconds\n",
      "Year 1950 - Best n_estimators: 100, Best max_depth: 15, Best Accuracy: 0.81, Time: 26.55 seconds\n",
      "Year 1951 - Best n_estimators: 50, Best max_depth: 15, Best Accuracy: 0.86, Time: 24.43 seconds\n",
      "Year 1952 - Best n_estimators: 50, Best max_depth: 5, Best Accuracy: 0.87, Time: 23.53 seconds\n",
      "Year 1953 - Best n_estimators: 50, Best max_depth: 10, Best Accuracy: 0.86, Time: 25.30 seconds\n",
      "Year 1954 - Best n_estimators: 10, Best max_depth: 5, Best Accuracy: 0.85, Time: 23.60 seconds\n",
      "Year 1955 - Best n_estimators: 10, Best max_depth: 15, Best Accuracy: 0.86, Time: 25.04 seconds\n",
      "Year 1956 - Best n_estimators: 10, Best max_depth: 10, Best Accuracy: 0.84, Time: 25.40 seconds\n",
      "Year 1957 - Best n_estimators: 10, Best max_depth: 10, Best Accuracy: 0.85, Time: 26.34 seconds\n",
      "Year 1958 - Best n_estimators: 10, Best max_depth: 5, Best Accuracy: 0.85, Time: 26.30 seconds\n",
      "Year 1959 - Best n_estimators: 100, Best max_depth: 10, Best Accuracy: 0.86, Time: 31.11 seconds\n",
      "Year 1960 - Best n_estimators: 10, Best max_depth: 15, Best Accuracy: 0.84, Time: 26.43 seconds\n",
      "Year 1961 - Best n_estimators: 10, Best max_depth: 10, Best Accuracy: 0.85, Time: 27.62 seconds\n",
      "Year 1962 - Best n_estimators: 50, Best max_depth: 15, Best Accuracy: 0.85, Time: 30.83 seconds\n",
      "Year 1963 - Best n_estimators: 50, Best max_depth: 10, Best Accuracy: 0.88, Time: 30.16 seconds\n",
      "Year 1964 - Best n_estimators: 10, Best max_depth: 5, Best Accuracy: 0.82, Time: 29.04 seconds\n",
      "Year 1965 - Best n_estimators: 50, Best max_depth: 10, Best Accuracy: 0.81, Time: 34.77 seconds\n",
      "Year 1966 - Best n_estimators: 100, Best max_depth: 10, Best Accuracy: 0.83, Time: 40.30 seconds\n",
      "Year 1967 - Best n_estimators: 10, Best max_depth: 10, Best Accuracy: 0.84, Time: 37.99 seconds\n",
      "Year 1968 - Best n_estimators: 10, Best max_depth: 10, Best Accuracy: 0.86, Time: 40.08 seconds\n",
      "Year 1969 - Best n_estimators: 10, Best max_depth: 10, Best Accuracy: 0.86, Time: 41.53 seconds\n",
      "Year 1970 - Best n_estimators: 10, Best max_depth: 10, Best Accuracy: 0.88, Time: 43.92 seconds\n",
      "Year 1971 - Best n_estimators: 100, Best max_depth: 5, Best Accuracy: 0.86, Time: 52.37 seconds\n",
      "Year 1972 - Best n_estimators: 10, Best max_depth: 15, Best Accuracy: 0.86, Time: 52.74 seconds\n",
      "Year 1973 - Best n_estimators: 10, Best max_depth: 10, Best Accuracy: 0.85, Time: 55.32 seconds\n",
      "Year 1974 - Best n_estimators: 10, Best max_depth: 15, Best Accuracy: 0.84, Time: 58.82 seconds\n",
      "Year 1975 - Best n_estimators: 10, Best max_depth: 5, Best Accuracy: 0.82, Time: 64.67 seconds\n",
      "Year 1976 - Best n_estimators: 50, Best max_depth: 5, Best Accuracy: 0.81, Time: 74.96 seconds\n",
      "Year 1977 - Best n_estimators: 50, Best max_depth: 10, Best Accuracy: 0.82, Time: 84.82 seconds\n",
      "Year 1978 - Best n_estimators: 10, Best max_depth: 10, Best Accuracy: 0.82, Time: 87.67 seconds\n",
      "Year 1979 - Best n_estimators: 10, Best max_depth: 10, Best Accuracy: 0.83, Time: 96.09 seconds\n",
      "Year 1980 - Best n_estimators: 10, Best max_depth: 15, Best Accuracy: 0.84, Time: 106.42 seconds\n",
      "Year 1981 - Best n_estimators: 50, Best max_depth: 15, Best Accuracy: 0.86, Time: 122.04 seconds\n",
      "Year 1982 - Best n_estimators: 50, Best max_depth: 10, Best Accuracy: 0.83, Time: 125.26 seconds\n",
      "Year 1983 - Best n_estimators: 10, Best max_depth: 5, Best Accuracy: 0.84, Time: 123.58 seconds\n",
      "Year 1984 - Best n_estimators: 100, Best max_depth: 5, Best Accuracy: 0.83, Time: 143.65 seconds\n",
      "Year 1985 - Best n_estimators: 50, Best max_depth: 10, Best Accuracy: 0.83, Time: 151.05 seconds\n",
      "Year 1986 - Best n_estimators: 50, Best max_depth: 5, Best Accuracy: 0.84, Time: 151.35 seconds\n",
      "Year 1987 - Best n_estimators: 50, Best max_depth: 10, Best Accuracy: 0.84, Time: 164.78 seconds\n",
      "Year 1988 - Best n_estimators: 100, Best max_depth: 15, Best Accuracy: 0.83, Time: 202.72 seconds\n",
      "Year 1989 - Best n_estimators: 100, Best max_depth: 10, Best Accuracy: 0.81, Time: 201.93 seconds\n",
      "Year 1990 - Best n_estimators: 100, Best max_depth: 10, Best Accuracy: 0.83, Time: 211.91 seconds\n",
      "Year 1991 - Best n_estimators: 100, Best max_depth: 15, Best Accuracy: 0.84, Time: 234.99 seconds\n",
      "Year 1992 - Best n_estimators: 100, Best max_depth: 10, Best Accuracy: 0.82, Time: 230.62 seconds\n",
      "Year 1993 - Best n_estimators: 10, Best max_depth: 15, Best Accuracy: 0.81, Time: 205.51 seconds\n",
      "Year 1994 - Best n_estimators: 50, Best max_depth: 10, Best Accuracy: 0.81, Time: 227.73 seconds\n",
      "Year 1995 - Best n_estimators: 50, Best max_depth: 10, Best Accuracy: 0.82, Time: 228.65 seconds\n",
      "Year 1996 - Best n_estimators: 10, Best max_depth: 10, Best Accuracy: 0.81, Time: 219.02 seconds\n",
      "Year 1997 - Best n_estimators: 50, Best max_depth: 10, Best Accuracy: 0.82, Time: 243.73 seconds\n",
      "Year 1998 - Best n_estimators: 10, Best max_depth: 15, Best Accuracy: 0.84, Time: 237.41 seconds\n",
      "Year 1999 - Best n_estimators: 100, Best max_depth: 10, Best Accuracy: 0.84, Time: 289.08 seconds\n",
      "Year 2000 - Best n_estimators: 50, Best max_depth: 5, Best Accuracy: 0.82, Time: 257.84 seconds\n",
      "Year 2001 - Best n_estimators: 100, Best max_depth: 15, Best Accuracy: 0.83, Time: 314.09 seconds\n",
      "Year 2002 - Best n_estimators: 50, Best max_depth: 10, Best Accuracy: 0.83, Time: 274.29 seconds\n",
      "Year 2003 - Best n_estimators: 50, Best max_depth: 10, Best Accuracy: 0.85, Time: 285.16 seconds\n",
      "Year 2004 - Best n_estimators: 50, Best max_depth: 15, Best Accuracy: 0.83, Time: 291.27 seconds\n",
      "Year 2005 - Best n_estimators: 100, Best max_depth: 15, Best Accuracy: 0.84, Time: 323.48 seconds\n",
      "Year 2006 - Best n_estimators: 50, Best max_depth: 15, Best Accuracy: 0.85, Time: 282.48 seconds\n",
      "Year 2007 - Best n_estimators: 10, Best max_depth: 15, Best Accuracy: 0.83, Time: 259.22 seconds\n",
      "Year 2008 - Best n_estimators: 50, Best max_depth: 15, Best Accuracy: 0.85, Time: 278.62 seconds\n",
      "Year 2009 - Best n_estimators: 100, Best max_depth: 10, Best Accuracy: 0.86, Time: 295.38 seconds\n",
      "Year 2010 - Best n_estimators: 100, Best max_depth: 10, Best Accuracy: 0.85, Time: 291.76 seconds\n",
      "Year 2011 - Best n_estimators: 10, Best max_depth: 15, Best Accuracy: 0.88, Time: 246.95 seconds\n",
      "Year 2012 - Best n_estimators: 50, Best max_depth: 5, Best Accuracy: 0.84, Time: 249.39 seconds\n",
      "Year 2013 - Best n_estimators: 50, Best max_depth: 5, Best Accuracy: 0.84, Time: 241.96 seconds\n",
      "Year 2014 - Best n_estimators: 100, Best max_depth: 15, Best Accuracy: 0.87, Time: 280.87 seconds\n",
      "Year 2015 - Best n_estimators: 100, Best max_depth: 5, Best Accuracy: 0.86, Time: 240.71 seconds\n",
      "Year 2016 - Best n_estimators: 50, Best max_depth: 10, Best Accuracy: 0.83, Time: 226.82 seconds\n",
      "Year 2017 - Best n_estimators: 100, Best max_depth: 5, Best Accuracy: 0.85, Time: 230.59 seconds\n",
      "Year 2018 - Best n_estimators: 100, Best max_depth: 10, Best Accuracy: 0.84, Time: 225.87 seconds\n",
      "Year 2019 - Best n_estimators: 10, Best max_depth: 10, Best Accuracy: 0.85, Time: 180.36 seconds\n",
      "Year 2020 - Best n_estimators: 50, Best max_depth: 10, Best Accuracy: 0.87, Time: 185.87 seconds\n",
      "Year 2021 - Best n_estimators: 100, Best max_depth: 10, Best Accuracy: 0.87, Time: 195.63 seconds\n",
      "Year 2022 - Best n_estimators: 50, Best max_depth: 10, Best Accuracy: 0.85, Time: 171.27 seconds\n"
     ]
    }
   ],
   "source": [
    "############################################\n",
    "# RF CLASSIFICATION MODEL - ACCURACY\n",
    "############################################\n",
    "\n",
    "model_name = 'RF_class_roll20_AC'\n",
    "\n",
    "# Predefined set of max_depth values for hyperparameter tuning\n",
    "# Define the hyperparameters to test\n",
    "HP1 = [10, 50, 100]  # n_estimators\n",
    "HP2 = [5, 10, 15]  # max_depth (None means no limit)\n",
    "\n",
    "# Update the column name for storing Decision Tree regression predictions\n",
    "df[model_name] = np.nan\n",
    "\n",
    "# Ensure the new column is in the prediction_cols list\n",
    "if model_name not in prediction_cols:\n",
    "    prediction_cols.append(model_name)\n",
    "\n",
    "start_modeling_year = df['year'].min() + 7\n",
    "\n",
    "for year in range(start_modeling_year, df['year'].max() + 1):\n",
    "    start_time = time.time()  # Timing each iteration\n",
    "    \n",
    "    train_start_year = max(year - rolling_window, df['year'].min())\n",
    "    train_data = df[(df['year'] >= train_start_year) & (df['year'] < year)]\n",
    "    \n",
    "    tuning_data = train_data[train_data['year'] == year - 1]\n",
    "    actual_train_data = train_data[train_data['year'] < year - 1]\n",
    "    \n",
    "    X_train = actual_train_data[X_col]\n",
    "    y_train = actual_train_data['y']\n",
    "    \n",
    "    X_tune = tuning_data[X_col]\n",
    "    y_tune = tuning_data['y']\n",
    "    \n",
    "    best_HP1 = None\n",
    "    best_HP2 = None\n",
    "    best_accuracy = 0\n",
    "\n",
    "    # Hyperparameter tuning\n",
    "    for hp1 in HP1:\n",
    "        for hp2 in HP2:\n",
    "            model = RandomForestClassifier(n_estimators=hp1, max_depth=hp2, random_state=42, n_jobs=-1)\n",
    "            model.fit(X_train, y_train)\n",
    "            predictions = model.predict(X_tune)\n",
    "            accuracy = accuracy_score(y_tune, predictions)\n",
    "\n",
    "            if accuracy > best_accuracy:\n",
    "                best_accuracy = accuracy\n",
    "                best_HP1 = hp1\n",
    "                best_HP2 = hp2\n",
    "    \n",
    "    # Retrain on the entire training window with the best max_depth value\n",
    "    model = model = RandomForestClassifier(n_estimators=best_HP1, max_depth=best_HP2, random_state=42, n_jobs=-1)\n",
    "    model.fit(X_train, y_train)\n",
    "    \n",
    "    # Predict for the next year\n",
    "    next_year_data = df[df['year'] == year]\n",
    "    X_next_year = next_year_data[X_col]\n",
    "    \n",
    "    if not X_next_year.empty:\n",
    "        next_year_predictions = model.predict_proba(X_next_year)[:, 1]\n",
    "        df.loc[df['year'] == year, model_name] = next_year_predictions\n",
    "    \n",
    "    end_time = time.time()\n",
    "    iteration_time = end_time - start_time\n",
    "    \n",
    "    print(f\"Year {year} - Best n_estimators: {best_HP1}, Best max_depth: {best_HP2 if best_HP2 is not None else 'None'}, Best Accuracy: {round(best_accuracy, 2)}, Time: {iteration_time:.2f} seconds\")"
   ]
  },
  {
   "cell_type": "markdown",
   "id": "fa16d019",
   "metadata": {
    "papermill": {
     "duration": 0.017344,
     "end_time": "2024-02-21T12:50:34.701816",
     "exception": false,
     "start_time": "2024-02-21T12:50:34.684472",
     "status": "completed"
    },
    "tags": []
   },
   "source": [
    "## Forming Portfolios, Value-weighted portfolio returns"
   ]
  },
  {
   "cell_type": "code",
   "execution_count": 8,
   "id": "935f912b",
   "metadata": {
    "execution": {
     "iopub.execute_input": "2024-02-21T12:50:34.739561Z",
     "iopub.status.busy": "2024-02-21T12:50:34.738578Z",
     "iopub.status.idle": "2024-02-21T12:50:34.760296Z",
     "shell.execute_reply": "2024-02-21T12:50:34.758867Z"
    },
    "papermill": {
     "duration": 0.043724,
     "end_time": "2024-02-21T12:50:34.763343",
     "exception": false,
     "start_time": "2024-02-21T12:50:34.719619",
     "status": "completed"
    },
    "tags": []
   },
   "outputs": [
    {
     "data": {
      "text/html": [
       "<div>\n",
       "<style scoped>\n",
       "    .dataframe tbody tr th:only-of-type {\n",
       "        vertical-align: middle;\n",
       "    }\n",
       "\n",
       "    .dataframe tbody tr th {\n",
       "        vertical-align: top;\n",
       "    }\n",
       "\n",
       "    .dataframe thead th {\n",
       "        text-align: right;\n",
       "    }\n",
       "</style>\n",
       "<table border=\"1\" class=\"dataframe\">\n",
       "  <thead>\n",
       "    <tr style=\"text-align: right;\">\n",
       "      <th></th>\n",
       "      <th>PERMNO</th>\n",
       "      <th>date</th>\n",
       "      <th>RET</th>\n",
       "      <th>ME</th>\n",
       "      <th>bull_D</th>\n",
       "      <th>bear_D</th>\n",
       "      <th>bull_W</th>\n",
       "      <th>bear_W</th>\n",
       "      <th>bull_M</th>\n",
       "      <th>bear_M</th>\n",
       "      <th>LMKT</th>\n",
       "      <th>IVOL</th>\n",
       "      <th>y</th>\n",
       "      <th>year</th>\n",
       "      <th>RF_class_roll20_AC</th>\n",
       "    </tr>\n",
       "  </thead>\n",
       "  <tbody>\n",
       "    <tr>\n",
       "      <th>0</th>\n",
       "      <td>11148</td>\n",
       "      <td>1926-08-31</td>\n",
       "      <td>0.109924</td>\n",
       "      <td>76287.5</td>\n",
       "      <td>1.0</td>\n",
       "      <td>0.0</td>\n",
       "      <td>4.0</td>\n",
       "      <td>0.0</td>\n",
       "      <td>0</td>\n",
       "      <td>0</td>\n",
       "      <td>0.0318</td>\n",
       "      <td>0.000040</td>\n",
       "      <td>1</td>\n",
       "      <td>1926</td>\n",
       "      <td>NaN</td>\n",
       "    </tr>\n",
       "    <tr>\n",
       "      <th>1</th>\n",
       "      <td>10874</td>\n",
       "      <td>1926-08-31</td>\n",
       "      <td>0.168142</td>\n",
       "      <td>16500.0</td>\n",
       "      <td>0.0</td>\n",
       "      <td>0.0</td>\n",
       "      <td>2.0</td>\n",
       "      <td>0.0</td>\n",
       "      <td>2</td>\n",
       "      <td>0</td>\n",
       "      <td>0.0318</td>\n",
       "      <td>0.000537</td>\n",
       "      <td>1</td>\n",
       "      <td>1926</td>\n",
       "      <td>NaN</td>\n",
       "    </tr>\n",
       "    <tr>\n",
       "      <th>2</th>\n",
       "      <td>12968</td>\n",
       "      <td>1926-08-31</td>\n",
       "      <td>-0.006464</td>\n",
       "      <td>55683.0</td>\n",
       "      <td>0.0</td>\n",
       "      <td>0.0</td>\n",
       "      <td>0.0</td>\n",
       "      <td>0.0</td>\n",
       "      <td>0</td>\n",
       "      <td>0</td>\n",
       "      <td>0.0318</td>\n",
       "      <td>0.000007</td>\n",
       "      <td>0</td>\n",
       "      <td>1926</td>\n",
       "      <td>NaN</td>\n",
       "    </tr>\n",
       "    <tr>\n",
       "      <th>3</th>\n",
       "      <td>12976</td>\n",
       "      <td>1926-08-31</td>\n",
       "      <td>0.156041</td>\n",
       "      <td>41650.0</td>\n",
       "      <td>1.0</td>\n",
       "      <td>0.0</td>\n",
       "      <td>0.0</td>\n",
       "      <td>0.0</td>\n",
       "      <td>0</td>\n",
       "      <td>0</td>\n",
       "      <td>0.0318</td>\n",
       "      <td>0.000070</td>\n",
       "      <td>1</td>\n",
       "      <td>1926</td>\n",
       "      <td>NaN</td>\n",
       "    </tr>\n",
       "    <tr>\n",
       "      <th>4</th>\n",
       "      <td>12984</td>\n",
       "      <td>1926-08-31</td>\n",
       "      <td>0.046875</td>\n",
       "      <td>11323.0</td>\n",
       "      <td>1.0</td>\n",
       "      <td>0.0</td>\n",
       "      <td>0.0</td>\n",
       "      <td>0.0</td>\n",
       "      <td>0</td>\n",
       "      <td>0</td>\n",
       "      <td>0.0318</td>\n",
       "      <td>0.000874</td>\n",
       "      <td>1</td>\n",
       "      <td>1926</td>\n",
       "      <td>NaN</td>\n",
       "    </tr>\n",
       "  </tbody>\n",
       "</table>\n",
       "</div>"
      ],
      "text/plain": [
       "   PERMNO       date       RET       ME  bull_D  bear_D  bull_W  bear_W  \\\n",
       "0   11148 1926-08-31  0.109924  76287.5     1.0     0.0     4.0     0.0   \n",
       "1   10874 1926-08-31  0.168142  16500.0     0.0     0.0     2.0     0.0   \n",
       "2   12968 1926-08-31 -0.006464  55683.0     0.0     0.0     0.0     0.0   \n",
       "3   12976 1926-08-31  0.156041  41650.0     1.0     0.0     0.0     0.0   \n",
       "4   12984 1926-08-31  0.046875  11323.0     1.0     0.0     0.0     0.0   \n",
       "\n",
       "   bull_M  bear_M    LMKT      IVOL  y  year  RF_class_roll20_AC  \n",
       "0       0       0  0.0318  0.000040  1  1926                 NaN  \n",
       "1       2       0  0.0318  0.000537  1  1926                 NaN  \n",
       "2       0       0  0.0318  0.000007  0  1926                 NaN  \n",
       "3       0       0  0.0318  0.000070  1  1926                 NaN  \n",
       "4       0       0  0.0318  0.000874  1  1926                 NaN  "
      ]
     },
     "execution_count": 8,
     "metadata": {},
     "output_type": "execute_result"
    }
   ],
   "source": [
    "df.head()"
   ]
  },
  {
   "cell_type": "code",
   "execution_count": 9,
   "id": "a893812e",
   "metadata": {
    "execution": {
     "iopub.execute_input": "2024-02-21T12:50:34.802660Z",
     "iopub.status.busy": "2024-02-21T12:50:34.802289Z",
     "iopub.status.idle": "2024-02-21T12:50:34.808803Z",
     "shell.execute_reply": "2024-02-21T12:50:34.807694Z"
    },
    "papermill": {
     "duration": 0.02982,
     "end_time": "2024-02-21T12:50:34.811769",
     "exception": false,
     "start_time": "2024-02-21T12:50:34.781949",
     "status": "completed"
    },
    "tags": []
   },
   "outputs": [
    {
     "data": {
      "text/plain": [
       "['RF_class_roll20_AC']"
      ]
     },
     "execution_count": 9,
     "metadata": {},
     "output_type": "execute_result"
    }
   ],
   "source": [
    "prediction_cols\n",
    "# prediction_cols = ['logit_default','OLS_default','logit_roll6','DT_reg_roll']"
   ]
  },
  {
   "cell_type": "code",
   "execution_count": 10,
   "id": "44c1477b",
   "metadata": {
    "execution": {
     "iopub.execute_input": "2024-02-21T12:50:34.852153Z",
     "iopub.status.busy": "2024-02-21T12:50:34.851749Z",
     "iopub.status.idle": "2024-02-21T12:50:35.242605Z",
     "shell.execute_reply": "2024-02-21T12:50:35.241257Z"
    },
    "papermill": {
     "duration": 0.414628,
     "end_time": "2024-02-21T12:50:35.245212",
     "exception": false,
     "start_time": "2024-02-21T12:50:34.830584",
     "status": "completed"
    },
    "tags": []
   },
   "outputs": [
    {
     "data": {
      "text/html": [
       "<div>\n",
       "<style scoped>\n",
       "    .dataframe tbody tr th:only-of-type {\n",
       "        vertical-align: middle;\n",
       "    }\n",
       "\n",
       "    .dataframe tbody tr th {\n",
       "        vertical-align: top;\n",
       "    }\n",
       "\n",
       "    .dataframe thead th {\n",
       "        text-align: right;\n",
       "    }\n",
       "</style>\n",
       "<table border=\"1\" class=\"dataframe\">\n",
       "  <thead>\n",
       "    <tr style=\"text-align: right;\">\n",
       "      <th></th>\n",
       "      <th>date</th>\n",
       "      <th>RET</th>\n",
       "      <th>ME</th>\n",
       "      <th>y</th>\n",
       "      <th>RF_class_roll20_AC</th>\n",
       "    </tr>\n",
       "  </thead>\n",
       "  <tbody>\n",
       "    <tr>\n",
       "      <th>49083</th>\n",
       "      <td>1933-01-31</td>\n",
       "      <td>0.036765</td>\n",
       "      <td>31918.875</td>\n",
       "      <td>1</td>\n",
       "      <td>1.000000</td>\n",
       "    </tr>\n",
       "    <tr>\n",
       "      <th>49084</th>\n",
       "      <td>1933-01-31</td>\n",
       "      <td>0.121849</td>\n",
       "      <td>7142.250</td>\n",
       "      <td>1</td>\n",
       "      <td>0.438702</td>\n",
       "    </tr>\n",
       "    <tr>\n",
       "      <th>49085</th>\n",
       "      <td>1933-01-31</td>\n",
       "      <td>0.015625</td>\n",
       "      <td>1560.000</td>\n",
       "      <td>1</td>\n",
       "      <td>1.000000</td>\n",
       "    </tr>\n",
       "    <tr>\n",
       "      <th>49086</th>\n",
       "      <td>1933-01-31</td>\n",
       "      <td>-0.084337</td>\n",
       "      <td>4275.000</td>\n",
       "      <td>0</td>\n",
       "      <td>0.000000</td>\n",
       "    </tr>\n",
       "    <tr>\n",
       "      <th>49087</th>\n",
       "      <td>1933-01-31</td>\n",
       "      <td>-0.037500</td>\n",
       "      <td>447581.750</td>\n",
       "      <td>0</td>\n",
       "      <td>0.242858</td>\n",
       "    </tr>\n",
       "  </tbody>\n",
       "</table>\n",
       "</div>"
      ],
      "text/plain": [
       "            date       RET          ME  y  RF_class_roll20_AC\n",
       "49083 1933-01-31  0.036765   31918.875  1            1.000000\n",
       "49084 1933-01-31  0.121849    7142.250  1            0.438702\n",
       "49085 1933-01-31  0.015625    1560.000  1            1.000000\n",
       "49086 1933-01-31 -0.084337    4275.000  0            0.000000\n",
       "49087 1933-01-31 -0.037500  447581.750  0            0.242858"
      ]
     },
     "execution_count": 10,
     "metadata": {},
     "output_type": "execute_result"
    }
   ],
   "source": [
    "portfolio = df[['date', 'RET', 'ME', 'y'] + prediction_cols].copy()\n",
    "portfolio['date'] = pd.to_datetime(portfolio['date'])\n",
    "\n",
    "# drop rows with missing values\n",
    "portfolio.dropna(inplace=True)\n",
    "\n",
    "portfolio.head()"
   ]
  },
  {
   "cell_type": "code",
   "execution_count": 11,
   "id": "bedcbc3b",
   "metadata": {
    "execution": {
     "iopub.execute_input": "2024-02-21T12:50:35.284302Z",
     "iopub.status.busy": "2024-02-21T12:50:35.283875Z",
     "iopub.status.idle": "2024-02-21T12:50:35.298197Z",
     "shell.execute_reply": "2024-02-21T12:50:35.296946Z"
    },
    "papermill": {
     "duration": 0.036732,
     "end_time": "2024-02-21T12:50:35.300646",
     "exception": false,
     "start_time": "2024-02-21T12:50:35.263914",
     "status": "completed"
    },
    "tags": []
   },
   "outputs": [
    {
     "data": {
      "text/html": [
       "<div>\n",
       "<style scoped>\n",
       "    .dataframe tbody tr th:only-of-type {\n",
       "        vertical-align: middle;\n",
       "    }\n",
       "\n",
       "    .dataframe tbody tr th {\n",
       "        vertical-align: top;\n",
       "    }\n",
       "\n",
       "    .dataframe thead th {\n",
       "        text-align: right;\n",
       "    }\n",
       "</style>\n",
       "<table border=\"1\" class=\"dataframe\">\n",
       "  <thead>\n",
       "    <tr style=\"text-align: right;\">\n",
       "      <th></th>\n",
       "      <th>date</th>\n",
       "      <th>RET</th>\n",
       "      <th>ME</th>\n",
       "      <th>y</th>\n",
       "      <th>RF_class_roll20_AC</th>\n",
       "    </tr>\n",
       "  </thead>\n",
       "  <tbody>\n",
       "    <tr>\n",
       "      <th>3627748</th>\n",
       "      <td>2022-07-31</td>\n",
       "      <td>-0.106939</td>\n",
       "      <td>3.731571e+06</td>\n",
       "      <td>0</td>\n",
       "      <td>0.700167</td>\n",
       "    </tr>\n",
       "    <tr>\n",
       "      <th>3627749</th>\n",
       "      <td>2022-07-31</td>\n",
       "      <td>0.020969</td>\n",
       "      <td>5.066263e+03</td>\n",
       "      <td>1</td>\n",
       "      <td>0.585397</td>\n",
       "    </tr>\n",
       "    <tr>\n",
       "      <th>3627750</th>\n",
       "      <td>2022-07-31</td>\n",
       "      <td>0.184785</td>\n",
       "      <td>1.280287e+06</td>\n",
       "      <td>1</td>\n",
       "      <td>0.967524</td>\n",
       "    </tr>\n",
       "    <tr>\n",
       "      <th>3627751</th>\n",
       "      <td>2022-07-31</td>\n",
       "      <td>0.108881</td>\n",
       "      <td>3.475711e+04</td>\n",
       "      <td>1</td>\n",
       "      <td>0.534128</td>\n",
       "    </tr>\n",
       "    <tr>\n",
       "      <th>3627752</th>\n",
       "      <td>2022-07-31</td>\n",
       "      <td>0.323765</td>\n",
       "      <td>9.311106e+08</td>\n",
       "      <td>1</td>\n",
       "      <td>0.872948</td>\n",
       "    </tr>\n",
       "  </tbody>\n",
       "</table>\n",
       "</div>"
      ],
      "text/plain": [
       "              date       RET            ME  y  RF_class_roll20_AC\n",
       "3627748 2022-07-31 -0.106939  3.731571e+06  0            0.700167\n",
       "3627749 2022-07-31  0.020969  5.066263e+03  1            0.585397\n",
       "3627750 2022-07-31  0.184785  1.280287e+06  1            0.967524\n",
       "3627751 2022-07-31  0.108881  3.475711e+04  1            0.534128\n",
       "3627752 2022-07-31  0.323765  9.311106e+08  1            0.872948"
      ]
     },
     "execution_count": 11,
     "metadata": {},
     "output_type": "execute_result"
    }
   ],
   "source": [
    "portfolio.tail()"
   ]
  },
  {
   "cell_type": "code",
   "execution_count": 12,
   "id": "f027965f",
   "metadata": {
    "execution": {
     "iopub.execute_input": "2024-02-21T12:50:35.340519Z",
     "iopub.status.busy": "2024-02-21T12:50:35.340108Z",
     "iopub.status.idle": "2024-02-21T12:50:38.891990Z",
     "shell.execute_reply": "2024-02-21T12:50:38.890751Z"
    },
    "papermill": {
     "duration": 3.574904,
     "end_time": "2024-02-21T12:50:38.894644",
     "exception": false,
     "start_time": "2024-02-21T12:50:35.319740",
     "status": "completed"
    },
    "tags": []
   },
   "outputs": [
    {
     "name": "stderr",
     "output_type": "stream",
     "text": [
      "/tmp/ipykernel_18/2999037948.py:15: DeprecationWarning: DataFrameGroupBy.apply operated on the grouping columns. This behavior is deprecated, and in a future version of pandas the grouping columns will be excluded from the operation. Either pass `include_groups=False` to exclude the groupings or explicitly select the grouping columns after groupby to silence this warning.\n",
      "  vwreturns_temp = portfolio.groupby('date').apply(lambda x: np.sum(x['RET'] * x['ME'] * x[position_col]) / np.sum(x['ME'])).reset_index(name=vwret_col)\n"
     ]
    }
   ],
   "source": [
    "# Initialize an empty DataFrame to store value-weighted returns for each model\n",
    "vwreturns = pd.DataFrame(portfolio['date'].unique(), columns=['date'])  # Ensures all dates are included\n",
    "\n",
    "for pred_col in prediction_cols:\n",
    "    # Calculate deciles for this prediction\n",
    "    decile_col = f'decile_{pred_col}'\n",
    "    portfolio[decile_col] = portfolio.groupby(['date'])[pred_col].transform(lambda x: pd.qcut(x, 10, labels=False, duplicates='drop'))\n",
    "    \n",
    "    # Determine position based on deciles\n",
    "    position_col = f'position_{pred_col}'\n",
    "    portfolio[position_col] = np.where(portfolio[decile_col] == 9, 1, np.where(portfolio[decile_col] == 0, -1, 0))\n",
    "    \n",
    "    # Calculate the value-weighted return for this prediction\n",
    "    vwret_col = f'vwreturn_{pred_col}'\n",
    "    vwreturns_temp = portfolio.groupby('date').apply(lambda x: np.sum(x['RET'] * x['ME'] * x[position_col]) / np.sum(x['ME'])).reset_index(name=vwret_col)\n",
    "    \n",
    "    # Merge the temporary value-weighted returns with the main vwreturns DataFrame\n",
    "    vwreturns = vwreturns.merge(vwreturns_temp, on='date', how='left')\n",
    "\n",
    "# Ensure the 'date' column is the first column and is sorted\n",
    "vwreturns = vwreturns.sort_values('date').reset_index(drop=True)\n"
   ]
  },
  {
   "cell_type": "code",
   "execution_count": 13,
   "id": "ba457d6c",
   "metadata": {
    "execution": {
     "iopub.execute_input": "2024-02-21T12:50:38.935621Z",
     "iopub.status.busy": "2024-02-21T12:50:38.934778Z",
     "iopub.status.idle": "2024-02-21T12:50:38.945352Z",
     "shell.execute_reply": "2024-02-21T12:50:38.944548Z"
    },
    "papermill": {
     "duration": 0.033657,
     "end_time": "2024-02-21T12:50:38.947645",
     "exception": false,
     "start_time": "2024-02-21T12:50:38.913988",
     "status": "completed"
    },
    "tags": []
   },
   "outputs": [
    {
     "data": {
      "text/html": [
       "<div>\n",
       "<style scoped>\n",
       "    .dataframe tbody tr th:only-of-type {\n",
       "        vertical-align: middle;\n",
       "    }\n",
       "\n",
       "    .dataframe tbody tr th {\n",
       "        vertical-align: top;\n",
       "    }\n",
       "\n",
       "    .dataframe thead th {\n",
       "        text-align: right;\n",
       "    }\n",
       "</style>\n",
       "<table border=\"1\" class=\"dataframe\">\n",
       "  <thead>\n",
       "    <tr style=\"text-align: right;\">\n",
       "      <th></th>\n",
       "      <th>date</th>\n",
       "      <th>vwreturn_RF_class_roll20_AC</th>\n",
       "    </tr>\n",
       "  </thead>\n",
       "  <tbody>\n",
       "    <tr>\n",
       "      <th>0</th>\n",
       "      <td>1933-01-31</td>\n",
       "      <td>0.005707</td>\n",
       "    </tr>\n",
       "    <tr>\n",
       "      <th>1</th>\n",
       "      <td>1933-02-28</td>\n",
       "      <td>0.065499</td>\n",
       "    </tr>\n",
       "    <tr>\n",
       "      <th>2</th>\n",
       "      <td>1933-03-31</td>\n",
       "      <td>0.026884</td>\n",
       "    </tr>\n",
       "    <tr>\n",
       "      <th>3</th>\n",
       "      <td>1933-04-30</td>\n",
       "      <td>-0.007553</td>\n",
       "    </tr>\n",
       "    <tr>\n",
       "      <th>4</th>\n",
       "      <td>1933-05-31</td>\n",
       "      <td>-0.003893</td>\n",
       "    </tr>\n",
       "  </tbody>\n",
       "</table>\n",
       "</div>"
      ],
      "text/plain": [
       "        date  vwreturn_RF_class_roll20_AC\n",
       "0 1933-01-31                     0.005707\n",
       "1 1933-02-28                     0.065499\n",
       "2 1933-03-31                     0.026884\n",
       "3 1933-04-30                    -0.007553\n",
       "4 1933-05-31                    -0.003893"
      ]
     },
     "execution_count": 13,
     "metadata": {},
     "output_type": "execute_result"
    }
   ],
   "source": [
    "vwreturns.head()"
   ]
  },
  {
   "cell_type": "markdown",
   "id": "7128c4d0",
   "metadata": {
    "papermill": {
     "duration": 0.019974,
     "end_time": "2024-02-21T12:50:38.987336",
     "exception": false,
     "start_time": "2024-02-21T12:50:38.967362",
     "status": "completed"
    },
    "tags": []
   },
   "source": [
    "### Compare to market data"
   ]
  },
  {
   "cell_type": "code",
   "execution_count": 14,
   "id": "794024fe",
   "metadata": {
    "execution": {
     "iopub.execute_input": "2024-02-21T12:50:39.029827Z",
     "iopub.status.busy": "2024-02-21T12:50:39.029152Z",
     "iopub.status.idle": "2024-02-21T12:50:39.053762Z",
     "shell.execute_reply": "2024-02-21T12:50:39.052910Z"
    },
    "papermill": {
     "duration": 0.048373,
     "end_time": "2024-02-21T12:50:39.056380",
     "exception": false,
     "start_time": "2024-02-21T12:50:39.008007",
     "status": "completed"
    },
    "tags": []
   },
   "outputs": [],
   "source": [
    "#market = pd.read_csv('FF3_clean.csv')\n",
    "market = pd.read_csv('/kaggle/input/sign-prediction-datasets/FF3_clean.csv')"
   ]
  },
  {
   "cell_type": "code",
   "execution_count": 15,
   "id": "61160ba7",
   "metadata": {
    "execution": {
     "iopub.execute_input": "2024-02-21T12:50:39.098797Z",
     "iopub.status.busy": "2024-02-21T12:50:39.098119Z",
     "iopub.status.idle": "2024-02-21T12:50:39.111064Z",
     "shell.execute_reply": "2024-02-21T12:50:39.110227Z"
    },
    "papermill": {
     "duration": 0.036231,
     "end_time": "2024-02-21T12:50:39.113307",
     "exception": false,
     "start_time": "2024-02-21T12:50:39.077076",
     "status": "completed"
    },
    "tags": []
   },
   "outputs": [
    {
     "data": {
      "text/html": [
       "<div>\n",
       "<style scoped>\n",
       "    .dataframe tbody tr th:only-of-type {\n",
       "        vertical-align: middle;\n",
       "    }\n",
       "\n",
       "    .dataframe tbody tr th {\n",
       "        vertical-align: top;\n",
       "    }\n",
       "\n",
       "    .dataframe thead th {\n",
       "        text-align: right;\n",
       "    }\n",
       "</style>\n",
       "<table border=\"1\" class=\"dataframe\">\n",
       "  <thead>\n",
       "    <tr style=\"text-align: right;\">\n",
       "      <th></th>\n",
       "      <th>date</th>\n",
       "      <th>Mkt-RF</th>\n",
       "      <th>SMB</th>\n",
       "      <th>HML</th>\n",
       "      <th>RF</th>\n",
       "    </tr>\n",
       "  </thead>\n",
       "  <tbody>\n",
       "    <tr>\n",
       "      <th>0</th>\n",
       "      <td>1926-07-31</td>\n",
       "      <td>2.96</td>\n",
       "      <td>-2.56</td>\n",
       "      <td>-2.43</td>\n",
       "      <td>0.22</td>\n",
       "    </tr>\n",
       "    <tr>\n",
       "      <th>1</th>\n",
       "      <td>1926-08-31</td>\n",
       "      <td>2.64</td>\n",
       "      <td>-1.17</td>\n",
       "      <td>3.82</td>\n",
       "      <td>0.25</td>\n",
       "    </tr>\n",
       "    <tr>\n",
       "      <th>2</th>\n",
       "      <td>1926-09-30</td>\n",
       "      <td>0.36</td>\n",
       "      <td>-1.40</td>\n",
       "      <td>0.13</td>\n",
       "      <td>0.23</td>\n",
       "    </tr>\n",
       "    <tr>\n",
       "      <th>3</th>\n",
       "      <td>1926-10-31</td>\n",
       "      <td>-3.24</td>\n",
       "      <td>-0.09</td>\n",
       "      <td>0.70</td>\n",
       "      <td>0.32</td>\n",
       "    </tr>\n",
       "    <tr>\n",
       "      <th>4</th>\n",
       "      <td>1926-11-30</td>\n",
       "      <td>2.53</td>\n",
       "      <td>-0.10</td>\n",
       "      <td>-0.51</td>\n",
       "      <td>0.31</td>\n",
       "    </tr>\n",
       "  </tbody>\n",
       "</table>\n",
       "</div>"
      ],
      "text/plain": [
       "         date  Mkt-RF   SMB   HML    RF\n",
       "0  1926-07-31    2.96 -2.56 -2.43  0.22\n",
       "1  1926-08-31    2.64 -1.17  3.82  0.25\n",
       "2  1926-09-30    0.36 -1.40  0.13  0.23\n",
       "3  1926-10-31   -3.24 -0.09  0.70  0.32\n",
       "4  1926-11-30    2.53 -0.10 -0.51  0.31"
      ]
     },
     "execution_count": 15,
     "metadata": {},
     "output_type": "execute_result"
    }
   ],
   "source": [
    "market.head()"
   ]
  },
  {
   "cell_type": "code",
   "execution_count": 16,
   "id": "5c05bcff",
   "metadata": {
    "execution": {
     "iopub.execute_input": "2024-02-21T12:50:39.236992Z",
     "iopub.status.busy": "2024-02-21T12:50:39.236228Z",
     "iopub.status.idle": "2024-02-21T12:50:39.256220Z",
     "shell.execute_reply": "2024-02-21T12:50:39.255238Z"
    },
    "papermill": {
     "duration": 0.044616,
     "end_time": "2024-02-21T12:50:39.258879",
     "exception": false,
     "start_time": "2024-02-21T12:50:39.214263",
     "status": "completed"
    },
    "tags": []
   },
   "outputs": [],
   "source": [
    "# create a new 'Mkt' which is a sum of Mkt-RF and RF\n",
    "market['Mkt'] = market['Mkt-RF'] + market['RF']\n",
    "\n",
    "# divide all columns by 100 except 'date'\n",
    "market.iloc[:, 1:] = market.iloc[:, 1:] / 100\n",
    "\n",
    "#set the 'date' column to datetime format\n",
    "market['date'] = pd.to_datetime(market['date'])\n",
    "\n",
    "# merge the market data (only date and Mkt columns) with the vwreturns DataFrame\n",
    "vwreturns = vwreturns.merge(market[['date', 'Mkt']], on='date', how='left')\n",
    "\n",
    "# transform all columns (except 'date') to a log: log(x+1) and save the result as lvwreturns\n",
    "lvwreturns = vwreturns.copy()\n",
    "lvwreturns.iloc[:, 1:] = np.log(vwreturns.iloc[:, 1:] + 1)"
   ]
  },
  {
   "cell_type": "code",
   "execution_count": 17,
   "id": "54aa5754",
   "metadata": {
    "execution": {
     "iopub.execute_input": "2024-02-21T12:50:39.301251Z",
     "iopub.status.busy": "2024-02-21T12:50:39.300547Z",
     "iopub.status.idle": "2024-02-21T12:50:39.312175Z",
     "shell.execute_reply": "2024-02-21T12:50:39.310788Z"
    },
    "papermill": {
     "duration": 0.035885,
     "end_time": "2024-02-21T12:50:39.314928",
     "exception": false,
     "start_time": "2024-02-21T12:50:39.279043",
     "status": "completed"
    },
    "tags": []
   },
   "outputs": [
    {
     "data": {
      "text/html": [
       "<div>\n",
       "<style scoped>\n",
       "    .dataframe tbody tr th:only-of-type {\n",
       "        vertical-align: middle;\n",
       "    }\n",
       "\n",
       "    .dataframe tbody tr th {\n",
       "        vertical-align: top;\n",
       "    }\n",
       "\n",
       "    .dataframe thead th {\n",
       "        text-align: right;\n",
       "    }\n",
       "</style>\n",
       "<table border=\"1\" class=\"dataframe\">\n",
       "  <thead>\n",
       "    <tr style=\"text-align: right;\">\n",
       "      <th></th>\n",
       "      <th>date</th>\n",
       "      <th>vwreturn_RF_class_roll20_AC</th>\n",
       "      <th>Mkt</th>\n",
       "    </tr>\n",
       "  </thead>\n",
       "  <tbody>\n",
       "    <tr>\n",
       "      <th>0</th>\n",
       "      <td>1933-01-31</td>\n",
       "      <td>0.005707</td>\n",
       "      <td>0.0126</td>\n",
       "    </tr>\n",
       "    <tr>\n",
       "      <th>1</th>\n",
       "      <td>1933-02-28</td>\n",
       "      <td>0.065499</td>\n",
       "      <td>-0.1527</td>\n",
       "    </tr>\n",
       "    <tr>\n",
       "      <th>2</th>\n",
       "      <td>1933-03-31</td>\n",
       "      <td>0.026884</td>\n",
       "      <td>0.0333</td>\n",
       "    </tr>\n",
       "    <tr>\n",
       "      <th>3</th>\n",
       "      <td>1933-04-30</td>\n",
       "      <td>-0.007553</td>\n",
       "      <td>0.3895</td>\n",
       "    </tr>\n",
       "    <tr>\n",
       "      <th>4</th>\n",
       "      <td>1933-05-31</td>\n",
       "      <td>-0.003893</td>\n",
       "      <td>0.2147</td>\n",
       "    </tr>\n",
       "  </tbody>\n",
       "</table>\n",
       "</div>"
      ],
      "text/plain": [
       "        date  vwreturn_RF_class_roll20_AC     Mkt\n",
       "0 1933-01-31                     0.005707  0.0126\n",
       "1 1933-02-28                     0.065499 -0.1527\n",
       "2 1933-03-31                     0.026884  0.0333\n",
       "3 1933-04-30                    -0.007553  0.3895\n",
       "4 1933-05-31                    -0.003893  0.2147"
      ]
     },
     "execution_count": 17,
     "metadata": {},
     "output_type": "execute_result"
    }
   ],
   "source": [
    "vwreturns.head()"
   ]
  },
  {
   "cell_type": "code",
   "execution_count": 18,
   "id": "b7dceecb",
   "metadata": {
    "execution": {
     "iopub.execute_input": "2024-02-21T12:50:39.358703Z",
     "iopub.status.busy": "2024-02-21T12:50:39.358277Z",
     "iopub.status.idle": "2024-02-21T12:50:39.370209Z",
     "shell.execute_reply": "2024-02-21T12:50:39.368976Z"
    },
    "papermill": {
     "duration": 0.036681,
     "end_time": "2024-02-21T12:50:39.372688",
     "exception": false,
     "start_time": "2024-02-21T12:50:39.336007",
     "status": "completed"
    },
    "tags": []
   },
   "outputs": [
    {
     "data": {
      "text/html": [
       "<div>\n",
       "<style scoped>\n",
       "    .dataframe tbody tr th:only-of-type {\n",
       "        vertical-align: middle;\n",
       "    }\n",
       "\n",
       "    .dataframe tbody tr th {\n",
       "        vertical-align: top;\n",
       "    }\n",
       "\n",
       "    .dataframe thead th {\n",
       "        text-align: right;\n",
       "    }\n",
       "</style>\n",
       "<table border=\"1\" class=\"dataframe\">\n",
       "  <thead>\n",
       "    <tr style=\"text-align: right;\">\n",
       "      <th></th>\n",
       "      <th>date</th>\n",
       "      <th>vwreturn_RF_class_roll20_AC</th>\n",
       "      <th>Mkt</th>\n",
       "    </tr>\n",
       "  </thead>\n",
       "  <tbody>\n",
       "    <tr>\n",
       "      <th>0</th>\n",
       "      <td>1933-01-31</td>\n",
       "      <td>0.005691</td>\n",
       "      <td>0.012521</td>\n",
       "    </tr>\n",
       "    <tr>\n",
       "      <th>1</th>\n",
       "      <td>1933-02-28</td>\n",
       "      <td>0.063444</td>\n",
       "      <td>-0.165700</td>\n",
       "    </tr>\n",
       "    <tr>\n",
       "      <th>2</th>\n",
       "      <td>1933-03-31</td>\n",
       "      <td>0.026529</td>\n",
       "      <td>0.032758</td>\n",
       "    </tr>\n",
       "    <tr>\n",
       "      <th>3</th>\n",
       "      <td>1933-04-30</td>\n",
       "      <td>-0.007582</td>\n",
       "      <td>0.328944</td>\n",
       "    </tr>\n",
       "    <tr>\n",
       "      <th>4</th>\n",
       "      <td>1933-05-31</td>\n",
       "      <td>-0.003901</td>\n",
       "      <td>0.194497</td>\n",
       "    </tr>\n",
       "  </tbody>\n",
       "</table>\n",
       "</div>"
      ],
      "text/plain": [
       "        date  vwreturn_RF_class_roll20_AC       Mkt\n",
       "0 1933-01-31                     0.005691  0.012521\n",
       "1 1933-02-28                     0.063444 -0.165700\n",
       "2 1933-03-31                     0.026529  0.032758\n",
       "3 1933-04-30                    -0.007582  0.328944\n",
       "4 1933-05-31                    -0.003901  0.194497"
      ]
     },
     "execution_count": 18,
     "metadata": {},
     "output_type": "execute_result"
    }
   ],
   "source": [
    "lvwreturns.head()"
   ]
  },
  {
   "cell_type": "code",
   "execution_count": 19,
   "id": "02d68c7e",
   "metadata": {
    "execution": {
     "iopub.execute_input": "2024-02-21T12:50:39.417281Z",
     "iopub.status.busy": "2024-02-21T12:50:39.416078Z",
     "iopub.status.idle": "2024-02-21T12:50:39.436907Z",
     "shell.execute_reply": "2024-02-21T12:50:39.435812Z"
    },
    "papermill": {
     "duration": 0.046365,
     "end_time": "2024-02-21T12:50:39.439976",
     "exception": false,
     "start_time": "2024-02-21T12:50:39.393611",
     "status": "completed"
    },
    "tags": []
   },
   "outputs": [
    {
     "data": {
      "text/html": [
       "<div>\n",
       "<style scoped>\n",
       "    .dataframe tbody tr th:only-of-type {\n",
       "        vertical-align: middle;\n",
       "    }\n",
       "\n",
       "    .dataframe tbody tr th {\n",
       "        vertical-align: top;\n",
       "    }\n",
       "\n",
       "    .dataframe thead th {\n",
       "        text-align: right;\n",
       "    }\n",
       "</style>\n",
       "<table border=\"1\" class=\"dataframe\">\n",
       "  <thead>\n",
       "    <tr style=\"text-align: right;\">\n",
       "      <th></th>\n",
       "      <th>date</th>\n",
       "      <th>vwreturn_RF_class_roll20_AC</th>\n",
       "      <th>Mkt</th>\n",
       "    </tr>\n",
       "  </thead>\n",
       "  <tbody>\n",
       "    <tr>\n",
       "      <th>count</th>\n",
       "      <td>1074</td>\n",
       "      <td>1074.000000</td>\n",
       "      <td>1074.000000</td>\n",
       "    </tr>\n",
       "    <tr>\n",
       "      <th>mean</th>\n",
       "      <td>1977-11-05 12:12:04.022346368</td>\n",
       "      <td>0.011743</td>\n",
       "      <td>0.008968</td>\n",
       "    </tr>\n",
       "    <tr>\n",
       "      <th>min</th>\n",
       "      <td>1933-01-31 00:00:00</td>\n",
       "      <td>-0.018638</td>\n",
       "      <td>-0.272203</td>\n",
       "    </tr>\n",
       "    <tr>\n",
       "      <th>25%</th>\n",
       "      <td>1955-06-07 12:00:00</td>\n",
       "      <td>0.004178</td>\n",
       "      <td>-0.017248</td>\n",
       "    </tr>\n",
       "    <tr>\n",
       "      <th>50%</th>\n",
       "      <td>1977-11-15 00:00:00</td>\n",
       "      <td>0.009243</td>\n",
       "      <td>0.013064</td>\n",
       "    </tr>\n",
       "    <tr>\n",
       "      <th>75%</th>\n",
       "      <td>2000-03-23 06:00:00</td>\n",
       "      <td>0.015187</td>\n",
       "      <td>0.038162</td>\n",
       "    </tr>\n",
       "    <tr>\n",
       "      <th>max</th>\n",
       "      <td>2022-07-31 00:00:00</td>\n",
       "      <td>0.099552</td>\n",
       "      <td>0.328944</td>\n",
       "    </tr>\n",
       "    <tr>\n",
       "      <th>std</th>\n",
       "      <td>NaN</td>\n",
       "      <td>0.011705</td>\n",
       "      <td>0.048186</td>\n",
       "    </tr>\n",
       "  </tbody>\n",
       "</table>\n",
       "</div>"
      ],
      "text/plain": [
       "                                date  vwreturn_RF_class_roll20_AC          Mkt\n",
       "count                           1074                  1074.000000  1074.000000\n",
       "mean   1977-11-05 12:12:04.022346368                     0.011743     0.008968\n",
       "min              1933-01-31 00:00:00                    -0.018638    -0.272203\n",
       "25%              1955-06-07 12:00:00                     0.004178    -0.017248\n",
       "50%              1977-11-15 00:00:00                     0.009243     0.013064\n",
       "75%              2000-03-23 06:00:00                     0.015187     0.038162\n",
       "max              2022-07-31 00:00:00                     0.099552     0.328944\n",
       "std                              NaN                     0.011705     0.048186"
      ]
     },
     "execution_count": 19,
     "metadata": {},
     "output_type": "execute_result"
    }
   ],
   "source": [
    "lvwreturns.describe()"
   ]
  },
  {
   "cell_type": "code",
   "execution_count": 20,
   "id": "f1d0a074",
   "metadata": {
    "execution": {
     "iopub.execute_input": "2024-02-21T12:50:39.486169Z",
     "iopub.status.busy": "2024-02-21T12:50:39.485399Z",
     "iopub.status.idle": "2024-02-21T12:50:39.492124Z",
     "shell.execute_reply": "2024-02-21T12:50:39.490968Z"
    },
    "papermill": {
     "duration": 0.032418,
     "end_time": "2024-02-21T12:50:39.494669",
     "exception": false,
     "start_time": "2024-02-21T12:50:39.462251",
     "status": "completed"
    },
    "tags": []
   },
   "outputs": [],
   "source": [
    "## plot histograms of the value-weighted returns for each model and the market in lvwreturns\n",
    "#plt.figure(figsize=(12, round(len(prediction_cols)/2) * 5 ))\n",
    "#\n",
    "#for i, pred_col in enumerate(prediction_cols):\n",
    "#    plt.subplot(len(prediction_cols)/2 +1, 2, i+1)\n",
    "#    plt.hist(lvwreturns[f'vwreturn_{pred_col}'], bins=50, color='skyblue', edgecolor='black')\n",
    "#    plt.title(f'Value-Weighted Return - {pred_col}')\n",
    "#    plt.xlabel('Value-Weighted Return')\n",
    "#    plt.ylabel('Frequency')\n",
    "#    # calculate mean, skewness and kurtosis and add their values to the plot as a text, aligning to the top right corner\n",
    "#    mean = lvwreturns[f'vwreturn_{pred_col}'].mean()\n",
    "#    skewness = lvwreturns[f'vwreturn_{pred_col}'].skew()\n",
    "#    kurtosis = lvwreturns[f'vwreturn_{pred_col}'].kurtosis()\n",
    "#\n",
    "#    plt.text(0.95, 0.95, f'Mean: {mean:.4f}\\nSkewness: {skewness:.4f}\\nKurtosis: {kurtosis:.4f}', ha='right', va='top', transform=plt.gca().transAxes)\n",
    "#\n",
    "#\n",
    "#\n",
    "#plt.subplot(round(len(prediction_cols)/2) +1, 2, len(prediction_cols)+1)\n",
    "#plt.title('Value-Weighted Return - Market')\n",
    "#plt.xlabel('Value-Weighted Return')\n",
    "#plt.ylabel('Frequency')\n",
    "#plt.hist(lvwreturns['Mkt'], bins=50, color='skyblue', edgecolor='black')\n",
    "#mean = lvwreturns['Mkt'].mean()\n",
    "#skewness = lvwreturns['Mkt'].skew()\n",
    "#kurtosis = lvwreturns['Mkt'].kurtosis()\n",
    "#plt.text(0.95, 0.95, f'Mean: {mean:.4f}\\nSkewness: {skewness:.4f}\\nKurtosis: {kurtosis:.4f}', ha='right', va='top', transform=plt.gca().transAxes)\n",
    "#\n",
    "#plt.tight_layout()\n",
    "#plt.show()\n",
    "#"
   ]
  },
  {
   "cell_type": "code",
   "execution_count": 21,
   "id": "fb93ec71",
   "metadata": {
    "execution": {
     "iopub.execute_input": "2024-02-21T12:50:39.538709Z",
     "iopub.status.busy": "2024-02-21T12:50:39.538346Z",
     "iopub.status.idle": "2024-02-21T12:50:39.543005Z",
     "shell.execute_reply": "2024-02-21T12:50:39.541673Z"
    },
    "papermill": {
     "duration": 0.029674,
     "end_time": "2024-02-21T12:50:39.545359",
     "exception": false,
     "start_time": "2024-02-21T12:50:39.515685",
     "status": "completed"
    },
    "tags": []
   },
   "outputs": [],
   "source": [
    "## plot cumulative sums of the value-weighted log returns\n",
    "#plt.figure(figsize=(12, 6))\n",
    "#plt.plot(lvwreturns['date'], lvwreturns.iloc[:, 1:].cumsum())\n",
    "#plt.title('Cumulative Value-Weighted Log Returns')\n",
    "#plt.xlabel('Date')\n",
    "#plt.ylabel('Cumulative Value-Weighted Log Returns')\n",
    "#plt.legend(prediction_cols + ['Market'])\n",
    "#plt.show()\n"
   ]
  },
  {
   "cell_type": "code",
   "execution_count": 22,
   "id": "f49796f8",
   "metadata": {
    "execution": {
     "iopub.execute_input": "2024-02-21T12:50:39.589634Z",
     "iopub.status.busy": "2024-02-21T12:50:39.589267Z",
     "iopub.status.idle": "2024-02-21T12:50:41.128843Z",
     "shell.execute_reply": "2024-02-21T12:50:41.127972Z"
    },
    "papermill": {
     "duration": 1.564918,
     "end_time": "2024-02-21T12:50:41.131566",
     "exception": false,
     "start_time": "2024-02-21T12:50:39.566648",
     "status": "completed"
    },
    "tags": []
   },
   "outputs": [],
   "source": [
    "# save the lvwreturns and portfolio DataFrame to a parquet file into 'outputs' folder\n",
    "\n",
    "# for reproducibility and visualization purposes\n",
    "lvwreturns.to_parquet('base_lvwreturns_class_ac31.parquet')\n",
    "portfolio.to_parquet('base_portfolio_class_ac31.parquet')\n",
    "\n",
    "# save vwreturns DataFrame to a .dta file into 'outputs' folder\n",
    "#vwreturns.to_stata('outputs/vwreturns.dta') # for backtasting in R - we need normal returns, not log returns\n"
   ]
  }
 ],
 "metadata": {
  "kaggle": {
   "accelerator": "none",
   "dataSources": [
    {
     "datasetId": 4464890,
     "sourceId": 7657795,
     "sourceType": "datasetVersion"
    }
   ],
   "dockerImageVersionId": 30646,
   "isGpuEnabled": false,
   "isInternetEnabled": true,
   "language": "python",
   "sourceType": "notebook"
  },
  "kernelspec": {
   "display_name": "base",
   "language": "python",
   "name": "python3"
  },
  "language_info": {
   "codemirror_mode": {
    "name": "ipython",
    "version": 3
   },
   "file_extension": ".py",
   "mimetype": "text/x-python",
   "name": "python",
   "nbconvert_exporter": "python",
   "pygments_lexer": "ipython3",
   "version": "3.10.13"
  },
  "papermill": {
   "default_parameters": {},
   "duration": 11184.474503,
   "end_time": "2024-02-21T12:50:42.002253",
   "environment_variables": {},
   "exception": null,
   "input_path": "__notebook__.ipynb",
   "output_path": "__notebook__.ipynb",
   "parameters": {},
   "start_time": "2024-02-21T09:44:17.527750",
   "version": "2.5.0"
  }
 },
 "nbformat": 4,
 "nbformat_minor": 5
}
