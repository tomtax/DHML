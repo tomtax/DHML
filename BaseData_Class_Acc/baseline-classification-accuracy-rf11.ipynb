{
 "cells": [
  {
   "cell_type": "markdown",
   "id": "a4182f6a",
   "metadata": {
    "papermill": {
     "duration": 0.010735,
     "end_time": "2024-02-21T18:50:27.199844",
     "exception": false,
     "start_time": "2024-02-21T18:50:27.189109",
     "status": "completed"
    },
    "tags": []
   },
   "source": [
    "# Framework for predictions and portfolio forming"
   ]
  },
  {
   "cell_type": "code",
   "execution_count": 1,
   "id": "d860ae21",
   "metadata": {
    "execution": {
     "iopub.execute_input": "2024-02-21T18:50:27.216089Z",
     "iopub.status.busy": "2024-02-21T18:50:27.215679Z",
     "iopub.status.idle": "2024-02-21T18:50:29.435577Z",
     "shell.execute_reply": "2024-02-21T18:50:29.434699Z"
    },
    "papermill": {
     "duration": 2.23069,
     "end_time": "2024-02-21T18:50:29.437990",
     "exception": false,
     "start_time": "2024-02-21T18:50:27.207300",
     "status": "completed"
    },
    "tags": []
   },
   "outputs": [],
   "source": [
    "import numpy as np\n",
    "import pandas as pd\n",
    "pd.set_option('display.max_columns', None)\n",
    "import matplotlib.pyplot as plt\n",
    "import seaborn as sns\n",
    "import datetime as dt\n",
    "import time\n",
    "\n",
    "# import the parquet library\n",
    "import pyarrow.parquet as pq\n",
    "\n",
    "# import model libraries\n",
    "from sklearn.preprocessing import StandardScaler, MinMaxScaler\n",
    "from sklearn.linear_model import LogisticRegression, LinearRegression\n",
    "from sklearn.tree import DecisionTreeClassifier, DecisionTreeRegressor\n",
    "from sklearn.ensemble import RandomForestClassifier, RandomForestRegressor\n",
    "from sklearn.metrics import mean_squared_error, accuracy_score"
   ]
  },
  {
   "cell_type": "code",
   "execution_count": 2,
   "id": "a33586dc",
   "metadata": {
    "execution": {
     "iopub.execute_input": "2024-02-21T18:50:29.454256Z",
     "iopub.status.busy": "2024-02-21T18:50:29.453782Z",
     "iopub.status.idle": "2024-02-21T18:50:30.539907Z",
     "shell.execute_reply": "2024-02-21T18:50:30.538882Z"
    },
    "papermill": {
     "duration": 1.096876,
     "end_time": "2024-02-21T18:50:30.542173",
     "exception": false,
     "start_time": "2024-02-21T18:50:29.445297",
     "status": "completed"
    },
    "tags": []
   },
   "outputs": [
    {
     "data": {
      "text/html": [
       "<div>\n",
       "<style scoped>\n",
       "    .dataframe tbody tr th:only-of-type {\n",
       "        vertical-align: middle;\n",
       "    }\n",
       "\n",
       "    .dataframe tbody tr th {\n",
       "        vertical-align: top;\n",
       "    }\n",
       "\n",
       "    .dataframe thead th {\n",
       "        text-align: right;\n",
       "    }\n",
       "</style>\n",
       "<table border=\"1\" class=\"dataframe\">\n",
       "  <thead>\n",
       "    <tr style=\"text-align: right;\">\n",
       "      <th></th>\n",
       "      <th>PERMNO</th>\n",
       "      <th>date</th>\n",
       "      <th>RET</th>\n",
       "      <th>ME</th>\n",
       "      <th>bull_D</th>\n",
       "      <th>bear_D</th>\n",
       "      <th>bull_W</th>\n",
       "      <th>bear_W</th>\n",
       "      <th>bull_M</th>\n",
       "      <th>bear_M</th>\n",
       "      <th>LMKT</th>\n",
       "      <th>IVOL</th>\n",
       "      <th>y</th>\n",
       "    </tr>\n",
       "  </thead>\n",
       "  <tbody>\n",
       "    <tr>\n",
       "      <th>0</th>\n",
       "      <td>10000</td>\n",
       "      <td>1986-02-28</td>\n",
       "      <td>-0.257143</td>\n",
       "      <td>11960.00000</td>\n",
       "      <td>0.0</td>\n",
       "      <td>0.0</td>\n",
       "      <td>0.0</td>\n",
       "      <td>1.0</td>\n",
       "      <td>0</td>\n",
       "      <td>0</td>\n",
       "      <td>0.0121</td>\n",
       "      <td>0.004058</td>\n",
       "      <td>0</td>\n",
       "    </tr>\n",
       "    <tr>\n",
       "      <th>1</th>\n",
       "      <td>10000</td>\n",
       "      <td>1986-03-31</td>\n",
       "      <td>0.365385</td>\n",
       "      <td>16330.00000</td>\n",
       "      <td>0.0</td>\n",
       "      <td>0.0</td>\n",
       "      <td>0.0</td>\n",
       "      <td>0.0</td>\n",
       "      <td>0</td>\n",
       "      <td>0</td>\n",
       "      <td>0.0766</td>\n",
       "      <td>0.000973</td>\n",
       "      <td>1</td>\n",
       "    </tr>\n",
       "    <tr>\n",
       "      <th>2</th>\n",
       "      <td>10000</td>\n",
       "      <td>1986-04-30</td>\n",
       "      <td>-0.098592</td>\n",
       "      <td>15172.00000</td>\n",
       "      <td>0.0</td>\n",
       "      <td>1.0</td>\n",
       "      <td>0.0</td>\n",
       "      <td>0.0</td>\n",
       "      <td>0</td>\n",
       "      <td>0</td>\n",
       "      <td>0.0548</td>\n",
       "      <td>0.001993</td>\n",
       "      <td>0</td>\n",
       "    </tr>\n",
       "    <tr>\n",
       "      <th>3</th>\n",
       "      <td>10000</td>\n",
       "      <td>1986-05-31</td>\n",
       "      <td>-0.222656</td>\n",
       "      <td>11793.87834</td>\n",
       "      <td>0.0</td>\n",
       "      <td>0.0</td>\n",
       "      <td>0.0</td>\n",
       "      <td>0.0</td>\n",
       "      <td>0</td>\n",
       "      <td>1</td>\n",
       "      <td>-0.0079</td>\n",
       "      <td>0.000163</td>\n",
       "      <td>0</td>\n",
       "    </tr>\n",
       "    <tr>\n",
       "      <th>4</th>\n",
       "      <td>10000</td>\n",
       "      <td>1986-06-30</td>\n",
       "      <td>-0.005025</td>\n",
       "      <td>11734.59375</td>\n",
       "      <td>0.0</td>\n",
       "      <td>0.0</td>\n",
       "      <td>0.0</td>\n",
       "      <td>0.0</td>\n",
       "      <td>0</td>\n",
       "      <td>2</td>\n",
       "      <td>0.0511</td>\n",
       "      <td>0.001569</td>\n",
       "      <td>0</td>\n",
       "    </tr>\n",
       "  </tbody>\n",
       "</table>\n",
       "</div>"
      ],
      "text/plain": [
       "   PERMNO       date       RET           ME  bull_D  bear_D  bull_W  bear_W  \\\n",
       "0   10000 1986-02-28 -0.257143  11960.00000     0.0     0.0     0.0     1.0   \n",
       "1   10000 1986-03-31  0.365385  16330.00000     0.0     0.0     0.0     0.0   \n",
       "2   10000 1986-04-30 -0.098592  15172.00000     0.0     1.0     0.0     0.0   \n",
       "3   10000 1986-05-31 -0.222656  11793.87834     0.0     0.0     0.0     0.0   \n",
       "4   10000 1986-06-30 -0.005025  11734.59375     0.0     0.0     0.0     0.0   \n",
       "\n",
       "   bull_M  bear_M    LMKT      IVOL  y  \n",
       "0       0       0  0.0121  0.004058  0  \n",
       "1       0       0  0.0766  0.000973  1  \n",
       "2       0       0  0.0548  0.001993  0  \n",
       "3       0       1 -0.0079  0.000163  0  \n",
       "4       0       2  0.0511  0.001569  0  "
      ]
     },
     "execution_count": 2,
     "metadata": {},
     "output_type": "execute_result"
    }
   ],
   "source": [
    "# load 'basemodel.parquet'\n",
    "#df = pd.read_parquet('basemodel.parquet')\n",
    "df = pd.read_parquet('/kaggle/input/sign-prediction-datasets/basemodel.parquet')\n",
    "prediction_cols = []\n",
    "df.head()"
   ]
  },
  {
   "cell_type": "code",
   "execution_count": 3,
   "id": "82a85c07",
   "metadata": {
    "execution": {
     "iopub.execute_input": "2024-02-21T18:50:30.558255Z",
     "iopub.status.busy": "2024-02-21T18:50:30.557922Z",
     "iopub.status.idle": "2024-02-21T18:50:30.562085Z",
     "shell.execute_reply": "2024-02-21T18:50:30.561251Z"
    },
    "papermill": {
     "duration": 0.014436,
     "end_time": "2024-02-21T18:50:30.564176",
     "exception": false,
     "start_time": "2024-02-21T18:50:30.549740",
     "status": "completed"
    },
    "tags": []
   },
   "outputs": [],
   "source": [
    "# select the columns to be used for prediction\n",
    "X_col = ['bull_D', 'bear_D', 'bull_W', 'bear_W', 'bull_M', 'bear_M', 'LMKT', 'IVOL']"
   ]
  },
  {
   "cell_type": "code",
   "execution_count": 4,
   "id": "36465890",
   "metadata": {
    "execution": {
     "iopub.execute_input": "2024-02-21T18:50:30.580258Z",
     "iopub.status.busy": "2024-02-21T18:50:30.579957Z",
     "iopub.status.idle": "2024-02-21T18:50:31.345791Z",
     "shell.execute_reply": "2024-02-21T18:50:31.344991Z"
    },
    "papermill": {
     "duration": 0.776295,
     "end_time": "2024-02-21T18:50:31.348067",
     "exception": false,
     "start_time": "2024-02-21T18:50:30.571772",
     "status": "completed"
    },
    "tags": []
   },
   "outputs": [],
   "source": [
    "# Convert 'date' to datetime format (if not already done) and sort the DataFrame\n",
    "df['date'] = pd.to_datetime(df['date'])\n",
    "df.sort_values(by='date', inplace=True)\n",
    "df.reset_index(drop=True, inplace=True)\n",
    "\n",
    "# Create a 'year' column based on the 'date' column\n",
    "df['year'] = df['date'].dt.year"
   ]
  },
  {
   "cell_type": "markdown",
   "id": "dfbf90f6",
   "metadata": {
    "papermill": {
     "duration": 0.007262,
     "end_time": "2024-02-21T18:50:31.362804",
     "exception": false,
     "start_time": "2024-02-21T18:50:31.355542",
     "status": "completed"
    },
    "tags": []
   },
   "source": [
    "# Paper Replication - OLS and Logit, Expanding Window - No Hyperparameters\n",
    "- They start with out of sample forecasting in 1932\n",
    "- models will be named model_default"
   ]
  },
  {
   "cell_type": "markdown",
   "id": "240333aa",
   "metadata": {
    "papermill": {
     "duration": 0.007839,
     "end_time": "2024-02-21T18:50:31.377827",
     "exception": false,
     "start_time": "2024-02-21T18:50:31.369988",
     "status": "completed"
    },
    "tags": []
   },
   "source": [
    "# My Experiments"
   ]
  },
  {
   "cell_type": "markdown",
   "id": "fa48b60e",
   "metadata": {
    "papermill": {
     "duration": 0.007233,
     "end_time": "2024-02-21T18:50:31.392345",
     "exception": false,
     "start_time": "2024-02-21T18:50:31.385112",
     "status": "completed"
    },
    "tags": []
   },
   "source": [
    "## Machine Learning - Hyperparameter Tuning included in the process\n",
    "- models to be named 'model_clas/reg_exp/roll'"
   ]
  },
  {
   "cell_type": "markdown",
   "id": "b7b1ba9c",
   "metadata": {
    "papermill": {
     "duration": 0.007399,
     "end_time": "2024-02-21T18:50:31.407833",
     "exception": false,
     "start_time": "2024-02-21T18:50:31.400434",
     "status": "completed"
    },
    "tags": []
   },
   "source": [
    "### Expanding Window Estimation"
   ]
  },
  {
   "cell_type": "markdown",
   "id": "5445ca72",
   "metadata": {
    "papermill": {
     "duration": 0.007006,
     "end_time": "2024-02-21T18:50:31.421948",
     "exception": false,
     "start_time": "2024-02-21T18:50:31.414942",
     "status": "completed"
    },
    "tags": []
   },
   "source": [
    "##### Accuracy as evaluation metric"
   ]
  },
  {
   "cell_type": "code",
   "execution_count": 5,
   "id": "0028dd1d",
   "metadata": {
    "execution": {
     "iopub.execute_input": "2024-02-21T18:50:31.438059Z",
     "iopub.status.busy": "2024-02-21T18:50:31.437448Z",
     "iopub.status.idle": "2024-02-21T23:48:39.855576Z",
     "shell.execute_reply": "2024-02-21T23:48:39.854599Z"
    },
    "papermill": {
     "duration": 17888.442895,
     "end_time": "2024-02-21T23:48:39.871970",
     "exception": false,
     "start_time": "2024-02-21T18:50:31.429075",
     "status": "completed"
    },
    "tags": []
   },
   "outputs": [
    {
     "name": "stdout",
     "output_type": "stream",
     "text": [
      "Year 1932 - Best n_estimators: 50, Best max_depth: 10, Best Accuracy: 0.89, Time: 3.82 seconds\n",
      "Year 1933 - Best n_estimators: 50, Best max_depth: 15, Best Accuracy: 0.86, Time: 4.34 seconds\n",
      "Year 1934 - Best n_estimators: 10, Best max_depth: 10, Best Accuracy: 0.89, Time: 4.49 seconds\n",
      "Year 1935 - Best n_estimators: 100, Best max_depth: 10, Best Accuracy: 0.85, Time: 6.27 seconds\n",
      "Year 1936 - Best n_estimators: 100, Best max_depth: 5, Best Accuracy: 0.83, Time: 6.43 seconds\n",
      "Year 1937 - Best n_estimators: 10, Best max_depth: 10, Best Accuracy: 0.85, Time: 7.07 seconds\n",
      "Year 1938 - Best n_estimators: 10, Best max_depth: 5, Best Accuracy: 0.89, Time: 6.99 seconds\n",
      "Year 1939 - Best n_estimators: 100, Best max_depth: 10, Best Accuracy: 0.88, Time: 9.22 seconds\n",
      "Year 1940 - Best n_estimators: 50, Best max_depth: 10, Best Accuracy: 0.9, Time: 9.16 seconds\n",
      "Year 1941 - Best n_estimators: 100, Best max_depth: 10, Best Accuracy: 0.83, Time: 11.57 seconds\n",
      "Year 1942 - Best n_estimators: 100, Best max_depth: 10, Best Accuracy: 0.82, Time: 13.16 seconds\n",
      "Year 1943 - Best n_estimators: 100, Best max_depth: 10, Best Accuracy: 0.84, Time: 13.13 seconds\n",
      "Year 1944 - Best n_estimators: 50, Best max_depth: 10, Best Accuracy: 0.88, Time: 12.56 seconds\n",
      "Year 1945 - Best n_estimators: 50, Best max_depth: 15, Best Accuracy: 0.84, Time: 13.97 seconds\n",
      "Year 1946 - Best n_estimators: 100, Best max_depth: 15, Best Accuracy: 0.9, Time: 16.97 seconds\n",
      "Year 1947 - Best n_estimators: 10, Best max_depth: 5, Best Accuracy: 0.86, Time: 14.08 seconds\n",
      "Year 1948 - Best n_estimators: 100, Best max_depth: 10, Best Accuracy: 0.83, Time: 18.18 seconds\n",
      "Year 1949 - Best n_estimators: 10, Best max_depth: 15, Best Accuracy: 0.89, Time: 16.73 seconds\n",
      "Year 1950 - Best n_estimators: 10, Best max_depth: 15, Best Accuracy: 0.81, Time: 17.22 seconds\n",
      "Year 1951 - Best n_estimators: 100, Best max_depth: 15, Best Accuracy: 0.86, Time: 23.12 seconds\n",
      "Year 1952 - Best n_estimators: 10, Best max_depth: 10, Best Accuracy: 0.87, Time: 19.12 seconds\n",
      "Year 1953 - Best n_estimators: 50, Best max_depth: 10, Best Accuracy: 0.86, Time: 22.45 seconds\n",
      "Year 1954 - Best n_estimators: 100, Best max_depth: 10, Best Accuracy: 0.84, Time: 26.15 seconds\n",
      "Year 1955 - Best n_estimators: 100, Best max_depth: 15, Best Accuracy: 0.86, Time: 28.90 seconds\n",
      "Year 1956 - Best n_estimators: 100, Best max_depth: 10, Best Accuracy: 0.84, Time: 29.31 seconds\n",
      "Year 1957 - Best n_estimators: 10, Best max_depth: 15, Best Accuracy: 0.86, Time: 26.02 seconds\n",
      "Year 1958 - Best n_estimators: 10, Best max_depth: 5, Best Accuracy: 0.85, Time: 26.79 seconds\n",
      "Year 1959 - Best n_estimators: 50, Best max_depth: 10, Best Accuracy: 0.87, Time: 30.89 seconds\n",
      "Year 1960 - Best n_estimators: 50, Best max_depth: 15, Best Accuracy: 0.84, Time: 33.17 seconds\n",
      "Year 1961 - Best n_estimators: 10, Best max_depth: 10, Best Accuracy: 0.85, Time: 31.50 seconds\n",
      "Year 1962 - Best n_estimators: 100, Best max_depth: 10, Best Accuracy: 0.85, Time: 46.47 seconds\n",
      "Year 1963 - Best n_estimators: 50, Best max_depth: 15, Best Accuracy: 0.88, Time: 38.84 seconds\n",
      "Year 1964 - Best n_estimators: 10, Best max_depth: 10, Best Accuracy: 0.82, Time: 36.35 seconds\n",
      "Year 1965 - Best n_estimators: 50, Best max_depth: 10, Best Accuracy: 0.81, Time: 42.29 seconds\n",
      "Year 1966 - Best n_estimators: 100, Best max_depth: 10, Best Accuracy: 0.83, Time: 52.03 seconds\n",
      "Year 1967 - Best n_estimators: 50, Best max_depth: 15, Best Accuracy: 0.85, Time: 57.59 seconds\n",
      "Year 1968 - Best n_estimators: 50, Best max_depth: 15, Best Accuracy: 0.86, Time: 53.68 seconds\n",
      "Year 1969 - Best n_estimators: 50, Best max_depth: 10, Best Accuracy: 0.85, Time: 55.31 seconds\n",
      "Year 1970 - Best n_estimators: 100, Best max_depth: 5, Best Accuracy: 0.89, Time: 60.42 seconds\n",
      "Year 1971 - Best n_estimators: 50, Best max_depth: 5, Best Accuracy: 0.87, Time: 61.02 seconds\n",
      "Year 1972 - Best n_estimators: 50, Best max_depth: 15, Best Accuracy: 0.86, Time: 69.85 seconds\n",
      "Year 1973 - Best n_estimators: 50, Best max_depth: 10, Best Accuracy: 0.85, Time: 73.51 seconds\n",
      "Year 1974 - Best n_estimators: 100, Best max_depth: 5, Best Accuracy: 0.84, Time: 82.75 seconds\n",
      "Year 1975 - Best n_estimators: 10, Best max_depth: 5, Best Accuracy: 0.82, Time: 76.96 seconds\n",
      "Year 1976 - Best n_estimators: 10, Best max_depth: 5, Best Accuracy: 0.8, Time: 84.06 seconds\n",
      "Year 1977 - Best n_estimators: 50, Best max_depth: 10, Best Accuracy: 0.82, Time: 100.14 seconds\n",
      "Year 1978 - Best n_estimators: 50, Best max_depth: 5, Best Accuracy: 0.82, Time: 103.85 seconds\n",
      "Year 1979 - Best n_estimators: 50, Best max_depth: 10, Best Accuracy: 0.84, Time: 113.76 seconds\n",
      "Year 1980 - Best n_estimators: 100, Best max_depth: 10, Best Accuracy: 0.84, Time: 136.31 seconds\n",
      "Year 1981 - Best n_estimators: 100, Best max_depth: 15, Best Accuracy: 0.85, Time: 153.47 seconds\n",
      "Year 1982 - Best n_estimators: 10, Best max_depth: 15, Best Accuracy: 0.84, Time: 131.67 seconds\n",
      "Year 1983 - Best n_estimators: 100, Best max_depth: 5, Best Accuracy: 0.84, Time: 154.12 seconds\n",
      "Year 1984 - Best n_estimators: 100, Best max_depth: 5, Best Accuracy: 0.83, Time: 166.35 seconds\n",
      "Year 1985 - Best n_estimators: 100, Best max_depth: 10, Best Accuracy: 0.84, Time: 190.07 seconds\n",
      "Year 1986 - Best n_estimators: 100, Best max_depth: 10, Best Accuracy: 0.84, Time: 205.34 seconds\n",
      "Year 1987 - Best n_estimators: 100, Best max_depth: 15, Best Accuracy: 0.85, Time: 225.52 seconds\n",
      "Year 1988 - Best n_estimators: 50, Best max_depth: 10, Best Accuracy: 0.84, Time: 197.97 seconds\n",
      "Year 1989 - Best n_estimators: 100, Best max_depth: 10, Best Accuracy: 0.82, Time: 231.66 seconds\n",
      "Year 1990 - Best n_estimators: 10, Best max_depth: 15, Best Accuracy: 0.83, Time: 208.82 seconds\n",
      "Year 1991 - Best n_estimators: 100, Best max_depth: 15, Best Accuracy: 0.84, Time: 271.34 seconds\n",
      "Year 1992 - Best n_estimators: 100, Best max_depth: 10, Best Accuracy: 0.83, Time: 268.88 seconds\n",
      "Year 1993 - Best n_estimators: 50, Best max_depth: 15, Best Accuracy: 0.82, Time: 266.91 seconds\n",
      "Year 1994 - Best n_estimators: 100, Best max_depth: 10, Best Accuracy: 0.81, Time: 297.04 seconds\n",
      "Year 1995 - Best n_estimators: 10, Best max_depth: 10, Best Accuracy: 0.82, Time: 260.31 seconds\n",
      "Year 1996 - Best n_estimators: 100, Best max_depth: 10, Best Accuracy: 0.81, Time: 321.29 seconds\n",
      "Year 1997 - Best n_estimators: 100, Best max_depth: 15, Best Accuracy: 0.82, Time: 371.41 seconds\n",
      "Year 1998 - Best n_estimators: 100, Best max_depth: 10, Best Accuracy: 0.84, Time: 409.13 seconds\n",
      "Year 1999 - Best n_estimators: 100, Best max_depth: 10, Best Accuracy: 0.84, Time: 400.72 seconds\n",
      "Year 2000 - Best n_estimators: 50, Best max_depth: 5, Best Accuracy: 0.82, Time: 343.68 seconds\n",
      "Year 2001 - Best n_estimators: 50, Best max_depth: 10, Best Accuracy: 0.83, Time: 377.97 seconds\n",
      "Year 2002 - Best n_estimators: 10, Best max_depth: 10, Best Accuracy: 0.82, Time: 358.41 seconds\n",
      "Year 2003 - Best n_estimators: 50, Best max_depth: 15, Best Accuracy: 0.84, Time: 409.40 seconds\n",
      "Year 2004 - Best n_estimators: 10, Best max_depth: 15, Best Accuracy: 0.83, Time: 381.23 seconds\n",
      "Year 2005 - Best n_estimators: 10, Best max_depth: 15, Best Accuracy: 0.84, Time: 390.56 seconds\n",
      "Year 2006 - Best n_estimators: 100, Best max_depth: 15, Best Accuracy: 0.85, Time: 496.83 seconds\n",
      "Year 2007 - Best n_estimators: 100, Best max_depth: 10, Best Accuracy: 0.83, Time: 490.88 seconds\n",
      "Year 2008 - Best n_estimators: 50, Best max_depth: 10, Best Accuracy: 0.85, Time: 449.34 seconds\n",
      "Year 2009 - Best n_estimators: 50, Best max_depth: 10, Best Accuracy: 0.86, Time: 464.59 seconds\n",
      "Year 2010 - Best n_estimators: 100, Best max_depth: 10, Best Accuracy: 0.85, Time: 516.48 seconds\n",
      "Year 2011 - Best n_estimators: 50, Best max_depth: 15, Best Accuracy: 0.88, Time: 492.19 seconds\n",
      "Year 2012 - Best n_estimators: 50, Best max_depth: 10, Best Accuracy: 0.86, Time: 494.53 seconds\n",
      "Year 2013 - Best n_estimators: 50, Best max_depth: 10, Best Accuracy: 0.84, Time: 494.93 seconds\n",
      "Year 2014 - Best n_estimators: 10, Best max_depth: 15, Best Accuracy: 0.85, Time: 472.78 seconds\n",
      "Year 2015 - Best n_estimators: 100, Best max_depth: 15, Best Accuracy: 0.86, Time: 584.21 seconds\n",
      "Year 2016 - Best n_estimators: 100, Best max_depth: 10, Best Accuracy: 0.85, Time: 565.89 seconds\n",
      "Year 2017 - Best n_estimators: 50, Best max_depth: 10, Best Accuracy: 0.85, Time: 529.12 seconds\n",
      "Year 2018 - Best n_estimators: 100, Best max_depth: 10, Best Accuracy: 0.84, Time: 582.98 seconds\n",
      "Year 2019 - Best n_estimators: 50, Best max_depth: 15, Best Accuracy: 0.85, Time: 562.98 seconds\n",
      "Year 2020 - Best n_estimators: 100, Best max_depth: 15, Best Accuracy: 0.86, Time: 630.94 seconds\n",
      "Year 2021 - Best n_estimators: 50, Best max_depth: 15, Best Accuracy: 0.87, Time: 580.04 seconds\n",
      "Year 2022 - Best n_estimators: 100, Best max_depth: 15, Best Accuracy: 0.85, Time: 638.44 seconds\n"
     ]
    }
   ],
   "source": [
    "###################################\n",
    "# RANDOM FOREST CLASSIFICATION MODEL - ACCURACY\n",
    "###################################\n",
    "\n",
    "model_name = 'RF_clas_exp_AC'  # Define the model name for Random Forest\n",
    "\n",
    "# Update the column name for storing Random Forest classification predictions\n",
    "df[model_name] = np.nan\n",
    "\n",
    "# Ensure the new column is in the prediction_cols list\n",
    "if model_name not in prediction_cols:\n",
    "    prediction_cols.append(model_name)\n",
    "\n",
    "# Define the hyperparameters to test\n",
    "HP1 = [10, 50, 100]  # n_estimators\n",
    "HP2 = [5, 10, 15]  # max_depth (None means no limit)\n",
    "\n",
    "for year in range(df['year'].min() + 6, df['year'].max() + 1):\n",
    "    start_time = time.time()  # Start timing\n",
    "\n",
    "    # Define training and tuning datasets\n",
    "    train_data = df[df['year'] < year]\n",
    "    tuning_data = train_data[train_data['year'] == year - 1]\n",
    "    train_data = train_data[train_data['year'] < year - 1]\n",
    "\n",
    "    X_train = train_data[X_col]\n",
    "    y_train = train_data['y']\n",
    "\n",
    "    X_tune = tuning_data[X_col]\n",
    "    y_tune = tuning_data['y']\n",
    "\n",
    "    best_HP1 = None\n",
    "    best_HP2 = None\n",
    "    best_accuracy = 0\n",
    "\n",
    "    # Hyperparameter tuning\n",
    "    for hp1 in HP1:\n",
    "        for hp2 in HP2:\n",
    "            model = RandomForestClassifier(n_estimators=hp1, max_depth=hp2, random_state=42, n_jobs = -1)\n",
    "            model.fit(X_train, y_train)\n",
    "            predictions = model.predict(X_tune)\n",
    "            accuracy = accuracy_score(y_tune, predictions)\n",
    "\n",
    "            if accuracy > best_accuracy:\n",
    "                best_accuracy = accuracy\n",
    "                best_HP1 = hp1\n",
    "                best_HP2 = hp2\n",
    "\n",
    "    # Retrain on the entire training dataset up to the current year\n",
    "    X_full_train = df[df['year'] < year][X_col]\n",
    "    y_full_train = df[df['year'] < year]['y']\n",
    "    model = RandomForestClassifier(n_estimators=best_HP1, max_depth=best_HP2, random_state=42, n_jobs = -1)\n",
    "    model.fit(X_full_train, y_full_train)\n",
    "\n",
    "    # Predict probabilities for the next year\n",
    "    next_year_data = df[df['year'] == year]\n",
    "    X_next_year = next_year_data[X_col]\n",
    "    if not X_next_year.empty:\n",
    "        next_year_probabilities = model.predict_proba(X_next_year)[:, 1]  # Probability of the positive class\n",
    "        df.loc[df['year'] == year, model_name] = next_year_probabilities\n",
    "\n",
    "    end_time = time.time()  # End timing\n",
    "    iteration_time = end_time - start_time  # Calculate iteration time\n",
    "\n",
    "    print(f\"Year {year} - Best n_estimators: {best_HP1}, Best max_depth: {best_HP2 if best_HP2 is not None else 'None'}, Best Accuracy: {round(best_accuracy, 2)}, Time: {iteration_time:.2f} seconds\")\n"
   ]
  },
  {
   "cell_type": "markdown",
   "id": "56434dbe",
   "metadata": {
    "papermill": {
     "duration": 0.013985,
     "end_time": "2024-02-21T23:48:39.900058",
     "exception": false,
     "start_time": "2024-02-21T23:48:39.886073",
     "status": "completed"
    },
    "tags": []
   },
   "source": [
    "### First expanding, then rolling\n",
    "start predicting for 1932, expand the window until you reach X years, then roll it"
   ]
  },
  {
   "cell_type": "markdown",
   "id": "d077e970",
   "metadata": {
    "papermill": {
     "duration": 0.013937,
     "end_time": "2024-02-21T23:48:39.927975",
     "exception": false,
     "start_time": "2024-02-21T23:48:39.914038",
     "status": "completed"
    },
    "tags": []
   },
   "source": [
    "#### Accuracy Evaluation"
   ]
  },
  {
   "cell_type": "markdown",
   "id": "38b63ef7",
   "metadata": {
    "papermill": {
     "duration": 0.01383,
     "end_time": "2024-02-21T23:48:39.956157",
     "exception": false,
     "start_time": "2024-02-21T23:48:39.942327",
     "status": "completed"
    },
    "tags": []
   },
   "source": [
    "##### 5 year window"
   ]
  },
  {
   "cell_type": "code",
   "execution_count": 6,
   "id": "8d17ae2f",
   "metadata": {
    "execution": {
     "iopub.execute_input": "2024-02-21T23:48:39.986089Z",
     "iopub.status.busy": "2024-02-21T23:48:39.985490Z",
     "iopub.status.idle": "2024-02-21T23:48:39.989539Z",
     "shell.execute_reply": "2024-02-21T23:48:39.988676Z"
    },
    "papermill": {
     "duration": 0.020971,
     "end_time": "2024-02-21T23:48:39.991378",
     "exception": false,
     "start_time": "2024-02-21T23:48:39.970407",
     "status": "completed"
    },
    "tags": []
   },
   "outputs": [],
   "source": [
    "# set the length of the rolling window\n",
    "rolling_window = 5 # years"
   ]
  },
  {
   "cell_type": "code",
   "execution_count": null,
   "id": "0727502d",
   "metadata": {
    "papermill": {
     "duration": 0.013744,
     "end_time": "2024-02-21T23:48:40.019445",
     "exception": false,
     "start_time": "2024-02-21T23:48:40.005701",
     "status": "completed"
    },
    "tags": []
   },
   "outputs": [],
   "source": []
  },
  {
   "cell_type": "markdown",
   "id": "d2ec04b0",
   "metadata": {
    "papermill": {
     "duration": 0.013801,
     "end_time": "2024-02-21T23:48:40.047530",
     "exception": false,
     "start_time": "2024-02-21T23:48:40.033729",
     "status": "completed"
    },
    "tags": []
   },
   "source": [
    "## Forming Portfolios, Value-weighted portfolio returns"
   ]
  },
  {
   "cell_type": "code",
   "execution_count": 7,
   "id": "effaedbf",
   "metadata": {
    "execution": {
     "iopub.execute_input": "2024-02-21T23:48:40.076573Z",
     "iopub.status.busy": "2024-02-21T23:48:40.076285Z",
     "iopub.status.idle": "2024-02-21T23:48:40.094221Z",
     "shell.execute_reply": "2024-02-21T23:48:40.093336Z"
    },
    "papermill": {
     "duration": 0.034563,
     "end_time": "2024-02-21T23:48:40.096061",
     "exception": false,
     "start_time": "2024-02-21T23:48:40.061498",
     "status": "completed"
    },
    "tags": []
   },
   "outputs": [
    {
     "data": {
      "text/html": [
       "<div>\n",
       "<style scoped>\n",
       "    .dataframe tbody tr th:only-of-type {\n",
       "        vertical-align: middle;\n",
       "    }\n",
       "\n",
       "    .dataframe tbody tr th {\n",
       "        vertical-align: top;\n",
       "    }\n",
       "\n",
       "    .dataframe thead th {\n",
       "        text-align: right;\n",
       "    }\n",
       "</style>\n",
       "<table border=\"1\" class=\"dataframe\">\n",
       "  <thead>\n",
       "    <tr style=\"text-align: right;\">\n",
       "      <th></th>\n",
       "      <th>PERMNO</th>\n",
       "      <th>date</th>\n",
       "      <th>RET</th>\n",
       "      <th>ME</th>\n",
       "      <th>bull_D</th>\n",
       "      <th>bear_D</th>\n",
       "      <th>bull_W</th>\n",
       "      <th>bear_W</th>\n",
       "      <th>bull_M</th>\n",
       "      <th>bear_M</th>\n",
       "      <th>LMKT</th>\n",
       "      <th>IVOL</th>\n",
       "      <th>y</th>\n",
       "      <th>year</th>\n",
       "      <th>RF_clas_exp_AC</th>\n",
       "    </tr>\n",
       "  </thead>\n",
       "  <tbody>\n",
       "    <tr>\n",
       "      <th>0</th>\n",
       "      <td>11148</td>\n",
       "      <td>1926-08-31</td>\n",
       "      <td>0.109924</td>\n",
       "      <td>76287.5</td>\n",
       "      <td>1.0</td>\n",
       "      <td>0.0</td>\n",
       "      <td>4.0</td>\n",
       "      <td>0.0</td>\n",
       "      <td>0</td>\n",
       "      <td>0</td>\n",
       "      <td>0.0318</td>\n",
       "      <td>0.000040</td>\n",
       "      <td>1</td>\n",
       "      <td>1926</td>\n",
       "      <td>NaN</td>\n",
       "    </tr>\n",
       "    <tr>\n",
       "      <th>1</th>\n",
       "      <td>10874</td>\n",
       "      <td>1926-08-31</td>\n",
       "      <td>0.168142</td>\n",
       "      <td>16500.0</td>\n",
       "      <td>0.0</td>\n",
       "      <td>0.0</td>\n",
       "      <td>2.0</td>\n",
       "      <td>0.0</td>\n",
       "      <td>2</td>\n",
       "      <td>0</td>\n",
       "      <td>0.0318</td>\n",
       "      <td>0.000537</td>\n",
       "      <td>1</td>\n",
       "      <td>1926</td>\n",
       "      <td>NaN</td>\n",
       "    </tr>\n",
       "    <tr>\n",
       "      <th>2</th>\n",
       "      <td>12968</td>\n",
       "      <td>1926-08-31</td>\n",
       "      <td>-0.006464</td>\n",
       "      <td>55683.0</td>\n",
       "      <td>0.0</td>\n",
       "      <td>0.0</td>\n",
       "      <td>0.0</td>\n",
       "      <td>0.0</td>\n",
       "      <td>0</td>\n",
       "      <td>0</td>\n",
       "      <td>0.0318</td>\n",
       "      <td>0.000007</td>\n",
       "      <td>0</td>\n",
       "      <td>1926</td>\n",
       "      <td>NaN</td>\n",
       "    </tr>\n",
       "    <tr>\n",
       "      <th>3</th>\n",
       "      <td>12976</td>\n",
       "      <td>1926-08-31</td>\n",
       "      <td>0.156041</td>\n",
       "      <td>41650.0</td>\n",
       "      <td>1.0</td>\n",
       "      <td>0.0</td>\n",
       "      <td>0.0</td>\n",
       "      <td>0.0</td>\n",
       "      <td>0</td>\n",
       "      <td>0</td>\n",
       "      <td>0.0318</td>\n",
       "      <td>0.000070</td>\n",
       "      <td>1</td>\n",
       "      <td>1926</td>\n",
       "      <td>NaN</td>\n",
       "    </tr>\n",
       "    <tr>\n",
       "      <th>4</th>\n",
       "      <td>12984</td>\n",
       "      <td>1926-08-31</td>\n",
       "      <td>0.046875</td>\n",
       "      <td>11323.0</td>\n",
       "      <td>1.0</td>\n",
       "      <td>0.0</td>\n",
       "      <td>0.0</td>\n",
       "      <td>0.0</td>\n",
       "      <td>0</td>\n",
       "      <td>0</td>\n",
       "      <td>0.0318</td>\n",
       "      <td>0.000874</td>\n",
       "      <td>1</td>\n",
       "      <td>1926</td>\n",
       "      <td>NaN</td>\n",
       "    </tr>\n",
       "  </tbody>\n",
       "</table>\n",
       "</div>"
      ],
      "text/plain": [
       "   PERMNO       date       RET       ME  bull_D  bear_D  bull_W  bear_W  \\\n",
       "0   11148 1926-08-31  0.109924  76287.5     1.0     0.0     4.0     0.0   \n",
       "1   10874 1926-08-31  0.168142  16500.0     0.0     0.0     2.0     0.0   \n",
       "2   12968 1926-08-31 -0.006464  55683.0     0.0     0.0     0.0     0.0   \n",
       "3   12976 1926-08-31  0.156041  41650.0     1.0     0.0     0.0     0.0   \n",
       "4   12984 1926-08-31  0.046875  11323.0     1.0     0.0     0.0     0.0   \n",
       "\n",
       "   bull_M  bear_M    LMKT      IVOL  y  year  RF_clas_exp_AC  \n",
       "0       0       0  0.0318  0.000040  1  1926             NaN  \n",
       "1       2       0  0.0318  0.000537  1  1926             NaN  \n",
       "2       0       0  0.0318  0.000007  0  1926             NaN  \n",
       "3       0       0  0.0318  0.000070  1  1926             NaN  \n",
       "4       0       0  0.0318  0.000874  1  1926             NaN  "
      ]
     },
     "execution_count": 7,
     "metadata": {},
     "output_type": "execute_result"
    }
   ],
   "source": [
    "df.head()"
   ]
  },
  {
   "cell_type": "code",
   "execution_count": 8,
   "id": "0118c315",
   "metadata": {
    "execution": {
     "iopub.execute_input": "2024-02-21T23:48:40.126345Z",
     "iopub.status.busy": "2024-02-21T23:48:40.125679Z",
     "iopub.status.idle": "2024-02-21T23:48:40.130790Z",
     "shell.execute_reply": "2024-02-21T23:48:40.129999Z"
    },
    "papermill": {
     "duration": 0.022245,
     "end_time": "2024-02-21T23:48:40.132712",
     "exception": false,
     "start_time": "2024-02-21T23:48:40.110467",
     "status": "completed"
    },
    "tags": []
   },
   "outputs": [
    {
     "data": {
      "text/plain": [
       "['RF_clas_exp_AC']"
      ]
     },
     "execution_count": 8,
     "metadata": {},
     "output_type": "execute_result"
    }
   ],
   "source": [
    "prediction_cols\n",
    "# prediction_cols = ['logit_default','OLS_default','logit_roll6','DT_reg_roll']"
   ]
  },
  {
   "cell_type": "code",
   "execution_count": 9,
   "id": "6a254d54",
   "metadata": {
    "execution": {
     "iopub.execute_input": "2024-02-21T23:48:40.163102Z",
     "iopub.status.busy": "2024-02-21T23:48:40.162836Z",
     "iopub.status.idle": "2024-02-21T23:48:40.469472Z",
     "shell.execute_reply": "2024-02-21T23:48:40.468600Z"
    },
    "papermill": {
     "duration": 0.32426,
     "end_time": "2024-02-21T23:48:40.471447",
     "exception": false,
     "start_time": "2024-02-21T23:48:40.147187",
     "status": "completed"
    },
    "tags": []
   },
   "outputs": [
    {
     "data": {
      "text/html": [
       "<div>\n",
       "<style scoped>\n",
       "    .dataframe tbody tr th:only-of-type {\n",
       "        vertical-align: middle;\n",
       "    }\n",
       "\n",
       "    .dataframe tbody tr th {\n",
       "        vertical-align: top;\n",
       "    }\n",
       "\n",
       "    .dataframe thead th {\n",
       "        text-align: right;\n",
       "    }\n",
       "</style>\n",
       "<table border=\"1\" class=\"dataframe\">\n",
       "  <thead>\n",
       "    <tr style=\"text-align: right;\">\n",
       "      <th></th>\n",
       "      <th>date</th>\n",
       "      <th>RET</th>\n",
       "      <th>ME</th>\n",
       "      <th>y</th>\n",
       "      <th>RF_clas_exp_AC</th>\n",
       "    </tr>\n",
       "  </thead>\n",
       "  <tbody>\n",
       "    <tr>\n",
       "      <th>40769</th>\n",
       "      <td>1932-01-31</td>\n",
       "      <td>0.020000</td>\n",
       "      <td>3366.0000</td>\n",
       "      <td>1</td>\n",
       "      <td>0.701410</td>\n",
       "    </tr>\n",
       "    <tr>\n",
       "      <th>40770</th>\n",
       "      <td>1932-01-31</td>\n",
       "      <td>0.024590</td>\n",
       "      <td>2507.8125</td>\n",
       "      <td>1</td>\n",
       "      <td>0.764715</td>\n",
       "    </tr>\n",
       "    <tr>\n",
       "      <th>40771</th>\n",
       "      <td>1932-01-31</td>\n",
       "      <td>-0.155556</td>\n",
       "      <td>653.1250</td>\n",
       "      <td>0</td>\n",
       "      <td>0.000000</td>\n",
       "    </tr>\n",
       "    <tr>\n",
       "      <th>40772</th>\n",
       "      <td>1932-01-31</td>\n",
       "      <td>-0.250000</td>\n",
       "      <td>842.6250</td>\n",
       "      <td>0</td>\n",
       "      <td>0.009013</td>\n",
       "    </tr>\n",
       "    <tr>\n",
       "      <th>40773</th>\n",
       "      <td>1932-01-31</td>\n",
       "      <td>-0.307692</td>\n",
       "      <td>6041.2500</td>\n",
       "      <td>0</td>\n",
       "      <td>0.012546</td>\n",
       "    </tr>\n",
       "  </tbody>\n",
       "</table>\n",
       "</div>"
      ],
      "text/plain": [
       "            date       RET         ME  y  RF_clas_exp_AC\n",
       "40769 1932-01-31  0.020000  3366.0000  1        0.701410\n",
       "40770 1932-01-31  0.024590  2507.8125  1        0.764715\n",
       "40771 1932-01-31 -0.155556   653.1250  0        0.000000\n",
       "40772 1932-01-31 -0.250000   842.6250  0        0.009013\n",
       "40773 1932-01-31 -0.307692  6041.2500  0        0.012546"
      ]
     },
     "execution_count": 9,
     "metadata": {},
     "output_type": "execute_result"
    }
   ],
   "source": [
    "portfolio = df[['date', 'RET', 'ME', 'y'] + prediction_cols].copy()\n",
    "portfolio['date'] = pd.to_datetime(portfolio['date'])\n",
    "\n",
    "# drop rows with missing values\n",
    "portfolio.dropna(inplace=True)\n",
    "\n",
    "portfolio.head()"
   ]
  },
  {
   "cell_type": "code",
   "execution_count": 10,
   "id": "9dad5be9",
   "metadata": {
    "execution": {
     "iopub.execute_input": "2024-02-21T23:48:40.502932Z",
     "iopub.status.busy": "2024-02-21T23:48:40.502628Z",
     "iopub.status.idle": "2024-02-21T23:48:40.513674Z",
     "shell.execute_reply": "2024-02-21T23:48:40.512774Z"
    },
    "papermill": {
     "duration": 0.028865,
     "end_time": "2024-02-21T23:48:40.515514",
     "exception": false,
     "start_time": "2024-02-21T23:48:40.486649",
     "status": "completed"
    },
    "tags": []
   },
   "outputs": [
    {
     "data": {
      "text/html": [
       "<div>\n",
       "<style scoped>\n",
       "    .dataframe tbody tr th:only-of-type {\n",
       "        vertical-align: middle;\n",
       "    }\n",
       "\n",
       "    .dataframe tbody tr th {\n",
       "        vertical-align: top;\n",
       "    }\n",
       "\n",
       "    .dataframe thead th {\n",
       "        text-align: right;\n",
       "    }\n",
       "</style>\n",
       "<table border=\"1\" class=\"dataframe\">\n",
       "  <thead>\n",
       "    <tr style=\"text-align: right;\">\n",
       "      <th></th>\n",
       "      <th>date</th>\n",
       "      <th>RET</th>\n",
       "      <th>ME</th>\n",
       "      <th>y</th>\n",
       "      <th>RF_clas_exp_AC</th>\n",
       "    </tr>\n",
       "  </thead>\n",
       "  <tbody>\n",
       "    <tr>\n",
       "      <th>3627748</th>\n",
       "      <td>2022-07-31</td>\n",
       "      <td>-0.106939</td>\n",
       "      <td>3.731571e+06</td>\n",
       "      <td>0</td>\n",
       "      <td>0.781260</td>\n",
       "    </tr>\n",
       "    <tr>\n",
       "      <th>3627749</th>\n",
       "      <td>2022-07-31</td>\n",
       "      <td>0.020969</td>\n",
       "      <td>5.066263e+03</td>\n",
       "      <td>1</td>\n",
       "      <td>0.560089</td>\n",
       "    </tr>\n",
       "    <tr>\n",
       "      <th>3627750</th>\n",
       "      <td>2022-07-31</td>\n",
       "      <td>0.184785</td>\n",
       "      <td>1.280287e+06</td>\n",
       "      <td>1</td>\n",
       "      <td>0.985404</td>\n",
       "    </tr>\n",
       "    <tr>\n",
       "      <th>3627751</th>\n",
       "      <td>2022-07-31</td>\n",
       "      <td>0.108881</td>\n",
       "      <td>3.475711e+04</td>\n",
       "      <td>1</td>\n",
       "      <td>0.549264</td>\n",
       "    </tr>\n",
       "    <tr>\n",
       "      <th>3627752</th>\n",
       "      <td>2022-07-31</td>\n",
       "      <td>0.323765</td>\n",
       "      <td>9.311106e+08</td>\n",
       "      <td>1</td>\n",
       "      <td>0.913650</td>\n",
       "    </tr>\n",
       "  </tbody>\n",
       "</table>\n",
       "</div>"
      ],
      "text/plain": [
       "              date       RET            ME  y  RF_clas_exp_AC\n",
       "3627748 2022-07-31 -0.106939  3.731571e+06  0        0.781260\n",
       "3627749 2022-07-31  0.020969  5.066263e+03  1        0.560089\n",
       "3627750 2022-07-31  0.184785  1.280287e+06  1        0.985404\n",
       "3627751 2022-07-31  0.108881  3.475711e+04  1        0.549264\n",
       "3627752 2022-07-31  0.323765  9.311106e+08  1        0.913650"
      ]
     },
     "execution_count": 10,
     "metadata": {},
     "output_type": "execute_result"
    }
   ],
   "source": [
    "portfolio.tail()"
   ]
  },
  {
   "cell_type": "code",
   "execution_count": 11,
   "id": "46d57ead",
   "metadata": {
    "execution": {
     "iopub.execute_input": "2024-02-21T23:48:40.547219Z",
     "iopub.status.busy": "2024-02-21T23:48:40.546917Z",
     "iopub.status.idle": "2024-02-21T23:48:43.365296Z",
     "shell.execute_reply": "2024-02-21T23:48:43.364333Z"
    },
    "papermill": {
     "duration": 2.83669,
     "end_time": "2024-02-21T23:48:43.367529",
     "exception": false,
     "start_time": "2024-02-21T23:48:40.530839",
     "status": "completed"
    },
    "tags": []
   },
   "outputs": [
    {
     "name": "stderr",
     "output_type": "stream",
     "text": [
      "/tmp/ipykernel_26/2999037948.py:15: DeprecationWarning: DataFrameGroupBy.apply operated on the grouping columns. This behavior is deprecated, and in a future version of pandas the grouping columns will be excluded from the operation. Either pass `include_groups=False` to exclude the groupings or explicitly select the grouping columns after groupby to silence this warning.\n",
      "  vwreturns_temp = portfolio.groupby('date').apply(lambda x: np.sum(x['RET'] * x['ME'] * x[position_col]) / np.sum(x['ME'])).reset_index(name=vwret_col)\n"
     ]
    }
   ],
   "source": [
    "# Initialize an empty DataFrame to store value-weighted returns for each model\n",
    "vwreturns = pd.DataFrame(portfolio['date'].unique(), columns=['date'])  # Ensures all dates are included\n",
    "\n",
    "for pred_col in prediction_cols:\n",
    "    # Calculate deciles for this prediction\n",
    "    decile_col = f'decile_{pred_col}'\n",
    "    portfolio[decile_col] = portfolio.groupby(['date'])[pred_col].transform(lambda x: pd.qcut(x, 10, labels=False, duplicates='drop'))\n",
    "    \n",
    "    # Determine position based on deciles\n",
    "    position_col = f'position_{pred_col}'\n",
    "    portfolio[position_col] = np.where(portfolio[decile_col] == 9, 1, np.where(portfolio[decile_col] == 0, -1, 0))\n",
    "    \n",
    "    # Calculate the value-weighted return for this prediction\n",
    "    vwret_col = f'vwreturn_{pred_col}'\n",
    "    vwreturns_temp = portfolio.groupby('date').apply(lambda x: np.sum(x['RET'] * x['ME'] * x[position_col]) / np.sum(x['ME'])).reset_index(name=vwret_col)\n",
    "    \n",
    "    # Merge the temporary value-weighted returns with the main vwreturns DataFrame\n",
    "    vwreturns = vwreturns.merge(vwreturns_temp, on='date', how='left')\n",
    "\n",
    "# Ensure the 'date' column is the first column and is sorted\n",
    "vwreturns = vwreturns.sort_values('date').reset_index(drop=True)\n"
   ]
  },
  {
   "cell_type": "code",
   "execution_count": 12,
   "id": "c1dca6a0",
   "metadata": {
    "execution": {
     "iopub.execute_input": "2024-02-21T23:48:43.400998Z",
     "iopub.status.busy": "2024-02-21T23:48:43.400698Z",
     "iopub.status.idle": "2024-02-21T23:48:43.409304Z",
     "shell.execute_reply": "2024-02-21T23:48:43.408425Z"
    },
    "papermill": {
     "duration": 0.026881,
     "end_time": "2024-02-21T23:48:43.411320",
     "exception": false,
     "start_time": "2024-02-21T23:48:43.384439",
     "status": "completed"
    },
    "tags": []
   },
   "outputs": [
    {
     "data": {
      "text/html": [
       "<div>\n",
       "<style scoped>\n",
       "    .dataframe tbody tr th:only-of-type {\n",
       "        vertical-align: middle;\n",
       "    }\n",
       "\n",
       "    .dataframe tbody tr th {\n",
       "        vertical-align: top;\n",
       "    }\n",
       "\n",
       "    .dataframe thead th {\n",
       "        text-align: right;\n",
       "    }\n",
       "</style>\n",
       "<table border=\"1\" class=\"dataframe\">\n",
       "  <thead>\n",
       "    <tr style=\"text-align: right;\">\n",
       "      <th></th>\n",
       "      <th>date</th>\n",
       "      <th>vwreturn_RF_clas_exp_AC</th>\n",
       "    </tr>\n",
       "  </thead>\n",
       "  <tbody>\n",
       "    <tr>\n",
       "      <th>0</th>\n",
       "      <td>1932-01-31</td>\n",
       "      <td>0.013891</td>\n",
       "    </tr>\n",
       "    <tr>\n",
       "      <th>1</th>\n",
       "      <td>1932-02-29</td>\n",
       "      <td>0.013948</td>\n",
       "    </tr>\n",
       "    <tr>\n",
       "      <th>2</th>\n",
       "      <td>1932-03-31</td>\n",
       "      <td>0.015682</td>\n",
       "    </tr>\n",
       "    <tr>\n",
       "      <th>3</th>\n",
       "      <td>1932-04-30</td>\n",
       "      <td>0.095795</td>\n",
       "    </tr>\n",
       "    <tr>\n",
       "      <th>4</th>\n",
       "      <td>1932-05-31</td>\n",
       "      <td>0.086474</td>\n",
       "    </tr>\n",
       "  </tbody>\n",
       "</table>\n",
       "</div>"
      ],
      "text/plain": [
       "        date  vwreturn_RF_clas_exp_AC\n",
       "0 1932-01-31                 0.013891\n",
       "1 1932-02-29                 0.013948\n",
       "2 1932-03-31                 0.015682\n",
       "3 1932-04-30                 0.095795\n",
       "4 1932-05-31                 0.086474"
      ]
     },
     "execution_count": 12,
     "metadata": {},
     "output_type": "execute_result"
    }
   ],
   "source": [
    "vwreturns.head()"
   ]
  },
  {
   "cell_type": "markdown",
   "id": "5e097fd9",
   "metadata": {
    "papermill": {
     "duration": 0.015506,
     "end_time": "2024-02-21T23:48:43.442532",
     "exception": false,
     "start_time": "2024-02-21T23:48:43.427026",
     "status": "completed"
    },
    "tags": []
   },
   "source": [
    "### Compare to market data"
   ]
  },
  {
   "cell_type": "code",
   "execution_count": 13,
   "id": "f40dc502",
   "metadata": {
    "execution": {
     "iopub.execute_input": "2024-02-21T23:48:43.476400Z",
     "iopub.status.busy": "2024-02-21T23:48:43.476107Z",
     "iopub.status.idle": "2024-02-21T23:48:43.512642Z",
     "shell.execute_reply": "2024-02-21T23:48:43.511753Z"
    },
    "papermill": {
     "duration": 0.055269,
     "end_time": "2024-02-21T23:48:43.514847",
     "exception": false,
     "start_time": "2024-02-21T23:48:43.459578",
     "status": "completed"
    },
    "tags": []
   },
   "outputs": [],
   "source": [
    "#market = pd.read_csv('FF3_clean.csv')\n",
    "market = pd.read_csv('/kaggle/input/sign-prediction-datasets/FF3_clean.csv')"
   ]
  },
  {
   "cell_type": "code",
   "execution_count": 14,
   "id": "8288d945",
   "metadata": {
    "execution": {
     "iopub.execute_input": "2024-02-21T23:48:43.547587Z",
     "iopub.status.busy": "2024-02-21T23:48:43.547338Z",
     "iopub.status.idle": "2024-02-21T23:48:43.558473Z",
     "shell.execute_reply": "2024-02-21T23:48:43.557675Z"
    },
    "papermill": {
     "duration": 0.029408,
     "end_time": "2024-02-21T23:48:43.560255",
     "exception": false,
     "start_time": "2024-02-21T23:48:43.530847",
     "status": "completed"
    },
    "tags": []
   },
   "outputs": [
    {
     "data": {
      "text/html": [
       "<div>\n",
       "<style scoped>\n",
       "    .dataframe tbody tr th:only-of-type {\n",
       "        vertical-align: middle;\n",
       "    }\n",
       "\n",
       "    .dataframe tbody tr th {\n",
       "        vertical-align: top;\n",
       "    }\n",
       "\n",
       "    .dataframe thead th {\n",
       "        text-align: right;\n",
       "    }\n",
       "</style>\n",
       "<table border=\"1\" class=\"dataframe\">\n",
       "  <thead>\n",
       "    <tr style=\"text-align: right;\">\n",
       "      <th></th>\n",
       "      <th>date</th>\n",
       "      <th>Mkt-RF</th>\n",
       "      <th>SMB</th>\n",
       "      <th>HML</th>\n",
       "      <th>RF</th>\n",
       "    </tr>\n",
       "  </thead>\n",
       "  <tbody>\n",
       "    <tr>\n",
       "      <th>0</th>\n",
       "      <td>1926-07-31</td>\n",
       "      <td>2.96</td>\n",
       "      <td>-2.56</td>\n",
       "      <td>-2.43</td>\n",
       "      <td>0.22</td>\n",
       "    </tr>\n",
       "    <tr>\n",
       "      <th>1</th>\n",
       "      <td>1926-08-31</td>\n",
       "      <td>2.64</td>\n",
       "      <td>-1.17</td>\n",
       "      <td>3.82</td>\n",
       "      <td>0.25</td>\n",
       "    </tr>\n",
       "    <tr>\n",
       "      <th>2</th>\n",
       "      <td>1926-09-30</td>\n",
       "      <td>0.36</td>\n",
       "      <td>-1.40</td>\n",
       "      <td>0.13</td>\n",
       "      <td>0.23</td>\n",
       "    </tr>\n",
       "    <tr>\n",
       "      <th>3</th>\n",
       "      <td>1926-10-31</td>\n",
       "      <td>-3.24</td>\n",
       "      <td>-0.09</td>\n",
       "      <td>0.70</td>\n",
       "      <td>0.32</td>\n",
       "    </tr>\n",
       "    <tr>\n",
       "      <th>4</th>\n",
       "      <td>1926-11-30</td>\n",
       "      <td>2.53</td>\n",
       "      <td>-0.10</td>\n",
       "      <td>-0.51</td>\n",
       "      <td>0.31</td>\n",
       "    </tr>\n",
       "  </tbody>\n",
       "</table>\n",
       "</div>"
      ],
      "text/plain": [
       "         date  Mkt-RF   SMB   HML    RF\n",
       "0  1926-07-31    2.96 -2.56 -2.43  0.22\n",
       "1  1926-08-31    2.64 -1.17  3.82  0.25\n",
       "2  1926-09-30    0.36 -1.40  0.13  0.23\n",
       "3  1926-10-31   -3.24 -0.09  0.70  0.32\n",
       "4  1926-11-30    2.53 -0.10 -0.51  0.31"
      ]
     },
     "execution_count": 14,
     "metadata": {},
     "output_type": "execute_result"
    }
   ],
   "source": [
    "market.head()"
   ]
  },
  {
   "cell_type": "code",
   "execution_count": 15,
   "id": "5e73fe5b",
   "metadata": {
    "execution": {
     "iopub.execute_input": "2024-02-21T23:48:43.593323Z",
     "iopub.status.busy": "2024-02-21T23:48:43.592807Z",
     "iopub.status.idle": "2024-02-21T23:48:43.608925Z",
     "shell.execute_reply": "2024-02-21T23:48:43.608079Z"
    },
    "papermill": {
     "duration": 0.034729,
     "end_time": "2024-02-21T23:48:43.610891",
     "exception": false,
     "start_time": "2024-02-21T23:48:43.576162",
     "status": "completed"
    },
    "tags": []
   },
   "outputs": [],
   "source": [
    "# create a new 'Mkt' which is a sum of Mkt-RF and RF\n",
    "market['Mkt'] = market['Mkt-RF'] + market['RF']\n",
    "\n",
    "# divide all columns by 100 except 'date'\n",
    "market.iloc[:, 1:] = market.iloc[:, 1:] / 100\n",
    "\n",
    "#set the 'date' column to datetime format\n",
    "market['date'] = pd.to_datetime(market['date'])\n",
    "\n",
    "# merge the market data (only date and Mkt columns) with the vwreturns DataFrame\n",
    "vwreturns = vwreturns.merge(market[['date', 'Mkt']], on='date', how='left')\n",
    "\n",
    "# transform all columns (except 'date') to a log: log(x+1) and save the result as lvwreturns\n",
    "lvwreturns = vwreturns.copy()\n",
    "lvwreturns.iloc[:, 1:] = np.log(vwreturns.iloc[:, 1:] + 1)"
   ]
  },
  {
   "cell_type": "code",
   "execution_count": 16,
   "id": "44ca94f8",
   "metadata": {
    "execution": {
     "iopub.execute_input": "2024-02-21T23:48:43.645958Z",
     "iopub.status.busy": "2024-02-21T23:48:43.645710Z",
     "iopub.status.idle": "2024-02-21T23:48:43.654471Z",
     "shell.execute_reply": "2024-02-21T23:48:43.653637Z"
    },
    "papermill": {
     "duration": 0.028198,
     "end_time": "2024-02-21T23:48:43.656343",
     "exception": false,
     "start_time": "2024-02-21T23:48:43.628145",
     "status": "completed"
    },
    "tags": []
   },
   "outputs": [
    {
     "data": {
      "text/html": [
       "<div>\n",
       "<style scoped>\n",
       "    .dataframe tbody tr th:only-of-type {\n",
       "        vertical-align: middle;\n",
       "    }\n",
       "\n",
       "    .dataframe tbody tr th {\n",
       "        vertical-align: top;\n",
       "    }\n",
       "\n",
       "    .dataframe thead th {\n",
       "        text-align: right;\n",
       "    }\n",
       "</style>\n",
       "<table border=\"1\" class=\"dataframe\">\n",
       "  <thead>\n",
       "    <tr style=\"text-align: right;\">\n",
       "      <th></th>\n",
       "      <th>date</th>\n",
       "      <th>vwreturn_RF_clas_exp_AC</th>\n",
       "      <th>Mkt</th>\n",
       "    </tr>\n",
       "  </thead>\n",
       "  <tbody>\n",
       "    <tr>\n",
       "      <th>0</th>\n",
       "      <td>1932-01-31</td>\n",
       "      <td>0.013891</td>\n",
       "      <td>-0.0135</td>\n",
       "    </tr>\n",
       "    <tr>\n",
       "      <th>1</th>\n",
       "      <td>1932-02-29</td>\n",
       "      <td>0.013948</td>\n",
       "      <td>0.0569</td>\n",
       "    </tr>\n",
       "    <tr>\n",
       "      <th>2</th>\n",
       "      <td>1932-03-31</td>\n",
       "      <td>0.015682</td>\n",
       "      <td>-0.1105</td>\n",
       "    </tr>\n",
       "    <tr>\n",
       "      <th>3</th>\n",
       "      <td>1932-04-30</td>\n",
       "      <td>0.095795</td>\n",
       "      <td>-0.1785</td>\n",
       "    </tr>\n",
       "    <tr>\n",
       "      <th>4</th>\n",
       "      <td>1932-05-31</td>\n",
       "      <td>0.086474</td>\n",
       "      <td>-0.2045</td>\n",
       "    </tr>\n",
       "  </tbody>\n",
       "</table>\n",
       "</div>"
      ],
      "text/plain": [
       "        date  vwreturn_RF_clas_exp_AC     Mkt\n",
       "0 1932-01-31                 0.013891 -0.0135\n",
       "1 1932-02-29                 0.013948  0.0569\n",
       "2 1932-03-31                 0.015682 -0.1105\n",
       "3 1932-04-30                 0.095795 -0.1785\n",
       "4 1932-05-31                 0.086474 -0.2045"
      ]
     },
     "execution_count": 16,
     "metadata": {},
     "output_type": "execute_result"
    }
   ],
   "source": [
    "vwreturns.head()"
   ]
  },
  {
   "cell_type": "code",
   "execution_count": 17,
   "id": "50ffca1a",
   "metadata": {
    "execution": {
     "iopub.execute_input": "2024-02-21T23:48:43.689786Z",
     "iopub.status.busy": "2024-02-21T23:48:43.689544Z",
     "iopub.status.idle": "2024-02-21T23:48:43.700070Z",
     "shell.execute_reply": "2024-02-21T23:48:43.698832Z"
    },
    "papermill": {
     "duration": 0.030221,
     "end_time": "2024-02-21T23:48:43.702958",
     "exception": false,
     "start_time": "2024-02-21T23:48:43.672737",
     "status": "completed"
    },
    "tags": []
   },
   "outputs": [
    {
     "data": {
      "text/html": [
       "<div>\n",
       "<style scoped>\n",
       "    .dataframe tbody tr th:only-of-type {\n",
       "        vertical-align: middle;\n",
       "    }\n",
       "\n",
       "    .dataframe tbody tr th {\n",
       "        vertical-align: top;\n",
       "    }\n",
       "\n",
       "    .dataframe thead th {\n",
       "        text-align: right;\n",
       "    }\n",
       "</style>\n",
       "<table border=\"1\" class=\"dataframe\">\n",
       "  <thead>\n",
       "    <tr style=\"text-align: right;\">\n",
       "      <th></th>\n",
       "      <th>date</th>\n",
       "      <th>vwreturn_RF_clas_exp_AC</th>\n",
       "      <th>Mkt</th>\n",
       "    </tr>\n",
       "  </thead>\n",
       "  <tbody>\n",
       "    <tr>\n",
       "      <th>0</th>\n",
       "      <td>1932-01-31</td>\n",
       "      <td>0.013795</td>\n",
       "      <td>-0.013592</td>\n",
       "    </tr>\n",
       "    <tr>\n",
       "      <th>1</th>\n",
       "      <td>1932-02-29</td>\n",
       "      <td>0.013852</td>\n",
       "      <td>0.055340</td>\n",
       "    </tr>\n",
       "    <tr>\n",
       "      <th>2</th>\n",
       "      <td>1932-03-31</td>\n",
       "      <td>0.015561</td>\n",
       "      <td>-0.117096</td>\n",
       "    </tr>\n",
       "    <tr>\n",
       "      <th>3</th>\n",
       "      <td>1932-04-30</td>\n",
       "      <td>0.091480</td>\n",
       "      <td>-0.196623</td>\n",
       "    </tr>\n",
       "    <tr>\n",
       "      <th>4</th>\n",
       "      <td>1932-05-31</td>\n",
       "      <td>0.082937</td>\n",
       "      <td>-0.228784</td>\n",
       "    </tr>\n",
       "  </tbody>\n",
       "</table>\n",
       "</div>"
      ],
      "text/plain": [
       "        date  vwreturn_RF_clas_exp_AC       Mkt\n",
       "0 1932-01-31                 0.013795 -0.013592\n",
       "1 1932-02-29                 0.013852  0.055340\n",
       "2 1932-03-31                 0.015561 -0.117096\n",
       "3 1932-04-30                 0.091480 -0.196623\n",
       "4 1932-05-31                 0.082937 -0.228784"
      ]
     },
     "execution_count": 17,
     "metadata": {},
     "output_type": "execute_result"
    }
   ],
   "source": [
    "lvwreturns.head()"
   ]
  },
  {
   "cell_type": "code",
   "execution_count": 18,
   "id": "7da30066",
   "metadata": {
    "execution": {
     "iopub.execute_input": "2024-02-21T23:48:43.750074Z",
     "iopub.status.busy": "2024-02-21T23:48:43.749757Z",
     "iopub.status.idle": "2024-02-21T23:48:43.769431Z",
     "shell.execute_reply": "2024-02-21T23:48:43.768583Z"
    },
    "papermill": {
     "duration": 0.045082,
     "end_time": "2024-02-21T23:48:43.771233",
     "exception": false,
     "start_time": "2024-02-21T23:48:43.726151",
     "status": "completed"
    },
    "tags": []
   },
   "outputs": [
    {
     "data": {
      "text/html": [
       "<div>\n",
       "<style scoped>\n",
       "    .dataframe tbody tr th:only-of-type {\n",
       "        vertical-align: middle;\n",
       "    }\n",
       "\n",
       "    .dataframe tbody tr th {\n",
       "        vertical-align: top;\n",
       "    }\n",
       "\n",
       "    .dataframe thead th {\n",
       "        text-align: right;\n",
       "    }\n",
       "</style>\n",
       "<table border=\"1\" class=\"dataframe\">\n",
       "  <thead>\n",
       "    <tr style=\"text-align: right;\">\n",
       "      <th></th>\n",
       "      <th>date</th>\n",
       "      <th>vwreturn_RF_clas_exp_AC</th>\n",
       "      <th>Mkt</th>\n",
       "    </tr>\n",
       "  </thead>\n",
       "  <tbody>\n",
       "    <tr>\n",
       "      <th>count</th>\n",
       "      <td>1086</td>\n",
       "      <td>1086.000000</td>\n",
       "      <td>1086.000000</td>\n",
       "    </tr>\n",
       "    <tr>\n",
       "      <th>mean</th>\n",
       "      <td>1977-05-06 15:36:07.955801120</td>\n",
       "      <td>0.011513</td>\n",
       "      <td>0.008788</td>\n",
       "    </tr>\n",
       "    <tr>\n",
       "      <th>min</th>\n",
       "      <td>1932-01-31 00:00:00</td>\n",
       "      <td>-0.021853</td>\n",
       "      <td>-0.272203</td>\n",
       "    </tr>\n",
       "    <tr>\n",
       "      <th>25%</th>\n",
       "      <td>1954-09-07 12:00:00</td>\n",
       "      <td>0.004587</td>\n",
       "      <td>-0.017655</td>\n",
       "    </tr>\n",
       "    <tr>\n",
       "      <th>50%</th>\n",
       "      <td>1977-05-15 12:00:00</td>\n",
       "      <td>0.009267</td>\n",
       "      <td>0.012818</td>\n",
       "    </tr>\n",
       "    <tr>\n",
       "      <th>75%</th>\n",
       "      <td>1999-12-23 06:00:00</td>\n",
       "      <td>0.015361</td>\n",
       "      <td>0.038379</td>\n",
       "    </tr>\n",
       "    <tr>\n",
       "      <th>max</th>\n",
       "      <td>2022-07-31 00:00:00</td>\n",
       "      <td>0.122190</td>\n",
       "      <td>0.328944</td>\n",
       "    </tr>\n",
       "    <tr>\n",
       "      <th>std</th>\n",
       "      <td>NaN</td>\n",
       "      <td>0.011060</td>\n",
       "      <td>0.050916</td>\n",
       "    </tr>\n",
       "  </tbody>\n",
       "</table>\n",
       "</div>"
      ],
      "text/plain": [
       "                                date  vwreturn_RF_clas_exp_AC          Mkt\n",
       "count                           1086              1086.000000  1086.000000\n",
       "mean   1977-05-06 15:36:07.955801120                 0.011513     0.008788\n",
       "min              1932-01-31 00:00:00                -0.021853    -0.272203\n",
       "25%              1954-09-07 12:00:00                 0.004587    -0.017655\n",
       "50%              1977-05-15 12:00:00                 0.009267     0.012818\n",
       "75%              1999-12-23 06:00:00                 0.015361     0.038379\n",
       "max              2022-07-31 00:00:00                 0.122190     0.328944\n",
       "std                              NaN                 0.011060     0.050916"
      ]
     },
     "execution_count": 18,
     "metadata": {},
     "output_type": "execute_result"
    }
   ],
   "source": [
    "lvwreturns.describe()"
   ]
  },
  {
   "cell_type": "code",
   "execution_count": 19,
   "id": "7db6144c",
   "metadata": {
    "execution": {
     "iopub.execute_input": "2024-02-21T23:48:43.806094Z",
     "iopub.status.busy": "2024-02-21T23:48:43.805810Z",
     "iopub.status.idle": "2024-02-21T23:48:43.810581Z",
     "shell.execute_reply": "2024-02-21T23:48:43.809752Z"
    },
    "papermill": {
     "duration": 0.024402,
     "end_time": "2024-02-21T23:48:43.812508",
     "exception": false,
     "start_time": "2024-02-21T23:48:43.788106",
     "status": "completed"
    },
    "tags": []
   },
   "outputs": [],
   "source": [
    "## plot histograms of the value-weighted returns for each model and the market in lvwreturns\n",
    "#plt.figure(figsize=(12, round(len(prediction_cols)/2) * 5 ))\n",
    "#\n",
    "#for i, pred_col in enumerate(prediction_cols):\n",
    "#    plt.subplot(len(prediction_cols)/2 +1, 2, i+1)\n",
    "#    plt.hist(lvwreturns[f'vwreturn_{pred_col}'], bins=50, color='skyblue', edgecolor='black')\n",
    "#    plt.title(f'Value-Weighted Return - {pred_col}')\n",
    "#    plt.xlabel('Value-Weighted Return')\n",
    "#    plt.ylabel('Frequency')\n",
    "#    # calculate mean, skewness and kurtosis and add their values to the plot as a text, aligning to the top right corner\n",
    "#    mean = lvwreturns[f'vwreturn_{pred_col}'].mean()\n",
    "#    skewness = lvwreturns[f'vwreturn_{pred_col}'].skew()\n",
    "#    kurtosis = lvwreturns[f'vwreturn_{pred_col}'].kurtosis()\n",
    "#\n",
    "#    plt.text(0.95, 0.95, f'Mean: {mean:.4f}\\nSkewness: {skewness:.4f}\\nKurtosis: {kurtosis:.4f}', ha='right', va='top', transform=plt.gca().transAxes)\n",
    "#\n",
    "#\n",
    "#\n",
    "#plt.subplot(round(len(prediction_cols)/2) +1, 2, len(prediction_cols)+1)\n",
    "#plt.title('Value-Weighted Return - Market')\n",
    "#plt.xlabel('Value-Weighted Return')\n",
    "#plt.ylabel('Frequency')\n",
    "#plt.hist(lvwreturns['Mkt'], bins=50, color='skyblue', edgecolor='black')\n",
    "#mean = lvwreturns['Mkt'].mean()\n",
    "#skewness = lvwreturns['Mkt'].skew()\n",
    "#kurtosis = lvwreturns['Mkt'].kurtosis()\n",
    "#plt.text(0.95, 0.95, f'Mean: {mean:.4f}\\nSkewness: {skewness:.4f}\\nKurtosis: {kurtosis:.4f}', ha='right', va='top', transform=plt.gca().transAxes)\n",
    "#\n",
    "#plt.tight_layout()\n",
    "#plt.show()\n",
    "#"
   ]
  },
  {
   "cell_type": "code",
   "execution_count": 20,
   "id": "9ec776e8",
   "metadata": {
    "execution": {
     "iopub.execute_input": "2024-02-21T23:48:43.847045Z",
     "iopub.status.busy": "2024-02-21T23:48:43.846762Z",
     "iopub.status.idle": "2024-02-21T23:48:43.850484Z",
     "shell.execute_reply": "2024-02-21T23:48:43.849757Z"
    },
    "papermill": {
     "duration": 0.023233,
     "end_time": "2024-02-21T23:48:43.852398",
     "exception": false,
     "start_time": "2024-02-21T23:48:43.829165",
     "status": "completed"
    },
    "tags": []
   },
   "outputs": [],
   "source": [
    "## plot cumulative sums of the value-weighted log returns\n",
    "#plt.figure(figsize=(12, 6))\n",
    "#plt.plot(lvwreturns['date'], lvwreturns.iloc[:, 1:].cumsum())\n",
    "#plt.title('Cumulative Value-Weighted Log Returns')\n",
    "#plt.xlabel('Date')\n",
    "#plt.ylabel('Cumulative Value-Weighted Log Returns')\n",
    "#plt.legend(prediction_cols + ['Market'])\n",
    "#plt.show()\n"
   ]
  },
  {
   "cell_type": "code",
   "execution_count": 21,
   "id": "9ebe0480",
   "metadata": {
    "execution": {
     "iopub.execute_input": "2024-02-21T23:48:43.887158Z",
     "iopub.status.busy": "2024-02-21T23:48:43.886880Z",
     "iopub.status.idle": "2024-02-21T23:48:44.936248Z",
     "shell.execute_reply": "2024-02-21T23:48:44.935269Z"
    },
    "papermill": {
     "duration": 1.069449,
     "end_time": "2024-02-21T23:48:44.938622",
     "exception": false,
     "start_time": "2024-02-21T23:48:43.869173",
     "status": "completed"
    },
    "tags": []
   },
   "outputs": [],
   "source": [
    "# save the lvwreturns and portfolio DataFrame to a parquet file into 'outputs' folder\n",
    "\n",
    "# for reproducibility and visualization purposes\n",
    "lvwreturns.to_parquet('base_lvwreturns_class_ac22.parquet')\n",
    "portfolio.to_parquet('base_portfolio_class_ac22.parquet')\n",
    "\n",
    "# save vwreturns DataFrame to a .dta file into 'outputs' folder\n",
    "#vwreturns.to_stata('outputs/vwreturns.dta') # for backtasting in R - we need normal returns, not log returns\n"
   ]
  }
 ],
 "metadata": {
  "kaggle": {
   "accelerator": "none",
   "dataSources": [
    {
     "datasetId": 4464890,
     "sourceId": 7657795,
     "sourceType": "datasetVersion"
    }
   ],
   "dockerImageVersionId": 30646,
   "isGpuEnabled": false,
   "isInternetEnabled": true,
   "language": "python",
   "sourceType": "notebook"
  },
  "kernelspec": {
   "display_name": "base",
   "language": "python",
   "name": "python3"
  },
  "language_info": {
   "codemirror_mode": {
    "name": "ipython",
    "version": 3
   },
   "file_extension": ".py",
   "mimetype": "text/x-python",
   "name": "python",
   "nbconvert_exporter": "python",
   "pygments_lexer": "ipython3",
   "version": "3.10.13"
  },
  "papermill": {
   "default_parameters": {},
   "duration": 17901.031372,
   "end_time": "2024-02-21T23:48:45.511059",
   "environment_variables": {},
   "exception": null,
   "input_path": "__notebook__.ipynb",
   "output_path": "__notebook__.ipynb",
   "parameters": {},
   "start_time": "2024-02-21T18:50:24.479687",
   "version": "2.5.0"
  }
 },
 "nbformat": 4,
 "nbformat_minor": 5
}
