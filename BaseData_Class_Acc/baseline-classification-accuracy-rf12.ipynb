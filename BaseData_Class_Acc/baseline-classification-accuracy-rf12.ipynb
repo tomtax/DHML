{
 "cells": [
  {
   "cell_type": "markdown",
   "id": "997f894a",
   "metadata": {
    "papermill": {
     "duration": 0.00927,
     "end_time": "2024-02-21T09:35:58.275137",
     "exception": false,
     "start_time": "2024-02-21T09:35:58.265867",
     "status": "completed"
    },
    "tags": []
   },
   "source": [
    "# Framework for predictions and portfolio forming"
   ]
  },
  {
   "cell_type": "code",
   "execution_count": 1,
   "id": "aebd7be3",
   "metadata": {
    "execution": {
     "iopub.execute_input": "2024-02-21T09:35:58.295205Z",
     "iopub.status.busy": "2024-02-21T09:35:58.294381Z",
     "iopub.status.idle": "2024-02-21T09:36:01.731666Z",
     "shell.execute_reply": "2024-02-21T09:36:01.730493Z"
    },
    "papermill": {
     "duration": 3.450511,
     "end_time": "2024-02-21T09:36:01.734434",
     "exception": false,
     "start_time": "2024-02-21T09:35:58.283923",
     "status": "completed"
    },
    "tags": []
   },
   "outputs": [],
   "source": [
    "import numpy as np\n",
    "import pandas as pd\n",
    "pd.set_option('display.max_columns', None)\n",
    "import matplotlib.pyplot as plt\n",
    "import seaborn as sns\n",
    "import datetime as dt\n",
    "import time\n",
    "\n",
    "# import the parquet library\n",
    "import pyarrow.parquet as pq\n",
    "\n",
    "# import model libraries\n",
    "from sklearn.preprocessing import StandardScaler, MinMaxScaler\n",
    "from sklearn.linear_model import LogisticRegression, LinearRegression\n",
    "from sklearn.tree import DecisionTreeClassifier, DecisionTreeRegressor\n",
    "from sklearn.ensemble import RandomForestClassifier, RandomForestRegressor\n",
    "from sklearn.metrics import mean_squared_error, accuracy_score"
   ]
  },
  {
   "cell_type": "code",
   "execution_count": 2,
   "id": "d5a2dfba",
   "metadata": {
    "execution": {
     "iopub.execute_input": "2024-02-21T09:36:01.755613Z",
     "iopub.status.busy": "2024-02-21T09:36:01.755023Z",
     "iopub.status.idle": "2024-02-21T09:36:03.052361Z",
     "shell.execute_reply": "2024-02-21T09:36:03.051057Z"
    },
    "papermill": {
     "duration": 1.310668,
     "end_time": "2024-02-21T09:36:03.055085",
     "exception": false,
     "start_time": "2024-02-21T09:36:01.744417",
     "status": "completed"
    },
    "tags": []
   },
   "outputs": [
    {
     "data": {
      "text/html": [
       "<div>\n",
       "<style scoped>\n",
       "    .dataframe tbody tr th:only-of-type {\n",
       "        vertical-align: middle;\n",
       "    }\n",
       "\n",
       "    .dataframe tbody tr th {\n",
       "        vertical-align: top;\n",
       "    }\n",
       "\n",
       "    .dataframe thead th {\n",
       "        text-align: right;\n",
       "    }\n",
       "</style>\n",
       "<table border=\"1\" class=\"dataframe\">\n",
       "  <thead>\n",
       "    <tr style=\"text-align: right;\">\n",
       "      <th></th>\n",
       "      <th>PERMNO</th>\n",
       "      <th>date</th>\n",
       "      <th>RET</th>\n",
       "      <th>ME</th>\n",
       "      <th>bull_D</th>\n",
       "      <th>bear_D</th>\n",
       "      <th>bull_W</th>\n",
       "      <th>bear_W</th>\n",
       "      <th>bull_M</th>\n",
       "      <th>bear_M</th>\n",
       "      <th>LMKT</th>\n",
       "      <th>IVOL</th>\n",
       "      <th>y</th>\n",
       "    </tr>\n",
       "  </thead>\n",
       "  <tbody>\n",
       "    <tr>\n",
       "      <th>0</th>\n",
       "      <td>10000</td>\n",
       "      <td>1986-02-28</td>\n",
       "      <td>-0.257143</td>\n",
       "      <td>11960.00000</td>\n",
       "      <td>0.0</td>\n",
       "      <td>0.0</td>\n",
       "      <td>0.0</td>\n",
       "      <td>1.0</td>\n",
       "      <td>0</td>\n",
       "      <td>0</td>\n",
       "      <td>0.0121</td>\n",
       "      <td>0.004058</td>\n",
       "      <td>0</td>\n",
       "    </tr>\n",
       "    <tr>\n",
       "      <th>1</th>\n",
       "      <td>10000</td>\n",
       "      <td>1986-03-31</td>\n",
       "      <td>0.365385</td>\n",
       "      <td>16330.00000</td>\n",
       "      <td>0.0</td>\n",
       "      <td>0.0</td>\n",
       "      <td>0.0</td>\n",
       "      <td>0.0</td>\n",
       "      <td>0</td>\n",
       "      <td>0</td>\n",
       "      <td>0.0766</td>\n",
       "      <td>0.000973</td>\n",
       "      <td>1</td>\n",
       "    </tr>\n",
       "    <tr>\n",
       "      <th>2</th>\n",
       "      <td>10000</td>\n",
       "      <td>1986-04-30</td>\n",
       "      <td>-0.098592</td>\n",
       "      <td>15172.00000</td>\n",
       "      <td>0.0</td>\n",
       "      <td>1.0</td>\n",
       "      <td>0.0</td>\n",
       "      <td>0.0</td>\n",
       "      <td>0</td>\n",
       "      <td>0</td>\n",
       "      <td>0.0548</td>\n",
       "      <td>0.001993</td>\n",
       "      <td>0</td>\n",
       "    </tr>\n",
       "    <tr>\n",
       "      <th>3</th>\n",
       "      <td>10000</td>\n",
       "      <td>1986-05-31</td>\n",
       "      <td>-0.222656</td>\n",
       "      <td>11793.87834</td>\n",
       "      <td>0.0</td>\n",
       "      <td>0.0</td>\n",
       "      <td>0.0</td>\n",
       "      <td>0.0</td>\n",
       "      <td>0</td>\n",
       "      <td>1</td>\n",
       "      <td>-0.0079</td>\n",
       "      <td>0.000163</td>\n",
       "      <td>0</td>\n",
       "    </tr>\n",
       "    <tr>\n",
       "      <th>4</th>\n",
       "      <td>10000</td>\n",
       "      <td>1986-06-30</td>\n",
       "      <td>-0.005025</td>\n",
       "      <td>11734.59375</td>\n",
       "      <td>0.0</td>\n",
       "      <td>0.0</td>\n",
       "      <td>0.0</td>\n",
       "      <td>0.0</td>\n",
       "      <td>0</td>\n",
       "      <td>2</td>\n",
       "      <td>0.0511</td>\n",
       "      <td>0.001569</td>\n",
       "      <td>0</td>\n",
       "    </tr>\n",
       "  </tbody>\n",
       "</table>\n",
       "</div>"
      ],
      "text/plain": [
       "   PERMNO       date       RET           ME  bull_D  bear_D  bull_W  bear_W  \\\n",
       "0   10000 1986-02-28 -0.257143  11960.00000     0.0     0.0     0.0     1.0   \n",
       "1   10000 1986-03-31  0.365385  16330.00000     0.0     0.0     0.0     0.0   \n",
       "2   10000 1986-04-30 -0.098592  15172.00000     0.0     1.0     0.0     0.0   \n",
       "3   10000 1986-05-31 -0.222656  11793.87834     0.0     0.0     0.0     0.0   \n",
       "4   10000 1986-06-30 -0.005025  11734.59375     0.0     0.0     0.0     0.0   \n",
       "\n",
       "   bull_M  bear_M    LMKT      IVOL  y  \n",
       "0       0       0  0.0121  0.004058  0  \n",
       "1       0       0  0.0766  0.000973  1  \n",
       "2       0       0  0.0548  0.001993  0  \n",
       "3       0       1 -0.0079  0.000163  0  \n",
       "4       0       2  0.0511  0.001569  0  "
      ]
     },
     "execution_count": 2,
     "metadata": {},
     "output_type": "execute_result"
    }
   ],
   "source": [
    "# load 'basemodel.parquet'\n",
    "#df = pd.read_parquet('basemodel.parquet')\n",
    "df = pd.read_parquet('/kaggle/input/sign-prediction-datasets/basemodel.parquet')\n",
    "prediction_cols = []\n",
    "df.head()"
   ]
  },
  {
   "cell_type": "code",
   "execution_count": 3,
   "id": "51070804",
   "metadata": {
    "execution": {
     "iopub.execute_input": "2024-02-21T09:36:03.076385Z",
     "iopub.status.busy": "2024-02-21T09:36:03.075981Z",
     "iopub.status.idle": "2024-02-21T09:36:03.081211Z",
     "shell.execute_reply": "2024-02-21T09:36:03.080251Z"
    },
    "papermill": {
     "duration": 0.018125,
     "end_time": "2024-02-21T09:36:03.083368",
     "exception": false,
     "start_time": "2024-02-21T09:36:03.065243",
     "status": "completed"
    },
    "tags": []
   },
   "outputs": [],
   "source": [
    "# select the columns to be used for prediction\n",
    "X_col = ['bull_D', 'bear_D', 'bull_W', 'bear_W', 'bull_M', 'bear_M', 'LMKT', 'IVOL']"
   ]
  },
  {
   "cell_type": "code",
   "execution_count": 4,
   "id": "28a5bcf3",
   "metadata": {
    "execution": {
     "iopub.execute_input": "2024-02-21T09:36:03.104379Z",
     "iopub.status.busy": "2024-02-21T09:36:03.103936Z",
     "iopub.status.idle": "2024-02-21T09:36:04.192714Z",
     "shell.execute_reply": "2024-02-21T09:36:04.190649Z"
    },
    "papermill": {
     "duration": 1.103567,
     "end_time": "2024-02-21T09:36:04.196018",
     "exception": false,
     "start_time": "2024-02-21T09:36:03.092451",
     "status": "completed"
    },
    "tags": []
   },
   "outputs": [],
   "source": [
    "# Convert 'date' to datetime format (if not already done) and sort the DataFrame\n",
    "df['date'] = pd.to_datetime(df['date'])\n",
    "df.sort_values(by='date', inplace=True)\n",
    "df.reset_index(drop=True, inplace=True)\n",
    "\n",
    "# Create a 'year' column based on the 'date' column\n",
    "df['year'] = df['date'].dt.year"
   ]
  },
  {
   "cell_type": "markdown",
   "id": "791e9bfc",
   "metadata": {
    "papermill": {
     "duration": 0.009209,
     "end_time": "2024-02-21T09:36:04.214357",
     "exception": false,
     "start_time": "2024-02-21T09:36:04.205148",
     "status": "completed"
    },
    "tags": []
   },
   "source": [
    "# Paper Replication - OLS and Logit, Expanding Window - No Hyperparameters\n",
    "- They start with out of sample forecasting in 1932\n",
    "- models will be named model_default"
   ]
  },
  {
   "cell_type": "markdown",
   "id": "43fefdfc",
   "metadata": {
    "papermill": {
     "duration": 0.009026,
     "end_time": "2024-02-21T09:36:04.233552",
     "exception": false,
     "start_time": "2024-02-21T09:36:04.224526",
     "status": "completed"
    },
    "tags": []
   },
   "source": [
    "# My Experiments"
   ]
  },
  {
   "cell_type": "markdown",
   "id": "d76bc818",
   "metadata": {
    "papermill": {
     "duration": 0.0106,
     "end_time": "2024-02-21T09:36:04.254275",
     "exception": false,
     "start_time": "2024-02-21T09:36:04.243675",
     "status": "completed"
    },
    "tags": []
   },
   "source": [
    "## Machine Learning - Hyperparameter Tuning included in the process\n",
    "- models to be named 'model_clas/reg_exp/roll'"
   ]
  },
  {
   "cell_type": "markdown",
   "id": "fe55a7ca",
   "metadata": {
    "papermill": {
     "duration": 0.008958,
     "end_time": "2024-02-21T09:36:04.272892",
     "exception": false,
     "start_time": "2024-02-21T09:36:04.263934",
     "status": "completed"
    },
    "tags": []
   },
   "source": [
    "### Expanding Window Estimation"
   ]
  },
  {
   "cell_type": "markdown",
   "id": "c57d2cdc",
   "metadata": {
    "papermill": {
     "duration": 0.009719,
     "end_time": "2024-02-21T09:36:04.291705",
     "exception": false,
     "start_time": "2024-02-21T09:36:04.281986",
     "status": "completed"
    },
    "tags": []
   },
   "source": [
    "##### Accuracy as evaluation metric"
   ]
  },
  {
   "cell_type": "code",
   "execution_count": null,
   "id": "58c82dd8",
   "metadata": {
    "papermill": {
     "duration": 0.00931,
     "end_time": "2024-02-21T09:36:04.310649",
     "exception": false,
     "start_time": "2024-02-21T09:36:04.301339",
     "status": "completed"
    },
    "tags": []
   },
   "outputs": [],
   "source": []
  },
  {
   "cell_type": "markdown",
   "id": "97cc3a5a",
   "metadata": {
    "papermill": {
     "duration": 0.009279,
     "end_time": "2024-02-21T09:36:04.329448",
     "exception": false,
     "start_time": "2024-02-21T09:36:04.320169",
     "status": "completed"
    },
    "tags": []
   },
   "source": [
    "### First expanding, then rolling\n",
    "start predicting for 1932, expand the window until you reach X years, then roll it"
   ]
  },
  {
   "cell_type": "markdown",
   "id": "1acb28e2",
   "metadata": {
    "papermill": {
     "duration": 0.0104,
     "end_time": "2024-02-21T09:36:04.351042",
     "exception": false,
     "start_time": "2024-02-21T09:36:04.340642",
     "status": "completed"
    },
    "tags": []
   },
   "source": [
    "#### Accuracy Evaluation"
   ]
  },
  {
   "cell_type": "markdown",
   "id": "f1815575",
   "metadata": {
    "papermill": {
     "duration": 0.009642,
     "end_time": "2024-02-21T09:36:04.370664",
     "exception": false,
     "start_time": "2024-02-21T09:36:04.361022",
     "status": "completed"
    },
    "tags": []
   },
   "source": [
    "##### 5 year window"
   ]
  },
  {
   "cell_type": "code",
   "execution_count": 5,
   "id": "fdda45f6",
   "metadata": {
    "execution": {
     "iopub.execute_input": "2024-02-21T09:36:04.392483Z",
     "iopub.status.busy": "2024-02-21T09:36:04.391176Z",
     "iopub.status.idle": "2024-02-21T09:36:04.397043Z",
     "shell.execute_reply": "2024-02-21T09:36:04.396060Z"
    },
    "papermill": {
     "duration": 0.019765,
     "end_time": "2024-02-21T09:36:04.399814",
     "exception": false,
     "start_time": "2024-02-21T09:36:04.380049",
     "status": "completed"
    },
    "tags": []
   },
   "outputs": [],
   "source": [
    "# set the length of the rolling window\n",
    "rolling_window = 5 # years"
   ]
  },
  {
   "cell_type": "code",
   "execution_count": 6,
   "id": "f28f7874",
   "metadata": {
    "execution": {
     "iopub.execute_input": "2024-02-21T09:36:04.423455Z",
     "iopub.status.busy": "2024-02-21T09:36:04.422556Z",
     "iopub.status.idle": "2024-02-21T10:15:06.680140Z",
     "shell.execute_reply": "2024-02-21T10:15:06.678470Z"
    },
    "papermill": {
     "duration": 2342.272634,
     "end_time": "2024-02-21T10:15:06.683138",
     "exception": false,
     "start_time": "2024-02-21T09:36:04.410504",
     "status": "completed"
    },
    "tags": []
   },
   "outputs": [
    {
     "name": "stdout",
     "output_type": "stream",
     "text": [
      "Year 1933 - Best n_estimators: 50, Best max_depth: 15, Best Accuracy: 0.86, Time: 5.35 seconds\n",
      "Year 1934 - Best n_estimators: 50, Best max_depth: 10, Best Accuracy: 0.89, Time: 5.37 seconds\n",
      "Year 1935 - Best n_estimators: 100, Best max_depth: 10, Best Accuracy: 0.85, Time: 5.96 seconds\n",
      "Year 1936 - Best n_estimators: 10, Best max_depth: 10, Best Accuracy: 0.82, Time: 5.14 seconds\n",
      "Year 1937 - Best n_estimators: 100, Best max_depth: 10, Best Accuracy: 0.85, Time: 6.19 seconds\n",
      "Year 1938 - Best n_estimators: 100, Best max_depth: 5, Best Accuracy: 0.89, Time: 5.92 seconds\n",
      "Year 1939 - Best n_estimators: 100, Best max_depth: 10, Best Accuracy: 0.87, Time: 5.88 seconds\n",
      "Year 1940 - Best n_estimators: 100, Best max_depth: 5, Best Accuracy: 0.9, Time: 5.73 seconds\n",
      "Year 1941 - Best n_estimators: 10, Best max_depth: 5, Best Accuracy: 0.81, Time: 5.14 seconds\n",
      "Year 1942 - Best n_estimators: 10, Best max_depth: 5, Best Accuracy: 0.82, Time: 5.45 seconds\n",
      "Year 1943 - Best n_estimators: 10, Best max_depth: 5, Best Accuracy: 0.83, Time: 5.54 seconds\n",
      "Year 1944 - Best n_estimators: 100, Best max_depth: 10, Best Accuracy: 0.88, Time: 6.21 seconds\n",
      "Year 1945 - Best n_estimators: 100, Best max_depth: 15, Best Accuracy: 0.83, Time: 6.54 seconds\n",
      "Year 1946 - Best n_estimators: 10, Best max_depth: 10, Best Accuracy: 0.88, Time: 5.37 seconds\n",
      "Year 1947 - Best n_estimators: 100, Best max_depth: 15, Best Accuracy: 0.86, Time: 6.52 seconds\n",
      "Year 1948 - Best n_estimators: 50, Best max_depth: 5, Best Accuracy: 0.84, Time: 6.36 seconds\n",
      "Year 1949 - Best n_estimators: 100, Best max_depth: 10, Best Accuracy: 0.86, Time: 6.75 seconds\n",
      "Year 1950 - Best n_estimators: 50, Best max_depth: 15, Best Accuracy: 0.83, Time: 6.32 seconds\n",
      "Year 1951 - Best n_estimators: 10, Best max_depth: 10, Best Accuracy: 0.86, Time: 5.96 seconds\n",
      "Year 1952 - Best n_estimators: 50, Best max_depth: 5, Best Accuracy: 0.87, Time: 6.42 seconds\n",
      "Year 1953 - Best n_estimators: 100, Best max_depth: 10, Best Accuracy: 0.86, Time: 7.65 seconds\n",
      "Year 1954 - Best n_estimators: 100, Best max_depth: 5, Best Accuracy: 0.84, Time: 7.10 seconds\n",
      "Year 1955 - Best n_estimators: 50, Best max_depth: 15, Best Accuracy: 0.85, Time: 7.12 seconds\n",
      "Year 1956 - Best n_estimators: 10, Best max_depth: 10, Best Accuracy: 0.84, Time: 6.40 seconds\n",
      "Year 1957 - Best n_estimators: 100, Best max_depth: 15, Best Accuracy: 0.86, Time: 8.44 seconds\n",
      "Year 1958 - Best n_estimators: 10, Best max_depth: 10, Best Accuracy: 0.85, Time: 6.74 seconds\n",
      "Year 1959 - Best n_estimators: 50, Best max_depth: 5, Best Accuracy: 0.86, Time: 7.12 seconds\n",
      "Year 1960 - Best n_estimators: 50, Best max_depth: 10, Best Accuracy: 0.83, Time: 7.19 seconds\n",
      "Year 1961 - Best n_estimators: 100, Best max_depth: 10, Best Accuracy: 0.84, Time: 7.62 seconds\n",
      "Year 1962 - Best n_estimators: 50, Best max_depth: 10, Best Accuracy: 0.85, Time: 7.37 seconds\n",
      "Year 1963 - Best n_estimators: 10, Best max_depth: 10, Best Accuracy: 0.86, Time: 6.64 seconds\n",
      "Year 1964 - Best n_estimators: 50, Best max_depth: 10, Best Accuracy: 0.82, Time: 7.79 seconds\n",
      "Year 1965 - Best n_estimators: 10, Best max_depth: 5, Best Accuracy: 0.81, Time: 8.69 seconds\n",
      "Year 1966 - Best n_estimators: 50, Best max_depth: 10, Best Accuracy: 0.83, Time: 11.49 seconds\n",
      "Year 1967 - Best n_estimators: 10, Best max_depth: 10, Best Accuracy: 0.84, Time: 11.90 seconds\n",
      "Year 1968 - Best n_estimators: 10, Best max_depth: 10, Best Accuracy: 0.87, Time: 13.37 seconds\n",
      "Year 1969 - Best n_estimators: 100, Best max_depth: 10, Best Accuracy: 0.86, Time: 15.36 seconds\n",
      "Year 1970 - Best n_estimators: 50, Best max_depth: 10, Best Accuracy: 0.88, Time: 13.84 seconds\n",
      "Year 1971 - Best n_estimators: 100, Best max_depth: 5, Best Accuracy: 0.86, Time: 14.69 seconds\n",
      "Year 1972 - Best n_estimators: 100, Best max_depth: 5, Best Accuracy: 0.86, Time: 14.36 seconds\n",
      "Year 1973 - Best n_estimators: 50, Best max_depth: 5, Best Accuracy: 0.85, Time: 14.48 seconds\n",
      "Year 1974 - Best n_estimators: 100, Best max_depth: 5, Best Accuracy: 0.85, Time: 16.28 seconds\n",
      "Year 1975 - Best n_estimators: 100, Best max_depth: 5, Best Accuracy: 0.82, Time: 22.40 seconds\n",
      "Year 1976 - Best n_estimators: 100, Best max_depth: 10, Best Accuracy: 0.81, Time: 29.16 seconds\n",
      "Year 1977 - Best n_estimators: 100, Best max_depth: 15, Best Accuracy: 0.82, Time: 36.49 seconds\n",
      "Year 1978 - Best n_estimators: 10, Best max_depth: 15, Best Accuracy: 0.82, Time: 34.01 seconds\n",
      "Year 1979 - Best n_estimators: 100, Best max_depth: 10, Best Accuracy: 0.83, Time: 39.55 seconds\n",
      "Year 1980 - Best n_estimators: 100, Best max_depth: 10, Best Accuracy: 0.82, Time: 38.45 seconds\n",
      "Year 1981 - Best n_estimators: 10, Best max_depth: 10, Best Accuracy: 0.85, Time: 32.08 seconds\n",
      "Year 1982 - Best n_estimators: 100, Best max_depth: 10, Best Accuracy: 0.84, Time: 38.49 seconds\n",
      "Year 1983 - Best n_estimators: 100, Best max_depth: 5, Best Accuracy: 0.84, Time: 36.61 seconds\n",
      "Year 1984 - Best n_estimators: 10, Best max_depth: 5, Best Accuracy: 0.83, Time: 33.76 seconds\n",
      "Year 1985 - Best n_estimators: 100, Best max_depth: 10, Best Accuracy: 0.82, Time: 42.56 seconds\n",
      "Year 1986 - Best n_estimators: 50, Best max_depth: 5, Best Accuracy: 0.84, Time: 41.84 seconds\n",
      "Year 1987 - Best n_estimators: 100, Best max_depth: 15, Best Accuracy: 0.84, Time: 50.09 seconds\n",
      "Year 1988 - Best n_estimators: 10, Best max_depth: 10, Best Accuracy: 0.83, Time: 44.62 seconds\n",
      "Year 1989 - Best n_estimators: 100, Best max_depth: 5, Best Accuracy: 0.81, Time: 52.28 seconds\n",
      "Year 1990 - Best n_estimators: 10, Best max_depth: 10, Best Accuracy: 0.83, Time: 48.62 seconds\n",
      "Year 1991 - Best n_estimators: 50, Best max_depth: 10, Best Accuracy: 0.84, Time: 52.16 seconds\n",
      "Year 1992 - Best n_estimators: 50, Best max_depth: 10, Best Accuracy: 0.83, Time: 51.20 seconds\n",
      "Year 1993 - Best n_estimators: 100, Best max_depth: 5, Best Accuracy: 0.81, Time: 51.89 seconds\n",
      "Year 1994 - Best n_estimators: 50, Best max_depth: 10, Best Accuracy: 0.81, Time: 50.16 seconds\n",
      "Year 1995 - Best n_estimators: 100, Best max_depth: 15, Best Accuracy: 0.81, Time: 57.64 seconds\n",
      "Year 1996 - Best n_estimators: 50, Best max_depth: 5, Best Accuracy: 0.81, Time: 51.46 seconds\n",
      "Year 1997 - Best n_estimators: 100, Best max_depth: 10, Best Accuracy: 0.81, Time: 62.04 seconds\n",
      "Year 1998 - Best n_estimators: 50, Best max_depth: 10, Best Accuracy: 0.84, Time: 61.96 seconds\n",
      "Year 1999 - Best n_estimators: 50, Best max_depth: 10, Best Accuracy: 0.84, Time: 65.95 seconds\n",
      "Year 2000 - Best n_estimators: 50, Best max_depth: 5, Best Accuracy: 0.82, Time: 64.74 seconds\n",
      "Year 2001 - Best n_estimators: 50, Best max_depth: 5, Best Accuracy: 0.84, Time: 62.58 seconds\n",
      "Year 2002 - Best n_estimators: 10, Best max_depth: 10, Best Accuracy: 0.84, Time: 57.55 seconds\n",
      "Year 2003 - Best n_estimators: 50, Best max_depth: 5, Best Accuracy: 0.85, Time: 56.74 seconds\n",
      "Year 2004 - Best n_estimators: 100, Best max_depth: 5, Best Accuracy: 0.83, Time: 55.66 seconds\n",
      "Year 2005 - Best n_estimators: 50, Best max_depth: 5, Best Accuracy: 0.84, Time: 47.76 seconds\n",
      "Year 2006 - Best n_estimators: 50, Best max_depth: 5, Best Accuracy: 0.85, Time: 42.00 seconds\n",
      "Year 2007 - Best n_estimators: 100, Best max_depth: 10, Best Accuracy: 0.84, Time: 44.08 seconds\n",
      "Year 2008 - Best n_estimators: 50, Best max_depth: 5, Best Accuracy: 0.85, Time: 37.06 seconds\n",
      "Year 2009 - Best n_estimators: 50, Best max_depth: 5, Best Accuracy: 0.86, Time: 36.43 seconds\n",
      "Year 2010 - Best n_estimators: 10, Best max_depth: 5, Best Accuracy: 0.85, Time: 33.09 seconds\n",
      "Year 2011 - Best n_estimators: 10, Best max_depth: 10, Best Accuracy: 0.89, Time: 31.70 seconds\n",
      "Year 2012 - Best n_estimators: 100, Best max_depth: 5, Best Accuracy: 0.85, Time: 34.57 seconds\n",
      "Year 2013 - Best n_estimators: 100, Best max_depth: 10, Best Accuracy: 0.86, Time: 34.11 seconds\n",
      "Year 2014 - Best n_estimators: 50, Best max_depth: 10, Best Accuracy: 0.87, Time: 29.54 seconds\n",
      "Year 2015 - Best n_estimators: 50, Best max_depth: 5, Best Accuracy: 0.86, Time: 27.35 seconds\n",
      "Year 2016 - Best n_estimators: 10, Best max_depth: 10, Best Accuracy: 0.84, Time: 25.37 seconds\n",
      "Year 2017 - Best n_estimators: 10, Best max_depth: 10, Best Accuracy: 0.84, Time: 25.71 seconds\n",
      "Year 2018 - Best n_estimators: 10, Best max_depth: 5, Best Accuracy: 0.84, Time: 25.37 seconds\n",
      "Year 2019 - Best n_estimators: 100, Best max_depth: 10, Best Accuracy: 0.84, Time: 29.53 seconds\n",
      "Year 2020 - Best n_estimators: 10, Best max_depth: 15, Best Accuracy: 0.86, Time: 25.25 seconds\n",
      "Year 2021 - Best n_estimators: 10, Best max_depth: 10, Best Accuracy: 0.86, Time: 24.72 seconds\n",
      "Year 2022 - Best n_estimators: 10, Best max_depth: 15, Best Accuracy: 0.85, Time: 26.08 seconds\n"
     ]
    }
   ],
   "source": [
    "############################################\n",
    "# RF CLASSIFICATION MODEL - ACCURACY\n",
    "############################################\n",
    "\n",
    "model_name = 'RF_class_roll5_AC'\n",
    "\n",
    "# Predefined set of max_depth values for hyperparameter tuning\n",
    "# Define the hyperparameters to test\n",
    "HP1 = [10, 50, 100]  # n_estimators\n",
    "HP2 = [5, 10, 15]  # max_depth (None means no limit)\n",
    "\n",
    "# Update the column name for storing Decision Tree regression predictions\n",
    "df[model_name] = np.nan\n",
    "\n",
    "# Ensure the new column is in the prediction_cols list\n",
    "if model_name not in prediction_cols:\n",
    "    prediction_cols.append(model_name)\n",
    "\n",
    "start_modeling_year = df['year'].min() + 7\n",
    "\n",
    "for year in range(start_modeling_year, df['year'].max() + 1):\n",
    "    start_time = time.time()  # Timing each iteration\n",
    "    \n",
    "    train_start_year = max(year - rolling_window, df['year'].min())\n",
    "    train_data = df[(df['year'] >= train_start_year) & (df['year'] < year)]\n",
    "    \n",
    "    tuning_data = train_data[train_data['year'] == year - 1]\n",
    "    actual_train_data = train_data[train_data['year'] < year - 1]\n",
    "    \n",
    "    X_train = actual_train_data[X_col]\n",
    "    y_train = actual_train_data['y']\n",
    "    \n",
    "    X_tune = tuning_data[X_col]\n",
    "    y_tune = tuning_data['y']\n",
    "    \n",
    "    best_HP1 = None\n",
    "    best_HP2 = None\n",
    "    best_accuracy = 0\n",
    "\n",
    "    # Hyperparameter tuning\n",
    "    for hp1 in HP1:\n",
    "        for hp2 in HP2:\n",
    "            model = RandomForestClassifier(n_estimators=hp1, max_depth=hp2, random_state=42, n_jobs=-1)\n",
    "            model.fit(X_train, y_train)\n",
    "            predictions = model.predict(X_tune)\n",
    "            accuracy = accuracy_score(y_tune, predictions)\n",
    "\n",
    "            if accuracy > best_accuracy:\n",
    "                best_accuracy = accuracy\n",
    "                best_HP1 = hp1\n",
    "                best_HP2 = hp2\n",
    "    \n",
    "    # Retrain on the entire training window with the best max_depth value\n",
    "    model = model = RandomForestClassifier(n_estimators=best_HP1, max_depth=best_HP2, random_state=42, n_jobs=-1)\n",
    "    model.fit(X_train, y_train)\n",
    "    \n",
    "    # Predict for the next year\n",
    "    next_year_data = df[df['year'] == year]\n",
    "    X_next_year = next_year_data[X_col]\n",
    "    \n",
    "    if not X_next_year.empty:\n",
    "        next_year_predictions = model.predict_proba(X_next_year)[:, 1]\n",
    "        df.loc[df['year'] == year, model_name] = next_year_predictions\n",
    "    \n",
    "    end_time = time.time()\n",
    "    iteration_time = end_time - start_time\n",
    "    \n",
    "    print(f\"Year {year} - Best n_estimators: {best_HP1}, Best max_depth: {best_HP2 if best_HP2 is not None else 'None'}, Best Accuracy: {round(best_accuracy, 2)}, Time: {iteration_time:.2f} seconds\")"
   ]
  },
  {
   "cell_type": "markdown",
   "id": "94e3582e",
   "metadata": {
    "papermill": {
     "duration": 0.017423,
     "end_time": "2024-02-21T10:15:06.718690",
     "exception": false,
     "start_time": "2024-02-21T10:15:06.701267",
     "status": "completed"
    },
    "tags": []
   },
   "source": [
    "## Forming Portfolios, Value-weighted portfolio returns"
   ]
  },
  {
   "cell_type": "code",
   "execution_count": 7,
   "id": "afef47cd",
   "metadata": {
    "execution": {
     "iopub.execute_input": "2024-02-21T10:15:06.758165Z",
     "iopub.status.busy": "2024-02-21T10:15:06.757780Z",
     "iopub.status.idle": "2024-02-21T10:15:06.781803Z",
     "shell.execute_reply": "2024-02-21T10:15:06.780336Z"
    },
    "papermill": {
     "duration": 0.04782,
     "end_time": "2024-02-21T10:15:06.784834",
     "exception": false,
     "start_time": "2024-02-21T10:15:06.737014",
     "status": "completed"
    },
    "tags": []
   },
   "outputs": [
    {
     "data": {
      "text/html": [
       "<div>\n",
       "<style scoped>\n",
       "    .dataframe tbody tr th:only-of-type {\n",
       "        vertical-align: middle;\n",
       "    }\n",
       "\n",
       "    .dataframe tbody tr th {\n",
       "        vertical-align: top;\n",
       "    }\n",
       "\n",
       "    .dataframe thead th {\n",
       "        text-align: right;\n",
       "    }\n",
       "</style>\n",
       "<table border=\"1\" class=\"dataframe\">\n",
       "  <thead>\n",
       "    <tr style=\"text-align: right;\">\n",
       "      <th></th>\n",
       "      <th>PERMNO</th>\n",
       "      <th>date</th>\n",
       "      <th>RET</th>\n",
       "      <th>ME</th>\n",
       "      <th>bull_D</th>\n",
       "      <th>bear_D</th>\n",
       "      <th>bull_W</th>\n",
       "      <th>bear_W</th>\n",
       "      <th>bull_M</th>\n",
       "      <th>bear_M</th>\n",
       "      <th>LMKT</th>\n",
       "      <th>IVOL</th>\n",
       "      <th>y</th>\n",
       "      <th>year</th>\n",
       "      <th>RF_class_roll5_AC</th>\n",
       "    </tr>\n",
       "  </thead>\n",
       "  <tbody>\n",
       "    <tr>\n",
       "      <th>0</th>\n",
       "      <td>11148</td>\n",
       "      <td>1926-08-31</td>\n",
       "      <td>0.109924</td>\n",
       "      <td>76287.5</td>\n",
       "      <td>1.0</td>\n",
       "      <td>0.0</td>\n",
       "      <td>4.0</td>\n",
       "      <td>0.0</td>\n",
       "      <td>0</td>\n",
       "      <td>0</td>\n",
       "      <td>0.0318</td>\n",
       "      <td>0.000040</td>\n",
       "      <td>1</td>\n",
       "      <td>1926</td>\n",
       "      <td>NaN</td>\n",
       "    </tr>\n",
       "    <tr>\n",
       "      <th>1</th>\n",
       "      <td>10874</td>\n",
       "      <td>1926-08-31</td>\n",
       "      <td>0.168142</td>\n",
       "      <td>16500.0</td>\n",
       "      <td>0.0</td>\n",
       "      <td>0.0</td>\n",
       "      <td>2.0</td>\n",
       "      <td>0.0</td>\n",
       "      <td>2</td>\n",
       "      <td>0</td>\n",
       "      <td>0.0318</td>\n",
       "      <td>0.000537</td>\n",
       "      <td>1</td>\n",
       "      <td>1926</td>\n",
       "      <td>NaN</td>\n",
       "    </tr>\n",
       "    <tr>\n",
       "      <th>2</th>\n",
       "      <td>12968</td>\n",
       "      <td>1926-08-31</td>\n",
       "      <td>-0.006464</td>\n",
       "      <td>55683.0</td>\n",
       "      <td>0.0</td>\n",
       "      <td>0.0</td>\n",
       "      <td>0.0</td>\n",
       "      <td>0.0</td>\n",
       "      <td>0</td>\n",
       "      <td>0</td>\n",
       "      <td>0.0318</td>\n",
       "      <td>0.000007</td>\n",
       "      <td>0</td>\n",
       "      <td>1926</td>\n",
       "      <td>NaN</td>\n",
       "    </tr>\n",
       "    <tr>\n",
       "      <th>3</th>\n",
       "      <td>12976</td>\n",
       "      <td>1926-08-31</td>\n",
       "      <td>0.156041</td>\n",
       "      <td>41650.0</td>\n",
       "      <td>1.0</td>\n",
       "      <td>0.0</td>\n",
       "      <td>0.0</td>\n",
       "      <td>0.0</td>\n",
       "      <td>0</td>\n",
       "      <td>0</td>\n",
       "      <td>0.0318</td>\n",
       "      <td>0.000070</td>\n",
       "      <td>1</td>\n",
       "      <td>1926</td>\n",
       "      <td>NaN</td>\n",
       "    </tr>\n",
       "    <tr>\n",
       "      <th>4</th>\n",
       "      <td>12984</td>\n",
       "      <td>1926-08-31</td>\n",
       "      <td>0.046875</td>\n",
       "      <td>11323.0</td>\n",
       "      <td>1.0</td>\n",
       "      <td>0.0</td>\n",
       "      <td>0.0</td>\n",
       "      <td>0.0</td>\n",
       "      <td>0</td>\n",
       "      <td>0</td>\n",
       "      <td>0.0318</td>\n",
       "      <td>0.000874</td>\n",
       "      <td>1</td>\n",
       "      <td>1926</td>\n",
       "      <td>NaN</td>\n",
       "    </tr>\n",
       "  </tbody>\n",
       "</table>\n",
       "</div>"
      ],
      "text/plain": [
       "   PERMNO       date       RET       ME  bull_D  bear_D  bull_W  bear_W  \\\n",
       "0   11148 1926-08-31  0.109924  76287.5     1.0     0.0     4.0     0.0   \n",
       "1   10874 1926-08-31  0.168142  16500.0     0.0     0.0     2.0     0.0   \n",
       "2   12968 1926-08-31 -0.006464  55683.0     0.0     0.0     0.0     0.0   \n",
       "3   12976 1926-08-31  0.156041  41650.0     1.0     0.0     0.0     0.0   \n",
       "4   12984 1926-08-31  0.046875  11323.0     1.0     0.0     0.0     0.0   \n",
       "\n",
       "   bull_M  bear_M    LMKT      IVOL  y  year  RF_class_roll5_AC  \n",
       "0       0       0  0.0318  0.000040  1  1926                NaN  \n",
       "1       2       0  0.0318  0.000537  1  1926                NaN  \n",
       "2       0       0  0.0318  0.000007  0  1926                NaN  \n",
       "3       0       0  0.0318  0.000070  1  1926                NaN  \n",
       "4       0       0  0.0318  0.000874  1  1926                NaN  "
      ]
     },
     "execution_count": 7,
     "metadata": {},
     "output_type": "execute_result"
    }
   ],
   "source": [
    "df.head()"
   ]
  },
  {
   "cell_type": "code",
   "execution_count": 8,
   "id": "802a8a1a",
   "metadata": {
    "execution": {
     "iopub.execute_input": "2024-02-21T10:15:06.824713Z",
     "iopub.status.busy": "2024-02-21T10:15:06.824270Z",
     "iopub.status.idle": "2024-02-21T10:15:06.831537Z",
     "shell.execute_reply": "2024-02-21T10:15:06.830350Z"
    },
    "papermill": {
     "duration": 0.029678,
     "end_time": "2024-02-21T10:15:06.834265",
     "exception": false,
     "start_time": "2024-02-21T10:15:06.804587",
     "status": "completed"
    },
    "tags": []
   },
   "outputs": [
    {
     "data": {
      "text/plain": [
       "['RF_class_roll5_AC']"
      ]
     },
     "execution_count": 8,
     "metadata": {},
     "output_type": "execute_result"
    }
   ],
   "source": [
    "prediction_cols\n",
    "# prediction_cols = ['logit_default','OLS_default','logit_roll6','DT_reg_roll']"
   ]
  },
  {
   "cell_type": "code",
   "execution_count": 9,
   "id": "d5163fbb",
   "metadata": {
    "execution": {
     "iopub.execute_input": "2024-02-21T10:15:06.874162Z",
     "iopub.status.busy": "2024-02-21T10:15:06.873738Z",
     "iopub.status.idle": "2024-02-21T10:15:07.371824Z",
     "shell.execute_reply": "2024-02-21T10:15:07.370593Z"
    },
    "papermill": {
     "duration": 0.521097,
     "end_time": "2024-02-21T10:15:07.374451",
     "exception": false,
     "start_time": "2024-02-21T10:15:06.853354",
     "status": "completed"
    },
    "tags": []
   },
   "outputs": [
    {
     "data": {
      "text/html": [
       "<div>\n",
       "<style scoped>\n",
       "    .dataframe tbody tr th:only-of-type {\n",
       "        vertical-align: middle;\n",
       "    }\n",
       "\n",
       "    .dataframe tbody tr th {\n",
       "        vertical-align: top;\n",
       "    }\n",
       "\n",
       "    .dataframe thead th {\n",
       "        text-align: right;\n",
       "    }\n",
       "</style>\n",
       "<table border=\"1\" class=\"dataframe\">\n",
       "  <thead>\n",
       "    <tr style=\"text-align: right;\">\n",
       "      <th></th>\n",
       "      <th>date</th>\n",
       "      <th>RET</th>\n",
       "      <th>ME</th>\n",
       "      <th>y</th>\n",
       "      <th>RF_class_roll5_AC</th>\n",
       "    </tr>\n",
       "  </thead>\n",
       "  <tbody>\n",
       "    <tr>\n",
       "      <th>49083</th>\n",
       "      <td>1933-01-31</td>\n",
       "      <td>0.036765</td>\n",
       "      <td>31918.875</td>\n",
       "      <td>1</td>\n",
       "      <td>1.000000</td>\n",
       "    </tr>\n",
       "    <tr>\n",
       "      <th>49084</th>\n",
       "      <td>1933-01-31</td>\n",
       "      <td>0.121849</td>\n",
       "      <td>7142.250</td>\n",
       "      <td>1</td>\n",
       "      <td>0.647180</td>\n",
       "    </tr>\n",
       "    <tr>\n",
       "      <th>49085</th>\n",
       "      <td>1933-01-31</td>\n",
       "      <td>0.015625</td>\n",
       "      <td>1560.000</td>\n",
       "      <td>1</td>\n",
       "      <td>1.000000</td>\n",
       "    </tr>\n",
       "    <tr>\n",
       "      <th>49086</th>\n",
       "      <td>1933-01-31</td>\n",
       "      <td>-0.084337</td>\n",
       "      <td>4275.000</td>\n",
       "      <td>0</td>\n",
       "      <td>0.002119</td>\n",
       "    </tr>\n",
       "    <tr>\n",
       "      <th>49087</th>\n",
       "      <td>1933-01-31</td>\n",
       "      <td>-0.037500</td>\n",
       "      <td>447581.750</td>\n",
       "      <td>0</td>\n",
       "      <td>0.325346</td>\n",
       "    </tr>\n",
       "  </tbody>\n",
       "</table>\n",
       "</div>"
      ],
      "text/plain": [
       "            date       RET          ME  y  RF_class_roll5_AC\n",
       "49083 1933-01-31  0.036765   31918.875  1           1.000000\n",
       "49084 1933-01-31  0.121849    7142.250  1           0.647180\n",
       "49085 1933-01-31  0.015625    1560.000  1           1.000000\n",
       "49086 1933-01-31 -0.084337    4275.000  0           0.002119\n",
       "49087 1933-01-31 -0.037500  447581.750  0           0.325346"
      ]
     },
     "execution_count": 9,
     "metadata": {},
     "output_type": "execute_result"
    }
   ],
   "source": [
    "portfolio = df[['date', 'RET', 'ME', 'y'] + prediction_cols].copy()\n",
    "portfolio['date'] = pd.to_datetime(portfolio['date'])\n",
    "\n",
    "# drop rows with missing values\n",
    "portfolio.dropna(inplace=True)\n",
    "\n",
    "portfolio.head()"
   ]
  },
  {
   "cell_type": "code",
   "execution_count": 10,
   "id": "fe50d3f4",
   "metadata": {
    "execution": {
     "iopub.execute_input": "2024-02-21T10:15:07.414619Z",
     "iopub.status.busy": "2024-02-21T10:15:07.413159Z",
     "iopub.status.idle": "2024-02-21T10:15:07.429255Z",
     "shell.execute_reply": "2024-02-21T10:15:07.428367Z"
    },
    "papermill": {
     "duration": 0.038721,
     "end_time": "2024-02-21T10:15:07.431818",
     "exception": false,
     "start_time": "2024-02-21T10:15:07.393097",
     "status": "completed"
    },
    "tags": []
   },
   "outputs": [
    {
     "data": {
      "text/html": [
       "<div>\n",
       "<style scoped>\n",
       "    .dataframe tbody tr th:only-of-type {\n",
       "        vertical-align: middle;\n",
       "    }\n",
       "\n",
       "    .dataframe tbody tr th {\n",
       "        vertical-align: top;\n",
       "    }\n",
       "\n",
       "    .dataframe thead th {\n",
       "        text-align: right;\n",
       "    }\n",
       "</style>\n",
       "<table border=\"1\" class=\"dataframe\">\n",
       "  <thead>\n",
       "    <tr style=\"text-align: right;\">\n",
       "      <th></th>\n",
       "      <th>date</th>\n",
       "      <th>RET</th>\n",
       "      <th>ME</th>\n",
       "      <th>y</th>\n",
       "      <th>RF_class_roll5_AC</th>\n",
       "    </tr>\n",
       "  </thead>\n",
       "  <tbody>\n",
       "    <tr>\n",
       "      <th>3627748</th>\n",
       "      <td>2022-07-31</td>\n",
       "      <td>-0.106939</td>\n",
       "      <td>3.731571e+06</td>\n",
       "      <td>0</td>\n",
       "      <td>0.222133</td>\n",
       "    </tr>\n",
       "    <tr>\n",
       "      <th>3627749</th>\n",
       "      <td>2022-07-31</td>\n",
       "      <td>0.020969</td>\n",
       "      <td>5.066263e+03</td>\n",
       "      <td>1</td>\n",
       "      <td>0.127718</td>\n",
       "    </tr>\n",
       "    <tr>\n",
       "      <th>3627750</th>\n",
       "      <td>2022-07-31</td>\n",
       "      <td>0.184785</td>\n",
       "      <td>1.280287e+06</td>\n",
       "      <td>1</td>\n",
       "      <td>0.887026</td>\n",
       "    </tr>\n",
       "    <tr>\n",
       "      <th>3627751</th>\n",
       "      <td>2022-07-31</td>\n",
       "      <td>0.108881</td>\n",
       "      <td>3.475711e+04</td>\n",
       "      <td>1</td>\n",
       "      <td>0.294451</td>\n",
       "    </tr>\n",
       "    <tr>\n",
       "      <th>3627752</th>\n",
       "      <td>2022-07-31</td>\n",
       "      <td>0.323765</td>\n",
       "      <td>9.311106e+08</td>\n",
       "      <td>1</td>\n",
       "      <td>0.749440</td>\n",
       "    </tr>\n",
       "  </tbody>\n",
       "</table>\n",
       "</div>"
      ],
      "text/plain": [
       "              date       RET            ME  y  RF_class_roll5_AC\n",
       "3627748 2022-07-31 -0.106939  3.731571e+06  0           0.222133\n",
       "3627749 2022-07-31  0.020969  5.066263e+03  1           0.127718\n",
       "3627750 2022-07-31  0.184785  1.280287e+06  1           0.887026\n",
       "3627751 2022-07-31  0.108881  3.475711e+04  1           0.294451\n",
       "3627752 2022-07-31  0.323765  9.311106e+08  1           0.749440"
      ]
     },
     "execution_count": 10,
     "metadata": {},
     "output_type": "execute_result"
    }
   ],
   "source": [
    "portfolio.tail()"
   ]
  },
  {
   "cell_type": "code",
   "execution_count": 11,
   "id": "1f9f96d4",
   "metadata": {
    "execution": {
     "iopub.execute_input": "2024-02-21T10:15:07.472794Z",
     "iopub.status.busy": "2024-02-21T10:15:07.472392Z",
     "iopub.status.idle": "2024-02-21T10:15:11.412130Z",
     "shell.execute_reply": "2024-02-21T10:15:11.410249Z"
    },
    "papermill": {
     "duration": 3.963583,
     "end_time": "2024-02-21T10:15:11.414999",
     "exception": false,
     "start_time": "2024-02-21T10:15:07.451416",
     "status": "completed"
    },
    "tags": []
   },
   "outputs": [
    {
     "name": "stderr",
     "output_type": "stream",
     "text": [
      "/tmp/ipykernel_18/2999037948.py:15: DeprecationWarning: DataFrameGroupBy.apply operated on the grouping columns. This behavior is deprecated, and in a future version of pandas the grouping columns will be excluded from the operation. Either pass `include_groups=False` to exclude the groupings or explicitly select the grouping columns after groupby to silence this warning.\n",
      "  vwreturns_temp = portfolio.groupby('date').apply(lambda x: np.sum(x['RET'] * x['ME'] * x[position_col]) / np.sum(x['ME'])).reset_index(name=vwret_col)\n"
     ]
    }
   ],
   "source": [
    "# Initialize an empty DataFrame to store value-weighted returns for each model\n",
    "vwreturns = pd.DataFrame(portfolio['date'].unique(), columns=['date'])  # Ensures all dates are included\n",
    "\n",
    "for pred_col in prediction_cols:\n",
    "    # Calculate deciles for this prediction\n",
    "    decile_col = f'decile_{pred_col}'\n",
    "    portfolio[decile_col] = portfolio.groupby(['date'])[pred_col].transform(lambda x: pd.qcut(x, 10, labels=False, duplicates='drop'))\n",
    "    \n",
    "    # Determine position based on deciles\n",
    "    position_col = f'position_{pred_col}'\n",
    "    portfolio[position_col] = np.where(portfolio[decile_col] == 9, 1, np.where(portfolio[decile_col] == 0, -1, 0))\n",
    "    \n",
    "    # Calculate the value-weighted return for this prediction\n",
    "    vwret_col = f'vwreturn_{pred_col}'\n",
    "    vwreturns_temp = portfolio.groupby('date').apply(lambda x: np.sum(x['RET'] * x['ME'] * x[position_col]) / np.sum(x['ME'])).reset_index(name=vwret_col)\n",
    "    \n",
    "    # Merge the temporary value-weighted returns with the main vwreturns DataFrame\n",
    "    vwreturns = vwreturns.merge(vwreturns_temp, on='date', how='left')\n",
    "\n",
    "# Ensure the 'date' column is the first column and is sorted\n",
    "vwreturns = vwreturns.sort_values('date').reset_index(drop=True)\n"
   ]
  },
  {
   "cell_type": "code",
   "execution_count": 12,
   "id": "17ceba27",
   "metadata": {
    "execution": {
     "iopub.execute_input": "2024-02-21T10:15:11.455327Z",
     "iopub.status.busy": "2024-02-21T10:15:11.454837Z",
     "iopub.status.idle": "2024-02-21T10:15:11.467986Z",
     "shell.execute_reply": "2024-02-21T10:15:11.466806Z"
    },
    "papermill": {
     "duration": 0.036397,
     "end_time": "2024-02-21T10:15:11.470568",
     "exception": false,
     "start_time": "2024-02-21T10:15:11.434171",
     "status": "completed"
    },
    "tags": []
   },
   "outputs": [
    {
     "data": {
      "text/html": [
       "<div>\n",
       "<style scoped>\n",
       "    .dataframe tbody tr th:only-of-type {\n",
       "        vertical-align: middle;\n",
       "    }\n",
       "\n",
       "    .dataframe tbody tr th {\n",
       "        vertical-align: top;\n",
       "    }\n",
       "\n",
       "    .dataframe thead th {\n",
       "        text-align: right;\n",
       "    }\n",
       "</style>\n",
       "<table border=\"1\" class=\"dataframe\">\n",
       "  <thead>\n",
       "    <tr style=\"text-align: right;\">\n",
       "      <th></th>\n",
       "      <th>date</th>\n",
       "      <th>vwreturn_RF_class_roll5_AC</th>\n",
       "    </tr>\n",
       "  </thead>\n",
       "  <tbody>\n",
       "    <tr>\n",
       "      <th>0</th>\n",
       "      <td>1933-01-31</td>\n",
       "      <td>0.005985</td>\n",
       "    </tr>\n",
       "    <tr>\n",
       "      <th>1</th>\n",
       "      <td>1933-02-28</td>\n",
       "      <td>0.055812</td>\n",
       "    </tr>\n",
       "    <tr>\n",
       "      <th>2</th>\n",
       "      <td>1933-03-31</td>\n",
       "      <td>0.026543</td>\n",
       "    </tr>\n",
       "    <tr>\n",
       "      <th>3</th>\n",
       "      <td>1933-04-30</td>\n",
       "      <td>-0.002829</td>\n",
       "    </tr>\n",
       "    <tr>\n",
       "      <th>4</th>\n",
       "      <td>1933-05-31</td>\n",
       "      <td>-0.003908</td>\n",
       "    </tr>\n",
       "  </tbody>\n",
       "</table>\n",
       "</div>"
      ],
      "text/plain": [
       "        date  vwreturn_RF_class_roll5_AC\n",
       "0 1933-01-31                    0.005985\n",
       "1 1933-02-28                    0.055812\n",
       "2 1933-03-31                    0.026543\n",
       "3 1933-04-30                   -0.002829\n",
       "4 1933-05-31                   -0.003908"
      ]
     },
     "execution_count": 12,
     "metadata": {},
     "output_type": "execute_result"
    }
   ],
   "source": [
    "vwreturns.head()"
   ]
  },
  {
   "cell_type": "markdown",
   "id": "5757bb39",
   "metadata": {
    "papermill": {
     "duration": 0.022088,
     "end_time": "2024-02-21T10:15:11.514586",
     "exception": false,
     "start_time": "2024-02-21T10:15:11.492498",
     "status": "completed"
    },
    "tags": []
   },
   "source": [
    "### Compare to market data"
   ]
  },
  {
   "cell_type": "code",
   "execution_count": 13,
   "id": "ccc00406",
   "metadata": {
    "execution": {
     "iopub.execute_input": "2024-02-21T10:15:11.558686Z",
     "iopub.status.busy": "2024-02-21T10:15:11.558045Z",
     "iopub.status.idle": "2024-02-21T10:15:11.587991Z",
     "shell.execute_reply": "2024-02-21T10:15:11.586670Z"
    },
    "papermill": {
     "duration": 0.057449,
     "end_time": "2024-02-21T10:15:11.591529",
     "exception": false,
     "start_time": "2024-02-21T10:15:11.534080",
     "status": "completed"
    },
    "tags": []
   },
   "outputs": [],
   "source": [
    "#market = pd.read_csv('FF3_clean.csv')\n",
    "market = pd.read_csv('/kaggle/input/sign-prediction-datasets/FF3_clean.csv')"
   ]
  },
  {
   "cell_type": "code",
   "execution_count": 14,
   "id": "93cabdb1",
   "metadata": {
    "execution": {
     "iopub.execute_input": "2024-02-21T10:15:11.634915Z",
     "iopub.status.busy": "2024-02-21T10:15:11.634178Z",
     "iopub.status.idle": "2024-02-21T10:15:11.651365Z",
     "shell.execute_reply": "2024-02-21T10:15:11.650266Z"
    },
    "papermill": {
     "duration": 0.042633,
     "end_time": "2024-02-21T10:15:11.654170",
     "exception": false,
     "start_time": "2024-02-21T10:15:11.611537",
     "status": "completed"
    },
    "tags": []
   },
   "outputs": [
    {
     "data": {
      "text/html": [
       "<div>\n",
       "<style scoped>\n",
       "    .dataframe tbody tr th:only-of-type {\n",
       "        vertical-align: middle;\n",
       "    }\n",
       "\n",
       "    .dataframe tbody tr th {\n",
       "        vertical-align: top;\n",
       "    }\n",
       "\n",
       "    .dataframe thead th {\n",
       "        text-align: right;\n",
       "    }\n",
       "</style>\n",
       "<table border=\"1\" class=\"dataframe\">\n",
       "  <thead>\n",
       "    <tr style=\"text-align: right;\">\n",
       "      <th></th>\n",
       "      <th>date</th>\n",
       "      <th>Mkt-RF</th>\n",
       "      <th>SMB</th>\n",
       "      <th>HML</th>\n",
       "      <th>RF</th>\n",
       "    </tr>\n",
       "  </thead>\n",
       "  <tbody>\n",
       "    <tr>\n",
       "      <th>0</th>\n",
       "      <td>1926-07-31</td>\n",
       "      <td>2.96</td>\n",
       "      <td>-2.56</td>\n",
       "      <td>-2.43</td>\n",
       "      <td>0.22</td>\n",
       "    </tr>\n",
       "    <tr>\n",
       "      <th>1</th>\n",
       "      <td>1926-08-31</td>\n",
       "      <td>2.64</td>\n",
       "      <td>-1.17</td>\n",
       "      <td>3.82</td>\n",
       "      <td>0.25</td>\n",
       "    </tr>\n",
       "    <tr>\n",
       "      <th>2</th>\n",
       "      <td>1926-09-30</td>\n",
       "      <td>0.36</td>\n",
       "      <td>-1.40</td>\n",
       "      <td>0.13</td>\n",
       "      <td>0.23</td>\n",
       "    </tr>\n",
       "    <tr>\n",
       "      <th>3</th>\n",
       "      <td>1926-10-31</td>\n",
       "      <td>-3.24</td>\n",
       "      <td>-0.09</td>\n",
       "      <td>0.70</td>\n",
       "      <td>0.32</td>\n",
       "    </tr>\n",
       "    <tr>\n",
       "      <th>4</th>\n",
       "      <td>1926-11-30</td>\n",
       "      <td>2.53</td>\n",
       "      <td>-0.10</td>\n",
       "      <td>-0.51</td>\n",
       "      <td>0.31</td>\n",
       "    </tr>\n",
       "  </tbody>\n",
       "</table>\n",
       "</div>"
      ],
      "text/plain": [
       "         date  Mkt-RF   SMB   HML    RF\n",
       "0  1926-07-31    2.96 -2.56 -2.43  0.22\n",
       "1  1926-08-31    2.64 -1.17  3.82  0.25\n",
       "2  1926-09-30    0.36 -1.40  0.13  0.23\n",
       "3  1926-10-31   -3.24 -0.09  0.70  0.32\n",
       "4  1926-11-30    2.53 -0.10 -0.51  0.31"
      ]
     },
     "execution_count": 14,
     "metadata": {},
     "output_type": "execute_result"
    }
   ],
   "source": [
    "market.head()"
   ]
  },
  {
   "cell_type": "code",
   "execution_count": 15,
   "id": "8913b027",
   "metadata": {
    "execution": {
     "iopub.execute_input": "2024-02-21T10:15:11.699639Z",
     "iopub.status.busy": "2024-02-21T10:15:11.699201Z",
     "iopub.status.idle": "2024-02-21T10:15:11.724742Z",
     "shell.execute_reply": "2024-02-21T10:15:11.723465Z"
    },
    "papermill": {
     "duration": 0.0511,
     "end_time": "2024-02-21T10:15:11.727270",
     "exception": false,
     "start_time": "2024-02-21T10:15:11.676170",
     "status": "completed"
    },
    "tags": []
   },
   "outputs": [],
   "source": [
    "# create a new 'Mkt' which is a sum of Mkt-RF and RF\n",
    "market['Mkt'] = market['Mkt-RF'] + market['RF']\n",
    "\n",
    "# divide all columns by 100 except 'date'\n",
    "market.iloc[:, 1:] = market.iloc[:, 1:] / 100\n",
    "\n",
    "#set the 'date' column to datetime format\n",
    "market['date'] = pd.to_datetime(market['date'])\n",
    "\n",
    "# merge the market data (only date and Mkt columns) with the vwreturns DataFrame\n",
    "vwreturns = vwreturns.merge(market[['date', 'Mkt']], on='date', how='left')\n",
    "\n",
    "# transform all columns (except 'date') to a log: log(x+1) and save the result as lvwreturns\n",
    "lvwreturns = vwreturns.copy()\n",
    "lvwreturns.iloc[:, 1:] = np.log(vwreturns.iloc[:, 1:] + 1)"
   ]
  },
  {
   "cell_type": "code",
   "execution_count": 16,
   "id": "0b7e2aca",
   "metadata": {
    "execution": {
     "iopub.execute_input": "2024-02-21T10:15:11.772676Z",
     "iopub.status.busy": "2024-02-21T10:15:11.771953Z",
     "iopub.status.idle": "2024-02-21T10:15:11.783621Z",
     "shell.execute_reply": "2024-02-21T10:15:11.782644Z"
    },
    "papermill": {
     "duration": 0.036571,
     "end_time": "2024-02-21T10:15:11.785902",
     "exception": false,
     "start_time": "2024-02-21T10:15:11.749331",
     "status": "completed"
    },
    "tags": []
   },
   "outputs": [
    {
     "data": {
      "text/html": [
       "<div>\n",
       "<style scoped>\n",
       "    .dataframe tbody tr th:only-of-type {\n",
       "        vertical-align: middle;\n",
       "    }\n",
       "\n",
       "    .dataframe tbody tr th {\n",
       "        vertical-align: top;\n",
       "    }\n",
       "\n",
       "    .dataframe thead th {\n",
       "        text-align: right;\n",
       "    }\n",
       "</style>\n",
       "<table border=\"1\" class=\"dataframe\">\n",
       "  <thead>\n",
       "    <tr style=\"text-align: right;\">\n",
       "      <th></th>\n",
       "      <th>date</th>\n",
       "      <th>vwreturn_RF_class_roll5_AC</th>\n",
       "      <th>Mkt</th>\n",
       "    </tr>\n",
       "  </thead>\n",
       "  <tbody>\n",
       "    <tr>\n",
       "      <th>0</th>\n",
       "      <td>1933-01-31</td>\n",
       "      <td>0.005985</td>\n",
       "      <td>0.0126</td>\n",
       "    </tr>\n",
       "    <tr>\n",
       "      <th>1</th>\n",
       "      <td>1933-02-28</td>\n",
       "      <td>0.055812</td>\n",
       "      <td>-0.1527</td>\n",
       "    </tr>\n",
       "    <tr>\n",
       "      <th>2</th>\n",
       "      <td>1933-03-31</td>\n",
       "      <td>0.026543</td>\n",
       "      <td>0.0333</td>\n",
       "    </tr>\n",
       "    <tr>\n",
       "      <th>3</th>\n",
       "      <td>1933-04-30</td>\n",
       "      <td>-0.002829</td>\n",
       "      <td>0.3895</td>\n",
       "    </tr>\n",
       "    <tr>\n",
       "      <th>4</th>\n",
       "      <td>1933-05-31</td>\n",
       "      <td>-0.003908</td>\n",
       "      <td>0.2147</td>\n",
       "    </tr>\n",
       "  </tbody>\n",
       "</table>\n",
       "</div>"
      ],
      "text/plain": [
       "        date  vwreturn_RF_class_roll5_AC     Mkt\n",
       "0 1933-01-31                    0.005985  0.0126\n",
       "1 1933-02-28                    0.055812 -0.1527\n",
       "2 1933-03-31                    0.026543  0.0333\n",
       "3 1933-04-30                   -0.002829  0.3895\n",
       "4 1933-05-31                   -0.003908  0.2147"
      ]
     },
     "execution_count": 16,
     "metadata": {},
     "output_type": "execute_result"
    }
   ],
   "source": [
    "vwreturns.head()"
   ]
  },
  {
   "cell_type": "code",
   "execution_count": 17,
   "id": "94f673b3",
   "metadata": {
    "execution": {
     "iopub.execute_input": "2024-02-21T10:15:11.830660Z",
     "iopub.status.busy": "2024-02-21T10:15:11.830218Z",
     "iopub.status.idle": "2024-02-21T10:15:11.842946Z",
     "shell.execute_reply": "2024-02-21T10:15:11.841698Z"
    },
    "papermill": {
     "duration": 0.037534,
     "end_time": "2024-02-21T10:15:11.845655",
     "exception": false,
     "start_time": "2024-02-21T10:15:11.808121",
     "status": "completed"
    },
    "tags": []
   },
   "outputs": [
    {
     "data": {
      "text/html": [
       "<div>\n",
       "<style scoped>\n",
       "    .dataframe tbody tr th:only-of-type {\n",
       "        vertical-align: middle;\n",
       "    }\n",
       "\n",
       "    .dataframe tbody tr th {\n",
       "        vertical-align: top;\n",
       "    }\n",
       "\n",
       "    .dataframe thead th {\n",
       "        text-align: right;\n",
       "    }\n",
       "</style>\n",
       "<table border=\"1\" class=\"dataframe\">\n",
       "  <thead>\n",
       "    <tr style=\"text-align: right;\">\n",
       "      <th></th>\n",
       "      <th>date</th>\n",
       "      <th>vwreturn_RF_class_roll5_AC</th>\n",
       "      <th>Mkt</th>\n",
       "    </tr>\n",
       "  </thead>\n",
       "  <tbody>\n",
       "    <tr>\n",
       "      <th>0</th>\n",
       "      <td>1933-01-31</td>\n",
       "      <td>0.005968</td>\n",
       "      <td>0.012521</td>\n",
       "    </tr>\n",
       "    <tr>\n",
       "      <th>1</th>\n",
       "      <td>1933-02-28</td>\n",
       "      <td>0.054310</td>\n",
       "      <td>-0.165700</td>\n",
       "    </tr>\n",
       "    <tr>\n",
       "      <th>2</th>\n",
       "      <td>1933-03-31</td>\n",
       "      <td>0.026197</td>\n",
       "      <td>0.032758</td>\n",
       "    </tr>\n",
       "    <tr>\n",
       "      <th>3</th>\n",
       "      <td>1933-04-30</td>\n",
       "      <td>-0.002833</td>\n",
       "      <td>0.328944</td>\n",
       "    </tr>\n",
       "    <tr>\n",
       "      <th>4</th>\n",
       "      <td>1933-05-31</td>\n",
       "      <td>-0.003916</td>\n",
       "      <td>0.194497</td>\n",
       "    </tr>\n",
       "  </tbody>\n",
       "</table>\n",
       "</div>"
      ],
      "text/plain": [
       "        date  vwreturn_RF_class_roll5_AC       Mkt\n",
       "0 1933-01-31                    0.005968  0.012521\n",
       "1 1933-02-28                    0.054310 -0.165700\n",
       "2 1933-03-31                    0.026197  0.032758\n",
       "3 1933-04-30                   -0.002833  0.328944\n",
       "4 1933-05-31                   -0.003916  0.194497"
      ]
     },
     "execution_count": 17,
     "metadata": {},
     "output_type": "execute_result"
    }
   ],
   "source": [
    "lvwreturns.head()"
   ]
  },
  {
   "cell_type": "code",
   "execution_count": 18,
   "id": "cad13e79",
   "metadata": {
    "execution": {
     "iopub.execute_input": "2024-02-21T10:15:11.889959Z",
     "iopub.status.busy": "2024-02-21T10:15:11.889523Z",
     "iopub.status.idle": "2024-02-21T10:15:11.913591Z",
     "shell.execute_reply": "2024-02-21T10:15:11.912257Z"
    },
    "papermill": {
     "duration": 0.04943,
     "end_time": "2024-02-21T10:15:11.916021",
     "exception": false,
     "start_time": "2024-02-21T10:15:11.866591",
     "status": "completed"
    },
    "tags": []
   },
   "outputs": [
    {
     "data": {
      "text/html": [
       "<div>\n",
       "<style scoped>\n",
       "    .dataframe tbody tr th:only-of-type {\n",
       "        vertical-align: middle;\n",
       "    }\n",
       "\n",
       "    .dataframe tbody tr th {\n",
       "        vertical-align: top;\n",
       "    }\n",
       "\n",
       "    .dataframe thead th {\n",
       "        text-align: right;\n",
       "    }\n",
       "</style>\n",
       "<table border=\"1\" class=\"dataframe\">\n",
       "  <thead>\n",
       "    <tr style=\"text-align: right;\">\n",
       "      <th></th>\n",
       "      <th>date</th>\n",
       "      <th>vwreturn_RF_class_roll5_AC</th>\n",
       "      <th>Mkt</th>\n",
       "    </tr>\n",
       "  </thead>\n",
       "  <tbody>\n",
       "    <tr>\n",
       "      <th>count</th>\n",
       "      <td>1074</td>\n",
       "      <td>1074.000000</td>\n",
       "      <td>1074.000000</td>\n",
       "    </tr>\n",
       "    <tr>\n",
       "      <th>mean</th>\n",
       "      <td>1977-11-05 12:12:04.022346368</td>\n",
       "      <td>0.012273</td>\n",
       "      <td>0.008968</td>\n",
       "    </tr>\n",
       "    <tr>\n",
       "      <th>min</th>\n",
       "      <td>1933-01-31 00:00:00</td>\n",
       "      <td>-0.017814</td>\n",
       "      <td>-0.272203</td>\n",
       "    </tr>\n",
       "    <tr>\n",
       "      <th>25%</th>\n",
       "      <td>1955-06-07 12:00:00</td>\n",
       "      <td>0.005359</td>\n",
       "      <td>-0.017248</td>\n",
       "    </tr>\n",
       "    <tr>\n",
       "      <th>50%</th>\n",
       "      <td>1977-11-15 00:00:00</td>\n",
       "      <td>0.010313</td>\n",
       "      <td>0.013064</td>\n",
       "    </tr>\n",
       "    <tr>\n",
       "      <th>75%</th>\n",
       "      <td>2000-03-23 06:00:00</td>\n",
       "      <td>0.016089</td>\n",
       "      <td>0.038162</td>\n",
       "    </tr>\n",
       "    <tr>\n",
       "      <th>max</th>\n",
       "      <td>2022-07-31 00:00:00</td>\n",
       "      <td>0.106626</td>\n",
       "      <td>0.328944</td>\n",
       "    </tr>\n",
       "    <tr>\n",
       "      <th>std</th>\n",
       "      <td>NaN</td>\n",
       "      <td>0.011062</td>\n",
       "      <td>0.048186</td>\n",
       "    </tr>\n",
       "  </tbody>\n",
       "</table>\n",
       "</div>"
      ],
      "text/plain": [
       "                                date  vwreturn_RF_class_roll5_AC          Mkt\n",
       "count                           1074                 1074.000000  1074.000000\n",
       "mean   1977-11-05 12:12:04.022346368                    0.012273     0.008968\n",
       "min              1933-01-31 00:00:00                   -0.017814    -0.272203\n",
       "25%              1955-06-07 12:00:00                    0.005359    -0.017248\n",
       "50%              1977-11-15 00:00:00                    0.010313     0.013064\n",
       "75%              2000-03-23 06:00:00                    0.016089     0.038162\n",
       "max              2022-07-31 00:00:00                    0.106626     0.328944\n",
       "std                              NaN                    0.011062     0.048186"
      ]
     },
     "execution_count": 18,
     "metadata": {},
     "output_type": "execute_result"
    }
   ],
   "source": [
    "lvwreturns.describe()"
   ]
  },
  {
   "cell_type": "code",
   "execution_count": 19,
   "id": "a4a134b5",
   "metadata": {
    "execution": {
     "iopub.execute_input": "2024-02-21T10:15:11.960404Z",
     "iopub.status.busy": "2024-02-21T10:15:11.959971Z",
     "iopub.status.idle": "2024-02-21T10:15:11.966047Z",
     "shell.execute_reply": "2024-02-21T10:15:11.965190Z"
    },
    "papermill": {
     "duration": 0.031659,
     "end_time": "2024-02-21T10:15:11.968431",
     "exception": false,
     "start_time": "2024-02-21T10:15:11.936772",
     "status": "completed"
    },
    "tags": []
   },
   "outputs": [],
   "source": [
    "## plot histograms of the value-weighted returns for each model and the market in lvwreturns\n",
    "#plt.figure(figsize=(12, round(len(prediction_cols)/2) * 5 ))\n",
    "#\n",
    "#for i, pred_col in enumerate(prediction_cols):\n",
    "#    plt.subplot(len(prediction_cols)/2 +1, 2, i+1)\n",
    "#    plt.hist(lvwreturns[f'vwreturn_{pred_col}'], bins=50, color='skyblue', edgecolor='black')\n",
    "#    plt.title(f'Value-Weighted Return - {pred_col}')\n",
    "#    plt.xlabel('Value-Weighted Return')\n",
    "#    plt.ylabel('Frequency')\n",
    "#    # calculate mean, skewness and kurtosis and add their values to the plot as a text, aligning to the top right corner\n",
    "#    mean = lvwreturns[f'vwreturn_{pred_col}'].mean()\n",
    "#    skewness = lvwreturns[f'vwreturn_{pred_col}'].skew()\n",
    "#    kurtosis = lvwreturns[f'vwreturn_{pred_col}'].kurtosis()\n",
    "#\n",
    "#    plt.text(0.95, 0.95, f'Mean: {mean:.4f}\\nSkewness: {skewness:.4f}\\nKurtosis: {kurtosis:.4f}', ha='right', va='top', transform=plt.gca().transAxes)\n",
    "#\n",
    "#\n",
    "#\n",
    "#plt.subplot(round(len(prediction_cols)/2) +1, 2, len(prediction_cols)+1)\n",
    "#plt.title('Value-Weighted Return - Market')\n",
    "#plt.xlabel('Value-Weighted Return')\n",
    "#plt.ylabel('Frequency')\n",
    "#plt.hist(lvwreturns['Mkt'], bins=50, color='skyblue', edgecolor='black')\n",
    "#mean = lvwreturns['Mkt'].mean()\n",
    "#skewness = lvwreturns['Mkt'].skew()\n",
    "#kurtosis = lvwreturns['Mkt'].kurtosis()\n",
    "#plt.text(0.95, 0.95, f'Mean: {mean:.4f}\\nSkewness: {skewness:.4f}\\nKurtosis: {kurtosis:.4f}', ha='right', va='top', transform=plt.gca().transAxes)\n",
    "#\n",
    "#plt.tight_layout()\n",
    "#plt.show()\n",
    "#"
   ]
  },
  {
   "cell_type": "code",
   "execution_count": 20,
   "id": "2f55e308",
   "metadata": {
    "execution": {
     "iopub.execute_input": "2024-02-21T10:15:12.015585Z",
     "iopub.status.busy": "2024-02-21T10:15:12.015183Z",
     "iopub.status.idle": "2024-02-21T10:15:12.019785Z",
     "shell.execute_reply": "2024-02-21T10:15:12.018808Z"
    },
    "papermill": {
     "duration": 0.030486,
     "end_time": "2024-02-21T10:15:12.021963",
     "exception": false,
     "start_time": "2024-02-21T10:15:11.991477",
     "status": "completed"
    },
    "tags": []
   },
   "outputs": [],
   "source": [
    "## plot cumulative sums of the value-weighted log returns\n",
    "#plt.figure(figsize=(12, 6))\n",
    "#plt.plot(lvwreturns['date'], lvwreturns.iloc[:, 1:].cumsum())\n",
    "#plt.title('Cumulative Value-Weighted Log Returns')\n",
    "#plt.xlabel('Date')\n",
    "#plt.ylabel('Cumulative Value-Weighted Log Returns')\n",
    "#plt.legend(prediction_cols + ['Market'])\n",
    "#plt.show()\n"
   ]
  },
  {
   "cell_type": "code",
   "execution_count": 21,
   "id": "88af208c",
   "metadata": {
    "execution": {
     "iopub.execute_input": "2024-02-21T10:15:12.068579Z",
     "iopub.status.busy": "2024-02-21T10:15:12.067843Z",
     "iopub.status.idle": "2024-02-21T10:15:13.694742Z",
     "shell.execute_reply": "2024-02-21T10:15:13.693210Z"
    },
    "papermill": {
     "duration": 1.654794,
     "end_time": "2024-02-21T10:15:13.698724",
     "exception": false,
     "start_time": "2024-02-21T10:15:12.043930",
     "status": "completed"
    },
    "tags": []
   },
   "outputs": [],
   "source": [
    "# save the lvwreturns and portfolio DataFrame to a parquet file into 'outputs' folder\n",
    "\n",
    "# for reproducibility and visualization purposes\n",
    "lvwreturns.to_parquet('base_lvwreturns_class_ac22.parquet')\n",
    "portfolio.to_parquet('base_portfolio_class_ac22.parquet')\n",
    "\n",
    "# save vwreturns DataFrame to a .dta file into 'outputs' folder\n",
    "#vwreturns.to_stata('outputs/vwreturns.dta') # for backtasting in R - we need normal returns, not log returns\n"
   ]
  }
 ],
 "metadata": {
  "kaggle": {
   "accelerator": "none",
   "dataSources": [
    {
     "datasetId": 4464890,
     "sourceId": 7657795,
     "sourceType": "datasetVersion"
    }
   ],
   "isGpuEnabled": false,
   "isInternetEnabled": true,
   "language": "python",
   "sourceType": "notebook"
  },
  "kernelspec": {
   "display_name": "base",
   "language": "python",
   "name": "python3"
  },
  "language_info": {
   "codemirror_mode": {
    "name": "ipython",
    "version": 3
   },
   "file_extension": ".py",
   "mimetype": "text/x-python",
   "name": "python",
   "nbconvert_exporter": "python",
   "pygments_lexer": "ipython3",
   "version": "3.10.13"
  },
  "papermill": {
   "default_parameters": {},
   "duration": 2359.710694,
   "end_time": "2024-02-21T10:15:14.571349",
   "environment_variables": {},
   "exception": null,
   "input_path": "__notebook__.ipynb",
   "output_path": "__notebook__.ipynb",
   "parameters": {},
   "start_time": "2024-02-21T09:35:54.860655",
   "version": "2.5.0"
  }
 },
 "nbformat": 4,
 "nbformat_minor": 5
}
