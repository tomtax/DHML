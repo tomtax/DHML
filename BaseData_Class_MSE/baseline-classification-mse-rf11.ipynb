{
 "cells": [
  {
   "cell_type": "markdown",
   "id": "58209b52",
   "metadata": {
    "papermill": {
     "duration": 0.007471,
     "end_time": "2024-02-21T18:50:47.198859",
     "exception": false,
     "start_time": "2024-02-21T18:50:47.191388",
     "status": "completed"
    },
    "tags": []
   },
   "source": [
    "# Framework for predictions and portfolio forming"
   ]
  },
  {
   "cell_type": "code",
   "execution_count": 1,
   "id": "eb665b16",
   "metadata": {
    "execution": {
     "iopub.execute_input": "2024-02-21T18:50:47.214855Z",
     "iopub.status.busy": "2024-02-21T18:50:47.214126Z",
     "iopub.status.idle": "2024-02-21T18:50:49.484119Z",
     "shell.execute_reply": "2024-02-21T18:50:49.483333Z"
    },
    "papermill": {
     "duration": 2.280417,
     "end_time": "2024-02-21T18:50:49.486352",
     "exception": false,
     "start_time": "2024-02-21T18:50:47.205935",
     "status": "completed"
    },
    "tags": []
   },
   "outputs": [],
   "source": [
    "import numpy as np\n",
    "import pandas as pd\n",
    "pd.set_option('display.max_columns', None)\n",
    "import matplotlib.pyplot as plt\n",
    "import seaborn as sns\n",
    "import datetime as dt\n",
    "import time\n",
    "\n",
    "# import the parquet library\n",
    "import pyarrow.parquet as pq\n",
    "\n",
    "# import model libraries\n",
    "from sklearn.preprocessing import StandardScaler, MinMaxScaler\n",
    "from sklearn.linear_model import LogisticRegression, LinearRegression\n",
    "from sklearn.tree import DecisionTreeClassifier, DecisionTreeRegressor\n",
    "from sklearn.ensemble import RandomForestClassifier, RandomForestRegressor\n",
    "from sklearn.metrics import mean_squared_error, accuracy_score"
   ]
  },
  {
   "cell_type": "code",
   "execution_count": 2,
   "id": "28244a58",
   "metadata": {
    "execution": {
     "iopub.execute_input": "2024-02-21T18:50:49.502004Z",
     "iopub.status.busy": "2024-02-21T18:50:49.501605Z",
     "iopub.status.idle": "2024-02-21T18:50:50.914489Z",
     "shell.execute_reply": "2024-02-21T18:50:50.913494Z"
    },
    "papermill": {
     "duration": 1.423087,
     "end_time": "2024-02-21T18:50:50.916677",
     "exception": false,
     "start_time": "2024-02-21T18:50:49.493590",
     "status": "completed"
    },
    "tags": []
   },
   "outputs": [
    {
     "data": {
      "text/html": [
       "<div>\n",
       "<style scoped>\n",
       "    .dataframe tbody tr th:only-of-type {\n",
       "        vertical-align: middle;\n",
       "    }\n",
       "\n",
       "    .dataframe tbody tr th {\n",
       "        vertical-align: top;\n",
       "    }\n",
       "\n",
       "    .dataframe thead th {\n",
       "        text-align: right;\n",
       "    }\n",
       "</style>\n",
       "<table border=\"1\" class=\"dataframe\">\n",
       "  <thead>\n",
       "    <tr style=\"text-align: right;\">\n",
       "      <th></th>\n",
       "      <th>PERMNO</th>\n",
       "      <th>date</th>\n",
       "      <th>RET</th>\n",
       "      <th>ME</th>\n",
       "      <th>bull_D</th>\n",
       "      <th>bear_D</th>\n",
       "      <th>bull_W</th>\n",
       "      <th>bear_W</th>\n",
       "      <th>bull_M</th>\n",
       "      <th>bear_M</th>\n",
       "      <th>LMKT</th>\n",
       "      <th>IVOL</th>\n",
       "      <th>y</th>\n",
       "    </tr>\n",
       "  </thead>\n",
       "  <tbody>\n",
       "    <tr>\n",
       "      <th>0</th>\n",
       "      <td>10000</td>\n",
       "      <td>1986-02-28</td>\n",
       "      <td>-0.257143</td>\n",
       "      <td>11960.00000</td>\n",
       "      <td>0.0</td>\n",
       "      <td>0.0</td>\n",
       "      <td>0.0</td>\n",
       "      <td>1.0</td>\n",
       "      <td>0</td>\n",
       "      <td>0</td>\n",
       "      <td>0.0121</td>\n",
       "      <td>0.004058</td>\n",
       "      <td>0</td>\n",
       "    </tr>\n",
       "    <tr>\n",
       "      <th>1</th>\n",
       "      <td>10000</td>\n",
       "      <td>1986-03-31</td>\n",
       "      <td>0.365385</td>\n",
       "      <td>16330.00000</td>\n",
       "      <td>0.0</td>\n",
       "      <td>0.0</td>\n",
       "      <td>0.0</td>\n",
       "      <td>0.0</td>\n",
       "      <td>0</td>\n",
       "      <td>0</td>\n",
       "      <td>0.0766</td>\n",
       "      <td>0.000973</td>\n",
       "      <td>1</td>\n",
       "    </tr>\n",
       "    <tr>\n",
       "      <th>2</th>\n",
       "      <td>10000</td>\n",
       "      <td>1986-04-30</td>\n",
       "      <td>-0.098592</td>\n",
       "      <td>15172.00000</td>\n",
       "      <td>0.0</td>\n",
       "      <td>1.0</td>\n",
       "      <td>0.0</td>\n",
       "      <td>0.0</td>\n",
       "      <td>0</td>\n",
       "      <td>0</td>\n",
       "      <td>0.0548</td>\n",
       "      <td>0.001993</td>\n",
       "      <td>0</td>\n",
       "    </tr>\n",
       "    <tr>\n",
       "      <th>3</th>\n",
       "      <td>10000</td>\n",
       "      <td>1986-05-31</td>\n",
       "      <td>-0.222656</td>\n",
       "      <td>11793.87834</td>\n",
       "      <td>0.0</td>\n",
       "      <td>0.0</td>\n",
       "      <td>0.0</td>\n",
       "      <td>0.0</td>\n",
       "      <td>0</td>\n",
       "      <td>1</td>\n",
       "      <td>-0.0079</td>\n",
       "      <td>0.000163</td>\n",
       "      <td>0</td>\n",
       "    </tr>\n",
       "    <tr>\n",
       "      <th>4</th>\n",
       "      <td>10000</td>\n",
       "      <td>1986-06-30</td>\n",
       "      <td>-0.005025</td>\n",
       "      <td>11734.59375</td>\n",
       "      <td>0.0</td>\n",
       "      <td>0.0</td>\n",
       "      <td>0.0</td>\n",
       "      <td>0.0</td>\n",
       "      <td>0</td>\n",
       "      <td>2</td>\n",
       "      <td>0.0511</td>\n",
       "      <td>0.001569</td>\n",
       "      <td>0</td>\n",
       "    </tr>\n",
       "  </tbody>\n",
       "</table>\n",
       "</div>"
      ],
      "text/plain": [
       "   PERMNO       date       RET           ME  bull_D  bear_D  bull_W  bear_W  \\\n",
       "0   10000 1986-02-28 -0.257143  11960.00000     0.0     0.0     0.0     1.0   \n",
       "1   10000 1986-03-31  0.365385  16330.00000     0.0     0.0     0.0     0.0   \n",
       "2   10000 1986-04-30 -0.098592  15172.00000     0.0     1.0     0.0     0.0   \n",
       "3   10000 1986-05-31 -0.222656  11793.87834     0.0     0.0     0.0     0.0   \n",
       "4   10000 1986-06-30 -0.005025  11734.59375     0.0     0.0     0.0     0.0   \n",
       "\n",
       "   bull_M  bear_M    LMKT      IVOL  y  \n",
       "0       0       0  0.0121  0.004058  0  \n",
       "1       0       0  0.0766  0.000973  1  \n",
       "2       0       0  0.0548  0.001993  0  \n",
       "3       0       1 -0.0079  0.000163  0  \n",
       "4       0       2  0.0511  0.001569  0  "
      ]
     },
     "execution_count": 2,
     "metadata": {},
     "output_type": "execute_result"
    }
   ],
   "source": [
    "# load 'basemodel.parquet'\n",
    "#df = pd.read_parquet('basemodel.parquet')\n",
    "df = pd.read_parquet('/kaggle/input/sign-prediction-datasets/basemodel.parquet')\n",
    "prediction_cols = []\n",
    "df.head()"
   ]
  },
  {
   "cell_type": "code",
   "execution_count": 3,
   "id": "50aa62cc",
   "metadata": {
    "execution": {
     "iopub.execute_input": "2024-02-21T18:50:50.932621Z",
     "iopub.status.busy": "2024-02-21T18:50:50.932321Z",
     "iopub.status.idle": "2024-02-21T18:50:50.937266Z",
     "shell.execute_reply": "2024-02-21T18:50:50.936589Z"
    },
    "papermill": {
     "duration": 0.015066,
     "end_time": "2024-02-21T18:50:50.939135",
     "exception": false,
     "start_time": "2024-02-21T18:50:50.924069",
     "status": "completed"
    },
    "tags": []
   },
   "outputs": [],
   "source": [
    "# select the columns to be used for prediction\n",
    "X_col = ['bull_D', 'bear_D', 'bull_W', 'bear_W', 'bull_M', 'bear_M', 'LMKT', 'IVOL']"
   ]
  },
  {
   "cell_type": "code",
   "execution_count": 4,
   "id": "9a5733f9",
   "metadata": {
    "execution": {
     "iopub.execute_input": "2024-02-21T18:50:50.954467Z",
     "iopub.status.busy": "2024-02-21T18:50:50.954220Z",
     "iopub.status.idle": "2024-02-21T18:50:51.698372Z",
     "shell.execute_reply": "2024-02-21T18:50:51.697601Z"
    },
    "papermill": {
     "duration": 0.754272,
     "end_time": "2024-02-21T18:50:51.700526",
     "exception": false,
     "start_time": "2024-02-21T18:50:50.946254",
     "status": "completed"
    },
    "tags": []
   },
   "outputs": [],
   "source": [
    "# Convert 'date' to datetime format (if not already done) and sort the DataFrame\n",
    "df['date'] = pd.to_datetime(df['date'])\n",
    "df.sort_values(by='date', inplace=True)\n",
    "df.reset_index(drop=True, inplace=True)\n",
    "\n",
    "# Create a 'year' column based on the 'date' column\n",
    "df['year'] = df['date'].dt.year"
   ]
  },
  {
   "cell_type": "markdown",
   "id": "125267c3",
   "metadata": {
    "papermill": {
     "duration": 0.007213,
     "end_time": "2024-02-21T18:50:51.715518",
     "exception": false,
     "start_time": "2024-02-21T18:50:51.708305",
     "status": "completed"
    },
    "tags": []
   },
   "source": [
    "# Paper Replication - OLS and Logit, Expanding Window - No Hyperparameters\n",
    "- They start with out of sample forecasting in 1932\n",
    "- models will be named model_default"
   ]
  },
  {
   "cell_type": "markdown",
   "id": "347dbb22",
   "metadata": {
    "papermill": {
     "duration": 0.0077,
     "end_time": "2024-02-21T18:50:51.730435",
     "exception": false,
     "start_time": "2024-02-21T18:50:51.722735",
     "status": "completed"
    },
    "tags": []
   },
   "source": [
    "# My Experiments"
   ]
  },
  {
   "cell_type": "markdown",
   "id": "4f8fecf3",
   "metadata": {
    "papermill": {
     "duration": 0.006909,
     "end_time": "2024-02-21T18:50:51.744401",
     "exception": false,
     "start_time": "2024-02-21T18:50:51.737492",
     "status": "completed"
    },
    "tags": []
   },
   "source": [
    "## Machine Learning - Hyperparameter Tuning included in the process\n",
    "- models to be named 'model_clas/reg_exp/roll'"
   ]
  },
  {
   "cell_type": "markdown",
   "id": "3364ced4",
   "metadata": {
    "papermill": {
     "duration": 0.006954,
     "end_time": "2024-02-21T18:50:51.758411",
     "exception": false,
     "start_time": "2024-02-21T18:50:51.751457",
     "status": "completed"
    },
    "tags": []
   },
   "source": [
    "### Expanding Window Estimation"
   ]
  },
  {
   "cell_type": "markdown",
   "id": "e4a7f39a",
   "metadata": {
    "papermill": {
     "duration": 0.008259,
     "end_time": "2024-02-21T18:50:51.774025",
     "exception": false,
     "start_time": "2024-02-21T18:50:51.765766",
     "status": "completed"
    },
    "tags": []
   },
   "source": [
    "##### MSE as evaluation metric"
   ]
  },
  {
   "cell_type": "code",
   "execution_count": 5,
   "id": "868ddde7",
   "metadata": {
    "execution": {
     "iopub.execute_input": "2024-02-21T18:50:51.789939Z",
     "iopub.status.busy": "2024-02-21T18:50:51.789608Z",
     "iopub.status.idle": "2024-02-21T23:55:28.447300Z",
     "shell.execute_reply": "2024-02-21T23:55:28.446345Z"
    },
    "papermill": {
     "duration": 18276.682547,
     "end_time": "2024-02-21T23:55:28.463740",
     "exception": false,
     "start_time": "2024-02-21T18:50:51.781193",
     "status": "completed"
    },
    "tags": []
   },
   "outputs": [
    {
     "name": "stdout",
     "output_type": "stream",
     "text": [
      "Year 1933 - Best n_estimators: 50, Best max_depth: 15, Best MSE: 0.0906, Time: 4.35 seconds\n",
      "Year 1934 - Best n_estimators: 10, Best max_depth: 10, Best MSE: 0.088, Time: 4.30 seconds\n",
      "Year 1935 - Best n_estimators: 100, Best max_depth: 10, Best MSE: 0.0997, Time: 6.52 seconds\n",
      "Year 1936 - Best n_estimators: 100, Best max_depth: 10, Best MSE: 0.1087, Time: 6.61 seconds\n",
      "Year 1937 - Best n_estimators: 100, Best max_depth: 10, Best MSE: 0.0971, Time: 7.44 seconds\n",
      "Year 1938 - Best n_estimators: 100, Best max_depth: 10, Best MSE: 0.077, Time: 8.13 seconds\n",
      "Year 1939 - Best n_estimators: 50, Best max_depth: 15, Best MSE: 0.0844, Time: 8.75 seconds\n",
      "Year 1940 - Best n_estimators: 10, Best max_depth: 10, Best MSE: 0.083, Time: 8.34 seconds\n",
      "Year 1941 - Best n_estimators: 50, Best max_depth: 10, Best MSE: 0.1096, Time: 9.82 seconds\n",
      "Year 1942 - Best n_estimators: 10, Best max_depth: 10, Best MSE: 0.1108, Time: 11.33 seconds\n",
      "Year 1943 - Best n_estimators: 50, Best max_depth: 10, Best MSE: 0.104, Time: 11.23 seconds\n",
      "Year 1944 - Best n_estimators: 50, Best max_depth: 10, Best MSE: 0.0902, Time: 12.33 seconds\n",
      "Year 1945 - Best n_estimators: 50, Best max_depth: 15, Best MSE: 0.1086, Time: 14.34 seconds\n",
      "Year 1946 - Best n_estimators: 50, Best max_depth: 15, Best MSE: 0.0765, Time: 14.55 seconds\n",
      "Year 1947 - Best n_estimators: 100, Best max_depth: 15, Best MSE: 0.0841, Time: 17.82 seconds\n",
      "Year 1948 - Best n_estimators: 50, Best max_depth: 10, Best MSE: 0.105, Time: 15.92 seconds\n",
      "Year 1949 - Best n_estimators: 50, Best max_depth: 15, Best MSE: 0.0869, Time: 18.05 seconds\n",
      "Year 1950 - Best n_estimators: 50, Best max_depth: 10, Best MSE: 0.1132, Time: 18.02 seconds\n",
      "Year 1951 - Best n_estimators: 50, Best max_depth: 15, Best MSE: 0.0936, Time: 20.15 seconds\n",
      "Year 1952 - Best n_estimators: 10, Best max_depth: 10, Best MSE: 0.094, Time: 19.27 seconds\n",
      "Year 1953 - Best n_estimators: 100, Best max_depth: 10, Best MSE: 0.0951, Time: 23.67 seconds\n",
      "Year 1954 - Best n_estimators: 100, Best max_depth: 10, Best MSE: 0.1028, Time: 25.23 seconds\n",
      "Year 1955 - Best n_estimators: 50, Best max_depth: 10, Best MSE: 0.0922, Time: 24.48 seconds\n",
      "Year 1956 - Best n_estimators: 100, Best max_depth: 15, Best MSE: 0.1055, Time: 31.05 seconds\n",
      "Year 1957 - Best n_estimators: 100, Best max_depth: 10, Best MSE: 0.0961, Time: 31.47 seconds\n",
      "Year 1958 - Best n_estimators: 10, Best max_depth: 10, Best MSE: 0.1003, Time: 27.48 seconds\n",
      "Year 1959 - Best n_estimators: 100, Best max_depth: 15, Best MSE: 0.0866, Time: 35.80 seconds\n",
      "Year 1960 - Best n_estimators: 100, Best max_depth: 15, Best MSE: 0.104, Time: 36.32 seconds\n",
      "Year 1961 - Best n_estimators: 100, Best max_depth: 10, Best MSE: 0.0981, Time: 37.39 seconds\n",
      "Year 1962 - Best n_estimators: 10, Best max_depth: 15, Best MSE: 0.0955, Time: 38.74 seconds\n",
      "Year 1963 - Best n_estimators: 50, Best max_depth: 15, Best MSE: 0.0851, Time: 38.26 seconds\n",
      "Year 1964 - Best n_estimators: 100, Best max_depth: 15, Best MSE: 0.1119, Time: 43.84 seconds\n",
      "Year 1965 - Best n_estimators: 100, Best max_depth: 10, Best MSE: 0.1172, Time: 44.91 seconds\n",
      "Year 1966 - Best n_estimators: 50, Best max_depth: 10, Best MSE: 0.1056, Time: 45.23 seconds\n",
      "Year 1967 - Best n_estimators: 50, Best max_depth: 15, Best MSE: 0.0996, Time: 55.46 seconds\n",
      "Year 1968 - Best n_estimators: 100, Best max_depth: 15, Best MSE: 0.09, Time: 57.88 seconds\n",
      "Year 1969 - Best n_estimators: 10, Best max_depth: 10, Best MSE: 0.0953, Time: 49.84 seconds\n",
      "Year 1970 - Best n_estimators: 100, Best max_depth: 15, Best MSE: 0.0778, Time: 65.75 seconds\n",
      "Year 1971 - Best n_estimators: 100, Best max_depth: 10, Best MSE: 0.0903, Time: 66.75 seconds\n",
      "Year 1972 - Best n_estimators: 10, Best max_depth: 10, Best MSE: 0.0927, Time: 59.60 seconds\n",
      "Year 1973 - Best n_estimators: 50, Best max_depth: 10, Best MSE: 0.0962, Time: 69.28 seconds\n",
      "Year 1974 - Best n_estimators: 10, Best max_depth: 10, Best MSE: 0.098, Time: 71.03 seconds\n",
      "Year 1975 - Best n_estimators: 10, Best max_depth: 5, Best MSE: 0.1225, Time: 74.81 seconds\n",
      "Year 1976 - Best n_estimators: 100, Best max_depth: 10, Best MSE: 0.1235, Time: 98.58 seconds\n",
      "Year 1977 - Best n_estimators: 10, Best max_depth: 10, Best MSE: 0.1127, Time: 91.88 seconds\n",
      "Year 1978 - Best n_estimators: 10, Best max_depth: 10, Best MSE: 0.1183, Time: 100.08 seconds\n",
      "Year 1979 - Best n_estimators: 50, Best max_depth: 15, Best MSE: 0.1095, Time: 119.00 seconds\n",
      "Year 1980 - Best n_estimators: 100, Best max_depth: 15, Best MSE: 0.1079, Time: 142.88 seconds\n",
      "Year 1981 - Best n_estimators: 100, Best max_depth: 15, Best MSE: 0.0972, Time: 153.38 seconds\n",
      "Year 1982 - Best n_estimators: 100, Best max_depth: 15, Best MSE: 0.1013, Time: 160.97 seconds\n",
      "Year 1983 - Best n_estimators: 10, Best max_depth: 10, Best MSE: 0.1072, Time: 135.85 seconds\n",
      "Year 1984 - Best n_estimators: 10, Best max_depth: 10, Best MSE: 0.1054, Time: 144.35 seconds\n",
      "Year 1985 - Best n_estimators: 100, Best max_depth: 15, Best MSE: 0.1079, Time: 192.09 seconds\n",
      "Year 1986 - Best n_estimators: 100, Best max_depth: 10, Best MSE: 0.1064, Time: 193.02 seconds\n",
      "Year 1987 - Best n_estimators: 100, Best max_depth: 15, Best MSE: 0.1051, Time: 214.37 seconds\n",
      "Year 1988 - Best n_estimators: 50, Best max_depth: 10, Best MSE: 0.1053, Time: 195.99 seconds\n",
      "Year 1989 - Best n_estimators: 50, Best max_depth: 15, Best MSE: 0.1192, Time: 214.33 seconds\n",
      "Year 1990 - Best n_estimators: 100, Best max_depth: 15, Best MSE: 0.1129, Time: 255.08 seconds\n",
      "Year 1991 - Best n_estimators: 100, Best max_depth: 15, Best MSE: 0.1069, Time: 267.55 seconds\n",
      "Year 1992 - Best n_estimators: 100, Best max_depth: 15, Best MSE: 0.1141, Time: 280.97 seconds\n",
      "Year 1993 - Best n_estimators: 50, Best max_depth: 10, Best MSE: 0.1168, Time: 261.49 seconds\n",
      "Year 1994 - Best n_estimators: 50, Best max_depth: 10, Best MSE: 0.1181, Time: 273.24 seconds\n",
      "Year 1995 - Best n_estimators: 50, Best max_depth: 15, Best MSE: 0.1173, Time: 295.37 seconds\n",
      "Year 1996 - Best n_estimators: 100, Best max_depth: 15, Best MSE: 0.1151, Time: 344.13 seconds\n",
      "Year 1997 - Best n_estimators: 100, Best max_depth: 15, Best MSE: 0.1111, Time: 373.65 seconds\n",
      "Year 1998 - Best n_estimators: 50, Best max_depth: 15, Best MSE: 0.1031, Time: 384.83 seconds\n",
      "Year 1999 - Best n_estimators: 100, Best max_depth: 15, Best MSE: 0.0996, Time: 416.12 seconds\n",
      "Year 2000 - Best n_estimators: 10, Best max_depth: 10, Best MSE: 0.1112, Time: 326.69 seconds\n",
      "Year 2001 - Best n_estimators: 50, Best max_depth: 10, Best MSE: 0.1014, Time: 370.02 seconds\n",
      "Year 2002 - Best n_estimators: 100, Best max_depth: 10, Best MSE: 0.1059, Time: 428.79 seconds\n",
      "Year 2003 - Best n_estimators: 50, Best max_depth: 10, Best MSE: 0.0965, Time: 398.61 seconds\n",
      "Year 2004 - Best n_estimators: 100, Best max_depth: 15, Best MSE: 0.0977, Time: 476.11 seconds\n",
      "Year 2005 - Best n_estimators: 50, Best max_depth: 15, Best MSE: 0.0958, Time: 429.58 seconds\n",
      "Year 2006 - Best n_estimators: 100, Best max_depth: 15, Best MSE: 0.0927, Time: 494.56 seconds\n",
      "Year 2007 - Best n_estimators: 50, Best max_depth: 10, Best MSE: 0.1015, Time: 438.44 seconds\n",
      "Year 2008 - Best n_estimators: 100, Best max_depth: 15, Best MSE: 0.0953, Time: 512.01 seconds\n",
      "Year 2009 - Best n_estimators: 100, Best max_depth: 10, Best MSE: 0.0906, Time: 499.36 seconds\n",
      "Year 2010 - Best n_estimators: 50, Best max_depth: 15, Best MSE: 0.0955, Time: 479.37 seconds\n",
      "Year 2011 - Best n_estimators: 100, Best max_depth: 15, Best MSE: 0.0853, Time: 532.97 seconds\n",
      "Year 2012 - Best n_estimators: 100, Best max_depth: 15, Best MSE: 0.0926, Time: 548.54 seconds\n",
      "Year 2013 - Best n_estimators: 100, Best max_depth: 10, Best MSE: 0.0978, Time: 523.74 seconds\n",
      "Year 2014 - Best n_estimators: 100, Best max_depth: 15, Best MSE: 0.0916, Time: 565.32 seconds\n",
      "Year 2015 - Best n_estimators: 100, Best max_depth: 15, Best MSE: 0.091, Time: 568.69 seconds\n",
      "Year 2016 - Best n_estimators: 100, Best max_depth: 10, Best MSE: 0.0999, Time: 551.63 seconds\n",
      "Year 2017 - Best n_estimators: 50, Best max_depth: 10, Best MSE: 0.0943, Time: 514.05 seconds\n",
      "Year 2018 - Best n_estimators: 100, Best max_depth: 15, Best MSE: 0.1, Time: 598.85 seconds\n",
      "Year 2019 - Best n_estimators: 50, Best max_depth: 15, Best MSE: 0.0951, Time: 547.04 seconds\n",
      "Year 2020 - Best n_estimators: 100, Best max_depth: 15, Best MSE: 0.089, Time: 613.89 seconds\n",
      "Year 2021 - Best n_estimators: 100, Best max_depth: 15, Best MSE: 0.0864, Time: 627.68 seconds\n",
      "Year 2022 - Best n_estimators: 100, Best max_depth: 15, Best MSE: 0.0957, Time: 629.98 seconds\n",
      "Total time: 18276.64 seconds\n"
     ]
    }
   ],
   "source": [
    "###################################\n",
    "# RANDOM FOREST CLASSIFICATION MODEl - MSE\n",
    "###################################\n",
    "\n",
    "model_name = 'RF_clas_exp_AC'  # Define the model name for Random Forest\n",
    "start_time2 = time.time()\n",
    "\n",
    "\n",
    "# Update the column name for storing Random Forest classification predictions\n",
    "df[model_name] = np.nan\n",
    "\n",
    "# Ensure the new column is in the prediction_cols list\n",
    "if model_name not in prediction_cols:\n",
    "    prediction_cols.append(model_name)\n",
    "\n",
    "# Define the hyperparameters to test\n",
    "HP1 = [10, 50, 100]  # n_estimators\n",
    "HP2 = [5, 10, 15]  # max_depth (None means no limit)\n",
    "\n",
    "for year in range(df['year'].min() + 7, df['year'].max() + 1):\n",
    "    start_time = time.time()  # Start timing\n",
    "\n",
    "    # Define training and tuning datasets\n",
    "    train_data = df[df['year'] < year]\n",
    "    tuning_data = train_data[train_data['year'] == year - 1]\n",
    "    train_data = train_data[train_data['year'] < year - 1]\n",
    "\n",
    "    X_train = train_data[X_col]\n",
    "    y_train = train_data['y']\n",
    "\n",
    "    X_tune = tuning_data[X_col]\n",
    "    y_tune = tuning_data['y']\n",
    "\n",
    "    best_HP1 = None\n",
    "    best_HP2 = None\n",
    "    best_mse = np.inf\n",
    "\n",
    "    # Hyperparameter tuning\n",
    "    for hp1 in HP1:\n",
    "        for hp2 in HP2:\n",
    "            model = RandomForestClassifier(n_estimators=hp1, max_depth=hp2, random_state=42, n_jobs = -1)\n",
    "            model.fit(X_train, y_train)\n",
    "            predictions = model.predict_proba(X_tune)[:, 1]  # Get probabilities of the positive class\n",
    "            mse = mean_squared_error(y_tune, predictions)  # Calculate MSE\n",
    "            \n",
    "            # Lower MSE is better, so we invert the logic used for accuracy\n",
    "            if mse < best_mse:\n",
    "                best_mse = mse\n",
    "                best_HP1 = hp1\n",
    "                best_HP2 = hp2\n",
    "\n",
    "    # Retrain on the entire training dataset up to the current year\n",
    "    X_full_train = df[df['year'] < year][X_col]\n",
    "    y_full_train = df[df['year'] < year]['y']\n",
    "    model = RandomForestClassifier(n_estimators=best_HP1, max_depth=best_HP2, random_state=42, n_jobs=-1)\n",
    "    model.fit(X_full_train, y_full_train)\n",
    "\n",
    "    # Predict probabilities for the next year\n",
    "    next_year_data = df[df['year'] == year]\n",
    "    X_next_year = next_year_data[X_col]\n",
    "    if not X_next_year.empty:\n",
    "        next_year_probabilities = model.predict_proba(X_next_year)[:, 1]  # Probability of the positive class\n",
    "        df.loc[df['year'] == year, model_name] = next_year_probabilities\n",
    "\n",
    "    end_time = time.time()  # End timing\n",
    "    iteration_time = end_time - start_time  # Calculate iteration time\n",
    "\n",
    "    print(f\"Year {year} - Best n_estimators: {best_HP1}, Best max_depth: {best_HP2 if best_HP2 is not None else 'None'}, Best MSE: {round(best_mse, 4)}, Time: {iteration_time:.2f} seconds\")\n",
    "\n",
    "end_time2 = time.time()\n",
    "print(f\"Total time: {end_time2 - start_time2:.2f} seconds\")"
   ]
  },
  {
   "cell_type": "markdown",
   "id": "2d48aace",
   "metadata": {
    "papermill": {
     "duration": 0.013949,
     "end_time": "2024-02-21T23:55:28.491875",
     "exception": false,
     "start_time": "2024-02-21T23:55:28.477926",
     "status": "completed"
    },
    "tags": []
   },
   "source": [
    "### First expanding, then rolling\n",
    "start predicting for 1932, expand the window until you reach X years, then roll it"
   ]
  },
  {
   "cell_type": "markdown",
   "id": "0192c76d",
   "metadata": {
    "papermill": {
     "duration": 0.013797,
     "end_time": "2024-02-21T23:55:28.519612",
     "exception": false,
     "start_time": "2024-02-21T23:55:28.505815",
     "status": "completed"
    },
    "tags": []
   },
   "source": [
    "#### MSE Evaluation"
   ]
  },
  {
   "cell_type": "markdown",
   "id": "167f4eca",
   "metadata": {
    "papermill": {
     "duration": 0.013676,
     "end_time": "2024-02-21T23:55:28.547211",
     "exception": false,
     "start_time": "2024-02-21T23:55:28.533535",
     "status": "completed"
    },
    "tags": []
   },
   "source": [
    "##### 5 years"
   ]
  },
  {
   "cell_type": "code",
   "execution_count": 6,
   "id": "e49d4043",
   "metadata": {
    "execution": {
     "iopub.execute_input": "2024-02-21T23:55:28.576373Z",
     "iopub.status.busy": "2024-02-21T23:55:28.576065Z",
     "iopub.status.idle": "2024-02-21T23:55:28.579984Z",
     "shell.execute_reply": "2024-02-21T23:55:28.579128Z"
    },
    "papermill": {
     "duration": 0.020811,
     "end_time": "2024-02-21T23:55:28.581943",
     "exception": false,
     "start_time": "2024-02-21T23:55:28.561132",
     "status": "completed"
    },
    "tags": []
   },
   "outputs": [],
   "source": [
    "rolling_window = 5"
   ]
  },
  {
   "cell_type": "code",
   "execution_count": null,
   "id": "c2cfe427",
   "metadata": {
    "papermill": {
     "duration": 0.014396,
     "end_time": "2024-02-21T23:55:28.610355",
     "exception": false,
     "start_time": "2024-02-21T23:55:28.595959",
     "status": "completed"
    },
    "tags": []
   },
   "outputs": [],
   "source": []
  },
  {
   "cell_type": "markdown",
   "id": "ea9b2fb2",
   "metadata": {
    "papermill": {
     "duration": 0.013797,
     "end_time": "2024-02-21T23:55:28.638132",
     "exception": false,
     "start_time": "2024-02-21T23:55:28.624335",
     "status": "completed"
    },
    "tags": []
   },
   "source": [
    "## Forming Portfolios, Value-weighted portfolio returns"
   ]
  },
  {
   "cell_type": "code",
   "execution_count": 7,
   "id": "a36e564e",
   "metadata": {
    "execution": {
     "iopub.execute_input": "2024-02-21T23:55:28.667108Z",
     "iopub.status.busy": "2024-02-21T23:55:28.666841Z",
     "iopub.status.idle": "2024-02-21T23:55:28.684203Z",
     "shell.execute_reply": "2024-02-21T23:55:28.683338Z"
    },
    "papermill": {
     "duration": 0.033949,
     "end_time": "2024-02-21T23:55:28.686012",
     "exception": false,
     "start_time": "2024-02-21T23:55:28.652063",
     "status": "completed"
    },
    "tags": []
   },
   "outputs": [
    {
     "data": {
      "text/html": [
       "<div>\n",
       "<style scoped>\n",
       "    .dataframe tbody tr th:only-of-type {\n",
       "        vertical-align: middle;\n",
       "    }\n",
       "\n",
       "    .dataframe tbody tr th {\n",
       "        vertical-align: top;\n",
       "    }\n",
       "\n",
       "    .dataframe thead th {\n",
       "        text-align: right;\n",
       "    }\n",
       "</style>\n",
       "<table border=\"1\" class=\"dataframe\">\n",
       "  <thead>\n",
       "    <tr style=\"text-align: right;\">\n",
       "      <th></th>\n",
       "      <th>PERMNO</th>\n",
       "      <th>date</th>\n",
       "      <th>RET</th>\n",
       "      <th>ME</th>\n",
       "      <th>bull_D</th>\n",
       "      <th>bear_D</th>\n",
       "      <th>bull_W</th>\n",
       "      <th>bear_W</th>\n",
       "      <th>bull_M</th>\n",
       "      <th>bear_M</th>\n",
       "      <th>LMKT</th>\n",
       "      <th>IVOL</th>\n",
       "      <th>y</th>\n",
       "      <th>year</th>\n",
       "      <th>RF_clas_exp_AC</th>\n",
       "    </tr>\n",
       "  </thead>\n",
       "  <tbody>\n",
       "    <tr>\n",
       "      <th>0</th>\n",
       "      <td>11148</td>\n",
       "      <td>1926-08-31</td>\n",
       "      <td>0.109924</td>\n",
       "      <td>76287.5</td>\n",
       "      <td>1.0</td>\n",
       "      <td>0.0</td>\n",
       "      <td>4.0</td>\n",
       "      <td>0.0</td>\n",
       "      <td>0</td>\n",
       "      <td>0</td>\n",
       "      <td>0.0318</td>\n",
       "      <td>0.000040</td>\n",
       "      <td>1</td>\n",
       "      <td>1926</td>\n",
       "      <td>NaN</td>\n",
       "    </tr>\n",
       "    <tr>\n",
       "      <th>1</th>\n",
       "      <td>10874</td>\n",
       "      <td>1926-08-31</td>\n",
       "      <td>0.168142</td>\n",
       "      <td>16500.0</td>\n",
       "      <td>0.0</td>\n",
       "      <td>0.0</td>\n",
       "      <td>2.0</td>\n",
       "      <td>0.0</td>\n",
       "      <td>2</td>\n",
       "      <td>0</td>\n",
       "      <td>0.0318</td>\n",
       "      <td>0.000537</td>\n",
       "      <td>1</td>\n",
       "      <td>1926</td>\n",
       "      <td>NaN</td>\n",
       "    </tr>\n",
       "    <tr>\n",
       "      <th>2</th>\n",
       "      <td>12968</td>\n",
       "      <td>1926-08-31</td>\n",
       "      <td>-0.006464</td>\n",
       "      <td>55683.0</td>\n",
       "      <td>0.0</td>\n",
       "      <td>0.0</td>\n",
       "      <td>0.0</td>\n",
       "      <td>0.0</td>\n",
       "      <td>0</td>\n",
       "      <td>0</td>\n",
       "      <td>0.0318</td>\n",
       "      <td>0.000007</td>\n",
       "      <td>0</td>\n",
       "      <td>1926</td>\n",
       "      <td>NaN</td>\n",
       "    </tr>\n",
       "    <tr>\n",
       "      <th>3</th>\n",
       "      <td>12976</td>\n",
       "      <td>1926-08-31</td>\n",
       "      <td>0.156041</td>\n",
       "      <td>41650.0</td>\n",
       "      <td>1.0</td>\n",
       "      <td>0.0</td>\n",
       "      <td>0.0</td>\n",
       "      <td>0.0</td>\n",
       "      <td>0</td>\n",
       "      <td>0</td>\n",
       "      <td>0.0318</td>\n",
       "      <td>0.000070</td>\n",
       "      <td>1</td>\n",
       "      <td>1926</td>\n",
       "      <td>NaN</td>\n",
       "    </tr>\n",
       "    <tr>\n",
       "      <th>4</th>\n",
       "      <td>12984</td>\n",
       "      <td>1926-08-31</td>\n",
       "      <td>0.046875</td>\n",
       "      <td>11323.0</td>\n",
       "      <td>1.0</td>\n",
       "      <td>0.0</td>\n",
       "      <td>0.0</td>\n",
       "      <td>0.0</td>\n",
       "      <td>0</td>\n",
       "      <td>0</td>\n",
       "      <td>0.0318</td>\n",
       "      <td>0.000874</td>\n",
       "      <td>1</td>\n",
       "      <td>1926</td>\n",
       "      <td>NaN</td>\n",
       "    </tr>\n",
       "  </tbody>\n",
       "</table>\n",
       "</div>"
      ],
      "text/plain": [
       "   PERMNO       date       RET       ME  bull_D  bear_D  bull_W  bear_W  \\\n",
       "0   11148 1926-08-31  0.109924  76287.5     1.0     0.0     4.0     0.0   \n",
       "1   10874 1926-08-31  0.168142  16500.0     0.0     0.0     2.0     0.0   \n",
       "2   12968 1926-08-31 -0.006464  55683.0     0.0     0.0     0.0     0.0   \n",
       "3   12976 1926-08-31  0.156041  41650.0     1.0     0.0     0.0     0.0   \n",
       "4   12984 1926-08-31  0.046875  11323.0     1.0     0.0     0.0     0.0   \n",
       "\n",
       "   bull_M  bear_M    LMKT      IVOL  y  year  RF_clas_exp_AC  \n",
       "0       0       0  0.0318  0.000040  1  1926             NaN  \n",
       "1       2       0  0.0318  0.000537  1  1926             NaN  \n",
       "2       0       0  0.0318  0.000007  0  1926             NaN  \n",
       "3       0       0  0.0318  0.000070  1  1926             NaN  \n",
       "4       0       0  0.0318  0.000874  1  1926             NaN  "
      ]
     },
     "execution_count": 7,
     "metadata": {},
     "output_type": "execute_result"
    }
   ],
   "source": [
    "df.head()"
   ]
  },
  {
   "cell_type": "code",
   "execution_count": 8,
   "id": "9245b9b0",
   "metadata": {
    "execution": {
     "iopub.execute_input": "2024-02-21T23:55:28.715588Z",
     "iopub.status.busy": "2024-02-21T23:55:28.715291Z",
     "iopub.status.idle": "2024-02-21T23:55:28.720414Z",
     "shell.execute_reply": "2024-02-21T23:55:28.719572Z"
    },
    "papermill": {
     "duration": 0.021934,
     "end_time": "2024-02-21T23:55:28.722281",
     "exception": false,
     "start_time": "2024-02-21T23:55:28.700347",
     "status": "completed"
    },
    "tags": []
   },
   "outputs": [
    {
     "data": {
      "text/plain": [
       "['RF_clas_exp_AC']"
      ]
     },
     "execution_count": 8,
     "metadata": {},
     "output_type": "execute_result"
    }
   ],
   "source": [
    "prediction_cols\n",
    "# prediction_cols = ['logit_default','OLS_default','logit_roll6','DT_reg_roll']"
   ]
  },
  {
   "cell_type": "code",
   "execution_count": 9,
   "id": "e017b278",
   "metadata": {
    "execution": {
     "iopub.execute_input": "2024-02-21T23:55:28.752485Z",
     "iopub.status.busy": "2024-02-21T23:55:28.752017Z",
     "iopub.status.idle": "2024-02-21T23:55:29.083631Z",
     "shell.execute_reply": "2024-02-21T23:55:29.082797Z"
    },
    "papermill": {
     "duration": 0.349118,
     "end_time": "2024-02-21T23:55:29.085909",
     "exception": false,
     "start_time": "2024-02-21T23:55:28.736791",
     "status": "completed"
    },
    "tags": []
   },
   "outputs": [
    {
     "data": {
      "text/html": [
       "<div>\n",
       "<style scoped>\n",
       "    .dataframe tbody tr th:only-of-type {\n",
       "        vertical-align: middle;\n",
       "    }\n",
       "\n",
       "    .dataframe tbody tr th {\n",
       "        vertical-align: top;\n",
       "    }\n",
       "\n",
       "    .dataframe thead th {\n",
       "        text-align: right;\n",
       "    }\n",
       "</style>\n",
       "<table border=\"1\" class=\"dataframe\">\n",
       "  <thead>\n",
       "    <tr style=\"text-align: right;\">\n",
       "      <th></th>\n",
       "      <th>date</th>\n",
       "      <th>RET</th>\n",
       "      <th>ME</th>\n",
       "      <th>y</th>\n",
       "      <th>RF_clas_exp_AC</th>\n",
       "    </tr>\n",
       "  </thead>\n",
       "  <tbody>\n",
       "    <tr>\n",
       "      <th>49083</th>\n",
       "      <td>1933-01-31</td>\n",
       "      <td>0.036765</td>\n",
       "      <td>31918.875</td>\n",
       "      <td>1</td>\n",
       "      <td>1.000000</td>\n",
       "    </tr>\n",
       "    <tr>\n",
       "      <th>49084</th>\n",
       "      <td>1933-01-31</td>\n",
       "      <td>0.121849</td>\n",
       "      <td>7142.250</td>\n",
       "      <td>1</td>\n",
       "      <td>0.423197</td>\n",
       "    </tr>\n",
       "    <tr>\n",
       "      <th>49085</th>\n",
       "      <td>1933-01-31</td>\n",
       "      <td>0.015625</td>\n",
       "      <td>1560.000</td>\n",
       "      <td>1</td>\n",
       "      <td>1.000000</td>\n",
       "    </tr>\n",
       "    <tr>\n",
       "      <th>49086</th>\n",
       "      <td>1933-01-31</td>\n",
       "      <td>-0.084337</td>\n",
       "      <td>4275.000</td>\n",
       "      <td>0</td>\n",
       "      <td>0.000000</td>\n",
       "    </tr>\n",
       "    <tr>\n",
       "      <th>49087</th>\n",
       "      <td>1933-01-31</td>\n",
       "      <td>-0.037500</td>\n",
       "      <td>447581.750</td>\n",
       "      <td>0</td>\n",
       "      <td>0.224268</td>\n",
       "    </tr>\n",
       "  </tbody>\n",
       "</table>\n",
       "</div>"
      ],
      "text/plain": [
       "            date       RET          ME  y  RF_clas_exp_AC\n",
       "49083 1933-01-31  0.036765   31918.875  1        1.000000\n",
       "49084 1933-01-31  0.121849    7142.250  1        0.423197\n",
       "49085 1933-01-31  0.015625    1560.000  1        1.000000\n",
       "49086 1933-01-31 -0.084337    4275.000  0        0.000000\n",
       "49087 1933-01-31 -0.037500  447581.750  0        0.224268"
      ]
     },
     "execution_count": 9,
     "metadata": {},
     "output_type": "execute_result"
    }
   ],
   "source": [
    "portfolio = df[['date', 'RET', 'ME', 'y'] + prediction_cols].copy()\n",
    "portfolio['date'] = pd.to_datetime(portfolio['date'])\n",
    "\n",
    "# drop rows with missing values\n",
    "portfolio.dropna(inplace=True)\n",
    "\n",
    "portfolio.head()"
   ]
  },
  {
   "cell_type": "code",
   "execution_count": 10,
   "id": "2885314f",
   "metadata": {
    "execution": {
     "iopub.execute_input": "2024-02-21T23:55:29.118172Z",
     "iopub.status.busy": "2024-02-21T23:55:29.117388Z",
     "iopub.status.idle": "2024-02-21T23:55:29.128095Z",
     "shell.execute_reply": "2024-02-21T23:55:29.127223Z"
    },
    "papermill": {
     "duration": 0.028689,
     "end_time": "2024-02-21T23:55:29.130064",
     "exception": false,
     "start_time": "2024-02-21T23:55:29.101375",
     "status": "completed"
    },
    "tags": []
   },
   "outputs": [
    {
     "data": {
      "text/html": [
       "<div>\n",
       "<style scoped>\n",
       "    .dataframe tbody tr th:only-of-type {\n",
       "        vertical-align: middle;\n",
       "    }\n",
       "\n",
       "    .dataframe tbody tr th {\n",
       "        vertical-align: top;\n",
       "    }\n",
       "\n",
       "    .dataframe thead th {\n",
       "        text-align: right;\n",
       "    }\n",
       "</style>\n",
       "<table border=\"1\" class=\"dataframe\">\n",
       "  <thead>\n",
       "    <tr style=\"text-align: right;\">\n",
       "      <th></th>\n",
       "      <th>date</th>\n",
       "      <th>RET</th>\n",
       "      <th>ME</th>\n",
       "      <th>y</th>\n",
       "      <th>RF_clas_exp_AC</th>\n",
       "    </tr>\n",
       "  </thead>\n",
       "  <tbody>\n",
       "    <tr>\n",
       "      <th>3627748</th>\n",
       "      <td>2022-07-31</td>\n",
       "      <td>-0.106939</td>\n",
       "      <td>3.731571e+06</td>\n",
       "      <td>0</td>\n",
       "      <td>0.781260</td>\n",
       "    </tr>\n",
       "    <tr>\n",
       "      <th>3627749</th>\n",
       "      <td>2022-07-31</td>\n",
       "      <td>0.020969</td>\n",
       "      <td>5.066263e+03</td>\n",
       "      <td>1</td>\n",
       "      <td>0.560089</td>\n",
       "    </tr>\n",
       "    <tr>\n",
       "      <th>3627750</th>\n",
       "      <td>2022-07-31</td>\n",
       "      <td>0.184785</td>\n",
       "      <td>1.280287e+06</td>\n",
       "      <td>1</td>\n",
       "      <td>0.985404</td>\n",
       "    </tr>\n",
       "    <tr>\n",
       "      <th>3627751</th>\n",
       "      <td>2022-07-31</td>\n",
       "      <td>0.108881</td>\n",
       "      <td>3.475711e+04</td>\n",
       "      <td>1</td>\n",
       "      <td>0.549264</td>\n",
       "    </tr>\n",
       "    <tr>\n",
       "      <th>3627752</th>\n",
       "      <td>2022-07-31</td>\n",
       "      <td>0.323765</td>\n",
       "      <td>9.311106e+08</td>\n",
       "      <td>1</td>\n",
       "      <td>0.913650</td>\n",
       "    </tr>\n",
       "  </tbody>\n",
       "</table>\n",
       "</div>"
      ],
      "text/plain": [
       "              date       RET            ME  y  RF_clas_exp_AC\n",
       "3627748 2022-07-31 -0.106939  3.731571e+06  0        0.781260\n",
       "3627749 2022-07-31  0.020969  5.066263e+03  1        0.560089\n",
       "3627750 2022-07-31  0.184785  1.280287e+06  1        0.985404\n",
       "3627751 2022-07-31  0.108881  3.475711e+04  1        0.549264\n",
       "3627752 2022-07-31  0.323765  9.311106e+08  1        0.913650"
      ]
     },
     "execution_count": 10,
     "metadata": {},
     "output_type": "execute_result"
    }
   ],
   "source": [
    "portfolio.tail()"
   ]
  },
  {
   "cell_type": "code",
   "execution_count": 11,
   "id": "7f3f08e4",
   "metadata": {
    "execution": {
     "iopub.execute_input": "2024-02-21T23:55:29.161253Z",
     "iopub.status.busy": "2024-02-21T23:55:29.160973Z",
     "iopub.status.idle": "2024-02-21T23:55:31.884900Z",
     "shell.execute_reply": "2024-02-21T23:55:31.883969Z"
    },
    "papermill": {
     "duration": 2.742103,
     "end_time": "2024-02-21T23:55:31.887209",
     "exception": false,
     "start_time": "2024-02-21T23:55:29.145106",
     "status": "completed"
    },
    "tags": []
   },
   "outputs": [
    {
     "name": "stderr",
     "output_type": "stream",
     "text": [
      "/tmp/ipykernel_26/2999037948.py:15: DeprecationWarning: DataFrameGroupBy.apply operated on the grouping columns. This behavior is deprecated, and in a future version of pandas the grouping columns will be excluded from the operation. Either pass `include_groups=False` to exclude the groupings or explicitly select the grouping columns after groupby to silence this warning.\n",
      "  vwreturns_temp = portfolio.groupby('date').apply(lambda x: np.sum(x['RET'] * x['ME'] * x[position_col]) / np.sum(x['ME'])).reset_index(name=vwret_col)\n"
     ]
    }
   ],
   "source": [
    "# Initialize an empty DataFrame to store value-weighted returns for each model\n",
    "vwreturns = pd.DataFrame(portfolio['date'].unique(), columns=['date'])  # Ensures all dates are included\n",
    "\n",
    "for pred_col in prediction_cols:\n",
    "    # Calculate deciles for this prediction\n",
    "    decile_col = f'decile_{pred_col}'\n",
    "    portfolio[decile_col] = portfolio.groupby(['date'])[pred_col].transform(lambda x: pd.qcut(x, 10, labels=False, duplicates='drop'))\n",
    "    \n",
    "    # Determine position based on deciles\n",
    "    position_col = f'position_{pred_col}'\n",
    "    portfolio[position_col] = np.where(portfolio[decile_col] == 9, 1, np.where(portfolio[decile_col] == 0, -1, 0))\n",
    "    \n",
    "    # Calculate the value-weighted return for this prediction\n",
    "    vwret_col = f'vwreturn_{pred_col}'\n",
    "    vwreturns_temp = portfolio.groupby('date').apply(lambda x: np.sum(x['RET'] * x['ME'] * x[position_col]) / np.sum(x['ME'])).reset_index(name=vwret_col)\n",
    "    \n",
    "    # Merge the temporary value-weighted returns with the main vwreturns DataFrame\n",
    "    vwreturns = vwreturns.merge(vwreturns_temp, on='date', how='left')\n",
    "\n",
    "# Ensure the 'date' column is the first column and is sorted\n",
    "vwreturns = vwreturns.sort_values('date').reset_index(drop=True)\n"
   ]
  },
  {
   "cell_type": "code",
   "execution_count": 12,
   "id": "42d4b2e7",
   "metadata": {
    "execution": {
     "iopub.execute_input": "2024-02-21T23:55:31.919704Z",
     "iopub.status.busy": "2024-02-21T23:55:31.919402Z",
     "iopub.status.idle": "2024-02-21T23:55:31.927853Z",
     "shell.execute_reply": "2024-02-21T23:55:31.927020Z"
    },
    "papermill": {
     "duration": 0.026509,
     "end_time": "2024-02-21T23:55:31.929694",
     "exception": false,
     "start_time": "2024-02-21T23:55:31.903185",
     "status": "completed"
    },
    "tags": []
   },
   "outputs": [
    {
     "data": {
      "text/html": [
       "<div>\n",
       "<style scoped>\n",
       "    .dataframe tbody tr th:only-of-type {\n",
       "        vertical-align: middle;\n",
       "    }\n",
       "\n",
       "    .dataframe tbody tr th {\n",
       "        vertical-align: top;\n",
       "    }\n",
       "\n",
       "    .dataframe thead th {\n",
       "        text-align: right;\n",
       "    }\n",
       "</style>\n",
       "<table border=\"1\" class=\"dataframe\">\n",
       "  <thead>\n",
       "    <tr style=\"text-align: right;\">\n",
       "      <th></th>\n",
       "      <th>date</th>\n",
       "      <th>vwreturn_RF_clas_exp_AC</th>\n",
       "    </tr>\n",
       "  </thead>\n",
       "  <tbody>\n",
       "    <tr>\n",
       "      <th>0</th>\n",
       "      <td>1933-01-31</td>\n",
       "      <td>0.006076</td>\n",
       "    </tr>\n",
       "    <tr>\n",
       "      <th>1</th>\n",
       "      <td>1933-02-28</td>\n",
       "      <td>0.065369</td>\n",
       "    </tr>\n",
       "    <tr>\n",
       "      <th>2</th>\n",
       "      <td>1933-03-31</td>\n",
       "      <td>0.040466</td>\n",
       "    </tr>\n",
       "    <tr>\n",
       "      <th>3</th>\n",
       "      <td>1933-04-30</td>\n",
       "      <td>-0.008506</td>\n",
       "    </tr>\n",
       "    <tr>\n",
       "      <th>4</th>\n",
       "      <td>1933-05-31</td>\n",
       "      <td>-0.004533</td>\n",
       "    </tr>\n",
       "  </tbody>\n",
       "</table>\n",
       "</div>"
      ],
      "text/plain": [
       "        date  vwreturn_RF_clas_exp_AC\n",
       "0 1933-01-31                 0.006076\n",
       "1 1933-02-28                 0.065369\n",
       "2 1933-03-31                 0.040466\n",
       "3 1933-04-30                -0.008506\n",
       "4 1933-05-31                -0.004533"
      ]
     },
     "execution_count": 12,
     "metadata": {},
     "output_type": "execute_result"
    }
   ],
   "source": [
    "vwreturns.head()"
   ]
  },
  {
   "cell_type": "markdown",
   "id": "702bbffe",
   "metadata": {
    "papermill": {
     "duration": 0.015259,
     "end_time": "2024-02-21T23:55:31.960454",
     "exception": false,
     "start_time": "2024-02-21T23:55:31.945195",
     "status": "completed"
    },
    "tags": []
   },
   "source": [
    "### Compare to market data"
   ]
  },
  {
   "cell_type": "code",
   "execution_count": 13,
   "id": "75bfe53f",
   "metadata": {
    "execution": {
     "iopub.execute_input": "2024-02-21T23:55:31.993477Z",
     "iopub.status.busy": "2024-02-21T23:55:31.993230Z",
     "iopub.status.idle": "2024-02-21T23:55:32.324276Z",
     "shell.execute_reply": "2024-02-21T23:55:32.323546Z"
    },
    "papermill": {
     "duration": 0.350304,
     "end_time": "2024-02-21T23:55:32.326286",
     "exception": false,
     "start_time": "2024-02-21T23:55:31.975982",
     "status": "completed"
    },
    "tags": []
   },
   "outputs": [],
   "source": [
    "#market = pd.read_csv('FF3_clean.csv')\n",
    "market = pd.read_csv('/kaggle/input/sign-prediction-datasets/FF3_clean.csv')"
   ]
  },
  {
   "cell_type": "code",
   "execution_count": 14,
   "id": "5b55ff72",
   "metadata": {
    "execution": {
     "iopub.execute_input": "2024-02-21T23:55:32.358869Z",
     "iopub.status.busy": "2024-02-21T23:55:32.358598Z",
     "iopub.status.idle": "2024-02-21T23:55:32.369658Z",
     "shell.execute_reply": "2024-02-21T23:55:32.368845Z"
    },
    "papermill": {
     "duration": 0.029383,
     "end_time": "2024-02-21T23:55:32.371513",
     "exception": false,
     "start_time": "2024-02-21T23:55:32.342130",
     "status": "completed"
    },
    "tags": []
   },
   "outputs": [
    {
     "data": {
      "text/html": [
       "<div>\n",
       "<style scoped>\n",
       "    .dataframe tbody tr th:only-of-type {\n",
       "        vertical-align: middle;\n",
       "    }\n",
       "\n",
       "    .dataframe tbody tr th {\n",
       "        vertical-align: top;\n",
       "    }\n",
       "\n",
       "    .dataframe thead th {\n",
       "        text-align: right;\n",
       "    }\n",
       "</style>\n",
       "<table border=\"1\" class=\"dataframe\">\n",
       "  <thead>\n",
       "    <tr style=\"text-align: right;\">\n",
       "      <th></th>\n",
       "      <th>date</th>\n",
       "      <th>Mkt-RF</th>\n",
       "      <th>SMB</th>\n",
       "      <th>HML</th>\n",
       "      <th>RF</th>\n",
       "    </tr>\n",
       "  </thead>\n",
       "  <tbody>\n",
       "    <tr>\n",
       "      <th>0</th>\n",
       "      <td>1926-07-31</td>\n",
       "      <td>2.96</td>\n",
       "      <td>-2.56</td>\n",
       "      <td>-2.43</td>\n",
       "      <td>0.22</td>\n",
       "    </tr>\n",
       "    <tr>\n",
       "      <th>1</th>\n",
       "      <td>1926-08-31</td>\n",
       "      <td>2.64</td>\n",
       "      <td>-1.17</td>\n",
       "      <td>3.82</td>\n",
       "      <td>0.25</td>\n",
       "    </tr>\n",
       "    <tr>\n",
       "      <th>2</th>\n",
       "      <td>1926-09-30</td>\n",
       "      <td>0.36</td>\n",
       "      <td>-1.40</td>\n",
       "      <td>0.13</td>\n",
       "      <td>0.23</td>\n",
       "    </tr>\n",
       "    <tr>\n",
       "      <th>3</th>\n",
       "      <td>1926-10-31</td>\n",
       "      <td>-3.24</td>\n",
       "      <td>-0.09</td>\n",
       "      <td>0.70</td>\n",
       "      <td>0.32</td>\n",
       "    </tr>\n",
       "    <tr>\n",
       "      <th>4</th>\n",
       "      <td>1926-11-30</td>\n",
       "      <td>2.53</td>\n",
       "      <td>-0.10</td>\n",
       "      <td>-0.51</td>\n",
       "      <td>0.31</td>\n",
       "    </tr>\n",
       "  </tbody>\n",
       "</table>\n",
       "</div>"
      ],
      "text/plain": [
       "         date  Mkt-RF   SMB   HML    RF\n",
       "0  1926-07-31    2.96 -2.56 -2.43  0.22\n",
       "1  1926-08-31    2.64 -1.17  3.82  0.25\n",
       "2  1926-09-30    0.36 -1.40  0.13  0.23\n",
       "3  1926-10-31   -3.24 -0.09  0.70  0.32\n",
       "4  1926-11-30    2.53 -0.10 -0.51  0.31"
      ]
     },
     "execution_count": 14,
     "metadata": {},
     "output_type": "execute_result"
    }
   ],
   "source": [
    "market.head()"
   ]
  },
  {
   "cell_type": "code",
   "execution_count": 15,
   "id": "ce3a736a",
   "metadata": {
    "execution": {
     "iopub.execute_input": "2024-02-21T23:55:32.403994Z",
     "iopub.status.busy": "2024-02-21T23:55:32.403736Z",
     "iopub.status.idle": "2024-02-21T23:55:32.419502Z",
     "shell.execute_reply": "2024-02-21T23:55:32.418825Z"
    },
    "papermill": {
     "duration": 0.034117,
     "end_time": "2024-02-21T23:55:32.421396",
     "exception": false,
     "start_time": "2024-02-21T23:55:32.387279",
     "status": "completed"
    },
    "tags": []
   },
   "outputs": [],
   "source": [
    "# create a new 'Mkt' which is a sum of Mkt-RF and RF\n",
    "market['Mkt'] = market['Mkt-RF'] + market['RF']\n",
    "\n",
    "# divide all columns by 100 except 'date'\n",
    "market.iloc[:, 1:] = market.iloc[:, 1:] / 100\n",
    "\n",
    "#set the 'date' column to datetime format\n",
    "market['date'] = pd.to_datetime(market['date'])\n",
    "\n",
    "# merge the market data (only date and Mkt columns) with the vwreturns DataFrame\n",
    "vwreturns = vwreturns.merge(market[['date', 'Mkt']], on='date', how='left')\n",
    "\n",
    "# transform all columns (except 'date') to a log: log(x+1) and save the result as lvwreturns\n",
    "lvwreturns = vwreturns.copy()\n",
    "lvwreturns.iloc[:, 1:] = np.log(vwreturns.iloc[:, 1:] + 1)"
   ]
  },
  {
   "cell_type": "code",
   "execution_count": 16,
   "id": "2b5c108a",
   "metadata": {
    "execution": {
     "iopub.execute_input": "2024-02-21T23:55:32.454286Z",
     "iopub.status.busy": "2024-02-21T23:55:32.454054Z",
     "iopub.status.idle": "2024-02-21T23:55:32.462261Z",
     "shell.execute_reply": "2024-02-21T23:55:32.461478Z"
    },
    "papermill": {
     "duration": 0.026696,
     "end_time": "2024-02-21T23:55:32.464171",
     "exception": false,
     "start_time": "2024-02-21T23:55:32.437475",
     "status": "completed"
    },
    "tags": []
   },
   "outputs": [
    {
     "data": {
      "text/html": [
       "<div>\n",
       "<style scoped>\n",
       "    .dataframe tbody tr th:only-of-type {\n",
       "        vertical-align: middle;\n",
       "    }\n",
       "\n",
       "    .dataframe tbody tr th {\n",
       "        vertical-align: top;\n",
       "    }\n",
       "\n",
       "    .dataframe thead th {\n",
       "        text-align: right;\n",
       "    }\n",
       "</style>\n",
       "<table border=\"1\" class=\"dataframe\">\n",
       "  <thead>\n",
       "    <tr style=\"text-align: right;\">\n",
       "      <th></th>\n",
       "      <th>date</th>\n",
       "      <th>vwreturn_RF_clas_exp_AC</th>\n",
       "      <th>Mkt</th>\n",
       "    </tr>\n",
       "  </thead>\n",
       "  <tbody>\n",
       "    <tr>\n",
       "      <th>0</th>\n",
       "      <td>1933-01-31</td>\n",
       "      <td>0.006076</td>\n",
       "      <td>0.0126</td>\n",
       "    </tr>\n",
       "    <tr>\n",
       "      <th>1</th>\n",
       "      <td>1933-02-28</td>\n",
       "      <td>0.065369</td>\n",
       "      <td>-0.1527</td>\n",
       "    </tr>\n",
       "    <tr>\n",
       "      <th>2</th>\n",
       "      <td>1933-03-31</td>\n",
       "      <td>0.040466</td>\n",
       "      <td>0.0333</td>\n",
       "    </tr>\n",
       "    <tr>\n",
       "      <th>3</th>\n",
       "      <td>1933-04-30</td>\n",
       "      <td>-0.008506</td>\n",
       "      <td>0.3895</td>\n",
       "    </tr>\n",
       "    <tr>\n",
       "      <th>4</th>\n",
       "      <td>1933-05-31</td>\n",
       "      <td>-0.004533</td>\n",
       "      <td>0.2147</td>\n",
       "    </tr>\n",
       "  </tbody>\n",
       "</table>\n",
       "</div>"
      ],
      "text/plain": [
       "        date  vwreturn_RF_clas_exp_AC     Mkt\n",
       "0 1933-01-31                 0.006076  0.0126\n",
       "1 1933-02-28                 0.065369 -0.1527\n",
       "2 1933-03-31                 0.040466  0.0333\n",
       "3 1933-04-30                -0.008506  0.3895\n",
       "4 1933-05-31                -0.004533  0.2147"
      ]
     },
     "execution_count": 16,
     "metadata": {},
     "output_type": "execute_result"
    }
   ],
   "source": [
    "vwreturns.head()"
   ]
  },
  {
   "cell_type": "code",
   "execution_count": 17,
   "id": "95e40fa5",
   "metadata": {
    "execution": {
     "iopub.execute_input": "2024-02-21T23:55:32.497607Z",
     "iopub.status.busy": "2024-02-21T23:55:32.497344Z",
     "iopub.status.idle": "2024-02-21T23:55:32.505520Z",
     "shell.execute_reply": "2024-02-21T23:55:32.504753Z"
    },
    "papermill": {
     "duration": 0.027224,
     "end_time": "2024-02-21T23:55:32.507436",
     "exception": false,
     "start_time": "2024-02-21T23:55:32.480212",
     "status": "completed"
    },
    "tags": []
   },
   "outputs": [
    {
     "data": {
      "text/html": [
       "<div>\n",
       "<style scoped>\n",
       "    .dataframe tbody tr th:only-of-type {\n",
       "        vertical-align: middle;\n",
       "    }\n",
       "\n",
       "    .dataframe tbody tr th {\n",
       "        vertical-align: top;\n",
       "    }\n",
       "\n",
       "    .dataframe thead th {\n",
       "        text-align: right;\n",
       "    }\n",
       "</style>\n",
       "<table border=\"1\" class=\"dataframe\">\n",
       "  <thead>\n",
       "    <tr style=\"text-align: right;\">\n",
       "      <th></th>\n",
       "      <th>date</th>\n",
       "      <th>vwreturn_RF_clas_exp_AC</th>\n",
       "      <th>Mkt</th>\n",
       "    </tr>\n",
       "  </thead>\n",
       "  <tbody>\n",
       "    <tr>\n",
       "      <th>0</th>\n",
       "      <td>1933-01-31</td>\n",
       "      <td>0.006057</td>\n",
       "      <td>0.012521</td>\n",
       "    </tr>\n",
       "    <tr>\n",
       "      <th>1</th>\n",
       "      <td>1933-02-28</td>\n",
       "      <td>0.063321</td>\n",
       "      <td>-0.165700</td>\n",
       "    </tr>\n",
       "    <tr>\n",
       "      <th>2</th>\n",
       "      <td>1933-03-31</td>\n",
       "      <td>0.039669</td>\n",
       "      <td>0.032758</td>\n",
       "    </tr>\n",
       "    <tr>\n",
       "      <th>3</th>\n",
       "      <td>1933-04-30</td>\n",
       "      <td>-0.008542</td>\n",
       "      <td>0.328944</td>\n",
       "    </tr>\n",
       "    <tr>\n",
       "      <th>4</th>\n",
       "      <td>1933-05-31</td>\n",
       "      <td>-0.004543</td>\n",
       "      <td>0.194497</td>\n",
       "    </tr>\n",
       "  </tbody>\n",
       "</table>\n",
       "</div>"
      ],
      "text/plain": [
       "        date  vwreturn_RF_clas_exp_AC       Mkt\n",
       "0 1933-01-31                 0.006057  0.012521\n",
       "1 1933-02-28                 0.063321 -0.165700\n",
       "2 1933-03-31                 0.039669  0.032758\n",
       "3 1933-04-30                -0.008542  0.328944\n",
       "4 1933-05-31                -0.004543  0.194497"
      ]
     },
     "execution_count": 17,
     "metadata": {},
     "output_type": "execute_result"
    }
   ],
   "source": [
    "lvwreturns.head()"
   ]
  },
  {
   "cell_type": "code",
   "execution_count": 18,
   "id": "4c793b5c",
   "metadata": {
    "execution": {
     "iopub.execute_input": "2024-02-21T23:55:32.541139Z",
     "iopub.status.busy": "2024-02-21T23:55:32.540906Z",
     "iopub.status.idle": "2024-02-21T23:55:32.556485Z",
     "shell.execute_reply": "2024-02-21T23:55:32.555696Z"
    },
    "papermill": {
     "duration": 0.034443,
     "end_time": "2024-02-21T23:55:32.558332",
     "exception": false,
     "start_time": "2024-02-21T23:55:32.523889",
     "status": "completed"
    },
    "tags": []
   },
   "outputs": [
    {
     "data": {
      "text/html": [
       "<div>\n",
       "<style scoped>\n",
       "    .dataframe tbody tr th:only-of-type {\n",
       "        vertical-align: middle;\n",
       "    }\n",
       "\n",
       "    .dataframe tbody tr th {\n",
       "        vertical-align: top;\n",
       "    }\n",
       "\n",
       "    .dataframe thead th {\n",
       "        text-align: right;\n",
       "    }\n",
       "</style>\n",
       "<table border=\"1\" class=\"dataframe\">\n",
       "  <thead>\n",
       "    <tr style=\"text-align: right;\">\n",
       "      <th></th>\n",
       "      <th>date</th>\n",
       "      <th>vwreturn_RF_clas_exp_AC</th>\n",
       "      <th>Mkt</th>\n",
       "    </tr>\n",
       "  </thead>\n",
       "  <tbody>\n",
       "    <tr>\n",
       "      <th>count</th>\n",
       "      <td>1074</td>\n",
       "      <td>1074.000000</td>\n",
       "      <td>1074.000000</td>\n",
       "    </tr>\n",
       "    <tr>\n",
       "      <th>mean</th>\n",
       "      <td>1977-11-05 12:12:04.022346368</td>\n",
       "      <td>0.010788</td>\n",
       "      <td>0.008968</td>\n",
       "    </tr>\n",
       "    <tr>\n",
       "      <th>min</th>\n",
       "      <td>1933-01-31 00:00:00</td>\n",
       "      <td>-0.008542</td>\n",
       "      <td>-0.272203</td>\n",
       "    </tr>\n",
       "    <tr>\n",
       "      <th>25%</th>\n",
       "      <td>1955-06-07 12:00:00</td>\n",
       "      <td>0.004038</td>\n",
       "      <td>-0.017248</td>\n",
       "    </tr>\n",
       "    <tr>\n",
       "      <th>50%</th>\n",
       "      <td>1977-11-15 00:00:00</td>\n",
       "      <td>0.008536</td>\n",
       "      <td>0.013064</td>\n",
       "    </tr>\n",
       "    <tr>\n",
       "      <th>75%</th>\n",
       "      <td>2000-03-23 06:00:00</td>\n",
       "      <td>0.013843</td>\n",
       "      <td>0.038162</td>\n",
       "    </tr>\n",
       "    <tr>\n",
       "      <th>max</th>\n",
       "      <td>2022-07-31 00:00:00</td>\n",
       "      <td>0.122190</td>\n",
       "      <td>0.328944</td>\n",
       "    </tr>\n",
       "    <tr>\n",
       "      <th>std</th>\n",
       "      <td>NaN</td>\n",
       "      <td>0.010831</td>\n",
       "      <td>0.048186</td>\n",
       "    </tr>\n",
       "  </tbody>\n",
       "</table>\n",
       "</div>"
      ],
      "text/plain": [
       "                                date  vwreturn_RF_clas_exp_AC          Mkt\n",
       "count                           1074              1074.000000  1074.000000\n",
       "mean   1977-11-05 12:12:04.022346368                 0.010788     0.008968\n",
       "min              1933-01-31 00:00:00                -0.008542    -0.272203\n",
       "25%              1955-06-07 12:00:00                 0.004038    -0.017248\n",
       "50%              1977-11-15 00:00:00                 0.008536     0.013064\n",
       "75%              2000-03-23 06:00:00                 0.013843     0.038162\n",
       "max              2022-07-31 00:00:00                 0.122190     0.328944\n",
       "std                              NaN                 0.010831     0.048186"
      ]
     },
     "execution_count": 18,
     "metadata": {},
     "output_type": "execute_result"
    }
   ],
   "source": [
    "lvwreturns.describe()"
   ]
  },
  {
   "cell_type": "code",
   "execution_count": 19,
   "id": "7398eb53",
   "metadata": {
    "execution": {
     "iopub.execute_input": "2024-02-21T23:55:32.592421Z",
     "iopub.status.busy": "2024-02-21T23:55:32.592160Z",
     "iopub.status.idle": "2024-02-21T23:55:32.596749Z",
     "shell.execute_reply": "2024-02-21T23:55:32.595944Z"
    },
    "papermill": {
     "duration": 0.023662,
     "end_time": "2024-02-21T23:55:32.598617",
     "exception": false,
     "start_time": "2024-02-21T23:55:32.574955",
     "status": "completed"
    },
    "tags": []
   },
   "outputs": [],
   "source": [
    "## plot histograms of the value-weighted returns for each model and the market in lvwreturns\n",
    "#plt.figure(figsize=(12, round(len(prediction_cols)/2) * 5 ))\n",
    "#\n",
    "#for i, pred_col in enumerate(prediction_cols):\n",
    "#    plt.subplot(len(prediction_cols)/2 +1, 2, i+1)\n",
    "#    plt.hist(lvwreturns[f'vwreturn_{pred_col}'], bins=50, color='skyblue', edgecolor='black')\n",
    "#    plt.title(f'Value-Weighted Return - {pred_col}')\n",
    "#    plt.xlabel('Value-Weighted Return')\n",
    "#    plt.ylabel('Frequency')\n",
    "#    # calculate mean, skewness and kurtosis and add their values to the plot as a text, aligning to the top right corner\n",
    "#    mean = lvwreturns[f'vwreturn_{pred_col}'].mean()\n",
    "#    skewness = lvwreturns[f'vwreturn_{pred_col}'].skew()\n",
    "#    kurtosis = lvwreturns[f'vwreturn_{pred_col}'].kurtosis()\n",
    "#\n",
    "#    plt.text(0.95, 0.95, f'Mean: {mean:.4f}\\nSkewness: {skewness:.4f}\\nKurtosis: {kurtosis:.4f}', ha='right', va='top', transform=plt.gca().transAxes)\n",
    "#\n",
    "#\n",
    "#\n",
    "#plt.subplot(round(len(prediction_cols)/2) +1, 2, len(prediction_cols)+1)\n",
    "#plt.title('Value-Weighted Return - Market')\n",
    "#plt.xlabel('Value-Weighted Return')\n",
    "#plt.ylabel('Frequency')\n",
    "#plt.hist(lvwreturns['Mkt'], bins=50, color='skyblue', edgecolor='black')\n",
    "#mean = lvwreturns['Mkt'].mean()\n",
    "#skewness = lvwreturns['Mkt'].skew()\n",
    "#kurtosis = lvwreturns['Mkt'].kurtosis()\n",
    "#plt.text(0.95, 0.95, f'Mean: {mean:.4f}\\nSkewness: {skewness:.4f}\\nKurtosis: {kurtosis:.4f}', ha='right', va='top', transform=plt.gca().transAxes)\n",
    "#\n",
    "#plt.tight_layout()\n",
    "#plt.show()\n",
    "#"
   ]
  },
  {
   "cell_type": "code",
   "execution_count": 20,
   "id": "578c306e",
   "metadata": {
    "execution": {
     "iopub.execute_input": "2024-02-21T23:55:32.633200Z",
     "iopub.status.busy": "2024-02-21T23:55:32.632938Z",
     "iopub.status.idle": "2024-02-21T23:55:32.636467Z",
     "shell.execute_reply": "2024-02-21T23:55:32.635687Z"
    },
    "papermill": {
     "duration": 0.022788,
     "end_time": "2024-02-21T23:55:32.638295",
     "exception": false,
     "start_time": "2024-02-21T23:55:32.615507",
     "status": "completed"
    },
    "tags": []
   },
   "outputs": [],
   "source": [
    "## plot cumulative sums of the value-weighted log returns\n",
    "#plt.figure(figsize=(12, 6))\n",
    "#plt.plot(lvwreturns['date'], lvwreturns.iloc[:, 1:].cumsum())\n",
    "#plt.title('Cumulative Value-Weighted Log Returns')\n",
    "#plt.xlabel('Date')\n",
    "#plt.ylabel('Cumulative Value-Weighted Log Returns')\n",
    "#plt.legend(prediction_cols + ['Market'])\n",
    "#plt.show()\n"
   ]
  },
  {
   "cell_type": "code",
   "execution_count": 21,
   "id": "4919340b",
   "metadata": {
    "execution": {
     "iopub.execute_input": "2024-02-21T23:55:32.672473Z",
     "iopub.status.busy": "2024-02-21T23:55:32.672216Z",
     "iopub.status.idle": "2024-02-21T23:55:33.705967Z",
     "shell.execute_reply": "2024-02-21T23:55:33.704929Z"
    },
    "papermill": {
     "duration": 1.054521,
     "end_time": "2024-02-21T23:55:33.709486",
     "exception": false,
     "start_time": "2024-02-21T23:55:32.654965",
     "status": "completed"
    },
    "tags": []
   },
   "outputs": [],
   "source": [
    "# save the lvwreturns and portfolio DataFrame to a parquet file into 'outputs' folder\n",
    "\n",
    "# for reproducibility and visualization purposes\n",
    "lvwreturns.to_parquet('base_lvwreturns_class_mse21.parquet')\n",
    "portfolio.to_parquet('base_portfolio_class_mse21.parquet')\n",
    "\n",
    "# save vwreturns DataFrame to a .dta file into 'outputs' folder\n",
    "#vwreturns.to_stata('outputs/vwreturns.dta') # for backtasting in R - we need normal returns, not log returns\n"
   ]
  }
 ],
 "metadata": {
  "kaggle": {
   "accelerator": "none",
   "dataSources": [
    {
     "datasetId": 4464890,
     "sourceId": 7657795,
     "sourceType": "datasetVersion"
    }
   ],
   "dockerImageVersionId": 30646,
   "isGpuEnabled": false,
   "isInternetEnabled": true,
   "language": "python",
   "sourceType": "notebook"
  },
  "kernelspec": {
   "display_name": "base",
   "language": "python",
   "name": "python3"
  },
  "language_info": {
   "codemirror_mode": {
    "name": "ipython",
    "version": 3
   },
   "file_extension": ".py",
   "mimetype": "text/x-python",
   "name": "python",
   "nbconvert_exporter": "python",
   "pygments_lexer": "ipython3",
   "version": "3.10.13"
  },
  "papermill": {
   "default_parameters": {},
   "duration": 18289.65204,
   "end_time": "2024-02-21T23:55:34.181654",
   "environment_variables": {},
   "exception": null,
   "input_path": "__notebook__.ipynb",
   "output_path": "__notebook__.ipynb",
   "parameters": {},
   "start_time": "2024-02-21T18:50:44.529614",
   "version": "2.5.0"
  }
 },
 "nbformat": 4,
 "nbformat_minor": 5
}
