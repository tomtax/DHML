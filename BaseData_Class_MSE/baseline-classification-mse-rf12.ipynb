{
 "cells": [
  {
   "cell_type": "markdown",
   "id": "7641a765",
   "metadata": {
    "papermill": {
     "duration": 0.010144,
     "end_time": "2024-02-21T09:37:59.765235",
     "exception": false,
     "start_time": "2024-02-21T09:37:59.755091",
     "status": "completed"
    },
    "tags": []
   },
   "source": [
    "# Framework for predictions and portfolio forming"
   ]
  },
  {
   "cell_type": "code",
   "execution_count": 1,
   "id": "da36ad12",
   "metadata": {
    "execution": {
     "iopub.execute_input": "2024-02-21T09:37:59.785865Z",
     "iopub.status.busy": "2024-02-21T09:37:59.785376Z",
     "iopub.status.idle": "2024-02-21T09:38:02.610475Z",
     "shell.execute_reply": "2024-02-21T09:38:02.609237Z"
    },
    "papermill": {
     "duration": 2.838569,
     "end_time": "2024-02-21T09:38:02.613370",
     "exception": false,
     "start_time": "2024-02-21T09:37:59.774801",
     "status": "completed"
    },
    "tags": []
   },
   "outputs": [],
   "source": [
    "import numpy as np\n",
    "import pandas as pd\n",
    "pd.set_option('display.max_columns', None)\n",
    "import matplotlib.pyplot as plt\n",
    "import seaborn as sns\n",
    "import datetime as dt\n",
    "import time\n",
    "\n",
    "# import the parquet library\n",
    "import pyarrow.parquet as pq\n",
    "\n",
    "# import model libraries\n",
    "from sklearn.preprocessing import StandardScaler, MinMaxScaler\n",
    "from sklearn.linear_model import LogisticRegression, LinearRegression\n",
    "from sklearn.tree import DecisionTreeClassifier, DecisionTreeRegressor\n",
    "from sklearn.ensemble import RandomForestClassifier, RandomForestRegressor\n",
    "from sklearn.metrics import mean_squared_error, accuracy_score"
   ]
  },
  {
   "cell_type": "code",
   "execution_count": 2,
   "id": "7f23cf05",
   "metadata": {
    "execution": {
     "iopub.execute_input": "2024-02-21T09:38:02.633648Z",
     "iopub.status.busy": "2024-02-21T09:38:02.632880Z",
     "iopub.status.idle": "2024-02-21T09:38:03.817968Z",
     "shell.execute_reply": "2024-02-21T09:38:03.816809Z"
    },
    "papermill": {
     "duration": 1.198105,
     "end_time": "2024-02-21T09:38:03.820571",
     "exception": false,
     "start_time": "2024-02-21T09:38:02.622466",
     "status": "completed"
    },
    "tags": []
   },
   "outputs": [
    {
     "data": {
      "text/html": [
       "<div>\n",
       "<style scoped>\n",
       "    .dataframe tbody tr th:only-of-type {\n",
       "        vertical-align: middle;\n",
       "    }\n",
       "\n",
       "    .dataframe tbody tr th {\n",
       "        vertical-align: top;\n",
       "    }\n",
       "\n",
       "    .dataframe thead th {\n",
       "        text-align: right;\n",
       "    }\n",
       "</style>\n",
       "<table border=\"1\" class=\"dataframe\">\n",
       "  <thead>\n",
       "    <tr style=\"text-align: right;\">\n",
       "      <th></th>\n",
       "      <th>PERMNO</th>\n",
       "      <th>date</th>\n",
       "      <th>RET</th>\n",
       "      <th>ME</th>\n",
       "      <th>bull_D</th>\n",
       "      <th>bear_D</th>\n",
       "      <th>bull_W</th>\n",
       "      <th>bear_W</th>\n",
       "      <th>bull_M</th>\n",
       "      <th>bear_M</th>\n",
       "      <th>LMKT</th>\n",
       "      <th>IVOL</th>\n",
       "      <th>y</th>\n",
       "    </tr>\n",
       "  </thead>\n",
       "  <tbody>\n",
       "    <tr>\n",
       "      <th>0</th>\n",
       "      <td>10000</td>\n",
       "      <td>1986-02-28</td>\n",
       "      <td>-0.257143</td>\n",
       "      <td>11960.00000</td>\n",
       "      <td>0.0</td>\n",
       "      <td>0.0</td>\n",
       "      <td>0.0</td>\n",
       "      <td>1.0</td>\n",
       "      <td>0</td>\n",
       "      <td>0</td>\n",
       "      <td>0.0121</td>\n",
       "      <td>0.004058</td>\n",
       "      <td>0</td>\n",
       "    </tr>\n",
       "    <tr>\n",
       "      <th>1</th>\n",
       "      <td>10000</td>\n",
       "      <td>1986-03-31</td>\n",
       "      <td>0.365385</td>\n",
       "      <td>16330.00000</td>\n",
       "      <td>0.0</td>\n",
       "      <td>0.0</td>\n",
       "      <td>0.0</td>\n",
       "      <td>0.0</td>\n",
       "      <td>0</td>\n",
       "      <td>0</td>\n",
       "      <td>0.0766</td>\n",
       "      <td>0.000973</td>\n",
       "      <td>1</td>\n",
       "    </tr>\n",
       "    <tr>\n",
       "      <th>2</th>\n",
       "      <td>10000</td>\n",
       "      <td>1986-04-30</td>\n",
       "      <td>-0.098592</td>\n",
       "      <td>15172.00000</td>\n",
       "      <td>0.0</td>\n",
       "      <td>1.0</td>\n",
       "      <td>0.0</td>\n",
       "      <td>0.0</td>\n",
       "      <td>0</td>\n",
       "      <td>0</td>\n",
       "      <td>0.0548</td>\n",
       "      <td>0.001993</td>\n",
       "      <td>0</td>\n",
       "    </tr>\n",
       "    <tr>\n",
       "      <th>3</th>\n",
       "      <td>10000</td>\n",
       "      <td>1986-05-31</td>\n",
       "      <td>-0.222656</td>\n",
       "      <td>11793.87834</td>\n",
       "      <td>0.0</td>\n",
       "      <td>0.0</td>\n",
       "      <td>0.0</td>\n",
       "      <td>0.0</td>\n",
       "      <td>0</td>\n",
       "      <td>1</td>\n",
       "      <td>-0.0079</td>\n",
       "      <td>0.000163</td>\n",
       "      <td>0</td>\n",
       "    </tr>\n",
       "    <tr>\n",
       "      <th>4</th>\n",
       "      <td>10000</td>\n",
       "      <td>1986-06-30</td>\n",
       "      <td>-0.005025</td>\n",
       "      <td>11734.59375</td>\n",
       "      <td>0.0</td>\n",
       "      <td>0.0</td>\n",
       "      <td>0.0</td>\n",
       "      <td>0.0</td>\n",
       "      <td>0</td>\n",
       "      <td>2</td>\n",
       "      <td>0.0511</td>\n",
       "      <td>0.001569</td>\n",
       "      <td>0</td>\n",
       "    </tr>\n",
       "  </tbody>\n",
       "</table>\n",
       "</div>"
      ],
      "text/plain": [
       "   PERMNO       date       RET           ME  bull_D  bear_D  bull_W  bear_W  \\\n",
       "0   10000 1986-02-28 -0.257143  11960.00000     0.0     0.0     0.0     1.0   \n",
       "1   10000 1986-03-31  0.365385  16330.00000     0.0     0.0     0.0     0.0   \n",
       "2   10000 1986-04-30 -0.098592  15172.00000     0.0     1.0     0.0     0.0   \n",
       "3   10000 1986-05-31 -0.222656  11793.87834     0.0     0.0     0.0     0.0   \n",
       "4   10000 1986-06-30 -0.005025  11734.59375     0.0     0.0     0.0     0.0   \n",
       "\n",
       "   bull_M  bear_M    LMKT      IVOL  y  \n",
       "0       0       0  0.0121  0.004058  0  \n",
       "1       0       0  0.0766  0.000973  1  \n",
       "2       0       0  0.0548  0.001993  0  \n",
       "3       0       1 -0.0079  0.000163  0  \n",
       "4       0       2  0.0511  0.001569  0  "
      ]
     },
     "execution_count": 2,
     "metadata": {},
     "output_type": "execute_result"
    }
   ],
   "source": [
    "# load 'basemodel.parquet'\n",
    "#df = pd.read_parquet('basemodel.parquet')\n",
    "df = pd.read_parquet('/kaggle/input/sign-prediction-datasets/basemodel.parquet')\n",
    "prediction_cols = []\n",
    "df.head()"
   ]
  },
  {
   "cell_type": "code",
   "execution_count": 3,
   "id": "4368e280",
   "metadata": {
    "execution": {
     "iopub.execute_input": "2024-02-21T09:38:03.842248Z",
     "iopub.status.busy": "2024-02-21T09:38:03.840843Z",
     "iopub.status.idle": "2024-02-21T09:38:03.846592Z",
     "shell.execute_reply": "2024-02-21T09:38:03.845523Z"
    },
    "papermill": {
     "duration": 0.019379,
     "end_time": "2024-02-21T09:38:03.849136",
     "exception": false,
     "start_time": "2024-02-21T09:38:03.829757",
     "status": "completed"
    },
    "tags": []
   },
   "outputs": [],
   "source": [
    "# select the columns to be used for prediction\n",
    "X_col = ['bull_D', 'bear_D', 'bull_W', 'bear_W', 'bull_M', 'bear_M', 'LMKT', 'IVOL']"
   ]
  },
  {
   "cell_type": "code",
   "execution_count": 4,
   "id": "7c318c87",
   "metadata": {
    "execution": {
     "iopub.execute_input": "2024-02-21T09:38:03.869707Z",
     "iopub.status.busy": "2024-02-21T09:38:03.869280Z",
     "iopub.status.idle": "2024-02-21T09:38:04.818708Z",
     "shell.execute_reply": "2024-02-21T09:38:04.817495Z"
    },
    "papermill": {
     "duration": 0.963148,
     "end_time": "2024-02-21T09:38:04.821512",
     "exception": false,
     "start_time": "2024-02-21T09:38:03.858364",
     "status": "completed"
    },
    "tags": []
   },
   "outputs": [],
   "source": [
    "# Convert 'date' to datetime format (if not already done) and sort the DataFrame\n",
    "df['date'] = pd.to_datetime(df['date'])\n",
    "df.sort_values(by='date', inplace=True)\n",
    "df.reset_index(drop=True, inplace=True)\n",
    "\n",
    "# Create a 'year' column based on the 'date' column\n",
    "df['year'] = df['date'].dt.year"
   ]
  },
  {
   "cell_type": "markdown",
   "id": "024079fe",
   "metadata": {
    "papermill": {
     "duration": 0.010384,
     "end_time": "2024-02-21T09:38:04.844847",
     "exception": false,
     "start_time": "2024-02-21T09:38:04.834463",
     "status": "completed"
    },
    "tags": []
   },
   "source": [
    "# Paper Replication - OLS and Logit, Expanding Window - No Hyperparameters\n",
    "- They start with out of sample forecasting in 1932\n",
    "- models will be named model_default"
   ]
  },
  {
   "cell_type": "markdown",
   "id": "3c288d7a",
   "metadata": {
    "papermill": {
     "duration": 0.008877,
     "end_time": "2024-02-21T09:38:04.862900",
     "exception": false,
     "start_time": "2024-02-21T09:38:04.854023",
     "status": "completed"
    },
    "tags": []
   },
   "source": [
    "# My Experiments"
   ]
  },
  {
   "cell_type": "markdown",
   "id": "c0e67259",
   "metadata": {
    "papermill": {
     "duration": 0.00973,
     "end_time": "2024-02-21T09:38:04.881707",
     "exception": false,
     "start_time": "2024-02-21T09:38:04.871977",
     "status": "completed"
    },
    "tags": []
   },
   "source": [
    "## Machine Learning - Hyperparameter Tuning included in the process\n",
    "- models to be named 'model_clas/reg_exp/roll'"
   ]
  },
  {
   "cell_type": "markdown",
   "id": "94acb583",
   "metadata": {
    "papermill": {
     "duration": 0.008803,
     "end_time": "2024-02-21T09:38:04.899521",
     "exception": false,
     "start_time": "2024-02-21T09:38:04.890718",
     "status": "completed"
    },
    "tags": []
   },
   "source": [
    "### Expanding Window Estimation"
   ]
  },
  {
   "cell_type": "markdown",
   "id": "868105cd",
   "metadata": {
    "papermill": {
     "duration": 0.008714,
     "end_time": "2024-02-21T09:38:04.917229",
     "exception": false,
     "start_time": "2024-02-21T09:38:04.908515",
     "status": "completed"
    },
    "tags": []
   },
   "source": [
    "##### MSE as evaluation metric"
   ]
  },
  {
   "cell_type": "code",
   "execution_count": null,
   "id": "0d1c6d8c",
   "metadata": {
    "papermill": {
     "duration": 0.012009,
     "end_time": "2024-02-21T09:38:04.938240",
     "exception": false,
     "start_time": "2024-02-21T09:38:04.926231",
     "status": "completed"
    },
    "tags": []
   },
   "outputs": [],
   "source": []
  },
  {
   "cell_type": "markdown",
   "id": "624cd0f4",
   "metadata": {
    "papermill": {
     "duration": 0.008784,
     "end_time": "2024-02-21T09:38:04.956104",
     "exception": false,
     "start_time": "2024-02-21T09:38:04.947320",
     "status": "completed"
    },
    "tags": []
   },
   "source": [
    "### First expanding, then rolling\n",
    "start predicting for 1932, expand the window until you reach X years, then roll it"
   ]
  },
  {
   "cell_type": "markdown",
   "id": "81c51535",
   "metadata": {
    "papermill": {
     "duration": 0.008895,
     "end_time": "2024-02-21T09:38:04.974007",
     "exception": false,
     "start_time": "2024-02-21T09:38:04.965112",
     "status": "completed"
    },
    "tags": []
   },
   "source": [
    "#### MSE Evaluation"
   ]
  },
  {
   "cell_type": "markdown",
   "id": "6c7dee54",
   "metadata": {
    "papermill": {
     "duration": 0.008798,
     "end_time": "2024-02-21T09:38:04.991789",
     "exception": false,
     "start_time": "2024-02-21T09:38:04.982991",
     "status": "completed"
    },
    "tags": []
   },
   "source": [
    "##### 5 years"
   ]
  },
  {
   "cell_type": "code",
   "execution_count": 5,
   "id": "259f8282",
   "metadata": {
    "execution": {
     "iopub.execute_input": "2024-02-21T09:38:05.011810Z",
     "iopub.status.busy": "2024-02-21T09:38:05.011399Z",
     "iopub.status.idle": "2024-02-21T09:38:05.016090Z",
     "shell.execute_reply": "2024-02-21T09:38:05.014979Z"
    },
    "papermill": {
     "duration": 0.017543,
     "end_time": "2024-02-21T09:38:05.018322",
     "exception": false,
     "start_time": "2024-02-21T09:38:05.000779",
     "status": "completed"
    },
    "tags": []
   },
   "outputs": [],
   "source": [
    "rolling_window = 5"
   ]
  },
  {
   "cell_type": "code",
   "execution_count": 6,
   "id": "4172e6d9",
   "metadata": {
    "execution": {
     "iopub.execute_input": "2024-02-21T09:38:05.038886Z",
     "iopub.status.busy": "2024-02-21T09:38:05.038474Z",
     "iopub.status.idle": "2024-02-21T10:14:53.890089Z",
     "shell.execute_reply": "2024-02-21T10:14:53.888804Z"
    },
    "papermill": {
     "duration": 2208.865622,
     "end_time": "2024-02-21T10:14:53.893052",
     "exception": false,
     "start_time": "2024-02-21T09:38:05.027430",
     "status": "completed"
    },
    "tags": []
   },
   "outputs": [
    {
     "name": "stdout",
     "output_type": "stream",
     "text": [
      "Year 1933 - Best n_estimators: 100, Best max_depth: 15, Best MSE: 0.09, Time: 5.57 seconds\n",
      "Year 1934 - Best n_estimators: 10, Best max_depth: 15, Best MSE: 0.09, Time: 4.71 seconds\n",
      "Year 1935 - Best n_estimators: 100, Best max_depth: 15, Best MSE: 0.11, Time: 5.74 seconds\n",
      "Year 1936 - Best n_estimators: 100, Best max_depth: 15, Best MSE: 0.12, Time: 5.90 seconds\n",
      "Year 1937 - Best n_estimators: 100, Best max_depth: 15, Best MSE: 0.1, Time: 5.62 seconds\n",
      "Year 1938 - Best n_estimators: 100, Best max_depth: 15, Best MSE: 0.08, Time: 5.67 seconds\n",
      "Year 1939 - Best n_estimators: 10, Best max_depth: 15, Best MSE: 0.09, Time: 4.89 seconds\n",
      "Year 1940 - Best n_estimators: 50, Best max_depth: 15, Best MSE: 0.1, Time: 5.31 seconds\n",
      "Year 1941 - Best n_estimators: 100, Best max_depth: 15, Best MSE: 0.12, Time: 6.35 seconds\n",
      "Year 1942 - Best n_estimators: 50, Best max_depth: 15, Best MSE: 0.13, Time: 5.47 seconds\n",
      "Year 1943 - Best n_estimators: 10, Best max_depth: 15, Best MSE: 0.13, Time: 5.03 seconds\n",
      "Year 1944 - Best n_estimators: 100, Best max_depth: 15, Best MSE: 0.1, Time: 6.13 seconds\n",
      "Year 1945 - Best n_estimators: 100, Best max_depth: 15, Best MSE: 0.11, Time: 6.09 seconds\n",
      "Year 1946 - Best n_estimators: 50, Best max_depth: 15, Best MSE: 0.09, Time: 5.53 seconds\n",
      "Year 1947 - Best n_estimators: 100, Best max_depth: 15, Best MSE: 0.09, Time: 6.61 seconds\n",
      "Year 1948 - Best n_estimators: 10, Best max_depth: 15, Best MSE: 0.12, Time: 5.17 seconds\n",
      "Year 1949 - Best n_estimators: 100, Best max_depth: 15, Best MSE: 0.1, Time: 6.21 seconds\n",
      "Year 1950 - Best n_estimators: 50, Best max_depth: 15, Best MSE: 0.11, Time: 5.97 seconds\n",
      "Year 1951 - Best n_estimators: 50, Best max_depth: 15, Best MSE: 0.1, Time: 6.06 seconds\n",
      "Year 1952 - Best n_estimators: 50, Best max_depth: 15, Best MSE: 0.1, Time: 6.74 seconds\n",
      "Year 1953 - Best n_estimators: 100, Best max_depth: 15, Best MSE: 0.1, Time: 7.10 seconds\n",
      "Year 1954 - Best n_estimators: 50, Best max_depth: 15, Best MSE: 0.12, Time: 6.48 seconds\n",
      "Year 1955 - Best n_estimators: 50, Best max_depth: 15, Best MSE: 0.1, Time: 6.60 seconds\n",
      "Year 1956 - Best n_estimators: 100, Best max_depth: 15, Best MSE: 0.11, Time: 7.46 seconds\n",
      "Year 1957 - Best n_estimators: 100, Best max_depth: 15, Best MSE: 0.1, Time: 7.87 seconds\n",
      "Year 1958 - Best n_estimators: 100, Best max_depth: 15, Best MSE: 0.1, Time: 7.53 seconds\n",
      "Year 1959 - Best n_estimators: 10, Best max_depth: 15, Best MSE: 0.1, Time: 6.30 seconds\n",
      "Year 1960 - Best n_estimators: 50, Best max_depth: 15, Best MSE: 0.11, Time: 6.86 seconds\n",
      "Year 1961 - Best n_estimators: 50, Best max_depth: 15, Best MSE: 0.1, Time: 7.22 seconds\n",
      "Year 1962 - Best n_estimators: 50, Best max_depth: 15, Best MSE: 0.1, Time: 6.85 seconds\n",
      "Year 1963 - Best n_estimators: 50, Best max_depth: 15, Best MSE: 0.1, Time: 6.98 seconds\n",
      "Year 1964 - Best n_estimators: 100, Best max_depth: 15, Best MSE: 0.12, Time: 8.22 seconds\n",
      "Year 1965 - Best n_estimators: 50, Best max_depth: 15, Best MSE: 0.14, Time: 9.41 seconds\n",
      "Year 1966 - Best n_estimators: 100, Best max_depth: 15, Best MSE: 0.11, Time: 11.59 seconds\n",
      "Year 1967 - Best n_estimators: 50, Best max_depth: 15, Best MSE: 0.11, Time: 11.99 seconds\n",
      "Year 1968 - Best n_estimators: 100, Best max_depth: 15, Best MSE: 0.09, Time: 14.76 seconds\n",
      "Year 1969 - Best n_estimators: 50, Best max_depth: 15, Best MSE: 0.09, Time: 12.98 seconds\n",
      "Year 1970 - Best n_estimators: 100, Best max_depth: 15, Best MSE: 0.08, Time: 15.01 seconds\n",
      "Year 1971 - Best n_estimators: 100, Best max_depth: 15, Best MSE: 0.1, Time: 14.44 seconds\n",
      "Year 1972 - Best n_estimators: 10, Best max_depth: 15, Best MSE: 0.1, Time: 12.15 seconds\n",
      "Year 1973 - Best n_estimators: 50, Best max_depth: 15, Best MSE: 0.11, Time: 14.28 seconds\n",
      "Year 1974 - Best n_estimators: 100, Best max_depth: 15, Best MSE: 0.1, Time: 16.45 seconds\n",
      "Year 1975 - Best n_estimators: 100, Best max_depth: 15, Best MSE: 0.12, Time: 22.41 seconds\n",
      "Year 1976 - Best n_estimators: 50, Best max_depth: 15, Best MSE: 0.12, Time: 25.12 seconds\n",
      "Year 1977 - Best n_estimators: 100, Best max_depth: 15, Best MSE: 0.11, Time: 33.23 seconds\n",
      "Year 1978 - Best n_estimators: 50, Best max_depth: 15, Best MSE: 0.12, Time: 33.94 seconds\n",
      "Year 1979 - Best n_estimators: 100, Best max_depth: 15, Best MSE: 0.11, Time: 36.89 seconds\n",
      "Year 1980 - Best n_estimators: 50, Best max_depth: 15, Best MSE: 0.12, Time: 31.90 seconds\n",
      "Year 1981 - Best n_estimators: 100, Best max_depth: 15, Best MSE: 0.1, Time: 35.21 seconds\n",
      "Year 1982 - Best n_estimators: 50, Best max_depth: 15, Best MSE: 0.1, Time: 31.15 seconds\n",
      "Year 1983 - Best n_estimators: 50, Best max_depth: 15, Best MSE: 0.11, Time: 31.31 seconds\n",
      "Year 1984 - Best n_estimators: 50, Best max_depth: 15, Best MSE: 0.11, Time: 32.68 seconds\n",
      "Year 1985 - Best n_estimators: 100, Best max_depth: 15, Best MSE: 0.12, Time: 38.79 seconds\n",
      "Year 1986 - Best n_estimators: 10, Best max_depth: 15, Best MSE: 0.11, Time: 33.67 seconds\n",
      "Year 1987 - Best n_estimators: 100, Best max_depth: 15, Best MSE: 0.11, Time: 43.33 seconds\n",
      "Year 1988 - Best n_estimators: 10, Best max_depth: 15, Best MSE: 0.12, Time: 38.06 seconds\n",
      "Year 1989 - Best n_estimators: 10, Best max_depth: 15, Best MSE: 0.12, Time: 40.66 seconds\n",
      "Year 1990 - Best n_estimators: 100, Best max_depth: 15, Best MSE: 0.11, Time: 52.03 seconds\n",
      "Year 1991 - Best n_estimators: 100, Best max_depth: 15, Best MSE: 0.11, Time: 51.88 seconds\n",
      "Year 1992 - Best n_estimators: 100, Best max_depth: 15, Best MSE: 0.11, Time: 51.54 seconds\n",
      "Year 1993 - Best n_estimators: 100, Best max_depth: 15, Best MSE: 0.12, Time: 51.24 seconds\n",
      "Year 1994 - Best n_estimators: 100, Best max_depth: 15, Best MSE: 0.12, Time: 49.79 seconds\n",
      "Year 1995 - Best n_estimators: 50, Best max_depth: 15, Best MSE: 0.12, Time: 46.64 seconds\n",
      "Year 1996 - Best n_estimators: 50, Best max_depth: 15, Best MSE: 0.12, Time: 48.07 seconds\n",
      "Year 1997 - Best n_estimators: 50, Best max_depth: 15, Best MSE: 0.12, Time: 51.16 seconds\n",
      "Year 1998 - Best n_estimators: 100, Best max_depth: 15, Best MSE: 0.1, Time: 61.66 seconds\n",
      "Year 1999 - Best n_estimators: 50, Best max_depth: 15, Best MSE: 0.1, Time: 58.09 seconds\n",
      "Year 2000 - Best n_estimators: 100, Best max_depth: 15, Best MSE: 0.11, Time: 66.61 seconds\n",
      "Year 2001 - Best n_estimators: 50, Best max_depth: 15, Best MSE: 0.1, Time: 57.75 seconds\n",
      "Year 2002 - Best n_estimators: 50, Best max_depth: 15, Best MSE: 0.1, Time: 55.66 seconds\n",
      "Year 2003 - Best n_estimators: 100, Best max_depth: 15, Best MSE: 0.1, Time: 58.82 seconds\n",
      "Year 2004 - Best n_estimators: 100, Best max_depth: 15, Best MSE: 0.1, Time: 54.81 seconds\n",
      "Year 2005 - Best n_estimators: 100, Best max_depth: 15, Best MSE: 0.1, Time: 48.41 seconds\n",
      "Year 2006 - Best n_estimators: 100, Best max_depth: 15, Best MSE: 0.1, Time: 42.00 seconds\n",
      "Year 2007 - Best n_estimators: 100, Best max_depth: 15, Best MSE: 0.1, Time: 39.12 seconds\n",
      "Year 2008 - Best n_estimators: 50, Best max_depth: 15, Best MSE: 0.1, Time: 33.55 seconds\n",
      "Year 2009 - Best n_estimators: 100, Best max_depth: 15, Best MSE: 0.09, Time: 37.01 seconds\n",
      "Year 2010 - Best n_estimators: 50, Best max_depth: 15, Best MSE: 0.1, Time: 32.28 seconds\n",
      "Year 2011 - Best n_estimators: 100, Best max_depth: 15, Best MSE: 0.08, Time: 33.66 seconds\n",
      "Year 2012 - Best n_estimators: 50, Best max_depth: 15, Best MSE: 0.1, Time: 28.71 seconds\n",
      "Year 2013 - Best n_estimators: 50, Best max_depth: 15, Best MSE: 0.1, Time: 26.43 seconds\n",
      "Year 2014 - Best n_estimators: 100, Best max_depth: 15, Best MSE: 0.09, Time: 29.13 seconds\n",
      "Year 2015 - Best n_estimators: 100, Best max_depth: 15, Best MSE: 0.1, Time: 27.20 seconds\n",
      "Year 2016 - Best n_estimators: 100, Best max_depth: 15, Best MSE: 0.11, Time: 27.26 seconds\n",
      "Year 2017 - Best n_estimators: 50, Best max_depth: 15, Best MSE: 0.11, Time: 24.65 seconds\n",
      "Year 2018 - Best n_estimators: 50, Best max_depth: 15, Best MSE: 0.1, Time: 24.96 seconds\n",
      "Year 2019 - Best n_estimators: 100, Best max_depth: 15, Best MSE: 0.1, Time: 26.57 seconds\n",
      "Year 2020 - Best n_estimators: 10, Best max_depth: 15, Best MSE: 0.09, Time: 22.04 seconds\n",
      "Year 2021 - Best n_estimators: 50, Best max_depth: 15, Best MSE: 0.09, Time: 24.27 seconds\n",
      "Year 2022 - Best n_estimators: 50, Best max_depth: 15, Best MSE: 0.1, Time: 24.21 seconds\n",
      "Total time: 2208.84 seconds\n"
     ]
    }
   ],
   "source": [
    "############################################\n",
    "# RF CLASSIFICATION MODEL - ACCURACY\n",
    "############################################\n",
    "\n",
    "model_name = 'RF_class_roll5_MSE'\n",
    "start_time2 = time.time()\n",
    "\n",
    "\n",
    "# Predefined set of max_depth values for hyperparameter tuning\n",
    "# Define the hyperparameters to test\n",
    "HP1 = [10, 50, 100]  # n_estimators\n",
    "HP2 = [5, 10, 15]  # max_depth (None means no limit)\n",
    "\n",
    "# Update the column name for storing Decision Tree regression predictions\n",
    "df[model_name] = np.nan\n",
    "\n",
    "# Ensure the new column is in the prediction_cols list\n",
    "if model_name not in prediction_cols:\n",
    "    prediction_cols.append(model_name)\n",
    "\n",
    "start_modeling_year = df['year'].min() + 7\n",
    "\n",
    "for year in range(start_modeling_year, df['year'].max() + 1):\n",
    "    start_time = time.time()  # Timing each iteration\n",
    "    \n",
    "    train_start_year = max(year - rolling_window, df['year'].min())\n",
    "    train_data = df[(df['year'] >= train_start_year) & (df['year'] < year)]\n",
    "    \n",
    "    tuning_data = train_data[train_data['year'] == year - 1]\n",
    "    actual_train_data = train_data[train_data['year'] < year - 1]\n",
    "    \n",
    "    X_train = actual_train_data[X_col]\n",
    "    y_train = actual_train_data['y']\n",
    "    \n",
    "    X_tune = tuning_data[X_col]\n",
    "    y_tune = tuning_data['y']\n",
    "    \n",
    "    best_HP1 = None\n",
    "    best_HP2 = None\n",
    "    best_mse = float('inf')\n",
    "\n",
    "    # Hyperparameter tuning\n",
    "    for hp1 in HP1:\n",
    "        for hp2 in HP2:\n",
    "            model = RandomForestClassifier(n_estimators=hp1, max_depth=hp2, random_state=42, n_jobs=-1)\n",
    "            model.fit(X_train, y_train)\n",
    "            probabilities = model.predict_proba(X_tune)[:, 1]\n",
    "            mse = mean_squared_error(y_tune, probabilities)  # Calculate MSE\n",
    "        \n",
    "        if mse < best_mse:  # Lower MSE is better\n",
    "            best_mse = mse\n",
    "            best_HP1 = hp1\n",
    "            best_HP2 = hp2\n",
    "    \n",
    "    # Retrain on the entire training window with the best max_depth value\n",
    "    model = model = RandomForestClassifier(n_estimators=best_HP1, max_depth=best_HP2, random_state=42, n_jobs=-1)\n",
    "    model.fit(X_train, y_train)\n",
    "    \n",
    "    # Predict for the next year\n",
    "    next_year_data = df[df['year'] == year]\n",
    "    X_next_year = next_year_data[X_col]\n",
    "    \n",
    "    if not X_next_year.empty:\n",
    "        next_year_predictions = model.predict_proba(X_next_year)[:, 1]\n",
    "        df.loc[df['year'] == year, model_name] = next_year_predictions\n",
    "    \n",
    "    end_time = time.time()\n",
    "    iteration_time = end_time - start_time\n",
    "    \n",
    "    print(f\"Year {year} - Best n_estimators: {best_HP1}, Best max_depth: {best_HP2 if best_HP2 is not None else 'None'}, Best MSE: {round(best_mse, 2)}, Time: {iteration_time:.2f} seconds\")\n",
    "\n",
    "end_time2 = time.time()\n",
    "print(f\"Total time: {end_time2 - start_time2:.2f} seconds\")"
   ]
  },
  {
   "cell_type": "markdown",
   "id": "42a7f521",
   "metadata": {
    "papermill": {
     "duration": 0.017126,
     "end_time": "2024-02-21T10:14:53.927759",
     "exception": false,
     "start_time": "2024-02-21T10:14:53.910633",
     "status": "completed"
    },
    "tags": []
   },
   "source": [
    "## Forming Portfolios, Value-weighted portfolio returns"
   ]
  },
  {
   "cell_type": "code",
   "execution_count": 7,
   "id": "40c54a49",
   "metadata": {
    "execution": {
     "iopub.execute_input": "2024-02-21T10:14:53.964956Z",
     "iopub.status.busy": "2024-02-21T10:14:53.964553Z",
     "iopub.status.idle": "2024-02-21T10:14:53.986656Z",
     "shell.execute_reply": "2024-02-21T10:14:53.985474Z"
    },
    "papermill": {
     "duration": 0.043535,
     "end_time": "2024-02-21T10:14:53.989134",
     "exception": false,
     "start_time": "2024-02-21T10:14:53.945599",
     "status": "completed"
    },
    "tags": []
   },
   "outputs": [
    {
     "data": {
      "text/html": [
       "<div>\n",
       "<style scoped>\n",
       "    .dataframe tbody tr th:only-of-type {\n",
       "        vertical-align: middle;\n",
       "    }\n",
       "\n",
       "    .dataframe tbody tr th {\n",
       "        vertical-align: top;\n",
       "    }\n",
       "\n",
       "    .dataframe thead th {\n",
       "        text-align: right;\n",
       "    }\n",
       "</style>\n",
       "<table border=\"1\" class=\"dataframe\">\n",
       "  <thead>\n",
       "    <tr style=\"text-align: right;\">\n",
       "      <th></th>\n",
       "      <th>PERMNO</th>\n",
       "      <th>date</th>\n",
       "      <th>RET</th>\n",
       "      <th>ME</th>\n",
       "      <th>bull_D</th>\n",
       "      <th>bear_D</th>\n",
       "      <th>bull_W</th>\n",
       "      <th>bear_W</th>\n",
       "      <th>bull_M</th>\n",
       "      <th>bear_M</th>\n",
       "      <th>LMKT</th>\n",
       "      <th>IVOL</th>\n",
       "      <th>y</th>\n",
       "      <th>year</th>\n",
       "      <th>RF_class_roll5_MSE</th>\n",
       "    </tr>\n",
       "  </thead>\n",
       "  <tbody>\n",
       "    <tr>\n",
       "      <th>0</th>\n",
       "      <td>11148</td>\n",
       "      <td>1926-08-31</td>\n",
       "      <td>0.109924</td>\n",
       "      <td>76287.5</td>\n",
       "      <td>1.0</td>\n",
       "      <td>0.0</td>\n",
       "      <td>4.0</td>\n",
       "      <td>0.0</td>\n",
       "      <td>0</td>\n",
       "      <td>0</td>\n",
       "      <td>0.0318</td>\n",
       "      <td>0.000040</td>\n",
       "      <td>1</td>\n",
       "      <td>1926</td>\n",
       "      <td>NaN</td>\n",
       "    </tr>\n",
       "    <tr>\n",
       "      <th>1</th>\n",
       "      <td>10874</td>\n",
       "      <td>1926-08-31</td>\n",
       "      <td>0.168142</td>\n",
       "      <td>16500.0</td>\n",
       "      <td>0.0</td>\n",
       "      <td>0.0</td>\n",
       "      <td>2.0</td>\n",
       "      <td>0.0</td>\n",
       "      <td>2</td>\n",
       "      <td>0</td>\n",
       "      <td>0.0318</td>\n",
       "      <td>0.000537</td>\n",
       "      <td>1</td>\n",
       "      <td>1926</td>\n",
       "      <td>NaN</td>\n",
       "    </tr>\n",
       "    <tr>\n",
       "      <th>2</th>\n",
       "      <td>12968</td>\n",
       "      <td>1926-08-31</td>\n",
       "      <td>-0.006464</td>\n",
       "      <td>55683.0</td>\n",
       "      <td>0.0</td>\n",
       "      <td>0.0</td>\n",
       "      <td>0.0</td>\n",
       "      <td>0.0</td>\n",
       "      <td>0</td>\n",
       "      <td>0</td>\n",
       "      <td>0.0318</td>\n",
       "      <td>0.000007</td>\n",
       "      <td>0</td>\n",
       "      <td>1926</td>\n",
       "      <td>NaN</td>\n",
       "    </tr>\n",
       "    <tr>\n",
       "      <th>3</th>\n",
       "      <td>12976</td>\n",
       "      <td>1926-08-31</td>\n",
       "      <td>0.156041</td>\n",
       "      <td>41650.0</td>\n",
       "      <td>1.0</td>\n",
       "      <td>0.0</td>\n",
       "      <td>0.0</td>\n",
       "      <td>0.0</td>\n",
       "      <td>0</td>\n",
       "      <td>0</td>\n",
       "      <td>0.0318</td>\n",
       "      <td>0.000070</td>\n",
       "      <td>1</td>\n",
       "      <td>1926</td>\n",
       "      <td>NaN</td>\n",
       "    </tr>\n",
       "    <tr>\n",
       "      <th>4</th>\n",
       "      <td>12984</td>\n",
       "      <td>1926-08-31</td>\n",
       "      <td>0.046875</td>\n",
       "      <td>11323.0</td>\n",
       "      <td>1.0</td>\n",
       "      <td>0.0</td>\n",
       "      <td>0.0</td>\n",
       "      <td>0.0</td>\n",
       "      <td>0</td>\n",
       "      <td>0</td>\n",
       "      <td>0.0318</td>\n",
       "      <td>0.000874</td>\n",
       "      <td>1</td>\n",
       "      <td>1926</td>\n",
       "      <td>NaN</td>\n",
       "    </tr>\n",
       "  </tbody>\n",
       "</table>\n",
       "</div>"
      ],
      "text/plain": [
       "   PERMNO       date       RET       ME  bull_D  bear_D  bull_W  bear_W  \\\n",
       "0   11148 1926-08-31  0.109924  76287.5     1.0     0.0     4.0     0.0   \n",
       "1   10874 1926-08-31  0.168142  16500.0     0.0     0.0     2.0     0.0   \n",
       "2   12968 1926-08-31 -0.006464  55683.0     0.0     0.0     0.0     0.0   \n",
       "3   12976 1926-08-31  0.156041  41650.0     1.0     0.0     0.0     0.0   \n",
       "4   12984 1926-08-31  0.046875  11323.0     1.0     0.0     0.0     0.0   \n",
       "\n",
       "   bull_M  bear_M    LMKT      IVOL  y  year  RF_class_roll5_MSE  \n",
       "0       0       0  0.0318  0.000040  1  1926                 NaN  \n",
       "1       2       0  0.0318  0.000537  1  1926                 NaN  \n",
       "2       0       0  0.0318  0.000007  0  1926                 NaN  \n",
       "3       0       0  0.0318  0.000070  1  1926                 NaN  \n",
       "4       0       0  0.0318  0.000874  1  1926                 NaN  "
      ]
     },
     "execution_count": 7,
     "metadata": {},
     "output_type": "execute_result"
    }
   ],
   "source": [
    "df.head()"
   ]
  },
  {
   "cell_type": "code",
   "execution_count": 8,
   "id": "2daad37b",
   "metadata": {
    "execution": {
     "iopub.execute_input": "2024-02-21T10:14:54.026823Z",
     "iopub.status.busy": "2024-02-21T10:14:54.026394Z",
     "iopub.status.idle": "2024-02-21T10:14:54.033269Z",
     "shell.execute_reply": "2024-02-21T10:14:54.032130Z"
    },
    "papermill": {
     "duration": 0.028621,
     "end_time": "2024-02-21T10:14:54.035733",
     "exception": false,
     "start_time": "2024-02-21T10:14:54.007112",
     "status": "completed"
    },
    "tags": []
   },
   "outputs": [
    {
     "data": {
      "text/plain": [
       "['RF_class_roll5_MSE']"
      ]
     },
     "execution_count": 8,
     "metadata": {},
     "output_type": "execute_result"
    }
   ],
   "source": [
    "prediction_cols\n",
    "# prediction_cols = ['logit_default','OLS_default','logit_roll6','DT_reg_roll']"
   ]
  },
  {
   "cell_type": "code",
   "execution_count": 9,
   "id": "46bbdb41",
   "metadata": {
    "execution": {
     "iopub.execute_input": "2024-02-21T10:14:54.074137Z",
     "iopub.status.busy": "2024-02-21T10:14:54.073740Z",
     "iopub.status.idle": "2024-02-21T10:14:54.525635Z",
     "shell.execute_reply": "2024-02-21T10:14:54.524505Z"
    },
    "papermill": {
     "duration": 0.474338,
     "end_time": "2024-02-21T10:14:54.528184",
     "exception": false,
     "start_time": "2024-02-21T10:14:54.053846",
     "status": "completed"
    },
    "tags": []
   },
   "outputs": [
    {
     "data": {
      "text/html": [
       "<div>\n",
       "<style scoped>\n",
       "    .dataframe tbody tr th:only-of-type {\n",
       "        vertical-align: middle;\n",
       "    }\n",
       "\n",
       "    .dataframe tbody tr th {\n",
       "        vertical-align: top;\n",
       "    }\n",
       "\n",
       "    .dataframe thead th {\n",
       "        text-align: right;\n",
       "    }\n",
       "</style>\n",
       "<table border=\"1\" class=\"dataframe\">\n",
       "  <thead>\n",
       "    <tr style=\"text-align: right;\">\n",
       "      <th></th>\n",
       "      <th>date</th>\n",
       "      <th>RET</th>\n",
       "      <th>ME</th>\n",
       "      <th>y</th>\n",
       "      <th>RF_class_roll5_MSE</th>\n",
       "    </tr>\n",
       "  </thead>\n",
       "  <tbody>\n",
       "    <tr>\n",
       "      <th>49083</th>\n",
       "      <td>1933-01-31</td>\n",
       "      <td>0.036765</td>\n",
       "      <td>31918.875</td>\n",
       "      <td>1</td>\n",
       "      <td>1.000000</td>\n",
       "    </tr>\n",
       "    <tr>\n",
       "      <th>49084</th>\n",
       "      <td>1933-01-31</td>\n",
       "      <td>0.121849</td>\n",
       "      <td>7142.250</td>\n",
       "      <td>1</td>\n",
       "      <td>0.619581</td>\n",
       "    </tr>\n",
       "    <tr>\n",
       "      <th>49085</th>\n",
       "      <td>1933-01-31</td>\n",
       "      <td>0.015625</td>\n",
       "      <td>1560.000</td>\n",
       "      <td>1</td>\n",
       "      <td>0.995333</td>\n",
       "    </tr>\n",
       "    <tr>\n",
       "      <th>49086</th>\n",
       "      <td>1933-01-31</td>\n",
       "      <td>-0.084337</td>\n",
       "      <td>4275.000</td>\n",
       "      <td>0</td>\n",
       "      <td>0.001059</td>\n",
       "    </tr>\n",
       "    <tr>\n",
       "      <th>49087</th>\n",
       "      <td>1933-01-31</td>\n",
       "      <td>-0.037500</td>\n",
       "      <td>447581.750</td>\n",
       "      <td>0</td>\n",
       "      <td>0.342633</td>\n",
       "    </tr>\n",
       "  </tbody>\n",
       "</table>\n",
       "</div>"
      ],
      "text/plain": [
       "            date       RET          ME  y  RF_class_roll5_MSE\n",
       "49083 1933-01-31  0.036765   31918.875  1            1.000000\n",
       "49084 1933-01-31  0.121849    7142.250  1            0.619581\n",
       "49085 1933-01-31  0.015625    1560.000  1            0.995333\n",
       "49086 1933-01-31 -0.084337    4275.000  0            0.001059\n",
       "49087 1933-01-31 -0.037500  447581.750  0            0.342633"
      ]
     },
     "execution_count": 9,
     "metadata": {},
     "output_type": "execute_result"
    }
   ],
   "source": [
    "portfolio = df[['date', 'RET', 'ME', 'y'] + prediction_cols].copy()\n",
    "portfolio['date'] = pd.to_datetime(portfolio['date'])\n",
    "\n",
    "# drop rows with missing values\n",
    "portfolio.dropna(inplace=True)\n",
    "\n",
    "portfolio.head()"
   ]
  },
  {
   "cell_type": "code",
   "execution_count": 10,
   "id": "0ba02782",
   "metadata": {
    "execution": {
     "iopub.execute_input": "2024-02-21T10:14:54.567386Z",
     "iopub.status.busy": "2024-02-21T10:14:54.566952Z",
     "iopub.status.idle": "2024-02-21T10:14:54.580516Z",
     "shell.execute_reply": "2024-02-21T10:14:54.579368Z"
    },
    "papermill": {
     "duration": 0.035931,
     "end_time": "2024-02-21T10:14:54.582713",
     "exception": false,
     "start_time": "2024-02-21T10:14:54.546782",
     "status": "completed"
    },
    "tags": []
   },
   "outputs": [
    {
     "data": {
      "text/html": [
       "<div>\n",
       "<style scoped>\n",
       "    .dataframe tbody tr th:only-of-type {\n",
       "        vertical-align: middle;\n",
       "    }\n",
       "\n",
       "    .dataframe tbody tr th {\n",
       "        vertical-align: top;\n",
       "    }\n",
       "\n",
       "    .dataframe thead th {\n",
       "        text-align: right;\n",
       "    }\n",
       "</style>\n",
       "<table border=\"1\" class=\"dataframe\">\n",
       "  <thead>\n",
       "    <tr style=\"text-align: right;\">\n",
       "      <th></th>\n",
       "      <th>date</th>\n",
       "      <th>RET</th>\n",
       "      <th>ME</th>\n",
       "      <th>y</th>\n",
       "      <th>RF_class_roll5_MSE</th>\n",
       "    </tr>\n",
       "  </thead>\n",
       "  <tbody>\n",
       "    <tr>\n",
       "      <th>3627748</th>\n",
       "      <td>2022-07-31</td>\n",
       "      <td>-0.106939</td>\n",
       "      <td>3.731571e+06</td>\n",
       "      <td>0</td>\n",
       "      <td>0.379872</td>\n",
       "    </tr>\n",
       "    <tr>\n",
       "      <th>3627749</th>\n",
       "      <td>2022-07-31</td>\n",
       "      <td>0.020969</td>\n",
       "      <td>5.066263e+03</td>\n",
       "      <td>1</td>\n",
       "      <td>0.121869</td>\n",
       "    </tr>\n",
       "    <tr>\n",
       "      <th>3627750</th>\n",
       "      <td>2022-07-31</td>\n",
       "      <td>0.184785</td>\n",
       "      <td>1.280287e+06</td>\n",
       "      <td>1</td>\n",
       "      <td>0.902444</td>\n",
       "    </tr>\n",
       "    <tr>\n",
       "      <th>3627751</th>\n",
       "      <td>2022-07-31</td>\n",
       "      <td>0.108881</td>\n",
       "      <td>3.475711e+04</td>\n",
       "      <td>1</td>\n",
       "      <td>0.347450</td>\n",
       "    </tr>\n",
       "    <tr>\n",
       "      <th>3627752</th>\n",
       "      <td>2022-07-31</td>\n",
       "      <td>0.323765</td>\n",
       "      <td>9.311106e+08</td>\n",
       "      <td>1</td>\n",
       "      <td>0.803509</td>\n",
       "    </tr>\n",
       "  </tbody>\n",
       "</table>\n",
       "</div>"
      ],
      "text/plain": [
       "              date       RET            ME  y  RF_class_roll5_MSE\n",
       "3627748 2022-07-31 -0.106939  3.731571e+06  0            0.379872\n",
       "3627749 2022-07-31  0.020969  5.066263e+03  1            0.121869\n",
       "3627750 2022-07-31  0.184785  1.280287e+06  1            0.902444\n",
       "3627751 2022-07-31  0.108881  3.475711e+04  1            0.347450\n",
       "3627752 2022-07-31  0.323765  9.311106e+08  1            0.803509"
      ]
     },
     "execution_count": 10,
     "metadata": {},
     "output_type": "execute_result"
    }
   ],
   "source": [
    "portfolio.tail()"
   ]
  },
  {
   "cell_type": "code",
   "execution_count": 11,
   "id": "22ece3d5",
   "metadata": {
    "execution": {
     "iopub.execute_input": "2024-02-21T10:14:54.623157Z",
     "iopub.status.busy": "2024-02-21T10:14:54.621806Z",
     "iopub.status.idle": "2024-02-21T10:14:58.191067Z",
     "shell.execute_reply": "2024-02-21T10:14:58.189748Z"
    },
    "papermill": {
     "duration": 3.592189,
     "end_time": "2024-02-21T10:14:58.193716",
     "exception": false,
     "start_time": "2024-02-21T10:14:54.601527",
     "status": "completed"
    },
    "tags": []
   },
   "outputs": [
    {
     "name": "stderr",
     "output_type": "stream",
     "text": [
      "/tmp/ipykernel_19/2999037948.py:15: DeprecationWarning: DataFrameGroupBy.apply operated on the grouping columns. This behavior is deprecated, and in a future version of pandas the grouping columns will be excluded from the operation. Either pass `include_groups=False` to exclude the groupings or explicitly select the grouping columns after groupby to silence this warning.\n",
      "  vwreturns_temp = portfolio.groupby('date').apply(lambda x: np.sum(x['RET'] * x['ME'] * x[position_col]) / np.sum(x['ME'])).reset_index(name=vwret_col)\n"
     ]
    }
   ],
   "source": [
    "# Initialize an empty DataFrame to store value-weighted returns for each model\n",
    "vwreturns = pd.DataFrame(portfolio['date'].unique(), columns=['date'])  # Ensures all dates are included\n",
    "\n",
    "for pred_col in prediction_cols:\n",
    "    # Calculate deciles for this prediction\n",
    "    decile_col = f'decile_{pred_col}'\n",
    "    portfolio[decile_col] = portfolio.groupby(['date'])[pred_col].transform(lambda x: pd.qcut(x, 10, labels=False, duplicates='drop'))\n",
    "    \n",
    "    # Determine position based on deciles\n",
    "    position_col = f'position_{pred_col}'\n",
    "    portfolio[position_col] = np.where(portfolio[decile_col] == 9, 1, np.where(portfolio[decile_col] == 0, -1, 0))\n",
    "    \n",
    "    # Calculate the value-weighted return for this prediction\n",
    "    vwret_col = f'vwreturn_{pred_col}'\n",
    "    vwreturns_temp = portfolio.groupby('date').apply(lambda x: np.sum(x['RET'] * x['ME'] * x[position_col]) / np.sum(x['ME'])).reset_index(name=vwret_col)\n",
    "    \n",
    "    # Merge the temporary value-weighted returns with the main vwreturns DataFrame\n",
    "    vwreturns = vwreturns.merge(vwreturns_temp, on='date', how='left')\n",
    "\n",
    "# Ensure the 'date' column is the first column and is sorted\n",
    "vwreturns = vwreturns.sort_values('date').reset_index(drop=True)\n"
   ]
  },
  {
   "cell_type": "code",
   "execution_count": 12,
   "id": "722b0782",
   "metadata": {
    "execution": {
     "iopub.execute_input": "2024-02-21T10:14:58.234383Z",
     "iopub.status.busy": "2024-02-21T10:14:58.233995Z",
     "iopub.status.idle": "2024-02-21T10:14:58.244441Z",
     "shell.execute_reply": "2024-02-21T10:14:58.243334Z"
    },
    "papermill": {
     "duration": 0.03353,
     "end_time": "2024-02-21T10:14:58.247044",
     "exception": false,
     "start_time": "2024-02-21T10:14:58.213514",
     "status": "completed"
    },
    "tags": []
   },
   "outputs": [
    {
     "data": {
      "text/html": [
       "<div>\n",
       "<style scoped>\n",
       "    .dataframe tbody tr th:only-of-type {\n",
       "        vertical-align: middle;\n",
       "    }\n",
       "\n",
       "    .dataframe tbody tr th {\n",
       "        vertical-align: top;\n",
       "    }\n",
       "\n",
       "    .dataframe thead th {\n",
       "        text-align: right;\n",
       "    }\n",
       "</style>\n",
       "<table border=\"1\" class=\"dataframe\">\n",
       "  <thead>\n",
       "    <tr style=\"text-align: right;\">\n",
       "      <th></th>\n",
       "      <th>date</th>\n",
       "      <th>vwreturn_RF_class_roll5_MSE</th>\n",
       "    </tr>\n",
       "  </thead>\n",
       "  <tbody>\n",
       "    <tr>\n",
       "      <th>0</th>\n",
       "      <td>1933-01-31</td>\n",
       "      <td>0.028810</td>\n",
       "    </tr>\n",
       "    <tr>\n",
       "      <th>1</th>\n",
       "      <td>1933-02-28</td>\n",
       "      <td>0.043888</td>\n",
       "    </tr>\n",
       "    <tr>\n",
       "      <th>2</th>\n",
       "      <td>1933-03-31</td>\n",
       "      <td>0.039849</td>\n",
       "    </tr>\n",
       "    <tr>\n",
       "      <th>3</th>\n",
       "      <td>1933-04-30</td>\n",
       "      <td>-0.002801</td>\n",
       "    </tr>\n",
       "    <tr>\n",
       "      <th>4</th>\n",
       "      <td>1933-05-31</td>\n",
       "      <td>-0.003908</td>\n",
       "    </tr>\n",
       "  </tbody>\n",
       "</table>\n",
       "</div>"
      ],
      "text/plain": [
       "        date  vwreturn_RF_class_roll5_MSE\n",
       "0 1933-01-31                     0.028810\n",
       "1 1933-02-28                     0.043888\n",
       "2 1933-03-31                     0.039849\n",
       "3 1933-04-30                    -0.002801\n",
       "4 1933-05-31                    -0.003908"
      ]
     },
     "execution_count": 12,
     "metadata": {},
     "output_type": "execute_result"
    }
   ],
   "source": [
    "vwreturns.head()"
   ]
  },
  {
   "cell_type": "markdown",
   "id": "c7fc3016",
   "metadata": {
    "papermill": {
     "duration": 0.018845,
     "end_time": "2024-02-21T10:14:58.284873",
     "exception": false,
     "start_time": "2024-02-21T10:14:58.266028",
     "status": "completed"
    },
    "tags": []
   },
   "source": [
    "### Compare to market data"
   ]
  },
  {
   "cell_type": "code",
   "execution_count": 13,
   "id": "e15b3ac5",
   "metadata": {
    "execution": {
     "iopub.execute_input": "2024-02-21T10:14:58.325489Z",
     "iopub.status.busy": "2024-02-21T10:14:58.324501Z",
     "iopub.status.idle": "2024-02-21T10:14:58.356649Z",
     "shell.execute_reply": "2024-02-21T10:14:58.355396Z"
    },
    "papermill": {
     "duration": 0.05552,
     "end_time": "2024-02-21T10:14:58.359481",
     "exception": false,
     "start_time": "2024-02-21T10:14:58.303961",
     "status": "completed"
    },
    "tags": []
   },
   "outputs": [],
   "source": [
    "#market = pd.read_csv('FF3_clean.csv')\n",
    "market = pd.read_csv('/kaggle/input/sign-prediction-datasets/FF3_clean.csv')"
   ]
  },
  {
   "cell_type": "code",
   "execution_count": 14,
   "id": "75689e29",
   "metadata": {
    "execution": {
     "iopub.execute_input": "2024-02-21T10:14:58.401029Z",
     "iopub.status.busy": "2024-02-21T10:14:58.400310Z",
     "iopub.status.idle": "2024-02-21T10:14:58.414381Z",
     "shell.execute_reply": "2024-02-21T10:14:58.413214Z"
    },
    "papermill": {
     "duration": 0.037501,
     "end_time": "2024-02-21T10:14:58.416711",
     "exception": false,
     "start_time": "2024-02-21T10:14:58.379210",
     "status": "completed"
    },
    "tags": []
   },
   "outputs": [
    {
     "data": {
      "text/html": [
       "<div>\n",
       "<style scoped>\n",
       "    .dataframe tbody tr th:only-of-type {\n",
       "        vertical-align: middle;\n",
       "    }\n",
       "\n",
       "    .dataframe tbody tr th {\n",
       "        vertical-align: top;\n",
       "    }\n",
       "\n",
       "    .dataframe thead th {\n",
       "        text-align: right;\n",
       "    }\n",
       "</style>\n",
       "<table border=\"1\" class=\"dataframe\">\n",
       "  <thead>\n",
       "    <tr style=\"text-align: right;\">\n",
       "      <th></th>\n",
       "      <th>date</th>\n",
       "      <th>Mkt-RF</th>\n",
       "      <th>SMB</th>\n",
       "      <th>HML</th>\n",
       "      <th>RF</th>\n",
       "    </tr>\n",
       "  </thead>\n",
       "  <tbody>\n",
       "    <tr>\n",
       "      <th>0</th>\n",
       "      <td>1926-07-31</td>\n",
       "      <td>2.96</td>\n",
       "      <td>-2.56</td>\n",
       "      <td>-2.43</td>\n",
       "      <td>0.22</td>\n",
       "    </tr>\n",
       "    <tr>\n",
       "      <th>1</th>\n",
       "      <td>1926-08-31</td>\n",
       "      <td>2.64</td>\n",
       "      <td>-1.17</td>\n",
       "      <td>3.82</td>\n",
       "      <td>0.25</td>\n",
       "    </tr>\n",
       "    <tr>\n",
       "      <th>2</th>\n",
       "      <td>1926-09-30</td>\n",
       "      <td>0.36</td>\n",
       "      <td>-1.40</td>\n",
       "      <td>0.13</td>\n",
       "      <td>0.23</td>\n",
       "    </tr>\n",
       "    <tr>\n",
       "      <th>3</th>\n",
       "      <td>1926-10-31</td>\n",
       "      <td>-3.24</td>\n",
       "      <td>-0.09</td>\n",
       "      <td>0.70</td>\n",
       "      <td>0.32</td>\n",
       "    </tr>\n",
       "    <tr>\n",
       "      <th>4</th>\n",
       "      <td>1926-11-30</td>\n",
       "      <td>2.53</td>\n",
       "      <td>-0.10</td>\n",
       "      <td>-0.51</td>\n",
       "      <td>0.31</td>\n",
       "    </tr>\n",
       "  </tbody>\n",
       "</table>\n",
       "</div>"
      ],
      "text/plain": [
       "         date  Mkt-RF   SMB   HML    RF\n",
       "0  1926-07-31    2.96 -2.56 -2.43  0.22\n",
       "1  1926-08-31    2.64 -1.17  3.82  0.25\n",
       "2  1926-09-30    0.36 -1.40  0.13  0.23\n",
       "3  1926-10-31   -3.24 -0.09  0.70  0.32\n",
       "4  1926-11-30    2.53 -0.10 -0.51  0.31"
      ]
     },
     "execution_count": 14,
     "metadata": {},
     "output_type": "execute_result"
    }
   ],
   "source": [
    "market.head()"
   ]
  },
  {
   "cell_type": "code",
   "execution_count": 15,
   "id": "198041bc",
   "metadata": {
    "execution": {
     "iopub.execute_input": "2024-02-21T10:14:58.458514Z",
     "iopub.status.busy": "2024-02-21T10:14:58.457755Z",
     "iopub.status.idle": "2024-02-21T10:14:58.477468Z",
     "shell.execute_reply": "2024-02-21T10:14:58.476533Z"
    },
    "papermill": {
     "duration": 0.043922,
     "end_time": "2024-02-21T10:14:58.480035",
     "exception": false,
     "start_time": "2024-02-21T10:14:58.436113",
     "status": "completed"
    },
    "tags": []
   },
   "outputs": [],
   "source": [
    "# create a new 'Mkt' which is a sum of Mkt-RF and RF\n",
    "market['Mkt'] = market['Mkt-RF'] + market['RF']\n",
    "\n",
    "# divide all columns by 100 except 'date'\n",
    "market.iloc[:, 1:] = market.iloc[:, 1:] / 100\n",
    "\n",
    "#set the 'date' column to datetime format\n",
    "market['date'] = pd.to_datetime(market['date'])\n",
    "\n",
    "# merge the market data (only date and Mkt columns) with the vwreturns DataFrame\n",
    "vwreturns = vwreturns.merge(market[['date', 'Mkt']], on='date', how='left')\n",
    "\n",
    "# transform all columns (except 'date') to a log: log(x+1) and save the result as lvwreturns\n",
    "lvwreturns = vwreturns.copy()\n",
    "lvwreturns.iloc[:, 1:] = np.log(vwreturns.iloc[:, 1:] + 1)"
   ]
  },
  {
   "cell_type": "code",
   "execution_count": 16,
   "id": "bd7d1691",
   "metadata": {
    "execution": {
     "iopub.execute_input": "2024-02-21T10:14:58.521256Z",
     "iopub.status.busy": "2024-02-21T10:14:58.520588Z",
     "iopub.status.idle": "2024-02-21T10:14:58.532149Z",
     "shell.execute_reply": "2024-02-21T10:14:58.531012Z"
    },
    "papermill": {
     "duration": 0.034772,
     "end_time": "2024-02-21T10:14:58.534341",
     "exception": false,
     "start_time": "2024-02-21T10:14:58.499569",
     "status": "completed"
    },
    "tags": []
   },
   "outputs": [
    {
     "data": {
      "text/html": [
       "<div>\n",
       "<style scoped>\n",
       "    .dataframe tbody tr th:only-of-type {\n",
       "        vertical-align: middle;\n",
       "    }\n",
       "\n",
       "    .dataframe tbody tr th {\n",
       "        vertical-align: top;\n",
       "    }\n",
       "\n",
       "    .dataframe thead th {\n",
       "        text-align: right;\n",
       "    }\n",
       "</style>\n",
       "<table border=\"1\" class=\"dataframe\">\n",
       "  <thead>\n",
       "    <tr style=\"text-align: right;\">\n",
       "      <th></th>\n",
       "      <th>date</th>\n",
       "      <th>vwreturn_RF_class_roll5_MSE</th>\n",
       "      <th>Mkt</th>\n",
       "    </tr>\n",
       "  </thead>\n",
       "  <tbody>\n",
       "    <tr>\n",
       "      <th>0</th>\n",
       "      <td>1933-01-31</td>\n",
       "      <td>0.028810</td>\n",
       "      <td>0.0126</td>\n",
       "    </tr>\n",
       "    <tr>\n",
       "      <th>1</th>\n",
       "      <td>1933-02-28</td>\n",
       "      <td>0.043888</td>\n",
       "      <td>-0.1527</td>\n",
       "    </tr>\n",
       "    <tr>\n",
       "      <th>2</th>\n",
       "      <td>1933-03-31</td>\n",
       "      <td>0.039849</td>\n",
       "      <td>0.0333</td>\n",
       "    </tr>\n",
       "    <tr>\n",
       "      <th>3</th>\n",
       "      <td>1933-04-30</td>\n",
       "      <td>-0.002801</td>\n",
       "      <td>0.3895</td>\n",
       "    </tr>\n",
       "    <tr>\n",
       "      <th>4</th>\n",
       "      <td>1933-05-31</td>\n",
       "      <td>-0.003908</td>\n",
       "      <td>0.2147</td>\n",
       "    </tr>\n",
       "  </tbody>\n",
       "</table>\n",
       "</div>"
      ],
      "text/plain": [
       "        date  vwreturn_RF_class_roll5_MSE     Mkt\n",
       "0 1933-01-31                     0.028810  0.0126\n",
       "1 1933-02-28                     0.043888 -0.1527\n",
       "2 1933-03-31                     0.039849  0.0333\n",
       "3 1933-04-30                    -0.002801  0.3895\n",
       "4 1933-05-31                    -0.003908  0.2147"
      ]
     },
     "execution_count": 16,
     "metadata": {},
     "output_type": "execute_result"
    }
   ],
   "source": [
    "vwreturns.head()"
   ]
  },
  {
   "cell_type": "code",
   "execution_count": 17,
   "id": "75f3b5d6",
   "metadata": {
    "execution": {
     "iopub.execute_input": "2024-02-21T10:14:58.576303Z",
     "iopub.status.busy": "2024-02-21T10:14:58.575630Z",
     "iopub.status.idle": "2024-02-21T10:14:58.586865Z",
     "shell.execute_reply": "2024-02-21T10:14:58.585735Z"
    },
    "papermill": {
     "duration": 0.034918,
     "end_time": "2024-02-21T10:14:58.589143",
     "exception": false,
     "start_time": "2024-02-21T10:14:58.554225",
     "status": "completed"
    },
    "tags": []
   },
   "outputs": [
    {
     "data": {
      "text/html": [
       "<div>\n",
       "<style scoped>\n",
       "    .dataframe tbody tr th:only-of-type {\n",
       "        vertical-align: middle;\n",
       "    }\n",
       "\n",
       "    .dataframe tbody tr th {\n",
       "        vertical-align: top;\n",
       "    }\n",
       "\n",
       "    .dataframe thead th {\n",
       "        text-align: right;\n",
       "    }\n",
       "</style>\n",
       "<table border=\"1\" class=\"dataframe\">\n",
       "  <thead>\n",
       "    <tr style=\"text-align: right;\">\n",
       "      <th></th>\n",
       "      <th>date</th>\n",
       "      <th>vwreturn_RF_class_roll5_MSE</th>\n",
       "      <th>Mkt</th>\n",
       "    </tr>\n",
       "  </thead>\n",
       "  <tbody>\n",
       "    <tr>\n",
       "      <th>0</th>\n",
       "      <td>1933-01-31</td>\n",
       "      <td>0.028402</td>\n",
       "      <td>0.012521</td>\n",
       "    </tr>\n",
       "    <tr>\n",
       "      <th>1</th>\n",
       "      <td>1933-02-28</td>\n",
       "      <td>0.042952</td>\n",
       "      <td>-0.165700</td>\n",
       "    </tr>\n",
       "    <tr>\n",
       "      <th>2</th>\n",
       "      <td>1933-03-31</td>\n",
       "      <td>0.039075</td>\n",
       "      <td>0.032758</td>\n",
       "    </tr>\n",
       "    <tr>\n",
       "      <th>3</th>\n",
       "      <td>1933-04-30</td>\n",
       "      <td>-0.002805</td>\n",
       "      <td>0.328944</td>\n",
       "    </tr>\n",
       "    <tr>\n",
       "      <th>4</th>\n",
       "      <td>1933-05-31</td>\n",
       "      <td>-0.003916</td>\n",
       "      <td>0.194497</td>\n",
       "    </tr>\n",
       "  </tbody>\n",
       "</table>\n",
       "</div>"
      ],
      "text/plain": [
       "        date  vwreturn_RF_class_roll5_MSE       Mkt\n",
       "0 1933-01-31                     0.028402  0.012521\n",
       "1 1933-02-28                     0.042952 -0.165700\n",
       "2 1933-03-31                     0.039075  0.032758\n",
       "3 1933-04-30                    -0.002805  0.328944\n",
       "4 1933-05-31                    -0.003916  0.194497"
      ]
     },
     "execution_count": 17,
     "metadata": {},
     "output_type": "execute_result"
    }
   ],
   "source": [
    "lvwreturns.head()"
   ]
  },
  {
   "cell_type": "code",
   "execution_count": 18,
   "id": "b7f36f13",
   "metadata": {
    "execution": {
     "iopub.execute_input": "2024-02-21T10:14:58.631562Z",
     "iopub.status.busy": "2024-02-21T10:14:58.630860Z",
     "iopub.status.idle": "2024-02-21T10:14:58.650543Z",
     "shell.execute_reply": "2024-02-21T10:14:58.649731Z"
    },
    "papermill": {
     "duration": 0.043555,
     "end_time": "2024-02-21T10:14:58.652723",
     "exception": false,
     "start_time": "2024-02-21T10:14:58.609168",
     "status": "completed"
    },
    "tags": []
   },
   "outputs": [
    {
     "data": {
      "text/html": [
       "<div>\n",
       "<style scoped>\n",
       "    .dataframe tbody tr th:only-of-type {\n",
       "        vertical-align: middle;\n",
       "    }\n",
       "\n",
       "    .dataframe tbody tr th {\n",
       "        vertical-align: top;\n",
       "    }\n",
       "\n",
       "    .dataframe thead th {\n",
       "        text-align: right;\n",
       "    }\n",
       "</style>\n",
       "<table border=\"1\" class=\"dataframe\">\n",
       "  <thead>\n",
       "    <tr style=\"text-align: right;\">\n",
       "      <th></th>\n",
       "      <th>date</th>\n",
       "      <th>vwreturn_RF_class_roll5_MSE</th>\n",
       "      <th>Mkt</th>\n",
       "    </tr>\n",
       "  </thead>\n",
       "  <tbody>\n",
       "    <tr>\n",
       "      <th>count</th>\n",
       "      <td>1074</td>\n",
       "      <td>1074.000000</td>\n",
       "      <td>1074.000000</td>\n",
       "    </tr>\n",
       "    <tr>\n",
       "      <th>mean</th>\n",
       "      <td>1977-11-05 12:12:04.022346368</td>\n",
       "      <td>0.010488</td>\n",
       "      <td>0.008968</td>\n",
       "    </tr>\n",
       "    <tr>\n",
       "      <th>min</th>\n",
       "      <td>1933-01-31 00:00:00</td>\n",
       "      <td>-0.011046</td>\n",
       "      <td>-0.272203</td>\n",
       "    </tr>\n",
       "    <tr>\n",
       "      <th>25%</th>\n",
       "      <td>1955-06-07 12:00:00</td>\n",
       "      <td>0.002831</td>\n",
       "      <td>-0.017248</td>\n",
       "    </tr>\n",
       "    <tr>\n",
       "      <th>50%</th>\n",
       "      <td>1977-11-15 00:00:00</td>\n",
       "      <td>0.006246</td>\n",
       "      <td>0.013064</td>\n",
       "    </tr>\n",
       "    <tr>\n",
       "      <th>75%</th>\n",
       "      <td>2000-03-23 06:00:00</td>\n",
       "      <td>0.012734</td>\n",
       "      <td>0.038162</td>\n",
       "    </tr>\n",
       "    <tr>\n",
       "      <th>max</th>\n",
       "      <td>2022-07-31 00:00:00</td>\n",
       "      <td>0.117149</td>\n",
       "      <td>0.328944</td>\n",
       "    </tr>\n",
       "    <tr>\n",
       "      <th>std</th>\n",
       "      <td>NaN</td>\n",
       "      <td>0.013188</td>\n",
       "      <td>0.048186</td>\n",
       "    </tr>\n",
       "  </tbody>\n",
       "</table>\n",
       "</div>"
      ],
      "text/plain": [
       "                                date  vwreturn_RF_class_roll5_MSE          Mkt\n",
       "count                           1074                  1074.000000  1074.000000\n",
       "mean   1977-11-05 12:12:04.022346368                     0.010488     0.008968\n",
       "min              1933-01-31 00:00:00                    -0.011046    -0.272203\n",
       "25%              1955-06-07 12:00:00                     0.002831    -0.017248\n",
       "50%              1977-11-15 00:00:00                     0.006246     0.013064\n",
       "75%              2000-03-23 06:00:00                     0.012734     0.038162\n",
       "max              2022-07-31 00:00:00                     0.117149     0.328944\n",
       "std                              NaN                     0.013188     0.048186"
      ]
     },
     "execution_count": 18,
     "metadata": {},
     "output_type": "execute_result"
    }
   ],
   "source": [
    "lvwreturns.describe()"
   ]
  },
  {
   "cell_type": "code",
   "execution_count": 19,
   "id": "c1c85420",
   "metadata": {
    "execution": {
     "iopub.execute_input": "2024-02-21T10:14:58.697997Z",
     "iopub.status.busy": "2024-02-21T10:14:58.697577Z",
     "iopub.status.idle": "2024-02-21T10:14:58.703568Z",
     "shell.execute_reply": "2024-02-21T10:14:58.702498Z"
    },
    "papermill": {
     "duration": 0.032235,
     "end_time": "2024-02-21T10:14:58.705985",
     "exception": false,
     "start_time": "2024-02-21T10:14:58.673750",
     "status": "completed"
    },
    "tags": []
   },
   "outputs": [],
   "source": [
    "## plot histograms of the value-weighted returns for each model and the market in lvwreturns\n",
    "#plt.figure(figsize=(12, round(len(prediction_cols)/2) * 5 ))\n",
    "#\n",
    "#for i, pred_col in enumerate(prediction_cols):\n",
    "#    plt.subplot(len(prediction_cols)/2 +1, 2, i+1)\n",
    "#    plt.hist(lvwreturns[f'vwreturn_{pred_col}'], bins=50, color='skyblue', edgecolor='black')\n",
    "#    plt.title(f'Value-Weighted Return - {pred_col}')\n",
    "#    plt.xlabel('Value-Weighted Return')\n",
    "#    plt.ylabel('Frequency')\n",
    "#    # calculate mean, skewness and kurtosis and add their values to the plot as a text, aligning to the top right corner\n",
    "#    mean = lvwreturns[f'vwreturn_{pred_col}'].mean()\n",
    "#    skewness = lvwreturns[f'vwreturn_{pred_col}'].skew()\n",
    "#    kurtosis = lvwreturns[f'vwreturn_{pred_col}'].kurtosis()\n",
    "#\n",
    "#    plt.text(0.95, 0.95, f'Mean: {mean:.4f}\\nSkewness: {skewness:.4f}\\nKurtosis: {kurtosis:.4f}', ha='right', va='top', transform=plt.gca().transAxes)\n",
    "#\n",
    "#\n",
    "#\n",
    "#plt.subplot(round(len(prediction_cols)/2) +1, 2, len(prediction_cols)+1)\n",
    "#plt.title('Value-Weighted Return - Market')\n",
    "#plt.xlabel('Value-Weighted Return')\n",
    "#plt.ylabel('Frequency')\n",
    "#plt.hist(lvwreturns['Mkt'], bins=50, color='skyblue', edgecolor='black')\n",
    "#mean = lvwreturns['Mkt'].mean()\n",
    "#skewness = lvwreturns['Mkt'].skew()\n",
    "#kurtosis = lvwreturns['Mkt'].kurtosis()\n",
    "#plt.text(0.95, 0.95, f'Mean: {mean:.4f}\\nSkewness: {skewness:.4f}\\nKurtosis: {kurtosis:.4f}', ha='right', va='top', transform=plt.gca().transAxes)\n",
    "#\n",
    "#plt.tight_layout()\n",
    "#plt.show()\n",
    "#"
   ]
  },
  {
   "cell_type": "code",
   "execution_count": 20,
   "id": "afcf12fc",
   "metadata": {
    "execution": {
     "iopub.execute_input": "2024-02-21T10:14:58.750332Z",
     "iopub.status.busy": "2024-02-21T10:14:58.749945Z",
     "iopub.status.idle": "2024-02-21T10:14:58.754643Z",
     "shell.execute_reply": "2024-02-21T10:14:58.753575Z"
    },
    "papermill": {
     "duration": 0.030013,
     "end_time": "2024-02-21T10:14:58.757611",
     "exception": false,
     "start_time": "2024-02-21T10:14:58.727598",
     "status": "completed"
    },
    "tags": []
   },
   "outputs": [],
   "source": [
    "## plot cumulative sums of the value-weighted log returns\n",
    "#plt.figure(figsize=(12, 6))\n",
    "#plt.plot(lvwreturns['date'], lvwreturns.iloc[:, 1:].cumsum())\n",
    "#plt.title('Cumulative Value-Weighted Log Returns')\n",
    "#plt.xlabel('Date')\n",
    "#plt.ylabel('Cumulative Value-Weighted Log Returns')\n",
    "#plt.legend(prediction_cols + ['Market'])\n",
    "#plt.show()\n"
   ]
  },
  {
   "cell_type": "code",
   "execution_count": 21,
   "id": "636f75da",
   "metadata": {
    "execution": {
     "iopub.execute_input": "2024-02-21T10:14:58.802339Z",
     "iopub.status.busy": "2024-02-21T10:14:58.801143Z",
     "iopub.status.idle": "2024-02-21T10:15:00.345708Z",
     "shell.execute_reply": "2024-02-21T10:15:00.344741Z"
    },
    "papermill": {
     "duration": 1.569864,
     "end_time": "2024-02-21T10:15:00.348337",
     "exception": false,
     "start_time": "2024-02-21T10:14:58.778473",
     "status": "completed"
    },
    "tags": []
   },
   "outputs": [],
   "source": [
    "# save the lvwreturns and portfolio DataFrame to a parquet file into 'outputs' folder\n",
    "\n",
    "# for reproducibility and visualization purposes\n",
    "lvwreturns.to_parquet('base_lvwreturns_class_mse21.parquet')\n",
    "portfolio.to_parquet('base_portfolio_class_mse21.parquet')\n",
    "\n",
    "# save vwreturns DataFrame to a .dta file into 'outputs' folder\n",
    "#vwreturns.to_stata('outputs/vwreturns.dta') # for backtasting in R - we need normal returns, not log returns\n"
   ]
  }
 ],
 "metadata": {
  "kaggle": {
   "accelerator": "none",
   "dataSources": [
    {
     "datasetId": 4464890,
     "sourceId": 7657795,
     "sourceType": "datasetVersion"
    }
   ],
   "dockerImageVersionId": 30646,
   "isGpuEnabled": false,
   "isInternetEnabled": true,
   "language": "python",
   "sourceType": "notebook"
  },
  "kernelspec": {
   "display_name": "Python 3",
   "language": "python",
   "name": "python3"
  },
  "language_info": {
   "codemirror_mode": {
    "name": "ipython",
    "version": 3
   },
   "file_extension": ".py",
   "mimetype": "text/x-python",
   "name": "python",
   "nbconvert_exporter": "python",
   "pygments_lexer": "ipython3",
   "version": "3.10.13"
  },
  "papermill": {
   "default_parameters": {},
   "duration": 2224.35661,
   "end_time": "2024-02-21T10:15:01.097133",
   "environment_variables": {},
   "exception": null,
   "input_path": "__notebook__.ipynb",
   "output_path": "__notebook__.ipynb",
   "parameters": {},
   "start_time": "2024-02-21T09:37:56.740523",
   "version": "2.5.0"
  }
 },
 "nbformat": 4,
 "nbformat_minor": 5
}
