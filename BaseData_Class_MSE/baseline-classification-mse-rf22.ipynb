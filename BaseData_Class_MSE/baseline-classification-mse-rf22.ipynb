{
 "cells": [
  {
   "cell_type": "markdown",
   "id": "5229ef37",
   "metadata": {
    "papermill": {
     "duration": 0.0088,
     "end_time": "2024-02-21T09:33:02.278513",
     "exception": false,
     "start_time": "2024-02-21T09:33:02.269713",
     "status": "completed"
    },
    "tags": []
   },
   "source": [
    "# Framework for predictions and portfolio forming"
   ]
  },
  {
   "cell_type": "code",
   "execution_count": 1,
   "id": "dd38f275",
   "metadata": {
    "execution": {
     "iopub.execute_input": "2024-02-21T09:33:02.297203Z",
     "iopub.status.busy": "2024-02-21T09:33:02.296768Z",
     "iopub.status.idle": "2024-02-21T09:33:05.311241Z",
     "shell.execute_reply": "2024-02-21T09:33:05.310026Z"
    },
    "papermill": {
     "duration": 3.027297,
     "end_time": "2024-02-21T09:33:05.314310",
     "exception": false,
     "start_time": "2024-02-21T09:33:02.287013",
     "status": "completed"
    },
    "tags": []
   },
   "outputs": [],
   "source": [
    "import numpy as np\n",
    "import pandas as pd\n",
    "pd.set_option('display.max_columns', None)\n",
    "import matplotlib.pyplot as plt\n",
    "import seaborn as sns\n",
    "import datetime as dt\n",
    "import time\n",
    "\n",
    "# import the parquet library\n",
    "import pyarrow.parquet as pq\n",
    "\n",
    "# import model libraries\n",
    "from sklearn.preprocessing import StandardScaler, MinMaxScaler\n",
    "from sklearn.linear_model import LogisticRegression, LinearRegression\n",
    "from sklearn.tree import DecisionTreeClassifier, DecisionTreeRegressor\n",
    "from sklearn.ensemble import RandomForestClassifier, RandomForestRegressor\n",
    "from sklearn.metrics import mean_squared_error, accuracy_score"
   ]
  },
  {
   "cell_type": "code",
   "execution_count": 2,
   "id": "2fa28a18",
   "metadata": {
    "execution": {
     "iopub.execute_input": "2024-02-21T09:33:05.333765Z",
     "iopub.status.busy": "2024-02-21T09:33:05.333197Z",
     "iopub.status.idle": "2024-02-21T09:33:06.629094Z",
     "shell.execute_reply": "2024-02-21T09:33:06.627759Z"
    },
    "papermill": {
     "duration": 1.308939,
     "end_time": "2024-02-21T09:33:06.631950",
     "exception": false,
     "start_time": "2024-02-21T09:33:05.323011",
     "status": "completed"
    },
    "tags": []
   },
   "outputs": [
    {
     "data": {
      "text/html": [
       "<div>\n",
       "<style scoped>\n",
       "    .dataframe tbody tr th:only-of-type {\n",
       "        vertical-align: middle;\n",
       "    }\n",
       "\n",
       "    .dataframe tbody tr th {\n",
       "        vertical-align: top;\n",
       "    }\n",
       "\n",
       "    .dataframe thead th {\n",
       "        text-align: right;\n",
       "    }\n",
       "</style>\n",
       "<table border=\"1\" class=\"dataframe\">\n",
       "  <thead>\n",
       "    <tr style=\"text-align: right;\">\n",
       "      <th></th>\n",
       "      <th>PERMNO</th>\n",
       "      <th>date</th>\n",
       "      <th>RET</th>\n",
       "      <th>ME</th>\n",
       "      <th>bull_D</th>\n",
       "      <th>bear_D</th>\n",
       "      <th>bull_W</th>\n",
       "      <th>bear_W</th>\n",
       "      <th>bull_M</th>\n",
       "      <th>bear_M</th>\n",
       "      <th>LMKT</th>\n",
       "      <th>IVOL</th>\n",
       "      <th>y</th>\n",
       "    </tr>\n",
       "  </thead>\n",
       "  <tbody>\n",
       "    <tr>\n",
       "      <th>0</th>\n",
       "      <td>10000</td>\n",
       "      <td>1986-02-28</td>\n",
       "      <td>-0.257143</td>\n",
       "      <td>11960.00000</td>\n",
       "      <td>0.0</td>\n",
       "      <td>0.0</td>\n",
       "      <td>0.0</td>\n",
       "      <td>1.0</td>\n",
       "      <td>0</td>\n",
       "      <td>0</td>\n",
       "      <td>0.0121</td>\n",
       "      <td>0.004058</td>\n",
       "      <td>0</td>\n",
       "    </tr>\n",
       "    <tr>\n",
       "      <th>1</th>\n",
       "      <td>10000</td>\n",
       "      <td>1986-03-31</td>\n",
       "      <td>0.365385</td>\n",
       "      <td>16330.00000</td>\n",
       "      <td>0.0</td>\n",
       "      <td>0.0</td>\n",
       "      <td>0.0</td>\n",
       "      <td>0.0</td>\n",
       "      <td>0</td>\n",
       "      <td>0</td>\n",
       "      <td>0.0766</td>\n",
       "      <td>0.000973</td>\n",
       "      <td>1</td>\n",
       "    </tr>\n",
       "    <tr>\n",
       "      <th>2</th>\n",
       "      <td>10000</td>\n",
       "      <td>1986-04-30</td>\n",
       "      <td>-0.098592</td>\n",
       "      <td>15172.00000</td>\n",
       "      <td>0.0</td>\n",
       "      <td>1.0</td>\n",
       "      <td>0.0</td>\n",
       "      <td>0.0</td>\n",
       "      <td>0</td>\n",
       "      <td>0</td>\n",
       "      <td>0.0548</td>\n",
       "      <td>0.001993</td>\n",
       "      <td>0</td>\n",
       "    </tr>\n",
       "    <tr>\n",
       "      <th>3</th>\n",
       "      <td>10000</td>\n",
       "      <td>1986-05-31</td>\n",
       "      <td>-0.222656</td>\n",
       "      <td>11793.87834</td>\n",
       "      <td>0.0</td>\n",
       "      <td>0.0</td>\n",
       "      <td>0.0</td>\n",
       "      <td>0.0</td>\n",
       "      <td>0</td>\n",
       "      <td>1</td>\n",
       "      <td>-0.0079</td>\n",
       "      <td>0.000163</td>\n",
       "      <td>0</td>\n",
       "    </tr>\n",
       "    <tr>\n",
       "      <th>4</th>\n",
       "      <td>10000</td>\n",
       "      <td>1986-06-30</td>\n",
       "      <td>-0.005025</td>\n",
       "      <td>11734.59375</td>\n",
       "      <td>0.0</td>\n",
       "      <td>0.0</td>\n",
       "      <td>0.0</td>\n",
       "      <td>0.0</td>\n",
       "      <td>0</td>\n",
       "      <td>2</td>\n",
       "      <td>0.0511</td>\n",
       "      <td>0.001569</td>\n",
       "      <td>0</td>\n",
       "    </tr>\n",
       "  </tbody>\n",
       "</table>\n",
       "</div>"
      ],
      "text/plain": [
       "   PERMNO       date       RET           ME  bull_D  bear_D  bull_W  bear_W  \\\n",
       "0   10000 1986-02-28 -0.257143  11960.00000     0.0     0.0     0.0     1.0   \n",
       "1   10000 1986-03-31  0.365385  16330.00000     0.0     0.0     0.0     0.0   \n",
       "2   10000 1986-04-30 -0.098592  15172.00000     0.0     1.0     0.0     0.0   \n",
       "3   10000 1986-05-31 -0.222656  11793.87834     0.0     0.0     0.0     0.0   \n",
       "4   10000 1986-06-30 -0.005025  11734.59375     0.0     0.0     0.0     0.0   \n",
       "\n",
       "   bull_M  bear_M    LMKT      IVOL  y  \n",
       "0       0       0  0.0121  0.004058  0  \n",
       "1       0       0  0.0766  0.000973  1  \n",
       "2       0       0  0.0548  0.001993  0  \n",
       "3       0       1 -0.0079  0.000163  0  \n",
       "4       0       2  0.0511  0.001569  0  "
      ]
     },
     "execution_count": 2,
     "metadata": {},
     "output_type": "execute_result"
    }
   ],
   "source": [
    "# load 'basemodel.parquet'\n",
    "#df = pd.read_parquet('basemodel.parquet')\n",
    "df = pd.read_parquet('/kaggle/input/sign-prediction-datasets/basemodel.parquet')\n",
    "prediction_cols = []\n",
    "df.head()"
   ]
  },
  {
   "cell_type": "code",
   "execution_count": 3,
   "id": "87214d51",
   "metadata": {
    "execution": {
     "iopub.execute_input": "2024-02-21T09:33:06.651435Z",
     "iopub.status.busy": "2024-02-21T09:33:06.651056Z",
     "iopub.status.idle": "2024-02-21T09:33:06.656116Z",
     "shell.execute_reply": "2024-02-21T09:33:06.654803Z"
    },
    "papermill": {
     "duration": 0.01769,
     "end_time": "2024-02-21T09:33:06.658530",
     "exception": false,
     "start_time": "2024-02-21T09:33:06.640840",
     "status": "completed"
    },
    "tags": []
   },
   "outputs": [],
   "source": [
    "# select the columns to be used for prediction\n",
    "X_col = ['bull_D', 'bear_D', 'bull_W', 'bear_W', 'bull_M', 'bear_M', 'LMKT', 'IVOL']"
   ]
  },
  {
   "cell_type": "code",
   "execution_count": 4,
   "id": "2e7f05fd",
   "metadata": {
    "execution": {
     "iopub.execute_input": "2024-02-21T09:33:06.677691Z",
     "iopub.status.busy": "2024-02-21T09:33:06.677323Z",
     "iopub.status.idle": "2024-02-21T09:33:07.617953Z",
     "shell.execute_reply": "2024-02-21T09:33:07.616718Z"
    },
    "papermill": {
     "duration": 0.95335,
     "end_time": "2024-02-21T09:33:07.620684",
     "exception": false,
     "start_time": "2024-02-21T09:33:06.667334",
     "status": "completed"
    },
    "tags": []
   },
   "outputs": [],
   "source": [
    "# Convert 'date' to datetime format (if not already done) and sort the DataFrame\n",
    "df['date'] = pd.to_datetime(df['date'])\n",
    "df.sort_values(by='date', inplace=True)\n",
    "df.reset_index(drop=True, inplace=True)\n",
    "\n",
    "# Create a 'year' column based on the 'date' column\n",
    "df['year'] = df['date'].dt.year"
   ]
  },
  {
   "cell_type": "markdown",
   "id": "254a2dfb",
   "metadata": {
    "papermill": {
     "duration": 0.008264,
     "end_time": "2024-02-21T09:33:07.638486",
     "exception": false,
     "start_time": "2024-02-21T09:33:07.630222",
     "status": "completed"
    },
    "tags": []
   },
   "source": [
    "# Paper Replication - OLS and Logit, Expanding Window - No Hyperparameters\n",
    "- They start with out of sample forecasting in 1932\n",
    "- models will be named model_default"
   ]
  },
  {
   "cell_type": "markdown",
   "id": "ab792f97",
   "metadata": {
    "papermill": {
     "duration": 0.009342,
     "end_time": "2024-02-21T09:33:07.656462",
     "exception": false,
     "start_time": "2024-02-21T09:33:07.647120",
     "status": "completed"
    },
    "tags": []
   },
   "source": [
    "# My Experiments"
   ]
  },
  {
   "cell_type": "markdown",
   "id": "67b6d6ba",
   "metadata": {
    "papermill": {
     "duration": 0.008153,
     "end_time": "2024-02-21T09:33:07.673237",
     "exception": false,
     "start_time": "2024-02-21T09:33:07.665084",
     "status": "completed"
    },
    "tags": []
   },
   "source": [
    "## Machine Learning - Hyperparameter Tuning included in the process\n",
    "- models to be named 'model_clas/reg_exp/roll'"
   ]
  },
  {
   "cell_type": "markdown",
   "id": "86129e03",
   "metadata": {
    "papermill": {
     "duration": 0.008119,
     "end_time": "2024-02-21T09:33:07.689964",
     "exception": false,
     "start_time": "2024-02-21T09:33:07.681845",
     "status": "completed"
    },
    "tags": []
   },
   "source": [
    "##### 10 years"
   ]
  },
  {
   "cell_type": "code",
   "execution_count": 5,
   "id": "6ae5373a",
   "metadata": {
    "execution": {
     "iopub.execute_input": "2024-02-21T09:33:07.709549Z",
     "iopub.status.busy": "2024-02-21T09:33:07.709116Z",
     "iopub.status.idle": "2024-02-21T09:33:07.714083Z",
     "shell.execute_reply": "2024-02-21T09:33:07.712870Z"
    },
    "papermill": {
     "duration": 0.018033,
     "end_time": "2024-02-21T09:33:07.716392",
     "exception": false,
     "start_time": "2024-02-21T09:33:07.698359",
     "status": "completed"
    },
    "tags": []
   },
   "outputs": [],
   "source": [
    "rolling_window = 10"
   ]
  },
  {
   "cell_type": "code",
   "execution_count": null,
   "id": "dc6c4920",
   "metadata": {
    "papermill": {
     "duration": 0.009152,
     "end_time": "2024-02-21T09:33:07.734561",
     "exception": false,
     "start_time": "2024-02-21T09:33:07.725409",
     "status": "completed"
    },
    "tags": []
   },
   "outputs": [],
   "source": []
  },
  {
   "cell_type": "markdown",
   "id": "0c422b1b",
   "metadata": {
    "papermill": {
     "duration": 0.008668,
     "end_time": "2024-02-21T09:33:07.752072",
     "exception": false,
     "start_time": "2024-02-21T09:33:07.743404",
     "status": "completed"
    },
    "tags": []
   },
   "source": [
    "##### 20 years"
   ]
  },
  {
   "cell_type": "code",
   "execution_count": 6,
   "id": "4bec7b06",
   "metadata": {
    "execution": {
     "iopub.execute_input": "2024-02-21T09:33:07.773206Z",
     "iopub.status.busy": "2024-02-21T09:33:07.772522Z",
     "iopub.status.idle": "2024-02-21T09:33:07.778431Z",
     "shell.execute_reply": "2024-02-21T09:33:07.776561Z"
    },
    "papermill": {
     "duration": 0.019612,
     "end_time": "2024-02-21T09:33:07.780672",
     "exception": false,
     "start_time": "2024-02-21T09:33:07.761060",
     "status": "completed"
    },
    "tags": []
   },
   "outputs": [],
   "source": [
    "rolling_window = 20"
   ]
  },
  {
   "cell_type": "code",
   "execution_count": 7,
   "id": "7de644d1",
   "metadata": {
    "execution": {
     "iopub.execute_input": "2024-02-21T09:33:07.803474Z",
     "iopub.status.busy": "2024-02-21T09:33:07.801396Z",
     "iopub.status.idle": "2024-02-21T12:41:02.712116Z",
     "shell.execute_reply": "2024-02-21T12:41:02.710856Z"
    },
    "papermill": {
     "duration": 11274.942174,
     "end_time": "2024-02-21T12:41:02.733092",
     "exception": false,
     "start_time": "2024-02-21T09:33:07.790918",
     "status": "completed"
    },
    "tags": []
   },
   "outputs": [
    {
     "name": "stdout",
     "output_type": "stream",
     "text": [
      "Year 1933 - Best n_estimators: 50, Best max_depth: 15, Best MSE: 0.09, Time: 5.92 seconds\n",
      "Year 1934 - Best n_estimators: 100, Best max_depth: 15, Best MSE: 0.09, Time: 7.22 seconds\n",
      "Year 1935 - Best n_estimators: 100, Best max_depth: 15, Best MSE: 0.1, Time: 8.52 seconds\n",
      "Year 1936 - Best n_estimators: 100, Best max_depth: 15, Best MSE: 0.11, Time: 9.28 seconds\n",
      "Year 1937 - Best n_estimators: 100, Best max_depth: 15, Best MSE: 0.1, Time: 10.42 seconds\n",
      "Year 1938 - Best n_estimators: 100, Best max_depth: 15, Best MSE: 0.08, Time: 12.02 seconds\n",
      "Year 1939 - Best n_estimators: 50, Best max_depth: 15, Best MSE: 0.08, Time: 11.52 seconds\n",
      "Year 1940 - Best n_estimators: 10, Best max_depth: 15, Best MSE: 0.08, Time: 11.45 seconds\n",
      "Year 1941 - Best n_estimators: 100, Best max_depth: 15, Best MSE: 0.11, Time: 15.61 seconds\n",
      "Year 1942 - Best n_estimators: 10, Best max_depth: 15, Best MSE: 0.12, Time: 13.53 seconds\n",
      "Year 1943 - Best n_estimators: 10, Best max_depth: 15, Best MSE: 0.11, Time: 14.95 seconds\n",
      "Year 1944 - Best n_estimators: 50, Best max_depth: 15, Best MSE: 0.1, Time: 17.86 seconds\n",
      "Year 1945 - Best n_estimators: 50, Best max_depth: 15, Best MSE: 0.11, Time: 19.70 seconds\n",
      "Year 1946 - Best n_estimators: 50, Best max_depth: 15, Best MSE: 0.08, Time: 21.14 seconds\n",
      "Year 1947 - Best n_estimators: 10, Best max_depth: 15, Best MSE: 0.08, Time: 19.42 seconds\n",
      "Year 1948 - Best n_estimators: 100, Best max_depth: 15, Best MSE: 0.11, Time: 24.88 seconds\n",
      "Year 1949 - Best n_estimators: 100, Best max_depth: 15, Best MSE: 0.1, Time: 25.15 seconds\n",
      "Year 1950 - Best n_estimators: 50, Best max_depth: 15, Best MSE: 0.12, Time: 23.04 seconds\n",
      "Year 1951 - Best n_estimators: 10, Best max_depth: 15, Best MSE: 0.1, Time: 21.37 seconds\n",
      "Year 1952 - Best n_estimators: 10, Best max_depth: 15, Best MSE: 0.09, Time: 21.86 seconds\n",
      "Year 1953 - Best n_estimators: 100, Best max_depth: 15, Best MSE: 0.1, Time: 27.62 seconds\n",
      "Year 1954 - Best n_estimators: 100, Best max_depth: 15, Best MSE: 0.1, Time: 28.19 seconds\n",
      "Year 1955 - Best n_estimators: 50, Best max_depth: 15, Best MSE: 0.09, Time: 25.34 seconds\n",
      "Year 1956 - Best n_estimators: 100, Best max_depth: 15, Best MSE: 0.11, Time: 29.58 seconds\n",
      "Year 1957 - Best n_estimators: 100, Best max_depth: 15, Best MSE: 0.1, Time: 30.05 seconds\n",
      "Year 1958 - Best n_estimators: 100, Best max_depth: 15, Best MSE: 0.1, Time: 30.80 seconds\n",
      "Year 1959 - Best n_estimators: 100, Best max_depth: 15, Best MSE: 0.09, Time: 30.84 seconds\n",
      "Year 1960 - Best n_estimators: 100, Best max_depth: 15, Best MSE: 0.1, Time: 31.49 seconds\n",
      "Year 1961 - Best n_estimators: 100, Best max_depth: 15, Best MSE: 0.1, Time: 32.22 seconds\n",
      "Year 1962 - Best n_estimators: 100, Best max_depth: 15, Best MSE: 0.09, Time: 32.25 seconds\n",
      "Year 1963 - Best n_estimators: 100, Best max_depth: 15, Best MSE: 0.09, Time: 33.20 seconds\n",
      "Year 1964 - Best n_estimators: 100, Best max_depth: 15, Best MSE: 0.11, Time: 34.49 seconds\n",
      "Year 1965 - Best n_estimators: 10, Best max_depth: 15, Best MSE: 0.12, Time: 30.52 seconds\n",
      "Year 1966 - Best n_estimators: 10, Best max_depth: 15, Best MSE: 0.11, Time: 32.96 seconds\n",
      "Year 1967 - Best n_estimators: 100, Best max_depth: 15, Best MSE: 0.1, Time: 43.85 seconds\n",
      "Year 1968 - Best n_estimators: 50, Best max_depth: 15, Best MSE: 0.09, Time: 42.44 seconds\n",
      "Year 1969 - Best n_estimators: 50, Best max_depth: 15, Best MSE: 0.1, Time: 43.87 seconds\n",
      "Year 1970 - Best n_estimators: 50, Best max_depth: 15, Best MSE: 0.08, Time: 46.36 seconds\n",
      "Year 1971 - Best n_estimators: 50, Best max_depth: 15, Best MSE: 0.1, Time: 48.64 seconds\n",
      "Year 1972 - Best n_estimators: 100, Best max_depth: 15, Best MSE: 0.09, Time: 57.60 seconds\n",
      "Year 1973 - Best n_estimators: 100, Best max_depth: 15, Best MSE: 0.1, Time: 59.49 seconds\n",
      "Year 1974 - Best n_estimators: 50, Best max_depth: 15, Best MSE: 0.1, Time: 56.55 seconds\n",
      "Year 1975 - Best n_estimators: 10, Best max_depth: 15, Best MSE: 0.13, Time: 60.16 seconds\n",
      "Year 1976 - Best n_estimators: 100, Best max_depth: 15, Best MSE: 0.13, Time: 85.23 seconds\n",
      "Year 1977 - Best n_estimators: 100, Best max_depth: 15, Best MSE: 0.11, Time: 93.57 seconds\n",
      "Year 1978 - Best n_estimators: 10, Best max_depth: 15, Best MSE: 0.12, Time: 84.97 seconds\n",
      "Year 1979 - Best n_estimators: 50, Best max_depth: 15, Best MSE: 0.11, Time: 102.69 seconds\n",
      "Year 1980 - Best n_estimators: 100, Best max_depth: 15, Best MSE: 0.11, Time: 123.17 seconds\n",
      "Year 1981 - Best n_estimators: 50, Best max_depth: 15, Best MSE: 0.1, Time: 116.10 seconds\n",
      "Year 1982 - Best n_estimators: 50, Best max_depth: 15, Best MSE: 0.11, Time: 123.34 seconds\n",
      "Year 1983 - Best n_estimators: 10, Best max_depth: 15, Best MSE: 0.11, Time: 118.34 seconds\n",
      "Year 1984 - Best n_estimators: 100, Best max_depth: 15, Best MSE: 0.11, Time: 153.46 seconds\n",
      "Year 1985 - Best n_estimators: 100, Best max_depth: 15, Best MSE: 0.11, Time: 162.19 seconds\n",
      "Year 1986 - Best n_estimators: 50, Best max_depth: 15, Best MSE: 0.11, Time: 154.69 seconds\n",
      "Year 1987 - Best n_estimators: 100, Best max_depth: 15, Best MSE: 0.11, Time: 177.02 seconds\n",
      "Year 1988 - Best n_estimators: 50, Best max_depth: 15, Best MSE: 0.11, Time: 173.95 seconds\n",
      "Year 1989 - Best n_estimators: 100, Best max_depth: 15, Best MSE: 0.12, Time: 197.82 seconds\n",
      "Year 1990 - Best n_estimators: 50, Best max_depth: 15, Best MSE: 0.11, Time: 195.31 seconds\n",
      "Year 1991 - Best n_estimators: 50, Best max_depth: 15, Best MSE: 0.11, Time: 200.28 seconds\n",
      "Year 1992 - Best n_estimators: 100, Best max_depth: 15, Best MSE: 0.11, Time: 237.42 seconds\n",
      "Year 1993 - Best n_estimators: 100, Best max_depth: 15, Best MSE: 0.12, Time: 242.51 seconds\n",
      "Year 1994 - Best n_estimators: 50, Best max_depth: 15, Best MSE: 0.12, Time: 218.56 seconds\n",
      "Year 1995 - Best n_estimators: 100, Best max_depth: 15, Best MSE: 0.12, Time: 246.47 seconds\n",
      "Year 1996 - Best n_estimators: 100, Best max_depth: 15, Best MSE: 0.12, Time: 257.00 seconds\n",
      "Year 1997 - Best n_estimators: 50, Best max_depth: 15, Best MSE: 0.11, Time: 237.45 seconds\n",
      "Year 1998 - Best n_estimators: 100, Best max_depth: 15, Best MSE: 0.1, Time: 275.04 seconds\n",
      "Year 1999 - Best n_estimators: 50, Best max_depth: 15, Best MSE: 0.1, Time: 251.45 seconds\n",
      "Year 2000 - Best n_estimators: 50, Best max_depth: 15, Best MSE: 0.11, Time: 256.91 seconds\n",
      "Year 2001 - Best n_estimators: 100, Best max_depth: 15, Best MSE: 0.1, Time: 300.73 seconds\n",
      "Year 2002 - Best n_estimators: 50, Best max_depth: 15, Best MSE: 0.11, Time: 270.79 seconds\n",
      "Year 2003 - Best n_estimators: 50, Best max_depth: 15, Best MSE: 0.1, Time: 274.32 seconds\n",
      "Year 2004 - Best n_estimators: 100, Best max_depth: 15, Best MSE: 0.1, Time: 304.32 seconds\n",
      "Year 2005 - Best n_estimators: 100, Best max_depth: 15, Best MSE: 0.1, Time: 302.94 seconds\n",
      "Year 2006 - Best n_estimators: 100, Best max_depth: 15, Best MSE: 0.09, Time: 301.82 seconds\n",
      "Year 2007 - Best n_estimators: 50, Best max_depth: 15, Best MSE: 0.1, Time: 269.58 seconds\n",
      "Year 2008 - Best n_estimators: 100, Best max_depth: 15, Best MSE: 0.1, Time: 296.34 seconds\n",
      "Year 2009 - Best n_estimators: 50, Best max_depth: 15, Best MSE: 0.09, Time: 262.47 seconds\n",
      "Year 2010 - Best n_estimators: 100, Best max_depth: 15, Best MSE: 0.1, Time: 290.95 seconds\n",
      "Year 2011 - Best n_estimators: 50, Best max_depth: 15, Best MSE: 0.09, Time: 259.20 seconds\n",
      "Year 2012 - Best n_estimators: 100, Best max_depth: 15, Best MSE: 0.1, Time: 284.43 seconds\n",
      "Year 2013 - Best n_estimators: 50, Best max_depth: 15, Best MSE: 0.1, Time: 246.73 seconds\n",
      "Year 2014 - Best n_estimators: 100, Best max_depth: 15, Best MSE: 0.09, Time: 263.83 seconds\n",
      "Year 2015 - Best n_estimators: 100, Best max_depth: 15, Best MSE: 0.09, Time: 254.70 seconds\n",
      "Year 2016 - Best n_estimators: 10, Best max_depth: 15, Best MSE: 0.1, Time: 200.91 seconds\n",
      "Year 2017 - Best n_estimators: 50, Best max_depth: 15, Best MSE: 0.09, Time: 216.55 seconds\n",
      "Year 2018 - Best n_estimators: 100, Best max_depth: 15, Best MSE: 0.1, Time: 225.74 seconds\n",
      "Year 2019 - Best n_estimators: 100, Best max_depth: 15, Best MSE: 0.09, Time: 213.94 seconds\n",
      "Year 2020 - Best n_estimators: 50, Best max_depth: 15, Best MSE: 0.09, Time: 182.97 seconds\n",
      "Year 2021 - Best n_estimators: 100, Best max_depth: 15, Best MSE: 0.09, Time: 195.35 seconds\n",
      "Year 2022 - Best n_estimators: 50, Best max_depth: 15, Best MSE: 0.1, Time: 167.94 seconds\n",
      "Total time: 11274.89 seconds\n"
     ]
    }
   ],
   "source": [
    "############################################\n",
    "# RF CLASSIFICATION MODEL - ACCURACY\n",
    "############################################\n",
    "\n",
    "model_name = 'RF_class_roll20_MSE'\n",
    "start_time2 = time.time()\n",
    "\n",
    "# Predefined set of max_depth values for hyperparameter tuning\n",
    "# Define the hyperparameters to test\n",
    "HP1 = [10, 50, 100]  # n_estimators\n",
    "HP2 = [5, 10, 15]  # max_depth (None means no limit)\n",
    "\n",
    "# Update the column name for storing Decision Tree regression predictions\n",
    "df[model_name] = np.nan\n",
    "\n",
    "# Ensure the new column is in the prediction_cols list\n",
    "if model_name not in prediction_cols:\n",
    "    prediction_cols.append(model_name)\n",
    "\n",
    "start_modeling_year = df['year'].min() + 7\n",
    "\n",
    "for year in range(start_modeling_year, df['year'].max() + 1):\n",
    "    start_time = time.time()  # Timing each iteration\n",
    "    \n",
    "    train_start_year = max(year - rolling_window, df['year'].min())\n",
    "    train_data = df[(df['year'] >= train_start_year) & (df['year'] < year)]\n",
    "    \n",
    "    tuning_data = train_data[train_data['year'] == year - 1]\n",
    "    actual_train_data = train_data[train_data['year'] < year - 1]\n",
    "    \n",
    "    X_train = actual_train_data[X_col]\n",
    "    y_train = actual_train_data['y']\n",
    "    \n",
    "    X_tune = tuning_data[X_col]\n",
    "    y_tune = tuning_data['y']\n",
    "    \n",
    "    best_HP1 = None\n",
    "    best_HP2 = None\n",
    "    best_mse = float('inf')\n",
    "\n",
    "    # Hyperparameter tuning\n",
    "    for hp1 in HP1:\n",
    "        for hp2 in HP2:\n",
    "            model = RandomForestClassifier(n_estimators=hp1, max_depth=hp2, random_state=42, n_jobs=-1)\n",
    "            model.fit(X_train, y_train)\n",
    "            probabilities = model.predict_proba(X_tune)[:, 1]\n",
    "            mse = mean_squared_error(y_tune, probabilities)  # Calculate MSE\n",
    "        \n",
    "        if mse < best_mse:  # Lower MSE is better\n",
    "            best_mse = mse\n",
    "            best_HP1 = hp1\n",
    "            best_HP2 = hp2\n",
    "    \n",
    "    # Retrain on the entire training window with the best max_depth value\n",
    "    model = model = RandomForestClassifier(n_estimators=best_HP1, max_depth=best_HP2, random_state=42, n_jobs=-1)\n",
    "    model.fit(X_train, y_train)\n",
    "    \n",
    "    # Predict for the next year\n",
    "    next_year_data = df[df['year'] == year]\n",
    "    X_next_year = next_year_data[X_col]\n",
    "    \n",
    "    if not X_next_year.empty:\n",
    "        next_year_predictions = model.predict_proba(X_next_year)[:, 1]\n",
    "        df.loc[df['year'] == year, model_name] = next_year_predictions\n",
    "    \n",
    "    end_time = time.time()\n",
    "    iteration_time = end_time - start_time\n",
    "    \n",
    "    print(f\"Year {year} - Best n_estimators: {best_HP1}, Best max_depth: {best_HP2 if best_HP2 is not None else 'None'}, Best MSE: {round(best_mse, 2)}, Time: {iteration_time:.2f} seconds\")\n",
    "\n",
    "end_time2 = time.time()\n",
    "print(f\"Total time: {end_time2 - start_time2:.2f} seconds\")"
   ]
  },
  {
   "cell_type": "markdown",
   "id": "65f62478",
   "metadata": {
    "papermill": {
     "duration": 0.017836,
     "end_time": "2024-02-21T12:41:02.769082",
     "exception": false,
     "start_time": "2024-02-21T12:41:02.751246",
     "status": "completed"
    },
    "tags": []
   },
   "source": [
    "## Forming Portfolios, Value-weighted portfolio returns"
   ]
  },
  {
   "cell_type": "code",
   "execution_count": 8,
   "id": "5fc8e317",
   "metadata": {
    "execution": {
     "iopub.execute_input": "2024-02-21T12:41:02.808345Z",
     "iopub.status.busy": "2024-02-21T12:41:02.807605Z",
     "iopub.status.idle": "2024-02-21T12:41:02.829300Z",
     "shell.execute_reply": "2024-02-21T12:41:02.828328Z"
    },
    "papermill": {
     "duration": 0.045294,
     "end_time": "2024-02-21T12:41:02.831665",
     "exception": false,
     "start_time": "2024-02-21T12:41:02.786371",
     "status": "completed"
    },
    "tags": []
   },
   "outputs": [
    {
     "data": {
      "text/html": [
       "<div>\n",
       "<style scoped>\n",
       "    .dataframe tbody tr th:only-of-type {\n",
       "        vertical-align: middle;\n",
       "    }\n",
       "\n",
       "    .dataframe tbody tr th {\n",
       "        vertical-align: top;\n",
       "    }\n",
       "\n",
       "    .dataframe thead th {\n",
       "        text-align: right;\n",
       "    }\n",
       "</style>\n",
       "<table border=\"1\" class=\"dataframe\">\n",
       "  <thead>\n",
       "    <tr style=\"text-align: right;\">\n",
       "      <th></th>\n",
       "      <th>PERMNO</th>\n",
       "      <th>date</th>\n",
       "      <th>RET</th>\n",
       "      <th>ME</th>\n",
       "      <th>bull_D</th>\n",
       "      <th>bear_D</th>\n",
       "      <th>bull_W</th>\n",
       "      <th>bear_W</th>\n",
       "      <th>bull_M</th>\n",
       "      <th>bear_M</th>\n",
       "      <th>LMKT</th>\n",
       "      <th>IVOL</th>\n",
       "      <th>y</th>\n",
       "      <th>year</th>\n",
       "      <th>RF_class_roll20_MSE</th>\n",
       "    </tr>\n",
       "  </thead>\n",
       "  <tbody>\n",
       "    <tr>\n",
       "      <th>0</th>\n",
       "      <td>11148</td>\n",
       "      <td>1926-08-31</td>\n",
       "      <td>0.109924</td>\n",
       "      <td>76287.5</td>\n",
       "      <td>1.0</td>\n",
       "      <td>0.0</td>\n",
       "      <td>4.0</td>\n",
       "      <td>0.0</td>\n",
       "      <td>0</td>\n",
       "      <td>0</td>\n",
       "      <td>0.0318</td>\n",
       "      <td>0.000040</td>\n",
       "      <td>1</td>\n",
       "      <td>1926</td>\n",
       "      <td>NaN</td>\n",
       "    </tr>\n",
       "    <tr>\n",
       "      <th>1</th>\n",
       "      <td>10874</td>\n",
       "      <td>1926-08-31</td>\n",
       "      <td>0.168142</td>\n",
       "      <td>16500.0</td>\n",
       "      <td>0.0</td>\n",
       "      <td>0.0</td>\n",
       "      <td>2.0</td>\n",
       "      <td>0.0</td>\n",
       "      <td>2</td>\n",
       "      <td>0</td>\n",
       "      <td>0.0318</td>\n",
       "      <td>0.000537</td>\n",
       "      <td>1</td>\n",
       "      <td>1926</td>\n",
       "      <td>NaN</td>\n",
       "    </tr>\n",
       "    <tr>\n",
       "      <th>2</th>\n",
       "      <td>12968</td>\n",
       "      <td>1926-08-31</td>\n",
       "      <td>-0.006464</td>\n",
       "      <td>55683.0</td>\n",
       "      <td>0.0</td>\n",
       "      <td>0.0</td>\n",
       "      <td>0.0</td>\n",
       "      <td>0.0</td>\n",
       "      <td>0</td>\n",
       "      <td>0</td>\n",
       "      <td>0.0318</td>\n",
       "      <td>0.000007</td>\n",
       "      <td>0</td>\n",
       "      <td>1926</td>\n",
       "      <td>NaN</td>\n",
       "    </tr>\n",
       "    <tr>\n",
       "      <th>3</th>\n",
       "      <td>12976</td>\n",
       "      <td>1926-08-31</td>\n",
       "      <td>0.156041</td>\n",
       "      <td>41650.0</td>\n",
       "      <td>1.0</td>\n",
       "      <td>0.0</td>\n",
       "      <td>0.0</td>\n",
       "      <td>0.0</td>\n",
       "      <td>0</td>\n",
       "      <td>0</td>\n",
       "      <td>0.0318</td>\n",
       "      <td>0.000070</td>\n",
       "      <td>1</td>\n",
       "      <td>1926</td>\n",
       "      <td>NaN</td>\n",
       "    </tr>\n",
       "    <tr>\n",
       "      <th>4</th>\n",
       "      <td>12984</td>\n",
       "      <td>1926-08-31</td>\n",
       "      <td>0.046875</td>\n",
       "      <td>11323.0</td>\n",
       "      <td>1.0</td>\n",
       "      <td>0.0</td>\n",
       "      <td>0.0</td>\n",
       "      <td>0.0</td>\n",
       "      <td>0</td>\n",
       "      <td>0</td>\n",
       "      <td>0.0318</td>\n",
       "      <td>0.000874</td>\n",
       "      <td>1</td>\n",
       "      <td>1926</td>\n",
       "      <td>NaN</td>\n",
       "    </tr>\n",
       "  </tbody>\n",
       "</table>\n",
       "</div>"
      ],
      "text/plain": [
       "   PERMNO       date       RET       ME  bull_D  bear_D  bull_W  bear_W  \\\n",
       "0   11148 1926-08-31  0.109924  76287.5     1.0     0.0     4.0     0.0   \n",
       "1   10874 1926-08-31  0.168142  16500.0     0.0     0.0     2.0     0.0   \n",
       "2   12968 1926-08-31 -0.006464  55683.0     0.0     0.0     0.0     0.0   \n",
       "3   12976 1926-08-31  0.156041  41650.0     1.0     0.0     0.0     0.0   \n",
       "4   12984 1926-08-31  0.046875  11323.0     1.0     0.0     0.0     0.0   \n",
       "\n",
       "   bull_M  bear_M    LMKT      IVOL  y  year  RF_class_roll20_MSE  \n",
       "0       0       0  0.0318  0.000040  1  1926                  NaN  \n",
       "1       2       0  0.0318  0.000537  1  1926                  NaN  \n",
       "2       0       0  0.0318  0.000007  0  1926                  NaN  \n",
       "3       0       0  0.0318  0.000070  1  1926                  NaN  \n",
       "4       0       0  0.0318  0.000874  1  1926                  NaN  "
      ]
     },
     "execution_count": 8,
     "metadata": {},
     "output_type": "execute_result"
    }
   ],
   "source": [
    "df.head()"
   ]
  },
  {
   "cell_type": "code",
   "execution_count": 9,
   "id": "29111905",
   "metadata": {
    "execution": {
     "iopub.execute_input": "2024-02-21T12:41:02.869741Z",
     "iopub.status.busy": "2024-02-21T12:41:02.869083Z",
     "iopub.status.idle": "2024-02-21T12:41:02.875162Z",
     "shell.execute_reply": "2024-02-21T12:41:02.873860Z"
    },
    "papermill": {
     "duration": 0.027974,
     "end_time": "2024-02-21T12:41:02.877740",
     "exception": false,
     "start_time": "2024-02-21T12:41:02.849766",
     "status": "completed"
    },
    "tags": []
   },
   "outputs": [
    {
     "data": {
      "text/plain": [
       "['RF_class_roll20_MSE']"
      ]
     },
     "execution_count": 9,
     "metadata": {},
     "output_type": "execute_result"
    }
   ],
   "source": [
    "prediction_cols\n",
    "# prediction_cols = ['logit_default','OLS_default','logit_roll6','DT_reg_roll']"
   ]
  },
  {
   "cell_type": "code",
   "execution_count": 10,
   "id": "a1a08d9d",
   "metadata": {
    "execution": {
     "iopub.execute_input": "2024-02-21T12:41:02.915201Z",
     "iopub.status.busy": "2024-02-21T12:41:02.914751Z",
     "iopub.status.idle": "2024-02-21T12:41:03.357176Z",
     "shell.execute_reply": "2024-02-21T12:41:03.355744Z"
    },
    "papermill": {
     "duration": 0.464302,
     "end_time": "2024-02-21T12:41:03.359827",
     "exception": false,
     "start_time": "2024-02-21T12:41:02.895525",
     "status": "completed"
    },
    "tags": []
   },
   "outputs": [
    {
     "data": {
      "text/html": [
       "<div>\n",
       "<style scoped>\n",
       "    .dataframe tbody tr th:only-of-type {\n",
       "        vertical-align: middle;\n",
       "    }\n",
       "\n",
       "    .dataframe tbody tr th {\n",
       "        vertical-align: top;\n",
       "    }\n",
       "\n",
       "    .dataframe thead th {\n",
       "        text-align: right;\n",
       "    }\n",
       "</style>\n",
       "<table border=\"1\" class=\"dataframe\">\n",
       "  <thead>\n",
       "    <tr style=\"text-align: right;\">\n",
       "      <th></th>\n",
       "      <th>date</th>\n",
       "      <th>RET</th>\n",
       "      <th>ME</th>\n",
       "      <th>y</th>\n",
       "      <th>RF_class_roll20_MSE</th>\n",
       "    </tr>\n",
       "  </thead>\n",
       "  <tbody>\n",
       "    <tr>\n",
       "      <th>49083</th>\n",
       "      <td>1933-01-31</td>\n",
       "      <td>0.036765</td>\n",
       "      <td>31918.875</td>\n",
       "      <td>1</td>\n",
       "      <td>1.000000</td>\n",
       "    </tr>\n",
       "    <tr>\n",
       "      <th>49084</th>\n",
       "      <td>1933-01-31</td>\n",
       "      <td>0.121849</td>\n",
       "      <td>7142.250</td>\n",
       "      <td>1</td>\n",
       "      <td>0.438702</td>\n",
       "    </tr>\n",
       "    <tr>\n",
       "      <th>49085</th>\n",
       "      <td>1933-01-31</td>\n",
       "      <td>0.015625</td>\n",
       "      <td>1560.000</td>\n",
       "      <td>1</td>\n",
       "      <td>1.000000</td>\n",
       "    </tr>\n",
       "    <tr>\n",
       "      <th>49086</th>\n",
       "      <td>1933-01-31</td>\n",
       "      <td>-0.084337</td>\n",
       "      <td>4275.000</td>\n",
       "      <td>0</td>\n",
       "      <td>0.000000</td>\n",
       "    </tr>\n",
       "    <tr>\n",
       "      <th>49087</th>\n",
       "      <td>1933-01-31</td>\n",
       "      <td>-0.037500</td>\n",
       "      <td>447581.750</td>\n",
       "      <td>0</td>\n",
       "      <td>0.242858</td>\n",
       "    </tr>\n",
       "  </tbody>\n",
       "</table>\n",
       "</div>"
      ],
      "text/plain": [
       "            date       RET          ME  y  RF_class_roll20_MSE\n",
       "49083 1933-01-31  0.036765   31918.875  1             1.000000\n",
       "49084 1933-01-31  0.121849    7142.250  1             0.438702\n",
       "49085 1933-01-31  0.015625    1560.000  1             1.000000\n",
       "49086 1933-01-31 -0.084337    4275.000  0             0.000000\n",
       "49087 1933-01-31 -0.037500  447581.750  0             0.242858"
      ]
     },
     "execution_count": 10,
     "metadata": {},
     "output_type": "execute_result"
    }
   ],
   "source": [
    "portfolio = df[['date', 'RET', 'ME', 'y'] + prediction_cols].copy()\n",
    "portfolio['date'] = pd.to_datetime(portfolio['date'])\n",
    "\n",
    "# drop rows with missing values\n",
    "portfolio.dropna(inplace=True)\n",
    "\n",
    "portfolio.head()"
   ]
  },
  {
   "cell_type": "code",
   "execution_count": 11,
   "id": "7fefd8d5",
   "metadata": {
    "execution": {
     "iopub.execute_input": "2024-02-21T12:41:03.398555Z",
     "iopub.status.busy": "2024-02-21T12:41:03.398158Z",
     "iopub.status.idle": "2024-02-21T12:41:03.412011Z",
     "shell.execute_reply": "2024-02-21T12:41:03.410806Z"
    },
    "papermill": {
     "duration": 0.035927,
     "end_time": "2024-02-21T12:41:03.414215",
     "exception": false,
     "start_time": "2024-02-21T12:41:03.378288",
     "status": "completed"
    },
    "tags": []
   },
   "outputs": [
    {
     "data": {
      "text/html": [
       "<div>\n",
       "<style scoped>\n",
       "    .dataframe tbody tr th:only-of-type {\n",
       "        vertical-align: middle;\n",
       "    }\n",
       "\n",
       "    .dataframe tbody tr th {\n",
       "        vertical-align: top;\n",
       "    }\n",
       "\n",
       "    .dataframe thead th {\n",
       "        text-align: right;\n",
       "    }\n",
       "</style>\n",
       "<table border=\"1\" class=\"dataframe\">\n",
       "  <thead>\n",
       "    <tr style=\"text-align: right;\">\n",
       "      <th></th>\n",
       "      <th>date</th>\n",
       "      <th>RET</th>\n",
       "      <th>ME</th>\n",
       "      <th>y</th>\n",
       "      <th>RF_class_roll20_MSE</th>\n",
       "    </tr>\n",
       "  </thead>\n",
       "  <tbody>\n",
       "    <tr>\n",
       "      <th>3627748</th>\n",
       "      <td>2022-07-31</td>\n",
       "      <td>-0.106939</td>\n",
       "      <td>3.731571e+06</td>\n",
       "      <td>0</td>\n",
       "      <td>0.782319</td>\n",
       "    </tr>\n",
       "    <tr>\n",
       "      <th>3627749</th>\n",
       "      <td>2022-07-31</td>\n",
       "      <td>0.020969</td>\n",
       "      <td>5.066263e+03</td>\n",
       "      <td>1</td>\n",
       "      <td>0.557103</td>\n",
       "    </tr>\n",
       "    <tr>\n",
       "      <th>3627750</th>\n",
       "      <td>2022-07-31</td>\n",
       "      <td>0.184785</td>\n",
       "      <td>1.280287e+06</td>\n",
       "      <td>1</td>\n",
       "      <td>0.986956</td>\n",
       "    </tr>\n",
       "    <tr>\n",
       "      <th>3627751</th>\n",
       "      <td>2022-07-31</td>\n",
       "      <td>0.108881</td>\n",
       "      <td>3.475711e+04</td>\n",
       "      <td>1</td>\n",
       "      <td>0.554190</td>\n",
       "    </tr>\n",
       "    <tr>\n",
       "      <th>3627752</th>\n",
       "      <td>2022-07-31</td>\n",
       "      <td>0.323765</td>\n",
       "      <td>9.311106e+08</td>\n",
       "      <td>1</td>\n",
       "      <td>0.900640</td>\n",
       "    </tr>\n",
       "  </tbody>\n",
       "</table>\n",
       "</div>"
      ],
      "text/plain": [
       "              date       RET            ME  y  RF_class_roll20_MSE\n",
       "3627748 2022-07-31 -0.106939  3.731571e+06  0             0.782319\n",
       "3627749 2022-07-31  0.020969  5.066263e+03  1             0.557103\n",
       "3627750 2022-07-31  0.184785  1.280287e+06  1             0.986956\n",
       "3627751 2022-07-31  0.108881  3.475711e+04  1             0.554190\n",
       "3627752 2022-07-31  0.323765  9.311106e+08  1             0.900640"
      ]
     },
     "execution_count": 11,
     "metadata": {},
     "output_type": "execute_result"
    }
   ],
   "source": [
    "portfolio.tail()"
   ]
  },
  {
   "cell_type": "code",
   "execution_count": 12,
   "id": "767f95e4",
   "metadata": {
    "execution": {
     "iopub.execute_input": "2024-02-21T12:41:03.455239Z",
     "iopub.status.busy": "2024-02-21T12:41:03.454862Z",
     "iopub.status.idle": "2024-02-21T12:41:06.955924Z",
     "shell.execute_reply": "2024-02-21T12:41:06.954827Z"
    },
    "papermill": {
     "duration": 3.525121,
     "end_time": "2024-02-21T12:41:06.958596",
     "exception": false,
     "start_time": "2024-02-21T12:41:03.433475",
     "status": "completed"
    },
    "tags": []
   },
   "outputs": [
    {
     "name": "stderr",
     "output_type": "stream",
     "text": [
      "/tmp/ipykernel_18/2999037948.py:15: DeprecationWarning: DataFrameGroupBy.apply operated on the grouping columns. This behavior is deprecated, and in a future version of pandas the grouping columns will be excluded from the operation. Either pass `include_groups=False` to exclude the groupings or explicitly select the grouping columns after groupby to silence this warning.\n",
      "  vwreturns_temp = portfolio.groupby('date').apply(lambda x: np.sum(x['RET'] * x['ME'] * x[position_col]) / np.sum(x['ME'])).reset_index(name=vwret_col)\n"
     ]
    }
   ],
   "source": [
    "# Initialize an empty DataFrame to store value-weighted returns for each model\n",
    "vwreturns = pd.DataFrame(portfolio['date'].unique(), columns=['date'])  # Ensures all dates are included\n",
    "\n",
    "for pred_col in prediction_cols:\n",
    "    # Calculate deciles for this prediction\n",
    "    decile_col = f'decile_{pred_col}'\n",
    "    portfolio[decile_col] = portfolio.groupby(['date'])[pred_col].transform(lambda x: pd.qcut(x, 10, labels=False, duplicates='drop'))\n",
    "    \n",
    "    # Determine position based on deciles\n",
    "    position_col = f'position_{pred_col}'\n",
    "    portfolio[position_col] = np.where(portfolio[decile_col] == 9, 1, np.where(portfolio[decile_col] == 0, -1, 0))\n",
    "    \n",
    "    # Calculate the value-weighted return for this prediction\n",
    "    vwret_col = f'vwreturn_{pred_col}'\n",
    "    vwreturns_temp = portfolio.groupby('date').apply(lambda x: np.sum(x['RET'] * x['ME'] * x[position_col]) / np.sum(x['ME'])).reset_index(name=vwret_col)\n",
    "    \n",
    "    # Merge the temporary value-weighted returns with the main vwreturns DataFrame\n",
    "    vwreturns = vwreturns.merge(vwreturns_temp, on='date', how='left')\n",
    "\n",
    "# Ensure the 'date' column is the first column and is sorted\n",
    "vwreturns = vwreturns.sort_values('date').reset_index(drop=True)\n"
   ]
  },
  {
   "cell_type": "code",
   "execution_count": 13,
   "id": "aae15d90",
   "metadata": {
    "execution": {
     "iopub.execute_input": "2024-02-21T12:41:06.998099Z",
     "iopub.status.busy": "2024-02-21T12:41:06.997659Z",
     "iopub.status.idle": "2024-02-21T12:41:07.008936Z",
     "shell.execute_reply": "2024-02-21T12:41:07.007805Z"
    },
    "papermill": {
     "duration": 0.033278,
     "end_time": "2024-02-21T12:41:07.011108",
     "exception": false,
     "start_time": "2024-02-21T12:41:06.977830",
     "status": "completed"
    },
    "tags": []
   },
   "outputs": [
    {
     "data": {
      "text/html": [
       "<div>\n",
       "<style scoped>\n",
       "    .dataframe tbody tr th:only-of-type {\n",
       "        vertical-align: middle;\n",
       "    }\n",
       "\n",
       "    .dataframe tbody tr th {\n",
       "        vertical-align: top;\n",
       "    }\n",
       "\n",
       "    .dataframe thead th {\n",
       "        text-align: right;\n",
       "    }\n",
       "</style>\n",
       "<table border=\"1\" class=\"dataframe\">\n",
       "  <thead>\n",
       "    <tr style=\"text-align: right;\">\n",
       "      <th></th>\n",
       "      <th>date</th>\n",
       "      <th>vwreturn_RF_class_roll20_MSE</th>\n",
       "    </tr>\n",
       "  </thead>\n",
       "  <tbody>\n",
       "    <tr>\n",
       "      <th>0</th>\n",
       "      <td>1933-01-31</td>\n",
       "      <td>0.005707</td>\n",
       "    </tr>\n",
       "    <tr>\n",
       "      <th>1</th>\n",
       "      <td>1933-02-28</td>\n",
       "      <td>0.065499</td>\n",
       "    </tr>\n",
       "    <tr>\n",
       "      <th>2</th>\n",
       "      <td>1933-03-31</td>\n",
       "      <td>0.026884</td>\n",
       "    </tr>\n",
       "    <tr>\n",
       "      <th>3</th>\n",
       "      <td>1933-04-30</td>\n",
       "      <td>-0.007553</td>\n",
       "    </tr>\n",
       "    <tr>\n",
       "      <th>4</th>\n",
       "      <td>1933-05-31</td>\n",
       "      <td>-0.003893</td>\n",
       "    </tr>\n",
       "  </tbody>\n",
       "</table>\n",
       "</div>"
      ],
      "text/plain": [
       "        date  vwreturn_RF_class_roll20_MSE\n",
       "0 1933-01-31                      0.005707\n",
       "1 1933-02-28                      0.065499\n",
       "2 1933-03-31                      0.026884\n",
       "3 1933-04-30                     -0.007553\n",
       "4 1933-05-31                     -0.003893"
      ]
     },
     "execution_count": 13,
     "metadata": {},
     "output_type": "execute_result"
    }
   ],
   "source": [
    "vwreturns.head()"
   ]
  },
  {
   "cell_type": "markdown",
   "id": "4abff3ee",
   "metadata": {
    "papermill": {
     "duration": 0.01896,
     "end_time": "2024-02-21T12:41:07.048689",
     "exception": false,
     "start_time": "2024-02-21T12:41:07.029729",
     "status": "completed"
    },
    "tags": []
   },
   "source": [
    "### Compare to market data"
   ]
  },
  {
   "cell_type": "code",
   "execution_count": 14,
   "id": "7a2ca12e",
   "metadata": {
    "execution": {
     "iopub.execute_input": "2024-02-21T12:41:07.088437Z",
     "iopub.status.busy": "2024-02-21T12:41:07.088036Z",
     "iopub.status.idle": "2024-02-21T12:41:07.114038Z",
     "shell.execute_reply": "2024-02-21T12:41:07.113059Z"
    },
    "papermill": {
     "duration": 0.049358,
     "end_time": "2024-02-21T12:41:07.116622",
     "exception": false,
     "start_time": "2024-02-21T12:41:07.067264",
     "status": "completed"
    },
    "tags": []
   },
   "outputs": [],
   "source": [
    "#market = pd.read_csv('FF3_clean.csv')\n",
    "market = pd.read_csv('/kaggle/input/sign-prediction-datasets/FF3_clean.csv')"
   ]
  },
  {
   "cell_type": "code",
   "execution_count": 15,
   "id": "f43425dd",
   "metadata": {
    "execution": {
     "iopub.execute_input": "2024-02-21T12:41:07.156735Z",
     "iopub.status.busy": "2024-02-21T12:41:07.156308Z",
     "iopub.status.idle": "2024-02-21T12:41:07.169327Z",
     "shell.execute_reply": "2024-02-21T12:41:07.168470Z"
    },
    "papermill": {
     "duration": 0.035719,
     "end_time": "2024-02-21T12:41:07.171379",
     "exception": false,
     "start_time": "2024-02-21T12:41:07.135660",
     "status": "completed"
    },
    "tags": []
   },
   "outputs": [
    {
     "data": {
      "text/html": [
       "<div>\n",
       "<style scoped>\n",
       "    .dataframe tbody tr th:only-of-type {\n",
       "        vertical-align: middle;\n",
       "    }\n",
       "\n",
       "    .dataframe tbody tr th {\n",
       "        vertical-align: top;\n",
       "    }\n",
       "\n",
       "    .dataframe thead th {\n",
       "        text-align: right;\n",
       "    }\n",
       "</style>\n",
       "<table border=\"1\" class=\"dataframe\">\n",
       "  <thead>\n",
       "    <tr style=\"text-align: right;\">\n",
       "      <th></th>\n",
       "      <th>date</th>\n",
       "      <th>Mkt-RF</th>\n",
       "      <th>SMB</th>\n",
       "      <th>HML</th>\n",
       "      <th>RF</th>\n",
       "    </tr>\n",
       "  </thead>\n",
       "  <tbody>\n",
       "    <tr>\n",
       "      <th>0</th>\n",
       "      <td>1926-07-31</td>\n",
       "      <td>2.96</td>\n",
       "      <td>-2.56</td>\n",
       "      <td>-2.43</td>\n",
       "      <td>0.22</td>\n",
       "    </tr>\n",
       "    <tr>\n",
       "      <th>1</th>\n",
       "      <td>1926-08-31</td>\n",
       "      <td>2.64</td>\n",
       "      <td>-1.17</td>\n",
       "      <td>3.82</td>\n",
       "      <td>0.25</td>\n",
       "    </tr>\n",
       "    <tr>\n",
       "      <th>2</th>\n",
       "      <td>1926-09-30</td>\n",
       "      <td>0.36</td>\n",
       "      <td>-1.40</td>\n",
       "      <td>0.13</td>\n",
       "      <td>0.23</td>\n",
       "    </tr>\n",
       "    <tr>\n",
       "      <th>3</th>\n",
       "      <td>1926-10-31</td>\n",
       "      <td>-3.24</td>\n",
       "      <td>-0.09</td>\n",
       "      <td>0.70</td>\n",
       "      <td>0.32</td>\n",
       "    </tr>\n",
       "    <tr>\n",
       "      <th>4</th>\n",
       "      <td>1926-11-30</td>\n",
       "      <td>2.53</td>\n",
       "      <td>-0.10</td>\n",
       "      <td>-0.51</td>\n",
       "      <td>0.31</td>\n",
       "    </tr>\n",
       "  </tbody>\n",
       "</table>\n",
       "</div>"
      ],
      "text/plain": [
       "         date  Mkt-RF   SMB   HML    RF\n",
       "0  1926-07-31    2.96 -2.56 -2.43  0.22\n",
       "1  1926-08-31    2.64 -1.17  3.82  0.25\n",
       "2  1926-09-30    0.36 -1.40  0.13  0.23\n",
       "3  1926-10-31   -3.24 -0.09  0.70  0.32\n",
       "4  1926-11-30    2.53 -0.10 -0.51  0.31"
      ]
     },
     "execution_count": 15,
     "metadata": {},
     "output_type": "execute_result"
    }
   ],
   "source": [
    "market.head()"
   ]
  },
  {
   "cell_type": "code",
   "execution_count": 16,
   "id": "10f2db46",
   "metadata": {
    "execution": {
     "iopub.execute_input": "2024-02-21T12:41:07.211711Z",
     "iopub.status.busy": "2024-02-21T12:41:07.211006Z",
     "iopub.status.idle": "2024-02-21T12:41:07.229748Z",
     "shell.execute_reply": "2024-02-21T12:41:07.228810Z"
    },
    "papermill": {
     "duration": 0.041957,
     "end_time": "2024-02-21T12:41:07.232408",
     "exception": false,
     "start_time": "2024-02-21T12:41:07.190451",
     "status": "completed"
    },
    "tags": []
   },
   "outputs": [],
   "source": [
    "# create a new 'Mkt' which is a sum of Mkt-RF and RF\n",
    "market['Mkt'] = market['Mkt-RF'] + market['RF']\n",
    "\n",
    "# divide all columns by 100 except 'date'\n",
    "market.iloc[:, 1:] = market.iloc[:, 1:] / 100\n",
    "\n",
    "#set the 'date' column to datetime format\n",
    "market['date'] = pd.to_datetime(market['date'])\n",
    "\n",
    "# merge the market data (only date and Mkt columns) with the vwreturns DataFrame\n",
    "vwreturns = vwreturns.merge(market[['date', 'Mkt']], on='date', how='left')\n",
    "\n",
    "# transform all columns (except 'date') to a log: log(x+1) and save the result as lvwreturns\n",
    "lvwreturns = vwreturns.copy()\n",
    "lvwreturns.iloc[:, 1:] = np.log(vwreturns.iloc[:, 1:] + 1)"
   ]
  },
  {
   "cell_type": "code",
   "execution_count": 17,
   "id": "55e163d1",
   "metadata": {
    "execution": {
     "iopub.execute_input": "2024-02-21T12:41:07.273089Z",
     "iopub.status.busy": "2024-02-21T12:41:07.272407Z",
     "iopub.status.idle": "2024-02-21T12:41:07.283831Z",
     "shell.execute_reply": "2024-02-21T12:41:07.282699Z"
    },
    "papermill": {
     "duration": 0.034771,
     "end_time": "2024-02-21T12:41:07.286525",
     "exception": false,
     "start_time": "2024-02-21T12:41:07.251754",
     "status": "completed"
    },
    "tags": []
   },
   "outputs": [
    {
     "data": {
      "text/html": [
       "<div>\n",
       "<style scoped>\n",
       "    .dataframe tbody tr th:only-of-type {\n",
       "        vertical-align: middle;\n",
       "    }\n",
       "\n",
       "    .dataframe tbody tr th {\n",
       "        vertical-align: top;\n",
       "    }\n",
       "\n",
       "    .dataframe thead th {\n",
       "        text-align: right;\n",
       "    }\n",
       "</style>\n",
       "<table border=\"1\" class=\"dataframe\">\n",
       "  <thead>\n",
       "    <tr style=\"text-align: right;\">\n",
       "      <th></th>\n",
       "      <th>date</th>\n",
       "      <th>vwreturn_RF_class_roll20_MSE</th>\n",
       "      <th>Mkt</th>\n",
       "    </tr>\n",
       "  </thead>\n",
       "  <tbody>\n",
       "    <tr>\n",
       "      <th>0</th>\n",
       "      <td>1933-01-31</td>\n",
       "      <td>0.005707</td>\n",
       "      <td>0.0126</td>\n",
       "    </tr>\n",
       "    <tr>\n",
       "      <th>1</th>\n",
       "      <td>1933-02-28</td>\n",
       "      <td>0.065499</td>\n",
       "      <td>-0.1527</td>\n",
       "    </tr>\n",
       "    <tr>\n",
       "      <th>2</th>\n",
       "      <td>1933-03-31</td>\n",
       "      <td>0.026884</td>\n",
       "      <td>0.0333</td>\n",
       "    </tr>\n",
       "    <tr>\n",
       "      <th>3</th>\n",
       "      <td>1933-04-30</td>\n",
       "      <td>-0.007553</td>\n",
       "      <td>0.3895</td>\n",
       "    </tr>\n",
       "    <tr>\n",
       "      <th>4</th>\n",
       "      <td>1933-05-31</td>\n",
       "      <td>-0.003893</td>\n",
       "      <td>0.2147</td>\n",
       "    </tr>\n",
       "  </tbody>\n",
       "</table>\n",
       "</div>"
      ],
      "text/plain": [
       "        date  vwreturn_RF_class_roll20_MSE     Mkt\n",
       "0 1933-01-31                      0.005707  0.0126\n",
       "1 1933-02-28                      0.065499 -0.1527\n",
       "2 1933-03-31                      0.026884  0.0333\n",
       "3 1933-04-30                     -0.007553  0.3895\n",
       "4 1933-05-31                     -0.003893  0.2147"
      ]
     },
     "execution_count": 17,
     "metadata": {},
     "output_type": "execute_result"
    }
   ],
   "source": [
    "vwreturns.head()"
   ]
  },
  {
   "cell_type": "code",
   "execution_count": 18,
   "id": "047cbc9a",
   "metadata": {
    "execution": {
     "iopub.execute_input": "2024-02-21T12:41:07.327552Z",
     "iopub.status.busy": "2024-02-21T12:41:07.327188Z",
     "iopub.status.idle": "2024-02-21T12:41:07.337922Z",
     "shell.execute_reply": "2024-02-21T12:41:07.336864Z"
    },
    "papermill": {
     "duration": 0.034219,
     "end_time": "2024-02-21T12:41:07.340421",
     "exception": false,
     "start_time": "2024-02-21T12:41:07.306202",
     "status": "completed"
    },
    "tags": []
   },
   "outputs": [
    {
     "data": {
      "text/html": [
       "<div>\n",
       "<style scoped>\n",
       "    .dataframe tbody tr th:only-of-type {\n",
       "        vertical-align: middle;\n",
       "    }\n",
       "\n",
       "    .dataframe tbody tr th {\n",
       "        vertical-align: top;\n",
       "    }\n",
       "\n",
       "    .dataframe thead th {\n",
       "        text-align: right;\n",
       "    }\n",
       "</style>\n",
       "<table border=\"1\" class=\"dataframe\">\n",
       "  <thead>\n",
       "    <tr style=\"text-align: right;\">\n",
       "      <th></th>\n",
       "      <th>date</th>\n",
       "      <th>vwreturn_RF_class_roll20_MSE</th>\n",
       "      <th>Mkt</th>\n",
       "    </tr>\n",
       "  </thead>\n",
       "  <tbody>\n",
       "    <tr>\n",
       "      <th>0</th>\n",
       "      <td>1933-01-31</td>\n",
       "      <td>0.005691</td>\n",
       "      <td>0.012521</td>\n",
       "    </tr>\n",
       "    <tr>\n",
       "      <th>1</th>\n",
       "      <td>1933-02-28</td>\n",
       "      <td>0.063444</td>\n",
       "      <td>-0.165700</td>\n",
       "    </tr>\n",
       "    <tr>\n",
       "      <th>2</th>\n",
       "      <td>1933-03-31</td>\n",
       "      <td>0.026529</td>\n",
       "      <td>0.032758</td>\n",
       "    </tr>\n",
       "    <tr>\n",
       "      <th>3</th>\n",
       "      <td>1933-04-30</td>\n",
       "      <td>-0.007582</td>\n",
       "      <td>0.328944</td>\n",
       "    </tr>\n",
       "    <tr>\n",
       "      <th>4</th>\n",
       "      <td>1933-05-31</td>\n",
       "      <td>-0.003901</td>\n",
       "      <td>0.194497</td>\n",
       "    </tr>\n",
       "  </tbody>\n",
       "</table>\n",
       "</div>"
      ],
      "text/plain": [
       "        date  vwreturn_RF_class_roll20_MSE       Mkt\n",
       "0 1933-01-31                      0.005691  0.012521\n",
       "1 1933-02-28                      0.063444 -0.165700\n",
       "2 1933-03-31                      0.026529  0.032758\n",
       "3 1933-04-30                     -0.007582  0.328944\n",
       "4 1933-05-31                     -0.003901  0.194497"
      ]
     },
     "execution_count": 18,
     "metadata": {},
     "output_type": "execute_result"
    }
   ],
   "source": [
    "lvwreturns.head()"
   ]
  },
  {
   "cell_type": "code",
   "execution_count": 19,
   "id": "ce0fe3b1",
   "metadata": {
    "execution": {
     "iopub.execute_input": "2024-02-21T12:41:07.462498Z",
     "iopub.status.busy": "2024-02-21T12:41:07.462137Z",
     "iopub.status.idle": "2024-02-21T12:41:07.481936Z",
     "shell.execute_reply": "2024-02-21T12:41:07.480824Z"
    },
    "papermill": {
     "duration": 0.043144,
     "end_time": "2024-02-21T12:41:07.484032",
     "exception": false,
     "start_time": "2024-02-21T12:41:07.440888",
     "status": "completed"
    },
    "tags": []
   },
   "outputs": [
    {
     "data": {
      "text/html": [
       "<div>\n",
       "<style scoped>\n",
       "    .dataframe tbody tr th:only-of-type {\n",
       "        vertical-align: middle;\n",
       "    }\n",
       "\n",
       "    .dataframe tbody tr th {\n",
       "        vertical-align: top;\n",
       "    }\n",
       "\n",
       "    .dataframe thead th {\n",
       "        text-align: right;\n",
       "    }\n",
       "</style>\n",
       "<table border=\"1\" class=\"dataframe\">\n",
       "  <thead>\n",
       "    <tr style=\"text-align: right;\">\n",
       "      <th></th>\n",
       "      <th>date</th>\n",
       "      <th>vwreturn_RF_class_roll20_MSE</th>\n",
       "      <th>Mkt</th>\n",
       "    </tr>\n",
       "  </thead>\n",
       "  <tbody>\n",
       "    <tr>\n",
       "      <th>count</th>\n",
       "      <td>1074</td>\n",
       "      <td>1074.000000</td>\n",
       "      <td>1074.000000</td>\n",
       "    </tr>\n",
       "    <tr>\n",
       "      <th>mean</th>\n",
       "      <td>1977-11-05 12:12:04.022346368</td>\n",
       "      <td>0.010080</td>\n",
       "      <td>0.008968</td>\n",
       "    </tr>\n",
       "    <tr>\n",
       "      <th>min</th>\n",
       "      <td>1933-01-31 00:00:00</td>\n",
       "      <td>-0.019212</td>\n",
       "      <td>-0.272203</td>\n",
       "    </tr>\n",
       "    <tr>\n",
       "      <th>25%</th>\n",
       "      <td>1955-06-07 12:00:00</td>\n",
       "      <td>0.002705</td>\n",
       "      <td>-0.017248</td>\n",
       "    </tr>\n",
       "    <tr>\n",
       "      <th>50%</th>\n",
       "      <td>1977-11-15 00:00:00</td>\n",
       "      <td>0.005794</td>\n",
       "      <td>0.013064</td>\n",
       "    </tr>\n",
       "    <tr>\n",
       "      <th>75%</th>\n",
       "      <td>2000-03-23 06:00:00</td>\n",
       "      <td>0.012129</td>\n",
       "      <td>0.038162</td>\n",
       "    </tr>\n",
       "    <tr>\n",
       "      <th>max</th>\n",
       "      <td>2022-07-31 00:00:00</td>\n",
       "      <td>0.119810</td>\n",
       "      <td>0.328944</td>\n",
       "    </tr>\n",
       "    <tr>\n",
       "      <th>std</th>\n",
       "      <td>NaN</td>\n",
       "      <td>0.013064</td>\n",
       "      <td>0.048186</td>\n",
       "    </tr>\n",
       "  </tbody>\n",
       "</table>\n",
       "</div>"
      ],
      "text/plain": [
       "                                date  vwreturn_RF_class_roll20_MSE  \\\n",
       "count                           1074                   1074.000000   \n",
       "mean   1977-11-05 12:12:04.022346368                      0.010080   \n",
       "min              1933-01-31 00:00:00                     -0.019212   \n",
       "25%              1955-06-07 12:00:00                      0.002705   \n",
       "50%              1977-11-15 00:00:00                      0.005794   \n",
       "75%              2000-03-23 06:00:00                      0.012129   \n",
       "max              2022-07-31 00:00:00                      0.119810   \n",
       "std                              NaN                      0.013064   \n",
       "\n",
       "               Mkt  \n",
       "count  1074.000000  \n",
       "mean      0.008968  \n",
       "min      -0.272203  \n",
       "25%      -0.017248  \n",
       "50%       0.013064  \n",
       "75%       0.038162  \n",
       "max       0.328944  \n",
       "std       0.048186  "
      ]
     },
     "execution_count": 19,
     "metadata": {},
     "output_type": "execute_result"
    }
   ],
   "source": [
    "lvwreturns.describe()"
   ]
  },
  {
   "cell_type": "code",
   "execution_count": 20,
   "id": "ce1ee891",
   "metadata": {
    "execution": {
     "iopub.execute_input": "2024-02-21T12:41:07.526052Z",
     "iopub.status.busy": "2024-02-21T12:41:07.525538Z",
     "iopub.status.idle": "2024-02-21T12:41:07.531679Z",
     "shell.execute_reply": "2024-02-21T12:41:07.530676Z"
    },
    "papermill": {
     "duration": 0.029745,
     "end_time": "2024-02-21T12:41:07.533894",
     "exception": false,
     "start_time": "2024-02-21T12:41:07.504149",
     "status": "completed"
    },
    "tags": []
   },
   "outputs": [],
   "source": [
    "## plot histograms of the value-weighted returns for each model and the market in lvwreturns\n",
    "#plt.figure(figsize=(12, round(len(prediction_cols)/2) * 5 ))\n",
    "#\n",
    "#for i, pred_col in enumerate(prediction_cols):\n",
    "#    plt.subplot(len(prediction_cols)/2 +1, 2, i+1)\n",
    "#    plt.hist(lvwreturns[f'vwreturn_{pred_col}'], bins=50, color='skyblue', edgecolor='black')\n",
    "#    plt.title(f'Value-Weighted Return - {pred_col}')\n",
    "#    plt.xlabel('Value-Weighted Return')\n",
    "#    plt.ylabel('Frequency')\n",
    "#    # calculate mean, skewness and kurtosis and add their values to the plot as a text, aligning to the top right corner\n",
    "#    mean = lvwreturns[f'vwreturn_{pred_col}'].mean()\n",
    "#    skewness = lvwreturns[f'vwreturn_{pred_col}'].skew()\n",
    "#    kurtosis = lvwreturns[f'vwreturn_{pred_col}'].kurtosis()\n",
    "#\n",
    "#    plt.text(0.95, 0.95, f'Mean: {mean:.4f}\\nSkewness: {skewness:.4f}\\nKurtosis: {kurtosis:.4f}', ha='right', va='top', transform=plt.gca().transAxes)\n",
    "#\n",
    "#\n",
    "#\n",
    "#plt.subplot(round(len(prediction_cols)/2) +1, 2, len(prediction_cols)+1)\n",
    "#plt.title('Value-Weighted Return - Market')\n",
    "#plt.xlabel('Value-Weighted Return')\n",
    "#plt.ylabel('Frequency')\n",
    "#plt.hist(lvwreturns['Mkt'], bins=50, color='skyblue', edgecolor='black')\n",
    "#mean = lvwreturns['Mkt'].mean()\n",
    "#skewness = lvwreturns['Mkt'].skew()\n",
    "#kurtosis = lvwreturns['Mkt'].kurtosis()\n",
    "#plt.text(0.95, 0.95, f'Mean: {mean:.4f}\\nSkewness: {skewness:.4f}\\nKurtosis: {kurtosis:.4f}', ha='right', va='top', transform=plt.gca().transAxes)\n",
    "#\n",
    "#plt.tight_layout()\n",
    "#plt.show()\n",
    "#"
   ]
  },
  {
   "cell_type": "code",
   "execution_count": 21,
   "id": "997d532f",
   "metadata": {
    "execution": {
     "iopub.execute_input": "2024-02-21T12:41:07.576468Z",
     "iopub.status.busy": "2024-02-21T12:41:07.575378Z",
     "iopub.status.idle": "2024-02-21T12:41:07.580532Z",
     "shell.execute_reply": "2024-02-21T12:41:07.579445Z"
    },
    "papermill": {
     "duration": 0.028683,
     "end_time": "2024-02-21T12:41:07.582801",
     "exception": false,
     "start_time": "2024-02-21T12:41:07.554118",
     "status": "completed"
    },
    "tags": []
   },
   "outputs": [],
   "source": [
    "## plot cumulative sums of the value-weighted log returns\n",
    "#plt.figure(figsize=(12, 6))\n",
    "#plt.plot(lvwreturns['date'], lvwreturns.iloc[:, 1:].cumsum())\n",
    "#plt.title('Cumulative Value-Weighted Log Returns')\n",
    "#plt.xlabel('Date')\n",
    "#plt.ylabel('Cumulative Value-Weighted Log Returns')\n",
    "#plt.legend(prediction_cols + ['Market'])\n",
    "#plt.show()\n"
   ]
  },
  {
   "cell_type": "code",
   "execution_count": 22,
   "id": "7413dc5d",
   "metadata": {
    "execution": {
     "iopub.execute_input": "2024-02-21T12:41:07.624725Z",
     "iopub.status.busy": "2024-02-21T12:41:07.624339Z",
     "iopub.status.idle": "2024-02-21T12:41:09.168550Z",
     "shell.execute_reply": "2024-02-21T12:41:09.167191Z"
    },
    "papermill": {
     "duration": 1.569936,
     "end_time": "2024-02-21T12:41:09.172845",
     "exception": false,
     "start_time": "2024-02-21T12:41:07.602909",
     "status": "completed"
    },
    "tags": []
   },
   "outputs": [],
   "source": [
    "# save the lvwreturns and portfolio DataFrame to a parquet file into 'outputs' folder\n",
    "\n",
    "# for reproducibility and visualization purposes\n",
    "lvwreturns.to_parquet('base_lvwreturns_class_mse31.parquet')\n",
    "portfolio.to_parquet('base_portfolio_class_mse31.parquet')\n",
    "\n",
    "# save vwreturns DataFrame to a .dta file into 'outputs' folder\n",
    "#vwreturns.to_stata('outputs/vwreturns.dta') # for backtasting in R - we need normal returns, not log returns\n"
   ]
  }
 ],
 "metadata": {
  "kaggle": {
   "accelerator": "none",
   "dataSources": [
    {
     "datasetId": 4464890,
     "sourceId": 7657795,
     "sourceType": "datasetVersion"
    }
   ],
   "isGpuEnabled": false,
   "isInternetEnabled": true,
   "language": "python",
   "sourceType": "notebook"
  },
  "kernelspec": {
   "display_name": "base",
   "language": "python",
   "name": "python3"
  },
  "language_info": {
   "codemirror_mode": {
    "name": "ipython",
    "version": 3
   },
   "file_extension": ".py",
   "mimetype": "text/x-python",
   "name": "python",
   "nbconvert_exporter": "python",
   "pygments_lexer": "ipython3",
   "version": "3.10.13"
  },
  "papermill": {
   "default_parameters": {},
   "duration": 11290.678434,
   "end_time": "2024-02-21T12:41:09.947970",
   "environment_variables": {},
   "exception": null,
   "input_path": "__notebook__.ipynb",
   "output_path": "__notebook__.ipynb",
   "parameters": {},
   "start_time": "2024-02-21T09:32:59.269536",
   "version": "2.5.0"
  }
 },
 "nbformat": 4,
 "nbformat_minor": 5
}
