{
 "cells": [
  {
   "cell_type": "markdown",
   "id": "20c7a615",
   "metadata": {
    "papermill": {
     "duration": 0.007855,
     "end_time": "2024-02-24T16:56:32.260654",
     "exception": false,
     "start_time": "2024-02-24T16:56:32.252799",
     "status": "completed"
    },
    "tags": []
   },
   "source": [
    "# Framework for predictions and portfolio forming"
   ]
  },
  {
   "cell_type": "code",
   "execution_count": 1,
   "id": "9e959e30",
   "metadata": {
    "execution": {
     "iopub.execute_input": "2024-02-24T16:56:32.276137Z",
     "iopub.status.busy": "2024-02-24T16:56:32.275816Z",
     "iopub.status.idle": "2024-02-24T16:56:34.733491Z",
     "shell.execute_reply": "2024-02-24T16:56:34.732433Z"
    },
    "papermill": {
     "duration": 2.468238,
     "end_time": "2024-02-24T16:56:34.735895",
     "exception": false,
     "start_time": "2024-02-24T16:56:32.267657",
     "status": "completed"
    },
    "tags": []
   },
   "outputs": [],
   "source": [
    "import numpy as np\n",
    "import pandas as pd\n",
    "pd.set_option('display.max_columns', None)\n",
    "import matplotlib.pyplot as plt\n",
    "import seaborn as sns\n",
    "import datetime as dt\n",
    "import time\n",
    "\n",
    "# import the parquet library\n",
    "import pyarrow.parquet as pq\n",
    "\n",
    "# import model libraries\n",
    "from sklearn.preprocessing import StandardScaler, MinMaxScaler\n",
    "from sklearn.linear_model import LogisticRegression, LinearRegression, Ridge, Lasso\n",
    "from sklearn.tree import DecisionTreeClassifier, DecisionTreeRegressor\n",
    "from sklearn.ensemble import RandomForestClassifier, RandomForestRegressor\n",
    "from sklearn.metrics import mean_squared_error, accuracy_score"
   ]
  },
  {
   "cell_type": "code",
   "execution_count": 2,
   "id": "13e5eac8",
   "metadata": {
    "execution": {
     "iopub.execute_input": "2024-02-24T16:56:34.751330Z",
     "iopub.status.busy": "2024-02-24T16:56:34.750918Z",
     "iopub.status.idle": "2024-02-24T16:56:36.781727Z",
     "shell.execute_reply": "2024-02-24T16:56:36.780804Z"
    },
    "papermill": {
     "duration": 2.04135,
     "end_time": "2024-02-24T16:56:36.784427",
     "exception": false,
     "start_time": "2024-02-24T16:56:34.743077",
     "status": "completed"
    },
    "tags": []
   },
   "outputs": [
    {
     "data": {
      "text/html": [
       "<div>\n",
       "<style scoped>\n",
       "    .dataframe tbody tr th:only-of-type {\n",
       "        vertical-align: middle;\n",
       "    }\n",
       "\n",
       "    .dataframe tbody tr th {\n",
       "        vertical-align: top;\n",
       "    }\n",
       "\n",
       "    .dataframe thead th {\n",
       "        text-align: right;\n",
       "    }\n",
       "</style>\n",
       "<table border=\"1\" class=\"dataframe\">\n",
       "  <thead>\n",
       "    <tr style=\"text-align: right;\">\n",
       "      <th></th>\n",
       "      <th>PERMNO</th>\n",
       "      <th>date</th>\n",
       "      <th>RET</th>\n",
       "      <th>ME</th>\n",
       "      <th>bull_D</th>\n",
       "      <th>bear_D</th>\n",
       "      <th>bull_W</th>\n",
       "      <th>bear_W</th>\n",
       "      <th>bull_M</th>\n",
       "      <th>bear_M</th>\n",
       "      <th>LMKT</th>\n",
       "      <th>IVOL</th>\n",
       "      <th>y</th>\n",
       "    </tr>\n",
       "  </thead>\n",
       "  <tbody>\n",
       "    <tr>\n",
       "      <th>0</th>\n",
       "      <td>10000</td>\n",
       "      <td>1986-02-28</td>\n",
       "      <td>-0.257143</td>\n",
       "      <td>11960.00000</td>\n",
       "      <td>0.0</td>\n",
       "      <td>0.0</td>\n",
       "      <td>0.0</td>\n",
       "      <td>1.0</td>\n",
       "      <td>0</td>\n",
       "      <td>0</td>\n",
       "      <td>0.0121</td>\n",
       "      <td>0.004058</td>\n",
       "      <td>0</td>\n",
       "    </tr>\n",
       "    <tr>\n",
       "      <th>1</th>\n",
       "      <td>10000</td>\n",
       "      <td>1986-03-31</td>\n",
       "      <td>0.365385</td>\n",
       "      <td>16330.00000</td>\n",
       "      <td>0.0</td>\n",
       "      <td>0.0</td>\n",
       "      <td>0.0</td>\n",
       "      <td>0.0</td>\n",
       "      <td>0</td>\n",
       "      <td>0</td>\n",
       "      <td>0.0766</td>\n",
       "      <td>0.000973</td>\n",
       "      <td>1</td>\n",
       "    </tr>\n",
       "    <tr>\n",
       "      <th>2</th>\n",
       "      <td>10000</td>\n",
       "      <td>1986-04-30</td>\n",
       "      <td>-0.098592</td>\n",
       "      <td>15172.00000</td>\n",
       "      <td>0.0</td>\n",
       "      <td>1.0</td>\n",
       "      <td>0.0</td>\n",
       "      <td>0.0</td>\n",
       "      <td>0</td>\n",
       "      <td>0</td>\n",
       "      <td>0.0548</td>\n",
       "      <td>0.001993</td>\n",
       "      <td>0</td>\n",
       "    </tr>\n",
       "    <tr>\n",
       "      <th>3</th>\n",
       "      <td>10000</td>\n",
       "      <td>1986-05-31</td>\n",
       "      <td>-0.222656</td>\n",
       "      <td>11793.87834</td>\n",
       "      <td>0.0</td>\n",
       "      <td>0.0</td>\n",
       "      <td>0.0</td>\n",
       "      <td>0.0</td>\n",
       "      <td>0</td>\n",
       "      <td>1</td>\n",
       "      <td>-0.0079</td>\n",
       "      <td>0.000163</td>\n",
       "      <td>0</td>\n",
       "    </tr>\n",
       "    <tr>\n",
       "      <th>4</th>\n",
       "      <td>10000</td>\n",
       "      <td>1986-06-30</td>\n",
       "      <td>-0.005025</td>\n",
       "      <td>11734.59375</td>\n",
       "      <td>0.0</td>\n",
       "      <td>0.0</td>\n",
       "      <td>0.0</td>\n",
       "      <td>0.0</td>\n",
       "      <td>0</td>\n",
       "      <td>2</td>\n",
       "      <td>0.0511</td>\n",
       "      <td>0.001569</td>\n",
       "      <td>0</td>\n",
       "    </tr>\n",
       "  </tbody>\n",
       "</table>\n",
       "</div>"
      ],
      "text/plain": [
       "   PERMNO       date       RET           ME  bull_D  bear_D  bull_W  bear_W  \\\n",
       "0   10000 1986-02-28 -0.257143  11960.00000     0.0     0.0     0.0     1.0   \n",
       "1   10000 1986-03-31  0.365385  16330.00000     0.0     0.0     0.0     0.0   \n",
       "2   10000 1986-04-30 -0.098592  15172.00000     0.0     1.0     0.0     0.0   \n",
       "3   10000 1986-05-31 -0.222656  11793.87834     0.0     0.0     0.0     0.0   \n",
       "4   10000 1986-06-30 -0.005025  11734.59375     0.0     0.0     0.0     0.0   \n",
       "\n",
       "   bull_M  bear_M    LMKT      IVOL  y  \n",
       "0       0       0  0.0121  0.004058  0  \n",
       "1       0       0  0.0766  0.000973  1  \n",
       "2       0       0  0.0548  0.001993  0  \n",
       "3       0       1 -0.0079  0.000163  0  \n",
       "4       0       2  0.0511  0.001569  0  "
      ]
     },
     "execution_count": 2,
     "metadata": {},
     "output_type": "execute_result"
    }
   ],
   "source": [
    "# load 'basemodel.parquet'\n",
    "#df = pd.read_parquet('basemodel.parquet')\n",
    "df = pd.read_parquet('/kaggle/input/sign-prediction-datasets/basemodel.parquet')\n",
    "prediction_cols = []\n",
    "df.head()"
   ]
  },
  {
   "cell_type": "code",
   "execution_count": 3,
   "id": "9062568b",
   "metadata": {
    "execution": {
     "iopub.execute_input": "2024-02-24T16:56:36.802233Z",
     "iopub.status.busy": "2024-02-24T16:56:36.801500Z",
     "iopub.status.idle": "2024-02-24T16:56:36.805775Z",
     "shell.execute_reply": "2024-02-24T16:56:36.804903Z"
    },
    "papermill": {
     "duration": 0.014901,
     "end_time": "2024-02-24T16:56:36.807625",
     "exception": false,
     "start_time": "2024-02-24T16:56:36.792724",
     "status": "completed"
    },
    "tags": []
   },
   "outputs": [],
   "source": [
    "# select the columns to be used for prediction\n",
    "X_col = ['bull_D', 'bear_D', 'bull_W', 'bear_W', 'bull_M', 'bear_M', 'LMKT', 'IVOL']"
   ]
  },
  {
   "cell_type": "code",
   "execution_count": 4,
   "id": "43dc3c03",
   "metadata": {
    "execution": {
     "iopub.execute_input": "2024-02-24T16:56:36.822813Z",
     "iopub.status.busy": "2024-02-24T16:56:36.822547Z",
     "iopub.status.idle": "2024-02-24T16:56:37.617556Z",
     "shell.execute_reply": "2024-02-24T16:56:37.616562Z"
    },
    "papermill": {
     "duration": 0.805803,
     "end_time": "2024-02-24T16:56:37.620516",
     "exception": false,
     "start_time": "2024-02-24T16:56:36.814713",
     "status": "completed"
    },
    "tags": []
   },
   "outputs": [],
   "source": [
    "# Convert 'date' to datetime format (if not already done) and sort the DataFrame\n",
    "df['date'] = pd.to_datetime(df['date'])\n",
    "df.sort_values(by='date', inplace=True)\n",
    "df.reset_index(drop=True, inplace=True)\n",
    "\n",
    "# Create a 'year' column based on the 'date' column\n",
    "df['year'] = df['date'].dt.year"
   ]
  },
  {
   "cell_type": "markdown",
   "id": "343a68ac",
   "metadata": {
    "papermill": {
     "duration": 0.009847,
     "end_time": "2024-02-24T16:56:37.639547",
     "exception": false,
     "start_time": "2024-02-24T16:56:37.629700",
     "status": "completed"
    },
    "tags": []
   },
   "source": [
    "# Paper Replication - OLS and Logit, Expanding Window - No Hyperparameters\n",
    "- They start with out of sample forecasting in 1932\n",
    "- models will be named model_default"
   ]
  },
  {
   "cell_type": "markdown",
   "id": "b00d1690",
   "metadata": {
    "papermill": {
     "duration": 0.008934,
     "end_time": "2024-02-24T16:56:37.658075",
     "exception": false,
     "start_time": "2024-02-24T16:56:37.649141",
     "status": "completed"
    },
    "tags": []
   },
   "source": [
    "# My Experiments"
   ]
  },
  {
   "cell_type": "markdown",
   "id": "6d4c79f5",
   "metadata": {
    "papermill": {
     "duration": 0.00683,
     "end_time": "2024-02-24T16:56:37.672033",
     "exception": false,
     "start_time": "2024-02-24T16:56:37.665203",
     "status": "completed"
    },
    "tags": []
   },
   "source": [
    "## Machine Learning - Hyperparameter Tuning included in the process\n",
    "- models to be named 'model_clas/reg_exp/roll'"
   ]
  },
  {
   "cell_type": "markdown",
   "id": "da5f6eea",
   "metadata": {
    "papermill": {
     "duration": 0.00715,
     "end_time": "2024-02-24T16:56:37.687803",
     "exception": false,
     "start_time": "2024-02-24T16:56:37.680653",
     "status": "completed"
    },
    "tags": []
   },
   "source": [
    "### First expanding, then rolling\n",
    "start predicting for 1932, expand the window until you reach X years, then roll it"
   ]
  },
  {
   "cell_type": "markdown",
   "id": "63bb572f",
   "metadata": {
    "papermill": {
     "duration": 0.007017,
     "end_time": "2024-02-24T16:56:37.701958",
     "exception": false,
     "start_time": "2024-02-24T16:56:37.694941",
     "status": "completed"
    },
    "tags": []
   },
   "source": [
    "##### 10 year window"
   ]
  },
  {
   "cell_type": "code",
   "execution_count": 5,
   "id": "544dae9b",
   "metadata": {
    "execution": {
     "iopub.execute_input": "2024-02-24T16:56:37.718505Z",
     "iopub.status.busy": "2024-02-24T16:56:37.717629Z",
     "iopub.status.idle": "2024-02-24T16:56:37.722003Z",
     "shell.execute_reply": "2024-02-24T16:56:37.721114Z"
    },
    "papermill": {
     "duration": 0.014763,
     "end_time": "2024-02-24T16:56:37.724019",
     "exception": false,
     "start_time": "2024-02-24T16:56:37.709256",
     "status": "completed"
    },
    "tags": []
   },
   "outputs": [],
   "source": [
    "# set the length of the rolling window\n",
    "rolling_window = 10 # years"
   ]
  },
  {
   "cell_type": "code",
   "execution_count": 6,
   "id": "46c0d2c7",
   "metadata": {
    "execution": {
     "iopub.execute_input": "2024-02-24T16:56:37.740209Z",
     "iopub.status.busy": "2024-02-24T16:56:37.739634Z",
     "iopub.status.idle": "2024-02-24T21:49:12.862774Z",
     "shell.execute_reply": "2024-02-24T21:49:12.861839Z"
    },
    "papermill": {
     "duration": 17555.148206,
     "end_time": "2024-02-24T21:49:12.879528",
     "exception": false,
     "start_time": "2024-02-24T16:56:37.731322",
     "status": "completed"
    },
    "tags": []
   },
   "outputs": [
    {
     "name": "stdout",
     "output_type": "stream",
     "text": [
      "Year 1933 - Best n_estimators: 200, Best max_depth: 10, Best MSE: 0.0911, Time: 21.74 seconds\n",
      "Year 1934 - Best n_estimators: 10, Best max_depth: 10, Best MSE: 0.0913, Time: 22.73 seconds\n",
      "Year 1935 - Best n_estimators: 200, Best max_depth: 10, Best MSE: 0.0992, Time: 29.71 seconds\n",
      "Year 1936 - Best n_estimators: 50, Best max_depth: 10, Best MSE: 0.1101, Time: 31.51 seconds\n",
      "Year 1937 - Best n_estimators: 50, Best max_depth: 10, Best MSE: 0.0973, Time: 34.71 seconds\n",
      "Year 1938 - Best n_estimators: 10, Best max_depth: 10, Best MSE: 0.0785, Time: 34.17 seconds\n",
      "Year 1939 - Best n_estimators: 100, Best max_depth: 10, Best MSE: 0.0876, Time: 37.56 seconds\n",
      "Year 1940 - Best n_estimators: 200, Best max_depth: 5, Best MSE: 0.0866, Time: 38.62 seconds\n",
      "Year 1941 - Best n_estimators: 10, Best max_depth: 10, Best MSE: 0.1129, Time: 36.89 seconds\n",
      "Year 1942 - Best n_estimators: 100, Best max_depth: 10, Best MSE: 0.1216, Time: 40.08 seconds\n",
      "Year 1943 - Best n_estimators: 200, Best max_depth: 5, Best MSE: 0.1166, Time: 41.96 seconds\n",
      "Year 1944 - Best n_estimators: 200, Best max_depth: 5, Best MSE: 0.0949, Time: 41.79 seconds\n",
      "Year 1945 - Best n_estimators: 200, Best max_depth: 15, Best MSE: 0.1101, Time: 45.04 seconds\n",
      "Year 1946 - Best n_estimators: 100, Best max_depth: 10, Best MSE: 0.0801, Time: 41.38 seconds\n",
      "Year 1947 - Best n_estimators: 10, Best max_depth: 10, Best MSE: 0.0822, Time: 40.54 seconds\n",
      "Year 1948 - Best n_estimators: 10, Best max_depth: 5, Best MSE: 0.1131, Time: 39.95 seconds\n",
      "Year 1949 - Best n_estimators: 10, Best max_depth: 5, Best MSE: 0.0928, Time: 39.93 seconds\n",
      "Year 1950 - Best n_estimators: 50, Best max_depth: 15, Best MSE: 0.1018, Time: 42.19 seconds\n",
      "Year 1951 - Best n_estimators: 50, Best max_depth: 10, Best MSE: 0.1041, Time: 42.19 seconds\n",
      "Year 1952 - Best n_estimators: 200, Best max_depth: 5, Best MSE: 0.1014, Time: 44.36 seconds\n",
      "Year 1953 - Best n_estimators: 100, Best max_depth: 10, Best MSE: 0.0981, Time: 45.63 seconds\n",
      "Year 1954 - Best n_estimators: 50, Best max_depth: 10, Best MSE: 0.1114, Time: 45.65 seconds\n",
      "Year 1955 - Best n_estimators: 200, Best max_depth: 5, Best MSE: 0.0961, Time: 49.60 seconds\n",
      "Year 1956 - Best n_estimators: 100, Best max_depth: 10, Best MSE: 0.1095, Time: 49.65 seconds\n",
      "Year 1957 - Best n_estimators: 50, Best max_depth: 10, Best MSE: 0.0954, Time: 50.71 seconds\n",
      "Year 1958 - Best n_estimators: 100, Best max_depth: 5, Best MSE: 0.0999, Time: 51.31 seconds\n",
      "Year 1959 - Best n_estimators: 50, Best max_depth: 5, Best MSE: 0.0951, Time: 50.97 seconds\n",
      "Year 1960 - Best n_estimators: 50, Best max_depth: 10, Best MSE: 0.1037, Time: 51.35 seconds\n",
      "Year 1961 - Best n_estimators: 10, Best max_depth: 10, Best MSE: 0.0966, Time: 50.35 seconds\n",
      "Year 1962 - Best n_estimators: 100, Best max_depth: 10, Best MSE: 0.0951, Time: 54.06 seconds\n",
      "Year 1963 - Best n_estimators: 50, Best max_depth: 5, Best MSE: 0.093, Time: 52.15 seconds\n",
      "Year 1964 - Best n_estimators: 100, Best max_depth: 10, Best MSE: 0.1155, Time: 57.02 seconds\n",
      "Year 1965 - Best n_estimators: 50, Best max_depth: 10, Best MSE: 0.121, Time: 64.27 seconds\n",
      "Year 1966 - Best n_estimators: 200, Best max_depth: 15, Best MSE: 0.1038, Time: 79.13 seconds\n",
      "Year 1967 - Best n_estimators: 10, Best max_depth: 10, Best MSE: 0.1023, Time: 74.08 seconds\n",
      "Year 1968 - Best n_estimators: 200, Best max_depth: 10, Best MSE: 0.0924, Time: 88.73 seconds\n",
      "Year 1969 - Best n_estimators: 50, Best max_depth: 15, Best MSE: 0.0904, Time: 89.01 seconds\n",
      "Year 1970 - Best n_estimators: 100, Best max_depth: 10, Best MSE: 0.0806, Time: 98.21 seconds\n",
      "Year 1971 - Best n_estimators: 10, Best max_depth: 5, Best MSE: 0.0954, Time: 99.57 seconds\n",
      "Year 1972 - Best n_estimators: 200, Best max_depth: 10, Best MSE: 0.0948, Time: 117.85 seconds\n",
      "Year 1973 - Best n_estimators: 200, Best max_depth: 5, Best MSE: 0.1001, Time: 119.09 seconds\n",
      "Year 1974 - Best n_estimators: 10, Best max_depth: 10, Best MSE: 0.0993, Time: 113.29 seconds\n",
      "Year 1975 - Best n_estimators: 10, Best max_depth: 5, Best MSE: 0.123, Time: 133.59 seconds\n",
      "Year 1976 - Best n_estimators: 200, Best max_depth: 5, Best MSE: 0.1236, Time: 164.34 seconds\n",
      "Year 1977 - Best n_estimators: 100, Best max_depth: 10, Best MSE: 0.1161, Time: 180.84 seconds\n",
      "Year 1978 - Best n_estimators: 200, Best max_depth: 10, Best MSE: 0.1196, Time: 211.45 seconds\n",
      "Year 1979 - Best n_estimators: 100, Best max_depth: 10, Best MSE: 0.1132, Time: 221.40 seconds\n",
      "Year 1980 - Best n_estimators: 100, Best max_depth: 10, Best MSE: 0.1121, Time: 243.16 seconds\n",
      "Year 1981 - Best n_estimators: 100, Best max_depth: 10, Best MSE: 0.0999, Time: 259.62 seconds\n",
      "Year 1982 - Best n_estimators: 200, Best max_depth: 10, Best MSE: 0.1047, Time: 289.61 seconds\n",
      "Year 1983 - Best n_estimators: 200, Best max_depth: 10, Best MSE: 0.1061, Time: 307.37 seconds\n",
      "Year 1984 - Best n_estimators: 50, Best max_depth: 5, Best MSE: 0.1101, Time: 283.16 seconds\n",
      "Year 1985 - Best n_estimators: 10, Best max_depth: 10, Best MSE: 0.1094, Time: 280.40 seconds\n",
      "Year 1986 - Best n_estimators: 100, Best max_depth: 10, Best MSE: 0.1046, Time: 302.41 seconds\n",
      "Year 1987 - Best n_estimators: 50, Best max_depth: 10, Best MSE: 0.1075, Time: 305.50 seconds\n",
      "Year 1988 - Best n_estimators: 100, Best max_depth: 10, Best MSE: 0.1084, Time: 327.37 seconds\n",
      "Year 1989 - Best n_estimators: 200, Best max_depth: 10, Best MSE: 0.1199, Time: 362.92 seconds\n",
      "Year 1990 - Best n_estimators: 200, Best max_depth: 10, Best MSE: 0.112, Time: 373.88 seconds\n",
      "Year 1991 - Best n_estimators: 50, Best max_depth: 10, Best MSE: 0.1067, Time: 359.91 seconds\n",
      "Year 1992 - Best n_estimators: 200, Best max_depth: 10, Best MSE: 0.1135, Time: 398.41 seconds\n",
      "Year 1993 - Best n_estimators: 10, Best max_depth: 10, Best MSE: 0.1176, Time: 371.85 seconds\n",
      "Year 1994 - Best n_estimators: 200, Best max_depth: 10, Best MSE: 0.1174, Time: 413.90 seconds\n",
      "Year 1995 - Best n_estimators: 10, Best max_depth: 10, Best MSE: 0.1178, Time: 374.47 seconds\n",
      "Year 1996 - Best n_estimators: 50, Best max_depth: 10, Best MSE: 0.116, Time: 390.26 seconds\n",
      "Year 1997 - Best n_estimators: 50, Best max_depth: 10, Best MSE: 0.1123, Time: 399.65 seconds\n",
      "Year 1998 - Best n_estimators: 200, Best max_depth: 15, Best MSE: 0.1029, Time: 457.18 seconds\n",
      "Year 1999 - Best n_estimators: 200, Best max_depth: 10, Best MSE: 0.1025, Time: 455.51 seconds\n",
      "Year 2000 - Best n_estimators: 100, Best max_depth: 10, Best MSE: 0.1111, Time: 441.30 seconds\n",
      "Year 2001 - Best n_estimators: 200, Best max_depth: 10, Best MSE: 0.1031, Time: 488.66 seconds\n",
      "Year 2002 - Best n_estimators: 200, Best max_depth: 10, Best MSE: 0.1029, Time: 483.78 seconds\n",
      "Year 2003 - Best n_estimators: 10, Best max_depth: 10, Best MSE: 0.0956, Time: 437.95 seconds\n",
      "Year 2004 - Best n_estimators: 100, Best max_depth: 10, Best MSE: 0.0991, Time: 446.13 seconds\n",
      "Year 2005 - Best n_estimators: 50, Best max_depth: 10, Best MSE: 0.0952, Time: 413.02 seconds\n",
      "Year 2006 - Best n_estimators: 200, Best max_depth: 10, Best MSE: 0.0957, Time: 420.82 seconds\n",
      "Year 2007 - Best n_estimators: 200, Best max_depth: 10, Best MSE: 0.1012, Time: 409.37 seconds\n",
      "Year 2008 - Best n_estimators: 50, Best max_depth: 10, Best MSE: 0.0957, Time: 347.16 seconds\n",
      "Year 2009 - Best n_estimators: 100, Best max_depth: 10, Best MSE: 0.0947, Time: 331.09 seconds\n",
      "Year 2010 - Best n_estimators: 50, Best max_depth: 10, Best MSE: 0.0987, Time: 310.08 seconds\n",
      "Year 2011 - Best n_estimators: 200, Best max_depth: 15, Best MSE: 0.087, Time: 314.24 seconds\n",
      "Year 2012 - Best n_estimators: 50, Best max_depth: 5, Best MSE: 0.0955, Time: 262.56 seconds\n",
      "Year 2013 - Best n_estimators: 100, Best max_depth: 10, Best MSE: 0.0959, Time: 259.51 seconds\n",
      "Year 2014 - Best n_estimators: 10, Best max_depth: 5, Best MSE: 0.0894, Time: 233.44 seconds\n",
      "Year 2015 - Best n_estimators: 200, Best max_depth: 10, Best MSE: 0.0943, Time: 255.64 seconds\n",
      "Year 2016 - Best n_estimators: 10, Best max_depth: 10, Best MSE: 0.102, Time: 220.78 seconds\n",
      "Year 2017 - Best n_estimators: 200, Best max_depth: 5, Best MSE: 0.0974, Time: 232.46 seconds\n",
      "Year 2018 - Best n_estimators: 10, Best max_depth: 10, Best MSE: 0.1029, Time: 209.58 seconds\n",
      "Year 2019 - Best n_estimators: 200, Best max_depth: 10, Best MSE: 0.0967, Time: 227.58 seconds\n",
      "Year 2020 - Best n_estimators: 50, Best max_depth: 10, Best MSE: 0.091, Time: 204.40 seconds\n",
      "Year 2021 - Best n_estimators: 100, Best max_depth: 10, Best MSE: 0.0869, Time: 210.42 seconds\n",
      "Year 2022 - Best n_estimators: 200, Best max_depth: 15, Best MSE: 0.0963, Time: 228.23 seconds\n",
      "Total time: 17555.11 seconds\n"
     ]
    }
   ],
   "source": [
    "#################################\n",
    "# RANDOM FOREST REGRESSION\n",
    "#################################\n",
    "start_time2 = time.time()  # Start timing\n",
    "\n",
    "model_name = 'RF_reg_roll10'  # Name for storing Random Forest regression predictions\n",
    "\n",
    "# Predefined set of values for hyperparameter tuning\n",
    "HP1 = [10, 50, 100, 200]  # Possible values for n_estimators\n",
    "HP2 = [None, 5, 10, 15]  # Possible values for max_depth\n",
    "\n",
    "# Update the column name for storing Random Forest regression predictions\n",
    "df[model_name] = np.nan\n",
    "\n",
    "# Ensure the new column is in the prediction_cols list\n",
    "if model_name not in prediction_cols:\n",
    "    prediction_cols.append(model_name)\n",
    "\n",
    "# Define the start year for modeling based on having at least 7 years of data\n",
    "start_modeling_year = df['year'].min() + 7\n",
    "\n",
    "for year in range(start_modeling_year, df['year'].max() + 1):\n",
    "    start_time = time.time()  # Start timing\n",
    "    \n",
    "    # Determine the start year of the training window based on the current year\n",
    "    train_start_year = max(year - rolling_window, df['year'].min())  # Ensure it does not go below the earliest year\n",
    "    \n",
    "    # Select the training data based on the calculated start year\n",
    "    train_data = df[(df['year'] >= train_start_year) & (df['year'] < year)]\n",
    "    \n",
    "    # Split training data into actual training and tuning sets\n",
    "    # Use the last year of the training data for tuning\n",
    "    tuning_data = train_data[train_data['year'] == year - 1]\n",
    "    actual_train_data = train_data[train_data['year'] < year - 1]\n",
    "    \n",
    "    X_train = actual_train_data[X_col]\n",
    "    y_train = actual_train_data['y']\n",
    "    \n",
    "    X_tune = tuning_data[X_col]\n",
    "    y_tune = tuning_data['y']\n",
    "    \n",
    "    best_HP1 = None\n",
    "    best_HP2 = None\n",
    "    best_mse = float('inf')  # Initialize with infinity\n",
    "    \n",
    "    # Hyperparameter tuning\n",
    "    for hp1 in HP1:\n",
    "        for hp2 in HP2:\n",
    "            model = RandomForestRegressor(n_estimators=hp1, max_depth=hp2, random_state=42, n_jobs = -1)\n",
    "            model.fit(X_train, y_train)\n",
    "            predictions = model.predict(X_tune)  # Predict continuous values\n",
    "            mse = mean_squared_error(y_tune, predictions)  # Calculate MSE\n",
    "            \n",
    "            if mse < best_mse:  # Lower MSE is better\n",
    "                best_mse = mse\n",
    "                best_HP1 = hp1\n",
    "                best_HP2 = hp2\n",
    "    \n",
    "    # Retrain on the entire training window (excluding tuning year) with the best hyperparameters\n",
    "    model = RandomForestRegressor(n_estimators=best_HP1, max_depth=best_HP2, random_state=42, n_jobs = -1)\n",
    "    model.fit(X_train, y_train)\n",
    "    \n",
    "    # Predict for the next year\n",
    "    next_year_data = df[df['year'] == year]\n",
    "    X_next_year = next_year_data[X_col]\n",
    "    \n",
    "    if not X_next_year.empty:\n",
    "        next_year_predictions = model.predict(X_next_year)  # Predict continuous values\n",
    "        df.loc[df['year'] == year, model_name] = next_year_predictions\n",
    "    \n",
    "    end_time = time.time()  # End timing\n",
    "    iteration_time = end_time - start_time  # Calculate iteration time\n",
    "    \n",
    "    print(f\"Year {year} - Best n_estimators: {best_HP1}, Best max_depth: {best_HP2}, Best MSE: {round(best_mse,4)}, Time: {iteration_time:.2f} seconds\")\n",
    "\n",
    "end_time2 = time.time()\n",
    "print(f\"Total time: {end_time2 - start_time2:.2f} seconds\")"
   ]
  },
  {
   "cell_type": "markdown",
   "id": "d0b65c1c",
   "metadata": {
    "papermill": {
     "duration": 0.01385,
     "end_time": "2024-02-24T21:49:12.907335",
     "exception": false,
     "start_time": "2024-02-24T21:49:12.893485",
     "status": "completed"
    },
    "tags": []
   },
   "source": [
    "##### 20 year window"
   ]
  },
  {
   "cell_type": "code",
   "execution_count": 7,
   "id": "0c1ad8e2",
   "metadata": {
    "execution": {
     "iopub.execute_input": "2024-02-24T21:49:12.936534Z",
     "iopub.status.busy": "2024-02-24T21:49:12.936233Z",
     "iopub.status.idle": "2024-02-24T21:49:12.940067Z",
     "shell.execute_reply": "2024-02-24T21:49:12.939367Z"
    },
    "papermill": {
     "duration": 0.02076,
     "end_time": "2024-02-24T21:49:12.941999",
     "exception": false,
     "start_time": "2024-02-24T21:49:12.921239",
     "status": "completed"
    },
    "tags": []
   },
   "outputs": [],
   "source": [
    "rolling_window = 20 # years"
   ]
  },
  {
   "cell_type": "code",
   "execution_count": null,
   "id": "ae560e45",
   "metadata": {
    "papermill": {
     "duration": 0.0137,
     "end_time": "2024-02-24T21:49:12.969699",
     "exception": false,
     "start_time": "2024-02-24T21:49:12.955999",
     "status": "completed"
    },
    "tags": []
   },
   "outputs": [],
   "source": []
  },
  {
   "cell_type": "markdown",
   "id": "cbd1f38d",
   "metadata": {
    "papermill": {
     "duration": 0.013791,
     "end_time": "2024-02-24T21:49:12.997372",
     "exception": false,
     "start_time": "2024-02-24T21:49:12.983581",
     "status": "completed"
    },
    "tags": []
   },
   "source": [
    "## Forming Portfolios, Value-weighted portfolio returns"
   ]
  },
  {
   "cell_type": "code",
   "execution_count": 8,
   "id": "2a8b18ed",
   "metadata": {
    "execution": {
     "iopub.execute_input": "2024-02-24T21:49:13.026536Z",
     "iopub.status.busy": "2024-02-24T21:49:13.026225Z",
     "iopub.status.idle": "2024-02-24T21:49:13.043954Z",
     "shell.execute_reply": "2024-02-24T21:49:13.043186Z"
    },
    "papermill": {
     "duration": 0.034587,
     "end_time": "2024-02-24T21:49:13.045877",
     "exception": false,
     "start_time": "2024-02-24T21:49:13.011290",
     "status": "completed"
    },
    "tags": []
   },
   "outputs": [
    {
     "data": {
      "text/html": [
       "<div>\n",
       "<style scoped>\n",
       "    .dataframe tbody tr th:only-of-type {\n",
       "        vertical-align: middle;\n",
       "    }\n",
       "\n",
       "    .dataframe tbody tr th {\n",
       "        vertical-align: top;\n",
       "    }\n",
       "\n",
       "    .dataframe thead th {\n",
       "        text-align: right;\n",
       "    }\n",
       "</style>\n",
       "<table border=\"1\" class=\"dataframe\">\n",
       "  <thead>\n",
       "    <tr style=\"text-align: right;\">\n",
       "      <th></th>\n",
       "      <th>PERMNO</th>\n",
       "      <th>date</th>\n",
       "      <th>RET</th>\n",
       "      <th>ME</th>\n",
       "      <th>bull_D</th>\n",
       "      <th>bear_D</th>\n",
       "      <th>bull_W</th>\n",
       "      <th>bear_W</th>\n",
       "      <th>bull_M</th>\n",
       "      <th>bear_M</th>\n",
       "      <th>LMKT</th>\n",
       "      <th>IVOL</th>\n",
       "      <th>y</th>\n",
       "      <th>year</th>\n",
       "      <th>RF_reg_roll10</th>\n",
       "    </tr>\n",
       "  </thead>\n",
       "  <tbody>\n",
       "    <tr>\n",
       "      <th>0</th>\n",
       "      <td>11148</td>\n",
       "      <td>1926-08-31</td>\n",
       "      <td>0.109924</td>\n",
       "      <td>76287.5</td>\n",
       "      <td>1.0</td>\n",
       "      <td>0.0</td>\n",
       "      <td>4.0</td>\n",
       "      <td>0.0</td>\n",
       "      <td>0</td>\n",
       "      <td>0</td>\n",
       "      <td>0.0318</td>\n",
       "      <td>0.000040</td>\n",
       "      <td>1</td>\n",
       "      <td>1926</td>\n",
       "      <td>NaN</td>\n",
       "    </tr>\n",
       "    <tr>\n",
       "      <th>1</th>\n",
       "      <td>10874</td>\n",
       "      <td>1926-08-31</td>\n",
       "      <td>0.168142</td>\n",
       "      <td>16500.0</td>\n",
       "      <td>0.0</td>\n",
       "      <td>0.0</td>\n",
       "      <td>2.0</td>\n",
       "      <td>0.0</td>\n",
       "      <td>2</td>\n",
       "      <td>0</td>\n",
       "      <td>0.0318</td>\n",
       "      <td>0.000537</td>\n",
       "      <td>1</td>\n",
       "      <td>1926</td>\n",
       "      <td>NaN</td>\n",
       "    </tr>\n",
       "    <tr>\n",
       "      <th>2</th>\n",
       "      <td>12968</td>\n",
       "      <td>1926-08-31</td>\n",
       "      <td>-0.006464</td>\n",
       "      <td>55683.0</td>\n",
       "      <td>0.0</td>\n",
       "      <td>0.0</td>\n",
       "      <td>0.0</td>\n",
       "      <td>0.0</td>\n",
       "      <td>0</td>\n",
       "      <td>0</td>\n",
       "      <td>0.0318</td>\n",
       "      <td>0.000007</td>\n",
       "      <td>0</td>\n",
       "      <td>1926</td>\n",
       "      <td>NaN</td>\n",
       "    </tr>\n",
       "    <tr>\n",
       "      <th>3</th>\n",
       "      <td>12976</td>\n",
       "      <td>1926-08-31</td>\n",
       "      <td>0.156041</td>\n",
       "      <td>41650.0</td>\n",
       "      <td>1.0</td>\n",
       "      <td>0.0</td>\n",
       "      <td>0.0</td>\n",
       "      <td>0.0</td>\n",
       "      <td>0</td>\n",
       "      <td>0</td>\n",
       "      <td>0.0318</td>\n",
       "      <td>0.000070</td>\n",
       "      <td>1</td>\n",
       "      <td>1926</td>\n",
       "      <td>NaN</td>\n",
       "    </tr>\n",
       "    <tr>\n",
       "      <th>4</th>\n",
       "      <td>12984</td>\n",
       "      <td>1926-08-31</td>\n",
       "      <td>0.046875</td>\n",
       "      <td>11323.0</td>\n",
       "      <td>1.0</td>\n",
       "      <td>0.0</td>\n",
       "      <td>0.0</td>\n",
       "      <td>0.0</td>\n",
       "      <td>0</td>\n",
       "      <td>0</td>\n",
       "      <td>0.0318</td>\n",
       "      <td>0.000874</td>\n",
       "      <td>1</td>\n",
       "      <td>1926</td>\n",
       "      <td>NaN</td>\n",
       "    </tr>\n",
       "  </tbody>\n",
       "</table>\n",
       "</div>"
      ],
      "text/plain": [
       "   PERMNO       date       RET       ME  bull_D  bear_D  bull_W  bear_W  \\\n",
       "0   11148 1926-08-31  0.109924  76287.5     1.0     0.0     4.0     0.0   \n",
       "1   10874 1926-08-31  0.168142  16500.0     0.0     0.0     2.0     0.0   \n",
       "2   12968 1926-08-31 -0.006464  55683.0     0.0     0.0     0.0     0.0   \n",
       "3   12976 1926-08-31  0.156041  41650.0     1.0     0.0     0.0     0.0   \n",
       "4   12984 1926-08-31  0.046875  11323.0     1.0     0.0     0.0     0.0   \n",
       "\n",
       "   bull_M  bear_M    LMKT      IVOL  y  year  RF_reg_roll10  \n",
       "0       0       0  0.0318  0.000040  1  1926            NaN  \n",
       "1       2       0  0.0318  0.000537  1  1926            NaN  \n",
       "2       0       0  0.0318  0.000007  0  1926            NaN  \n",
       "3       0       0  0.0318  0.000070  1  1926            NaN  \n",
       "4       0       0  0.0318  0.000874  1  1926            NaN  "
      ]
     },
     "execution_count": 8,
     "metadata": {},
     "output_type": "execute_result"
    }
   ],
   "source": [
    "df.head()"
   ]
  },
  {
   "cell_type": "code",
   "execution_count": 9,
   "id": "ee066fff",
   "metadata": {
    "execution": {
     "iopub.execute_input": "2024-02-24T21:49:13.075743Z",
     "iopub.status.busy": "2024-02-24T21:49:13.075505Z",
     "iopub.status.idle": "2024-02-24T21:49:13.080389Z",
     "shell.execute_reply": "2024-02-24T21:49:13.079621Z"
    },
    "papermill": {
     "duration": 0.021736,
     "end_time": "2024-02-24T21:49:13.082253",
     "exception": false,
     "start_time": "2024-02-24T21:49:13.060517",
     "status": "completed"
    },
    "tags": []
   },
   "outputs": [
    {
     "data": {
      "text/plain": [
       "['RF_reg_roll10']"
      ]
     },
     "execution_count": 9,
     "metadata": {},
     "output_type": "execute_result"
    }
   ],
   "source": [
    "prediction_cols\n",
    "# prediction_cols = ['logit_default','OLS_default','logit_roll6','DT_reg_roll']"
   ]
  },
  {
   "cell_type": "code",
   "execution_count": 10,
   "id": "39aebf13",
   "metadata": {
    "execution": {
     "iopub.execute_input": "2024-02-24T21:49:13.112245Z",
     "iopub.status.busy": "2024-02-24T21:49:13.111995Z",
     "iopub.status.idle": "2024-02-24T21:49:13.475506Z",
     "shell.execute_reply": "2024-02-24T21:49:13.474509Z"
    },
    "papermill": {
     "duration": 0.380814,
     "end_time": "2024-02-24T21:49:13.477573",
     "exception": false,
     "start_time": "2024-02-24T21:49:13.096759",
     "status": "completed"
    },
    "tags": []
   },
   "outputs": [
    {
     "data": {
      "text/html": [
       "<div>\n",
       "<style scoped>\n",
       "    .dataframe tbody tr th:only-of-type {\n",
       "        vertical-align: middle;\n",
       "    }\n",
       "\n",
       "    .dataframe tbody tr th {\n",
       "        vertical-align: top;\n",
       "    }\n",
       "\n",
       "    .dataframe thead th {\n",
       "        text-align: right;\n",
       "    }\n",
       "</style>\n",
       "<table border=\"1\" class=\"dataframe\">\n",
       "  <thead>\n",
       "    <tr style=\"text-align: right;\">\n",
       "      <th></th>\n",
       "      <th>date</th>\n",
       "      <th>RET</th>\n",
       "      <th>ME</th>\n",
       "      <th>y</th>\n",
       "      <th>RF_reg_roll10</th>\n",
       "    </tr>\n",
       "  </thead>\n",
       "  <tbody>\n",
       "    <tr>\n",
       "      <th>49083</th>\n",
       "      <td>1933-01-31</td>\n",
       "      <td>0.036765</td>\n",
       "      <td>31918.875</td>\n",
       "      <td>1</td>\n",
       "      <td>1.000000</td>\n",
       "    </tr>\n",
       "    <tr>\n",
       "      <th>49084</th>\n",
       "      <td>1933-01-31</td>\n",
       "      <td>0.121849</td>\n",
       "      <td>7142.250</td>\n",
       "      <td>1</td>\n",
       "      <td>0.309865</td>\n",
       "    </tr>\n",
       "    <tr>\n",
       "      <th>49085</th>\n",
       "      <td>1933-01-31</td>\n",
       "      <td>0.015625</td>\n",
       "      <td>1560.000</td>\n",
       "      <td>1</td>\n",
       "      <td>1.000000</td>\n",
       "    </tr>\n",
       "    <tr>\n",
       "      <th>49086</th>\n",
       "      <td>1933-01-31</td>\n",
       "      <td>-0.084337</td>\n",
       "      <td>4275.000</td>\n",
       "      <td>0</td>\n",
       "      <td>0.000000</td>\n",
       "    </tr>\n",
       "    <tr>\n",
       "      <th>49087</th>\n",
       "      <td>1933-01-31</td>\n",
       "      <td>-0.037500</td>\n",
       "      <td>447581.750</td>\n",
       "      <td>0</td>\n",
       "      <td>0.178455</td>\n",
       "    </tr>\n",
       "  </tbody>\n",
       "</table>\n",
       "</div>"
      ],
      "text/plain": [
       "            date       RET          ME  y  RF_reg_roll10\n",
       "49083 1933-01-31  0.036765   31918.875  1       1.000000\n",
       "49084 1933-01-31  0.121849    7142.250  1       0.309865\n",
       "49085 1933-01-31  0.015625    1560.000  1       1.000000\n",
       "49086 1933-01-31 -0.084337    4275.000  0       0.000000\n",
       "49087 1933-01-31 -0.037500  447581.750  0       0.178455"
      ]
     },
     "execution_count": 10,
     "metadata": {},
     "output_type": "execute_result"
    }
   ],
   "source": [
    "portfolio = df[['date', 'RET', 'ME', 'y'] + prediction_cols].copy()\n",
    "portfolio['date'] = pd.to_datetime(portfolio['date'])\n",
    "\n",
    "# drop rows with missing values\n",
    "portfolio.dropna(inplace=True)\n",
    "\n",
    "portfolio.head()"
   ]
  },
  {
   "cell_type": "code",
   "execution_count": 11,
   "id": "6f1b6b7d",
   "metadata": {
    "execution": {
     "iopub.execute_input": "2024-02-24T21:49:13.509304Z",
     "iopub.status.busy": "2024-02-24T21:49:13.508984Z",
     "iopub.status.idle": "2024-02-24T21:49:13.519492Z",
     "shell.execute_reply": "2024-02-24T21:49:13.518606Z"
    },
    "papermill": {
     "duration": 0.028029,
     "end_time": "2024-02-24T21:49:13.521267",
     "exception": false,
     "start_time": "2024-02-24T21:49:13.493238",
     "status": "completed"
    },
    "tags": []
   },
   "outputs": [
    {
     "data": {
      "text/html": [
       "<div>\n",
       "<style scoped>\n",
       "    .dataframe tbody tr th:only-of-type {\n",
       "        vertical-align: middle;\n",
       "    }\n",
       "\n",
       "    .dataframe tbody tr th {\n",
       "        vertical-align: top;\n",
       "    }\n",
       "\n",
       "    .dataframe thead th {\n",
       "        text-align: right;\n",
       "    }\n",
       "</style>\n",
       "<table border=\"1\" class=\"dataframe\">\n",
       "  <thead>\n",
       "    <tr style=\"text-align: right;\">\n",
       "      <th></th>\n",
       "      <th>date</th>\n",
       "      <th>RET</th>\n",
       "      <th>ME</th>\n",
       "      <th>y</th>\n",
       "      <th>RF_reg_roll10</th>\n",
       "    </tr>\n",
       "  </thead>\n",
       "  <tbody>\n",
       "    <tr>\n",
       "      <th>3627748</th>\n",
       "      <td>2022-07-31</td>\n",
       "      <td>-0.106939</td>\n",
       "      <td>3.731571e+06</td>\n",
       "      <td>0</td>\n",
       "      <td>0.432648</td>\n",
       "    </tr>\n",
       "    <tr>\n",
       "      <th>3627749</th>\n",
       "      <td>2022-07-31</td>\n",
       "      <td>0.020969</td>\n",
       "      <td>5.066263e+03</td>\n",
       "      <td>1</td>\n",
       "      <td>0.023251</td>\n",
       "    </tr>\n",
       "    <tr>\n",
       "      <th>3627750</th>\n",
       "      <td>2022-07-31</td>\n",
       "      <td>0.184785</td>\n",
       "      <td>1.280287e+06</td>\n",
       "      <td>1</td>\n",
       "      <td>0.994785</td>\n",
       "    </tr>\n",
       "    <tr>\n",
       "      <th>3627751</th>\n",
       "      <td>2022-07-31</td>\n",
       "      <td>0.108881</td>\n",
       "      <td>3.475711e+04</td>\n",
       "      <td>1</td>\n",
       "      <td>0.072864</td>\n",
       "    </tr>\n",
       "    <tr>\n",
       "      <th>3627752</th>\n",
       "      <td>2022-07-31</td>\n",
       "      <td>0.323765</td>\n",
       "      <td>9.311106e+08</td>\n",
       "      <td>1</td>\n",
       "      <td>0.629270</td>\n",
       "    </tr>\n",
       "  </tbody>\n",
       "</table>\n",
       "</div>"
      ],
      "text/plain": [
       "              date       RET            ME  y  RF_reg_roll10\n",
       "3627748 2022-07-31 -0.106939  3.731571e+06  0       0.432648\n",
       "3627749 2022-07-31  0.020969  5.066263e+03  1       0.023251\n",
       "3627750 2022-07-31  0.184785  1.280287e+06  1       0.994785\n",
       "3627751 2022-07-31  0.108881  3.475711e+04  1       0.072864\n",
       "3627752 2022-07-31  0.323765  9.311106e+08  1       0.629270"
      ]
     },
     "execution_count": 11,
     "metadata": {},
     "output_type": "execute_result"
    }
   ],
   "source": [
    "portfolio.tail()"
   ]
  },
  {
   "cell_type": "code",
   "execution_count": 12,
   "id": "5a6a225e",
   "metadata": {
    "execution": {
     "iopub.execute_input": "2024-02-24T21:49:13.552627Z",
     "iopub.status.busy": "2024-02-24T21:49:13.552375Z",
     "iopub.status.idle": "2024-02-24T21:49:16.350747Z",
     "shell.execute_reply": "2024-02-24T21:49:16.349823Z"
    },
    "papermill": {
     "duration": 2.816384,
     "end_time": "2024-02-24T21:49:16.352987",
     "exception": false,
     "start_time": "2024-02-24T21:49:13.536603",
     "status": "completed"
    },
    "tags": []
   },
   "outputs": [
    {
     "name": "stderr",
     "output_type": "stream",
     "text": [
      "/tmp/ipykernel_26/2999037948.py:15: DeprecationWarning: DataFrameGroupBy.apply operated on the grouping columns. This behavior is deprecated, and in a future version of pandas the grouping columns will be excluded from the operation. Either pass `include_groups=False` to exclude the groupings or explicitly select the grouping columns after groupby to silence this warning.\n",
      "  vwreturns_temp = portfolio.groupby('date').apply(lambda x: np.sum(x['RET'] * x['ME'] * x[position_col]) / np.sum(x['ME'])).reset_index(name=vwret_col)\n"
     ]
    }
   ],
   "source": [
    "# Initialize an empty DataFrame to store value-weighted returns for each model\n",
    "vwreturns = pd.DataFrame(portfolio['date'].unique(), columns=['date'])  # Ensures all dates are included\n",
    "\n",
    "for pred_col in prediction_cols:\n",
    "    # Calculate deciles for this prediction\n",
    "    decile_col = f'decile_{pred_col}'\n",
    "    portfolio[decile_col] = portfolio.groupby(['date'])[pred_col].transform(lambda x: pd.qcut(x, 10, labels=False, duplicates='drop'))\n",
    "    \n",
    "    # Determine position based on deciles\n",
    "    position_col = f'position_{pred_col}'\n",
    "    portfolio[position_col] = np.where(portfolio[decile_col] == 9, 1, np.where(portfolio[decile_col] == 0, -1, 0))\n",
    "    \n",
    "    # Calculate the value-weighted return for this prediction\n",
    "    vwret_col = f'vwreturn_{pred_col}'\n",
    "    vwreturns_temp = portfolio.groupby('date').apply(lambda x: np.sum(x['RET'] * x['ME'] * x[position_col]) / np.sum(x['ME'])).reset_index(name=vwret_col)\n",
    "    \n",
    "    # Merge the temporary value-weighted returns with the main vwreturns DataFrame\n",
    "    vwreturns = vwreturns.merge(vwreturns_temp, on='date', how='left')\n",
    "\n",
    "# Ensure the 'date' column is the first column and is sorted\n",
    "vwreturns = vwreturns.sort_values('date').reset_index(drop=True)\n"
   ]
  },
  {
   "cell_type": "code",
   "execution_count": 13,
   "id": "597562f0",
   "metadata": {
    "execution": {
     "iopub.execute_input": "2024-02-24T21:49:16.385291Z",
     "iopub.status.busy": "2024-02-24T21:49:16.385001Z",
     "iopub.status.idle": "2024-02-24T21:49:16.393350Z",
     "shell.execute_reply": "2024-02-24T21:49:16.392478Z"
    },
    "papermill": {
     "duration": 0.02639,
     "end_time": "2024-02-24T21:49:16.395259",
     "exception": false,
     "start_time": "2024-02-24T21:49:16.368869",
     "status": "completed"
    },
    "tags": []
   },
   "outputs": [
    {
     "data": {
      "text/html": [
       "<div>\n",
       "<style scoped>\n",
       "    .dataframe tbody tr th:only-of-type {\n",
       "        vertical-align: middle;\n",
       "    }\n",
       "\n",
       "    .dataframe tbody tr th {\n",
       "        vertical-align: top;\n",
       "    }\n",
       "\n",
       "    .dataframe thead th {\n",
       "        text-align: right;\n",
       "    }\n",
       "</style>\n",
       "<table border=\"1\" class=\"dataframe\">\n",
       "  <thead>\n",
       "    <tr style=\"text-align: right;\">\n",
       "      <th></th>\n",
       "      <th>date</th>\n",
       "      <th>vwreturn_RF_reg_roll10</th>\n",
       "    </tr>\n",
       "  </thead>\n",
       "  <tbody>\n",
       "    <tr>\n",
       "      <th>0</th>\n",
       "      <td>1933-01-31</td>\n",
       "      <td>0.006215</td>\n",
       "    </tr>\n",
       "    <tr>\n",
       "      <th>1</th>\n",
       "      <td>1933-02-28</td>\n",
       "      <td>0.065318</td>\n",
       "    </tr>\n",
       "    <tr>\n",
       "      <th>2</th>\n",
       "      <td>1933-03-31</td>\n",
       "      <td>0.026626</td>\n",
       "    </tr>\n",
       "    <tr>\n",
       "      <th>3</th>\n",
       "      <td>1933-04-30</td>\n",
       "      <td>-0.003213</td>\n",
       "    </tr>\n",
       "    <tr>\n",
       "      <th>4</th>\n",
       "      <td>1933-05-31</td>\n",
       "      <td>-0.003773</td>\n",
       "    </tr>\n",
       "  </tbody>\n",
       "</table>\n",
       "</div>"
      ],
      "text/plain": [
       "        date  vwreturn_RF_reg_roll10\n",
       "0 1933-01-31                0.006215\n",
       "1 1933-02-28                0.065318\n",
       "2 1933-03-31                0.026626\n",
       "3 1933-04-30               -0.003213\n",
       "4 1933-05-31               -0.003773"
      ]
     },
     "execution_count": 13,
     "metadata": {},
     "output_type": "execute_result"
    }
   ],
   "source": [
    "vwreturns.head()"
   ]
  },
  {
   "cell_type": "markdown",
   "id": "1e383888",
   "metadata": {
    "papermill": {
     "duration": 0.01517,
     "end_time": "2024-02-24T21:49:16.426819",
     "exception": false,
     "start_time": "2024-02-24T21:49:16.411649",
     "status": "completed"
    },
    "tags": []
   },
   "source": [
    "### Compare to market data"
   ]
  },
  {
   "cell_type": "code",
   "execution_count": 14,
   "id": "20783c68",
   "metadata": {
    "execution": {
     "iopub.execute_input": "2024-02-24T21:49:16.458704Z",
     "iopub.status.busy": "2024-02-24T21:49:16.458460Z",
     "iopub.status.idle": "2024-02-24T21:49:16.485805Z",
     "shell.execute_reply": "2024-02-24T21:49:16.484977Z"
    },
    "papermill": {
     "duration": 0.045446,
     "end_time": "2024-02-24T21:49:16.487650",
     "exception": false,
     "start_time": "2024-02-24T21:49:16.442204",
     "status": "completed"
    },
    "tags": []
   },
   "outputs": [],
   "source": [
    "#market = pd.read_csv('FF3_clean.csv')\n",
    "market = pd.read_csv('/kaggle/input/sign-prediction-datasets/FF3_clean.csv')"
   ]
  },
  {
   "cell_type": "code",
   "execution_count": 15,
   "id": "6d5c1708",
   "metadata": {
    "execution": {
     "iopub.execute_input": "2024-02-24T21:49:16.519911Z",
     "iopub.status.busy": "2024-02-24T21:49:16.519648Z",
     "iopub.status.idle": "2024-02-24T21:49:16.530556Z",
     "shell.execute_reply": "2024-02-24T21:49:16.529694Z"
    },
    "papermill": {
     "duration": 0.029166,
     "end_time": "2024-02-24T21:49:16.532367",
     "exception": false,
     "start_time": "2024-02-24T21:49:16.503201",
     "status": "completed"
    },
    "tags": []
   },
   "outputs": [
    {
     "data": {
      "text/html": [
       "<div>\n",
       "<style scoped>\n",
       "    .dataframe tbody tr th:only-of-type {\n",
       "        vertical-align: middle;\n",
       "    }\n",
       "\n",
       "    .dataframe tbody tr th {\n",
       "        vertical-align: top;\n",
       "    }\n",
       "\n",
       "    .dataframe thead th {\n",
       "        text-align: right;\n",
       "    }\n",
       "</style>\n",
       "<table border=\"1\" class=\"dataframe\">\n",
       "  <thead>\n",
       "    <tr style=\"text-align: right;\">\n",
       "      <th></th>\n",
       "      <th>date</th>\n",
       "      <th>Mkt-RF</th>\n",
       "      <th>SMB</th>\n",
       "      <th>HML</th>\n",
       "      <th>RF</th>\n",
       "    </tr>\n",
       "  </thead>\n",
       "  <tbody>\n",
       "    <tr>\n",
       "      <th>0</th>\n",
       "      <td>1926-07-31</td>\n",
       "      <td>2.96</td>\n",
       "      <td>-2.56</td>\n",
       "      <td>-2.43</td>\n",
       "      <td>0.22</td>\n",
       "    </tr>\n",
       "    <tr>\n",
       "      <th>1</th>\n",
       "      <td>1926-08-31</td>\n",
       "      <td>2.64</td>\n",
       "      <td>-1.17</td>\n",
       "      <td>3.82</td>\n",
       "      <td>0.25</td>\n",
       "    </tr>\n",
       "    <tr>\n",
       "      <th>2</th>\n",
       "      <td>1926-09-30</td>\n",
       "      <td>0.36</td>\n",
       "      <td>-1.40</td>\n",
       "      <td>0.13</td>\n",
       "      <td>0.23</td>\n",
       "    </tr>\n",
       "    <tr>\n",
       "      <th>3</th>\n",
       "      <td>1926-10-31</td>\n",
       "      <td>-3.24</td>\n",
       "      <td>-0.09</td>\n",
       "      <td>0.70</td>\n",
       "      <td>0.32</td>\n",
       "    </tr>\n",
       "    <tr>\n",
       "      <th>4</th>\n",
       "      <td>1926-11-30</td>\n",
       "      <td>2.53</td>\n",
       "      <td>-0.10</td>\n",
       "      <td>-0.51</td>\n",
       "      <td>0.31</td>\n",
       "    </tr>\n",
       "  </tbody>\n",
       "</table>\n",
       "</div>"
      ],
      "text/plain": [
       "         date  Mkt-RF   SMB   HML    RF\n",
       "0  1926-07-31    2.96 -2.56 -2.43  0.22\n",
       "1  1926-08-31    2.64 -1.17  3.82  0.25\n",
       "2  1926-09-30    0.36 -1.40  0.13  0.23\n",
       "3  1926-10-31   -3.24 -0.09  0.70  0.32\n",
       "4  1926-11-30    2.53 -0.10 -0.51  0.31"
      ]
     },
     "execution_count": 15,
     "metadata": {},
     "output_type": "execute_result"
    }
   ],
   "source": [
    "market.head()"
   ]
  },
  {
   "cell_type": "code",
   "execution_count": 16,
   "id": "ebe9e37a",
   "metadata": {
    "execution": {
     "iopub.execute_input": "2024-02-24T21:49:16.565617Z",
     "iopub.status.busy": "2024-02-24T21:49:16.565047Z",
     "iopub.status.idle": "2024-02-24T21:49:16.581631Z",
     "shell.execute_reply": "2024-02-24T21:49:16.580907Z"
    },
    "papermill": {
     "duration": 0.036665,
     "end_time": "2024-02-24T21:49:16.585140",
     "exception": false,
     "start_time": "2024-02-24T21:49:16.548475",
     "status": "completed"
    },
    "tags": []
   },
   "outputs": [],
   "source": [
    "# create a new 'Mkt' which is a sum of Mkt-RF and RF\n",
    "market['Mkt'] = market['Mkt-RF'] + market['RF']\n",
    "\n",
    "# divide all columns by 100 except 'date'\n",
    "market.iloc[:, 1:] = market.iloc[:, 1:] / 100\n",
    "\n",
    "#set the 'date' column to datetime format\n",
    "market['date'] = pd.to_datetime(market['date'])\n",
    "\n",
    "# merge the market data (only date and Mkt columns) with the vwreturns DataFrame\n",
    "vwreturns = vwreturns.merge(market[['date', 'Mkt']], on='date', how='left')\n",
    "\n",
    "# transform all columns (except 'date') to a log: log(x+1) and save the result as lvwreturns\n",
    "lvwreturns = vwreturns.copy()\n",
    "lvwreturns.iloc[:, 1:] = np.log(vwreturns.iloc[:, 1:] + 1)"
   ]
  },
  {
   "cell_type": "code",
   "execution_count": 17,
   "id": "82958e60",
   "metadata": {
    "execution": {
     "iopub.execute_input": "2024-02-24T21:49:16.627678Z",
     "iopub.status.busy": "2024-02-24T21:49:16.627364Z",
     "iopub.status.idle": "2024-02-24T21:49:16.638168Z",
     "shell.execute_reply": "2024-02-24T21:49:16.637154Z"
    },
    "papermill": {
     "duration": 0.03273,
     "end_time": "2024-02-24T21:49:16.640307",
     "exception": false,
     "start_time": "2024-02-24T21:49:16.607577",
     "status": "completed"
    },
    "tags": []
   },
   "outputs": [
    {
     "data": {
      "text/html": [
       "<div>\n",
       "<style scoped>\n",
       "    .dataframe tbody tr th:only-of-type {\n",
       "        vertical-align: middle;\n",
       "    }\n",
       "\n",
       "    .dataframe tbody tr th {\n",
       "        vertical-align: top;\n",
       "    }\n",
       "\n",
       "    .dataframe thead th {\n",
       "        text-align: right;\n",
       "    }\n",
       "</style>\n",
       "<table border=\"1\" class=\"dataframe\">\n",
       "  <thead>\n",
       "    <tr style=\"text-align: right;\">\n",
       "      <th></th>\n",
       "      <th>date</th>\n",
       "      <th>vwreturn_RF_reg_roll10</th>\n",
       "      <th>Mkt</th>\n",
       "    </tr>\n",
       "  </thead>\n",
       "  <tbody>\n",
       "    <tr>\n",
       "      <th>0</th>\n",
       "      <td>1933-01-31</td>\n",
       "      <td>0.006215</td>\n",
       "      <td>0.0126</td>\n",
       "    </tr>\n",
       "    <tr>\n",
       "      <th>1</th>\n",
       "      <td>1933-02-28</td>\n",
       "      <td>0.065318</td>\n",
       "      <td>-0.1527</td>\n",
       "    </tr>\n",
       "    <tr>\n",
       "      <th>2</th>\n",
       "      <td>1933-03-31</td>\n",
       "      <td>0.026626</td>\n",
       "      <td>0.0333</td>\n",
       "    </tr>\n",
       "    <tr>\n",
       "      <th>3</th>\n",
       "      <td>1933-04-30</td>\n",
       "      <td>-0.003213</td>\n",
       "      <td>0.3895</td>\n",
       "    </tr>\n",
       "    <tr>\n",
       "      <th>4</th>\n",
       "      <td>1933-05-31</td>\n",
       "      <td>-0.003773</td>\n",
       "      <td>0.2147</td>\n",
       "    </tr>\n",
       "  </tbody>\n",
       "</table>\n",
       "</div>"
      ],
      "text/plain": [
       "        date  vwreturn_RF_reg_roll10     Mkt\n",
       "0 1933-01-31                0.006215  0.0126\n",
       "1 1933-02-28                0.065318 -0.1527\n",
       "2 1933-03-31                0.026626  0.0333\n",
       "3 1933-04-30               -0.003213  0.3895\n",
       "4 1933-05-31               -0.003773  0.2147"
      ]
     },
     "execution_count": 17,
     "metadata": {},
     "output_type": "execute_result"
    }
   ],
   "source": [
    "vwreturns.head()"
   ]
  },
  {
   "cell_type": "code",
   "execution_count": 18,
   "id": "897107ed",
   "metadata": {
    "execution": {
     "iopub.execute_input": "2024-02-24T21:49:16.678811Z",
     "iopub.status.busy": "2024-02-24T21:49:16.678532Z",
     "iopub.status.idle": "2024-02-24T21:49:16.687700Z",
     "shell.execute_reply": "2024-02-24T21:49:16.686897Z"
    },
    "papermill": {
     "duration": 0.030149,
     "end_time": "2024-02-24T21:49:16.689649",
     "exception": false,
     "start_time": "2024-02-24T21:49:16.659500",
     "status": "completed"
    },
    "tags": []
   },
   "outputs": [
    {
     "data": {
      "text/html": [
       "<div>\n",
       "<style scoped>\n",
       "    .dataframe tbody tr th:only-of-type {\n",
       "        vertical-align: middle;\n",
       "    }\n",
       "\n",
       "    .dataframe tbody tr th {\n",
       "        vertical-align: top;\n",
       "    }\n",
       "\n",
       "    .dataframe thead th {\n",
       "        text-align: right;\n",
       "    }\n",
       "</style>\n",
       "<table border=\"1\" class=\"dataframe\">\n",
       "  <thead>\n",
       "    <tr style=\"text-align: right;\">\n",
       "      <th></th>\n",
       "      <th>date</th>\n",
       "      <th>vwreturn_RF_reg_roll10</th>\n",
       "      <th>Mkt</th>\n",
       "    </tr>\n",
       "  </thead>\n",
       "  <tbody>\n",
       "    <tr>\n",
       "      <th>0</th>\n",
       "      <td>1933-01-31</td>\n",
       "      <td>0.006196</td>\n",
       "      <td>0.012521</td>\n",
       "    </tr>\n",
       "    <tr>\n",
       "      <th>1</th>\n",
       "      <td>1933-02-28</td>\n",
       "      <td>0.063273</td>\n",
       "      <td>-0.165700</td>\n",
       "    </tr>\n",
       "    <tr>\n",
       "      <th>2</th>\n",
       "      <td>1933-03-31</td>\n",
       "      <td>0.026278</td>\n",
       "      <td>0.032758</td>\n",
       "    </tr>\n",
       "    <tr>\n",
       "      <th>3</th>\n",
       "      <td>1933-04-30</td>\n",
       "      <td>-0.003218</td>\n",
       "      <td>0.328944</td>\n",
       "    </tr>\n",
       "    <tr>\n",
       "      <th>4</th>\n",
       "      <td>1933-05-31</td>\n",
       "      <td>-0.003780</td>\n",
       "      <td>0.194497</td>\n",
       "    </tr>\n",
       "  </tbody>\n",
       "</table>\n",
       "</div>"
      ],
      "text/plain": [
       "        date  vwreturn_RF_reg_roll10       Mkt\n",
       "0 1933-01-31                0.006196  0.012521\n",
       "1 1933-02-28                0.063273 -0.165700\n",
       "2 1933-03-31                0.026278  0.032758\n",
       "3 1933-04-30               -0.003218  0.328944\n",
       "4 1933-05-31               -0.003780  0.194497"
      ]
     },
     "execution_count": 18,
     "metadata": {},
     "output_type": "execute_result"
    }
   ],
   "source": [
    "lvwreturns.head()"
   ]
  },
  {
   "cell_type": "code",
   "execution_count": 19,
   "id": "a8ddcc3e",
   "metadata": {
    "execution": {
     "iopub.execute_input": "2024-02-24T21:49:16.723358Z",
     "iopub.status.busy": "2024-02-24T21:49:16.723083Z",
     "iopub.status.idle": "2024-02-24T21:49:16.738981Z",
     "shell.execute_reply": "2024-02-24T21:49:16.738107Z"
    },
    "papermill": {
     "duration": 0.034661,
     "end_time": "2024-02-24T21:49:16.740846",
     "exception": false,
     "start_time": "2024-02-24T21:49:16.706185",
     "status": "completed"
    },
    "tags": []
   },
   "outputs": [
    {
     "data": {
      "text/html": [
       "<div>\n",
       "<style scoped>\n",
       "    .dataframe tbody tr th:only-of-type {\n",
       "        vertical-align: middle;\n",
       "    }\n",
       "\n",
       "    .dataframe tbody tr th {\n",
       "        vertical-align: top;\n",
       "    }\n",
       "\n",
       "    .dataframe thead th {\n",
       "        text-align: right;\n",
       "    }\n",
       "</style>\n",
       "<table border=\"1\" class=\"dataframe\">\n",
       "  <thead>\n",
       "    <tr style=\"text-align: right;\">\n",
       "      <th></th>\n",
       "      <th>date</th>\n",
       "      <th>vwreturn_RF_reg_roll10</th>\n",
       "      <th>Mkt</th>\n",
       "    </tr>\n",
       "  </thead>\n",
       "  <tbody>\n",
       "    <tr>\n",
       "      <th>count</th>\n",
       "      <td>1074</td>\n",
       "      <td>1074.000000</td>\n",
       "      <td>1074.000000</td>\n",
       "    </tr>\n",
       "    <tr>\n",
       "      <th>mean</th>\n",
       "      <td>1977-11-05 12:12:04.022346368</td>\n",
       "      <td>0.012620</td>\n",
       "      <td>0.008968</td>\n",
       "    </tr>\n",
       "    <tr>\n",
       "      <th>min</th>\n",
       "      <td>1933-01-31 00:00:00</td>\n",
       "      <td>-0.073611</td>\n",
       "      <td>-0.272203</td>\n",
       "    </tr>\n",
       "    <tr>\n",
       "      <th>25%</th>\n",
       "      <td>1955-06-07 12:00:00</td>\n",
       "      <td>0.003123</td>\n",
       "      <td>-0.017248</td>\n",
       "    </tr>\n",
       "    <tr>\n",
       "      <th>50%</th>\n",
       "      <td>1977-11-15 00:00:00</td>\n",
       "      <td>0.007217</td>\n",
       "      <td>0.013064</td>\n",
       "    </tr>\n",
       "    <tr>\n",
       "      <th>75%</th>\n",
       "      <td>2000-03-23 06:00:00</td>\n",
       "      <td>0.016244</td>\n",
       "      <td>0.038162</td>\n",
       "    </tr>\n",
       "    <tr>\n",
       "      <th>max</th>\n",
       "      <td>2022-07-31 00:00:00</td>\n",
       "      <td>0.193999</td>\n",
       "      <td>0.328944</td>\n",
       "    </tr>\n",
       "    <tr>\n",
       "      <th>std</th>\n",
       "      <td>NaN</td>\n",
       "      <td>0.018138</td>\n",
       "      <td>0.048186</td>\n",
       "    </tr>\n",
       "  </tbody>\n",
       "</table>\n",
       "</div>"
      ],
      "text/plain": [
       "                                date  vwreturn_RF_reg_roll10          Mkt\n",
       "count                           1074             1074.000000  1074.000000\n",
       "mean   1977-11-05 12:12:04.022346368                0.012620     0.008968\n",
       "min              1933-01-31 00:00:00               -0.073611    -0.272203\n",
       "25%              1955-06-07 12:00:00                0.003123    -0.017248\n",
       "50%              1977-11-15 00:00:00                0.007217     0.013064\n",
       "75%              2000-03-23 06:00:00                0.016244     0.038162\n",
       "max              2022-07-31 00:00:00                0.193999     0.328944\n",
       "std                              NaN                0.018138     0.048186"
      ]
     },
     "execution_count": 19,
     "metadata": {},
     "output_type": "execute_result"
    }
   ],
   "source": [
    "lvwreturns.describe()"
   ]
  },
  {
   "cell_type": "code",
   "execution_count": 20,
   "id": "2c99caa5",
   "metadata": {
    "execution": {
     "iopub.execute_input": "2024-02-24T21:49:16.774917Z",
     "iopub.status.busy": "2024-02-24T21:49:16.774662Z",
     "iopub.status.idle": "2024-02-24T21:49:16.779232Z",
     "shell.execute_reply": "2024-02-24T21:49:16.778417Z"
    },
    "papermill": {
     "duration": 0.023677,
     "end_time": "2024-02-24T21:49:16.781036",
     "exception": false,
     "start_time": "2024-02-24T21:49:16.757359",
     "status": "completed"
    },
    "tags": []
   },
   "outputs": [],
   "source": [
    "## plot histograms of the value-weighted returns for each model and the market in lvwreturns\n",
    "#plt.figure(figsize=(12, round(len(prediction_cols)/2) * 5 ))\n",
    "#\n",
    "#for i, pred_col in enumerate(prediction_cols):\n",
    "#    plt.subplot(len(prediction_cols)/2 +1, 2, i+1)\n",
    "#    plt.hist(lvwreturns[f'vwreturn_{pred_col}'], bins=50, color='skyblue', edgecolor='black')\n",
    "#    plt.title(f'Value-Weighted Return - {pred_col}')\n",
    "#    plt.xlabel('Value-Weighted Return')\n",
    "#    plt.ylabel('Frequency')\n",
    "#    # calculate mean, skewness and kurtosis and add their values to the plot as a text, aligning to the top right corner\n",
    "#    mean = lvwreturns[f'vwreturn_{pred_col}'].mean()\n",
    "#    skewness = lvwreturns[f'vwreturn_{pred_col}'].skew()\n",
    "#    kurtosis = lvwreturns[f'vwreturn_{pred_col}'].kurtosis()\n",
    "#\n",
    "#    plt.text(0.95, 0.95, f'Mean: {mean:.4f}\\nSkewness: {skewness:.4f}\\nKurtosis: {kurtosis:.4f}', ha='right', va='top', transform=plt.gca().transAxes)\n",
    "#\n",
    "#\n",
    "#\n",
    "#plt.subplot(round(len(prediction_cols)/2) +1, 2, len(prediction_cols)+1)\n",
    "#plt.title('Value-Weighted Return - Market')\n",
    "#plt.xlabel('Value-Weighted Return')\n",
    "#plt.ylabel('Frequency')\n",
    "#plt.hist(lvwreturns['Mkt'], bins=50, color='skyblue', edgecolor='black')\n",
    "#mean = lvwreturns['Mkt'].mean()\n",
    "#skewness = lvwreturns['Mkt'].skew()\n",
    "#kurtosis = lvwreturns['Mkt'].kurtosis()\n",
    "#plt.text(0.95, 0.95, f'Mean: {mean:.4f}\\nSkewness: {skewness:.4f}\\nKurtosis: {kurtosis:.4f}', ha='right', va='top', transform=plt.gca().transAxes)\n",
    "#\n",
    "#plt.tight_layout()\n",
    "#plt.show()\n",
    "#"
   ]
  },
  {
   "cell_type": "code",
   "execution_count": 21,
   "id": "cc9af0f5",
   "metadata": {
    "execution": {
     "iopub.execute_input": "2024-02-24T21:49:16.815323Z",
     "iopub.status.busy": "2024-02-24T21:49:16.815051Z",
     "iopub.status.idle": "2024-02-24T21:49:16.818625Z",
     "shell.execute_reply": "2024-02-24T21:49:16.817832Z"
    },
    "papermill": {
     "duration": 0.022617,
     "end_time": "2024-02-24T21:49:16.820430",
     "exception": false,
     "start_time": "2024-02-24T21:49:16.797813",
     "status": "completed"
    },
    "tags": []
   },
   "outputs": [],
   "source": [
    "## plot cumulative sums of the value-weighted log returns\n",
    "#plt.figure(figsize=(12, 6))\n",
    "#plt.plot(lvwreturns['date'], lvwreturns.iloc[:, 1:].cumsum())\n",
    "#plt.title('Cumulative Value-Weighted Log Returns')\n",
    "#plt.xlabel('Date')\n",
    "#plt.ylabel('Cumulative Value-Weighted Log Returns')\n",
    "#plt.legend(prediction_cols + ['Market'])\n",
    "#plt.show()\n"
   ]
  },
  {
   "cell_type": "code",
   "execution_count": 22,
   "id": "f6c05ca9",
   "metadata": {
    "execution": {
     "iopub.execute_input": "2024-02-24T21:49:16.854727Z",
     "iopub.status.busy": "2024-02-24T21:49:16.854470Z",
     "iopub.status.idle": "2024-02-24T21:49:17.917367Z",
     "shell.execute_reply": "2024-02-24T21:49:17.916349Z"
    },
    "papermill": {
     "duration": 1.08265,
     "end_time": "2024-02-24T21:49:17.919816",
     "exception": false,
     "start_time": "2024-02-24T21:49:16.837166",
     "status": "completed"
    },
    "tags": []
   },
   "outputs": [],
   "source": [
    "# save the lvwreturns and portfolio DataFrame to a parquet file into 'outputs' folder\n",
    "\n",
    "# for reproducibility and visualization purposes\n",
    "lvwreturns.to_parquet('base_lvwreturns_reg3.parquet')\n",
    "portfolio.to_parquet('base_portfolio_reg3.parquet')\n",
    "\n",
    "# save vwreturns DataFrame to a .dta file into 'outputs' folder\n",
    "#vwreturns.to_stata('outputs/vwreturns.dta') # for backtasting in R - we need normal returns, not log returns\n"
   ]
  }
 ],
 "metadata": {
  "kaggle": {
   "accelerator": "none",
   "dataSources": [
    {
     "datasetId": 4464890,
     "sourceId": 7657795,
     "sourceType": "datasetVersion"
    }
   ],
   "dockerImageVersionId": 30646,
   "isGpuEnabled": false,
   "isInternetEnabled": true,
   "language": "python",
   "sourceType": "notebook"
  },
  "kernelspec": {
   "display_name": "Python 3",
   "language": "python",
   "name": "python3"
  },
  "language_info": {
   "codemirror_mode": {
    "name": "ipython",
    "version": 3
   },
   "file_extension": ".py",
   "mimetype": "text/x-python",
   "name": "python",
   "nbconvert_exporter": "python",
   "pygments_lexer": "ipython3",
   "version": "3.10.13"
  },
  "papermill": {
   "default_parameters": {},
   "duration": 17569.068389,
   "end_time": "2024-02-24T21:49:18.392516",
   "environment_variables": {},
   "exception": null,
   "input_path": "__notebook__.ipynb",
   "output_path": "__notebook__.ipynb",
   "parameters": {},
   "start_time": "2024-02-24T16:56:29.324127",
   "version": "2.5.0"
  }
 },
 "nbformat": 4,
 "nbformat_minor": 5
}
