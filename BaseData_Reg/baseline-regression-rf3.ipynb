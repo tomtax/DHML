{
 "cells": [
  {
   "cell_type": "markdown",
   "id": "a43c1afe",
   "metadata": {
    "papermill": {
     "duration": 0.008433,
     "end_time": "2024-02-24T16:58:30.487727",
     "exception": false,
     "start_time": "2024-02-24T16:58:30.479294",
     "status": "completed"
    },
    "tags": []
   },
   "source": [
    "# Framework for predictions and portfolio forming"
   ]
  },
  {
   "cell_type": "code",
   "execution_count": 1,
   "id": "a30bdc37",
   "metadata": {
    "execution": {
     "iopub.execute_input": "2024-02-24T16:58:30.504885Z",
     "iopub.status.busy": "2024-02-24T16:58:30.504536Z",
     "iopub.status.idle": "2024-02-24T16:58:32.555304Z",
     "shell.execute_reply": "2024-02-24T16:58:32.554495Z"
    },
    "papermill": {
     "duration": 2.062014,
     "end_time": "2024-02-24T16:58:32.557622",
     "exception": false,
     "start_time": "2024-02-24T16:58:30.495608",
     "status": "completed"
    },
    "tags": []
   },
   "outputs": [],
   "source": [
    "import numpy as np\n",
    "import pandas as pd\n",
    "pd.set_option('display.max_columns', None)\n",
    "import matplotlib.pyplot as plt\n",
    "import seaborn as sns\n",
    "import datetime as dt\n",
    "import time\n",
    "\n",
    "# import the parquet library\n",
    "import pyarrow.parquet as pq\n",
    "\n",
    "# import model libraries\n",
    "from sklearn.preprocessing import StandardScaler, MinMaxScaler\n",
    "from sklearn.linear_model import LogisticRegression, LinearRegression, Ridge, Lasso\n",
    "from sklearn.tree import DecisionTreeClassifier, DecisionTreeRegressor\n",
    "from sklearn.ensemble import RandomForestClassifier, RandomForestRegressor\n",
    "from sklearn.metrics import mean_squared_error, accuracy_score"
   ]
  },
  {
   "cell_type": "code",
   "execution_count": 2,
   "id": "7e38cea9",
   "metadata": {
    "execution": {
     "iopub.execute_input": "2024-02-24T16:58:32.575450Z",
     "iopub.status.busy": "2024-02-24T16:58:32.575033Z",
     "iopub.status.idle": "2024-02-24T16:58:33.909739Z",
     "shell.execute_reply": "2024-02-24T16:58:33.908724Z"
    },
    "papermill": {
     "duration": 1.345835,
     "end_time": "2024-02-24T16:58:33.911884",
     "exception": false,
     "start_time": "2024-02-24T16:58:32.566049",
     "status": "completed"
    },
    "tags": []
   },
   "outputs": [
    {
     "data": {
      "text/html": [
       "<div>\n",
       "<style scoped>\n",
       "    .dataframe tbody tr th:only-of-type {\n",
       "        vertical-align: middle;\n",
       "    }\n",
       "\n",
       "    .dataframe tbody tr th {\n",
       "        vertical-align: top;\n",
       "    }\n",
       "\n",
       "    .dataframe thead th {\n",
       "        text-align: right;\n",
       "    }\n",
       "</style>\n",
       "<table border=\"1\" class=\"dataframe\">\n",
       "  <thead>\n",
       "    <tr style=\"text-align: right;\">\n",
       "      <th></th>\n",
       "      <th>PERMNO</th>\n",
       "      <th>date</th>\n",
       "      <th>RET</th>\n",
       "      <th>ME</th>\n",
       "      <th>bull_D</th>\n",
       "      <th>bear_D</th>\n",
       "      <th>bull_W</th>\n",
       "      <th>bear_W</th>\n",
       "      <th>bull_M</th>\n",
       "      <th>bear_M</th>\n",
       "      <th>LMKT</th>\n",
       "      <th>IVOL</th>\n",
       "      <th>y</th>\n",
       "    </tr>\n",
       "  </thead>\n",
       "  <tbody>\n",
       "    <tr>\n",
       "      <th>0</th>\n",
       "      <td>10000</td>\n",
       "      <td>1986-02-28</td>\n",
       "      <td>-0.257143</td>\n",
       "      <td>11960.00000</td>\n",
       "      <td>0.0</td>\n",
       "      <td>0.0</td>\n",
       "      <td>0.0</td>\n",
       "      <td>1.0</td>\n",
       "      <td>0</td>\n",
       "      <td>0</td>\n",
       "      <td>0.0121</td>\n",
       "      <td>0.004058</td>\n",
       "      <td>0</td>\n",
       "    </tr>\n",
       "    <tr>\n",
       "      <th>1</th>\n",
       "      <td>10000</td>\n",
       "      <td>1986-03-31</td>\n",
       "      <td>0.365385</td>\n",
       "      <td>16330.00000</td>\n",
       "      <td>0.0</td>\n",
       "      <td>0.0</td>\n",
       "      <td>0.0</td>\n",
       "      <td>0.0</td>\n",
       "      <td>0</td>\n",
       "      <td>0</td>\n",
       "      <td>0.0766</td>\n",
       "      <td>0.000973</td>\n",
       "      <td>1</td>\n",
       "    </tr>\n",
       "    <tr>\n",
       "      <th>2</th>\n",
       "      <td>10000</td>\n",
       "      <td>1986-04-30</td>\n",
       "      <td>-0.098592</td>\n",
       "      <td>15172.00000</td>\n",
       "      <td>0.0</td>\n",
       "      <td>1.0</td>\n",
       "      <td>0.0</td>\n",
       "      <td>0.0</td>\n",
       "      <td>0</td>\n",
       "      <td>0</td>\n",
       "      <td>0.0548</td>\n",
       "      <td>0.001993</td>\n",
       "      <td>0</td>\n",
       "    </tr>\n",
       "    <tr>\n",
       "      <th>3</th>\n",
       "      <td>10000</td>\n",
       "      <td>1986-05-31</td>\n",
       "      <td>-0.222656</td>\n",
       "      <td>11793.87834</td>\n",
       "      <td>0.0</td>\n",
       "      <td>0.0</td>\n",
       "      <td>0.0</td>\n",
       "      <td>0.0</td>\n",
       "      <td>0</td>\n",
       "      <td>1</td>\n",
       "      <td>-0.0079</td>\n",
       "      <td>0.000163</td>\n",
       "      <td>0</td>\n",
       "    </tr>\n",
       "    <tr>\n",
       "      <th>4</th>\n",
       "      <td>10000</td>\n",
       "      <td>1986-06-30</td>\n",
       "      <td>-0.005025</td>\n",
       "      <td>11734.59375</td>\n",
       "      <td>0.0</td>\n",
       "      <td>0.0</td>\n",
       "      <td>0.0</td>\n",
       "      <td>0.0</td>\n",
       "      <td>0</td>\n",
       "      <td>2</td>\n",
       "      <td>0.0511</td>\n",
       "      <td>0.001569</td>\n",
       "      <td>0</td>\n",
       "    </tr>\n",
       "  </tbody>\n",
       "</table>\n",
       "</div>"
      ],
      "text/plain": [
       "   PERMNO       date       RET           ME  bull_D  bear_D  bull_W  bear_W  \\\n",
       "0   10000 1986-02-28 -0.257143  11960.00000     0.0     0.0     0.0     1.0   \n",
       "1   10000 1986-03-31  0.365385  16330.00000     0.0     0.0     0.0     0.0   \n",
       "2   10000 1986-04-30 -0.098592  15172.00000     0.0     1.0     0.0     0.0   \n",
       "3   10000 1986-05-31 -0.222656  11793.87834     0.0     0.0     0.0     0.0   \n",
       "4   10000 1986-06-30 -0.005025  11734.59375     0.0     0.0     0.0     0.0   \n",
       "\n",
       "   bull_M  bear_M    LMKT      IVOL  y  \n",
       "0       0       0  0.0121  0.004058  0  \n",
       "1       0       0  0.0766  0.000973  1  \n",
       "2       0       0  0.0548  0.001993  0  \n",
       "3       0       1 -0.0079  0.000163  0  \n",
       "4       0       2  0.0511  0.001569  0  "
      ]
     },
     "execution_count": 2,
     "metadata": {},
     "output_type": "execute_result"
    }
   ],
   "source": [
    "# load 'basemodel.parquet'\n",
    "#df = pd.read_parquet('basemodel.parquet')\n",
    "df = pd.read_parquet('/kaggle/input/sign-prediction-datasets/basemodel.parquet')\n",
    "prediction_cols = []\n",
    "df.head()"
   ]
  },
  {
   "cell_type": "code",
   "execution_count": 3,
   "id": "e6b9d7a6",
   "metadata": {
    "execution": {
     "iopub.execute_input": "2024-02-24T16:58:33.929799Z",
     "iopub.status.busy": "2024-02-24T16:58:33.929482Z",
     "iopub.status.idle": "2024-02-24T16:58:33.933656Z",
     "shell.execute_reply": "2024-02-24T16:58:33.932826Z"
    },
    "papermill": {
     "duration": 0.015186,
     "end_time": "2024-02-24T16:58:33.935534",
     "exception": false,
     "start_time": "2024-02-24T16:58:33.920348",
     "status": "completed"
    },
    "tags": []
   },
   "outputs": [],
   "source": [
    "# select the columns to be used for prediction\n",
    "X_col = ['bull_D', 'bear_D', 'bull_W', 'bear_W', 'bull_M', 'bear_M', 'LMKT', 'IVOL']"
   ]
  },
  {
   "cell_type": "code",
   "execution_count": 4,
   "id": "c9b2ebc0",
   "metadata": {
    "execution": {
     "iopub.execute_input": "2024-02-24T16:58:33.953366Z",
     "iopub.status.busy": "2024-02-24T16:58:33.953079Z",
     "iopub.status.idle": "2024-02-24T16:58:34.709694Z",
     "shell.execute_reply": "2024-02-24T16:58:34.708823Z"
    },
    "papermill": {
     "duration": 0.768386,
     "end_time": "2024-02-24T16:58:34.712107",
     "exception": false,
     "start_time": "2024-02-24T16:58:33.943721",
     "status": "completed"
    },
    "tags": []
   },
   "outputs": [],
   "source": [
    "# Convert 'date' to datetime format (if not already done) and sort the DataFrame\n",
    "df['date'] = pd.to_datetime(df['date'])\n",
    "df.sort_values(by='date', inplace=True)\n",
    "df.reset_index(drop=True, inplace=True)\n",
    "\n",
    "# Create a 'year' column based on the 'date' column\n",
    "df['year'] = df['date'].dt.year"
   ]
  },
  {
   "cell_type": "markdown",
   "id": "ba0de1f6",
   "metadata": {
    "papermill": {
     "duration": 0.008081,
     "end_time": "2024-02-24T16:58:34.728592",
     "exception": false,
     "start_time": "2024-02-24T16:58:34.720511",
     "status": "completed"
    },
    "tags": []
   },
   "source": [
    "# Paper Replication - OLS and Logit, Expanding Window - No Hyperparameters\n",
    "- They start with out of sample forecasting in 1932\n",
    "- models will be named model_default"
   ]
  },
  {
   "cell_type": "markdown",
   "id": "0aa6c4fc",
   "metadata": {
    "papermill": {
     "duration": 0.00905,
     "end_time": "2024-02-24T16:58:34.745615",
     "exception": false,
     "start_time": "2024-02-24T16:58:34.736565",
     "status": "completed"
    },
    "tags": []
   },
   "source": [
    "# My Experiments"
   ]
  },
  {
   "cell_type": "markdown",
   "id": "0ff26d54",
   "metadata": {
    "papermill": {
     "duration": 0.007973,
     "end_time": "2024-02-24T16:58:34.762338",
     "exception": false,
     "start_time": "2024-02-24T16:58:34.754365",
     "status": "completed"
    },
    "tags": []
   },
   "source": [
    "## Machine Learning - Hyperparameter Tuning included in the process\n",
    "- models to be named 'model_clas/reg_exp/roll'"
   ]
  },
  {
   "cell_type": "markdown",
   "id": "b6c7ccf3",
   "metadata": {
    "papermill": {
     "duration": 0.007724,
     "end_time": "2024-02-24T16:58:34.778060",
     "exception": false,
     "start_time": "2024-02-24T16:58:34.770336",
     "status": "completed"
    },
    "tags": []
   },
   "source": [
    "### First expanding, then rolling\n",
    "start predicting for 1932, expand the window until you reach X years, then roll it"
   ]
  },
  {
   "cell_type": "markdown",
   "id": "49150122",
   "metadata": {
    "papermill": {
     "duration": 0.00774,
     "end_time": "2024-02-24T16:58:34.793755",
     "exception": false,
     "start_time": "2024-02-24T16:58:34.786015",
     "status": "completed"
    },
    "tags": []
   },
   "source": [
    "##### 10 year window"
   ]
  },
  {
   "cell_type": "code",
   "execution_count": 5,
   "id": "c47a4f9b",
   "metadata": {
    "execution": {
     "iopub.execute_input": "2024-02-24T16:58:34.811349Z",
     "iopub.status.busy": "2024-02-24T16:58:34.810767Z",
     "iopub.status.idle": "2024-02-24T16:58:34.814948Z",
     "shell.execute_reply": "2024-02-24T16:58:34.814086Z"
    },
    "papermill": {
     "duration": 0.0151,
     "end_time": "2024-02-24T16:58:34.816900",
     "exception": false,
     "start_time": "2024-02-24T16:58:34.801800",
     "status": "completed"
    },
    "tags": []
   },
   "outputs": [],
   "source": [
    "# set the length of the rolling window\n",
    "rolling_window = 10 # years"
   ]
  },
  {
   "cell_type": "code",
   "execution_count": null,
   "id": "b0f191de",
   "metadata": {
    "execution": {
     "iopub.execute_input": "2024-02-20T17:30:06.607577Z",
     "iopub.status.busy": "2024-02-20T17:30:06.607110Z",
     "iopub.status.idle": "2024-02-20T20:14:55.773650Z",
     "shell.execute_reply": "2024-02-20T20:14:55.772098Z"
    },
    "papermill": {
     "duration": 0.007831,
     "end_time": "2024-02-24T16:58:34.832926",
     "exception": false,
     "start_time": "2024-02-24T16:58:34.825095",
     "status": "completed"
    },
    "tags": []
   },
   "outputs": [],
   "source": []
  },
  {
   "cell_type": "markdown",
   "id": "431a8e38",
   "metadata": {
    "papermill": {
     "duration": 0.007795,
     "end_time": "2024-02-24T16:58:34.848728",
     "exception": false,
     "start_time": "2024-02-24T16:58:34.840933",
     "status": "completed"
    },
    "tags": []
   },
   "source": [
    "##### 20 year window"
   ]
  },
  {
   "cell_type": "code",
   "execution_count": 6,
   "id": "1b73c10d",
   "metadata": {
    "execution": {
     "iopub.execute_input": "2024-02-24T16:58:34.865821Z",
     "iopub.status.busy": "2024-02-24T16:58:34.865527Z",
     "iopub.status.idle": "2024-02-24T16:58:34.869038Z",
     "shell.execute_reply": "2024-02-24T16:58:34.868166Z"
    },
    "papermill": {
     "duration": 0.014242,
     "end_time": "2024-02-24T16:58:34.870852",
     "exception": false,
     "start_time": "2024-02-24T16:58:34.856610",
     "status": "completed"
    },
    "tags": []
   },
   "outputs": [],
   "source": [
    "rolling_window = 20 # years"
   ]
  },
  {
   "cell_type": "code",
   "execution_count": 7,
   "id": "812e4ad4",
   "metadata": {
    "execution": {
     "iopub.execute_input": "2024-02-24T16:58:34.888697Z",
     "iopub.status.busy": "2024-02-24T16:58:34.887943Z",
     "iopub.status.idle": "2024-02-24T18:56:41.603831Z",
     "shell.execute_reply": "2024-02-24T18:56:41.602899Z"
    },
    "papermill": {
     "duration": 7086.74282,
     "end_time": "2024-02-24T18:56:41.621592",
     "exception": false,
     "start_time": "2024-02-24T16:58:34.878772",
     "status": "completed"
    },
    "tags": []
   },
   "outputs": [
    {
     "name": "stdout",
     "output_type": "stream",
     "text": [
      "Year 1933 - Best n_estimators: 10, Best max_depth: 10, Best MSE: 0.0906, Time: 14.86 seconds\n",
      "Year 1934 - Best n_estimators: 10, Best max_depth: 10, Best MSE: 0.0859, Time: 14.89 seconds\n",
      "Year 1935 - Best n_estimators: 200, Best max_depth: 5, Best MSE: 0.1043, Time: 17.11 seconds\n",
      "Year 1936 - Best n_estimators: 200, Best max_depth: 10, Best MSE: 0.1275, Time: 17.79 seconds\n",
      "Year 1937 - Best n_estimators: 100, Best max_depth: 10, Best MSE: 0.102, Time: 16.76 seconds\n",
      "Year 1938 - Best n_estimators: 10, Best max_depth: 10, Best MSE: 0.0809, Time: 15.80 seconds\n",
      "Year 1939 - Best n_estimators: 50, Best max_depth: 10, Best MSE: 0.0882, Time: 16.43 seconds\n",
      "Year 1940 - Best n_estimators: 50, Best max_depth: 5, Best MSE: 0.091, Time: 16.53 seconds\n",
      "Year 1941 - Best n_estimators: 200, Best max_depth: 10, Best MSE: 0.1199, Time: 19.15 seconds\n",
      "Year 1942 - Best n_estimators: 10, Best max_depth: 5, Best MSE: 0.1255, Time: 17.91 seconds\n",
      "Year 1943 - Best n_estimators: 200, Best max_depth: 5, Best MSE: 0.1281, Time: 19.37 seconds\n",
      "Year 1944 - Best n_estimators: 10, Best max_depth: 5, Best MSE: 0.0923, Time: 18.14 seconds\n",
      "Year 1945 - Best n_estimators: 200, Best max_depth: 15, Best MSE: 0.1103, Time: 19.98 seconds\n",
      "Year 1946 - Best n_estimators: 100, Best max_depth: 5, Best MSE: 0.0868, Time: 17.94 seconds\n",
      "Year 1947 - Best n_estimators: 200, Best max_depth: 10, Best MSE: 0.0848, Time: 19.24 seconds\n",
      "Year 1948 - Best n_estimators: 10, Best max_depth: 5, Best MSE: 0.1176, Time: 16.77 seconds\n",
      "Year 1949 - Best n_estimators: 100, Best max_depth: 5, Best MSE: 0.101, Time: 18.50 seconds\n",
      "Year 1950 - Best n_estimators: 10, Best max_depth: 10, Best MSE: 0.1082, Time: 18.27 seconds\n",
      "Year 1951 - Best n_estimators: 100, Best max_depth: 5, Best MSE: 0.103, Time: 20.35 seconds\n",
      "Year 1952 - Best n_estimators: 200, Best max_depth: 5, Best MSE: 0.1014, Time: 21.81 seconds\n",
      "Year 1953 - Best n_estimators: 10, Best max_depth: 10, Best MSE: 0.0984, Time: 20.13 seconds\n",
      "Year 1954 - Best n_estimators: 50, Best max_depth: 5, Best MSE: 0.1149, Time: 21.52 seconds\n",
      "Year 1955 - Best n_estimators: 200, Best max_depth: 10, Best MSE: 0.0946, Time: 24.14 seconds\n",
      "Year 1956 - Best n_estimators: 200, Best max_depth: 10, Best MSE: 0.1093, Time: 23.84 seconds\n",
      "Year 1957 - Best n_estimators: 200, Best max_depth: 10, Best MSE: 0.0966, Time: 24.68 seconds\n",
      "Year 1958 - Best n_estimators: 10, Best max_depth: 5, Best MSE: 0.0998, Time: 22.37 seconds\n",
      "Year 1959 - Best n_estimators: 50, Best max_depth: 5, Best MSE: 0.0955, Time: 22.69 seconds\n",
      "Year 1960 - Best n_estimators: 50, Best max_depth: 10, Best MSE: 0.1122, Time: 22.46 seconds\n",
      "Year 1961 - Best n_estimators: 50, Best max_depth: 5, Best MSE: 0.0996, Time: 22.24 seconds\n",
      "Year 1962 - Best n_estimators: 50, Best max_depth: 5, Best MSE: 0.0976, Time: 22.62 seconds\n",
      "Year 1963 - Best n_estimators: 50, Best max_depth: 5, Best MSE: 0.0937, Time: 22.42 seconds\n",
      "Year 1964 - Best n_estimators: 100, Best max_depth: 10, Best MSE: 0.1203, Time: 26.56 seconds\n",
      "Year 1965 - Best n_estimators: 100, Best max_depth: 5, Best MSE: 0.1313, Time: 32.75 seconds\n",
      "Year 1966 - Best n_estimators: 200, Best max_depth: 15, Best MSE: 0.1051, Time: 42.89 seconds\n",
      "Year 1967 - Best n_estimators: 10, Best max_depth: 10, Best MSE: 0.1067, Time: 42.89 seconds\n",
      "Year 1968 - Best n_estimators: 200, Best max_depth: 10, Best MSE: 0.0943, Time: 51.27 seconds\n",
      "Year 1969 - Best n_estimators: 10, Best max_depth: 10, Best MSE: 0.0942, Time: 46.27 seconds\n",
      "Year 1970 - Best n_estimators: 10, Best max_depth: 10, Best MSE: 0.0821, Time: 45.20 seconds\n",
      "Year 1971 - Best n_estimators: 10, Best max_depth: 5, Best MSE: 0.096, Time: 46.15 seconds\n",
      "Year 1972 - Best n_estimators: 200, Best max_depth: 5, Best MSE: 0.0957, Time: 48.56 seconds\n",
      "Year 1973 - Best n_estimators: 50, Best max_depth: 5, Best MSE: 0.1012, Time: 48.04 seconds\n",
      "Year 1974 - Best n_estimators: 100, Best max_depth: 5, Best MSE: 0.1051, Time: 50.33 seconds\n",
      "Year 1975 - Best n_estimators: 10, Best max_depth: 10, Best MSE: 0.121, Time: 67.02 seconds\n",
      "Year 1976 - Best n_estimators: 100, Best max_depth: 10, Best MSE: 0.1228, Time: 90.00 seconds\n",
      "Year 1977 - Best n_estimators: 200, Best max_depth: 10, Best MSE: 0.1155, Time: 114.06 seconds\n",
      "Year 1978 - Best n_estimators: 10, Best max_depth: 10, Best MSE: 0.1189, Time: 113.87 seconds\n",
      "Year 1979 - Best n_estimators: 200, Best max_depth: 15, Best MSE: 0.1184, Time: 128.83 seconds\n",
      "Year 1980 - Best n_estimators: 10, Best max_depth: 5, Best MSE: 0.1188, Time: 109.12 seconds\n",
      "Year 1981 - Best n_estimators: 10, Best max_depth: 10, Best MSE: 0.0993, Time: 108.38 seconds\n",
      "Year 1982 - Best n_estimators: 200, Best max_depth: 10, Best MSE: 0.1046, Time: 117.19 seconds\n",
      "Year 1983 - Best n_estimators: 10, Best max_depth: 10, Best MSE: 0.1089, Time: 105.47 seconds\n",
      "Year 1984 - Best n_estimators: 10, Best max_depth: 5, Best MSE: 0.1115, Time: 109.03 seconds\n",
      "Year 1985 - Best n_estimators: 200, Best max_depth: 10, Best MSE: 0.1132, Time: 126.51 seconds\n",
      "Year 1986 - Best n_estimators: 10, Best max_depth: 10, Best MSE: 0.1068, Time: 123.19 seconds\n",
      "Year 1987 - Best n_estimators: 100, Best max_depth: 10, Best MSE: 0.1055, Time: 134.44 seconds\n",
      "Year 1988 - Best n_estimators: 50, Best max_depth: 5, Best MSE: 0.1104, Time: 138.65 seconds\n",
      "Year 1989 - Best n_estimators: 200, Best max_depth: 5, Best MSE: 0.1252, Time: 152.75 seconds\n",
      "Year 1990 - Best n_estimators: 100, Best max_depth: 10, Best MSE: 0.1136, Time: 154.48 seconds\n",
      "Year 1991 - Best n_estimators: 200, Best max_depth: 10, Best MSE: 0.1071, Time: 168.42 seconds\n",
      "Year 1992 - Best n_estimators: 50, Best max_depth: 10, Best MSE: 0.1125, Time: 154.55 seconds\n",
      "Year 1993 - Best n_estimators: 10, Best max_depth: 10, Best MSE: 0.1175, Time: 149.49 seconds\n",
      "Year 1994 - Best n_estimators: 50, Best max_depth: 10, Best MSE: 0.1183, Time: 150.56 seconds\n",
      "Year 1995 - Best n_estimators: 10, Best max_depth: 10, Best MSE: 0.1196, Time: 150.87 seconds\n",
      "Year 1996 - Best n_estimators: 10, Best max_depth: 10, Best MSE: 0.1153, Time: 154.60 seconds\n",
      "Year 1997 - Best n_estimators: 50, Best max_depth: 10, Best MSE: 0.1135, Time: 163.39 seconds\n",
      "Year 1998 - Best n_estimators: 100, Best max_depth: 10, Best MSE: 0.1036, Time: 179.53 seconds\n",
      "Year 1999 - Best n_estimators: 100, Best max_depth: 10, Best MSE: 0.099, Time: 186.18 seconds\n",
      "Year 2000 - Best n_estimators: 100, Best max_depth: 10, Best MSE: 0.1104, Time: 185.58 seconds\n",
      "Year 2001 - Best n_estimators: 100, Best max_depth: 10, Best MSE: 0.1025, Time: 183.70 seconds\n",
      "Year 2002 - Best n_estimators: 200, Best max_depth: 10, Best MSE: 0.1023, Time: 189.97 seconds\n",
      "Year 2003 - Best n_estimators: 100, Best max_depth: 10, Best MSE: 0.0952, Time: 170.19 seconds\n",
      "Year 2004 - Best n_estimators: 200, Best max_depth: 5, Best MSE: 0.1009, Time: 157.07 seconds\n",
      "Year 2005 - Best n_estimators: 200, Best max_depth: 10, Best MSE: 0.096, Time: 146.48 seconds\n",
      "Year 2006 - Best n_estimators: 10, Best max_depth: 10, Best MSE: 0.0942, Time: 120.64 seconds\n",
      "Year 2007 - Best n_estimators: 100, Best max_depth: 10, Best MSE: 0.1014, Time: 117.04 seconds\n",
      "Year 2008 - Best n_estimators: 10, Best max_depth: 10, Best MSE: 0.097, Time: 105.87 seconds\n",
      "Year 2009 - Best n_estimators: 50, Best max_depth: 10, Best MSE: 0.0896, Time: 106.28 seconds\n",
      "Year 2010 - Best n_estimators: 100, Best max_depth: 10, Best MSE: 0.0983, Time: 105.67 seconds\n",
      "Year 2011 - Best n_estimators: 100, Best max_depth: 15, Best MSE: 0.0835, Time: 103.99 seconds\n",
      "Year 2012 - Best n_estimators: 50, Best max_depth: 5, Best MSE: 0.0965, Time: 94.54 seconds\n",
      "Year 2013 - Best n_estimators: 200, Best max_depth: 10, Best MSE: 0.0967, Time: 97.82 seconds\n",
      "Year 2014 - Best n_estimators: 10, Best max_depth: 10, Best MSE: 0.0912, Time: 84.65 seconds\n",
      "Year 2015 - Best n_estimators: 50, Best max_depth: 5, Best MSE: 0.0972, Time: 82.50 seconds\n",
      "Year 2016 - Best n_estimators: 200, Best max_depth: 10, Best MSE: 0.1031, Time: 89.17 seconds\n",
      "Year 2017 - Best n_estimators: 10, Best max_depth: 5, Best MSE: 0.0955, Time: 80.41 seconds\n",
      "Year 2018 - Best n_estimators: 200, Best max_depth: 10, Best MSE: 0.1045, Time: 88.46 seconds\n",
      "Year 2019 - Best n_estimators: 200, Best max_depth: 10, Best MSE: 0.1014, Time: 91.04 seconds\n",
      "Year 2020 - Best n_estimators: 100, Best max_depth: 10, Best MSE: 0.0907, Time: 87.18 seconds\n",
      "Year 2021 - Best n_estimators: 50, Best max_depth: 5, Best MSE: 0.0988, Time: 80.59 seconds\n",
      "Year 2022 - Best n_estimators: 10, Best max_depth: 10, Best MSE: 0.1005, Time: 79.57 seconds\n",
      "Total time: 7086.70 seconds\n"
     ]
    }
   ],
   "source": [
    "#################################\n",
    "# RANDOM FOREST REGRESSION\n",
    "#################################\n",
    "start_time2 = time.time()  # Start timing\n",
    "\n",
    "model_name = 'RF_reg_roll20'  # Name for storing Random Forest regression predictions\n",
    "\n",
    "# Predefined set of values for hyperparameter tuning\n",
    "HP1 = [10, 50, 100, 200]  # Possible values for n_estimators\n",
    "HP2 = [None, 5, 10, 15]  # Possible values for max_depth\n",
    "\n",
    "# Update the column name for storing Random Forest regression predictions\n",
    "df[model_name] = np.nan\n",
    "\n",
    "# Ensure the new column is in the prediction_cols list\n",
    "if model_name not in prediction_cols:\n",
    "    prediction_cols.append(model_name)\n",
    "\n",
    "# Define the start year for modeling based on having at least 7 years of data\n",
    "start_modeling_year = df['year'].min() + 7\n",
    "\n",
    "# Assuming rolling_window is defined elsewhere; set it if not\n",
    "rolling_window = 5  # For example, change this as needed\n",
    "\n",
    "for year in range(start_modeling_year, df['year'].max() + 1):\n",
    "    start_time = time.time()  # Start timing\n",
    "    \n",
    "    # Determine the start year of the training window based on the current year\n",
    "    train_start_year = max(year - rolling_window, df['year'].min())  # Ensure it does not go below the earliest year\n",
    "    \n",
    "    # Select the training data based on the calculated start year\n",
    "    train_data = df[(df['year'] >= train_start_year) & (df['year'] < year)]\n",
    "    \n",
    "    # Split training data into actual training and tuning sets\n",
    "    # Use the last year of the training data for tuning\n",
    "    tuning_data = train_data[train_data['year'] == year - 1]\n",
    "    actual_train_data = train_data[train_data['year'] < year - 1]\n",
    "    \n",
    "    X_train = actual_train_data[X_col]\n",
    "    y_train = actual_train_data['y']\n",
    "    \n",
    "    X_tune = tuning_data[X_col]\n",
    "    y_tune = tuning_data['y']\n",
    "    \n",
    "    best_HP1 = None\n",
    "    best_HP2 = None\n",
    "    best_mse = float('inf')  # Initialize with infinity\n",
    "    \n",
    "    # Hyperparameter tuning\n",
    "    for hp1 in HP1:\n",
    "        for hp2 in HP2:\n",
    "            model = RandomForestRegressor(n_estimators=hp1, max_depth=hp2, random_state=42, n_jobs = -1)\n",
    "            model.fit(X_train, y_train)\n",
    "            predictions = model.predict(X_tune)  # Predict continuous values\n",
    "            mse = mean_squared_error(y_tune, predictions)  # Calculate MSE\n",
    "            \n",
    "            if mse < best_mse:  # Lower MSE is better\n",
    "                best_mse = mse\n",
    "                best_HP1 = hp1\n",
    "                best_HP2 = hp2\n",
    "    \n",
    "    # Retrain on the entire training window (excluding tuning year) with the best hyperparameters\n",
    "    model = RandomForestRegressor(n_estimators=best_HP1, max_depth=best_HP2, random_state=42, n_jobs = -1)\n",
    "    model.fit(X_train, y_train)\n",
    "    \n",
    "    # Predict for the next year\n",
    "    next_year_data = df[df['year'] == year]\n",
    "    X_next_year = next_year_data[X_col]\n",
    "    \n",
    "    if not X_next_year.empty:\n",
    "        next_year_predictions = model.predict(X_next_year)  # Predict continuous values\n",
    "        df.loc[df['year'] == year, model_name] = next_year_predictions\n",
    "    \n",
    "    end_time = time.time()  # End timing\n",
    "    iteration_time = end_time - start_time  # Calculate iteration time\n",
    "    \n",
    "    print(f\"Year {year} - Best n_estimators: {best_HP1}, Best max_depth: {best_HP2}, Best MSE: {round(best_mse,4)}, Time: {iteration_time:.2f} seconds\")\n",
    "\n",
    "end_time2 = time.time()\n",
    "print(f\"Total time: {end_time2 - start_time2:.2f} seconds\")"
   ]
  },
  {
   "cell_type": "markdown",
   "id": "def4f20d",
   "metadata": {
    "papermill": {
     "duration": 0.01476,
     "end_time": "2024-02-24T18:56:41.651241",
     "exception": false,
     "start_time": "2024-02-24T18:56:41.636481",
     "status": "completed"
    },
    "tags": []
   },
   "source": [
    "## Forming Portfolios, Value-weighted portfolio returns"
   ]
  },
  {
   "cell_type": "code",
   "execution_count": 8,
   "id": "65e1e8b8",
   "metadata": {
    "execution": {
     "iopub.execute_input": "2024-02-24T18:56:41.681994Z",
     "iopub.status.busy": "2024-02-24T18:56:41.681687Z",
     "iopub.status.idle": "2024-02-24T18:56:41.699541Z",
     "shell.execute_reply": "2024-02-24T18:56:41.698711Z"
    },
    "papermill": {
     "duration": 0.035467,
     "end_time": "2024-02-24T18:56:41.701540",
     "exception": false,
     "start_time": "2024-02-24T18:56:41.666073",
     "status": "completed"
    },
    "tags": []
   },
   "outputs": [
    {
     "data": {
      "text/html": [
       "<div>\n",
       "<style scoped>\n",
       "    .dataframe tbody tr th:only-of-type {\n",
       "        vertical-align: middle;\n",
       "    }\n",
       "\n",
       "    .dataframe tbody tr th {\n",
       "        vertical-align: top;\n",
       "    }\n",
       "\n",
       "    .dataframe thead th {\n",
       "        text-align: right;\n",
       "    }\n",
       "</style>\n",
       "<table border=\"1\" class=\"dataframe\">\n",
       "  <thead>\n",
       "    <tr style=\"text-align: right;\">\n",
       "      <th></th>\n",
       "      <th>PERMNO</th>\n",
       "      <th>date</th>\n",
       "      <th>RET</th>\n",
       "      <th>ME</th>\n",
       "      <th>bull_D</th>\n",
       "      <th>bear_D</th>\n",
       "      <th>bull_W</th>\n",
       "      <th>bear_W</th>\n",
       "      <th>bull_M</th>\n",
       "      <th>bear_M</th>\n",
       "      <th>LMKT</th>\n",
       "      <th>IVOL</th>\n",
       "      <th>y</th>\n",
       "      <th>year</th>\n",
       "      <th>RF_reg_roll20</th>\n",
       "    </tr>\n",
       "  </thead>\n",
       "  <tbody>\n",
       "    <tr>\n",
       "      <th>0</th>\n",
       "      <td>11148</td>\n",
       "      <td>1926-08-31</td>\n",
       "      <td>0.109924</td>\n",
       "      <td>76287.5</td>\n",
       "      <td>1.0</td>\n",
       "      <td>0.0</td>\n",
       "      <td>4.0</td>\n",
       "      <td>0.0</td>\n",
       "      <td>0</td>\n",
       "      <td>0</td>\n",
       "      <td>0.0318</td>\n",
       "      <td>0.000040</td>\n",
       "      <td>1</td>\n",
       "      <td>1926</td>\n",
       "      <td>NaN</td>\n",
       "    </tr>\n",
       "    <tr>\n",
       "      <th>1</th>\n",
       "      <td>10874</td>\n",
       "      <td>1926-08-31</td>\n",
       "      <td>0.168142</td>\n",
       "      <td>16500.0</td>\n",
       "      <td>0.0</td>\n",
       "      <td>0.0</td>\n",
       "      <td>2.0</td>\n",
       "      <td>0.0</td>\n",
       "      <td>2</td>\n",
       "      <td>0</td>\n",
       "      <td>0.0318</td>\n",
       "      <td>0.000537</td>\n",
       "      <td>1</td>\n",
       "      <td>1926</td>\n",
       "      <td>NaN</td>\n",
       "    </tr>\n",
       "    <tr>\n",
       "      <th>2</th>\n",
       "      <td>12968</td>\n",
       "      <td>1926-08-31</td>\n",
       "      <td>-0.006464</td>\n",
       "      <td>55683.0</td>\n",
       "      <td>0.0</td>\n",
       "      <td>0.0</td>\n",
       "      <td>0.0</td>\n",
       "      <td>0.0</td>\n",
       "      <td>0</td>\n",
       "      <td>0</td>\n",
       "      <td>0.0318</td>\n",
       "      <td>0.000007</td>\n",
       "      <td>0</td>\n",
       "      <td>1926</td>\n",
       "      <td>NaN</td>\n",
       "    </tr>\n",
       "    <tr>\n",
       "      <th>3</th>\n",
       "      <td>12976</td>\n",
       "      <td>1926-08-31</td>\n",
       "      <td>0.156041</td>\n",
       "      <td>41650.0</td>\n",
       "      <td>1.0</td>\n",
       "      <td>0.0</td>\n",
       "      <td>0.0</td>\n",
       "      <td>0.0</td>\n",
       "      <td>0</td>\n",
       "      <td>0</td>\n",
       "      <td>0.0318</td>\n",
       "      <td>0.000070</td>\n",
       "      <td>1</td>\n",
       "      <td>1926</td>\n",
       "      <td>NaN</td>\n",
       "    </tr>\n",
       "    <tr>\n",
       "      <th>4</th>\n",
       "      <td>12984</td>\n",
       "      <td>1926-08-31</td>\n",
       "      <td>0.046875</td>\n",
       "      <td>11323.0</td>\n",
       "      <td>1.0</td>\n",
       "      <td>0.0</td>\n",
       "      <td>0.0</td>\n",
       "      <td>0.0</td>\n",
       "      <td>0</td>\n",
       "      <td>0</td>\n",
       "      <td>0.0318</td>\n",
       "      <td>0.000874</td>\n",
       "      <td>1</td>\n",
       "      <td>1926</td>\n",
       "      <td>NaN</td>\n",
       "    </tr>\n",
       "  </tbody>\n",
       "</table>\n",
       "</div>"
      ],
      "text/plain": [
       "   PERMNO       date       RET       ME  bull_D  bear_D  bull_W  bear_W  \\\n",
       "0   11148 1926-08-31  0.109924  76287.5     1.0     0.0     4.0     0.0   \n",
       "1   10874 1926-08-31  0.168142  16500.0     0.0     0.0     2.0     0.0   \n",
       "2   12968 1926-08-31 -0.006464  55683.0     0.0     0.0     0.0     0.0   \n",
       "3   12976 1926-08-31  0.156041  41650.0     1.0     0.0     0.0     0.0   \n",
       "4   12984 1926-08-31  0.046875  11323.0     1.0     0.0     0.0     0.0   \n",
       "\n",
       "   bull_M  bear_M    LMKT      IVOL  y  year  RF_reg_roll20  \n",
       "0       0       0  0.0318  0.000040  1  1926            NaN  \n",
       "1       2       0  0.0318  0.000537  1  1926            NaN  \n",
       "2       0       0  0.0318  0.000007  0  1926            NaN  \n",
       "3       0       0  0.0318  0.000070  1  1926            NaN  \n",
       "4       0       0  0.0318  0.000874  1  1926            NaN  "
      ]
     },
     "execution_count": 8,
     "metadata": {},
     "output_type": "execute_result"
    }
   ],
   "source": [
    "df.head()"
   ]
  },
  {
   "cell_type": "code",
   "execution_count": 9,
   "id": "858cdfc2",
   "metadata": {
    "execution": {
     "iopub.execute_input": "2024-02-24T18:56:41.732946Z",
     "iopub.status.busy": "2024-02-24T18:56:41.732611Z",
     "iopub.status.idle": "2024-02-24T18:56:41.737840Z",
     "shell.execute_reply": "2024-02-24T18:56:41.737013Z"
    },
    "papermill": {
     "duration": 0.02309,
     "end_time": "2024-02-24T18:56:41.739643",
     "exception": false,
     "start_time": "2024-02-24T18:56:41.716553",
     "status": "completed"
    },
    "tags": []
   },
   "outputs": [
    {
     "data": {
      "text/plain": [
       "['RF_reg_roll20']"
      ]
     },
     "execution_count": 9,
     "metadata": {},
     "output_type": "execute_result"
    }
   ],
   "source": [
    "prediction_cols\n",
    "# prediction_cols = ['logit_default','OLS_default','logit_roll6','DT_reg_roll']"
   ]
  },
  {
   "cell_type": "code",
   "execution_count": 10,
   "id": "317262d3",
   "metadata": {
    "execution": {
     "iopub.execute_input": "2024-02-24T18:56:41.771545Z",
     "iopub.status.busy": "2024-02-24T18:56:41.771291Z",
     "iopub.status.idle": "2024-02-24T18:56:42.124475Z",
     "shell.execute_reply": "2024-02-24T18:56:42.123573Z"
    },
    "papermill": {
     "duration": 0.371444,
     "end_time": "2024-02-24T18:56:42.126700",
     "exception": false,
     "start_time": "2024-02-24T18:56:41.755256",
     "status": "completed"
    },
    "tags": []
   },
   "outputs": [
    {
     "data": {
      "text/html": [
       "<div>\n",
       "<style scoped>\n",
       "    .dataframe tbody tr th:only-of-type {\n",
       "        vertical-align: middle;\n",
       "    }\n",
       "\n",
       "    .dataframe tbody tr th {\n",
       "        vertical-align: top;\n",
       "    }\n",
       "\n",
       "    .dataframe thead th {\n",
       "        text-align: right;\n",
       "    }\n",
       "</style>\n",
       "<table border=\"1\" class=\"dataframe\">\n",
       "  <thead>\n",
       "    <tr style=\"text-align: right;\">\n",
       "      <th></th>\n",
       "      <th>date</th>\n",
       "      <th>RET</th>\n",
       "      <th>ME</th>\n",
       "      <th>y</th>\n",
       "      <th>RF_reg_roll20</th>\n",
       "    </tr>\n",
       "  </thead>\n",
       "  <tbody>\n",
       "    <tr>\n",
       "      <th>49083</th>\n",
       "      <td>1933-01-31</td>\n",
       "      <td>0.036765</td>\n",
       "      <td>31918.875</td>\n",
       "      <td>1</td>\n",
       "      <td>1.000000</td>\n",
       "    </tr>\n",
       "    <tr>\n",
       "      <th>49084</th>\n",
       "      <td>1933-01-31</td>\n",
       "      <td>0.121849</td>\n",
       "      <td>7142.250</td>\n",
       "      <td>1</td>\n",
       "      <td>0.360372</td>\n",
       "    </tr>\n",
       "    <tr>\n",
       "      <th>49085</th>\n",
       "      <td>1933-01-31</td>\n",
       "      <td>0.015625</td>\n",
       "      <td>1560.000</td>\n",
       "      <td>1</td>\n",
       "      <td>1.000000</td>\n",
       "    </tr>\n",
       "    <tr>\n",
       "      <th>49086</th>\n",
       "      <td>1933-01-31</td>\n",
       "      <td>-0.084337</td>\n",
       "      <td>4275.000</td>\n",
       "      <td>0</td>\n",
       "      <td>0.000000</td>\n",
       "    </tr>\n",
       "    <tr>\n",
       "      <th>49087</th>\n",
       "      <td>1933-01-31</td>\n",
       "      <td>-0.037500</td>\n",
       "      <td>447581.750</td>\n",
       "      <td>0</td>\n",
       "      <td>0.234625</td>\n",
       "    </tr>\n",
       "  </tbody>\n",
       "</table>\n",
       "</div>"
      ],
      "text/plain": [
       "            date       RET          ME  y  RF_reg_roll20\n",
       "49083 1933-01-31  0.036765   31918.875  1       1.000000\n",
       "49084 1933-01-31  0.121849    7142.250  1       0.360372\n",
       "49085 1933-01-31  0.015625    1560.000  1       1.000000\n",
       "49086 1933-01-31 -0.084337    4275.000  0       0.000000\n",
       "49087 1933-01-31 -0.037500  447581.750  0       0.234625"
      ]
     },
     "execution_count": 10,
     "metadata": {},
     "output_type": "execute_result"
    }
   ],
   "source": [
    "portfolio = df[['date', 'RET', 'ME', 'y'] + prediction_cols].copy()\n",
    "portfolio['date'] = pd.to_datetime(portfolio['date'])\n",
    "\n",
    "# drop rows with missing values\n",
    "portfolio.dropna(inplace=True)\n",
    "\n",
    "portfolio.head()"
   ]
  },
  {
   "cell_type": "code",
   "execution_count": 11,
   "id": "1cb2172c",
   "metadata": {
    "execution": {
     "iopub.execute_input": "2024-02-24T18:56:42.160352Z",
     "iopub.status.busy": "2024-02-24T18:56:42.160077Z",
     "iopub.status.idle": "2024-02-24T18:56:42.170578Z",
     "shell.execute_reply": "2024-02-24T18:56:42.169739Z"
    },
    "papermill": {
     "duration": 0.029001,
     "end_time": "2024-02-24T18:56:42.172570",
     "exception": false,
     "start_time": "2024-02-24T18:56:42.143569",
     "status": "completed"
    },
    "tags": []
   },
   "outputs": [
    {
     "data": {
      "text/html": [
       "<div>\n",
       "<style scoped>\n",
       "    .dataframe tbody tr th:only-of-type {\n",
       "        vertical-align: middle;\n",
       "    }\n",
       "\n",
       "    .dataframe tbody tr th {\n",
       "        vertical-align: top;\n",
       "    }\n",
       "\n",
       "    .dataframe thead th {\n",
       "        text-align: right;\n",
       "    }\n",
       "</style>\n",
       "<table border=\"1\" class=\"dataframe\">\n",
       "  <thead>\n",
       "    <tr style=\"text-align: right;\">\n",
       "      <th></th>\n",
       "      <th>date</th>\n",
       "      <th>RET</th>\n",
       "      <th>ME</th>\n",
       "      <th>y</th>\n",
       "      <th>RF_reg_roll20</th>\n",
       "    </tr>\n",
       "  </thead>\n",
       "  <tbody>\n",
       "    <tr>\n",
       "      <th>3627748</th>\n",
       "      <td>2022-07-31</td>\n",
       "      <td>-0.106939</td>\n",
       "      <td>3.731571e+06</td>\n",
       "      <td>0</td>\n",
       "      <td>0.395324</td>\n",
       "    </tr>\n",
       "    <tr>\n",
       "      <th>3627749</th>\n",
       "      <td>2022-07-31</td>\n",
       "      <td>0.020969</td>\n",
       "      <td>5.066263e+03</td>\n",
       "      <td>1</td>\n",
       "      <td>0.096802</td>\n",
       "    </tr>\n",
       "    <tr>\n",
       "      <th>3627750</th>\n",
       "      <td>2022-07-31</td>\n",
       "      <td>0.184785</td>\n",
       "      <td>1.280287e+06</td>\n",
       "      <td>1</td>\n",
       "      <td>0.595736</td>\n",
       "    </tr>\n",
       "    <tr>\n",
       "      <th>3627751</th>\n",
       "      <td>2022-07-31</td>\n",
       "      <td>0.108881</td>\n",
       "      <td>3.475711e+04</td>\n",
       "      <td>1</td>\n",
       "      <td>0.096802</td>\n",
       "    </tr>\n",
       "    <tr>\n",
       "      <th>3627752</th>\n",
       "      <td>2022-07-31</td>\n",
       "      <td>0.323765</td>\n",
       "      <td>9.311106e+08</td>\n",
       "      <td>1</td>\n",
       "      <td>0.676393</td>\n",
       "    </tr>\n",
       "  </tbody>\n",
       "</table>\n",
       "</div>"
      ],
      "text/plain": [
       "              date       RET            ME  y  RF_reg_roll20\n",
       "3627748 2022-07-31 -0.106939  3.731571e+06  0       0.395324\n",
       "3627749 2022-07-31  0.020969  5.066263e+03  1       0.096802\n",
       "3627750 2022-07-31  0.184785  1.280287e+06  1       0.595736\n",
       "3627751 2022-07-31  0.108881  3.475711e+04  1       0.096802\n",
       "3627752 2022-07-31  0.323765  9.311106e+08  1       0.676393"
      ]
     },
     "execution_count": 11,
     "metadata": {},
     "output_type": "execute_result"
    }
   ],
   "source": [
    "portfolio.tail()"
   ]
  },
  {
   "cell_type": "code",
   "execution_count": 12,
   "id": "3c03a13a",
   "metadata": {
    "execution": {
     "iopub.execute_input": "2024-02-24T18:56:42.205617Z",
     "iopub.status.busy": "2024-02-24T18:56:42.205349Z",
     "iopub.status.idle": "2024-02-24T18:56:45.026305Z",
     "shell.execute_reply": "2024-02-24T18:56:45.025334Z"
    },
    "papermill": {
     "duration": 2.839566,
     "end_time": "2024-02-24T18:56:45.028495",
     "exception": false,
     "start_time": "2024-02-24T18:56:42.188929",
     "status": "completed"
    },
    "tags": []
   },
   "outputs": [
    {
     "name": "stderr",
     "output_type": "stream",
     "text": [
      "/tmp/ipykernel_26/2999037948.py:15: DeprecationWarning: DataFrameGroupBy.apply operated on the grouping columns. This behavior is deprecated, and in a future version of pandas the grouping columns will be excluded from the operation. Either pass `include_groups=False` to exclude the groupings or explicitly select the grouping columns after groupby to silence this warning.\n",
      "  vwreturns_temp = portfolio.groupby('date').apply(lambda x: np.sum(x['RET'] * x['ME'] * x[position_col]) / np.sum(x['ME'])).reset_index(name=vwret_col)\n"
     ]
    }
   ],
   "source": [
    "# Initialize an empty DataFrame to store value-weighted returns for each model\n",
    "vwreturns = pd.DataFrame(portfolio['date'].unique(), columns=['date'])  # Ensures all dates are included\n",
    "\n",
    "for pred_col in prediction_cols:\n",
    "    # Calculate deciles for this prediction\n",
    "    decile_col = f'decile_{pred_col}'\n",
    "    portfolio[decile_col] = portfolio.groupby(['date'])[pred_col].transform(lambda x: pd.qcut(x, 10, labels=False, duplicates='drop'))\n",
    "    \n",
    "    # Determine position based on deciles\n",
    "    position_col = f'position_{pred_col}'\n",
    "    portfolio[position_col] = np.where(portfolio[decile_col] == 9, 1, np.where(portfolio[decile_col] == 0, -1, 0))\n",
    "    \n",
    "    # Calculate the value-weighted return for this prediction\n",
    "    vwret_col = f'vwreturn_{pred_col}'\n",
    "    vwreturns_temp = portfolio.groupby('date').apply(lambda x: np.sum(x['RET'] * x['ME'] * x[position_col]) / np.sum(x['ME'])).reset_index(name=vwret_col)\n",
    "    \n",
    "    # Merge the temporary value-weighted returns with the main vwreturns DataFrame\n",
    "    vwreturns = vwreturns.merge(vwreturns_temp, on='date', how='left')\n",
    "\n",
    "# Ensure the 'date' column is the first column and is sorted\n",
    "vwreturns = vwreturns.sort_values('date').reset_index(drop=True)\n"
   ]
  },
  {
   "cell_type": "code",
   "execution_count": 13,
   "id": "00424c5b",
   "metadata": {
    "execution": {
     "iopub.execute_input": "2024-02-24T18:56:45.061812Z",
     "iopub.status.busy": "2024-02-24T18:56:45.061519Z",
     "iopub.status.idle": "2024-02-24T18:56:45.069942Z",
     "shell.execute_reply": "2024-02-24T18:56:45.069091Z"
    },
    "papermill": {
     "duration": 0.027184,
     "end_time": "2024-02-24T18:56:45.071831",
     "exception": false,
     "start_time": "2024-02-24T18:56:45.044647",
     "status": "completed"
    },
    "tags": []
   },
   "outputs": [
    {
     "data": {
      "text/html": [
       "<div>\n",
       "<style scoped>\n",
       "    .dataframe tbody tr th:only-of-type {\n",
       "        vertical-align: middle;\n",
       "    }\n",
       "\n",
       "    .dataframe tbody tr th {\n",
       "        vertical-align: top;\n",
       "    }\n",
       "\n",
       "    .dataframe thead th {\n",
       "        text-align: right;\n",
       "    }\n",
       "</style>\n",
       "<table border=\"1\" class=\"dataframe\">\n",
       "  <thead>\n",
       "    <tr style=\"text-align: right;\">\n",
       "      <th></th>\n",
       "      <th>date</th>\n",
       "      <th>vwreturn_RF_reg_roll20</th>\n",
       "    </tr>\n",
       "  </thead>\n",
       "  <tbody>\n",
       "    <tr>\n",
       "      <th>0</th>\n",
       "      <td>1933-01-31</td>\n",
       "      <td>0.006433</td>\n",
       "    </tr>\n",
       "    <tr>\n",
       "      <th>1</th>\n",
       "      <td>1933-02-28</td>\n",
       "      <td>0.065318</td>\n",
       "    </tr>\n",
       "    <tr>\n",
       "      <th>2</th>\n",
       "      <td>1933-03-31</td>\n",
       "      <td>0.026224</td>\n",
       "    </tr>\n",
       "    <tr>\n",
       "      <th>3</th>\n",
       "      <td>1933-04-30</td>\n",
       "      <td>-0.005987</td>\n",
       "    </tr>\n",
       "    <tr>\n",
       "      <th>4</th>\n",
       "      <td>1933-05-31</td>\n",
       "      <td>-0.004905</td>\n",
       "    </tr>\n",
       "  </tbody>\n",
       "</table>\n",
       "</div>"
      ],
      "text/plain": [
       "        date  vwreturn_RF_reg_roll20\n",
       "0 1933-01-31                0.006433\n",
       "1 1933-02-28                0.065318\n",
       "2 1933-03-31                0.026224\n",
       "3 1933-04-30               -0.005987\n",
       "4 1933-05-31               -0.004905"
      ]
     },
     "execution_count": 13,
     "metadata": {},
     "output_type": "execute_result"
    }
   ],
   "source": [
    "vwreturns.head()"
   ]
  },
  {
   "cell_type": "markdown",
   "id": "98f05c42",
   "metadata": {
    "papermill": {
     "duration": 0.016048,
     "end_time": "2024-02-24T18:56:45.104451",
     "exception": false,
     "start_time": "2024-02-24T18:56:45.088403",
     "status": "completed"
    },
    "tags": []
   },
   "source": [
    "### Compare to market data"
   ]
  },
  {
   "cell_type": "code",
   "execution_count": 14,
   "id": "62b3a35c",
   "metadata": {
    "execution": {
     "iopub.execute_input": "2024-02-24T18:56:45.137286Z",
     "iopub.status.busy": "2024-02-24T18:56:45.137007Z",
     "iopub.status.idle": "2024-02-24T18:56:45.162392Z",
     "shell.execute_reply": "2024-02-24T18:56:45.161464Z"
    },
    "papermill": {
     "duration": 0.043958,
     "end_time": "2024-02-24T18:56:45.164309",
     "exception": false,
     "start_time": "2024-02-24T18:56:45.120351",
     "status": "completed"
    },
    "tags": []
   },
   "outputs": [],
   "source": [
    "#market = pd.read_csv('FF3_clean.csv')\n",
    "market = pd.read_csv('/kaggle/input/sign-prediction-datasets/FF3_clean.csv')"
   ]
  },
  {
   "cell_type": "code",
   "execution_count": 15,
   "id": "b4ec4bf5",
   "metadata": {
    "execution": {
     "iopub.execute_input": "2024-02-24T18:56:45.198285Z",
     "iopub.status.busy": "2024-02-24T18:56:45.198022Z",
     "iopub.status.idle": "2024-02-24T18:56:45.209495Z",
     "shell.execute_reply": "2024-02-24T18:56:45.208601Z"
    },
    "papermill": {
     "duration": 0.030319,
     "end_time": "2024-02-24T18:56:45.211531",
     "exception": false,
     "start_time": "2024-02-24T18:56:45.181212",
     "status": "completed"
    },
    "tags": []
   },
   "outputs": [
    {
     "data": {
      "text/html": [
       "<div>\n",
       "<style scoped>\n",
       "    .dataframe tbody tr th:only-of-type {\n",
       "        vertical-align: middle;\n",
       "    }\n",
       "\n",
       "    .dataframe tbody tr th {\n",
       "        vertical-align: top;\n",
       "    }\n",
       "\n",
       "    .dataframe thead th {\n",
       "        text-align: right;\n",
       "    }\n",
       "</style>\n",
       "<table border=\"1\" class=\"dataframe\">\n",
       "  <thead>\n",
       "    <tr style=\"text-align: right;\">\n",
       "      <th></th>\n",
       "      <th>date</th>\n",
       "      <th>Mkt-RF</th>\n",
       "      <th>SMB</th>\n",
       "      <th>HML</th>\n",
       "      <th>RF</th>\n",
       "    </tr>\n",
       "  </thead>\n",
       "  <tbody>\n",
       "    <tr>\n",
       "      <th>0</th>\n",
       "      <td>1926-07-31</td>\n",
       "      <td>2.96</td>\n",
       "      <td>-2.56</td>\n",
       "      <td>-2.43</td>\n",
       "      <td>0.22</td>\n",
       "    </tr>\n",
       "    <tr>\n",
       "      <th>1</th>\n",
       "      <td>1926-08-31</td>\n",
       "      <td>2.64</td>\n",
       "      <td>-1.17</td>\n",
       "      <td>3.82</td>\n",
       "      <td>0.25</td>\n",
       "    </tr>\n",
       "    <tr>\n",
       "      <th>2</th>\n",
       "      <td>1926-09-30</td>\n",
       "      <td>0.36</td>\n",
       "      <td>-1.40</td>\n",
       "      <td>0.13</td>\n",
       "      <td>0.23</td>\n",
       "    </tr>\n",
       "    <tr>\n",
       "      <th>3</th>\n",
       "      <td>1926-10-31</td>\n",
       "      <td>-3.24</td>\n",
       "      <td>-0.09</td>\n",
       "      <td>0.70</td>\n",
       "      <td>0.32</td>\n",
       "    </tr>\n",
       "    <tr>\n",
       "      <th>4</th>\n",
       "      <td>1926-11-30</td>\n",
       "      <td>2.53</td>\n",
       "      <td>-0.10</td>\n",
       "      <td>-0.51</td>\n",
       "      <td>0.31</td>\n",
       "    </tr>\n",
       "  </tbody>\n",
       "</table>\n",
       "</div>"
      ],
      "text/plain": [
       "         date  Mkt-RF   SMB   HML    RF\n",
       "0  1926-07-31    2.96 -2.56 -2.43  0.22\n",
       "1  1926-08-31    2.64 -1.17  3.82  0.25\n",
       "2  1926-09-30    0.36 -1.40  0.13  0.23\n",
       "3  1926-10-31   -3.24 -0.09  0.70  0.32\n",
       "4  1926-11-30    2.53 -0.10 -0.51  0.31"
      ]
     },
     "execution_count": 15,
     "metadata": {},
     "output_type": "execute_result"
    }
   ],
   "source": [
    "market.head()"
   ]
  },
  {
   "cell_type": "code",
   "execution_count": 16,
   "id": "3ef65483",
   "metadata": {
    "execution": {
     "iopub.execute_input": "2024-02-24T18:56:45.246172Z",
     "iopub.status.busy": "2024-02-24T18:56:45.245921Z",
     "iopub.status.idle": "2024-02-24T18:56:45.262959Z",
     "shell.execute_reply": "2024-02-24T18:56:45.262220Z"
    },
    "papermill": {
     "duration": 0.036145,
     "end_time": "2024-02-24T18:56:45.264975",
     "exception": false,
     "start_time": "2024-02-24T18:56:45.228830",
     "status": "completed"
    },
    "tags": []
   },
   "outputs": [],
   "source": [
    "# create a new 'Mkt' which is a sum of Mkt-RF and RF\n",
    "market['Mkt'] = market['Mkt-RF'] + market['RF']\n",
    "\n",
    "# divide all columns by 100 except 'date'\n",
    "market.iloc[:, 1:] = market.iloc[:, 1:] / 100\n",
    "\n",
    "#set the 'date' column to datetime format\n",
    "market['date'] = pd.to_datetime(market['date'])\n",
    "\n",
    "# merge the market data (only date and Mkt columns) with the vwreturns DataFrame\n",
    "vwreturns = vwreturns.merge(market[['date', 'Mkt']], on='date', how='left')\n",
    "\n",
    "# transform all columns (except 'date') to a log: log(x+1) and save the result as lvwreturns\n",
    "lvwreturns = vwreturns.copy()\n",
    "lvwreturns.iloc[:, 1:] = np.log(vwreturns.iloc[:, 1:] + 1)"
   ]
  },
  {
   "cell_type": "code",
   "execution_count": 17,
   "id": "24d0b83a",
   "metadata": {
    "execution": {
     "iopub.execute_input": "2024-02-24T18:56:45.300289Z",
     "iopub.status.busy": "2024-02-24T18:56:45.300040Z",
     "iopub.status.idle": "2024-02-24T18:56:45.309319Z",
     "shell.execute_reply": "2024-02-24T18:56:45.308494Z"
    },
    "papermill": {
     "duration": 0.029215,
     "end_time": "2024-02-24T18:56:45.311370",
     "exception": false,
     "start_time": "2024-02-24T18:56:45.282155",
     "status": "completed"
    },
    "tags": []
   },
   "outputs": [
    {
     "data": {
      "text/html": [
       "<div>\n",
       "<style scoped>\n",
       "    .dataframe tbody tr th:only-of-type {\n",
       "        vertical-align: middle;\n",
       "    }\n",
       "\n",
       "    .dataframe tbody tr th {\n",
       "        vertical-align: top;\n",
       "    }\n",
       "\n",
       "    .dataframe thead th {\n",
       "        text-align: right;\n",
       "    }\n",
       "</style>\n",
       "<table border=\"1\" class=\"dataframe\">\n",
       "  <thead>\n",
       "    <tr style=\"text-align: right;\">\n",
       "      <th></th>\n",
       "      <th>date</th>\n",
       "      <th>vwreturn_RF_reg_roll20</th>\n",
       "      <th>Mkt</th>\n",
       "    </tr>\n",
       "  </thead>\n",
       "  <tbody>\n",
       "    <tr>\n",
       "      <th>0</th>\n",
       "      <td>1933-01-31</td>\n",
       "      <td>0.006433</td>\n",
       "      <td>0.0126</td>\n",
       "    </tr>\n",
       "    <tr>\n",
       "      <th>1</th>\n",
       "      <td>1933-02-28</td>\n",
       "      <td>0.065318</td>\n",
       "      <td>-0.1527</td>\n",
       "    </tr>\n",
       "    <tr>\n",
       "      <th>2</th>\n",
       "      <td>1933-03-31</td>\n",
       "      <td>0.026224</td>\n",
       "      <td>0.0333</td>\n",
       "    </tr>\n",
       "    <tr>\n",
       "      <th>3</th>\n",
       "      <td>1933-04-30</td>\n",
       "      <td>-0.005987</td>\n",
       "      <td>0.3895</td>\n",
       "    </tr>\n",
       "    <tr>\n",
       "      <th>4</th>\n",
       "      <td>1933-05-31</td>\n",
       "      <td>-0.004905</td>\n",
       "      <td>0.2147</td>\n",
       "    </tr>\n",
       "  </tbody>\n",
       "</table>\n",
       "</div>"
      ],
      "text/plain": [
       "        date  vwreturn_RF_reg_roll20     Mkt\n",
       "0 1933-01-31                0.006433  0.0126\n",
       "1 1933-02-28                0.065318 -0.1527\n",
       "2 1933-03-31                0.026224  0.0333\n",
       "3 1933-04-30               -0.005987  0.3895\n",
       "4 1933-05-31               -0.004905  0.2147"
      ]
     },
     "execution_count": 17,
     "metadata": {},
     "output_type": "execute_result"
    }
   ],
   "source": [
    "vwreturns.head()"
   ]
  },
  {
   "cell_type": "code",
   "execution_count": 18,
   "id": "44fc42b2",
   "metadata": {
    "execution": {
     "iopub.execute_input": "2024-02-24T18:56:45.346589Z",
     "iopub.status.busy": "2024-02-24T18:56:45.346324Z",
     "iopub.status.idle": "2024-02-24T18:56:45.355330Z",
     "shell.execute_reply": "2024-02-24T18:56:45.354442Z"
    },
    "papermill": {
     "duration": 0.028397,
     "end_time": "2024-02-24T18:56:45.357328",
     "exception": false,
     "start_time": "2024-02-24T18:56:45.328931",
     "status": "completed"
    },
    "tags": []
   },
   "outputs": [
    {
     "data": {
      "text/html": [
       "<div>\n",
       "<style scoped>\n",
       "    .dataframe tbody tr th:only-of-type {\n",
       "        vertical-align: middle;\n",
       "    }\n",
       "\n",
       "    .dataframe tbody tr th {\n",
       "        vertical-align: top;\n",
       "    }\n",
       "\n",
       "    .dataframe thead th {\n",
       "        text-align: right;\n",
       "    }\n",
       "</style>\n",
       "<table border=\"1\" class=\"dataframe\">\n",
       "  <thead>\n",
       "    <tr style=\"text-align: right;\">\n",
       "      <th></th>\n",
       "      <th>date</th>\n",
       "      <th>vwreturn_RF_reg_roll20</th>\n",
       "      <th>Mkt</th>\n",
       "    </tr>\n",
       "  </thead>\n",
       "  <tbody>\n",
       "    <tr>\n",
       "      <th>0</th>\n",
       "      <td>1933-01-31</td>\n",
       "      <td>0.006413</td>\n",
       "      <td>0.012521</td>\n",
       "    </tr>\n",
       "    <tr>\n",
       "      <th>1</th>\n",
       "      <td>1933-02-28</td>\n",
       "      <td>0.063273</td>\n",
       "      <td>-0.165700</td>\n",
       "    </tr>\n",
       "    <tr>\n",
       "      <th>2</th>\n",
       "      <td>1933-03-31</td>\n",
       "      <td>0.025886</td>\n",
       "      <td>0.032758</td>\n",
       "    </tr>\n",
       "    <tr>\n",
       "      <th>3</th>\n",
       "      <td>1933-04-30</td>\n",
       "      <td>-0.006005</td>\n",
       "      <td>0.328944</td>\n",
       "    </tr>\n",
       "    <tr>\n",
       "      <th>4</th>\n",
       "      <td>1933-05-31</td>\n",
       "      <td>-0.004917</td>\n",
       "      <td>0.194497</td>\n",
       "    </tr>\n",
       "  </tbody>\n",
       "</table>\n",
       "</div>"
      ],
      "text/plain": [
       "        date  vwreturn_RF_reg_roll20       Mkt\n",
       "0 1933-01-31                0.006413  0.012521\n",
       "1 1933-02-28                0.063273 -0.165700\n",
       "2 1933-03-31                0.025886  0.032758\n",
       "3 1933-04-30               -0.006005  0.328944\n",
       "4 1933-05-31               -0.004917  0.194497"
      ]
     },
     "execution_count": 18,
     "metadata": {},
     "output_type": "execute_result"
    }
   ],
   "source": [
    "lvwreturns.head()"
   ]
  },
  {
   "cell_type": "code",
   "execution_count": 19,
   "id": "555befb5",
   "metadata": {
    "execution": {
     "iopub.execute_input": "2024-02-24T18:56:45.393314Z",
     "iopub.status.busy": "2024-02-24T18:56:45.393063Z",
     "iopub.status.idle": "2024-02-24T18:56:45.409379Z",
     "shell.execute_reply": "2024-02-24T18:56:45.408520Z"
    },
    "papermill": {
     "duration": 0.0362,
     "end_time": "2024-02-24T18:56:45.411252",
     "exception": false,
     "start_time": "2024-02-24T18:56:45.375052",
     "status": "completed"
    },
    "tags": []
   },
   "outputs": [
    {
     "data": {
      "text/html": [
       "<div>\n",
       "<style scoped>\n",
       "    .dataframe tbody tr th:only-of-type {\n",
       "        vertical-align: middle;\n",
       "    }\n",
       "\n",
       "    .dataframe tbody tr th {\n",
       "        vertical-align: top;\n",
       "    }\n",
       "\n",
       "    .dataframe thead th {\n",
       "        text-align: right;\n",
       "    }\n",
       "</style>\n",
       "<table border=\"1\" class=\"dataframe\">\n",
       "  <thead>\n",
       "    <tr style=\"text-align: right;\">\n",
       "      <th></th>\n",
       "      <th>date</th>\n",
       "      <th>vwreturn_RF_reg_roll20</th>\n",
       "      <th>Mkt</th>\n",
       "    </tr>\n",
       "  </thead>\n",
       "  <tbody>\n",
       "    <tr>\n",
       "      <th>count</th>\n",
       "      <td>1074</td>\n",
       "      <td>1074.000000</td>\n",
       "      <td>1074.000000</td>\n",
       "    </tr>\n",
       "    <tr>\n",
       "      <th>mean</th>\n",
       "      <td>1977-11-05 12:12:04.022346368</td>\n",
       "      <td>0.012687</td>\n",
       "      <td>0.008968</td>\n",
       "    </tr>\n",
       "    <tr>\n",
       "      <th>min</th>\n",
       "      <td>1933-01-31 00:00:00</td>\n",
       "      <td>-0.054003</td>\n",
       "      <td>-0.272203</td>\n",
       "    </tr>\n",
       "    <tr>\n",
       "      <th>25%</th>\n",
       "      <td>1955-06-07 12:00:00</td>\n",
       "      <td>0.003169</td>\n",
       "      <td>-0.017248</td>\n",
       "    </tr>\n",
       "    <tr>\n",
       "      <th>50%</th>\n",
       "      <td>1977-11-15 00:00:00</td>\n",
       "      <td>0.007291</td>\n",
       "      <td>0.013064</td>\n",
       "    </tr>\n",
       "    <tr>\n",
       "      <th>75%</th>\n",
       "      <td>2000-03-23 06:00:00</td>\n",
       "      <td>0.017012</td>\n",
       "      <td>0.038162</td>\n",
       "    </tr>\n",
       "    <tr>\n",
       "      <th>max</th>\n",
       "      <td>2022-07-31 00:00:00</td>\n",
       "      <td>0.174746</td>\n",
       "      <td>0.328944</td>\n",
       "    </tr>\n",
       "    <tr>\n",
       "      <th>std</th>\n",
       "      <td>NaN</td>\n",
       "      <td>0.018250</td>\n",
       "      <td>0.048186</td>\n",
       "    </tr>\n",
       "  </tbody>\n",
       "</table>\n",
       "</div>"
      ],
      "text/plain": [
       "                                date  vwreturn_RF_reg_roll20          Mkt\n",
       "count                           1074             1074.000000  1074.000000\n",
       "mean   1977-11-05 12:12:04.022346368                0.012687     0.008968\n",
       "min              1933-01-31 00:00:00               -0.054003    -0.272203\n",
       "25%              1955-06-07 12:00:00                0.003169    -0.017248\n",
       "50%              1977-11-15 00:00:00                0.007291     0.013064\n",
       "75%              2000-03-23 06:00:00                0.017012     0.038162\n",
       "max              2022-07-31 00:00:00                0.174746     0.328944\n",
       "std                              NaN                0.018250     0.048186"
      ]
     },
     "execution_count": 19,
     "metadata": {},
     "output_type": "execute_result"
    }
   ],
   "source": [
    "lvwreturns.describe()"
   ]
  },
  {
   "cell_type": "code",
   "execution_count": 20,
   "id": "34954838",
   "metadata": {
    "execution": {
     "iopub.execute_input": "2024-02-24T18:56:45.446061Z",
     "iopub.status.busy": "2024-02-24T18:56:45.445805Z",
     "iopub.status.idle": "2024-02-24T18:56:45.450546Z",
     "shell.execute_reply": "2024-02-24T18:56:45.449712Z"
    },
    "papermill": {
     "duration": 0.024471,
     "end_time": "2024-02-24T18:56:45.452417",
     "exception": false,
     "start_time": "2024-02-24T18:56:45.427946",
     "status": "completed"
    },
    "tags": []
   },
   "outputs": [],
   "source": [
    "## plot histograms of the value-weighted returns for each model and the market in lvwreturns\n",
    "#plt.figure(figsize=(12, round(len(prediction_cols)/2) * 5 ))\n",
    "#\n",
    "#for i, pred_col in enumerate(prediction_cols):\n",
    "#    plt.subplot(len(prediction_cols)/2 +1, 2, i+1)\n",
    "#    plt.hist(lvwreturns[f'vwreturn_{pred_col}'], bins=50, color='skyblue', edgecolor='black')\n",
    "#    plt.title(f'Value-Weighted Return - {pred_col}')\n",
    "#    plt.xlabel('Value-Weighted Return')\n",
    "#    plt.ylabel('Frequency')\n",
    "#    # calculate mean, skewness and kurtosis and add their values to the plot as a text, aligning to the top right corner\n",
    "#    mean = lvwreturns[f'vwreturn_{pred_col}'].mean()\n",
    "#    skewness = lvwreturns[f'vwreturn_{pred_col}'].skew()\n",
    "#    kurtosis = lvwreturns[f'vwreturn_{pred_col}'].kurtosis()\n",
    "#\n",
    "#    plt.text(0.95, 0.95, f'Mean: {mean:.4f}\\nSkewness: {skewness:.4f}\\nKurtosis: {kurtosis:.4f}', ha='right', va='top', transform=plt.gca().transAxes)\n",
    "#\n",
    "#\n",
    "#\n",
    "#plt.subplot(round(len(prediction_cols)/2) +1, 2, len(prediction_cols)+1)\n",
    "#plt.title('Value-Weighted Return - Market')\n",
    "#plt.xlabel('Value-Weighted Return')\n",
    "#plt.ylabel('Frequency')\n",
    "#plt.hist(lvwreturns['Mkt'], bins=50, color='skyblue', edgecolor='black')\n",
    "#mean = lvwreturns['Mkt'].mean()\n",
    "#skewness = lvwreturns['Mkt'].skew()\n",
    "#kurtosis = lvwreturns['Mkt'].kurtosis()\n",
    "#plt.text(0.95, 0.95, f'Mean: {mean:.4f}\\nSkewness: {skewness:.4f}\\nKurtosis: {kurtosis:.4f}', ha='right', va='top', transform=plt.gca().transAxes)\n",
    "#\n",
    "#plt.tight_layout()\n",
    "#plt.show()\n",
    "#"
   ]
  },
  {
   "cell_type": "code",
   "execution_count": 21,
   "id": "8a79aa74",
   "metadata": {
    "execution": {
     "iopub.execute_input": "2024-02-24T18:56:45.487246Z",
     "iopub.status.busy": "2024-02-24T18:56:45.486982Z",
     "iopub.status.idle": "2024-02-24T18:56:45.490680Z",
     "shell.execute_reply": "2024-02-24T18:56:45.489871Z"
    },
    "papermill": {
     "duration": 0.023312,
     "end_time": "2024-02-24T18:56:45.492516",
     "exception": false,
     "start_time": "2024-02-24T18:56:45.469204",
     "status": "completed"
    },
    "tags": []
   },
   "outputs": [],
   "source": [
    "## plot cumulative sums of the value-weighted log returns\n",
    "#plt.figure(figsize=(12, 6))\n",
    "#plt.plot(lvwreturns['date'], lvwreturns.iloc[:, 1:].cumsum())\n",
    "#plt.title('Cumulative Value-Weighted Log Returns')\n",
    "#plt.xlabel('Date')\n",
    "#plt.ylabel('Cumulative Value-Weighted Log Returns')\n",
    "#plt.legend(prediction_cols + ['Market'])\n",
    "#plt.show()\n"
   ]
  },
  {
   "cell_type": "code",
   "execution_count": 22,
   "id": "c93cb9b7",
   "metadata": {
    "execution": {
     "iopub.execute_input": "2024-02-24T18:56:45.526756Z",
     "iopub.status.busy": "2024-02-24T18:56:45.526490Z",
     "iopub.status.idle": "2024-02-24T18:56:46.571142Z",
     "shell.execute_reply": "2024-02-24T18:56:46.570128Z"
    },
    "papermill": {
     "duration": 1.064218,
     "end_time": "2024-02-24T18:56:46.573360",
     "exception": false,
     "start_time": "2024-02-24T18:56:45.509142",
     "status": "completed"
    },
    "tags": []
   },
   "outputs": [],
   "source": [
    "# save the lvwreturns and portfolio DataFrame to a parquet file into 'outputs' folder\n",
    "\n",
    "# for reproducibility and visualization purposes\n",
    "lvwreturns.to_parquet('base_lvwreturns_reg4.parquet')\n",
    "portfolio.to_parquet('base_portfolio_reg4.parquet')\n",
    "\n",
    "# save vwreturns DataFrame to a .dta file into 'outputs' folder\n",
    "#vwreturns.to_stata('outputs/vwreturns.dta') # for backtasting in R - we need normal returns, not log returns\n"
   ]
  }
 ],
 "metadata": {
  "kaggle": {
   "accelerator": "none",
   "dataSources": [
    {
     "datasetId": 4464890,
     "sourceId": 7657795,
     "sourceType": "datasetVersion"
    }
   ],
   "isGpuEnabled": false,
   "isInternetEnabled": true,
   "language": "python",
   "sourceType": "notebook"
  },
  "kernelspec": {
   "display_name": "Python 3",
   "language": "python",
   "name": "python3"
  },
  "language_info": {
   "codemirror_mode": {
    "name": "ipython",
    "version": 3
   },
   "file_extension": ".py",
   "mimetype": "text/x-python",
   "name": "python",
   "nbconvert_exporter": "python",
   "pygments_lexer": "ipython3",
   "version": "3.10.13"
  },
  "papermill": {
   "default_parameters": {},
   "duration": 7099.173832,
   "end_time": "2024-02-24T18:56:47.028191",
   "environment_variables": {},
   "exception": null,
   "input_path": "__notebook__.ipynb",
   "output_path": "__notebook__.ipynb",
   "parameters": {},
   "start_time": "2024-02-24T16:58:27.854359",
   "version": "2.5.0"
  }
 },
 "nbformat": 4,
 "nbformat_minor": 5
}
