{
 "cells": [
  {
   "cell_type": "markdown",
   "id": "7e3e211f",
   "metadata": {
    "papermill": {
     "duration": 0.008377,
     "end_time": "2024-02-27T09:22:48.937069",
     "exception": false,
     "start_time": "2024-02-27T09:22:48.928692",
     "status": "completed"
    },
    "tags": []
   },
   "source": [
    "# Framework for predictions and portfolio forming"
   ]
  },
  {
   "cell_type": "code",
   "execution_count": 1,
   "id": "9e79c6c1",
   "metadata": {
    "execution": {
     "iopub.execute_input": "2024-02-27T09:22:48.954549Z",
     "iopub.status.busy": "2024-02-27T09:22:48.954206Z",
     "iopub.status.idle": "2024-02-27T09:22:51.157360Z",
     "shell.execute_reply": "2024-02-27T09:22:51.156549Z"
    },
    "papermill": {
     "duration": 2.214411,
     "end_time": "2024-02-27T09:22:51.159703",
     "exception": false,
     "start_time": "2024-02-27T09:22:48.945292",
     "status": "completed"
    },
    "tags": []
   },
   "outputs": [],
   "source": [
    "import numpy as np\n",
    "import pandas as pd\n",
    "pd.set_option('display.max_columns', None)\n",
    "import matplotlib.pyplot as plt\n",
    "import seaborn as sns\n",
    "import datetime as dt\n",
    "import time\n",
    "\n",
    "# import the parquet library\n",
    "import pyarrow.parquet as pq\n",
    "\n",
    "# import model libraries\n",
    "from sklearn.preprocessing import StandardScaler, MinMaxScaler\n",
    "from sklearn.linear_model import LogisticRegression, LinearRegression\n",
    "from sklearn.tree import DecisionTreeClassifier, DecisionTreeRegressor\n",
    "from sklearn.ensemble import RandomForestClassifier, RandomForestRegressor\n",
    "from sklearn.metrics import mean_squared_error, accuracy_score"
   ]
  },
  {
   "cell_type": "code",
   "execution_count": 2,
   "id": "12f0f719",
   "metadata": {
    "execution": {
     "iopub.execute_input": "2024-02-27T09:22:51.177277Z",
     "iopub.status.busy": "2024-02-27T09:22:51.176304Z",
     "iopub.status.idle": "2024-02-27T09:22:53.959438Z",
     "shell.execute_reply": "2024-02-27T09:22:53.958497Z"
    },
    "papermill": {
     "duration": 2.794726,
     "end_time": "2024-02-27T09:22:53.962411",
     "exception": false,
     "start_time": "2024-02-27T09:22:51.167685",
     "status": "completed"
    },
    "tags": []
   },
   "outputs": [
    {
     "data": {
      "text/html": [
       "<div>\n",
       "<style scoped>\n",
       "    .dataframe tbody tr th:only-of-type {\n",
       "        vertical-align: middle;\n",
       "    }\n",
       "\n",
       "    .dataframe tbody tr th {\n",
       "        vertical-align: top;\n",
       "    }\n",
       "\n",
       "    .dataframe thead th {\n",
       "        text-align: right;\n",
       "    }\n",
       "</style>\n",
       "<table border=\"1\" class=\"dataframe\">\n",
       "  <thead>\n",
       "    <tr style=\"text-align: right;\">\n",
       "      <th></th>\n",
       "      <th>PERMNO</th>\n",
       "      <th>date</th>\n",
       "      <th>RET</th>\n",
       "      <th>ME</th>\n",
       "      <th>bull_D</th>\n",
       "      <th>bear_D</th>\n",
       "      <th>bull_W</th>\n",
       "      <th>bear_W</th>\n",
       "      <th>bull_M</th>\n",
       "      <th>bear_M</th>\n",
       "      <th>LMKT</th>\n",
       "      <th>IVOL</th>\n",
       "      <th>y</th>\n",
       "      <th>STR</th>\n",
       "      <th>LTURNOVER</th>\n",
       "      <th>IMOM</th>\n",
       "      <th>MOM</th>\n",
       "      <th>LTR</th>\n",
       "      <th>PCTHIGH</th>\n",
       "      <th>IVOL2</th>\n",
       "      <th>IVOL3</th>\n",
       "      <th>MVOL</th>\n",
       "      <th>MVOL2</th>\n",
       "      <th>MVOL3</th>\n",
       "      <th>LMKT2</th>\n",
       "      <th>LMKT3</th>\n",
       "      <th>MMOM</th>\n",
       "      <th>MIMOM</th>\n",
       "      <th>MLTR</th>\n",
       "      <th>LSPREAD</th>\n",
       "    </tr>\n",
       "  </thead>\n",
       "  <tbody>\n",
       "    <tr>\n",
       "      <th>0</th>\n",
       "      <td>10000</td>\n",
       "      <td>1987-03-31</td>\n",
       "      <td>-0.384615</td>\n",
       "      <td>973.25000</td>\n",
       "      <td>0.0</td>\n",
       "      <td>0.0</td>\n",
       "      <td>0.0</td>\n",
       "      <td>1.0</td>\n",
       "      <td>0</td>\n",
       "      <td>0</td>\n",
       "      <td>0.0482</td>\n",
       "      <td>0.000612</td>\n",
       "      <td>0</td>\n",
       "      <td>0.000000</td>\n",
       "      <td>0.100694</td>\n",
       "      <td>-1.089044</td>\n",
       "      <td>-2.079441</td>\n",
       "      <td>-0.297252</td>\n",
       "      <td>0.091549</td>\n",
       "      <td>0.000830</td>\n",
       "      <td>0.002413</td>\n",
       "      <td>0.545027</td>\n",
       "      <td>0.771919</td>\n",
       "      <td>0.434190</td>\n",
       "      <td>0.1289</td>\n",
       "      <td>-0.0278</td>\n",
       "      <td>0.186212</td>\n",
       "      <td>0.112764</td>\n",
       "      <td>0.459110</td>\n",
       "      <td>0.076923</td>\n",
       "    </tr>\n",
       "    <tr>\n",
       "      <th>1</th>\n",
       "      <td>10000</td>\n",
       "      <td>1987-04-30</td>\n",
       "      <td>-0.062500</td>\n",
       "      <td>912.44134</td>\n",
       "      <td>0.0</td>\n",
       "      <td>0.0</td>\n",
       "      <td>0.0</td>\n",
       "      <td>0.0</td>\n",
       "      <td>0</td>\n",
       "      <td>1</td>\n",
       "      <td>0.0211</td>\n",
       "      <td>0.003465</td>\n",
       "      <td>0</td>\n",
       "      <td>-0.384615</td>\n",
       "      <td>0.285384</td>\n",
       "      <td>-1.459321</td>\n",
       "      <td>-2.390877</td>\n",
       "      <td>0.014185</td>\n",
       "      <td>0.062500</td>\n",
       "      <td>0.000612</td>\n",
       "      <td>0.000830</td>\n",
       "      <td>0.672597</td>\n",
       "      <td>0.545027</td>\n",
       "      <td>0.771919</td>\n",
       "      <td>0.0482</td>\n",
       "      <td>0.1289</td>\n",
       "      <td>0.179935</td>\n",
       "      <td>-0.025601</td>\n",
       "      <td>0.498953</td>\n",
       "      <td>0.625000</td>\n",
       "    </tr>\n",
       "    <tr>\n",
       "      <th>2</th>\n",
       "      <td>10000</td>\n",
       "      <td>1987-05-31</td>\n",
       "      <td>-0.066667</td>\n",
       "      <td>851.59375</td>\n",
       "      <td>0.0</td>\n",
       "      <td>0.0</td>\n",
       "      <td>0.0</td>\n",
       "      <td>0.0</td>\n",
       "      <td>0</td>\n",
       "      <td>2</td>\n",
       "      <td>-0.0167</td>\n",
       "      <td>0.001893</td>\n",
       "      <td>0</td>\n",
       "      <td>-0.062500</td>\n",
       "      <td>0.256358</td>\n",
       "      <td>-1.633155</td>\n",
       "      <td>-2.772587</td>\n",
       "      <td>-0.089613</td>\n",
       "      <td>0.075378</td>\n",
       "      <td>0.003465</td>\n",
       "      <td>0.000612</td>\n",
       "      <td>1.565461</td>\n",
       "      <td>0.672597</td>\n",
       "      <td>0.545027</td>\n",
       "      <td>0.0211</td>\n",
       "      <td>0.0482</td>\n",
       "      <td>0.208747</td>\n",
       "      <td>0.032263</td>\n",
       "      <td>0.488026</td>\n",
       "      <td>0.133330</td>\n",
       "    </tr>\n",
       "    <tr>\n",
       "      <th>3</th>\n",
       "      <td>10001</td>\n",
       "      <td>1987-03-31</td>\n",
       "      <td>0.036800</td>\n",
       "      <td>6317.62500</td>\n",
       "      <td>0.0</td>\n",
       "      <td>0.0</td>\n",
       "      <td>0.0</td>\n",
       "      <td>1.0</td>\n",
       "      <td>0</td>\n",
       "      <td>0</td>\n",
       "      <td>0.0482</td>\n",
       "      <td>0.001627</td>\n",
       "      <td>1</td>\n",
       "      <td>-0.074074</td>\n",
       "      <td>0.368315</td>\n",
       "      <td>0.071156</td>\n",
       "      <td>0.140122</td>\n",
       "      <td>0.020203</td>\n",
       "      <td>0.892857</td>\n",
       "      <td>0.001556</td>\n",
       "      <td>0.001527</td>\n",
       "      <td>0.545027</td>\n",
       "      <td>0.771919</td>\n",
       "      <td>0.434190</td>\n",
       "      <td>0.1289</td>\n",
       "      <td>-0.0278</td>\n",
       "      <td>0.186212</td>\n",
       "      <td>0.112764</td>\n",
       "      <td>0.459110</td>\n",
       "      <td>0.120000</td>\n",
       "    </tr>\n",
       "    <tr>\n",
       "      <th>4</th>\n",
       "      <td>10001</td>\n",
       "      <td>1987-04-30</td>\n",
       "      <td>-0.039216</td>\n",
       "      <td>6069.87500</td>\n",
       "      <td>0.0</td>\n",
       "      <td>0.0</td>\n",
       "      <td>0.0</td>\n",
       "      <td>0.0</td>\n",
       "      <td>0</td>\n",
       "      <td>0</td>\n",
       "      <td>0.0211</td>\n",
       "      <td>0.001597</td>\n",
       "      <td>0</td>\n",
       "      <td>0.036800</td>\n",
       "      <td>0.217962</td>\n",
       "      <td>0.043187</td>\n",
       "      <td>0.038273</td>\n",
       "      <td>0.045090</td>\n",
       "      <td>0.910714</td>\n",
       "      <td>0.001627</td>\n",
       "      <td>0.001556</td>\n",
       "      <td>0.672597</td>\n",
       "      <td>0.545027</td>\n",
       "      <td>0.771919</td>\n",
       "      <td>0.0482</td>\n",
       "      <td>0.1289</td>\n",
       "      <td>0.179935</td>\n",
       "      <td>-0.025601</td>\n",
       "      <td>0.498953</td>\n",
       "      <td>0.078431</td>\n",
       "    </tr>\n",
       "  </tbody>\n",
       "</table>\n",
       "</div>"
      ],
      "text/plain": [
       "   PERMNO       date       RET          ME  bull_D  bear_D  bull_W  bear_W  \\\n",
       "0   10000 1987-03-31 -0.384615   973.25000     0.0     0.0     0.0     1.0   \n",
       "1   10000 1987-04-30 -0.062500   912.44134     0.0     0.0     0.0     0.0   \n",
       "2   10000 1987-05-31 -0.066667   851.59375     0.0     0.0     0.0     0.0   \n",
       "3   10001 1987-03-31  0.036800  6317.62500     0.0     0.0     0.0     1.0   \n",
       "4   10001 1987-04-30 -0.039216  6069.87500     0.0     0.0     0.0     0.0   \n",
       "\n",
       "   bull_M  bear_M    LMKT      IVOL  y       STR  LTURNOVER      IMOM  \\\n",
       "0       0       0  0.0482  0.000612  0  0.000000   0.100694 -1.089044   \n",
       "1       0       1  0.0211  0.003465  0 -0.384615   0.285384 -1.459321   \n",
       "2       0       2 -0.0167  0.001893  0 -0.062500   0.256358 -1.633155   \n",
       "3       0       0  0.0482  0.001627  1 -0.074074   0.368315  0.071156   \n",
       "4       0       0  0.0211  0.001597  0  0.036800   0.217962  0.043187   \n",
       "\n",
       "        MOM       LTR   PCTHIGH     IVOL2     IVOL3      MVOL     MVOL2  \\\n",
       "0 -2.079441 -0.297252  0.091549  0.000830  0.002413  0.545027  0.771919   \n",
       "1 -2.390877  0.014185  0.062500  0.000612  0.000830  0.672597  0.545027   \n",
       "2 -2.772587 -0.089613  0.075378  0.003465  0.000612  1.565461  0.672597   \n",
       "3  0.140122  0.020203  0.892857  0.001556  0.001527  0.545027  0.771919   \n",
       "4  0.038273  0.045090  0.910714  0.001627  0.001556  0.672597  0.545027   \n",
       "\n",
       "      MVOL3   LMKT2   LMKT3      MMOM     MIMOM      MLTR   LSPREAD  \n",
       "0  0.434190  0.1289 -0.0278  0.186212  0.112764  0.459110  0.076923  \n",
       "1  0.771919  0.0482  0.1289  0.179935 -0.025601  0.498953  0.625000  \n",
       "2  0.545027  0.0211  0.0482  0.208747  0.032263  0.488026  0.133330  \n",
       "3  0.434190  0.1289 -0.0278  0.186212  0.112764  0.459110  0.120000  \n",
       "4  0.771919  0.0482  0.1289  0.179935 -0.025601  0.498953  0.078431  "
      ]
     },
     "execution_count": 2,
     "metadata": {},
     "output_type": "execute_result"
    }
   ],
   "source": [
    "# load 'basemodel.parquet'\n",
    "#df = pd.read_parquet('basemodel.parquet')\n",
    "df = pd.read_parquet('/kaggle/input/sign-prediction-datasets/basicmarket.parquet')\n",
    "prediction_cols = []\n",
    "df.head()"
   ]
  },
  {
   "cell_type": "code",
   "execution_count": 3,
   "id": "1f3786ac",
   "metadata": {
    "execution": {
     "iopub.execute_input": "2024-02-27T09:22:53.982397Z",
     "iopub.status.busy": "2024-02-27T09:22:53.981695Z",
     "iopub.status.idle": "2024-02-27T09:22:53.986782Z",
     "shell.execute_reply": "2024-02-27T09:22:53.985872Z"
    },
    "papermill": {
     "duration": 0.016665,
     "end_time": "2024-02-27T09:22:53.988813",
     "exception": false,
     "start_time": "2024-02-27T09:22:53.972148",
     "status": "completed"
    },
    "tags": []
   },
   "outputs": [],
   "source": [
    "# select the columns to be used for prediction\n",
    "X_col = ['bull_D', 'bear_D', 'bull_W', 'bear_W', 'bull_M', 'bear_M', 'LMKT', 'IVOL', # initial columns\n",
    "         'STR',\t'LTURNOVER', 'IMOM', 'MOM',\t'LTR', 'PCTHIGH', 'IVOL2', 'IVOL3', 'LSPREAD',\t# stock specific columns\n",
    "         'MVOL', 'MVOL2', 'MVOL3', 'LMKT2',\t'LMKT3', 'MMOM', 'MIMOM', 'MLTR'] # market specific columns"
   ]
  },
  {
   "cell_type": "code",
   "execution_count": 4,
   "id": "7f32c2f4",
   "metadata": {
    "execution": {
     "iopub.execute_input": "2024-02-27T09:22:54.006760Z",
     "iopub.status.busy": "2024-02-27T09:22:54.005973Z",
     "iopub.status.idle": "2024-02-27T09:22:55.428007Z",
     "shell.execute_reply": "2024-02-27T09:22:55.427085Z"
    },
    "papermill": {
     "duration": 1.433812,
     "end_time": "2024-02-27T09:22:55.430701",
     "exception": false,
     "start_time": "2024-02-27T09:22:53.996889",
     "status": "completed"
    },
    "tags": []
   },
   "outputs": [],
   "source": [
    "# scale the data for faster coeficient convergence\n",
    "scaler = MinMaxScaler()\n",
    "\n",
    "df[X_col] = scaler.fit_transform(df[X_col])"
   ]
  },
  {
   "cell_type": "code",
   "execution_count": 5,
   "id": "d8dad1f5",
   "metadata": {
    "execution": {
     "iopub.execute_input": "2024-02-27T09:22:55.451804Z",
     "iopub.status.busy": "2024-02-27T09:22:55.451396Z",
     "iopub.status.idle": "2024-02-27T09:22:56.876179Z",
     "shell.execute_reply": "2024-02-27T09:22:56.875343Z"
    },
    "papermill": {
     "duration": 1.438006,
     "end_time": "2024-02-27T09:22:56.878602",
     "exception": false,
     "start_time": "2024-02-27T09:22:55.440596",
     "status": "completed"
    },
    "tags": []
   },
   "outputs": [],
   "source": [
    "# Convert 'date' to datetime format (if not already done) and sort the DataFrame\n",
    "df['date'] = pd.to_datetime(df['date'])\n",
    "df.sort_values(by='date', inplace=True)\n",
    "df.reset_index(drop=True, inplace=True)\n",
    "\n",
    "# Create a 'year' column based on the 'date' column\n",
    "df['year'] = df['date'].dt.year"
   ]
  },
  {
   "cell_type": "markdown",
   "id": "55bf27c4",
   "metadata": {
    "papermill": {
     "duration": 0.009004,
     "end_time": "2024-02-27T09:22:56.896006",
     "exception": false,
     "start_time": "2024-02-27T09:22:56.887002",
     "status": "completed"
    },
    "tags": []
   },
   "source": [
    "# Paper Replication - OLS and Logit, Expanding Window - No Hyperparameters\n",
    "- They start with out of sample forecasting in 1932\n",
    "- models will be named model_default"
   ]
  },
  {
   "cell_type": "markdown",
   "id": "0bf89d46",
   "metadata": {
    "papermill": {
     "duration": 0.010063,
     "end_time": "2024-02-27T09:22:56.917515",
     "exception": false,
     "start_time": "2024-02-27T09:22:56.907452",
     "status": "completed"
    },
    "tags": []
   },
   "source": [
    "### Linear Regression (Pooled OLS)"
   ]
  },
  {
   "cell_type": "code",
   "execution_count": 6,
   "id": "91fb760e",
   "metadata": {
    "execution": {
     "iopub.execute_input": "2024-02-27T09:22:56.938832Z",
     "iopub.status.busy": "2024-02-27T09:22:56.938421Z",
     "iopub.status.idle": "2024-02-27T09:22:56.973557Z",
     "shell.execute_reply": "2024-02-27T09:22:56.972650Z"
    },
    "papermill": {
     "duration": 0.047257,
     "end_time": "2024-02-27T09:22:56.975577",
     "exception": false,
     "start_time": "2024-02-27T09:22:56.928320",
     "status": "completed"
    },
    "tags": []
   },
   "outputs": [
    {
     "data": {
      "text/html": [
       "<div>\n",
       "<style scoped>\n",
       "    .dataframe tbody tr th:only-of-type {\n",
       "        vertical-align: middle;\n",
       "    }\n",
       "\n",
       "    .dataframe tbody tr th {\n",
       "        vertical-align: top;\n",
       "    }\n",
       "\n",
       "    .dataframe thead th {\n",
       "        text-align: right;\n",
       "    }\n",
       "</style>\n",
       "<table border=\"1\" class=\"dataframe\">\n",
       "  <thead>\n",
       "    <tr style=\"text-align: right;\">\n",
       "      <th></th>\n",
       "      <th>PERMNO</th>\n",
       "      <th>date</th>\n",
       "      <th>RET</th>\n",
       "      <th>ME</th>\n",
       "      <th>bull_D</th>\n",
       "      <th>bear_D</th>\n",
       "      <th>bull_W</th>\n",
       "      <th>bear_W</th>\n",
       "      <th>bull_M</th>\n",
       "      <th>bear_M</th>\n",
       "      <th>LMKT</th>\n",
       "      <th>IVOL</th>\n",
       "      <th>y</th>\n",
       "      <th>STR</th>\n",
       "      <th>LTURNOVER</th>\n",
       "      <th>IMOM</th>\n",
       "      <th>MOM</th>\n",
       "      <th>LTR</th>\n",
       "      <th>PCTHIGH</th>\n",
       "      <th>IVOL2</th>\n",
       "      <th>IVOL3</th>\n",
       "      <th>MVOL</th>\n",
       "      <th>MVOL2</th>\n",
       "      <th>MVOL3</th>\n",
       "      <th>LMKT2</th>\n",
       "      <th>LMKT3</th>\n",
       "      <th>MMOM</th>\n",
       "      <th>MIMOM</th>\n",
       "      <th>MLTR</th>\n",
       "      <th>LSPREAD</th>\n",
       "      <th>year</th>\n",
       "    </tr>\n",
       "  </thead>\n",
       "  <tbody>\n",
       "    <tr>\n",
       "      <th>3076047</th>\n",
       "      <td>20412</td>\n",
       "      <td>2022-07-31</td>\n",
       "      <td>-0.203046</td>\n",
       "      <td>4.174787e+04</td>\n",
       "      <td>0.166667</td>\n",
       "      <td>0.0</td>\n",
       "      <td>0.083333</td>\n",
       "      <td>0.0</td>\n",
       "      <td>0.000000</td>\n",
       "      <td>0.833333</td>\n",
       "      <td>0.304629</td>\n",
       "      <td>0.000074</td>\n",
       "      <td>0</td>\n",
       "      <td>0.030776</td>\n",
       "      <td>0.000056</td>\n",
       "      <td>0.575618</td>\n",
       "      <td>0.631158</td>\n",
       "      <td>0.707753</td>\n",
       "      <td>0.068333</td>\n",
       "      <td>0.000222</td>\n",
       "      <td>0.000118</td>\n",
       "      <td>0.109743</td>\n",
       "      <td>0.128462</td>\n",
       "      <td>0.073585</td>\n",
       "      <td>0.423071</td>\n",
       "      <td>0.288758</td>\n",
       "      <td>0.520342</td>\n",
       "      <td>0.538953</td>\n",
       "      <td>0.814156</td>\n",
       "      <td>0.009789</td>\n",
       "      <td>2022</td>\n",
       "    </tr>\n",
       "    <tr>\n",
       "      <th>3076048</th>\n",
       "      <td>16874</td>\n",
       "      <td>2022-07-31</td>\n",
       "      <td>0.135593</td>\n",
       "      <td>1.110135e+06</td>\n",
       "      <td>0.250000</td>\n",
       "      <td>0.0</td>\n",
       "      <td>0.166667</td>\n",
       "      <td>0.0</td>\n",
       "      <td>0.000000</td>\n",
       "      <td>0.000000</td>\n",
       "      <td>0.304629</td>\n",
       "      <td>0.000006</td>\n",
       "      <td>1</td>\n",
       "      <td>0.038978</td>\n",
       "      <td>0.000015</td>\n",
       "      <td>0.607527</td>\n",
       "      <td>0.717377</td>\n",
       "      <td>0.713835</td>\n",
       "      <td>0.811097</td>\n",
       "      <td>0.000034</td>\n",
       "      <td>0.000010</td>\n",
       "      <td>0.109743</td>\n",
       "      <td>0.128462</td>\n",
       "      <td>0.073585</td>\n",
       "      <td>0.423071</td>\n",
       "      <td>0.288758</td>\n",
       "      <td>0.520342</td>\n",
       "      <td>0.538953</td>\n",
       "      <td>0.814156</td>\n",
       "      <td>0.002150</td>\n",
       "      <td>2022</td>\n",
       "    </tr>\n",
       "    <tr>\n",
       "      <th>3076049</th>\n",
       "      <td>20395</td>\n",
       "      <td>2022-07-31</td>\n",
       "      <td>0.074970</td>\n",
       "      <td>3.728386e+06</td>\n",
       "      <td>0.000000</td>\n",
       "      <td>0.0</td>\n",
       "      <td>0.083333</td>\n",
       "      <td>0.0</td>\n",
       "      <td>0.166667</td>\n",
       "      <td>0.000000</td>\n",
       "      <td>0.304629</td>\n",
       "      <td>0.000005</td>\n",
       "      <td>1</td>\n",
       "      <td>0.040109</td>\n",
       "      <td>0.000054</td>\n",
       "      <td>0.604234</td>\n",
       "      <td>0.735304</td>\n",
       "      <td>0.708705</td>\n",
       "      <td>1.000000</td>\n",
       "      <td>0.000003</td>\n",
       "      <td>0.000004</td>\n",
       "      <td>0.109743</td>\n",
       "      <td>0.128462</td>\n",
       "      <td>0.073585</td>\n",
       "      <td>0.423071</td>\n",
       "      <td>0.288758</td>\n",
       "      <td>0.520342</td>\n",
       "      <td>0.538953</td>\n",
       "      <td>0.814156</td>\n",
       "      <td>0.001340</td>\n",
       "      <td>2022</td>\n",
       "    </tr>\n",
       "    <tr>\n",
       "      <th>3076050</th>\n",
       "      <td>16857</td>\n",
       "      <td>2022-07-31</td>\n",
       "      <td>-0.029348</td>\n",
       "      <td>1.304941e+05</td>\n",
       "      <td>0.000000</td>\n",
       "      <td>0.0</td>\n",
       "      <td>0.000000</td>\n",
       "      <td>0.0</td>\n",
       "      <td>0.000000</td>\n",
       "      <td>0.250000</td>\n",
       "      <td>0.304629</td>\n",
       "      <td>0.000071</td>\n",
       "      <td>0</td>\n",
       "      <td>0.038915</td>\n",
       "      <td>0.000081</td>\n",
       "      <td>0.524726</td>\n",
       "      <td>0.645115</td>\n",
       "      <td>0.780172</td>\n",
       "      <td>0.408233</td>\n",
       "      <td>0.000130</td>\n",
       "      <td>0.000202</td>\n",
       "      <td>0.109743</td>\n",
       "      <td>0.128462</td>\n",
       "      <td>0.073585</td>\n",
       "      <td>0.423071</td>\n",
       "      <td>0.288758</td>\n",
       "      <td>0.520342</td>\n",
       "      <td>0.538953</td>\n",
       "      <td>0.814156</td>\n",
       "      <td>0.004310</td>\n",
       "      <td>2022</td>\n",
       "    </tr>\n",
       "    <tr>\n",
       "      <th>3076051</th>\n",
       "      <td>93436</td>\n",
       "      <td>2022-07-31</td>\n",
       "      <td>0.323765</td>\n",
       "      <td>9.311106e+08</td>\n",
       "      <td>0.166667</td>\n",
       "      <td>0.0</td>\n",
       "      <td>0.083333</td>\n",
       "      <td>0.0</td>\n",
       "      <td>0.000000</td>\n",
       "      <td>0.000000</td>\n",
       "      <td>0.304629</td>\n",
       "      <td>0.000030</td>\n",
       "      <td>1</td>\n",
       "      <td>0.035278</td>\n",
       "      <td>0.000218</td>\n",
       "      <td>0.639349</td>\n",
       "      <td>0.729311</td>\n",
       "      <td>0.866215</td>\n",
       "      <td>0.587806</td>\n",
       "      <td>0.000033</td>\n",
       "      <td>0.000061</td>\n",
       "      <td>0.109743</td>\n",
       "      <td>0.128462</td>\n",
       "      <td>0.073585</td>\n",
       "      <td>0.423071</td>\n",
       "      <td>0.288758</td>\n",
       "      <td>0.520342</td>\n",
       "      <td>0.538953</td>\n",
       "      <td>0.814156</td>\n",
       "      <td>0.004467</td>\n",
       "      <td>2022</td>\n",
       "    </tr>\n",
       "  </tbody>\n",
       "</table>\n",
       "</div>"
      ],
      "text/plain": [
       "         PERMNO       date       RET            ME    bull_D  bear_D  \\\n",
       "3076047   20412 2022-07-31 -0.203046  4.174787e+04  0.166667     0.0   \n",
       "3076048   16874 2022-07-31  0.135593  1.110135e+06  0.250000     0.0   \n",
       "3076049   20395 2022-07-31  0.074970  3.728386e+06  0.000000     0.0   \n",
       "3076050   16857 2022-07-31 -0.029348  1.304941e+05  0.000000     0.0   \n",
       "3076051   93436 2022-07-31  0.323765  9.311106e+08  0.166667     0.0   \n",
       "\n",
       "           bull_W  bear_W    bull_M    bear_M      LMKT      IVOL  y  \\\n",
       "3076047  0.083333     0.0  0.000000  0.833333  0.304629  0.000074  0   \n",
       "3076048  0.166667     0.0  0.000000  0.000000  0.304629  0.000006  1   \n",
       "3076049  0.083333     0.0  0.166667  0.000000  0.304629  0.000005  1   \n",
       "3076050  0.000000     0.0  0.000000  0.250000  0.304629  0.000071  0   \n",
       "3076051  0.083333     0.0  0.000000  0.000000  0.304629  0.000030  1   \n",
       "\n",
       "              STR  LTURNOVER      IMOM       MOM       LTR   PCTHIGH  \\\n",
       "3076047  0.030776   0.000056  0.575618  0.631158  0.707753  0.068333   \n",
       "3076048  0.038978   0.000015  0.607527  0.717377  0.713835  0.811097   \n",
       "3076049  0.040109   0.000054  0.604234  0.735304  0.708705  1.000000   \n",
       "3076050  0.038915   0.000081  0.524726  0.645115  0.780172  0.408233   \n",
       "3076051  0.035278   0.000218  0.639349  0.729311  0.866215  0.587806   \n",
       "\n",
       "            IVOL2     IVOL3      MVOL     MVOL2     MVOL3     LMKT2     LMKT3  \\\n",
       "3076047  0.000222  0.000118  0.109743  0.128462  0.073585  0.423071  0.288758   \n",
       "3076048  0.000034  0.000010  0.109743  0.128462  0.073585  0.423071  0.288758   \n",
       "3076049  0.000003  0.000004  0.109743  0.128462  0.073585  0.423071  0.288758   \n",
       "3076050  0.000130  0.000202  0.109743  0.128462  0.073585  0.423071  0.288758   \n",
       "3076051  0.000033  0.000061  0.109743  0.128462  0.073585  0.423071  0.288758   \n",
       "\n",
       "             MMOM     MIMOM      MLTR   LSPREAD  year  \n",
       "3076047  0.520342  0.538953  0.814156  0.009789  2022  \n",
       "3076048  0.520342  0.538953  0.814156  0.002150  2022  \n",
       "3076049  0.520342  0.538953  0.814156  0.001340  2022  \n",
       "3076050  0.520342  0.538953  0.814156  0.004310  2022  \n",
       "3076051  0.520342  0.538953  0.814156  0.004467  2022  "
      ]
     },
     "execution_count": 6,
     "metadata": {},
     "output_type": "execute_result"
    }
   ],
   "source": [
    "df.tail()"
   ]
  },
  {
   "cell_type": "markdown",
   "id": "ad72f567",
   "metadata": {
    "papermill": {
     "duration": 0.008539,
     "end_time": "2024-02-27T09:22:56.992974",
     "exception": false,
     "start_time": "2024-02-27T09:22:56.984435",
     "status": "completed"
    },
    "tags": []
   },
   "source": [
    "# My Experiments"
   ]
  },
  {
   "cell_type": "markdown",
   "id": "fbc9298f",
   "metadata": {
    "papermill": {
     "duration": 0.008081,
     "end_time": "2024-02-27T09:22:57.009623",
     "exception": false,
     "start_time": "2024-02-27T09:22:57.001542",
     "status": "completed"
    },
    "tags": []
   },
   "source": [
    "## Machine Learning - Hyperparameter Tuning included in the process\n",
    "- models to be named 'model_clas/reg_exp/roll'"
   ]
  },
  {
   "cell_type": "markdown",
   "id": "c32c6f8a",
   "metadata": {
    "papermill": {
     "duration": 0.008389,
     "end_time": "2024-02-27T09:22:57.026746",
     "exception": false,
     "start_time": "2024-02-27T09:22:57.018357",
     "status": "completed"
    },
    "tags": []
   },
   "source": [
    "### First expanding, then rolling\n",
    "start predicting for 1932, expand the window until you reach X years, then roll it"
   ]
  },
  {
   "cell_type": "markdown",
   "id": "9a222144",
   "metadata": {
    "papermill": {
     "duration": 0.00827,
     "end_time": "2024-02-27T09:22:57.043649",
     "exception": false,
     "start_time": "2024-02-27T09:22:57.035379",
     "status": "completed"
    },
    "tags": []
   },
   "source": [
    "#### MSE Evaluation"
   ]
  },
  {
   "cell_type": "markdown",
   "id": "31901226",
   "metadata": {
    "papermill": {
     "duration": 0.008283,
     "end_time": "2024-02-27T09:22:57.060666",
     "exception": false,
     "start_time": "2024-02-27T09:22:57.052383",
     "status": "completed"
    },
    "tags": []
   },
   "source": [
    "##### 5 years"
   ]
  },
  {
   "cell_type": "code",
   "execution_count": 7,
   "id": "0151bc5e",
   "metadata": {
    "execution": {
     "iopub.execute_input": "2024-02-27T09:22:57.079208Z",
     "iopub.status.busy": "2024-02-27T09:22:57.078846Z",
     "iopub.status.idle": "2024-02-27T09:22:57.083119Z",
     "shell.execute_reply": "2024-02-27T09:22:57.082273Z"
    },
    "papermill": {
     "duration": 0.015951,
     "end_time": "2024-02-27T09:22:57.085097",
     "exception": false,
     "start_time": "2024-02-27T09:22:57.069146",
     "status": "completed"
    },
    "tags": []
   },
   "outputs": [],
   "source": [
    "rolling_window = 5"
   ]
  },
  {
   "cell_type": "code",
   "execution_count": 8,
   "id": "d7686739",
   "metadata": {
    "execution": {
     "iopub.execute_input": "2024-02-27T09:22:57.104411Z",
     "iopub.status.busy": "2024-02-27T09:22:57.104092Z",
     "iopub.status.idle": "2024-02-27T17:29:25.841964Z",
     "shell.execute_reply": "2024-02-27T17:29:25.838670Z"
    },
    "papermill": {
     "duration": 29188.751859,
     "end_time": "2024-02-27T17:29:25.845875",
     "exception": false,
     "start_time": "2024-02-27T09:22:57.094016",
     "status": "completed"
    },
    "tags": []
   },
   "outputs": [
    {
     "name": "stderr",
     "output_type": "stream",
     "text": [
      "/opt/conda/lib/python3.10/site-packages/sklearn/linear_model/_sag.py:350: ConvergenceWarning: The max_iter was reached which means the coef_ did not converge\n",
      "  warnings.warn(\n",
      "/opt/conda/lib/python3.10/site-packages/sklearn/linear_model/_sag.py:350: ConvergenceWarning: The max_iter was reached which means the coef_ did not converge\n",
      "  warnings.warn(\n"
     ]
    },
    {
     "name": "stdout",
     "output_type": "stream",
     "text": [
      "Year 1934 - Best C: 0.1, Best ACC: 1.0, Time: 59.44 seconds\n"
     ]
    },
    {
     "name": "stderr",
     "output_type": "stream",
     "text": [
      "/opt/conda/lib/python3.10/site-packages/sklearn/linear_model/_sag.py:350: ConvergenceWarning: The max_iter was reached which means the coef_ did not converge\n",
      "  warnings.warn(\n",
      "/opt/conda/lib/python3.10/site-packages/sklearn/linear_model/_sag.py:350: ConvergenceWarning: The max_iter was reached which means the coef_ did not converge\n",
      "  warnings.warn(\n",
      "/opt/conda/lib/python3.10/site-packages/sklearn/linear_model/_sag.py:350: ConvergenceWarning: The max_iter was reached which means the coef_ did not converge\n",
      "  warnings.warn(\n"
     ]
    },
    {
     "name": "stdout",
     "output_type": "stream",
     "text": [
      "Year 1935 - Best C: 0.1, Best ACC: 1.0, Time: 63.40 seconds\n"
     ]
    },
    {
     "name": "stderr",
     "output_type": "stream",
     "text": [
      "/opt/conda/lib/python3.10/site-packages/sklearn/linear_model/_sag.py:350: ConvergenceWarning: The max_iter was reached which means the coef_ did not converge\n",
      "  warnings.warn(\n",
      "/opt/conda/lib/python3.10/site-packages/sklearn/linear_model/_sag.py:350: ConvergenceWarning: The max_iter was reached which means the coef_ did not converge\n",
      "  warnings.warn(\n",
      "/opt/conda/lib/python3.10/site-packages/sklearn/linear_model/_sag.py:350: ConvergenceWarning: The max_iter was reached which means the coef_ did not converge\n",
      "  warnings.warn(\n"
     ]
    },
    {
     "name": "stdout",
     "output_type": "stream",
     "text": [
      "Year 1936 - Best C: 0.1, Best ACC: 1.0, Time: 65.73 seconds\n"
     ]
    },
    {
     "name": "stderr",
     "output_type": "stream",
     "text": [
      "/opt/conda/lib/python3.10/site-packages/sklearn/linear_model/_sag.py:350: ConvergenceWarning: The max_iter was reached which means the coef_ did not converge\n",
      "  warnings.warn(\n",
      "/opt/conda/lib/python3.10/site-packages/sklearn/linear_model/_sag.py:350: ConvergenceWarning: The max_iter was reached which means the coef_ did not converge\n",
      "  warnings.warn(\n",
      "/opt/conda/lib/python3.10/site-packages/sklearn/linear_model/_sag.py:350: ConvergenceWarning: The max_iter was reached which means the coef_ did not converge\n",
      "  warnings.warn(\n"
     ]
    },
    {
     "name": "stdout",
     "output_type": "stream",
     "text": [
      "Year 1937 - Best C: 0.01, Best ACC: 1.0, Time: 62.62 seconds\n"
     ]
    },
    {
     "name": "stderr",
     "output_type": "stream",
     "text": [
      "/opt/conda/lib/python3.10/site-packages/sklearn/linear_model/_sag.py:350: ConvergenceWarning: The max_iter was reached which means the coef_ did not converge\n",
      "  warnings.warn(\n",
      "/opt/conda/lib/python3.10/site-packages/sklearn/linear_model/_sag.py:350: ConvergenceWarning: The max_iter was reached which means the coef_ did not converge\n",
      "  warnings.warn(\n",
      "/opt/conda/lib/python3.10/site-packages/sklearn/linear_model/_sag.py:350: ConvergenceWarning: The max_iter was reached which means the coef_ did not converge\n",
      "  warnings.warn(\n",
      "/opt/conda/lib/python3.10/site-packages/sklearn/linear_model/_sag.py:350: ConvergenceWarning: The max_iter was reached which means the coef_ did not converge\n",
      "  warnings.warn(\n"
     ]
    },
    {
     "name": "stdout",
     "output_type": "stream",
     "text": [
      "Year 1938 - Best C: 1, Best ACC: 1.0, Time: 76.52 seconds\n"
     ]
    },
    {
     "name": "stderr",
     "output_type": "stream",
     "text": [
      "/opt/conda/lib/python3.10/site-packages/sklearn/linear_model/_sag.py:350: ConvergenceWarning: The max_iter was reached which means the coef_ did not converge\n",
      "  warnings.warn(\n",
      "/opt/conda/lib/python3.10/site-packages/sklearn/linear_model/_sag.py:350: ConvergenceWarning: The max_iter was reached which means the coef_ did not converge\n",
      "  warnings.warn(\n",
      "/opt/conda/lib/python3.10/site-packages/sklearn/linear_model/_sag.py:350: ConvergenceWarning: The max_iter was reached which means the coef_ did not converge\n",
      "  warnings.warn(\n"
     ]
    },
    {
     "name": "stdout",
     "output_type": "stream",
     "text": [
      "Year 1939 - Best C: 0.1, Best ACC: 1.0, Time: 62.80 seconds\n"
     ]
    },
    {
     "name": "stderr",
     "output_type": "stream",
     "text": [
      "/opt/conda/lib/python3.10/site-packages/sklearn/linear_model/_sag.py:350: ConvergenceWarning: The max_iter was reached which means the coef_ did not converge\n",
      "  warnings.warn(\n",
      "/opt/conda/lib/python3.10/site-packages/sklearn/linear_model/_sag.py:350: ConvergenceWarning: The max_iter was reached which means the coef_ did not converge\n",
      "  warnings.warn(\n",
      "/opt/conda/lib/python3.10/site-packages/sklearn/linear_model/_sag.py:350: ConvergenceWarning: The max_iter was reached which means the coef_ did not converge\n",
      "  warnings.warn(\n"
     ]
    },
    {
     "name": "stdout",
     "output_type": "stream",
     "text": [
      "Year 1940 - Best C: 0.1, Best ACC: 1.0, Time: 64.82 seconds\n"
     ]
    },
    {
     "name": "stderr",
     "output_type": "stream",
     "text": [
      "/opt/conda/lib/python3.10/site-packages/sklearn/linear_model/_sag.py:350: ConvergenceWarning: The max_iter was reached which means the coef_ did not converge\n",
      "  warnings.warn(\n",
      "/opt/conda/lib/python3.10/site-packages/sklearn/linear_model/_sag.py:350: ConvergenceWarning: The max_iter was reached which means the coef_ did not converge\n",
      "  warnings.warn(\n",
      "/opt/conda/lib/python3.10/site-packages/sklearn/linear_model/_sag.py:350: ConvergenceWarning: The max_iter was reached which means the coef_ did not converge\n",
      "  warnings.warn(\n"
     ]
    },
    {
     "name": "stdout",
     "output_type": "stream",
     "text": [
      "Year 1941 - Best C: 0.1, Best ACC: 1.0, Time: 69.56 seconds\n"
     ]
    },
    {
     "name": "stderr",
     "output_type": "stream",
     "text": [
      "/opt/conda/lib/python3.10/site-packages/sklearn/linear_model/_sag.py:350: ConvergenceWarning: The max_iter was reached which means the coef_ did not converge\n",
      "  warnings.warn(\n",
      "/opt/conda/lib/python3.10/site-packages/sklearn/linear_model/_sag.py:350: ConvergenceWarning: The max_iter was reached which means the coef_ did not converge\n",
      "  warnings.warn(\n"
     ]
    },
    {
     "name": "stdout",
     "output_type": "stream",
     "text": [
      "Year 1942 - Best C: 0.01, Best ACC: 1.0, Time: 70.31 seconds\n"
     ]
    },
    {
     "name": "stderr",
     "output_type": "stream",
     "text": [
      "/opt/conda/lib/python3.10/site-packages/sklearn/linear_model/_sag.py:350: ConvergenceWarning: The max_iter was reached which means the coef_ did not converge\n",
      "  warnings.warn(\n",
      "/opt/conda/lib/python3.10/site-packages/sklearn/linear_model/_sag.py:350: ConvergenceWarning: The max_iter was reached which means the coef_ did not converge\n",
      "  warnings.warn(\n"
     ]
    },
    {
     "name": "stdout",
     "output_type": "stream",
     "text": [
      "Year 1943 - Best C: 0.1, Best ACC: 1.0, Time: 78.02 seconds\n"
     ]
    },
    {
     "name": "stderr",
     "output_type": "stream",
     "text": [
      "/opt/conda/lib/python3.10/site-packages/sklearn/linear_model/_sag.py:350: ConvergenceWarning: The max_iter was reached which means the coef_ did not converge\n",
      "  warnings.warn(\n",
      "/opt/conda/lib/python3.10/site-packages/sklearn/linear_model/_sag.py:350: ConvergenceWarning: The max_iter was reached which means the coef_ did not converge\n",
      "  warnings.warn(\n"
     ]
    },
    {
     "name": "stdout",
     "output_type": "stream",
     "text": [
      "Year 1944 - Best C: 0.01, Best ACC: 1.0, Time: 73.76 seconds\n"
     ]
    },
    {
     "name": "stderr",
     "output_type": "stream",
     "text": [
      "/opt/conda/lib/python3.10/site-packages/sklearn/linear_model/_sag.py:350: ConvergenceWarning: The max_iter was reached which means the coef_ did not converge\n",
      "  warnings.warn(\n",
      "/opt/conda/lib/python3.10/site-packages/sklearn/linear_model/_sag.py:350: ConvergenceWarning: The max_iter was reached which means the coef_ did not converge\n",
      "  warnings.warn(\n",
      "/opt/conda/lib/python3.10/site-packages/sklearn/linear_model/_sag.py:350: ConvergenceWarning: The max_iter was reached which means the coef_ did not converge\n",
      "  warnings.warn(\n"
     ]
    },
    {
     "name": "stdout",
     "output_type": "stream",
     "text": [
      "Year 1945 - Best C: 0.1, Best ACC: 1.0, Time: 79.08 seconds\n"
     ]
    },
    {
     "name": "stderr",
     "output_type": "stream",
     "text": [
      "/opt/conda/lib/python3.10/site-packages/sklearn/linear_model/_sag.py:350: ConvergenceWarning: The max_iter was reached which means the coef_ did not converge\n",
      "  warnings.warn(\n",
      "/opt/conda/lib/python3.10/site-packages/sklearn/linear_model/_sag.py:350: ConvergenceWarning: The max_iter was reached which means the coef_ did not converge\n",
      "  warnings.warn(\n",
      "/opt/conda/lib/python3.10/site-packages/sklearn/linear_model/_sag.py:350: ConvergenceWarning: The max_iter was reached which means the coef_ did not converge\n",
      "  warnings.warn(\n",
      "/opt/conda/lib/python3.10/site-packages/sklearn/linear_model/_sag.py:350: ConvergenceWarning: The max_iter was reached which means the coef_ did not converge\n",
      "  warnings.warn(\n"
     ]
    },
    {
     "name": "stdout",
     "output_type": "stream",
     "text": [
      "Year 1946 - Best C: 1, Best ACC: 1.0, Time: 89.16 seconds\n"
     ]
    },
    {
     "name": "stderr",
     "output_type": "stream",
     "text": [
      "/opt/conda/lib/python3.10/site-packages/sklearn/linear_model/_sag.py:350: ConvergenceWarning: The max_iter was reached which means the coef_ did not converge\n",
      "  warnings.warn(\n",
      "/opt/conda/lib/python3.10/site-packages/sklearn/linear_model/_sag.py:350: ConvergenceWarning: The max_iter was reached which means the coef_ did not converge\n",
      "  warnings.warn(\n",
      "/opt/conda/lib/python3.10/site-packages/sklearn/linear_model/_sag.py:350: ConvergenceWarning: The max_iter was reached which means the coef_ did not converge\n",
      "  warnings.warn(\n"
     ]
    },
    {
     "name": "stdout",
     "output_type": "stream",
     "text": [
      "Year 1947 - Best C: 0.1, Best ACC: 1.0, Time: 86.24 seconds\n"
     ]
    },
    {
     "name": "stderr",
     "output_type": "stream",
     "text": [
      "/opt/conda/lib/python3.10/site-packages/sklearn/linear_model/_sag.py:350: ConvergenceWarning: The max_iter was reached which means the coef_ did not converge\n",
      "  warnings.warn(\n",
      "/opt/conda/lib/python3.10/site-packages/sklearn/linear_model/_sag.py:350: ConvergenceWarning: The max_iter was reached which means the coef_ did not converge\n",
      "  warnings.warn(\n",
      "/opt/conda/lib/python3.10/site-packages/sklearn/linear_model/_sag.py:350: ConvergenceWarning: The max_iter was reached which means the coef_ did not converge\n",
      "  warnings.warn(\n"
     ]
    },
    {
     "name": "stdout",
     "output_type": "stream",
     "text": [
      "Year 1948 - Best C: 0.1, Best ACC: 1.0, Time: 87.28 seconds\n"
     ]
    },
    {
     "name": "stderr",
     "output_type": "stream",
     "text": [
      "/opt/conda/lib/python3.10/site-packages/sklearn/linear_model/_sag.py:350: ConvergenceWarning: The max_iter was reached which means the coef_ did not converge\n",
      "  warnings.warn(\n",
      "/opt/conda/lib/python3.10/site-packages/sklearn/linear_model/_sag.py:350: ConvergenceWarning: The max_iter was reached which means the coef_ did not converge\n",
      "  warnings.warn(\n",
      "/opt/conda/lib/python3.10/site-packages/sklearn/linear_model/_sag.py:350: ConvergenceWarning: The max_iter was reached which means the coef_ did not converge\n",
      "  warnings.warn(\n"
     ]
    },
    {
     "name": "stdout",
     "output_type": "stream",
     "text": [
      "Year 1949 - Best C: 0.1, Best ACC: 1.0, Time: 88.29 seconds\n"
     ]
    },
    {
     "name": "stderr",
     "output_type": "stream",
     "text": [
      "/opt/conda/lib/python3.10/site-packages/sklearn/linear_model/_sag.py:350: ConvergenceWarning: The max_iter was reached which means the coef_ did not converge\n",
      "  warnings.warn(\n",
      "/opt/conda/lib/python3.10/site-packages/sklearn/linear_model/_sag.py:350: ConvergenceWarning: The max_iter was reached which means the coef_ did not converge\n",
      "  warnings.warn(\n",
      "/opt/conda/lib/python3.10/site-packages/sklearn/linear_model/_sag.py:350: ConvergenceWarning: The max_iter was reached which means the coef_ did not converge\n",
      "  warnings.warn(\n"
     ]
    },
    {
     "name": "stdout",
     "output_type": "stream",
     "text": [
      "Year 1950 - Best C: 0.1, Best ACC: 1.0, Time: 97.89 seconds\n"
     ]
    },
    {
     "name": "stderr",
     "output_type": "stream",
     "text": [
      "/opt/conda/lib/python3.10/site-packages/sklearn/linear_model/_sag.py:350: ConvergenceWarning: The max_iter was reached which means the coef_ did not converge\n",
      "  warnings.warn(\n",
      "/opt/conda/lib/python3.10/site-packages/sklearn/linear_model/_sag.py:350: ConvergenceWarning: The max_iter was reached which means the coef_ did not converge\n",
      "  warnings.warn(\n",
      "/opt/conda/lib/python3.10/site-packages/sklearn/linear_model/_sag.py:350: ConvergenceWarning: The max_iter was reached which means the coef_ did not converge\n",
      "  warnings.warn(\n"
     ]
    },
    {
     "name": "stdout",
     "output_type": "stream",
     "text": [
      "Year 1951 - Best C: 0.1, Best ACC: 1.0, Time: 102.52 seconds\n"
     ]
    },
    {
     "name": "stderr",
     "output_type": "stream",
     "text": [
      "/opt/conda/lib/python3.10/site-packages/sklearn/linear_model/_sag.py:350: ConvergenceWarning: The max_iter was reached which means the coef_ did not converge\n",
      "  warnings.warn(\n",
      "/opt/conda/lib/python3.10/site-packages/sklearn/linear_model/_sag.py:350: ConvergenceWarning: The max_iter was reached which means the coef_ did not converge\n",
      "  warnings.warn(\n",
      "/opt/conda/lib/python3.10/site-packages/sklearn/linear_model/_sag.py:350: ConvergenceWarning: The max_iter was reached which means the coef_ did not converge\n",
      "  warnings.warn(\n"
     ]
    },
    {
     "name": "stdout",
     "output_type": "stream",
     "text": [
      "Year 1952 - Best C: 0.1, Best ACC: 1.0, Time: 105.02 seconds\n"
     ]
    },
    {
     "name": "stderr",
     "output_type": "stream",
     "text": [
      "/opt/conda/lib/python3.10/site-packages/sklearn/linear_model/_sag.py:350: ConvergenceWarning: The max_iter was reached which means the coef_ did not converge\n",
      "  warnings.warn(\n",
      "/opt/conda/lib/python3.10/site-packages/sklearn/linear_model/_sag.py:350: ConvergenceWarning: The max_iter was reached which means the coef_ did not converge\n",
      "  warnings.warn(\n",
      "/opt/conda/lib/python3.10/site-packages/sklearn/linear_model/_sag.py:350: ConvergenceWarning: The max_iter was reached which means the coef_ did not converge\n",
      "  warnings.warn(\n"
     ]
    },
    {
     "name": "stdout",
     "output_type": "stream",
     "text": [
      "Year 1953 - Best C: 0.1, Best ACC: 1.0, Time: 110.03 seconds\n"
     ]
    },
    {
     "name": "stderr",
     "output_type": "stream",
     "text": [
      "/opt/conda/lib/python3.10/site-packages/sklearn/linear_model/_sag.py:350: ConvergenceWarning: The max_iter was reached which means the coef_ did not converge\n",
      "  warnings.warn(\n",
      "/opt/conda/lib/python3.10/site-packages/sklearn/linear_model/_sag.py:350: ConvergenceWarning: The max_iter was reached which means the coef_ did not converge\n",
      "  warnings.warn(\n",
      "/opt/conda/lib/python3.10/site-packages/sklearn/linear_model/_sag.py:350: ConvergenceWarning: The max_iter was reached which means the coef_ did not converge\n",
      "  warnings.warn(\n"
     ]
    },
    {
     "name": "stdout",
     "output_type": "stream",
     "text": [
      "Year 1954 - Best C: 0.1, Best ACC: 1.0, Time: 116.49 seconds\n"
     ]
    },
    {
     "name": "stderr",
     "output_type": "stream",
     "text": [
      "/opt/conda/lib/python3.10/site-packages/sklearn/linear_model/_sag.py:350: ConvergenceWarning: The max_iter was reached which means the coef_ did not converge\n",
      "  warnings.warn(\n",
      "/opt/conda/lib/python3.10/site-packages/sklearn/linear_model/_sag.py:350: ConvergenceWarning: The max_iter was reached which means the coef_ did not converge\n",
      "  warnings.warn(\n",
      "/opt/conda/lib/python3.10/site-packages/sklearn/linear_model/_sag.py:350: ConvergenceWarning: The max_iter was reached which means the coef_ did not converge\n",
      "  warnings.warn(\n",
      "/opt/conda/lib/python3.10/site-packages/sklearn/linear_model/_sag.py:350: ConvergenceWarning: The max_iter was reached which means the coef_ did not converge\n",
      "  warnings.warn(\n"
     ]
    },
    {
     "name": "stdout",
     "output_type": "stream",
     "text": [
      "Year 1955 - Best C: 100, Best ACC: 0.9988, Time: 130.91 seconds\n"
     ]
    },
    {
     "name": "stderr",
     "output_type": "stream",
     "text": [
      "/opt/conda/lib/python3.10/site-packages/sklearn/linear_model/_sag.py:350: ConvergenceWarning: The max_iter was reached which means the coef_ did not converge\n",
      "  warnings.warn(\n",
      "/opt/conda/lib/python3.10/site-packages/sklearn/linear_model/_sag.py:350: ConvergenceWarning: The max_iter was reached which means the coef_ did not converge\n",
      "  warnings.warn(\n",
      "/opt/conda/lib/python3.10/site-packages/sklearn/linear_model/_sag.py:350: ConvergenceWarning: The max_iter was reached which means the coef_ did not converge\n",
      "  warnings.warn(\n"
     ]
    },
    {
     "name": "stdout",
     "output_type": "stream",
     "text": [
      "Year 1956 - Best C: 0.1, Best ACC: 1.0, Time: 122.67 seconds\n"
     ]
    },
    {
     "name": "stderr",
     "output_type": "stream",
     "text": [
      "/opt/conda/lib/python3.10/site-packages/sklearn/linear_model/_sag.py:350: ConvergenceWarning: The max_iter was reached which means the coef_ did not converge\n",
      "  warnings.warn(\n",
      "/opt/conda/lib/python3.10/site-packages/sklearn/linear_model/_sag.py:350: ConvergenceWarning: The max_iter was reached which means the coef_ did not converge\n",
      "  warnings.warn(\n",
      "/opt/conda/lib/python3.10/site-packages/sklearn/linear_model/_sag.py:350: ConvergenceWarning: The max_iter was reached which means the coef_ did not converge\n",
      "  warnings.warn(\n"
     ]
    },
    {
     "name": "stdout",
     "output_type": "stream",
     "text": [
      "Year 1957 - Best C: 0.1, Best ACC: 1.0, Time: 120.92 seconds\n"
     ]
    },
    {
     "name": "stderr",
     "output_type": "stream",
     "text": [
      "/opt/conda/lib/python3.10/site-packages/sklearn/linear_model/_sag.py:350: ConvergenceWarning: The max_iter was reached which means the coef_ did not converge\n",
      "  warnings.warn(\n",
      "/opt/conda/lib/python3.10/site-packages/sklearn/linear_model/_sag.py:350: ConvergenceWarning: The max_iter was reached which means the coef_ did not converge\n",
      "  warnings.warn(\n",
      "/opt/conda/lib/python3.10/site-packages/sklearn/linear_model/_sag.py:350: ConvergenceWarning: The max_iter was reached which means the coef_ did not converge\n",
      "  warnings.warn(\n"
     ]
    },
    {
     "name": "stdout",
     "output_type": "stream",
     "text": [
      "Year 1958 - Best C: 0.01, Best ACC: 1.0, Time: 93.45 seconds\n"
     ]
    },
    {
     "name": "stderr",
     "output_type": "stream",
     "text": [
      "/opt/conda/lib/python3.10/site-packages/sklearn/linear_model/_sag.py:350: ConvergenceWarning: The max_iter was reached which means the coef_ did not converge\n",
      "  warnings.warn(\n",
      "/opt/conda/lib/python3.10/site-packages/sklearn/linear_model/_sag.py:350: ConvergenceWarning: The max_iter was reached which means the coef_ did not converge\n",
      "  warnings.warn(\n",
      "/opt/conda/lib/python3.10/site-packages/sklearn/linear_model/_sag.py:350: ConvergenceWarning: The max_iter was reached which means the coef_ did not converge\n",
      "  warnings.warn(\n",
      "/opt/conda/lib/python3.10/site-packages/sklearn/linear_model/_sag.py:350: ConvergenceWarning: The max_iter was reached which means the coef_ did not converge\n",
      "  warnings.warn(\n"
     ]
    },
    {
     "name": "stdout",
     "output_type": "stream",
     "text": [
      "Year 1959 - Best C: 1, Best ACC: 1.0, Time: 118.97 seconds\n"
     ]
    },
    {
     "name": "stderr",
     "output_type": "stream",
     "text": [
      "/opt/conda/lib/python3.10/site-packages/sklearn/linear_model/_sag.py:350: ConvergenceWarning: The max_iter was reached which means the coef_ did not converge\n",
      "  warnings.warn(\n",
      "/opt/conda/lib/python3.10/site-packages/sklearn/linear_model/_sag.py:350: ConvergenceWarning: The max_iter was reached which means the coef_ did not converge\n",
      "  warnings.warn(\n",
      "/opt/conda/lib/python3.10/site-packages/sklearn/linear_model/_sag.py:350: ConvergenceWarning: The max_iter was reached which means the coef_ did not converge\n",
      "  warnings.warn(\n"
     ]
    },
    {
     "name": "stdout",
     "output_type": "stream",
     "text": [
      "Year 1960 - Best C: 0.1, Best ACC: 1.0, Time: 106.14 seconds\n"
     ]
    },
    {
     "name": "stderr",
     "output_type": "stream",
     "text": [
      "/opt/conda/lib/python3.10/site-packages/sklearn/linear_model/_sag.py:350: ConvergenceWarning: The max_iter was reached which means the coef_ did not converge\n",
      "  warnings.warn(\n",
      "/opt/conda/lib/python3.10/site-packages/sklearn/linear_model/_sag.py:350: ConvergenceWarning: The max_iter was reached which means the coef_ did not converge\n",
      "  warnings.warn(\n",
      "/opt/conda/lib/python3.10/site-packages/sklearn/linear_model/_sag.py:350: ConvergenceWarning: The max_iter was reached which means the coef_ did not converge\n",
      "  warnings.warn(\n"
     ]
    },
    {
     "name": "stdout",
     "output_type": "stream",
     "text": [
      "Year 1961 - Best C: 0.1, Best ACC: 0.9996, Time: 99.87 seconds\n"
     ]
    },
    {
     "name": "stderr",
     "output_type": "stream",
     "text": [
      "/opt/conda/lib/python3.10/site-packages/sklearn/linear_model/_sag.py:350: ConvergenceWarning: The max_iter was reached which means the coef_ did not converge\n",
      "  warnings.warn(\n",
      "/opt/conda/lib/python3.10/site-packages/sklearn/linear_model/_sag.py:350: ConvergenceWarning: The max_iter was reached which means the coef_ did not converge\n",
      "  warnings.warn(\n",
      "/opt/conda/lib/python3.10/site-packages/sklearn/linear_model/_sag.py:350: ConvergenceWarning: The max_iter was reached which means the coef_ did not converge\n",
      "  warnings.warn(\n",
      "/opt/conda/lib/python3.10/site-packages/sklearn/linear_model/_sag.py:350: ConvergenceWarning: The max_iter was reached which means the coef_ did not converge\n",
      "  warnings.warn(\n"
     ]
    },
    {
     "name": "stdout",
     "output_type": "stream",
     "text": [
      "Year 1962 - Best C: 1, Best ACC: 1.0, Time: 110.73 seconds\n"
     ]
    },
    {
     "name": "stderr",
     "output_type": "stream",
     "text": [
      "/opt/conda/lib/python3.10/site-packages/sklearn/linear_model/_sag.py:350: ConvergenceWarning: The max_iter was reached which means the coef_ did not converge\n",
      "  warnings.warn(\n",
      "/opt/conda/lib/python3.10/site-packages/sklearn/linear_model/_sag.py:350: ConvergenceWarning: The max_iter was reached which means the coef_ did not converge\n",
      "  warnings.warn(\n",
      "/opt/conda/lib/python3.10/site-packages/sklearn/linear_model/_sag.py:350: ConvergenceWarning: The max_iter was reached which means the coef_ did not converge\n",
      "  warnings.warn(\n",
      "/opt/conda/lib/python3.10/site-packages/sklearn/linear_model/_sag.py:350: ConvergenceWarning: The max_iter was reached which means the coef_ did not converge\n",
      "  warnings.warn(\n"
     ]
    },
    {
     "name": "stdout",
     "output_type": "stream",
     "text": [
      "Year 1963 - Best C: 1, Best ACC: 1.0, Time: 112.45 seconds\n"
     ]
    },
    {
     "name": "stderr",
     "output_type": "stream",
     "text": [
      "/opt/conda/lib/python3.10/site-packages/sklearn/linear_model/_sag.py:350: ConvergenceWarning: The max_iter was reached which means the coef_ did not converge\n",
      "  warnings.warn(\n",
      "/opt/conda/lib/python3.10/site-packages/sklearn/linear_model/_sag.py:350: ConvergenceWarning: The max_iter was reached which means the coef_ did not converge\n",
      "  warnings.warn(\n",
      "/opt/conda/lib/python3.10/site-packages/sklearn/linear_model/_sag.py:350: ConvergenceWarning: The max_iter was reached which means the coef_ did not converge\n",
      "  warnings.warn(\n"
     ]
    },
    {
     "name": "stdout",
     "output_type": "stream",
     "text": [
      "Year 1964 - Best C: 0.1, Best ACC: 0.9997, Time: 102.31 seconds\n"
     ]
    },
    {
     "name": "stderr",
     "output_type": "stream",
     "text": [
      "/opt/conda/lib/python3.10/site-packages/sklearn/linear_model/_sag.py:350: ConvergenceWarning: The max_iter was reached which means the coef_ did not converge\n",
      "  warnings.warn(\n",
      "/opt/conda/lib/python3.10/site-packages/sklearn/linear_model/_sag.py:350: ConvergenceWarning: The max_iter was reached which means the coef_ did not converge\n",
      "  warnings.warn(\n",
      "/opt/conda/lib/python3.10/site-packages/sklearn/linear_model/_sag.py:350: ConvergenceWarning: The max_iter was reached which means the coef_ did not converge\n",
      "  warnings.warn(\n",
      "/opt/conda/lib/python3.10/site-packages/sklearn/linear_model/_sag.py:350: ConvergenceWarning: The max_iter was reached which means the coef_ did not converge\n",
      "  warnings.warn(\n"
     ]
    },
    {
     "name": "stdout",
     "output_type": "stream",
     "text": [
      "Year 1965 - Best C: 100, Best ACC: 0.9998, Time: 129.59 seconds\n"
     ]
    },
    {
     "name": "stderr",
     "output_type": "stream",
     "text": [
      "/opt/conda/lib/python3.10/site-packages/sklearn/linear_model/_sag.py:350: ConvergenceWarning: The max_iter was reached which means the coef_ did not converge\n",
      "  warnings.warn(\n",
      "/opt/conda/lib/python3.10/site-packages/sklearn/linear_model/_sag.py:350: ConvergenceWarning: The max_iter was reached which means the coef_ did not converge\n",
      "  warnings.warn(\n",
      "/opt/conda/lib/python3.10/site-packages/sklearn/linear_model/_sag.py:350: ConvergenceWarning: The max_iter was reached which means the coef_ did not converge\n",
      "  warnings.warn(\n",
      "/opt/conda/lib/python3.10/site-packages/sklearn/linear_model/_sag.py:350: ConvergenceWarning: The max_iter was reached which means the coef_ did not converge\n",
      "  warnings.warn(\n"
     ]
    },
    {
     "name": "stdout",
     "output_type": "stream",
     "text": [
      "Year 1966 - Best C: 100, Best ACC: 0.9997, Time: 153.36 seconds\n"
     ]
    },
    {
     "name": "stderr",
     "output_type": "stream",
     "text": [
      "/opt/conda/lib/python3.10/site-packages/sklearn/linear_model/_sag.py:350: ConvergenceWarning: The max_iter was reached which means the coef_ did not converge\n",
      "  warnings.warn(\n",
      "/opt/conda/lib/python3.10/site-packages/sklearn/linear_model/_sag.py:350: ConvergenceWarning: The max_iter was reached which means the coef_ did not converge\n",
      "  warnings.warn(\n",
      "/opt/conda/lib/python3.10/site-packages/sklearn/linear_model/_sag.py:350: ConvergenceWarning: The max_iter was reached which means the coef_ did not converge\n",
      "  warnings.warn(\n"
     ]
    },
    {
     "name": "stdout",
     "output_type": "stream",
     "text": [
      "Year 1967 - Best C: 0.1, Best ACC: 1.0, Time: 152.76 seconds\n"
     ]
    },
    {
     "name": "stderr",
     "output_type": "stream",
     "text": [
      "/opt/conda/lib/python3.10/site-packages/sklearn/linear_model/_sag.py:350: ConvergenceWarning: The max_iter was reached which means the coef_ did not converge\n",
      "  warnings.warn(\n",
      "/opt/conda/lib/python3.10/site-packages/sklearn/linear_model/_sag.py:350: ConvergenceWarning: The max_iter was reached which means the coef_ did not converge\n",
      "  warnings.warn(\n",
      "/opt/conda/lib/python3.10/site-packages/sklearn/linear_model/_sag.py:350: ConvergenceWarning: The max_iter was reached which means the coef_ did not converge\n",
      "  warnings.warn(\n"
     ]
    },
    {
     "name": "stdout",
     "output_type": "stream",
     "text": [
      "Year 1968 - Best C: 10, Best ACC: 1.0, Time: 201.73 seconds\n"
     ]
    },
    {
     "name": "stderr",
     "output_type": "stream",
     "text": [
      "/opt/conda/lib/python3.10/site-packages/sklearn/linear_model/_sag.py:350: ConvergenceWarning: The max_iter was reached which means the coef_ did not converge\n",
      "  warnings.warn(\n",
      "/opt/conda/lib/python3.10/site-packages/sklearn/linear_model/_sag.py:350: ConvergenceWarning: The max_iter was reached which means the coef_ did not converge\n",
      "  warnings.warn(\n",
      "/opt/conda/lib/python3.10/site-packages/sklearn/linear_model/_sag.py:350: ConvergenceWarning: The max_iter was reached which means the coef_ did not converge\n",
      "  warnings.warn(\n"
     ]
    },
    {
     "name": "stdout",
     "output_type": "stream",
     "text": [
      "Year 1969 - Best C: 100, Best ACC: 0.9999, Time: 220.09 seconds\n"
     ]
    },
    {
     "name": "stderr",
     "output_type": "stream",
     "text": [
      "/opt/conda/lib/python3.10/site-packages/sklearn/linear_model/_sag.py:350: ConvergenceWarning: The max_iter was reached which means the coef_ did not converge\n",
      "  warnings.warn(\n",
      "/opt/conda/lib/python3.10/site-packages/sklearn/linear_model/_sag.py:350: ConvergenceWarning: The max_iter was reached which means the coef_ did not converge\n",
      "  warnings.warn(\n",
      "/opt/conda/lib/python3.10/site-packages/sklearn/linear_model/_sag.py:350: ConvergenceWarning: The max_iter was reached which means the coef_ did not converge\n",
      "  warnings.warn(\n"
     ]
    },
    {
     "name": "stdout",
     "output_type": "stream",
     "text": [
      "Year 1970 - Best C: 0.1, Best ACC: 1.0, Time: 189.27 seconds\n"
     ]
    },
    {
     "name": "stderr",
     "output_type": "stream",
     "text": [
      "/opt/conda/lib/python3.10/site-packages/sklearn/linear_model/_sag.py:350: ConvergenceWarning: The max_iter was reached which means the coef_ did not converge\n",
      "  warnings.warn(\n",
      "/opt/conda/lib/python3.10/site-packages/sklearn/linear_model/_sag.py:350: ConvergenceWarning: The max_iter was reached which means the coef_ did not converge\n",
      "  warnings.warn(\n",
      "/opt/conda/lib/python3.10/site-packages/sklearn/linear_model/_sag.py:350: ConvergenceWarning: The max_iter was reached which means the coef_ did not converge\n",
      "  warnings.warn(\n"
     ]
    },
    {
     "name": "stdout",
     "output_type": "stream",
     "text": [
      "Year 1971 - Best C: 0.1, Best ACC: 1.0, Time: 198.22 seconds\n"
     ]
    },
    {
     "name": "stderr",
     "output_type": "stream",
     "text": [
      "/opt/conda/lib/python3.10/site-packages/sklearn/linear_model/_sag.py:350: ConvergenceWarning: The max_iter was reached which means the coef_ did not converge\n",
      "  warnings.warn(\n",
      "/opt/conda/lib/python3.10/site-packages/sklearn/linear_model/_sag.py:350: ConvergenceWarning: The max_iter was reached which means the coef_ did not converge\n",
      "  warnings.warn(\n",
      "/opt/conda/lib/python3.10/site-packages/sklearn/linear_model/_sag.py:350: ConvergenceWarning: The max_iter was reached which means the coef_ did not converge\n",
      "  warnings.warn(\n"
     ]
    },
    {
     "name": "stdout",
     "output_type": "stream",
     "text": [
      "Year 1972 - Best C: 0.01, Best ACC: 1.0, Time: 175.26 seconds\n"
     ]
    },
    {
     "name": "stderr",
     "output_type": "stream",
     "text": [
      "/opt/conda/lib/python3.10/site-packages/sklearn/linear_model/_sag.py:350: ConvergenceWarning: The max_iter was reached which means the coef_ did not converge\n",
      "  warnings.warn(\n",
      "/opt/conda/lib/python3.10/site-packages/sklearn/linear_model/_sag.py:350: ConvergenceWarning: The max_iter was reached which means the coef_ did not converge\n",
      "  warnings.warn(\n"
     ]
    },
    {
     "name": "stdout",
     "output_type": "stream",
     "text": [
      "Year 1973 - Best C: 0.01, Best ACC: 1.0, Time: 177.00 seconds\n"
     ]
    },
    {
     "name": "stderr",
     "output_type": "stream",
     "text": [
      "/opt/conda/lib/python3.10/site-packages/sklearn/linear_model/_sag.py:350: ConvergenceWarning: The max_iter was reached which means the coef_ did not converge\n",
      "  warnings.warn(\n",
      "/opt/conda/lib/python3.10/site-packages/sklearn/linear_model/_sag.py:350: ConvergenceWarning: The max_iter was reached which means the coef_ did not converge\n",
      "  warnings.warn(\n"
     ]
    },
    {
     "name": "stdout",
     "output_type": "stream",
     "text": [
      "Year 1974 - Best C: 1, Best ACC: 1.0, Time: 221.50 seconds\n"
     ]
    },
    {
     "name": "stderr",
     "output_type": "stream",
     "text": [
      "/opt/conda/lib/python3.10/site-packages/sklearn/linear_model/_sag.py:350: ConvergenceWarning: The max_iter was reached which means the coef_ did not converge\n",
      "  warnings.warn(\n"
     ]
    },
    {
     "name": "stdout",
     "output_type": "stream",
     "text": [
      "Year 1975 - Best C: 1, Best ACC: 0.9997, Time: 225.58 seconds\n"
     ]
    },
    {
     "name": "stderr",
     "output_type": "stream",
     "text": [
      "/opt/conda/lib/python3.10/site-packages/sklearn/linear_model/_sag.py:350: ConvergenceWarning: The max_iter was reached which means the coef_ did not converge\n",
      "  warnings.warn(\n",
      "/opt/conda/lib/python3.10/site-packages/sklearn/linear_model/_sag.py:350: ConvergenceWarning: The max_iter was reached which means the coef_ did not converge\n",
      "  warnings.warn(\n"
     ]
    },
    {
     "name": "stdout",
     "output_type": "stream",
     "text": [
      "Year 1976 - Best C: 0.01, Best ACC: 0.9998, Time: 202.72 seconds\n"
     ]
    },
    {
     "name": "stderr",
     "output_type": "stream",
     "text": [
      "/opt/conda/lib/python3.10/site-packages/sklearn/linear_model/_sag.py:350: ConvergenceWarning: The max_iter was reached which means the coef_ did not converge\n",
      "  warnings.warn(\n",
      "/opt/conda/lib/python3.10/site-packages/sklearn/linear_model/_sag.py:350: ConvergenceWarning: The max_iter was reached which means the coef_ did not converge\n",
      "  warnings.warn(\n",
      "/opt/conda/lib/python3.10/site-packages/sklearn/linear_model/_sag.py:350: ConvergenceWarning: The max_iter was reached which means the coef_ did not converge\n",
      "  warnings.warn(\n"
     ]
    },
    {
     "name": "stdout",
     "output_type": "stream",
     "text": [
      "Year 1977 - Best C: 100, Best ACC: 0.9999, Time: 268.29 seconds\n"
     ]
    },
    {
     "name": "stderr",
     "output_type": "stream",
     "text": [
      "/opt/conda/lib/python3.10/site-packages/sklearn/linear_model/_sag.py:350: ConvergenceWarning: The max_iter was reached which means the coef_ did not converge\n",
      "  warnings.warn(\n",
      "/opt/conda/lib/python3.10/site-packages/sklearn/linear_model/_sag.py:350: ConvergenceWarning: The max_iter was reached which means the coef_ did not converge\n",
      "  warnings.warn(\n"
     ]
    },
    {
     "name": "stdout",
     "output_type": "stream",
     "text": [
      "Year 1978 - Best C: 1, Best ACC: 1.0, Time: 253.76 seconds\n"
     ]
    },
    {
     "name": "stderr",
     "output_type": "stream",
     "text": [
      "/opt/conda/lib/python3.10/site-packages/sklearn/linear_model/_sag.py:350: ConvergenceWarning: The max_iter was reached which means the coef_ did not converge\n",
      "  warnings.warn(\n",
      "/opt/conda/lib/python3.10/site-packages/sklearn/linear_model/_sag.py:350: ConvergenceWarning: The max_iter was reached which means the coef_ did not converge\n",
      "  warnings.warn(\n",
      "/opt/conda/lib/python3.10/site-packages/sklearn/linear_model/_sag.py:350: ConvergenceWarning: The max_iter was reached which means the coef_ did not converge\n",
      "  warnings.warn(\n"
     ]
    },
    {
     "name": "stdout",
     "output_type": "stream",
     "text": [
      "Year 1979 - Best C: 10, Best ACC: 1.0, Time: 283.29 seconds\n"
     ]
    },
    {
     "name": "stderr",
     "output_type": "stream",
     "text": [
      "/opt/conda/lib/python3.10/site-packages/sklearn/linear_model/_sag.py:350: ConvergenceWarning: The max_iter was reached which means the coef_ did not converge\n",
      "  warnings.warn(\n",
      "/opt/conda/lib/python3.10/site-packages/sklearn/linear_model/_sag.py:350: ConvergenceWarning: The max_iter was reached which means the coef_ did not converge\n",
      "  warnings.warn(\n"
     ]
    },
    {
     "name": "stdout",
     "output_type": "stream",
     "text": [
      "Year 1980 - Best C: 1, Best ACC: 1.0, Time: 254.12 seconds\n"
     ]
    },
    {
     "name": "stderr",
     "output_type": "stream",
     "text": [
      "/opt/conda/lib/python3.10/site-packages/sklearn/linear_model/_sag.py:350: ConvergenceWarning: The max_iter was reached which means the coef_ did not converge\n",
      "  warnings.warn(\n",
      "/opt/conda/lib/python3.10/site-packages/sklearn/linear_model/_sag.py:350: ConvergenceWarning: The max_iter was reached which means the coef_ did not converge\n",
      "  warnings.warn(\n"
     ]
    },
    {
     "name": "stdout",
     "output_type": "stream",
     "text": [
      "Year 1981 - Best C: 0.1, Best ACC: 1.0, Time: 214.84 seconds\n"
     ]
    },
    {
     "name": "stderr",
     "output_type": "stream",
     "text": [
      "/opt/conda/lib/python3.10/site-packages/sklearn/linear_model/_sag.py:350: ConvergenceWarning: The max_iter was reached which means the coef_ did not converge\n",
      "  warnings.warn(\n",
      "/opt/conda/lib/python3.10/site-packages/sklearn/linear_model/_sag.py:350: ConvergenceWarning: The max_iter was reached which means the coef_ did not converge\n",
      "  warnings.warn(\n"
     ]
    },
    {
     "name": "stdout",
     "output_type": "stream",
     "text": [
      "Year 1982 - Best C: 1, Best ACC: 1.0, Time: 248.49 seconds\n"
     ]
    },
    {
     "name": "stderr",
     "output_type": "stream",
     "text": [
      "/opt/conda/lib/python3.10/site-packages/sklearn/linear_model/_sag.py:350: ConvergenceWarning: The max_iter was reached which means the coef_ did not converge\n",
      "  warnings.warn(\n",
      "/opt/conda/lib/python3.10/site-packages/sklearn/linear_model/_sag.py:350: ConvergenceWarning: The max_iter was reached which means the coef_ did not converge\n",
      "  warnings.warn(\n",
      "/opt/conda/lib/python3.10/site-packages/sklearn/linear_model/_sag.py:350: ConvergenceWarning: The max_iter was reached which means the coef_ did not converge\n",
      "  warnings.warn(\n"
     ]
    },
    {
     "name": "stdout",
     "output_type": "stream",
     "text": [
      "Year 1983 - Best C: 10, Best ACC: 1.0, Time: 254.02 seconds\n"
     ]
    },
    {
     "name": "stderr",
     "output_type": "stream",
     "text": [
      "/opt/conda/lib/python3.10/site-packages/sklearn/linear_model/_sag.py:350: ConvergenceWarning: The max_iter was reached which means the coef_ did not converge\n",
      "  warnings.warn(\n",
      "/opt/conda/lib/python3.10/site-packages/sklearn/linear_model/_sag.py:350: ConvergenceWarning: The max_iter was reached which means the coef_ did not converge\n",
      "  warnings.warn(\n"
     ]
    },
    {
     "name": "stdout",
     "output_type": "stream",
     "text": [
      "Year 1984 - Best C: 0.01, Best ACC: 0.9997, Time: 203.41 seconds\n"
     ]
    },
    {
     "name": "stderr",
     "output_type": "stream",
     "text": [
      "/opt/conda/lib/python3.10/site-packages/sklearn/linear_model/_sag.py:350: ConvergenceWarning: The max_iter was reached which means the coef_ did not converge\n",
      "  warnings.warn(\n",
      "/opt/conda/lib/python3.10/site-packages/sklearn/linear_model/_sag.py:350: ConvergenceWarning: The max_iter was reached which means the coef_ did not converge\n",
      "  warnings.warn(\n",
      "/opt/conda/lib/python3.10/site-packages/sklearn/linear_model/_sag.py:350: ConvergenceWarning: The max_iter was reached which means the coef_ did not converge\n",
      "  warnings.warn(\n",
      "/opt/conda/lib/python3.10/site-packages/sklearn/linear_model/_sag.py:350: ConvergenceWarning: The max_iter was reached which means the coef_ did not converge\n",
      "  warnings.warn(\n"
     ]
    },
    {
     "name": "stdout",
     "output_type": "stream",
     "text": [
      "Year 1985 - Best C: 10, Best ACC: 1.0, Time: 342.92 seconds\n"
     ]
    },
    {
     "name": "stderr",
     "output_type": "stream",
     "text": [
      "/opt/conda/lib/python3.10/site-packages/sklearn/linear_model/_sag.py:350: ConvergenceWarning: The max_iter was reached which means the coef_ did not converge\n",
      "  warnings.warn(\n",
      "/opt/conda/lib/python3.10/site-packages/sklearn/linear_model/_sag.py:350: ConvergenceWarning: The max_iter was reached which means the coef_ did not converge\n",
      "  warnings.warn(\n",
      "/opt/conda/lib/python3.10/site-packages/sklearn/linear_model/_sag.py:350: ConvergenceWarning: The max_iter was reached which means the coef_ did not converge\n",
      "  warnings.warn(\n",
      "/opt/conda/lib/python3.10/site-packages/sklearn/linear_model/_sag.py:350: ConvergenceWarning: The max_iter was reached which means the coef_ did not converge\n",
      "  warnings.warn(\n"
     ]
    },
    {
     "name": "stdout",
     "output_type": "stream",
     "text": [
      "Year 1986 - Best C: 100, Best ACC: 0.9999, Time: 425.44 seconds\n"
     ]
    },
    {
     "name": "stderr",
     "output_type": "stream",
     "text": [
      "/opt/conda/lib/python3.10/site-packages/sklearn/linear_model/_sag.py:350: ConvergenceWarning: The max_iter was reached which means the coef_ did not converge\n",
      "  warnings.warn(\n",
      "/opt/conda/lib/python3.10/site-packages/sklearn/linear_model/_sag.py:350: ConvergenceWarning: The max_iter was reached which means the coef_ did not converge\n",
      "  warnings.warn(\n",
      "/opt/conda/lib/python3.10/site-packages/sklearn/linear_model/_sag.py:350: ConvergenceWarning: The max_iter was reached which means the coef_ did not converge\n",
      "  warnings.warn(\n",
      "/opt/conda/lib/python3.10/site-packages/sklearn/linear_model/_sag.py:350: ConvergenceWarning: The max_iter was reached which means the coef_ did not converge\n",
      "  warnings.warn(\n"
     ]
    },
    {
     "name": "stdout",
     "output_type": "stream",
     "text": [
      "Year 1987 - Best C: 100, Best ACC: 0.9998, Time: 528.94 seconds\n"
     ]
    },
    {
     "name": "stderr",
     "output_type": "stream",
     "text": [
      "/opt/conda/lib/python3.10/site-packages/sklearn/linear_model/_sag.py:350: ConvergenceWarning: The max_iter was reached which means the coef_ did not converge\n",
      "  warnings.warn(\n",
      "/opt/conda/lib/python3.10/site-packages/sklearn/linear_model/_sag.py:350: ConvergenceWarning: The max_iter was reached which means the coef_ did not converge\n",
      "  warnings.warn(\n",
      "/opt/conda/lib/python3.10/site-packages/sklearn/linear_model/_sag.py:350: ConvergenceWarning: The max_iter was reached which means the coef_ did not converge\n",
      "  warnings.warn(\n",
      "/opt/conda/lib/python3.10/site-packages/sklearn/linear_model/_sag.py:350: ConvergenceWarning: The max_iter was reached which means the coef_ did not converge\n",
      "  warnings.warn(\n"
     ]
    },
    {
     "name": "stdout",
     "output_type": "stream",
     "text": [
      "Year 1988 - Best C: 1, Best ACC: 1.0, Time: 637.37 seconds\n"
     ]
    },
    {
     "name": "stderr",
     "output_type": "stream",
     "text": [
      "/opt/conda/lib/python3.10/site-packages/sklearn/linear_model/_sag.py:350: ConvergenceWarning: The max_iter was reached which means the coef_ did not converge\n",
      "  warnings.warn(\n",
      "/opt/conda/lib/python3.10/site-packages/sklearn/linear_model/_sag.py:350: ConvergenceWarning: The max_iter was reached which means the coef_ did not converge\n",
      "  warnings.warn(\n",
      "/opt/conda/lib/python3.10/site-packages/sklearn/linear_model/_sag.py:350: ConvergenceWarning: The max_iter was reached which means the coef_ did not converge\n",
      "  warnings.warn(\n"
     ]
    },
    {
     "name": "stdout",
     "output_type": "stream",
     "text": [
      "Year 1989 - Best C: 100, Best ACC: 0.9999, Time: 630.87 seconds\n"
     ]
    },
    {
     "name": "stderr",
     "output_type": "stream",
     "text": [
      "/opt/conda/lib/python3.10/site-packages/sklearn/linear_model/_sag.py:350: ConvergenceWarning: The max_iter was reached which means the coef_ did not converge\n",
      "  warnings.warn(\n",
      "/opt/conda/lib/python3.10/site-packages/sklearn/linear_model/_sag.py:350: ConvergenceWarning: The max_iter was reached which means the coef_ did not converge\n",
      "  warnings.warn(\n",
      "/opt/conda/lib/python3.10/site-packages/sklearn/linear_model/_sag.py:350: ConvergenceWarning: The max_iter was reached which means the coef_ did not converge\n",
      "  warnings.warn(\n",
      "/opt/conda/lib/python3.10/site-packages/sklearn/linear_model/_sag.py:350: ConvergenceWarning: The max_iter was reached which means the coef_ did not converge\n",
      "  warnings.warn(\n"
     ]
    },
    {
     "name": "stdout",
     "output_type": "stream",
     "text": [
      "Year 1990 - Best C: 100, Best ACC: 1.0, Time: 676.21 seconds\n"
     ]
    },
    {
     "name": "stderr",
     "output_type": "stream",
     "text": [
      "/opt/conda/lib/python3.10/site-packages/sklearn/linear_model/_sag.py:350: ConvergenceWarning: The max_iter was reached which means the coef_ did not converge\n",
      "  warnings.warn(\n",
      "/opt/conda/lib/python3.10/site-packages/sklearn/linear_model/_sag.py:350: ConvergenceWarning: The max_iter was reached which means the coef_ did not converge\n",
      "  warnings.warn(\n",
      "/opt/conda/lib/python3.10/site-packages/sklearn/linear_model/_sag.py:350: ConvergenceWarning: The max_iter was reached which means the coef_ did not converge\n",
      "  warnings.warn(\n",
      "/opt/conda/lib/python3.10/site-packages/sklearn/linear_model/_sag.py:350: ConvergenceWarning: The max_iter was reached which means the coef_ did not converge\n",
      "  warnings.warn(\n"
     ]
    },
    {
     "name": "stdout",
     "output_type": "stream",
     "text": [
      "Year 1991 - Best C: 100, Best ACC: 0.9999, Time: 684.36 seconds\n"
     ]
    },
    {
     "name": "stderr",
     "output_type": "stream",
     "text": [
      "/opt/conda/lib/python3.10/site-packages/sklearn/linear_model/_sag.py:350: ConvergenceWarning: The max_iter was reached which means the coef_ did not converge\n",
      "  warnings.warn(\n",
      "/opt/conda/lib/python3.10/site-packages/sklearn/linear_model/_sag.py:350: ConvergenceWarning: The max_iter was reached which means the coef_ did not converge\n",
      "  warnings.warn(\n",
      "/opt/conda/lib/python3.10/site-packages/sklearn/linear_model/_sag.py:350: ConvergenceWarning: The max_iter was reached which means the coef_ did not converge\n",
      "  warnings.warn(\n"
     ]
    },
    {
     "name": "stdout",
     "output_type": "stream",
     "text": [
      "Year 1992 - Best C: 100, Best ACC: 0.9996, Time: 688.43 seconds\n"
     ]
    },
    {
     "name": "stderr",
     "output_type": "stream",
     "text": [
      "/opt/conda/lib/python3.10/site-packages/sklearn/linear_model/_sag.py:350: ConvergenceWarning: The max_iter was reached which means the coef_ did not converge\n",
      "  warnings.warn(\n",
      "/opt/conda/lib/python3.10/site-packages/sklearn/linear_model/_sag.py:350: ConvergenceWarning: The max_iter was reached which means the coef_ did not converge\n",
      "  warnings.warn(\n",
      "/opt/conda/lib/python3.10/site-packages/sklearn/linear_model/_sag.py:350: ConvergenceWarning: The max_iter was reached which means the coef_ did not converge\n",
      "  warnings.warn(\n",
      "/opt/conda/lib/python3.10/site-packages/sklearn/linear_model/_sag.py:350: ConvergenceWarning: The max_iter was reached which means the coef_ did not converge\n",
      "  warnings.warn(\n"
     ]
    },
    {
     "name": "stdout",
     "output_type": "stream",
     "text": [
      "Year 1993 - Best C: 10, Best ACC: 1.0, Time: 694.96 seconds\n"
     ]
    },
    {
     "name": "stderr",
     "output_type": "stream",
     "text": [
      "/opt/conda/lib/python3.10/site-packages/sklearn/linear_model/_sag.py:350: ConvergenceWarning: The max_iter was reached which means the coef_ did not converge\n",
      "  warnings.warn(\n",
      "/opt/conda/lib/python3.10/site-packages/sklearn/linear_model/_sag.py:350: ConvergenceWarning: The max_iter was reached which means the coef_ did not converge\n",
      "  warnings.warn(\n",
      "/opt/conda/lib/python3.10/site-packages/sklearn/linear_model/_sag.py:350: ConvergenceWarning: The max_iter was reached which means the coef_ did not converge\n",
      "  warnings.warn(\n"
     ]
    },
    {
     "name": "stdout",
     "output_type": "stream",
     "text": [
      "Year 1994 - Best C: 100, Best ACC: 1.0, Time: 673.32 seconds\n"
     ]
    },
    {
     "name": "stderr",
     "output_type": "stream",
     "text": [
      "/opt/conda/lib/python3.10/site-packages/sklearn/linear_model/_sag.py:350: ConvergenceWarning: The max_iter was reached which means the coef_ did not converge\n",
      "  warnings.warn(\n",
      "/opt/conda/lib/python3.10/site-packages/sklearn/linear_model/_sag.py:350: ConvergenceWarning: The max_iter was reached which means the coef_ did not converge\n",
      "  warnings.warn(\n",
      "/opt/conda/lib/python3.10/site-packages/sklearn/linear_model/_sag.py:350: ConvergenceWarning: The max_iter was reached which means the coef_ did not converge\n",
      "  warnings.warn(\n"
     ]
    },
    {
     "name": "stdout",
     "output_type": "stream",
     "text": [
      "Year 1995 - Best C: 100, Best ACC: 0.9999, Time: 678.37 seconds\n"
     ]
    },
    {
     "name": "stderr",
     "output_type": "stream",
     "text": [
      "/opt/conda/lib/python3.10/site-packages/sklearn/linear_model/_sag.py:350: ConvergenceWarning: The max_iter was reached which means the coef_ did not converge\n",
      "  warnings.warn(\n",
      "/opt/conda/lib/python3.10/site-packages/sklearn/linear_model/_sag.py:350: ConvergenceWarning: The max_iter was reached which means the coef_ did not converge\n",
      "  warnings.warn(\n",
      "/opt/conda/lib/python3.10/site-packages/sklearn/linear_model/_sag.py:350: ConvergenceWarning: The max_iter was reached which means the coef_ did not converge\n",
      "  warnings.warn(\n",
      "/opt/conda/lib/python3.10/site-packages/sklearn/linear_model/_sag.py:350: ConvergenceWarning: The max_iter was reached which means the coef_ did not converge\n",
      "  warnings.warn(\n"
     ]
    },
    {
     "name": "stdout",
     "output_type": "stream",
     "text": [
      "Year 1996 - Best C: 100, Best ACC: 1.0, Time: 691.61 seconds\n"
     ]
    },
    {
     "name": "stderr",
     "output_type": "stream",
     "text": [
      "/opt/conda/lib/python3.10/site-packages/sklearn/linear_model/_sag.py:350: ConvergenceWarning: The max_iter was reached which means the coef_ did not converge\n",
      "  warnings.warn(\n",
      "/opt/conda/lib/python3.10/site-packages/sklearn/linear_model/_sag.py:350: ConvergenceWarning: The max_iter was reached which means the coef_ did not converge\n",
      "  warnings.warn(\n",
      "/opt/conda/lib/python3.10/site-packages/sklearn/linear_model/_sag.py:350: ConvergenceWarning: The max_iter was reached which means the coef_ did not converge\n",
      "  warnings.warn(\n",
      "/opt/conda/lib/python3.10/site-packages/sklearn/linear_model/_sag.py:350: ConvergenceWarning: The max_iter was reached which means the coef_ did not converge\n",
      "  warnings.warn(\n"
     ]
    },
    {
     "name": "stdout",
     "output_type": "stream",
     "text": [
      "Year 1997 - Best C: 100, Best ACC: 0.9999, Time: 732.90 seconds\n"
     ]
    },
    {
     "name": "stderr",
     "output_type": "stream",
     "text": [
      "/opt/conda/lib/python3.10/site-packages/sklearn/linear_model/_sag.py:350: ConvergenceWarning: The max_iter was reached which means the coef_ did not converge\n",
      "  warnings.warn(\n",
      "/opt/conda/lib/python3.10/site-packages/sklearn/linear_model/_sag.py:350: ConvergenceWarning: The max_iter was reached which means the coef_ did not converge\n",
      "  warnings.warn(\n",
      "/opt/conda/lib/python3.10/site-packages/sklearn/linear_model/_sag.py:350: ConvergenceWarning: The max_iter was reached which means the coef_ did not converge\n",
      "  warnings.warn(\n"
     ]
    },
    {
     "name": "stdout",
     "output_type": "stream",
     "text": [
      "Year 1998 - Best C: 100, Best ACC: 0.9999, Time: 750.15 seconds\n"
     ]
    },
    {
     "name": "stderr",
     "output_type": "stream",
     "text": [
      "/opt/conda/lib/python3.10/site-packages/sklearn/linear_model/_sag.py:350: ConvergenceWarning: The max_iter was reached which means the coef_ did not converge\n",
      "  warnings.warn(\n",
      "/opt/conda/lib/python3.10/site-packages/sklearn/linear_model/_sag.py:350: ConvergenceWarning: The max_iter was reached which means the coef_ did not converge\n",
      "  warnings.warn(\n",
      "/opt/conda/lib/python3.10/site-packages/sklearn/linear_model/_sag.py:350: ConvergenceWarning: The max_iter was reached which means the coef_ did not converge\n",
      "  warnings.warn(\n",
      "/opt/conda/lib/python3.10/site-packages/sklearn/linear_model/_sag.py:350: ConvergenceWarning: The max_iter was reached which means the coef_ did not converge\n",
      "  warnings.warn(\n"
     ]
    },
    {
     "name": "stdout",
     "output_type": "stream",
     "text": [
      "Year 1999 - Best C: 10, Best ACC: 1.0, Time: 799.74 seconds\n"
     ]
    },
    {
     "name": "stderr",
     "output_type": "stream",
     "text": [
      "/opt/conda/lib/python3.10/site-packages/sklearn/linear_model/_sag.py:350: ConvergenceWarning: The max_iter was reached which means the coef_ did not converge\n",
      "  warnings.warn(\n",
      "/opt/conda/lib/python3.10/site-packages/sklearn/linear_model/_sag.py:350: ConvergenceWarning: The max_iter was reached which means the coef_ did not converge\n",
      "  warnings.warn(\n",
      "/opt/conda/lib/python3.10/site-packages/sklearn/linear_model/_sag.py:350: ConvergenceWarning: The max_iter was reached which means the coef_ did not converge\n",
      "  warnings.warn(\n",
      "/opt/conda/lib/python3.10/site-packages/sklearn/linear_model/_sag.py:350: ConvergenceWarning: The max_iter was reached which means the coef_ did not converge\n",
      "  warnings.warn(\n"
     ]
    },
    {
     "name": "stdout",
     "output_type": "stream",
     "text": [
      "Year 2000 - Best C: 100, Best ACC: 0.9998, Time: 838.19 seconds\n"
     ]
    },
    {
     "name": "stderr",
     "output_type": "stream",
     "text": [
      "/opt/conda/lib/python3.10/site-packages/sklearn/linear_model/_sag.py:350: ConvergenceWarning: The max_iter was reached which means the coef_ did not converge\n",
      "  warnings.warn(\n",
      "/opt/conda/lib/python3.10/site-packages/sklearn/linear_model/_sag.py:350: ConvergenceWarning: The max_iter was reached which means the coef_ did not converge\n",
      "  warnings.warn(\n",
      "/opt/conda/lib/python3.10/site-packages/sklearn/linear_model/_sag.py:350: ConvergenceWarning: The max_iter was reached which means the coef_ did not converge\n",
      "  warnings.warn(\n",
      "/opt/conda/lib/python3.10/site-packages/sklearn/linear_model/_sag.py:350: ConvergenceWarning: The max_iter was reached which means the coef_ did not converge\n",
      "  warnings.warn(\n"
     ]
    },
    {
     "name": "stdout",
     "output_type": "stream",
     "text": [
      "Year 2001 - Best C: 1, Best ACC: 1.0, Time: 848.72 seconds\n"
     ]
    },
    {
     "name": "stderr",
     "output_type": "stream",
     "text": [
      "/opt/conda/lib/python3.10/site-packages/sklearn/linear_model/_sag.py:350: ConvergenceWarning: The max_iter was reached which means the coef_ did not converge\n",
      "  warnings.warn(\n",
      "/opt/conda/lib/python3.10/site-packages/sklearn/linear_model/_sag.py:350: ConvergenceWarning: The max_iter was reached which means the coef_ did not converge\n",
      "  warnings.warn(\n",
      "/opt/conda/lib/python3.10/site-packages/sklearn/linear_model/_sag.py:350: ConvergenceWarning: The max_iter was reached which means the coef_ did not converge\n",
      "  warnings.warn(\n",
      "/opt/conda/lib/python3.10/site-packages/sklearn/linear_model/_sag.py:350: ConvergenceWarning: The max_iter was reached which means the coef_ did not converge\n",
      "  warnings.warn(\n"
     ]
    },
    {
     "name": "stdout",
     "output_type": "stream",
     "text": [
      "Year 2002 - Best C: 10, Best ACC: 0.9999, Time: 830.58 seconds\n"
     ]
    },
    {
     "name": "stderr",
     "output_type": "stream",
     "text": [
      "/opt/conda/lib/python3.10/site-packages/sklearn/linear_model/_sag.py:350: ConvergenceWarning: The max_iter was reached which means the coef_ did not converge\n",
      "  warnings.warn(\n",
      "/opt/conda/lib/python3.10/site-packages/sklearn/linear_model/_sag.py:350: ConvergenceWarning: The max_iter was reached which means the coef_ did not converge\n",
      "  warnings.warn(\n",
      "/opt/conda/lib/python3.10/site-packages/sklearn/linear_model/_sag.py:350: ConvergenceWarning: The max_iter was reached which means the coef_ did not converge\n",
      "  warnings.warn(\n",
      "/opt/conda/lib/python3.10/site-packages/sklearn/linear_model/_sag.py:350: ConvergenceWarning: The max_iter was reached which means the coef_ did not converge\n",
      "  warnings.warn(\n"
     ]
    },
    {
     "name": "stdout",
     "output_type": "stream",
     "text": [
      "Year 2003 - Best C: 100, Best ACC: 0.9999, Time: 800.33 seconds\n"
     ]
    },
    {
     "name": "stderr",
     "output_type": "stream",
     "text": [
      "/opt/conda/lib/python3.10/site-packages/sklearn/linear_model/_sag.py:350: ConvergenceWarning: The max_iter was reached which means the coef_ did not converge\n",
      "  warnings.warn(\n",
      "/opt/conda/lib/python3.10/site-packages/sklearn/linear_model/_sag.py:350: ConvergenceWarning: The max_iter was reached which means the coef_ did not converge\n",
      "  warnings.warn(\n",
      "/opt/conda/lib/python3.10/site-packages/sklearn/linear_model/_sag.py:350: ConvergenceWarning: The max_iter was reached which means the coef_ did not converge\n",
      "  warnings.warn(\n",
      "/opt/conda/lib/python3.10/site-packages/sklearn/linear_model/_sag.py:350: ConvergenceWarning: The max_iter was reached which means the coef_ did not converge\n",
      "  warnings.warn(\n"
     ]
    },
    {
     "name": "stdout",
     "output_type": "stream",
     "text": [
      "Year 2004 - Best C: 100, Best ACC: 1.0, Time: 759.87 seconds\n"
     ]
    },
    {
     "name": "stderr",
     "output_type": "stream",
     "text": [
      "/opt/conda/lib/python3.10/site-packages/sklearn/linear_model/_sag.py:350: ConvergenceWarning: The max_iter was reached which means the coef_ did not converge\n",
      "  warnings.warn(\n",
      "/opt/conda/lib/python3.10/site-packages/sklearn/linear_model/_sag.py:350: ConvergenceWarning: The max_iter was reached which means the coef_ did not converge\n",
      "  warnings.warn(\n",
      "/opt/conda/lib/python3.10/site-packages/sklearn/linear_model/_sag.py:350: ConvergenceWarning: The max_iter was reached which means the coef_ did not converge\n",
      "  warnings.warn(\n",
      "/opt/conda/lib/python3.10/site-packages/sklearn/linear_model/_sag.py:350: ConvergenceWarning: The max_iter was reached which means the coef_ did not converge\n",
      "  warnings.warn(\n"
     ]
    },
    {
     "name": "stdout",
     "output_type": "stream",
     "text": [
      "Year 2005 - Best C: 1, Best ACC: 1.0, Time: 706.57 seconds\n"
     ]
    },
    {
     "name": "stderr",
     "output_type": "stream",
     "text": [
      "/opt/conda/lib/python3.10/site-packages/sklearn/linear_model/_sag.py:350: ConvergenceWarning: The max_iter was reached which means the coef_ did not converge\n",
      "  warnings.warn(\n",
      "/opt/conda/lib/python3.10/site-packages/sklearn/linear_model/_sag.py:350: ConvergenceWarning: The max_iter was reached which means the coef_ did not converge\n",
      "  warnings.warn(\n",
      "/opt/conda/lib/python3.10/site-packages/sklearn/linear_model/_sag.py:350: ConvergenceWarning: The max_iter was reached which means the coef_ did not converge\n",
      "  warnings.warn(\n"
     ]
    },
    {
     "name": "stdout",
     "output_type": "stream",
     "text": [
      "Year 2006 - Best C: 0.01, Best ACC: 1.0, Time: 507.52 seconds\n"
     ]
    },
    {
     "name": "stderr",
     "output_type": "stream",
     "text": [
      "/opt/conda/lib/python3.10/site-packages/sklearn/linear_model/_sag.py:350: ConvergenceWarning: The max_iter was reached which means the coef_ did not converge\n",
      "  warnings.warn(\n",
      "/opt/conda/lib/python3.10/site-packages/sklearn/linear_model/_sag.py:350: ConvergenceWarning: The max_iter was reached which means the coef_ did not converge\n",
      "  warnings.warn(\n",
      "/opt/conda/lib/python3.10/site-packages/sklearn/linear_model/_sag.py:350: ConvergenceWarning: The max_iter was reached which means the coef_ did not converge\n",
      "  warnings.warn(\n"
     ]
    },
    {
     "name": "stdout",
     "output_type": "stream",
     "text": [
      "Year 2007 - Best C: 0.01, Best ACC: 1.0, Time: 487.86 seconds\n"
     ]
    },
    {
     "name": "stderr",
     "output_type": "stream",
     "text": [
      "/opt/conda/lib/python3.10/site-packages/sklearn/linear_model/_sag.py:350: ConvergenceWarning: The max_iter was reached which means the coef_ did not converge\n",
      "  warnings.warn(\n",
      "/opt/conda/lib/python3.10/site-packages/sklearn/linear_model/_sag.py:350: ConvergenceWarning: The max_iter was reached which means the coef_ did not converge\n",
      "  warnings.warn(\n",
      "/opt/conda/lib/python3.10/site-packages/sklearn/linear_model/_sag.py:350: ConvergenceWarning: The max_iter was reached which means the coef_ did not converge\n",
      "  warnings.warn(\n"
     ]
    },
    {
     "name": "stdout",
     "output_type": "stream",
     "text": [
      "Year 2008 - Best C: 0.01, Best ACC: 1.0, Time: 479.96 seconds\n"
     ]
    },
    {
     "name": "stderr",
     "output_type": "stream",
     "text": [
      "/opt/conda/lib/python3.10/site-packages/sklearn/linear_model/_sag.py:350: ConvergenceWarning: The max_iter was reached which means the coef_ did not converge\n",
      "  warnings.warn(\n",
      "/opt/conda/lib/python3.10/site-packages/sklearn/linear_model/_sag.py:350: ConvergenceWarning: The max_iter was reached which means the coef_ did not converge\n",
      "  warnings.warn(\n",
      "/opt/conda/lib/python3.10/site-packages/sklearn/linear_model/_sag.py:350: ConvergenceWarning: The max_iter was reached which means the coef_ did not converge\n",
      "  warnings.warn(\n",
      "/opt/conda/lib/python3.10/site-packages/sklearn/linear_model/_sag.py:350: ConvergenceWarning: The max_iter was reached which means the coef_ did not converge\n",
      "  warnings.warn(\n"
     ]
    },
    {
     "name": "stdout",
     "output_type": "stream",
     "text": [
      "Year 2009 - Best C: 1, Best ACC: 0.9998, Time: 603.15 seconds\n"
     ]
    },
    {
     "name": "stderr",
     "output_type": "stream",
     "text": [
      "/opt/conda/lib/python3.10/site-packages/sklearn/linear_model/_sag.py:350: ConvergenceWarning: The max_iter was reached which means the coef_ did not converge\n",
      "  warnings.warn(\n",
      "/opt/conda/lib/python3.10/site-packages/sklearn/linear_model/_sag.py:350: ConvergenceWarning: The max_iter was reached which means the coef_ did not converge\n",
      "  warnings.warn(\n",
      "/opt/conda/lib/python3.10/site-packages/sklearn/linear_model/_sag.py:350: ConvergenceWarning: The max_iter was reached which means the coef_ did not converge\n",
      "  warnings.warn(\n"
     ]
    },
    {
     "name": "stdout",
     "output_type": "stream",
     "text": [
      "Year 2010 - Best C: 0.01, Best ACC: 0.9998, Time: 450.38 seconds\n"
     ]
    },
    {
     "name": "stderr",
     "output_type": "stream",
     "text": [
      "/opt/conda/lib/python3.10/site-packages/sklearn/linear_model/_sag.py:350: ConvergenceWarning: The max_iter was reached which means the coef_ did not converge\n",
      "  warnings.warn(\n",
      "/opt/conda/lib/python3.10/site-packages/sklearn/linear_model/_sag.py:350: ConvergenceWarning: The max_iter was reached which means the coef_ did not converge\n",
      "  warnings.warn(\n",
      "/opt/conda/lib/python3.10/site-packages/sklearn/linear_model/_sag.py:350: ConvergenceWarning: The max_iter was reached which means the coef_ did not converge\n",
      "  warnings.warn(\n",
      "/opt/conda/lib/python3.10/site-packages/sklearn/linear_model/_sag.py:350: ConvergenceWarning: The max_iter was reached which means the coef_ did not converge\n",
      "  warnings.warn(\n"
     ]
    },
    {
     "name": "stdout",
     "output_type": "stream",
     "text": [
      "Year 2011 - Best C: 100, Best ACC: 0.9999, Time: 557.81 seconds\n"
     ]
    },
    {
     "name": "stderr",
     "output_type": "stream",
     "text": [
      "/opt/conda/lib/python3.10/site-packages/sklearn/linear_model/_sag.py:350: ConvergenceWarning: The max_iter was reached which means the coef_ did not converge\n",
      "  warnings.warn(\n",
      "/opt/conda/lib/python3.10/site-packages/sklearn/linear_model/_sag.py:350: ConvergenceWarning: The max_iter was reached which means the coef_ did not converge\n",
      "  warnings.warn(\n",
      "/opt/conda/lib/python3.10/site-packages/sklearn/linear_model/_sag.py:350: ConvergenceWarning: The max_iter was reached which means the coef_ did not converge\n",
      "  warnings.warn(\n"
     ]
    },
    {
     "name": "stdout",
     "output_type": "stream",
     "text": [
      "Year 2012 - Best C: 0.01, Best ACC: 1.0, Time: 412.65 seconds\n"
     ]
    },
    {
     "name": "stderr",
     "output_type": "stream",
     "text": [
      "/opt/conda/lib/python3.10/site-packages/sklearn/linear_model/_sag.py:350: ConvergenceWarning: The max_iter was reached which means the coef_ did not converge\n",
      "  warnings.warn(\n",
      "/opt/conda/lib/python3.10/site-packages/sklearn/linear_model/_sag.py:350: ConvergenceWarning: The max_iter was reached which means the coef_ did not converge\n",
      "  warnings.warn(\n",
      "/opt/conda/lib/python3.10/site-packages/sklearn/linear_model/_sag.py:350: ConvergenceWarning: The max_iter was reached which means the coef_ did not converge\n",
      "  warnings.warn(\n",
      "/opt/conda/lib/python3.10/site-packages/sklearn/linear_model/_sag.py:350: ConvergenceWarning: The max_iter was reached which means the coef_ did not converge\n",
      "  warnings.warn(\n"
     ]
    },
    {
     "name": "stdout",
     "output_type": "stream",
     "text": [
      "Year 2013 - Best C: 10, Best ACC: 0.9999, Time: 539.68 seconds\n"
     ]
    },
    {
     "name": "stderr",
     "output_type": "stream",
     "text": [
      "/opt/conda/lib/python3.10/site-packages/sklearn/linear_model/_sag.py:350: ConvergenceWarning: The max_iter was reached which means the coef_ did not converge\n",
      "  warnings.warn(\n",
      "/opt/conda/lib/python3.10/site-packages/sklearn/linear_model/_sag.py:350: ConvergenceWarning: The max_iter was reached which means the coef_ did not converge\n",
      "  warnings.warn(\n",
      "/opt/conda/lib/python3.10/site-packages/sklearn/linear_model/_sag.py:350: ConvergenceWarning: The max_iter was reached which means the coef_ did not converge\n",
      "  warnings.warn(\n",
      "/opt/conda/lib/python3.10/site-packages/sklearn/linear_model/_sag.py:350: ConvergenceWarning: The max_iter was reached which means the coef_ did not converge\n",
      "  warnings.warn(\n"
     ]
    },
    {
     "name": "stdout",
     "output_type": "stream",
     "text": [
      "Year 2014 - Best C: 10, Best ACC: 0.9999, Time: 517.42 seconds\n"
     ]
    },
    {
     "name": "stderr",
     "output_type": "stream",
     "text": [
      "/opt/conda/lib/python3.10/site-packages/sklearn/linear_model/_sag.py:350: ConvergenceWarning: The max_iter was reached which means the coef_ did not converge\n",
      "  warnings.warn(\n",
      "/opt/conda/lib/python3.10/site-packages/sklearn/linear_model/_sag.py:350: ConvergenceWarning: The max_iter was reached which means the coef_ did not converge\n",
      "  warnings.warn(\n",
      "/opt/conda/lib/python3.10/site-packages/sklearn/linear_model/_sag.py:350: ConvergenceWarning: The max_iter was reached which means the coef_ did not converge\n",
      "  warnings.warn(\n",
      "/opt/conda/lib/python3.10/site-packages/sklearn/linear_model/_sag.py:350: ConvergenceWarning: The max_iter was reached which means the coef_ did not converge\n",
      "  warnings.warn(\n"
     ]
    },
    {
     "name": "stdout",
     "output_type": "stream",
     "text": [
      "Year 2015 - Best C: 10, Best ACC: 0.9999, Time: 489.59 seconds\n"
     ]
    },
    {
     "name": "stderr",
     "output_type": "stream",
     "text": [
      "/opt/conda/lib/python3.10/site-packages/sklearn/linear_model/_sag.py:350: ConvergenceWarning: The max_iter was reached which means the coef_ did not converge\n",
      "  warnings.warn(\n",
      "/opt/conda/lib/python3.10/site-packages/sklearn/linear_model/_sag.py:350: ConvergenceWarning: The max_iter was reached which means the coef_ did not converge\n",
      "  warnings.warn(\n",
      "/opt/conda/lib/python3.10/site-packages/sklearn/linear_model/_sag.py:350: ConvergenceWarning: The max_iter was reached which means the coef_ did not converge\n",
      "  warnings.warn(\n"
     ]
    },
    {
     "name": "stdout",
     "output_type": "stream",
     "text": [
      "Year 2016 - Best C: 0.01, Best ACC: 1.0, Time: 365.50 seconds\n"
     ]
    },
    {
     "name": "stderr",
     "output_type": "stream",
     "text": [
      "/opt/conda/lib/python3.10/site-packages/sklearn/linear_model/_sag.py:350: ConvergenceWarning: The max_iter was reached which means the coef_ did not converge\n",
      "  warnings.warn(\n",
      "/opt/conda/lib/python3.10/site-packages/sklearn/linear_model/_sag.py:350: ConvergenceWarning: The max_iter was reached which means the coef_ did not converge\n",
      "  warnings.warn(\n",
      "/opt/conda/lib/python3.10/site-packages/sklearn/linear_model/_sag.py:350: ConvergenceWarning: The max_iter was reached which means the coef_ did not converge\n",
      "  warnings.warn(\n"
     ]
    },
    {
     "name": "stdout",
     "output_type": "stream",
     "text": [
      "Year 2017 - Best C: 0.01, Best ACC: 0.9999, Time: 355.59 seconds\n"
     ]
    },
    {
     "name": "stderr",
     "output_type": "stream",
     "text": [
      "/opt/conda/lib/python3.10/site-packages/sklearn/linear_model/_sag.py:350: ConvergenceWarning: The max_iter was reached which means the coef_ did not converge\n",
      "  warnings.warn(\n",
      "/opt/conda/lib/python3.10/site-packages/sklearn/linear_model/_sag.py:350: ConvergenceWarning: The max_iter was reached which means the coef_ did not converge\n",
      "  warnings.warn(\n",
      "/opt/conda/lib/python3.10/site-packages/sklearn/linear_model/_sag.py:350: ConvergenceWarning: The max_iter was reached which means the coef_ did not converge\n",
      "  warnings.warn(\n",
      "/opt/conda/lib/python3.10/site-packages/sklearn/linear_model/_sag.py:350: ConvergenceWarning: The max_iter was reached which means the coef_ did not converge\n",
      "  warnings.warn(\n"
     ]
    },
    {
     "name": "stdout",
     "output_type": "stream",
     "text": [
      "Year 2018 - Best C: 100, Best ACC: 0.9998, Time: 461.32 seconds\n"
     ]
    },
    {
     "name": "stderr",
     "output_type": "stream",
     "text": [
      "/opt/conda/lib/python3.10/site-packages/sklearn/linear_model/_sag.py:350: ConvergenceWarning: The max_iter was reached which means the coef_ did not converge\n",
      "  warnings.warn(\n",
      "/opt/conda/lib/python3.10/site-packages/sklearn/linear_model/_sag.py:350: ConvergenceWarning: The max_iter was reached which means the coef_ did not converge\n",
      "  warnings.warn(\n",
      "/opt/conda/lib/python3.10/site-packages/sklearn/linear_model/_sag.py:350: ConvergenceWarning: The max_iter was reached which means the coef_ did not converge\n",
      "  warnings.warn(\n"
     ]
    },
    {
     "name": "stdout",
     "output_type": "stream",
     "text": [
      "Year 2019 - Best C: 0.01, Best ACC: 0.9999, Time: 356.33 seconds\n"
     ]
    },
    {
     "name": "stderr",
     "output_type": "stream",
     "text": [
      "/opt/conda/lib/python3.10/site-packages/sklearn/linear_model/_sag.py:350: ConvergenceWarning: The max_iter was reached which means the coef_ did not converge\n",
      "  warnings.warn(\n",
      "/opt/conda/lib/python3.10/site-packages/sklearn/linear_model/_sag.py:350: ConvergenceWarning: The max_iter was reached which means the coef_ did not converge\n",
      "  warnings.warn(\n",
      "/opt/conda/lib/python3.10/site-packages/sklearn/linear_model/_sag.py:350: ConvergenceWarning: The max_iter was reached which means the coef_ did not converge\n",
      "  warnings.warn(\n",
      "/opt/conda/lib/python3.10/site-packages/sklearn/linear_model/_sag.py:350: ConvergenceWarning: The max_iter was reached which means the coef_ did not converge\n",
      "  warnings.warn(\n"
     ]
    },
    {
     "name": "stdout",
     "output_type": "stream",
     "text": [
      "Year 2020 - Best C: 100, Best ACC: 1.0, Time: 452.33 seconds\n"
     ]
    },
    {
     "name": "stderr",
     "output_type": "stream",
     "text": [
      "/opt/conda/lib/python3.10/site-packages/sklearn/linear_model/_sag.py:350: ConvergenceWarning: The max_iter was reached which means the coef_ did not converge\n",
      "  warnings.warn(\n",
      "/opt/conda/lib/python3.10/site-packages/sklearn/linear_model/_sag.py:350: ConvergenceWarning: The max_iter was reached which means the coef_ did not converge\n",
      "  warnings.warn(\n",
      "/opt/conda/lib/python3.10/site-packages/sklearn/linear_model/_sag.py:350: ConvergenceWarning: The max_iter was reached which means the coef_ did not converge\n",
      "  warnings.warn(\n"
     ]
    },
    {
     "name": "stdout",
     "output_type": "stream",
     "text": [
      "Year 2021 - Best C: 0.01, Best ACC: 1.0, Time: 342.40 seconds\n"
     ]
    },
    {
     "name": "stderr",
     "output_type": "stream",
     "text": [
      "/opt/conda/lib/python3.10/site-packages/sklearn/linear_model/_sag.py:350: ConvergenceWarning: The max_iter was reached which means the coef_ did not converge\n",
      "  warnings.warn(\n",
      "/opt/conda/lib/python3.10/site-packages/sklearn/linear_model/_sag.py:350: ConvergenceWarning: The max_iter was reached which means the coef_ did not converge\n",
      "  warnings.warn(\n",
      "/opt/conda/lib/python3.10/site-packages/sklearn/linear_model/_sag.py:350: ConvergenceWarning: The max_iter was reached which means the coef_ did not converge\n",
      "  warnings.warn(\n"
     ]
    },
    {
     "name": "stdout",
     "output_type": "stream",
     "text": [
      "Year 2022 - Best C: 0.01, Best ACC: 1.0, Time: 334.69 seconds\n",
      "Total time: 29188.72 seconds\n"
     ]
    }
   ],
   "source": [
    "############################################\n",
    "# LASSO CLASSIFICATION MODEL - MSE\n",
    "############################################\n",
    "\n",
    "model_name = 'lasso_clas_roll5'  # Name of the new column for storing predictions\n",
    "start_time2 = time.time()  # Start timing\n",
    "\n",
    "\n",
    "# Predefined set of C values for hyperparameter tuning\n",
    "HP1 = [0.01, 0.1, 1, 10, 100] # C\n",
    "\n",
    "# Update the column name for storing Decision Tree regression predictions\n",
    "df[model_name] = np.nan\n",
    "\n",
    "# Ensure the new column is in the prediction_cols list\n",
    "if model_name not in prediction_cols:\n",
    "    prediction_cols.append(model_name)\n",
    "\n",
    "# Define the start year for modeling based on having at least 7 years of data\n",
    "start_modeling_year = df['year'].min() + 7\n",
    "\n",
    "for year in range(start_modeling_year, df['year'].max() + 1):\n",
    "    start_time = time.time()  # Start timing\n",
    "    \n",
    "    # Determine the start year of the training window based on the current year\n",
    "    train_start_year = max(year - rolling_window, df['year'].min())  # Ensure it does not go below the earliest year\n",
    "    \n",
    "    # Select the training data based on the calculated start year\n",
    "    train_data = df[(df['year'] >= train_start_year) & (df['year'] < year)]\n",
    "    \n",
    "    # Split training data into actual training and tuning sets\n",
    "    # Use the last year of the training data for tuning\n",
    "    tuning_data = train_data[train_data['year'] == year - 1]\n",
    "    actual_train_data = train_data[train_data['year'] < year - 1]\n",
    "    \n",
    "    X_train = actual_train_data[X_col]\n",
    "    y_train = actual_train_data['y']\n",
    "    \n",
    "    X_tune = tuning_data[X_col]\n",
    "    y_tune = tuning_data['y']\n",
    "       \n",
    "    best_HP1 = None\n",
    "    best_accuracy = -1\n",
    "    \n",
    "    # Hyperparameter tuning\n",
    "    for hp1 in HP1:\n",
    "        model = LogisticRegression(C=hp1, max_iter=1000, penalty='l1', solver='saga')  # Ridge\n",
    "        model.fit(X_train, y_train)\n",
    "        predictions = model.predict_proba(X_tune)[:, 1]  # Get probabilities of the positive class\n",
    "\n",
    "        # Identify top and bottom deciles\n",
    "        decile_thresholds = np.percentile(predictions, [10, 90])\n",
    "        top_bottom_decile_mask = (predictions <= decile_thresholds[0]) | (predictions >= decile_thresholds[1])\n",
    "        \n",
    "        # Filter tuning dataset based on deciles\n",
    "        filtered_y_tune = y_tune[top_bottom_decile_mask]\n",
    "        filtered_predictions = predictions[top_bottom_decile_mask]\n",
    "        \n",
    "        # Assuming binary classification, convert continuous predictions to binary\n",
    "        # This conversion logic might need adjustment based on your specific use case\n",
    "        binary_predictions = (filtered_predictions >= 0.5).astype(int)\n",
    "        \n",
    "        # Calculate accuracy for filtered predictions\n",
    "        decile_accuracy = accuracy_score(filtered_y_tune, binary_predictions)\n",
    "        \n",
    "        if decile_accuracy > best_accuracy:\n",
    "            best_accuracy = decile_accuracy\n",
    "            best_HP1 = hp1\n",
    "    \n",
    "    \n",
    "    # Retrain on the entire training window (excluding tuning year) with the best C value\n",
    "    model = LogisticRegression(C=best_HP1, max_iter=1000, penalty='l1', solver='saga')\n",
    "    model.fit(X_train, y_train)\n",
    "    \n",
    "    # Predict for the next year\n",
    "    next_year_data = df[df['year'] == year]\n",
    "    X_next_year = next_year_data[X_col]\n",
    "    \n",
    "    if not X_next_year.empty:\n",
    "        next_year_probabilities = model.predict_proba(X_next_year)[:, 1]  # Probability of the positive class\n",
    "        df.loc[df['year'] == year, model_name] = next_year_probabilities\n",
    "    \n",
    "    end_time = time.time()  # End timing\n",
    "    iteration_time = end_time - start_time  # Calculate iteration time\n",
    "    \n",
    "    print(f\"Year {year} - Best C: {best_HP1}, Best ACC: {round(best_accuracy,4)}, Time: {iteration_time:.2f} seconds\")\n",
    "\n",
    "\n",
    "end_time2 = time.time()  # End timing\n",
    "print(f\"Total time: {end_time2 - start_time2:.2f} seconds\")"
   ]
  },
  {
   "cell_type": "markdown",
   "id": "b2387a60",
   "metadata": {
    "papermill": {
     "duration": 0.054663,
     "end_time": "2024-02-27T17:29:25.981783",
     "exception": false,
     "start_time": "2024-02-27T17:29:25.927120",
     "status": "completed"
    },
    "tags": []
   },
   "source": [
    "## Forming Portfolios, Value-weighted portfolio returns"
   ]
  },
  {
   "cell_type": "code",
   "execution_count": 9,
   "id": "91ab9d37",
   "metadata": {
    "execution": {
     "iopub.execute_input": "2024-02-27T17:29:26.059886Z",
     "iopub.status.busy": "2024-02-27T17:29:26.059511Z",
     "iopub.status.idle": "2024-02-27T17:29:26.089765Z",
     "shell.execute_reply": "2024-02-27T17:29:26.088979Z"
    },
    "papermill": {
     "duration": 0.072387,
     "end_time": "2024-02-27T17:29:26.091787",
     "exception": false,
     "start_time": "2024-02-27T17:29:26.019400",
     "status": "completed"
    },
    "tags": []
   },
   "outputs": [
    {
     "data": {
      "text/html": [
       "<div>\n",
       "<style scoped>\n",
       "    .dataframe tbody tr th:only-of-type {\n",
       "        vertical-align: middle;\n",
       "    }\n",
       "\n",
       "    .dataframe tbody tr th {\n",
       "        vertical-align: top;\n",
       "    }\n",
       "\n",
       "    .dataframe thead th {\n",
       "        text-align: right;\n",
       "    }\n",
       "</style>\n",
       "<table border=\"1\" class=\"dataframe\">\n",
       "  <thead>\n",
       "    <tr style=\"text-align: right;\">\n",
       "      <th></th>\n",
       "      <th>PERMNO</th>\n",
       "      <th>date</th>\n",
       "      <th>RET</th>\n",
       "      <th>ME</th>\n",
       "      <th>bull_D</th>\n",
       "      <th>bear_D</th>\n",
       "      <th>bull_W</th>\n",
       "      <th>bear_W</th>\n",
       "      <th>bull_M</th>\n",
       "      <th>bear_M</th>\n",
       "      <th>LMKT</th>\n",
       "      <th>IVOL</th>\n",
       "      <th>y</th>\n",
       "      <th>STR</th>\n",
       "      <th>LTURNOVER</th>\n",
       "      <th>IMOM</th>\n",
       "      <th>MOM</th>\n",
       "      <th>LTR</th>\n",
       "      <th>PCTHIGH</th>\n",
       "      <th>IVOL2</th>\n",
       "      <th>IVOL3</th>\n",
       "      <th>MVOL</th>\n",
       "      <th>MVOL2</th>\n",
       "      <th>MVOL3</th>\n",
       "      <th>LMKT2</th>\n",
       "      <th>LMKT3</th>\n",
       "      <th>MMOM</th>\n",
       "      <th>MIMOM</th>\n",
       "      <th>MLTR</th>\n",
       "      <th>LSPREAD</th>\n",
       "      <th>year</th>\n",
       "      <th>lasso_clas_roll5</th>\n",
       "    </tr>\n",
       "  </thead>\n",
       "  <tbody>\n",
       "    <tr>\n",
       "      <th>0</th>\n",
       "      <td>14314</td>\n",
       "      <td>1927-08-31</td>\n",
       "      <td>-0.164557</td>\n",
       "      <td>3902.25</td>\n",
       "      <td>0.0</td>\n",
       "      <td>0.000000</td>\n",
       "      <td>0.000000</td>\n",
       "      <td>0.083333</td>\n",
       "      <td>0.000000</td>\n",
       "      <td>0.0</td>\n",
       "      <td>0.538722</td>\n",
       "      <td>0.000033</td>\n",
       "      <td>0</td>\n",
       "      <td>0.040267</td>\n",
       "      <td>0.000003</td>\n",
       "      <td>0.551246</td>\n",
       "      <td>0.668133</td>\n",
       "      <td>0.709597</td>\n",
       "      <td>0.443203</td>\n",
       "      <td>0.000036</td>\n",
       "      <td>0.000097</td>\n",
       "      <td>0.00106</td>\n",
       "      <td>0.008129</td>\n",
       "      <td>0.001942</td>\n",
       "      <td>0.397061</td>\n",
       "      <td>0.511976</td>\n",
       "      <td>0.645637</td>\n",
       "      <td>0.529397</td>\n",
       "      <td>0.644251</td>\n",
       "      <td>0.002245</td>\n",
       "      <td>1927</td>\n",
       "      <td>NaN</td>\n",
       "    </tr>\n",
       "    <tr>\n",
       "      <th>1</th>\n",
       "      <td>12730</td>\n",
       "      <td>1927-08-31</td>\n",
       "      <td>-0.069853</td>\n",
       "      <td>88107.25</td>\n",
       "      <td>0.0</td>\n",
       "      <td>0.416667</td>\n",
       "      <td>0.000000</td>\n",
       "      <td>0.000000</td>\n",
       "      <td>0.000000</td>\n",
       "      <td>0.0</td>\n",
       "      <td>0.538722</td>\n",
       "      <td>0.000005</td>\n",
       "      <td>0</td>\n",
       "      <td>0.043893</td>\n",
       "      <td>0.000019</td>\n",
       "      <td>0.611572</td>\n",
       "      <td>0.736577</td>\n",
       "      <td>0.697120</td>\n",
       "      <td>0.824047</td>\n",
       "      <td>0.000005</td>\n",
       "      <td>0.000004</td>\n",
       "      <td>0.00106</td>\n",
       "      <td>0.008129</td>\n",
       "      <td>0.001942</td>\n",
       "      <td>0.397061</td>\n",
       "      <td>0.511976</td>\n",
       "      <td>0.645637</td>\n",
       "      <td>0.529397</td>\n",
       "      <td>0.644251</td>\n",
       "      <td>0.001956</td>\n",
       "      <td>1927</td>\n",
       "      <td>NaN</td>\n",
       "    </tr>\n",
       "    <tr>\n",
       "      <th>2</th>\n",
       "      <td>11594</td>\n",
       "      <td>1927-08-31</td>\n",
       "      <td>0.149390</td>\n",
       "      <td>14137.50</td>\n",
       "      <td>0.0</td>\n",
       "      <td>0.083333</td>\n",
       "      <td>0.000000</td>\n",
       "      <td>0.000000</td>\n",
       "      <td>0.250000</td>\n",
       "      <td>0.0</td>\n",
       "      <td>0.538722</td>\n",
       "      <td>0.000077</td>\n",
       "      <td>1</td>\n",
       "      <td>0.045470</td>\n",
       "      <td>0.000002</td>\n",
       "      <td>0.572206</td>\n",
       "      <td>0.709391</td>\n",
       "      <td>0.708355</td>\n",
       "      <td>0.869882</td>\n",
       "      <td>0.000005</td>\n",
       "      <td>0.000018</td>\n",
       "      <td>0.00106</td>\n",
       "      <td>0.008129</td>\n",
       "      <td>0.001942</td>\n",
       "      <td>0.397061</td>\n",
       "      <td>0.511976</td>\n",
       "      <td>0.645637</td>\n",
       "      <td>0.529397</td>\n",
       "      <td>0.644251</td>\n",
       "      <td>0.005677</td>\n",
       "      <td>1927</td>\n",
       "      <td>NaN</td>\n",
       "    </tr>\n",
       "    <tr>\n",
       "      <th>3</th>\n",
       "      <td>75471</td>\n",
       "      <td>1927-08-31</td>\n",
       "      <td>0.216216</td>\n",
       "      <td>1575.00</td>\n",
       "      <td>0.0</td>\n",
       "      <td>0.000000</td>\n",
       "      <td>0.000000</td>\n",
       "      <td>0.000000</td>\n",
       "      <td>0.083333</td>\n",
       "      <td>0.0</td>\n",
       "      <td>0.538722</td>\n",
       "      <td>0.000090</td>\n",
       "      <td>1</td>\n",
       "      <td>0.040866</td>\n",
       "      <td>0.000003</td>\n",
       "      <td>0.570800</td>\n",
       "      <td>0.709576</td>\n",
       "      <td>0.684379</td>\n",
       "      <td>0.860310</td>\n",
       "      <td>0.000038</td>\n",
       "      <td>0.000123</td>\n",
       "      <td>0.00106</td>\n",
       "      <td>0.008129</td>\n",
       "      <td>0.001942</td>\n",
       "      <td>0.397061</td>\n",
       "      <td>0.511976</td>\n",
       "      <td>0.645637</td>\n",
       "      <td>0.529397</td>\n",
       "      <td>0.644251</td>\n",
       "      <td>0.003594</td>\n",
       "      <td>1927</td>\n",
       "      <td>NaN</td>\n",
       "    </tr>\n",
       "    <tr>\n",
       "      <th>4</th>\n",
       "      <td>10786</td>\n",
       "      <td>1927-08-31</td>\n",
       "      <td>0.169811</td>\n",
       "      <td>111600.00</td>\n",
       "      <td>0.0</td>\n",
       "      <td>0.166667</td>\n",
       "      <td>0.583333</td>\n",
       "      <td>0.000000</td>\n",
       "      <td>0.083333</td>\n",
       "      <td>0.0</td>\n",
       "      <td>0.538722</td>\n",
       "      <td>0.000013</td>\n",
       "      <td>1</td>\n",
       "      <td>0.045594</td>\n",
       "      <td>0.000056</td>\n",
       "      <td>0.596852</td>\n",
       "      <td>0.722659</td>\n",
       "      <td>0.703022</td>\n",
       "      <td>1.000000</td>\n",
       "      <td>0.000003</td>\n",
       "      <td>0.000006</td>\n",
       "      <td>0.00106</td>\n",
       "      <td>0.008129</td>\n",
       "      <td>0.001942</td>\n",
       "      <td>0.397061</td>\n",
       "      <td>0.511976</td>\n",
       "      <td>0.645637</td>\n",
       "      <td>0.529397</td>\n",
       "      <td>0.644251</td>\n",
       "      <td>0.003555</td>\n",
       "      <td>1927</td>\n",
       "      <td>NaN</td>\n",
       "    </tr>\n",
       "  </tbody>\n",
       "</table>\n",
       "</div>"
      ],
      "text/plain": [
       "   PERMNO       date       RET         ME  bull_D    bear_D    bull_W  \\\n",
       "0   14314 1927-08-31 -0.164557    3902.25     0.0  0.000000  0.000000   \n",
       "1   12730 1927-08-31 -0.069853   88107.25     0.0  0.416667  0.000000   \n",
       "2   11594 1927-08-31  0.149390   14137.50     0.0  0.083333  0.000000   \n",
       "3   75471 1927-08-31  0.216216    1575.00     0.0  0.000000  0.000000   \n",
       "4   10786 1927-08-31  0.169811  111600.00     0.0  0.166667  0.583333   \n",
       "\n",
       "     bear_W    bull_M  bear_M      LMKT      IVOL  y       STR  LTURNOVER  \\\n",
       "0  0.083333  0.000000     0.0  0.538722  0.000033  0  0.040267   0.000003   \n",
       "1  0.000000  0.000000     0.0  0.538722  0.000005  0  0.043893   0.000019   \n",
       "2  0.000000  0.250000     0.0  0.538722  0.000077  1  0.045470   0.000002   \n",
       "3  0.000000  0.083333     0.0  0.538722  0.000090  1  0.040866   0.000003   \n",
       "4  0.000000  0.083333     0.0  0.538722  0.000013  1  0.045594   0.000056   \n",
       "\n",
       "       IMOM       MOM       LTR   PCTHIGH     IVOL2     IVOL3     MVOL  \\\n",
       "0  0.551246  0.668133  0.709597  0.443203  0.000036  0.000097  0.00106   \n",
       "1  0.611572  0.736577  0.697120  0.824047  0.000005  0.000004  0.00106   \n",
       "2  0.572206  0.709391  0.708355  0.869882  0.000005  0.000018  0.00106   \n",
       "3  0.570800  0.709576  0.684379  0.860310  0.000038  0.000123  0.00106   \n",
       "4  0.596852  0.722659  0.703022  1.000000  0.000003  0.000006  0.00106   \n",
       "\n",
       "      MVOL2     MVOL3     LMKT2     LMKT3      MMOM     MIMOM      MLTR  \\\n",
       "0  0.008129  0.001942  0.397061  0.511976  0.645637  0.529397  0.644251   \n",
       "1  0.008129  0.001942  0.397061  0.511976  0.645637  0.529397  0.644251   \n",
       "2  0.008129  0.001942  0.397061  0.511976  0.645637  0.529397  0.644251   \n",
       "3  0.008129  0.001942  0.397061  0.511976  0.645637  0.529397  0.644251   \n",
       "4  0.008129  0.001942  0.397061  0.511976  0.645637  0.529397  0.644251   \n",
       "\n",
       "    LSPREAD  year  lasso_clas_roll5  \n",
       "0  0.002245  1927               NaN  \n",
       "1  0.001956  1927               NaN  \n",
       "2  0.005677  1927               NaN  \n",
       "3  0.003594  1927               NaN  \n",
       "4  0.003555  1927               NaN  "
      ]
     },
     "execution_count": 9,
     "metadata": {},
     "output_type": "execute_result"
    }
   ],
   "source": [
    "df.head()"
   ]
  },
  {
   "cell_type": "code",
   "execution_count": 10,
   "id": "6522db92",
   "metadata": {
    "execution": {
     "iopub.execute_input": "2024-02-27T17:29:26.170399Z",
     "iopub.status.busy": "2024-02-27T17:29:26.169690Z",
     "iopub.status.idle": "2024-02-27T17:29:26.175271Z",
     "shell.execute_reply": "2024-02-27T17:29:26.174397Z"
    },
    "papermill": {
     "duration": 0.046359,
     "end_time": "2024-02-27T17:29:26.177136",
     "exception": false,
     "start_time": "2024-02-27T17:29:26.130777",
     "status": "completed"
    },
    "tags": []
   },
   "outputs": [
    {
     "data": {
      "text/plain": [
       "['lasso_clas_roll5']"
      ]
     },
     "execution_count": 10,
     "metadata": {},
     "output_type": "execute_result"
    }
   ],
   "source": [
    "prediction_cols\n",
    "# prediction_cols = ['logit_default','OLS_default','logit_roll6','DT_reg_roll']"
   ]
  },
  {
   "cell_type": "code",
   "execution_count": 11,
   "id": "c995fa49",
   "metadata": {
    "execution": {
     "iopub.execute_input": "2024-02-27T17:29:26.253420Z",
     "iopub.status.busy": "2024-02-27T17:29:26.252885Z",
     "iopub.status.idle": "2024-02-27T17:29:26.495188Z",
     "shell.execute_reply": "2024-02-27T17:29:26.494301Z"
    },
    "papermill": {
     "duration": 0.282825,
     "end_time": "2024-02-27T17:29:26.497286",
     "exception": false,
     "start_time": "2024-02-27T17:29:26.214461",
     "status": "completed"
    },
    "tags": []
   },
   "outputs": [
    {
     "data": {
      "text/html": [
       "<div>\n",
       "<style scoped>\n",
       "    .dataframe tbody tr th:only-of-type {\n",
       "        vertical-align: middle;\n",
       "    }\n",
       "\n",
       "    .dataframe tbody tr th {\n",
       "        vertical-align: top;\n",
       "    }\n",
       "\n",
       "    .dataframe thead th {\n",
       "        text-align: right;\n",
       "    }\n",
       "</style>\n",
       "<table border=\"1\" class=\"dataframe\">\n",
       "  <thead>\n",
       "    <tr style=\"text-align: right;\">\n",
       "      <th></th>\n",
       "      <th>date</th>\n",
       "      <th>RET</th>\n",
       "      <th>ME</th>\n",
       "      <th>y</th>\n",
       "      <th>lasso_clas_roll5</th>\n",
       "    </tr>\n",
       "  </thead>\n",
       "  <tbody>\n",
       "    <tr>\n",
       "      <th>47317</th>\n",
       "      <td>1934-01-31</td>\n",
       "      <td>0.537313</td>\n",
       "      <td>10403.000</td>\n",
       "      <td>1</td>\n",
       "      <td>0.999816</td>\n",
       "    </tr>\n",
       "    <tr>\n",
       "      <th>47318</th>\n",
       "      <td>1934-01-31</td>\n",
       "      <td>0.333333</td>\n",
       "      <td>2080.000</td>\n",
       "      <td>1</td>\n",
       "      <td>0.984807</td>\n",
       "    </tr>\n",
       "    <tr>\n",
       "      <th>47319</th>\n",
       "      <td>1934-01-31</td>\n",
       "      <td>0.158273</td>\n",
       "      <td>3100.500</td>\n",
       "      <td>1</td>\n",
       "      <td>0.430197</td>\n",
       "    </tr>\n",
       "    <tr>\n",
       "      <th>47320</th>\n",
       "      <td>1934-01-31</td>\n",
       "      <td>0.212500</td>\n",
       "      <td>478986.000</td>\n",
       "      <td>1</td>\n",
       "      <td>0.999770</td>\n",
       "    </tr>\n",
       "    <tr>\n",
       "      <th>47321</th>\n",
       "      <td>1934-01-31</td>\n",
       "      <td>-0.026030</td>\n",
       "      <td>244761.125</td>\n",
       "      <td>0</td>\n",
       "      <td>0.337584</td>\n",
       "    </tr>\n",
       "  </tbody>\n",
       "</table>\n",
       "</div>"
      ],
      "text/plain": [
       "            date       RET          ME  y  lasso_clas_roll5\n",
       "47317 1934-01-31  0.537313   10403.000  1          0.999816\n",
       "47318 1934-01-31  0.333333    2080.000  1          0.984807\n",
       "47319 1934-01-31  0.158273    3100.500  1          0.430197\n",
       "47320 1934-01-31  0.212500  478986.000  1          0.999770\n",
       "47321 1934-01-31 -0.026030  244761.125  0          0.337584"
      ]
     },
     "execution_count": 11,
     "metadata": {},
     "output_type": "execute_result"
    }
   ],
   "source": [
    "portfolio = df[['date', 'RET', 'ME', 'y'] + prediction_cols].copy()\n",
    "portfolio['date'] = pd.to_datetime(portfolio['date'])\n",
    "\n",
    "# drop rows with missing values\n",
    "portfolio.dropna(inplace=True)\n",
    "\n",
    "portfolio.head()"
   ]
  },
  {
   "cell_type": "code",
   "execution_count": 12,
   "id": "bb2398a3",
   "metadata": {
    "execution": {
     "iopub.execute_input": "2024-02-27T17:29:26.574766Z",
     "iopub.status.busy": "2024-02-27T17:29:26.574447Z",
     "iopub.status.idle": "2024-02-27T17:29:26.585434Z",
     "shell.execute_reply": "2024-02-27T17:29:26.584570Z"
    },
    "papermill": {
     "duration": 0.05178,
     "end_time": "2024-02-27T17:29:26.587395",
     "exception": false,
     "start_time": "2024-02-27T17:29:26.535615",
     "status": "completed"
    },
    "tags": []
   },
   "outputs": [
    {
     "data": {
      "text/html": [
       "<div>\n",
       "<style scoped>\n",
       "    .dataframe tbody tr th:only-of-type {\n",
       "        vertical-align: middle;\n",
       "    }\n",
       "\n",
       "    .dataframe tbody tr th {\n",
       "        vertical-align: top;\n",
       "    }\n",
       "\n",
       "    .dataframe thead th {\n",
       "        text-align: right;\n",
       "    }\n",
       "</style>\n",
       "<table border=\"1\" class=\"dataframe\">\n",
       "  <thead>\n",
       "    <tr style=\"text-align: right;\">\n",
       "      <th></th>\n",
       "      <th>date</th>\n",
       "      <th>RET</th>\n",
       "      <th>ME</th>\n",
       "      <th>y</th>\n",
       "      <th>lasso_clas_roll5</th>\n",
       "    </tr>\n",
       "  </thead>\n",
       "  <tbody>\n",
       "    <tr>\n",
       "      <th>3076047</th>\n",
       "      <td>2022-07-31</td>\n",
       "      <td>-0.203046</td>\n",
       "      <td>4.174787e+04</td>\n",
       "      <td>0</td>\n",
       "      <td>1.833880e-11</td>\n",
       "    </tr>\n",
       "    <tr>\n",
       "      <th>3076048</th>\n",
       "      <td>2022-07-31</td>\n",
       "      <td>0.135593</td>\n",
       "      <td>1.110135e+06</td>\n",
       "      <td>1</td>\n",
       "      <td>9.393610e-01</td>\n",
       "    </tr>\n",
       "    <tr>\n",
       "      <th>3076049</th>\n",
       "      <td>2022-07-31</td>\n",
       "      <td>0.074970</td>\n",
       "      <td>3.728386e+06</td>\n",
       "      <td>1</td>\n",
       "      <td>9.994539e-01</td>\n",
       "    </tr>\n",
       "    <tr>\n",
       "      <th>3076050</th>\n",
       "      <td>2022-07-31</td>\n",
       "      <td>-0.029348</td>\n",
       "      <td>1.304941e+05</td>\n",
       "      <td>0</td>\n",
       "      <td>1.188008e-03</td>\n",
       "    </tr>\n",
       "    <tr>\n",
       "      <th>3076051</th>\n",
       "      <td>2022-07-31</td>\n",
       "      <td>0.323765</td>\n",
       "      <td>9.311106e+08</td>\n",
       "      <td>1</td>\n",
       "      <td>9.319379e-01</td>\n",
       "    </tr>\n",
       "  </tbody>\n",
       "</table>\n",
       "</div>"
      ],
      "text/plain": [
       "              date       RET            ME  y  lasso_clas_roll5\n",
       "3076047 2022-07-31 -0.203046  4.174787e+04  0      1.833880e-11\n",
       "3076048 2022-07-31  0.135593  1.110135e+06  1      9.393610e-01\n",
       "3076049 2022-07-31  0.074970  3.728386e+06  1      9.994539e-01\n",
       "3076050 2022-07-31 -0.029348  1.304941e+05  0      1.188008e-03\n",
       "3076051 2022-07-31  0.323765  9.311106e+08  1      9.319379e-01"
      ]
     },
     "execution_count": 12,
     "metadata": {},
     "output_type": "execute_result"
    }
   ],
   "source": [
    "portfolio.tail()"
   ]
  },
  {
   "cell_type": "code",
   "execution_count": 13,
   "id": "e1395360",
   "metadata": {
    "execution": {
     "iopub.execute_input": "2024-02-27T17:29:26.664397Z",
     "iopub.status.busy": "2024-02-27T17:29:26.664122Z",
     "iopub.status.idle": "2024-02-27T17:29:29.323151Z",
     "shell.execute_reply": "2024-02-27T17:29:29.322263Z"
    },
    "papermill": {
     "duration": 2.700104,
     "end_time": "2024-02-27T17:29:29.325402",
     "exception": false,
     "start_time": "2024-02-27T17:29:26.625298",
     "status": "completed"
    },
    "tags": []
   },
   "outputs": [
    {
     "name": "stderr",
     "output_type": "stream",
     "text": [
      "/tmp/ipykernel_26/2999037948.py:15: DeprecationWarning: DataFrameGroupBy.apply operated on the grouping columns. This behavior is deprecated, and in a future version of pandas the grouping columns will be excluded from the operation. Either pass `include_groups=False` to exclude the groupings or explicitly select the grouping columns after groupby to silence this warning.\n",
      "  vwreturns_temp = portfolio.groupby('date').apply(lambda x: np.sum(x['RET'] * x['ME'] * x[position_col]) / np.sum(x['ME'])).reset_index(name=vwret_col)\n"
     ]
    }
   ],
   "source": [
    "# Initialize an empty DataFrame to store value-weighted returns for each model\n",
    "vwreturns = pd.DataFrame(portfolio['date'].unique(), columns=['date'])  # Ensures all dates are included\n",
    "\n",
    "for pred_col in prediction_cols:\n",
    "    # Calculate deciles for this prediction\n",
    "    decile_col = f'decile_{pred_col}'\n",
    "    portfolio[decile_col] = portfolio.groupby(['date'])[pred_col].transform(lambda x: pd.qcut(x, 10, labels=False, duplicates='drop'))\n",
    "    \n",
    "    # Determine position based on deciles\n",
    "    position_col = f'position_{pred_col}'\n",
    "    portfolio[position_col] = np.where(portfolio[decile_col] == 9, 1, np.where(portfolio[decile_col] == 0, -1, 0))\n",
    "    \n",
    "    # Calculate the value-weighted return for this prediction\n",
    "    vwret_col = f'vwreturn_{pred_col}'\n",
    "    vwreturns_temp = portfolio.groupby('date').apply(lambda x: np.sum(x['RET'] * x['ME'] * x[position_col]) / np.sum(x['ME'])).reset_index(name=vwret_col)\n",
    "    \n",
    "    # Merge the temporary value-weighted returns with the main vwreturns DataFrame\n",
    "    vwreturns = vwreturns.merge(vwreturns_temp, on='date', how='left')\n",
    "\n",
    "# Ensure the 'date' column is the first column and is sorted\n",
    "vwreturns = vwreturns.sort_values('date').reset_index(drop=True)\n"
   ]
  },
  {
   "cell_type": "code",
   "execution_count": 14,
   "id": "9c97e831",
   "metadata": {
    "execution": {
     "iopub.execute_input": "2024-02-27T17:29:29.402496Z",
     "iopub.status.busy": "2024-02-27T17:29:29.402208Z",
     "iopub.status.idle": "2024-02-27T17:29:29.410397Z",
     "shell.execute_reply": "2024-02-27T17:29:29.409650Z"
    },
    "papermill": {
     "duration": 0.048689,
     "end_time": "2024-02-27T17:29:29.412218",
     "exception": false,
     "start_time": "2024-02-27T17:29:29.363529",
     "status": "completed"
    },
    "tags": []
   },
   "outputs": [
    {
     "data": {
      "text/html": [
       "<div>\n",
       "<style scoped>\n",
       "    .dataframe tbody tr th:only-of-type {\n",
       "        vertical-align: middle;\n",
       "    }\n",
       "\n",
       "    .dataframe tbody tr th {\n",
       "        vertical-align: top;\n",
       "    }\n",
       "\n",
       "    .dataframe thead th {\n",
       "        text-align: right;\n",
       "    }\n",
       "</style>\n",
       "<table border=\"1\" class=\"dataframe\">\n",
       "  <thead>\n",
       "    <tr style=\"text-align: right;\">\n",
       "      <th></th>\n",
       "      <th>date</th>\n",
       "      <th>vwreturn_lasso_clas_roll5</th>\n",
       "    </tr>\n",
       "  </thead>\n",
       "  <tbody>\n",
       "    <tr>\n",
       "      <th>0</th>\n",
       "      <td>1934-01-31</td>\n",
       "      <td>0.005515</td>\n",
       "    </tr>\n",
       "    <tr>\n",
       "      <th>1</th>\n",
       "      <td>1934-02-28</td>\n",
       "      <td>0.008184</td>\n",
       "    </tr>\n",
       "    <tr>\n",
       "      <th>2</th>\n",
       "      <td>1934-03-31</td>\n",
       "      <td>0.007784</td>\n",
       "    </tr>\n",
       "    <tr>\n",
       "      <th>3</th>\n",
       "      <td>1934-04-30</td>\n",
       "      <td>0.019593</td>\n",
       "    </tr>\n",
       "    <tr>\n",
       "      <th>4</th>\n",
       "      <td>1934-05-31</td>\n",
       "      <td>0.024800</td>\n",
       "    </tr>\n",
       "  </tbody>\n",
       "</table>\n",
       "</div>"
      ],
      "text/plain": [
       "        date  vwreturn_lasso_clas_roll5\n",
       "0 1934-01-31                   0.005515\n",
       "1 1934-02-28                   0.008184\n",
       "2 1934-03-31                   0.007784\n",
       "3 1934-04-30                   0.019593\n",
       "4 1934-05-31                   0.024800"
      ]
     },
     "execution_count": 14,
     "metadata": {},
     "output_type": "execute_result"
    }
   ],
   "source": [
    "vwreturns.head()"
   ]
  },
  {
   "cell_type": "markdown",
   "id": "9bcf4ed1",
   "metadata": {
    "papermill": {
     "duration": 0.037579,
     "end_time": "2024-02-27T17:29:29.487497",
     "exception": false,
     "start_time": "2024-02-27T17:29:29.449918",
     "status": "completed"
    },
    "tags": []
   },
   "source": [
    "### Compare to market data"
   ]
  },
  {
   "cell_type": "code",
   "execution_count": 15,
   "id": "5107cd91",
   "metadata": {
    "execution": {
     "iopub.execute_input": "2024-02-27T17:29:29.565172Z",
     "iopub.status.busy": "2024-02-27T17:29:29.564821Z",
     "iopub.status.idle": "2024-02-27T17:29:29.600004Z",
     "shell.execute_reply": "2024-02-27T17:29:29.599153Z"
    },
    "papermill": {
     "duration": 0.076783,
     "end_time": "2024-02-27T17:29:29.602093",
     "exception": false,
     "start_time": "2024-02-27T17:29:29.525310",
     "status": "completed"
    },
    "tags": []
   },
   "outputs": [],
   "source": [
    "#market = pd.read_csv('FF3_clean.csv')\n",
    "market = pd.read_csv('/kaggle/input/sign-prediction-datasets/FF3_clean.csv')"
   ]
  },
  {
   "cell_type": "code",
   "execution_count": 16,
   "id": "9c246df9",
   "metadata": {
    "execution": {
     "iopub.execute_input": "2024-02-27T17:29:29.680999Z",
     "iopub.status.busy": "2024-02-27T17:29:29.680430Z",
     "iopub.status.idle": "2024-02-27T17:29:29.692422Z",
     "shell.execute_reply": "2024-02-27T17:29:29.691593Z"
    },
    "papermill": {
     "duration": 0.052737,
     "end_time": "2024-02-27T17:29:29.694290",
     "exception": false,
     "start_time": "2024-02-27T17:29:29.641553",
     "status": "completed"
    },
    "tags": []
   },
   "outputs": [
    {
     "data": {
      "text/html": [
       "<div>\n",
       "<style scoped>\n",
       "    .dataframe tbody tr th:only-of-type {\n",
       "        vertical-align: middle;\n",
       "    }\n",
       "\n",
       "    .dataframe tbody tr th {\n",
       "        vertical-align: top;\n",
       "    }\n",
       "\n",
       "    .dataframe thead th {\n",
       "        text-align: right;\n",
       "    }\n",
       "</style>\n",
       "<table border=\"1\" class=\"dataframe\">\n",
       "  <thead>\n",
       "    <tr style=\"text-align: right;\">\n",
       "      <th></th>\n",
       "      <th>date</th>\n",
       "      <th>Mkt-RF</th>\n",
       "      <th>SMB</th>\n",
       "      <th>HML</th>\n",
       "      <th>RF</th>\n",
       "    </tr>\n",
       "  </thead>\n",
       "  <tbody>\n",
       "    <tr>\n",
       "      <th>0</th>\n",
       "      <td>1926-07-31</td>\n",
       "      <td>2.96</td>\n",
       "      <td>-2.56</td>\n",
       "      <td>-2.43</td>\n",
       "      <td>0.22</td>\n",
       "    </tr>\n",
       "    <tr>\n",
       "      <th>1</th>\n",
       "      <td>1926-08-31</td>\n",
       "      <td>2.64</td>\n",
       "      <td>-1.17</td>\n",
       "      <td>3.82</td>\n",
       "      <td>0.25</td>\n",
       "    </tr>\n",
       "    <tr>\n",
       "      <th>2</th>\n",
       "      <td>1926-09-30</td>\n",
       "      <td>0.36</td>\n",
       "      <td>-1.40</td>\n",
       "      <td>0.13</td>\n",
       "      <td>0.23</td>\n",
       "    </tr>\n",
       "    <tr>\n",
       "      <th>3</th>\n",
       "      <td>1926-10-31</td>\n",
       "      <td>-3.24</td>\n",
       "      <td>-0.09</td>\n",
       "      <td>0.70</td>\n",
       "      <td>0.32</td>\n",
       "    </tr>\n",
       "    <tr>\n",
       "      <th>4</th>\n",
       "      <td>1926-11-30</td>\n",
       "      <td>2.53</td>\n",
       "      <td>-0.10</td>\n",
       "      <td>-0.51</td>\n",
       "      <td>0.31</td>\n",
       "    </tr>\n",
       "  </tbody>\n",
       "</table>\n",
       "</div>"
      ],
      "text/plain": [
       "         date  Mkt-RF   SMB   HML    RF\n",
       "0  1926-07-31    2.96 -2.56 -2.43  0.22\n",
       "1  1926-08-31    2.64 -1.17  3.82  0.25\n",
       "2  1926-09-30    0.36 -1.40  0.13  0.23\n",
       "3  1926-10-31   -3.24 -0.09  0.70  0.32\n",
       "4  1926-11-30    2.53 -0.10 -0.51  0.31"
      ]
     },
     "execution_count": 16,
     "metadata": {},
     "output_type": "execute_result"
    }
   ],
   "source": [
    "market.head()"
   ]
  },
  {
   "cell_type": "code",
   "execution_count": 17,
   "id": "320827d3",
   "metadata": {
    "execution": {
     "iopub.execute_input": "2024-02-27T17:29:29.774130Z",
     "iopub.status.busy": "2024-02-27T17:29:29.773833Z",
     "iopub.status.idle": "2024-02-27T17:29:29.791135Z",
     "shell.execute_reply": "2024-02-27T17:29:29.790363Z"
    },
    "papermill": {
     "duration": 0.058485,
     "end_time": "2024-02-27T17:29:29.793008",
     "exception": false,
     "start_time": "2024-02-27T17:29:29.734523",
     "status": "completed"
    },
    "tags": []
   },
   "outputs": [],
   "source": [
    "# create a new 'Mkt' which is a sum of Mkt-RF and RF\n",
    "market['Mkt'] = market['Mkt-RF'] + market['RF']\n",
    "\n",
    "# divide all columns by 100 except 'date'\n",
    "market.iloc[:, 1:] = market.iloc[:, 1:] / 100\n",
    "\n",
    "#set the 'date' column to datetime format\n",
    "market['date'] = pd.to_datetime(market['date'])\n",
    "\n",
    "# merge the market data (only date and Mkt columns) with the vwreturns DataFrame\n",
    "vwreturns = vwreturns.merge(market[['date', 'Mkt']], on='date', how='left')\n",
    "\n",
    "# transform all columns (except 'date') to a log: log(x+1) and save the result as lvwreturns\n",
    "lvwreturns = vwreturns.copy()\n",
    "lvwreturns.iloc[:, 1:] = np.log(vwreturns.iloc[:, 1:] + 1)"
   ]
  },
  {
   "cell_type": "code",
   "execution_count": 18,
   "id": "84b281d1",
   "metadata": {
    "execution": {
     "iopub.execute_input": "2024-02-27T17:29:29.872570Z",
     "iopub.status.busy": "2024-02-27T17:29:29.872292Z",
     "iopub.status.idle": "2024-02-27T17:29:29.881638Z",
     "shell.execute_reply": "2024-02-27T17:29:29.880816Z"
    },
    "papermill": {
     "duration": 0.051067,
     "end_time": "2024-02-27T17:29:29.883454",
     "exception": false,
     "start_time": "2024-02-27T17:29:29.832387",
     "status": "completed"
    },
    "tags": []
   },
   "outputs": [
    {
     "data": {
      "text/html": [
       "<div>\n",
       "<style scoped>\n",
       "    .dataframe tbody tr th:only-of-type {\n",
       "        vertical-align: middle;\n",
       "    }\n",
       "\n",
       "    .dataframe tbody tr th {\n",
       "        vertical-align: top;\n",
       "    }\n",
       "\n",
       "    .dataframe thead th {\n",
       "        text-align: right;\n",
       "    }\n",
       "</style>\n",
       "<table border=\"1\" class=\"dataframe\">\n",
       "  <thead>\n",
       "    <tr style=\"text-align: right;\">\n",
       "      <th></th>\n",
       "      <th>date</th>\n",
       "      <th>vwreturn_lasso_clas_roll5</th>\n",
       "      <th>Mkt</th>\n",
       "    </tr>\n",
       "  </thead>\n",
       "  <tbody>\n",
       "    <tr>\n",
       "      <th>0</th>\n",
       "      <td>1934-01-31</td>\n",
       "      <td>0.005515</td>\n",
       "      <td>0.1265</td>\n",
       "    </tr>\n",
       "    <tr>\n",
       "      <th>1</th>\n",
       "      <td>1934-02-28</td>\n",
       "      <td>0.008184</td>\n",
       "      <td>-0.0248</td>\n",
       "    </tr>\n",
       "    <tr>\n",
       "      <th>2</th>\n",
       "      <td>1934-03-31</td>\n",
       "      <td>0.007784</td>\n",
       "      <td>0.0011</td>\n",
       "    </tr>\n",
       "    <tr>\n",
       "      <th>3</th>\n",
       "      <td>1934-04-30</td>\n",
       "      <td>0.019593</td>\n",
       "      <td>-0.0178</td>\n",
       "    </tr>\n",
       "    <tr>\n",
       "      <th>4</th>\n",
       "      <td>1934-05-31</td>\n",
       "      <td>0.024800</td>\n",
       "      <td>-0.0724</td>\n",
       "    </tr>\n",
       "  </tbody>\n",
       "</table>\n",
       "</div>"
      ],
      "text/plain": [
       "        date  vwreturn_lasso_clas_roll5     Mkt\n",
       "0 1934-01-31                   0.005515  0.1265\n",
       "1 1934-02-28                   0.008184 -0.0248\n",
       "2 1934-03-31                   0.007784  0.0011\n",
       "3 1934-04-30                   0.019593 -0.0178\n",
       "4 1934-05-31                   0.024800 -0.0724"
      ]
     },
     "execution_count": 18,
     "metadata": {},
     "output_type": "execute_result"
    }
   ],
   "source": [
    "vwreturns.head()"
   ]
  },
  {
   "cell_type": "code",
   "execution_count": 19,
   "id": "2512fcaa",
   "metadata": {
    "execution": {
     "iopub.execute_input": "2024-02-27T17:29:29.962133Z",
     "iopub.status.busy": "2024-02-27T17:29:29.961565Z",
     "iopub.status.idle": "2024-02-27T17:29:29.971115Z",
     "shell.execute_reply": "2024-02-27T17:29:29.970186Z"
    },
    "papermill": {
     "duration": 0.051168,
     "end_time": "2024-02-27T17:29:29.973020",
     "exception": false,
     "start_time": "2024-02-27T17:29:29.921852",
     "status": "completed"
    },
    "tags": []
   },
   "outputs": [
    {
     "data": {
      "text/html": [
       "<div>\n",
       "<style scoped>\n",
       "    .dataframe tbody tr th:only-of-type {\n",
       "        vertical-align: middle;\n",
       "    }\n",
       "\n",
       "    .dataframe tbody tr th {\n",
       "        vertical-align: top;\n",
       "    }\n",
       "\n",
       "    .dataframe thead th {\n",
       "        text-align: right;\n",
       "    }\n",
       "</style>\n",
       "<table border=\"1\" class=\"dataframe\">\n",
       "  <thead>\n",
       "    <tr style=\"text-align: right;\">\n",
       "      <th></th>\n",
       "      <th>date</th>\n",
       "      <th>vwreturn_lasso_clas_roll5</th>\n",
       "      <th>Mkt</th>\n",
       "    </tr>\n",
       "  </thead>\n",
       "  <tbody>\n",
       "    <tr>\n",
       "      <th>0</th>\n",
       "      <td>1934-01-31</td>\n",
       "      <td>0.005500</td>\n",
       "      <td>0.119115</td>\n",
       "    </tr>\n",
       "    <tr>\n",
       "      <th>1</th>\n",
       "      <td>1934-02-28</td>\n",
       "      <td>0.008151</td>\n",
       "      <td>-0.025113</td>\n",
       "    </tr>\n",
       "    <tr>\n",
       "      <th>2</th>\n",
       "      <td>1934-03-31</td>\n",
       "      <td>0.007754</td>\n",
       "      <td>0.001099</td>\n",
       "    </tr>\n",
       "    <tr>\n",
       "      <th>3</th>\n",
       "      <td>1934-04-30</td>\n",
       "      <td>0.019403</td>\n",
       "      <td>-0.017960</td>\n",
       "    </tr>\n",
       "    <tr>\n",
       "      <th>4</th>\n",
       "      <td>1934-05-31</td>\n",
       "      <td>0.024497</td>\n",
       "      <td>-0.075155</td>\n",
       "    </tr>\n",
       "  </tbody>\n",
       "</table>\n",
       "</div>"
      ],
      "text/plain": [
       "        date  vwreturn_lasso_clas_roll5       Mkt\n",
       "0 1934-01-31                   0.005500  0.119115\n",
       "1 1934-02-28                   0.008151 -0.025113\n",
       "2 1934-03-31                   0.007754  0.001099\n",
       "3 1934-04-30                   0.019403 -0.017960\n",
       "4 1934-05-31                   0.024497 -0.075155"
      ]
     },
     "execution_count": 19,
     "metadata": {},
     "output_type": "execute_result"
    }
   ],
   "source": [
    "lvwreturns.head()"
   ]
  },
  {
   "cell_type": "code",
   "execution_count": 20,
   "id": "3e427c24",
   "metadata": {
    "execution": {
     "iopub.execute_input": "2024-02-27T17:29:30.051982Z",
     "iopub.status.busy": "2024-02-27T17:29:30.051267Z",
     "iopub.status.idle": "2024-02-27T17:29:30.069716Z",
     "shell.execute_reply": "2024-02-27T17:29:30.068670Z"
    },
    "papermill": {
     "duration": 0.059875,
     "end_time": "2024-02-27T17:29:30.071643",
     "exception": false,
     "start_time": "2024-02-27T17:29:30.011768",
     "status": "completed"
    },
    "tags": []
   },
   "outputs": [
    {
     "data": {
      "text/html": [
       "<div>\n",
       "<style scoped>\n",
       "    .dataframe tbody tr th:only-of-type {\n",
       "        vertical-align: middle;\n",
       "    }\n",
       "\n",
       "    .dataframe tbody tr th {\n",
       "        vertical-align: top;\n",
       "    }\n",
       "\n",
       "    .dataframe thead th {\n",
       "        text-align: right;\n",
       "    }\n",
       "</style>\n",
       "<table border=\"1\" class=\"dataframe\">\n",
       "  <thead>\n",
       "    <tr style=\"text-align: right;\">\n",
       "      <th></th>\n",
       "      <th>date</th>\n",
       "      <th>vwreturn_lasso_clas_roll5</th>\n",
       "      <th>Mkt</th>\n",
       "    </tr>\n",
       "  </thead>\n",
       "  <tbody>\n",
       "    <tr>\n",
       "      <th>count</th>\n",
       "      <td>1060</td>\n",
       "      <td>1060.000000</td>\n",
       "      <td>1060.000000</td>\n",
       "    </tr>\n",
       "    <tr>\n",
       "      <th>mean</th>\n",
       "      <td>1978-05-20 05:19:14.716981120</td>\n",
       "      <td>0.008441</td>\n",
       "      <td>0.008714</td>\n",
       "    </tr>\n",
       "    <tr>\n",
       "      <th>min</th>\n",
       "      <td>1934-01-31 00:00:00</td>\n",
       "      <td>-0.027060</td>\n",
       "      <td>-0.272203</td>\n",
       "    </tr>\n",
       "    <tr>\n",
       "      <th>25%</th>\n",
       "      <td>1956-02-21 18:00:00</td>\n",
       "      <td>0.003459</td>\n",
       "      <td>-0.016943</td>\n",
       "    </tr>\n",
       "    <tr>\n",
       "      <th>50%</th>\n",
       "      <td>1978-06-15 00:00:00</td>\n",
       "      <td>0.007672</td>\n",
       "      <td>0.013064</td>\n",
       "    </tr>\n",
       "    <tr>\n",
       "      <th>75%</th>\n",
       "      <td>2000-07-07 18:00:00</td>\n",
       "      <td>0.011915</td>\n",
       "      <td>0.038162</td>\n",
       "    </tr>\n",
       "    <tr>\n",
       "      <th>max</th>\n",
       "      <td>2022-07-31 00:00:00</td>\n",
       "      <td>0.048020</td>\n",
       "      <td>0.214062</td>\n",
       "    </tr>\n",
       "    <tr>\n",
       "      <th>std</th>\n",
       "      <td>NaN</td>\n",
       "      <td>0.006211</td>\n",
       "      <td>0.046117</td>\n",
       "    </tr>\n",
       "  </tbody>\n",
       "</table>\n",
       "</div>"
      ],
      "text/plain": [
       "                                date  vwreturn_lasso_clas_roll5          Mkt\n",
       "count                           1060                1060.000000  1060.000000\n",
       "mean   1978-05-20 05:19:14.716981120                   0.008441     0.008714\n",
       "min              1934-01-31 00:00:00                  -0.027060    -0.272203\n",
       "25%              1956-02-21 18:00:00                   0.003459    -0.016943\n",
       "50%              1978-06-15 00:00:00                   0.007672     0.013064\n",
       "75%              2000-07-07 18:00:00                   0.011915     0.038162\n",
       "max              2022-07-31 00:00:00                   0.048020     0.214062\n",
       "std                              NaN                   0.006211     0.046117"
      ]
     },
     "execution_count": 20,
     "metadata": {},
     "output_type": "execute_result"
    }
   ],
   "source": [
    "lvwreturns.describe()"
   ]
  },
  {
   "cell_type": "code",
   "execution_count": 21,
   "id": "324b1928",
   "metadata": {
    "execution": {
     "iopub.execute_input": "2024-02-27T17:29:30.150475Z",
     "iopub.status.busy": "2024-02-27T17:29:30.149895Z",
     "iopub.status.idle": "2024-02-27T17:29:31.034880Z",
     "shell.execute_reply": "2024-02-27T17:29:31.033857Z"
    },
    "papermill": {
     "duration": 0.927061,
     "end_time": "2024-02-27T17:29:31.037311",
     "exception": false,
     "start_time": "2024-02-27T17:29:30.110250",
     "status": "completed"
    },
    "tags": []
   },
   "outputs": [],
   "source": [
    "# save the lvwreturns and portfolio DataFrame to a parquet file into 'outputs' folder\n",
    "\n",
    "# for reproducibility and visualization purposes\n",
    "lvwreturns.to_parquet('market_lvwreturns_class2.parquet')\n",
    "portfolio.to_parquet('market_portfolio_class2.parquet')\n",
    "\n",
    "# save vwreturns DataFrame to a .dta file into 'outputs' folder\n",
    "#vwreturns.to_stata('outputs/vwreturns.dta') # for backtasting in R - we need normal returns, not log returns\n"
   ]
  }
 ],
 "metadata": {
  "kaggle": {
   "accelerator": "gpu",
   "dataSources": [
    {
     "datasetId": 4464890,
     "sourceId": 7657795,
     "sourceType": "datasetVersion"
    }
   ],
   "isGpuEnabled": true,
   "isInternetEnabled": true,
   "language": "python",
   "sourceType": "notebook"
  },
  "kernelspec": {
   "display_name": "base",
   "language": "python",
   "name": "python3"
  },
  "language_info": {
   "codemirror_mode": {
    "name": "ipython",
    "version": 3
   },
   "file_extension": ".py",
   "mimetype": "text/x-python",
   "name": "python",
   "nbconvert_exporter": "python",
   "pygments_lexer": "ipython3",
   "version": "3.10.13"
  },
  "papermill": {
   "default_parameters": {},
   "duration": 29205.31418,
   "end_time": "2024-02-27T17:29:31.557837",
   "environment_variables": {},
   "exception": null,
   "input_path": "__notebook__.ipynb",
   "output_path": "__notebook__.ipynb",
   "parameters": {},
   "start_time": "2024-02-27T09:22:46.243657",
   "version": "2.5.0"
  }
 },
 "nbformat": 4,
 "nbformat_minor": 5
}
