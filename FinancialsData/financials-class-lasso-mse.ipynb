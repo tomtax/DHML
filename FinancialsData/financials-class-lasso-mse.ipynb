{
 "cells": [
  {
   "cell_type": "markdown",
   "id": "ac336c81",
   "metadata": {
    "papermill": {
     "duration": 0.006121,
     "end_time": "2024-02-29T14:15:29.991980",
     "exception": false,
     "start_time": "2024-02-29T14:15:29.985859",
     "status": "completed"
    },
    "tags": []
   },
   "source": [
    "# Framework for predictions and portfolio forming"
   ]
  },
  {
   "cell_type": "code",
   "execution_count": 1,
   "id": "3a41a811",
   "metadata": {
    "execution": {
     "iopub.execute_input": "2024-02-29T14:15:30.005057Z",
     "iopub.status.busy": "2024-02-29T14:15:30.004236Z",
     "iopub.status.idle": "2024-02-29T14:15:32.261055Z",
     "shell.execute_reply": "2024-02-29T14:15:32.260341Z"
    },
    "papermill": {
     "duration": 2.265637,
     "end_time": "2024-02-29T14:15:32.263224",
     "exception": false,
     "start_time": "2024-02-29T14:15:29.997587",
     "status": "completed"
    },
    "tags": []
   },
   "outputs": [],
   "source": [
    "import numpy as np\n",
    "import pandas as pd\n",
    "pd.set_option('display.max_columns', None)\n",
    "import matplotlib.pyplot as plt\n",
    "import seaborn as sns\n",
    "import datetime as dt\n",
    "import time\n",
    "\n",
    "# import the parquet library\n",
    "import pyarrow.parquet as pq\n",
    "\n",
    "# import model libraries\n",
    "from sklearn.preprocessing import StandardScaler, MinMaxScaler\n",
    "from sklearn.linear_model import LogisticRegression, LinearRegression\n",
    "from sklearn.tree import DecisionTreeClassifier, DecisionTreeRegressor\n",
    "from sklearn.ensemble import RandomForestClassifier, RandomForestRegressor\n",
    "from sklearn.metrics import mean_squared_error, accuracy_score"
   ]
  },
  {
   "cell_type": "code",
   "execution_count": 2,
   "id": "665d74a5",
   "metadata": {
    "execution": {
     "iopub.execute_input": "2024-02-29T14:15:32.275733Z",
     "iopub.status.busy": "2024-02-29T14:15:32.275339Z",
     "iopub.status.idle": "2024-02-29T14:15:35.962025Z",
     "shell.execute_reply": "2024-02-29T14:15:35.961431Z"
    },
    "papermill": {
     "duration": 3.69454,
     "end_time": "2024-02-29T14:15:35.963463",
     "exception": false,
     "start_time": "2024-02-29T14:15:32.268923",
     "status": "completed"
    },
    "tags": []
   },
   "outputs": [
    {
     "data": {
      "text/html": [
       "<div>\n",
       "<style scoped>\n",
       "    .dataframe tbody tr th:only-of-type {\n",
       "        vertical-align: middle;\n",
       "    }\n",
       "\n",
       "    .dataframe tbody tr th {\n",
       "        vertical-align: top;\n",
       "    }\n",
       "\n",
       "    .dataframe thead th {\n",
       "        text-align: right;\n",
       "    }\n",
       "</style>\n",
       "<table border=\"1\" class=\"dataframe\">\n",
       "  <thead>\n",
       "    <tr style=\"text-align: right;\">\n",
       "      <th></th>\n",
       "      <th>PERMNO</th>\n",
       "      <th>date</th>\n",
       "      <th>y</th>\n",
       "      <th>RET</th>\n",
       "      <th>LME</th>\n",
       "      <th>ME</th>\n",
       "      <th>bull_D</th>\n",
       "      <th>bear_D</th>\n",
       "      <th>bull_W</th>\n",
       "      <th>bear_W</th>\n",
       "      <th>bull_M</th>\n",
       "      <th>bear_M</th>\n",
       "      <th>SPREAD_L</th>\n",
       "      <th>LTURNOVER</th>\n",
       "      <th>IVOL</th>\n",
       "      <th>IVOL2</th>\n",
       "      <th>IVOL3</th>\n",
       "      <th>STR</th>\n",
       "      <th>LTR</th>\n",
       "      <th>IMOM</th>\n",
       "      <th>MOM</th>\n",
       "      <th>PCTHIGH</th>\n",
       "      <th>MVOL</th>\n",
       "      <th>MVOL2</th>\n",
       "      <th>MVOL3</th>\n",
       "      <th>LMKT</th>\n",
       "      <th>LMKT2</th>\n",
       "      <th>LMKT3</th>\n",
       "      <th>MMOM</th>\n",
       "      <th>MIMOM</th>\n",
       "      <th>MLTR</th>\n",
       "      <th>release_L</th>\n",
       "      <th>LAT</th>\n",
       "      <th>DPI2A_L</th>\n",
       "      <th>CTO_L</th>\n",
       "      <th>D2A_L</th>\n",
       "      <th>NOA_L</th>\n",
       "      <th>OL_L</th>\n",
       "      <th>PCM_L</th>\n",
       "      <th>FC2Y_L</th>\n",
       "      <th>INVEST_L</th>\n",
       "      <th>RNA_L</th>\n",
       "      <th>S2E_L</th>\n",
       "      <th>PROF_L</th>\n",
       "      <th>PM_L</th>\n",
       "      <th>ATO_L</th>\n",
       "      <th>ROA_L</th>\n",
       "      <th>FCF_L</th>\n",
       "      <th>A2ME_L</th>\n",
       "      <th>B2ME_L</th>\n",
       "      <th>S2P_L</th>\n",
       "      <th>ROE_L</th>\n",
       "      <th>LEV_L</th>\n",
       "      <th>TQ_L</th>\n",
       "    </tr>\n",
       "  </thead>\n",
       "  <tbody>\n",
       "    <tr>\n",
       "      <th>0</th>\n",
       "      <td>10000</td>\n",
       "      <td>1987-03-31</td>\n",
       "      <td>0</td>\n",
       "      <td>-0.384615</td>\n",
       "      <td>1581.53125</td>\n",
       "      <td>973.25000</td>\n",
       "      <td>0.0</td>\n",
       "      <td>0.0</td>\n",
       "      <td>0.0</td>\n",
       "      <td>1.0</td>\n",
       "      <td>0</td>\n",
       "      <td>0</td>\n",
       "      <td>0.076923</td>\n",
       "      <td>0.100694</td>\n",
       "      <td>0.000612</td>\n",
       "      <td>0.000830</td>\n",
       "      <td>0.002413</td>\n",
       "      <td>0.000000</td>\n",
       "      <td>-0.297252</td>\n",
       "      <td>-1.089044</td>\n",
       "      <td>-2.079441</td>\n",
       "      <td>0.091549</td>\n",
       "      <td>0.545027</td>\n",
       "      <td>0.771919</td>\n",
       "      <td>0.434190</td>\n",
       "      <td>0.0482</td>\n",
       "      <td>0.1289</td>\n",
       "      <td>-0.0278</td>\n",
       "      <td>0.186212</td>\n",
       "      <td>0.112764</td>\n",
       "      <td>0.459110</td>\n",
       "      <td>0.0</td>\n",
       "      <td>2.115</td>\n",
       "      <td>0.000000</td>\n",
       "      <td>0.055319</td>\n",
       "      <td>0.037352</td>\n",
       "      <td>0.000000</td>\n",
       "      <td>0.236407</td>\n",
       "      <td>-1.495726</td>\n",
       "      <td>1.777778</td>\n",
       "      <td>0.000000</td>\n",
       "      <td>0.016564</td>\n",
       "      <td>0.279904</td>\n",
       "      <td>0.064593</td>\n",
       "      <td>0.230769</td>\n",
       "      <td>0.071779</td>\n",
       "      <td>-0.061939</td>\n",
       "      <td>-0.024586</td>\n",
       "      <td>0.001067</td>\n",
       "      <td>0.000211</td>\n",
       "      <td>0.000059</td>\n",
       "      <td>-0.000083</td>\n",
       "      <td>0.000037</td>\n",
       "      <td>748.571277</td>\n",
       "    </tr>\n",
       "    <tr>\n",
       "      <th>1</th>\n",
       "      <td>10000</td>\n",
       "      <td>1987-04-30</td>\n",
       "      <td>0</td>\n",
       "      <td>-0.062500</td>\n",
       "      <td>973.25000</td>\n",
       "      <td>912.44134</td>\n",
       "      <td>0.0</td>\n",
       "      <td>0.0</td>\n",
       "      <td>0.0</td>\n",
       "      <td>0.0</td>\n",
       "      <td>0</td>\n",
       "      <td>1</td>\n",
       "      <td>0.625000</td>\n",
       "      <td>0.285384</td>\n",
       "      <td>0.003465</td>\n",
       "      <td>0.000612</td>\n",
       "      <td>0.000830</td>\n",
       "      <td>-0.384615</td>\n",
       "      <td>0.014185</td>\n",
       "      <td>-1.459321</td>\n",
       "      <td>-2.390877</td>\n",
       "      <td>0.062500</td>\n",
       "      <td>0.672597</td>\n",
       "      <td>0.545027</td>\n",
       "      <td>0.771919</td>\n",
       "      <td>0.0211</td>\n",
       "      <td>0.0482</td>\n",
       "      <td>0.1289</td>\n",
       "      <td>0.179935</td>\n",
       "      <td>-0.025601</td>\n",
       "      <td>0.498953</td>\n",
       "      <td>0.0</td>\n",
       "      <td>2.115</td>\n",
       "      <td>0.000000</td>\n",
       "      <td>0.055319</td>\n",
       "      <td>0.037352</td>\n",
       "      <td>0.000000</td>\n",
       "      <td>0.236407</td>\n",
       "      <td>-1.495726</td>\n",
       "      <td>1.777778</td>\n",
       "      <td>0.000000</td>\n",
       "      <td>0.016564</td>\n",
       "      <td>0.279904</td>\n",
       "      <td>0.064593</td>\n",
       "      <td>0.230769</td>\n",
       "      <td>0.071779</td>\n",
       "      <td>-0.061939</td>\n",
       "      <td>-0.024586</td>\n",
       "      <td>0.001067</td>\n",
       "      <td>0.000211</td>\n",
       "      <td>0.000059</td>\n",
       "      <td>-0.000135</td>\n",
       "      <td>0.000060</td>\n",
       "      <td>460.967849</td>\n",
       "    </tr>\n",
       "    <tr>\n",
       "      <th>2</th>\n",
       "      <td>10000</td>\n",
       "      <td>1987-05-31</td>\n",
       "      <td>0</td>\n",
       "      <td>-0.066667</td>\n",
       "      <td>912.44134</td>\n",
       "      <td>851.59375</td>\n",
       "      <td>0.0</td>\n",
       "      <td>0.0</td>\n",
       "      <td>0.0</td>\n",
       "      <td>0.0</td>\n",
       "      <td>0</td>\n",
       "      <td>2</td>\n",
       "      <td>0.133330</td>\n",
       "      <td>0.256358</td>\n",
       "      <td>0.001893</td>\n",
       "      <td>0.003465</td>\n",
       "      <td>0.000612</td>\n",
       "      <td>-0.062500</td>\n",
       "      <td>-0.089613</td>\n",
       "      <td>-1.633155</td>\n",
       "      <td>-2.772587</td>\n",
       "      <td>0.075378</td>\n",
       "      <td>1.565461</td>\n",
       "      <td>0.672597</td>\n",
       "      <td>0.545027</td>\n",
       "      <td>-0.0167</td>\n",
       "      <td>0.0211</td>\n",
       "      <td>0.0482</td>\n",
       "      <td>0.208747</td>\n",
       "      <td>0.032263</td>\n",
       "      <td>0.488026</td>\n",
       "      <td>1.0</td>\n",
       "      <td>2.115</td>\n",
       "      <td>-0.037825</td>\n",
       "      <td>0.074232</td>\n",
       "      <td>0.028309</td>\n",
       "      <td>-0.382033</td>\n",
       "      <td>0.293803</td>\n",
       "      <td>-1.101911</td>\n",
       "      <td>0.343949</td>\n",
       "      <td>-38.203310</td>\n",
       "      <td>-0.368640</td>\n",
       "      <td>-1.121429</td>\n",
       "      <td>2.535714</td>\n",
       "      <td>-2.261146</td>\n",
       "      <td>0.163032</td>\n",
       "      <td>-0.108274</td>\n",
       "      <td>-0.146901</td>\n",
       "      <td>0.000660</td>\n",
       "      <td>-0.000071</td>\n",
       "      <td>0.000079</td>\n",
       "      <td>-0.000251</td>\n",
       "      <td>0.000018</td>\n",
       "      <td>699.225968</td>\n",
       "    </tr>\n",
       "    <tr>\n",
       "      <th>3</th>\n",
       "      <td>10000</td>\n",
       "      <td>1987-06-30</td>\n",
       "      <td>0</td>\n",
       "      <td>0.000000</td>\n",
       "      <td>851.59375</td>\n",
       "      <td>851.59375</td>\n",
       "      <td>0.0</td>\n",
       "      <td>0.0</td>\n",
       "      <td>0.0</td>\n",
       "      <td>0.0</td>\n",
       "      <td>0</td>\n",
       "      <td>0</td>\n",
       "      <td>0.071451</td>\n",
       "      <td>0.209350</td>\n",
       "      <td>0.000190</td>\n",
       "      <td>0.001893</td>\n",
       "      <td>0.003465</td>\n",
       "      <td>-0.066667</td>\n",
       "      <td>-0.341485</td>\n",
       "      <td>-1.323014</td>\n",
       "      <td>-2.585254</td>\n",
       "      <td>0.070707</td>\n",
       "      <td>0.955605</td>\n",
       "      <td>1.565461</td>\n",
       "      <td>0.672597</td>\n",
       "      <td>0.0049</td>\n",
       "      <td>-0.0167</td>\n",
       "      <td>0.0211</td>\n",
       "      <td>0.142069</td>\n",
       "      <td>-0.002095</td>\n",
       "      <td>0.591159</td>\n",
       "      <td>0.0</td>\n",
       "      <td>2.115</td>\n",
       "      <td>-0.037825</td>\n",
       "      <td>0.074232</td>\n",
       "      <td>0.028309</td>\n",
       "      <td>-0.382033</td>\n",
       "      <td>0.293803</td>\n",
       "      <td>-1.101911</td>\n",
       "      <td>0.343949</td>\n",
       "      <td>-38.203310</td>\n",
       "      <td>-0.368640</td>\n",
       "      <td>-1.121429</td>\n",
       "      <td>2.535714</td>\n",
       "      <td>-2.261146</td>\n",
       "      <td>0.163032</td>\n",
       "      <td>-0.108274</td>\n",
       "      <td>-0.146901</td>\n",
       "      <td>0.000660</td>\n",
       "      <td>-0.000071</td>\n",
       "      <td>0.000079</td>\n",
       "      <td>-0.000269</td>\n",
       "      <td>0.000019</td>\n",
       "      <td>652.670811</td>\n",
       "    </tr>\n",
       "    <tr>\n",
       "      <th>4</th>\n",
       "      <td>10005</td>\n",
       "      <td>1987-03-31</td>\n",
       "      <td>0</td>\n",
       "      <td>0.000000</td>\n",
       "      <td>795.11688</td>\n",
       "      <td>795.11688</td>\n",
       "      <td>0.0</td>\n",
       "      <td>0.0</td>\n",
       "      <td>0.0</td>\n",
       "      <td>0.0</td>\n",
       "      <td>0</td>\n",
       "      <td>0</td>\n",
       "      <td>0.090936</td>\n",
       "      <td>0.016213</td>\n",
       "      <td>0.000532</td>\n",
       "      <td>0.021169</td>\n",
       "      <td>0.000013</td>\n",
       "      <td>0.100000</td>\n",
       "      <td>-0.405465</td>\n",
       "      <td>-1.163152</td>\n",
       "      <td>-0.470004</td>\n",
       "      <td>0.578954</td>\n",
       "      <td>0.545027</td>\n",
       "      <td>0.771919</td>\n",
       "      <td>0.434190</td>\n",
       "      <td>0.0482</td>\n",
       "      <td>0.1289</td>\n",
       "      <td>-0.0278</td>\n",
       "      <td>0.186212</td>\n",
       "      <td>0.112764</td>\n",
       "      <td>0.459110</td>\n",
       "      <td>0.0</td>\n",
       "      <td>1.954</td>\n",
       "      <td>-0.001485</td>\n",
       "      <td>0.023762</td>\n",
       "      <td>0.015865</td>\n",
       "      <td>-0.032673</td>\n",
       "      <td>0.044012</td>\n",
       "      <td>0.645833</td>\n",
       "      <td>1.437500</td>\n",
       "      <td>-3.267327</td>\n",
       "      <td>-0.423313</td>\n",
       "      <td>0.025263</td>\n",
       "      <td>-0.036316</td>\n",
       "      <td>-1.437500</td>\n",
       "      <td>0.294479</td>\n",
       "      <td>-0.033168</td>\n",
       "      <td>-0.018424</td>\n",
       "      <td>0.004506</td>\n",
       "      <td>0.004381</td>\n",
       "      <td>0.000111</td>\n",
       "      <td>-0.000084</td>\n",
       "      <td>0.000047</td>\n",
       "      <td>406.945179</td>\n",
       "    </tr>\n",
       "  </tbody>\n",
       "</table>\n",
       "</div>"
      ],
      "text/plain": [
       "   PERMNO       date  y       RET         LME         ME  bull_D  bear_D  \\\n",
       "0   10000 1987-03-31  0 -0.384615  1581.53125  973.25000     0.0     0.0   \n",
       "1   10000 1987-04-30  0 -0.062500   973.25000  912.44134     0.0     0.0   \n",
       "2   10000 1987-05-31  0 -0.066667   912.44134  851.59375     0.0     0.0   \n",
       "3   10000 1987-06-30  0  0.000000   851.59375  851.59375     0.0     0.0   \n",
       "4   10005 1987-03-31  0  0.000000   795.11688  795.11688     0.0     0.0   \n",
       "\n",
       "   bull_W  bear_W  bull_M  bear_M  SPREAD_L  LTURNOVER      IVOL     IVOL2  \\\n",
       "0     0.0     1.0       0       0  0.076923   0.100694  0.000612  0.000830   \n",
       "1     0.0     0.0       0       1  0.625000   0.285384  0.003465  0.000612   \n",
       "2     0.0     0.0       0       2  0.133330   0.256358  0.001893  0.003465   \n",
       "3     0.0     0.0       0       0  0.071451   0.209350  0.000190  0.001893   \n",
       "4     0.0     0.0       0       0  0.090936   0.016213  0.000532  0.021169   \n",
       "\n",
       "      IVOL3       STR       LTR      IMOM       MOM   PCTHIGH      MVOL  \\\n",
       "0  0.002413  0.000000 -0.297252 -1.089044 -2.079441  0.091549  0.545027   \n",
       "1  0.000830 -0.384615  0.014185 -1.459321 -2.390877  0.062500  0.672597   \n",
       "2  0.000612 -0.062500 -0.089613 -1.633155 -2.772587  0.075378  1.565461   \n",
       "3  0.003465 -0.066667 -0.341485 -1.323014 -2.585254  0.070707  0.955605   \n",
       "4  0.000013  0.100000 -0.405465 -1.163152 -0.470004  0.578954  0.545027   \n",
       "\n",
       "      MVOL2     MVOL3    LMKT   LMKT2   LMKT3      MMOM     MIMOM      MLTR  \\\n",
       "0  0.771919  0.434190  0.0482  0.1289 -0.0278  0.186212  0.112764  0.459110   \n",
       "1  0.545027  0.771919  0.0211  0.0482  0.1289  0.179935 -0.025601  0.498953   \n",
       "2  0.672597  0.545027 -0.0167  0.0211  0.0482  0.208747  0.032263  0.488026   \n",
       "3  1.565461  0.672597  0.0049 -0.0167  0.0211  0.142069 -0.002095  0.591159   \n",
       "4  0.771919  0.434190  0.0482  0.1289 -0.0278  0.186212  0.112764  0.459110   \n",
       "\n",
       "   release_L    LAT   DPI2A_L     CTO_L     D2A_L     NOA_L      OL_L  \\\n",
       "0        0.0  2.115  0.000000  0.055319  0.037352  0.000000  0.236407   \n",
       "1        0.0  2.115  0.000000  0.055319  0.037352  0.000000  0.236407   \n",
       "2        1.0  2.115 -0.037825  0.074232  0.028309 -0.382033  0.293803   \n",
       "3        0.0  2.115 -0.037825  0.074232  0.028309 -0.382033  0.293803   \n",
       "4        0.0  1.954 -0.001485  0.023762  0.015865 -0.032673  0.044012   \n",
       "\n",
       "      PCM_L    FC2Y_L   INVEST_L     RNA_L     S2E_L    PROF_L      PM_L  \\\n",
       "0 -1.495726  1.777778   0.000000  0.016564  0.279904  0.064593  0.230769   \n",
       "1 -1.495726  1.777778   0.000000  0.016564  0.279904  0.064593  0.230769   \n",
       "2 -1.101911  0.343949 -38.203310 -0.368640 -1.121429  2.535714 -2.261146   \n",
       "3 -1.101911  0.343949 -38.203310 -0.368640 -1.121429  2.535714 -2.261146   \n",
       "4  0.645833  1.437500  -3.267327 -0.423313  0.025263 -0.036316 -1.437500   \n",
       "\n",
       "      ATO_L     ROA_L     FCF_L    A2ME_L    B2ME_L     S2P_L     ROE_L  \\\n",
       "0  0.071779 -0.061939 -0.024586  0.001067  0.000211  0.000059 -0.000083   \n",
       "1  0.071779 -0.061939 -0.024586  0.001067  0.000211  0.000059 -0.000135   \n",
       "2  0.163032 -0.108274 -0.146901  0.000660 -0.000071  0.000079 -0.000251   \n",
       "3  0.163032 -0.108274 -0.146901  0.000660 -0.000071  0.000079 -0.000269   \n",
       "4  0.294479 -0.033168 -0.018424  0.004506  0.004381  0.000111 -0.000084   \n",
       "\n",
       "      LEV_L        TQ_L  \n",
       "0  0.000037  748.571277  \n",
       "1  0.000060  460.967849  \n",
       "2  0.000018  699.225968  \n",
       "3  0.000019  652.670811  \n",
       "4  0.000047  406.945179  "
      ]
     },
     "execution_count": 2,
     "metadata": {},
     "output_type": "execute_result"
    }
   ],
   "source": [
    "# load 'basemodel.parquet'\n",
    "#df = pd.read_parquet('basemodel.parquet')\n",
    "df= pd.read_parquet('/kaggle/input/sign-prediction-datasets/clean_financials.parquet')\n",
    "#df= pd.read_parquet('clean_financials.parquet')\n",
    "prediction_cols = []\n",
    "df.head()"
   ]
  },
  {
   "cell_type": "code",
   "execution_count": 3,
   "id": "c1b1865e",
   "metadata": {
    "execution": {
     "iopub.execute_input": "2024-02-29T14:15:35.976745Z",
     "iopub.status.busy": "2024-02-29T14:15:35.976032Z",
     "iopub.status.idle": "2024-02-29T14:15:35.980830Z",
     "shell.execute_reply": "2024-02-29T14:15:35.980118Z"
    },
    "papermill": {
     "duration": 0.012952,
     "end_time": "2024-02-29T14:15:35.982405",
     "exception": false,
     "start_time": "2024-02-29T14:15:35.969453",
     "status": "completed"
    },
    "tags": []
   },
   "outputs": [],
   "source": [
    "# select the columns to be used for prediction\n",
    "X_col = ['bull_D', 'bear_D', 'bull_W', 'bear_W', 'bull_M', 'bear_M', 'LMKT', 'IVOL', # initial columns\n",
    "         'STR',\t'LTURNOVER', 'IMOM', 'MOM',\t'LTR', 'PCTHIGH', 'IVOL2', 'IVOL3', 'SPREAD_L',\t# stock specific columns\n",
    "         'MVOL', 'MVOL2', 'MVOL3', 'LMKT2',\t'LMKT3', 'MMOM', 'MIMOM', 'MLTR', # market specific columns\n",
    "         'LAT',\t'DPI2A_L',\t'CTO_L', 'D2A_L', 'NOA_L', 'OL_L',\t'PCM_L', 'FC2Y_L',\t\n",
    "         'INVEST_L', 'RNA_L', 'S2E_L', 'PROF_L', 'PM_L', 'ATO_L', 'ROA_L', \t\n",
    "         'FCF_L', 'A2ME_L',\t'B2ME_L', 'S2P_L', 'ROE_L',\t'LEV_L', 'TQ_L'] "
   ]
  },
  {
   "cell_type": "code",
   "execution_count": 4,
   "id": "26d10376",
   "metadata": {
    "execution": {
     "iopub.execute_input": "2024-02-29T14:15:35.994996Z",
     "iopub.status.busy": "2024-02-29T14:15:35.994747Z",
     "iopub.status.idle": "2024-02-29T14:15:36.719123Z",
     "shell.execute_reply": "2024-02-29T14:15:36.718441Z"
    },
    "papermill": {
     "duration": 0.733039,
     "end_time": "2024-02-29T14:15:36.721193",
     "exception": false,
     "start_time": "2024-02-29T14:15:35.988154",
     "status": "completed"
    },
    "tags": []
   },
   "outputs": [],
   "source": [
    "# scale the data for faster coeficient convergence\n",
    "scaler = MinMaxScaler()\n",
    "\n",
    "df[X_col] = scaler.fit_transform(df[X_col])"
   ]
  },
  {
   "cell_type": "code",
   "execution_count": 5,
   "id": "50c6280f",
   "metadata": {
    "execution": {
     "iopub.execute_input": "2024-02-29T14:15:36.735802Z",
     "iopub.status.busy": "2024-02-29T14:15:36.735250Z",
     "iopub.status.idle": "2024-02-29T14:15:37.758879Z",
     "shell.execute_reply": "2024-02-29T14:15:37.758019Z"
    },
    "papermill": {
     "duration": 1.032887,
     "end_time": "2024-02-29T14:15:37.760833",
     "exception": false,
     "start_time": "2024-02-29T14:15:36.727946",
     "status": "completed"
    },
    "tags": []
   },
   "outputs": [],
   "source": [
    "# Convert 'date' to datetime format (if not already done) and sort the DataFrame\n",
    "df['date'] = pd.to_datetime(df['date'])\n",
    "df.sort_values(by='date', inplace=True)\n",
    "df.reset_index(drop=True, inplace=True)\n",
    "\n",
    "# Create a 'year' column based on the 'date' column\n",
    "df['year'] = df['date'].dt.year"
   ]
  },
  {
   "cell_type": "markdown",
   "id": "40455c4b",
   "metadata": {
    "papermill": {
     "duration": 0.005731,
     "end_time": "2024-02-29T14:15:37.773319",
     "exception": false,
     "start_time": "2024-02-29T14:15:37.767588",
     "status": "completed"
    },
    "tags": []
   },
   "source": [
    "# Paper Replication - OLS and Logit, Expanding Window - No Hyperparameters\n",
    "- They start with out of sample forecasting in 1932\n",
    "- models will be named model_default"
   ]
  },
  {
   "cell_type": "markdown",
   "id": "e8b11c35",
   "metadata": {
    "papermill": {
     "duration": 0.006416,
     "end_time": "2024-02-29T14:15:37.785617",
     "exception": false,
     "start_time": "2024-02-29T14:15:37.779201",
     "status": "completed"
    },
    "tags": []
   },
   "source": [
    "### Linear Regression (Pooled OLS)"
   ]
  },
  {
   "cell_type": "code",
   "execution_count": 6,
   "id": "d5a9d2e1",
   "metadata": {
    "execution": {
     "iopub.execute_input": "2024-02-29T14:15:37.799183Z",
     "iopub.status.busy": "2024-02-29T14:15:37.798376Z",
     "iopub.status.idle": "2024-02-29T14:15:37.838562Z",
     "shell.execute_reply": "2024-02-29T14:15:37.837748Z"
    },
    "papermill": {
     "duration": 0.048819,
     "end_time": "2024-02-29T14:15:37.840311",
     "exception": false,
     "start_time": "2024-02-29T14:15:37.791492",
     "status": "completed"
    },
    "tags": []
   },
   "outputs": [
    {
     "data": {
      "text/html": [
       "<div>\n",
       "<style scoped>\n",
       "    .dataframe tbody tr th:only-of-type {\n",
       "        vertical-align: middle;\n",
       "    }\n",
       "\n",
       "    .dataframe tbody tr th {\n",
       "        vertical-align: top;\n",
       "    }\n",
       "\n",
       "    .dataframe thead th {\n",
       "        text-align: right;\n",
       "    }\n",
       "</style>\n",
       "<table border=\"1\" class=\"dataframe\">\n",
       "  <thead>\n",
       "    <tr style=\"text-align: right;\">\n",
       "      <th></th>\n",
       "      <th>PERMNO</th>\n",
       "      <th>date</th>\n",
       "      <th>y</th>\n",
       "      <th>RET</th>\n",
       "      <th>LME</th>\n",
       "      <th>ME</th>\n",
       "      <th>bull_D</th>\n",
       "      <th>bear_D</th>\n",
       "      <th>bull_W</th>\n",
       "      <th>bear_W</th>\n",
       "      <th>bull_M</th>\n",
       "      <th>bear_M</th>\n",
       "      <th>SPREAD_L</th>\n",
       "      <th>LTURNOVER</th>\n",
       "      <th>IVOL</th>\n",
       "      <th>IVOL2</th>\n",
       "      <th>IVOL3</th>\n",
       "      <th>STR</th>\n",
       "      <th>LTR</th>\n",
       "      <th>IMOM</th>\n",
       "      <th>MOM</th>\n",
       "      <th>PCTHIGH</th>\n",
       "      <th>MVOL</th>\n",
       "      <th>MVOL2</th>\n",
       "      <th>MVOL3</th>\n",
       "      <th>LMKT</th>\n",
       "      <th>LMKT2</th>\n",
       "      <th>LMKT3</th>\n",
       "      <th>MMOM</th>\n",
       "      <th>MIMOM</th>\n",
       "      <th>MLTR</th>\n",
       "      <th>release_L</th>\n",
       "      <th>LAT</th>\n",
       "      <th>DPI2A_L</th>\n",
       "      <th>CTO_L</th>\n",
       "      <th>D2A_L</th>\n",
       "      <th>NOA_L</th>\n",
       "      <th>OL_L</th>\n",
       "      <th>PCM_L</th>\n",
       "      <th>FC2Y_L</th>\n",
       "      <th>INVEST_L</th>\n",
       "      <th>RNA_L</th>\n",
       "      <th>S2E_L</th>\n",
       "      <th>PROF_L</th>\n",
       "      <th>PM_L</th>\n",
       "      <th>ATO_L</th>\n",
       "      <th>ROA_L</th>\n",
       "      <th>FCF_L</th>\n",
       "      <th>A2ME_L</th>\n",
       "      <th>B2ME_L</th>\n",
       "      <th>S2P_L</th>\n",
       "      <th>ROE_L</th>\n",
       "      <th>LEV_L</th>\n",
       "      <th>TQ_L</th>\n",
       "      <th>year</th>\n",
       "    </tr>\n",
       "  </thead>\n",
       "  <tbody>\n",
       "    <tr>\n",
       "      <th>1795158</th>\n",
       "      <td>14523</td>\n",
       "      <td>2022-07-31</td>\n",
       "      <td>0</td>\n",
       "      <td>-0.211268</td>\n",
       "      <td>4.210201e+05</td>\n",
       "      <td>3.603768e+05</td>\n",
       "      <td>0.000000</td>\n",
       "      <td>0.0</td>\n",
       "      <td>0.000000</td>\n",
       "      <td>0.0</td>\n",
       "      <td>0.000000</td>\n",
       "      <td>0.0</td>\n",
       "      <td>0.010376</td>\n",
       "      <td>0.000127</td>\n",
       "      <td>0.000547</td>\n",
       "      <td>0.000081</td>\n",
       "      <td>0.000018</td>\n",
       "      <td>0.046569</td>\n",
       "      <td>0.752262</td>\n",
       "      <td>0.626562</td>\n",
       "      <td>0.667402</td>\n",
       "      <td>0.596191</td>\n",
       "      <td>0.108507</td>\n",
       "      <td>0.127252</td>\n",
       "      <td>0.072299</td>\n",
       "      <td>0.363567</td>\n",
       "      <td>0.568917</td>\n",
       "      <td>0.336051</td>\n",
       "      <td>0.428937</td>\n",
       "      <td>0.674246</td>\n",
       "      <td>0.832911</td>\n",
       "      <td>1.0</td>\n",
       "      <td>0.000078</td>\n",
       "      <td>0.007624</td>\n",
       "      <td>0.000401</td>\n",
       "      <td>0.000090</td>\n",
       "      <td>0.000694</td>\n",
       "      <td>0.000181</td>\n",
       "      <td>0.907457</td>\n",
       "      <td>0.105361</td>\n",
       "      <td>0.000694</td>\n",
       "      <td>0.261469</td>\n",
       "      <td>0.217470</td>\n",
       "      <td>0.304657</td>\n",
       "      <td>0.956337</td>\n",
       "      <td>0.008175</td>\n",
       "      <td>0.784626</td>\n",
       "      <td>0.140765</td>\n",
       "      <td>0.000122</td>\n",
       "      <td>0.797185</td>\n",
       "      <td>0.009079</td>\n",
       "      <td>0.522669</td>\n",
       "      <td>0.000005</td>\n",
       "      <td>0.000137</td>\n",
       "      <td>2022</td>\n",
       "    </tr>\n",
       "    <tr>\n",
       "      <th>1795159</th>\n",
       "      <td>84413</td>\n",
       "      <td>2022-07-31</td>\n",
       "      <td>1</td>\n",
       "      <td>0.020794</td>\n",
       "      <td>9.367426e+05</td>\n",
       "      <td>9.562860e+05</td>\n",
       "      <td>0.000000</td>\n",
       "      <td>0.0</td>\n",
       "      <td>0.000000</td>\n",
       "      <td>0.0</td>\n",
       "      <td>0.166667</td>\n",
       "      <td>0.0</td>\n",
       "      <td>0.004925</td>\n",
       "      <td>0.000068</td>\n",
       "      <td>0.000052</td>\n",
       "      <td>0.000111</td>\n",
       "      <td>0.000040</td>\n",
       "      <td>0.042502</td>\n",
       "      <td>0.708189</td>\n",
       "      <td>0.669056</td>\n",
       "      <td>0.712299</td>\n",
       "      <td>0.767522</td>\n",
       "      <td>0.108507</td>\n",
       "      <td>0.127252</td>\n",
       "      <td>0.072299</td>\n",
       "      <td>0.363567</td>\n",
       "      <td>0.568917</td>\n",
       "      <td>0.336051</td>\n",
       "      <td>0.428937</td>\n",
       "      <td>0.674246</td>\n",
       "      <td>0.832911</td>\n",
       "      <td>1.0</td>\n",
       "      <td>0.000262</td>\n",
       "      <td>0.006655</td>\n",
       "      <td>0.000400</td>\n",
       "      <td>0.000085</td>\n",
       "      <td>0.000376</td>\n",
       "      <td>0.000203</td>\n",
       "      <td>0.907473</td>\n",
       "      <td>0.105362</td>\n",
       "      <td>0.000376</td>\n",
       "      <td>0.261528</td>\n",
       "      <td>0.217475</td>\n",
       "      <td>0.304657</td>\n",
       "      <td>0.956344</td>\n",
       "      <td>0.008166</td>\n",
       "      <td>0.785350</td>\n",
       "      <td>0.140878</td>\n",
       "      <td>0.000094</td>\n",
       "      <td>0.797068</td>\n",
       "      <td>0.009113</td>\n",
       "      <td>0.522682</td>\n",
       "      <td>0.000030</td>\n",
       "      <td>0.000168</td>\n",
       "      <td>2022</td>\n",
       "    </tr>\n",
       "    <tr>\n",
       "      <th>1795160</th>\n",
       "      <td>14526</td>\n",
       "      <td>2022-07-31</td>\n",
       "      <td>1</td>\n",
       "      <td>0.066548</td>\n",
       "      <td>8.689975e+05</td>\n",
       "      <td>9.219528e+05</td>\n",
       "      <td>0.166667</td>\n",
       "      <td>0.0</td>\n",
       "      <td>0.083333</td>\n",
       "      <td>0.0</td>\n",
       "      <td>0.000000</td>\n",
       "      <td>0.0</td>\n",
       "      <td>0.004318</td>\n",
       "      <td>0.000094</td>\n",
       "      <td>0.000042</td>\n",
       "      <td>0.000013</td>\n",
       "      <td>0.000019</td>\n",
       "      <td>0.037465</td>\n",
       "      <td>0.704435</td>\n",
       "      <td>0.671810</td>\n",
       "      <td>0.725260</td>\n",
       "      <td>0.814332</td>\n",
       "      <td>0.108507</td>\n",
       "      <td>0.127252</td>\n",
       "      <td>0.072299</td>\n",
       "      <td>0.363567</td>\n",
       "      <td>0.568917</td>\n",
       "      <td>0.336051</td>\n",
       "      <td>0.428937</td>\n",
       "      <td>0.674246</td>\n",
       "      <td>0.832911</td>\n",
       "      <td>0.0</td>\n",
       "      <td>0.001048</td>\n",
       "      <td>0.006563</td>\n",
       "      <td>0.000466</td>\n",
       "      <td>0.000117</td>\n",
       "      <td>0.000394</td>\n",
       "      <td>0.000240</td>\n",
       "      <td>0.907461</td>\n",
       "      <td>0.105344</td>\n",
       "      <td>0.000394</td>\n",
       "      <td>0.261578</td>\n",
       "      <td>0.217481</td>\n",
       "      <td>0.304673</td>\n",
       "      <td>0.956347</td>\n",
       "      <td>0.008336</td>\n",
       "      <td>0.785690</td>\n",
       "      <td>0.141023</td>\n",
       "      <td>0.000383</td>\n",
       "      <td>0.797248</td>\n",
       "      <td>0.009861</td>\n",
       "      <td>0.522707</td>\n",
       "      <td>0.000150</td>\n",
       "      <td>0.000037</td>\n",
       "      <td>2022</td>\n",
       "    </tr>\n",
       "    <tr>\n",
       "      <th>1795161</th>\n",
       "      <td>90548</td>\n",
       "      <td>2022-07-31</td>\n",
       "      <td>1</td>\n",
       "      <td>0.087452</td>\n",
       "      <td>1.138132e+05</td>\n",
       "      <td>1.216028e+05</td>\n",
       "      <td>0.416667</td>\n",
       "      <td>0.0</td>\n",
       "      <td>0.083333</td>\n",
       "      <td>0.0</td>\n",
       "      <td>0.000000</td>\n",
       "      <td>0.0</td>\n",
       "      <td>0.005750</td>\n",
       "      <td>0.000025</td>\n",
       "      <td>0.000038</td>\n",
       "      <td>0.000066</td>\n",
       "      <td>0.000015</td>\n",
       "      <td>0.034937</td>\n",
       "      <td>0.710461</td>\n",
       "      <td>0.697203</td>\n",
       "      <td>0.745026</td>\n",
       "      <td>0.673998</td>\n",
       "      <td>0.108507</td>\n",
       "      <td>0.127252</td>\n",
       "      <td>0.072299</td>\n",
       "      <td>0.363567</td>\n",
       "      <td>0.568917</td>\n",
       "      <td>0.336051</td>\n",
       "      <td>0.428937</td>\n",
       "      <td>0.674246</td>\n",
       "      <td>0.832911</td>\n",
       "      <td>1.0</td>\n",
       "      <td>0.000372</td>\n",
       "      <td>0.006682</td>\n",
       "      <td>0.000408</td>\n",
       "      <td>0.000135</td>\n",
       "      <td>0.000382</td>\n",
       "      <td>0.000187</td>\n",
       "      <td>0.907466</td>\n",
       "      <td>0.105348</td>\n",
       "      <td>0.000382</td>\n",
       "      <td>0.261564</td>\n",
       "      <td>0.217474</td>\n",
       "      <td>0.304668</td>\n",
       "      <td>0.956347</td>\n",
       "      <td>0.008270</td>\n",
       "      <td>0.785608</td>\n",
       "      <td>0.141003</td>\n",
       "      <td>0.001059</td>\n",
       "      <td>0.797898</td>\n",
       "      <td>0.010453</td>\n",
       "      <td>0.522709</td>\n",
       "      <td>0.000321</td>\n",
       "      <td>0.000014</td>\n",
       "      <td>2022</td>\n",
       "    </tr>\n",
       "    <tr>\n",
       "      <th>1795162</th>\n",
       "      <td>93436</td>\n",
       "      <td>2022-07-31</td>\n",
       "      <td>1</td>\n",
       "      <td>0.323765</td>\n",
       "      <td>7.010302e+08</td>\n",
       "      <td>9.311106e+08</td>\n",
       "      <td>0.166667</td>\n",
       "      <td>0.0</td>\n",
       "      <td>0.083333</td>\n",
       "      <td>0.0</td>\n",
       "      <td>0.000000</td>\n",
       "      <td>0.0</td>\n",
       "      <td>0.004688</td>\n",
       "      <td>0.000218</td>\n",
       "      <td>0.000038</td>\n",
       "      <td>0.000041</td>\n",
       "      <td>0.000077</td>\n",
       "      <td>0.035278</td>\n",
       "      <td>0.866215</td>\n",
       "      <td>0.692366</td>\n",
       "      <td>0.729311</td>\n",
       "      <td>0.587806</td>\n",
       "      <td>0.108507</td>\n",
       "      <td>0.127252</td>\n",
       "      <td>0.072299</td>\n",
       "      <td>0.363567</td>\n",
       "      <td>0.568917</td>\n",
       "      <td>0.336051</td>\n",
       "      <td>0.428937</td>\n",
       "      <td>0.674246</td>\n",
       "      <td>0.832911</td>\n",
       "      <td>1.0</td>\n",
       "      <td>0.077968</td>\n",
       "      <td>0.006790</td>\n",
       "      <td>0.000415</td>\n",
       "      <td>0.000123</td>\n",
       "      <td>0.000400</td>\n",
       "      <td>0.000184</td>\n",
       "      <td>0.907462</td>\n",
       "      <td>0.105342</td>\n",
       "      <td>0.000400</td>\n",
       "      <td>0.261577</td>\n",
       "      <td>0.217473</td>\n",
       "      <td>0.304671</td>\n",
       "      <td>0.956348</td>\n",
       "      <td>0.008230</td>\n",
       "      <td>0.785736</td>\n",
       "      <td>0.141042</td>\n",
       "      <td>0.000032</td>\n",
       "      <td>0.797041</td>\n",
       "      <td>0.009040</td>\n",
       "      <td>0.522691</td>\n",
       "      <td>0.000006</td>\n",
       "      <td>0.000397</td>\n",
       "      <td>2022</td>\n",
       "    </tr>\n",
       "  </tbody>\n",
       "</table>\n",
       "</div>"
      ],
      "text/plain": [
       "         PERMNO       date  y       RET           LME            ME    bull_D  \\\n",
       "1795158   14523 2022-07-31  0 -0.211268  4.210201e+05  3.603768e+05  0.000000   \n",
       "1795159   84413 2022-07-31  1  0.020794  9.367426e+05  9.562860e+05  0.000000   \n",
       "1795160   14526 2022-07-31  1  0.066548  8.689975e+05  9.219528e+05  0.166667   \n",
       "1795161   90548 2022-07-31  1  0.087452  1.138132e+05  1.216028e+05  0.416667   \n",
       "1795162   93436 2022-07-31  1  0.323765  7.010302e+08  9.311106e+08  0.166667   \n",
       "\n",
       "         bear_D    bull_W  bear_W    bull_M  bear_M  SPREAD_L  LTURNOVER  \\\n",
       "1795158     0.0  0.000000     0.0  0.000000     0.0  0.010376   0.000127   \n",
       "1795159     0.0  0.000000     0.0  0.166667     0.0  0.004925   0.000068   \n",
       "1795160     0.0  0.083333     0.0  0.000000     0.0  0.004318   0.000094   \n",
       "1795161     0.0  0.083333     0.0  0.000000     0.0  0.005750   0.000025   \n",
       "1795162     0.0  0.083333     0.0  0.000000     0.0  0.004688   0.000218   \n",
       "\n",
       "             IVOL     IVOL2     IVOL3       STR       LTR      IMOM       MOM  \\\n",
       "1795158  0.000547  0.000081  0.000018  0.046569  0.752262  0.626562  0.667402   \n",
       "1795159  0.000052  0.000111  0.000040  0.042502  0.708189  0.669056  0.712299   \n",
       "1795160  0.000042  0.000013  0.000019  0.037465  0.704435  0.671810  0.725260   \n",
       "1795161  0.000038  0.000066  0.000015  0.034937  0.710461  0.697203  0.745026   \n",
       "1795162  0.000038  0.000041  0.000077  0.035278  0.866215  0.692366  0.729311   \n",
       "\n",
       "          PCTHIGH      MVOL     MVOL2     MVOL3      LMKT     LMKT2     LMKT3  \\\n",
       "1795158  0.596191  0.108507  0.127252  0.072299  0.363567  0.568917  0.336051   \n",
       "1795159  0.767522  0.108507  0.127252  0.072299  0.363567  0.568917  0.336051   \n",
       "1795160  0.814332  0.108507  0.127252  0.072299  0.363567  0.568917  0.336051   \n",
       "1795161  0.673998  0.108507  0.127252  0.072299  0.363567  0.568917  0.336051   \n",
       "1795162  0.587806  0.108507  0.127252  0.072299  0.363567  0.568917  0.336051   \n",
       "\n",
       "             MMOM     MIMOM      MLTR  release_L       LAT   DPI2A_L  \\\n",
       "1795158  0.428937  0.674246  0.832911        1.0  0.000078  0.007624   \n",
       "1795159  0.428937  0.674246  0.832911        1.0  0.000262  0.006655   \n",
       "1795160  0.428937  0.674246  0.832911        0.0  0.001048  0.006563   \n",
       "1795161  0.428937  0.674246  0.832911        1.0  0.000372  0.006682   \n",
       "1795162  0.428937  0.674246  0.832911        1.0  0.077968  0.006790   \n",
       "\n",
       "            CTO_L     D2A_L     NOA_L      OL_L     PCM_L    FC2Y_L  INVEST_L  \\\n",
       "1795158  0.000401  0.000090  0.000694  0.000181  0.907457  0.105361  0.000694   \n",
       "1795159  0.000400  0.000085  0.000376  0.000203  0.907473  0.105362  0.000376   \n",
       "1795160  0.000466  0.000117  0.000394  0.000240  0.907461  0.105344  0.000394   \n",
       "1795161  0.000408  0.000135  0.000382  0.000187  0.907466  0.105348  0.000382   \n",
       "1795162  0.000415  0.000123  0.000400  0.000184  0.907462  0.105342  0.000400   \n",
       "\n",
       "            RNA_L     S2E_L    PROF_L      PM_L     ATO_L     ROA_L     FCF_L  \\\n",
       "1795158  0.261469  0.217470  0.304657  0.956337  0.008175  0.784626  0.140765   \n",
       "1795159  0.261528  0.217475  0.304657  0.956344  0.008166  0.785350  0.140878   \n",
       "1795160  0.261578  0.217481  0.304673  0.956347  0.008336  0.785690  0.141023   \n",
       "1795161  0.261564  0.217474  0.304668  0.956347  0.008270  0.785608  0.141003   \n",
       "1795162  0.261577  0.217473  0.304671  0.956348  0.008230  0.785736  0.141042   \n",
       "\n",
       "           A2ME_L    B2ME_L     S2P_L     ROE_L     LEV_L      TQ_L  year  \n",
       "1795158  0.000122  0.797185  0.009079  0.522669  0.000005  0.000137  2022  \n",
       "1795159  0.000094  0.797068  0.009113  0.522682  0.000030  0.000168  2022  \n",
       "1795160  0.000383  0.797248  0.009861  0.522707  0.000150  0.000037  2022  \n",
       "1795161  0.001059  0.797898  0.010453  0.522709  0.000321  0.000014  2022  \n",
       "1795162  0.000032  0.797041  0.009040  0.522691  0.000006  0.000397  2022  "
      ]
     },
     "execution_count": 6,
     "metadata": {},
     "output_type": "execute_result"
    }
   ],
   "source": [
    "df.tail()"
   ]
  },
  {
   "cell_type": "markdown",
   "id": "138ab87d",
   "metadata": {
    "papermill": {
     "duration": 0.005868,
     "end_time": "2024-02-29T14:15:37.852630",
     "exception": false,
     "start_time": "2024-02-29T14:15:37.846762",
     "status": "completed"
    },
    "tags": []
   },
   "source": [
    "# My Experiments"
   ]
  },
  {
   "cell_type": "markdown",
   "id": "8cf8d62b",
   "metadata": {
    "papermill": {
     "duration": 0.005947,
     "end_time": "2024-02-29T14:15:37.864602",
     "exception": false,
     "start_time": "2024-02-29T14:15:37.858655",
     "status": "completed"
    },
    "tags": []
   },
   "source": [
    "## Machine Learning - Hyperparameter Tuning included in the process\n",
    "- models to be named 'model_clas/reg_exp/roll'"
   ]
  },
  {
   "cell_type": "markdown",
   "id": "9584a574",
   "metadata": {
    "papermill": {
     "duration": 0.005861,
     "end_time": "2024-02-29T14:15:37.876667",
     "exception": false,
     "start_time": "2024-02-29T14:15:37.870806",
     "status": "completed"
    },
    "tags": []
   },
   "source": [
    "### First expanding, then rolling\n",
    "start predicting for 1932, expand the window until you reach X years, then roll it"
   ]
  },
  {
   "cell_type": "markdown",
   "id": "277a1b3a",
   "metadata": {
    "papermill": {
     "duration": 0.00588,
     "end_time": "2024-02-29T14:15:37.888589",
     "exception": false,
     "start_time": "2024-02-29T14:15:37.882709",
     "status": "completed"
    },
    "tags": []
   },
   "source": [
    "#### MSE Evaluation"
   ]
  },
  {
   "cell_type": "markdown",
   "id": "3b258509",
   "metadata": {
    "papermill": {
     "duration": 0.005883,
     "end_time": "2024-02-29T14:15:37.900615",
     "exception": false,
     "start_time": "2024-02-29T14:15:37.894732",
     "status": "completed"
    },
    "tags": []
   },
   "source": [
    "##### 5 years"
   ]
  },
  {
   "cell_type": "code",
   "execution_count": 7,
   "id": "d9653495",
   "metadata": {
    "execution": {
     "iopub.execute_input": "2024-02-29T14:15:37.914424Z",
     "iopub.status.busy": "2024-02-29T14:15:37.913658Z",
     "iopub.status.idle": "2024-02-29T14:15:37.917446Z",
     "shell.execute_reply": "2024-02-29T14:15:37.916775Z"
    },
    "papermill": {
     "duration": 0.012384,
     "end_time": "2024-02-29T14:15:37.919009",
     "exception": false,
     "start_time": "2024-02-29T14:15:37.906625",
     "status": "completed"
    },
    "tags": []
   },
   "outputs": [],
   "source": [
    "rolling_window = 5"
   ]
  },
  {
   "cell_type": "code",
   "execution_count": 8,
   "id": "55354d2c",
   "metadata": {
    "execution": {
     "iopub.execute_input": "2024-02-29T14:15:37.932635Z",
     "iopub.status.busy": "2024-02-29T14:15:37.932201Z",
     "iopub.status.idle": "2024-03-01T00:29:40.715684Z",
     "shell.execute_reply": "2024-03-01T00:29:40.709532Z"
    },
    "papermill": {
     "duration": 36842.815189,
     "end_time": "2024-03-01T00:29:40.740392",
     "exception": false,
     "start_time": "2024-02-29T14:15:37.925203",
     "status": "completed"
    },
    "tags": []
   },
   "outputs": [
    {
     "name": "stderr",
     "output_type": "stream",
     "text": [
      "/opt/conda/lib/python3.10/site-packages/sklearn/linear_model/_sag.py:350: ConvergenceWarning: The max_iter was reached which means the coef_ did not converge\n",
      "  warnings.warn(\n",
      "/opt/conda/lib/python3.10/site-packages/sklearn/linear_model/_sag.py:350: ConvergenceWarning: The max_iter was reached which means the coef_ did not converge\n",
      "  warnings.warn(\n",
      "/opt/conda/lib/python3.10/site-packages/sklearn/linear_model/_sag.py:350: ConvergenceWarning: The max_iter was reached which means the coef_ did not converge\n",
      "  warnings.warn(\n"
     ]
    },
    {
     "name": "stdout",
     "output_type": "stream",
     "text": [
      "Year 1976 - Best C: 100, Best ACC: 0.0812, Time: 288.11 seconds\n"
     ]
    },
    {
     "name": "stderr",
     "output_type": "stream",
     "text": [
      "/opt/conda/lib/python3.10/site-packages/sklearn/linear_model/_sag.py:350: ConvergenceWarning: The max_iter was reached which means the coef_ did not converge\n",
      "  warnings.warn(\n",
      "/opt/conda/lib/python3.10/site-packages/sklearn/linear_model/_sag.py:350: ConvergenceWarning: The max_iter was reached which means the coef_ did not converge\n",
      "  warnings.warn(\n",
      "/opt/conda/lib/python3.10/site-packages/sklearn/linear_model/_sag.py:350: ConvergenceWarning: The max_iter was reached which means the coef_ did not converge\n",
      "  warnings.warn(\n",
      "/opt/conda/lib/python3.10/site-packages/sklearn/linear_model/_sag.py:350: ConvergenceWarning: The max_iter was reached which means the coef_ did not converge\n",
      "  warnings.warn(\n"
     ]
    },
    {
     "name": "stdout",
     "output_type": "stream",
     "text": [
      "Year 1977 - Best C: 10, Best ACC: 0.0668, Time: 413.81 seconds\n"
     ]
    },
    {
     "name": "stderr",
     "output_type": "stream",
     "text": [
      "/opt/conda/lib/python3.10/site-packages/sklearn/linear_model/_sag.py:350: ConvergenceWarning: The max_iter was reached which means the coef_ did not converge\n",
      "  warnings.warn(\n",
      "/opt/conda/lib/python3.10/site-packages/sklearn/linear_model/_sag.py:350: ConvergenceWarning: The max_iter was reached which means the coef_ did not converge\n",
      "  warnings.warn(\n",
      "/opt/conda/lib/python3.10/site-packages/sklearn/linear_model/_sag.py:350: ConvergenceWarning: The max_iter was reached which means the coef_ did not converge\n",
      "  warnings.warn(\n",
      "/opt/conda/lib/python3.10/site-packages/sklearn/linear_model/_sag.py:350: ConvergenceWarning: The max_iter was reached which means the coef_ did not converge\n",
      "  warnings.warn(\n"
     ]
    },
    {
     "name": "stdout",
     "output_type": "stream",
     "text": [
      "Year 1978 - Best C: 10, Best ACC: 0.0714, Time: 457.34 seconds\n"
     ]
    },
    {
     "name": "stderr",
     "output_type": "stream",
     "text": [
      "/opt/conda/lib/python3.10/site-packages/sklearn/linear_model/_sag.py:350: ConvergenceWarning: The max_iter was reached which means the coef_ did not converge\n",
      "  warnings.warn(\n",
      "/opt/conda/lib/python3.10/site-packages/sklearn/linear_model/_sag.py:350: ConvergenceWarning: The max_iter was reached which means the coef_ did not converge\n",
      "  warnings.warn(\n",
      "/opt/conda/lib/python3.10/site-packages/sklearn/linear_model/_sag.py:350: ConvergenceWarning: The max_iter was reached which means the coef_ did not converge\n",
      "  warnings.warn(\n",
      "/opt/conda/lib/python3.10/site-packages/sklearn/linear_model/_sag.py:350: ConvergenceWarning: The max_iter was reached which means the coef_ did not converge\n",
      "  warnings.warn(\n"
     ]
    },
    {
     "name": "stdout",
     "output_type": "stream",
     "text": [
      "Year 1979 - Best C: 100, Best ACC: 0.0534, Time: 473.70 seconds\n"
     ]
    },
    {
     "name": "stderr",
     "output_type": "stream",
     "text": [
      "/opt/conda/lib/python3.10/site-packages/sklearn/linear_model/_sag.py:350: ConvergenceWarning: The max_iter was reached which means the coef_ did not converge\n",
      "  warnings.warn(\n",
      "/opt/conda/lib/python3.10/site-packages/sklearn/linear_model/_sag.py:350: ConvergenceWarning: The max_iter was reached which means the coef_ did not converge\n",
      "  warnings.warn(\n",
      "/opt/conda/lib/python3.10/site-packages/sklearn/linear_model/_sag.py:350: ConvergenceWarning: The max_iter was reached which means the coef_ did not converge\n",
      "  warnings.warn(\n",
      "/opt/conda/lib/python3.10/site-packages/sklearn/linear_model/_sag.py:350: ConvergenceWarning: The max_iter was reached which means the coef_ did not converge\n",
      "  warnings.warn(\n"
     ]
    },
    {
     "name": "stdout",
     "output_type": "stream",
     "text": [
      "Year 1980 - Best C: 1, Best ACC: 0.0554, Time: 480.88 seconds\n"
     ]
    },
    {
     "name": "stderr",
     "output_type": "stream",
     "text": [
      "/opt/conda/lib/python3.10/site-packages/sklearn/linear_model/_sag.py:350: ConvergenceWarning: The max_iter was reached which means the coef_ did not converge\n",
      "  warnings.warn(\n",
      "/opt/conda/lib/python3.10/site-packages/sklearn/linear_model/_sag.py:350: ConvergenceWarning: The max_iter was reached which means the coef_ did not converge\n",
      "  warnings.warn(\n",
      "/opt/conda/lib/python3.10/site-packages/sklearn/linear_model/_sag.py:350: ConvergenceWarning: The max_iter was reached which means the coef_ did not converge\n",
      "  warnings.warn(\n",
      "/opt/conda/lib/python3.10/site-packages/sklearn/linear_model/_sag.py:350: ConvergenceWarning: The max_iter was reached which means the coef_ did not converge\n",
      "  warnings.warn(\n"
     ]
    },
    {
     "name": "stdout",
     "output_type": "stream",
     "text": [
      "Year 1981 - Best C: 1, Best ACC: 0.0638, Time: 473.49 seconds\n"
     ]
    },
    {
     "name": "stderr",
     "output_type": "stream",
     "text": [
      "/opt/conda/lib/python3.10/site-packages/sklearn/linear_model/_sag.py:350: ConvergenceWarning: The max_iter was reached which means the coef_ did not converge\n",
      "  warnings.warn(\n",
      "/opt/conda/lib/python3.10/site-packages/sklearn/linear_model/_sag.py:350: ConvergenceWarning: The max_iter was reached which means the coef_ did not converge\n",
      "  warnings.warn(\n",
      "/opt/conda/lib/python3.10/site-packages/sklearn/linear_model/_sag.py:350: ConvergenceWarning: The max_iter was reached which means the coef_ did not converge\n",
      "  warnings.warn(\n",
      "/opt/conda/lib/python3.10/site-packages/sklearn/linear_model/_sag.py:350: ConvergenceWarning: The max_iter was reached which means the coef_ did not converge\n",
      "  warnings.warn(\n"
     ]
    },
    {
     "name": "stdout",
     "output_type": "stream",
     "text": [
      "Year 1982 - Best C: 100, Best ACC: 0.0498, Time: 467.04 seconds\n"
     ]
    },
    {
     "name": "stderr",
     "output_type": "stream",
     "text": [
      "/opt/conda/lib/python3.10/site-packages/sklearn/linear_model/_sag.py:350: ConvergenceWarning: The max_iter was reached which means the coef_ did not converge\n",
      "  warnings.warn(\n",
      "/opt/conda/lib/python3.10/site-packages/sklearn/linear_model/_sag.py:350: ConvergenceWarning: The max_iter was reached which means the coef_ did not converge\n",
      "  warnings.warn(\n",
      "/opt/conda/lib/python3.10/site-packages/sklearn/linear_model/_sag.py:350: ConvergenceWarning: The max_iter was reached which means the coef_ did not converge\n",
      "  warnings.warn(\n",
      "/opt/conda/lib/python3.10/site-packages/sklearn/linear_model/_sag.py:350: ConvergenceWarning: The max_iter was reached which means the coef_ did not converge\n",
      "  warnings.warn(\n"
     ]
    },
    {
     "name": "stdout",
     "output_type": "stream",
     "text": [
      "Year 1983 - Best C: 100, Best ACC: 0.0503, Time: 450.33 seconds\n"
     ]
    },
    {
     "name": "stderr",
     "output_type": "stream",
     "text": [
      "/opt/conda/lib/python3.10/site-packages/sklearn/linear_model/_sag.py:350: ConvergenceWarning: The max_iter was reached which means the coef_ did not converge\n",
      "  warnings.warn(\n",
      "/opt/conda/lib/python3.10/site-packages/sklearn/linear_model/_sag.py:350: ConvergenceWarning: The max_iter was reached which means the coef_ did not converge\n",
      "  warnings.warn(\n",
      "/opt/conda/lib/python3.10/site-packages/sklearn/linear_model/_sag.py:350: ConvergenceWarning: The max_iter was reached which means the coef_ did not converge\n",
      "  warnings.warn(\n",
      "/opt/conda/lib/python3.10/site-packages/sklearn/linear_model/_sag.py:350: ConvergenceWarning: The max_iter was reached which means the coef_ did not converge\n",
      "  warnings.warn(\n"
     ]
    },
    {
     "name": "stdout",
     "output_type": "stream",
     "text": [
      "Year 1984 - Best C: 10, Best ACC: 0.0533, Time: 447.44 seconds\n"
     ]
    },
    {
     "name": "stderr",
     "output_type": "stream",
     "text": [
      "/opt/conda/lib/python3.10/site-packages/sklearn/linear_model/_sag.py:350: ConvergenceWarning: The max_iter was reached which means the coef_ did not converge\n",
      "  warnings.warn(\n",
      "/opt/conda/lib/python3.10/site-packages/sklearn/linear_model/_sag.py:350: ConvergenceWarning: The max_iter was reached which means the coef_ did not converge\n",
      "  warnings.warn(\n",
      "/opt/conda/lib/python3.10/site-packages/sklearn/linear_model/_sag.py:350: ConvergenceWarning: The max_iter was reached which means the coef_ did not converge\n",
      "  warnings.warn(\n",
      "/opt/conda/lib/python3.10/site-packages/sklearn/linear_model/_sag.py:350: ConvergenceWarning: The max_iter was reached which means the coef_ did not converge\n",
      "  warnings.warn(\n"
     ]
    },
    {
     "name": "stdout",
     "output_type": "stream",
     "text": [
      "Year 1985 - Best C: 1, Best ACC: 0.0715, Time: 519.17 seconds\n"
     ]
    },
    {
     "name": "stderr",
     "output_type": "stream",
     "text": [
      "/opt/conda/lib/python3.10/site-packages/sklearn/linear_model/_sag.py:350: ConvergenceWarning: The max_iter was reached which means the coef_ did not converge\n",
      "  warnings.warn(\n",
      "/opt/conda/lib/python3.10/site-packages/sklearn/linear_model/_sag.py:350: ConvergenceWarning: The max_iter was reached which means the coef_ did not converge\n",
      "  warnings.warn(\n",
      "/opt/conda/lib/python3.10/site-packages/sklearn/linear_model/_sag.py:350: ConvergenceWarning: The max_iter was reached which means the coef_ did not converge\n",
      "  warnings.warn(\n",
      "/opt/conda/lib/python3.10/site-packages/sklearn/linear_model/_sag.py:350: ConvergenceWarning: The max_iter was reached which means the coef_ did not converge\n",
      "  warnings.warn(\n"
     ]
    },
    {
     "name": "stdout",
     "output_type": "stream",
     "text": [
      "Year 1986 - Best C: 1, Best ACC: 0.0873, Time: 603.68 seconds\n"
     ]
    },
    {
     "name": "stderr",
     "output_type": "stream",
     "text": [
      "/opt/conda/lib/python3.10/site-packages/sklearn/linear_model/_sag.py:350: ConvergenceWarning: The max_iter was reached which means the coef_ did not converge\n",
      "  warnings.warn(\n",
      "/opt/conda/lib/python3.10/site-packages/sklearn/linear_model/_sag.py:350: ConvergenceWarning: The max_iter was reached which means the coef_ did not converge\n",
      "  warnings.warn(\n",
      "/opt/conda/lib/python3.10/site-packages/sklearn/linear_model/_sag.py:350: ConvergenceWarning: The max_iter was reached which means the coef_ did not converge\n",
      "  warnings.warn(\n",
      "/opt/conda/lib/python3.10/site-packages/sklearn/linear_model/_sag.py:350: ConvergenceWarning: The max_iter was reached which means the coef_ did not converge\n",
      "  warnings.warn(\n"
     ]
    },
    {
     "name": "stdout",
     "output_type": "stream",
     "text": [
      "Year 1987 - Best C: 1, Best ACC: 0.0793, Time: 706.09 seconds\n"
     ]
    },
    {
     "name": "stderr",
     "output_type": "stream",
     "text": [
      "/opt/conda/lib/python3.10/site-packages/sklearn/linear_model/_sag.py:350: ConvergenceWarning: The max_iter was reached which means the coef_ did not converge\n",
      "  warnings.warn(\n",
      "/opt/conda/lib/python3.10/site-packages/sklearn/linear_model/_sag.py:350: ConvergenceWarning: The max_iter was reached which means the coef_ did not converge\n",
      "  warnings.warn(\n",
      "/opt/conda/lib/python3.10/site-packages/sklearn/linear_model/_sag.py:350: ConvergenceWarning: The max_iter was reached which means the coef_ did not converge\n",
      "  warnings.warn(\n",
      "/opt/conda/lib/python3.10/site-packages/sklearn/linear_model/_sag.py:350: ConvergenceWarning: The max_iter was reached which means the coef_ did not converge\n",
      "  warnings.warn(\n"
     ]
    },
    {
     "name": "stdout",
     "output_type": "stream",
     "text": [
      "Year 1988 - Best C: 1, Best ACC: 0.0998, Time: 806.19 seconds\n"
     ]
    },
    {
     "name": "stderr",
     "output_type": "stream",
     "text": [
      "/opt/conda/lib/python3.10/site-packages/sklearn/linear_model/_sag.py:350: ConvergenceWarning: The max_iter was reached which means the coef_ did not converge\n",
      "  warnings.warn(\n",
      "/opt/conda/lib/python3.10/site-packages/sklearn/linear_model/_sag.py:350: ConvergenceWarning: The max_iter was reached which means the coef_ did not converge\n",
      "  warnings.warn(\n",
      "/opt/conda/lib/python3.10/site-packages/sklearn/linear_model/_sag.py:350: ConvergenceWarning: The max_iter was reached which means the coef_ did not converge\n",
      "  warnings.warn(\n"
     ]
    },
    {
     "name": "stdout",
     "output_type": "stream",
     "text": [
      "Year 1989 - Best C: 0.1, Best ACC: 0.1062, Time: 679.79 seconds\n"
     ]
    },
    {
     "name": "stderr",
     "output_type": "stream",
     "text": [
      "/opt/conda/lib/python3.10/site-packages/sklearn/linear_model/_sag.py:350: ConvergenceWarning: The max_iter was reached which means the coef_ did not converge\n",
      "  warnings.warn(\n",
      "/opt/conda/lib/python3.10/site-packages/sklearn/linear_model/_sag.py:350: ConvergenceWarning: The max_iter was reached which means the coef_ did not converge\n",
      "  warnings.warn(\n",
      "/opt/conda/lib/python3.10/site-packages/sklearn/linear_model/_sag.py:350: ConvergenceWarning: The max_iter was reached which means the coef_ did not converge\n",
      "  warnings.warn(\n",
      "/opt/conda/lib/python3.10/site-packages/sklearn/linear_model/_sag.py:350: ConvergenceWarning: The max_iter was reached which means the coef_ did not converge\n",
      "  warnings.warn(\n"
     ]
    },
    {
     "name": "stdout",
     "output_type": "stream",
     "text": [
      "Year 1990 - Best C: 10, Best ACC: 0.0937, Time: 869.47 seconds\n"
     ]
    },
    {
     "name": "stderr",
     "output_type": "stream",
     "text": [
      "/opt/conda/lib/python3.10/site-packages/sklearn/linear_model/_sag.py:350: ConvergenceWarning: The max_iter was reached which means the coef_ did not converge\n",
      "  warnings.warn(\n",
      "/opt/conda/lib/python3.10/site-packages/sklearn/linear_model/_sag.py:350: ConvergenceWarning: The max_iter was reached which means the coef_ did not converge\n",
      "  warnings.warn(\n",
      "/opt/conda/lib/python3.10/site-packages/sklearn/linear_model/_sag.py:350: ConvergenceWarning: The max_iter was reached which means the coef_ did not converge\n",
      "  warnings.warn(\n",
      "/opt/conda/lib/python3.10/site-packages/sklearn/linear_model/_sag.py:350: ConvergenceWarning: The max_iter was reached which means the coef_ did not converge\n",
      "  warnings.warn(\n"
     ]
    },
    {
     "name": "stdout",
     "output_type": "stream",
     "text": [
      "Year 1991 - Best C: 100, Best ACC: 0.0879, Time: 891.76 seconds\n"
     ]
    },
    {
     "name": "stderr",
     "output_type": "stream",
     "text": [
      "/opt/conda/lib/python3.10/site-packages/sklearn/linear_model/_sag.py:350: ConvergenceWarning: The max_iter was reached which means the coef_ did not converge\n",
      "  warnings.warn(\n",
      "/opt/conda/lib/python3.10/site-packages/sklearn/linear_model/_sag.py:350: ConvergenceWarning: The max_iter was reached which means the coef_ did not converge\n",
      "  warnings.warn(\n",
      "/opt/conda/lib/python3.10/site-packages/sklearn/linear_model/_sag.py:350: ConvergenceWarning: The max_iter was reached which means the coef_ did not converge\n",
      "  warnings.warn(\n",
      "/opt/conda/lib/python3.10/site-packages/sklearn/linear_model/_sag.py:350: ConvergenceWarning: The max_iter was reached which means the coef_ did not converge\n",
      "  warnings.warn(\n"
     ]
    },
    {
     "name": "stdout",
     "output_type": "stream",
     "text": [
      "Year 1992 - Best C: 100, Best ACC: 0.0964, Time: 911.05 seconds\n"
     ]
    },
    {
     "name": "stderr",
     "output_type": "stream",
     "text": [
      "/opt/conda/lib/python3.10/site-packages/sklearn/linear_model/_sag.py:350: ConvergenceWarning: The max_iter was reached which means the coef_ did not converge\n",
      "  warnings.warn(\n",
      "/opt/conda/lib/python3.10/site-packages/sklearn/linear_model/_sag.py:350: ConvergenceWarning: The max_iter was reached which means the coef_ did not converge\n",
      "  warnings.warn(\n",
      "/opt/conda/lib/python3.10/site-packages/sklearn/linear_model/_sag.py:350: ConvergenceWarning: The max_iter was reached which means the coef_ did not converge\n",
      "  warnings.warn(\n",
      "/opt/conda/lib/python3.10/site-packages/sklearn/linear_model/_sag.py:350: ConvergenceWarning: The max_iter was reached which means the coef_ did not converge\n",
      "  warnings.warn(\n"
     ]
    },
    {
     "name": "stdout",
     "output_type": "stream",
     "text": [
      "Year 1993 - Best C: 100, Best ACC: 0.0937, Time: 923.97 seconds\n"
     ]
    },
    {
     "name": "stderr",
     "output_type": "stream",
     "text": [
      "/opt/conda/lib/python3.10/site-packages/sklearn/linear_model/_sag.py:350: ConvergenceWarning: The max_iter was reached which means the coef_ did not converge\n",
      "  warnings.warn(\n",
      "/opt/conda/lib/python3.10/site-packages/sklearn/linear_model/_sag.py:350: ConvergenceWarning: The max_iter was reached which means the coef_ did not converge\n",
      "  warnings.warn(\n",
      "/opt/conda/lib/python3.10/site-packages/sklearn/linear_model/_sag.py:350: ConvergenceWarning: The max_iter was reached which means the coef_ did not converge\n",
      "  warnings.warn(\n",
      "/opt/conda/lib/python3.10/site-packages/sklearn/linear_model/_sag.py:350: ConvergenceWarning: The max_iter was reached which means the coef_ did not converge\n",
      "  warnings.warn(\n"
     ]
    },
    {
     "name": "stdout",
     "output_type": "stream",
     "text": [
      "Year 1994 - Best C: 10, Best ACC: 0.0863, Time: 924.90 seconds\n"
     ]
    },
    {
     "name": "stderr",
     "output_type": "stream",
     "text": [
      "/opt/conda/lib/python3.10/site-packages/sklearn/linear_model/_sag.py:350: ConvergenceWarning: The max_iter was reached which means the coef_ did not converge\n",
      "  warnings.warn(\n",
      "/opt/conda/lib/python3.10/site-packages/sklearn/linear_model/_sag.py:350: ConvergenceWarning: The max_iter was reached which means the coef_ did not converge\n",
      "  warnings.warn(\n",
      "/opt/conda/lib/python3.10/site-packages/sklearn/linear_model/_sag.py:350: ConvergenceWarning: The max_iter was reached which means the coef_ did not converge\n",
      "  warnings.warn(\n",
      "/opt/conda/lib/python3.10/site-packages/sklearn/linear_model/_sag.py:350: ConvergenceWarning: The max_iter was reached which means the coef_ did not converge\n",
      "  warnings.warn(\n"
     ]
    },
    {
     "name": "stdout",
     "output_type": "stream",
     "text": [
      "Year 1995 - Best C: 100, Best ACC: 0.0819, Time: 928.63 seconds\n"
     ]
    },
    {
     "name": "stderr",
     "output_type": "stream",
     "text": [
      "/opt/conda/lib/python3.10/site-packages/sklearn/linear_model/_sag.py:350: ConvergenceWarning: The max_iter was reached which means the coef_ did not converge\n",
      "  warnings.warn(\n",
      "/opt/conda/lib/python3.10/site-packages/sklearn/linear_model/_sag.py:350: ConvergenceWarning: The max_iter was reached which means the coef_ did not converge\n",
      "  warnings.warn(\n",
      "/opt/conda/lib/python3.10/site-packages/sklearn/linear_model/_sag.py:350: ConvergenceWarning: The max_iter was reached which means the coef_ did not converge\n",
      "  warnings.warn(\n",
      "/opt/conda/lib/python3.10/site-packages/sklearn/linear_model/_sag.py:350: ConvergenceWarning: The max_iter was reached which means the coef_ did not converge\n",
      "  warnings.warn(\n"
     ]
    },
    {
     "name": "stdout",
     "output_type": "stream",
     "text": [
      "Year 1996 - Best C: 100, Best ACC: 0.0785, Time: 957.62 seconds\n"
     ]
    },
    {
     "name": "stderr",
     "output_type": "stream",
     "text": [
      "/opt/conda/lib/python3.10/site-packages/sklearn/linear_model/_sag.py:350: ConvergenceWarning: The max_iter was reached which means the coef_ did not converge\n",
      "  warnings.warn(\n",
      "/opt/conda/lib/python3.10/site-packages/sklearn/linear_model/_sag.py:350: ConvergenceWarning: The max_iter was reached which means the coef_ did not converge\n",
      "  warnings.warn(\n",
      "/opt/conda/lib/python3.10/site-packages/sklearn/linear_model/_sag.py:350: ConvergenceWarning: The max_iter was reached which means the coef_ did not converge\n",
      "  warnings.warn(\n",
      "/opt/conda/lib/python3.10/site-packages/sklearn/linear_model/_sag.py:350: ConvergenceWarning: The max_iter was reached which means the coef_ did not converge\n",
      "  warnings.warn(\n"
     ]
    },
    {
     "name": "stdout",
     "output_type": "stream",
     "text": [
      "Year 1997 - Best C: 1, Best ACC: 0.0655, Time: 1009.69 seconds\n"
     ]
    },
    {
     "name": "stderr",
     "output_type": "stream",
     "text": [
      "/opt/conda/lib/python3.10/site-packages/sklearn/linear_model/_sag.py:350: ConvergenceWarning: The max_iter was reached which means the coef_ did not converge\n",
      "  warnings.warn(\n",
      "/opt/conda/lib/python3.10/site-packages/sklearn/linear_model/_sag.py:350: ConvergenceWarning: The max_iter was reached which means the coef_ did not converge\n",
      "  warnings.warn(\n",
      "/opt/conda/lib/python3.10/site-packages/sklearn/linear_model/_sag.py:350: ConvergenceWarning: The max_iter was reached which means the coef_ did not converge\n",
      "  warnings.warn(\n",
      "/opt/conda/lib/python3.10/site-packages/sklearn/linear_model/_sag.py:350: ConvergenceWarning: The max_iter was reached which means the coef_ did not converge\n",
      "  warnings.warn(\n"
     ]
    },
    {
     "name": "stdout",
     "output_type": "stream",
     "text": [
      "Year 1998 - Best C: 100, Best ACC: 0.0509, Time: 1062.19 seconds\n"
     ]
    },
    {
     "name": "stderr",
     "output_type": "stream",
     "text": [
      "/opt/conda/lib/python3.10/site-packages/sklearn/linear_model/_sag.py:350: ConvergenceWarning: The max_iter was reached which means the coef_ did not converge\n",
      "  warnings.warn(\n",
      "/opt/conda/lib/python3.10/site-packages/sklearn/linear_model/_sag.py:350: ConvergenceWarning: The max_iter was reached which means the coef_ did not converge\n",
      "  warnings.warn(\n",
      "/opt/conda/lib/python3.10/site-packages/sklearn/linear_model/_sag.py:350: ConvergenceWarning: The max_iter was reached which means the coef_ did not converge\n",
      "  warnings.warn(\n",
      "/opt/conda/lib/python3.10/site-packages/sklearn/linear_model/_sag.py:350: ConvergenceWarning: The max_iter was reached which means the coef_ did not converge\n",
      "  warnings.warn(\n"
     ]
    },
    {
     "name": "stdout",
     "output_type": "stream",
     "text": [
      "Year 1999 - Best C: 1, Best ACC: 0.0418, Time: 1136.01 seconds\n"
     ]
    },
    {
     "name": "stderr",
     "output_type": "stream",
     "text": [
      "/opt/conda/lib/python3.10/site-packages/sklearn/linear_model/_sag.py:350: ConvergenceWarning: The max_iter was reached which means the coef_ did not converge\n",
      "  warnings.warn(\n",
      "/opt/conda/lib/python3.10/site-packages/sklearn/linear_model/_sag.py:350: ConvergenceWarning: The max_iter was reached which means the coef_ did not converge\n",
      "  warnings.warn(\n",
      "/opt/conda/lib/python3.10/site-packages/sklearn/linear_model/_sag.py:350: ConvergenceWarning: The max_iter was reached which means the coef_ did not converge\n",
      "  warnings.warn(\n",
      "/opt/conda/lib/python3.10/site-packages/sklearn/linear_model/_sag.py:350: ConvergenceWarning: The max_iter was reached which means the coef_ did not converge\n",
      "  warnings.warn(\n"
     ]
    },
    {
     "name": "stdout",
     "output_type": "stream",
     "text": [
      "Year 2000 - Best C: 10, Best ACC: 0.0458, Time: 1205.55 seconds\n"
     ]
    },
    {
     "name": "stderr",
     "output_type": "stream",
     "text": [
      "/opt/conda/lib/python3.10/site-packages/sklearn/linear_model/_sag.py:350: ConvergenceWarning: The max_iter was reached which means the coef_ did not converge\n",
      "  warnings.warn(\n",
      "/opt/conda/lib/python3.10/site-packages/sklearn/linear_model/_sag.py:350: ConvergenceWarning: The max_iter was reached which means the coef_ did not converge\n",
      "  warnings.warn(\n",
      "/opt/conda/lib/python3.10/site-packages/sklearn/linear_model/_sag.py:350: ConvergenceWarning: The max_iter was reached which means the coef_ did not converge\n",
      "  warnings.warn(\n",
      "/opt/conda/lib/python3.10/site-packages/sklearn/linear_model/_sag.py:350: ConvergenceWarning: The max_iter was reached which means the coef_ did not converge\n",
      "  warnings.warn(\n"
     ]
    },
    {
     "name": "stdout",
     "output_type": "stream",
     "text": [
      "Year 2001 - Best C: 100, Best ACC: 0.0367, Time: 1226.99 seconds\n"
     ]
    },
    {
     "name": "stderr",
     "output_type": "stream",
     "text": [
      "/opt/conda/lib/python3.10/site-packages/sklearn/linear_model/_sag.py:350: ConvergenceWarning: The max_iter was reached which means the coef_ did not converge\n",
      "  warnings.warn(\n",
      "/opt/conda/lib/python3.10/site-packages/sklearn/linear_model/_sag.py:350: ConvergenceWarning: The max_iter was reached which means the coef_ did not converge\n",
      "  warnings.warn(\n",
      "/opt/conda/lib/python3.10/site-packages/sklearn/linear_model/_sag.py:350: ConvergenceWarning: The max_iter was reached which means the coef_ did not converge\n",
      "  warnings.warn(\n",
      "/opt/conda/lib/python3.10/site-packages/sklearn/linear_model/_sag.py:350: ConvergenceWarning: The max_iter was reached which means the coef_ did not converge\n",
      "  warnings.warn(\n"
     ]
    },
    {
     "name": "stdout",
     "output_type": "stream",
     "text": [
      "Year 2002 - Best C: 1, Best ACC: 0.0278, Time: 1208.53 seconds\n"
     ]
    },
    {
     "name": "stderr",
     "output_type": "stream",
     "text": [
      "/opt/conda/lib/python3.10/site-packages/sklearn/linear_model/_sag.py:350: ConvergenceWarning: The max_iter was reached which means the coef_ did not converge\n",
      "  warnings.warn(\n",
      "/opt/conda/lib/python3.10/site-packages/sklearn/linear_model/_sag.py:350: ConvergenceWarning: The max_iter was reached which means the coef_ did not converge\n",
      "  warnings.warn(\n",
      "/opt/conda/lib/python3.10/site-packages/sklearn/linear_model/_sag.py:350: ConvergenceWarning: The max_iter was reached which means the coef_ did not converge\n",
      "  warnings.warn(\n",
      "/opt/conda/lib/python3.10/site-packages/sklearn/linear_model/_sag.py:350: ConvergenceWarning: The max_iter was reached which means the coef_ did not converge\n",
      "  warnings.warn(\n"
     ]
    },
    {
     "name": "stdout",
     "output_type": "stream",
     "text": [
      "Year 2003 - Best C: 10, Best ACC: 0.0274, Time: 1176.82 seconds\n"
     ]
    },
    {
     "name": "stderr",
     "output_type": "stream",
     "text": [
      "/opt/conda/lib/python3.10/site-packages/sklearn/linear_model/_sag.py:350: ConvergenceWarning: The max_iter was reached which means the coef_ did not converge\n",
      "  warnings.warn(\n",
      "/opt/conda/lib/python3.10/site-packages/sklearn/linear_model/_sag.py:350: ConvergenceWarning: The max_iter was reached which means the coef_ did not converge\n",
      "  warnings.warn(\n",
      "/opt/conda/lib/python3.10/site-packages/sklearn/linear_model/_sag.py:350: ConvergenceWarning: The max_iter was reached which means the coef_ did not converge\n",
      "  warnings.warn(\n",
      "/opt/conda/lib/python3.10/site-packages/sklearn/linear_model/_sag.py:350: ConvergenceWarning: The max_iter was reached which means the coef_ did not converge\n",
      "  warnings.warn(\n"
     ]
    },
    {
     "name": "stdout",
     "output_type": "stream",
     "text": [
      "Year 2004 - Best C: 100, Best ACC: 0.0353, Time: 1099.15 seconds\n"
     ]
    },
    {
     "name": "stderr",
     "output_type": "stream",
     "text": [
      "/opt/conda/lib/python3.10/site-packages/sklearn/linear_model/_sag.py:350: ConvergenceWarning: The max_iter was reached which means the coef_ did not converge\n",
      "  warnings.warn(\n",
      "/opt/conda/lib/python3.10/site-packages/sklearn/linear_model/_sag.py:350: ConvergenceWarning: The max_iter was reached which means the coef_ did not converge\n",
      "  warnings.warn(\n",
      "/opt/conda/lib/python3.10/site-packages/sklearn/linear_model/_sag.py:350: ConvergenceWarning: The max_iter was reached which means the coef_ did not converge\n",
      "  warnings.warn(\n",
      "/opt/conda/lib/python3.10/site-packages/sklearn/linear_model/_sag.py:350: ConvergenceWarning: The max_iter was reached which means the coef_ did not converge\n",
      "  warnings.warn(\n"
     ]
    },
    {
     "name": "stdout",
     "output_type": "stream",
     "text": [
      "Year 2005 - Best C: 10, Best ACC: 0.0262, Time: 1042.75 seconds\n"
     ]
    },
    {
     "name": "stderr",
     "output_type": "stream",
     "text": [
      "/opt/conda/lib/python3.10/site-packages/sklearn/linear_model/_sag.py:350: ConvergenceWarning: The max_iter was reached which means the coef_ did not converge\n",
      "  warnings.warn(\n",
      "/opt/conda/lib/python3.10/site-packages/sklearn/linear_model/_sag.py:350: ConvergenceWarning: The max_iter was reached which means the coef_ did not converge\n",
      "  warnings.warn(\n",
      "/opt/conda/lib/python3.10/site-packages/sklearn/linear_model/_sag.py:350: ConvergenceWarning: The max_iter was reached which means the coef_ did not converge\n",
      "  warnings.warn(\n",
      "/opt/conda/lib/python3.10/site-packages/sklearn/linear_model/_sag.py:350: ConvergenceWarning: The max_iter was reached which means the coef_ did not converge\n",
      "  warnings.warn(\n"
     ]
    },
    {
     "name": "stdout",
     "output_type": "stream",
     "text": [
      "Year 2006 - Best C: 100, Best ACC: 0.0195, Time: 1002.44 seconds\n"
     ]
    },
    {
     "name": "stderr",
     "output_type": "stream",
     "text": [
      "/opt/conda/lib/python3.10/site-packages/sklearn/linear_model/_sag.py:350: ConvergenceWarning: The max_iter was reached which means the coef_ did not converge\n",
      "  warnings.warn(\n",
      "/opt/conda/lib/python3.10/site-packages/sklearn/linear_model/_sag.py:350: ConvergenceWarning: The max_iter was reached which means the coef_ did not converge\n",
      "  warnings.warn(\n",
      "/opt/conda/lib/python3.10/site-packages/sklearn/linear_model/_sag.py:350: ConvergenceWarning: The max_iter was reached which means the coef_ did not converge\n",
      "  warnings.warn(\n",
      "/opt/conda/lib/python3.10/site-packages/sklearn/linear_model/_sag.py:350: ConvergenceWarning: The max_iter was reached which means the coef_ did not converge\n",
      "  warnings.warn(\n"
     ]
    },
    {
     "name": "stdout",
     "output_type": "stream",
     "text": [
      "Year 2007 - Best C: 100, Best ACC: 0.0181, Time: 949.64 seconds\n"
     ]
    },
    {
     "name": "stderr",
     "output_type": "stream",
     "text": [
      "/opt/conda/lib/python3.10/site-packages/sklearn/linear_model/_sag.py:350: ConvergenceWarning: The max_iter was reached which means the coef_ did not converge\n",
      "  warnings.warn(\n",
      "/opt/conda/lib/python3.10/site-packages/sklearn/linear_model/_sag.py:350: ConvergenceWarning: The max_iter was reached which means the coef_ did not converge\n",
      "  warnings.warn(\n",
      "/opt/conda/lib/python3.10/site-packages/sklearn/linear_model/_sag.py:350: ConvergenceWarning: The max_iter was reached which means the coef_ did not converge\n",
      "  warnings.warn(\n",
      "/opt/conda/lib/python3.10/site-packages/sklearn/linear_model/_sag.py:350: ConvergenceWarning: The max_iter was reached which means the coef_ did not converge\n",
      "  warnings.warn(\n"
     ]
    },
    {
     "name": "stdout",
     "output_type": "stream",
     "text": [
      "Year 2008 - Best C: 10, Best ACC: 0.0177, Time: 927.68 seconds\n"
     ]
    },
    {
     "name": "stderr",
     "output_type": "stream",
     "text": [
      "/opt/conda/lib/python3.10/site-packages/sklearn/linear_model/_sag.py:350: ConvergenceWarning: The max_iter was reached which means the coef_ did not converge\n",
      "  warnings.warn(\n",
      "/opt/conda/lib/python3.10/site-packages/sklearn/linear_model/_sag.py:350: ConvergenceWarning: The max_iter was reached which means the coef_ did not converge\n",
      "  warnings.warn(\n",
      "/opt/conda/lib/python3.10/site-packages/sklearn/linear_model/_sag.py:350: ConvergenceWarning: The max_iter was reached which means the coef_ did not converge\n",
      "  warnings.warn(\n",
      "/opt/conda/lib/python3.10/site-packages/sklearn/linear_model/_sag.py:350: ConvergenceWarning: The max_iter was reached which means the coef_ did not converge\n",
      "  warnings.warn(\n"
     ]
    },
    {
     "name": "stdout",
     "output_type": "stream",
     "text": [
      "Year 2009 - Best C: 1, Best ACC: 0.0221, Time: 889.96 seconds\n"
     ]
    },
    {
     "name": "stderr",
     "output_type": "stream",
     "text": [
      "/opt/conda/lib/python3.10/site-packages/sklearn/linear_model/_sag.py:350: ConvergenceWarning: The max_iter was reached which means the coef_ did not converge\n",
      "  warnings.warn(\n",
      "/opt/conda/lib/python3.10/site-packages/sklearn/linear_model/_sag.py:350: ConvergenceWarning: The max_iter was reached which means the coef_ did not converge\n",
      "  warnings.warn(\n",
      "/opt/conda/lib/python3.10/site-packages/sklearn/linear_model/_sag.py:350: ConvergenceWarning: The max_iter was reached which means the coef_ did not converge\n",
      "  warnings.warn(\n",
      "/opt/conda/lib/python3.10/site-packages/sklearn/linear_model/_sag.py:350: ConvergenceWarning: The max_iter was reached which means the coef_ did not converge\n",
      "  warnings.warn(\n"
     ]
    },
    {
     "name": "stdout",
     "output_type": "stream",
     "text": [
      "Year 2010 - Best C: 1, Best ACC: 0.0364, Time: 853.01 seconds\n"
     ]
    },
    {
     "name": "stderr",
     "output_type": "stream",
     "text": [
      "/opt/conda/lib/python3.10/site-packages/sklearn/linear_model/_sag.py:350: ConvergenceWarning: The max_iter was reached which means the coef_ did not converge\n",
      "  warnings.warn(\n",
      "/opt/conda/lib/python3.10/site-packages/sklearn/linear_model/_sag.py:350: ConvergenceWarning: The max_iter was reached which means the coef_ did not converge\n",
      "  warnings.warn(\n",
      "/opt/conda/lib/python3.10/site-packages/sklearn/linear_model/_sag.py:350: ConvergenceWarning: The max_iter was reached which means the coef_ did not converge\n",
      "  warnings.warn(\n",
      "/opt/conda/lib/python3.10/site-packages/sklearn/linear_model/_sag.py:350: ConvergenceWarning: The max_iter was reached which means the coef_ did not converge\n",
      "  warnings.warn(\n"
     ]
    },
    {
     "name": "stdout",
     "output_type": "stream",
     "text": [
      "Year 2011 - Best C: 100, Best ACC: 0.0183, Time: 827.24 seconds\n"
     ]
    },
    {
     "name": "stderr",
     "output_type": "stream",
     "text": [
      "/opt/conda/lib/python3.10/site-packages/sklearn/linear_model/_sag.py:350: ConvergenceWarning: The max_iter was reached which means the coef_ did not converge\n",
      "  warnings.warn(\n",
      "/opt/conda/lib/python3.10/site-packages/sklearn/linear_model/_sag.py:350: ConvergenceWarning: The max_iter was reached which means the coef_ did not converge\n",
      "  warnings.warn(\n",
      "/opt/conda/lib/python3.10/site-packages/sklearn/linear_model/_sag.py:350: ConvergenceWarning: The max_iter was reached which means the coef_ did not converge\n",
      "  warnings.warn(\n",
      "/opt/conda/lib/python3.10/site-packages/sklearn/linear_model/_sag.py:350: ConvergenceWarning: The max_iter was reached which means the coef_ did not converge\n",
      "  warnings.warn(\n"
     ]
    },
    {
     "name": "stdout",
     "output_type": "stream",
     "text": [
      "Year 2012 - Best C: 100, Best ACC: 0.0201, Time: 793.03 seconds\n"
     ]
    },
    {
     "name": "stderr",
     "output_type": "stream",
     "text": [
      "/opt/conda/lib/python3.10/site-packages/sklearn/linear_model/_sag.py:350: ConvergenceWarning: The max_iter was reached which means the coef_ did not converge\n",
      "  warnings.warn(\n",
      "/opt/conda/lib/python3.10/site-packages/sklearn/linear_model/_sag.py:350: ConvergenceWarning: The max_iter was reached which means the coef_ did not converge\n",
      "  warnings.warn(\n",
      "/opt/conda/lib/python3.10/site-packages/sklearn/linear_model/_sag.py:350: ConvergenceWarning: The max_iter was reached which means the coef_ did not converge\n",
      "  warnings.warn(\n",
      "/opt/conda/lib/python3.10/site-packages/sklearn/linear_model/_sag.py:350: ConvergenceWarning: The max_iter was reached which means the coef_ did not converge\n",
      "  warnings.warn(\n"
     ]
    },
    {
     "name": "stdout",
     "output_type": "stream",
     "text": [
      "Year 2013 - Best C: 100, Best ACC: 0.0311, Time: 757.68 seconds\n"
     ]
    },
    {
     "name": "stderr",
     "output_type": "stream",
     "text": [
      "/opt/conda/lib/python3.10/site-packages/sklearn/linear_model/_sag.py:350: ConvergenceWarning: The max_iter was reached which means the coef_ did not converge\n",
      "  warnings.warn(\n",
      "/opt/conda/lib/python3.10/site-packages/sklearn/linear_model/_sag.py:350: ConvergenceWarning: The max_iter was reached which means the coef_ did not converge\n",
      "  warnings.warn(\n",
      "/opt/conda/lib/python3.10/site-packages/sklearn/linear_model/_sag.py:350: ConvergenceWarning: The max_iter was reached which means the coef_ did not converge\n",
      "  warnings.warn(\n",
      "/opt/conda/lib/python3.10/site-packages/sklearn/linear_model/_sag.py:350: ConvergenceWarning: The max_iter was reached which means the coef_ did not converge\n",
      "  warnings.warn(\n"
     ]
    },
    {
     "name": "stdout",
     "output_type": "stream",
     "text": [
      "Year 2014 - Best C: 100, Best ACC: 0.0222, Time: 727.67 seconds\n"
     ]
    },
    {
     "name": "stderr",
     "output_type": "stream",
     "text": [
      "/opt/conda/lib/python3.10/site-packages/sklearn/linear_model/_sag.py:350: ConvergenceWarning: The max_iter was reached which means the coef_ did not converge\n",
      "  warnings.warn(\n",
      "/opt/conda/lib/python3.10/site-packages/sklearn/linear_model/_sag.py:350: ConvergenceWarning: The max_iter was reached which means the coef_ did not converge\n",
      "  warnings.warn(\n",
      "/opt/conda/lib/python3.10/site-packages/sklearn/linear_model/_sag.py:350: ConvergenceWarning: The max_iter was reached which means the coef_ did not converge\n",
      "  warnings.warn(\n",
      "/opt/conda/lib/python3.10/site-packages/sklearn/linear_model/_sag.py:350: ConvergenceWarning: The max_iter was reached which means the coef_ did not converge\n",
      "  warnings.warn(\n"
     ]
    },
    {
     "name": "stdout",
     "output_type": "stream",
     "text": [
      "Year 2015 - Best C: 100, Best ACC: 0.0169, Time: 709.60 seconds\n"
     ]
    },
    {
     "name": "stderr",
     "output_type": "stream",
     "text": [
      "/opt/conda/lib/python3.10/site-packages/sklearn/linear_model/_sag.py:350: ConvergenceWarning: The max_iter was reached which means the coef_ did not converge\n",
      "  warnings.warn(\n",
      "/opt/conda/lib/python3.10/site-packages/sklearn/linear_model/_sag.py:350: ConvergenceWarning: The max_iter was reached which means the coef_ did not converge\n",
      "  warnings.warn(\n",
      "/opt/conda/lib/python3.10/site-packages/sklearn/linear_model/_sag.py:350: ConvergenceWarning: The max_iter was reached which means the coef_ did not converge\n",
      "  warnings.warn(\n",
      "/opt/conda/lib/python3.10/site-packages/sklearn/linear_model/_sag.py:350: ConvergenceWarning: The max_iter was reached which means the coef_ did not converge\n",
      "  warnings.warn(\n"
     ]
    },
    {
     "name": "stdout",
     "output_type": "stream",
     "text": [
      "Year 2016 - Best C: 100, Best ACC: 0.0173, Time: 692.87 seconds\n"
     ]
    },
    {
     "name": "stderr",
     "output_type": "stream",
     "text": [
      "/opt/conda/lib/python3.10/site-packages/sklearn/linear_model/_sag.py:350: ConvergenceWarning: The max_iter was reached which means the coef_ did not converge\n",
      "  warnings.warn(\n",
      "/opt/conda/lib/python3.10/site-packages/sklearn/linear_model/_sag.py:350: ConvergenceWarning: The max_iter was reached which means the coef_ did not converge\n",
      "  warnings.warn(\n",
      "/opt/conda/lib/python3.10/site-packages/sklearn/linear_model/_sag.py:350: ConvergenceWarning: The max_iter was reached which means the coef_ did not converge\n",
      "  warnings.warn(\n",
      "/opt/conda/lib/python3.10/site-packages/sklearn/linear_model/_sag.py:350: ConvergenceWarning: The max_iter was reached which means the coef_ did not converge\n",
      "  warnings.warn(\n"
     ]
    },
    {
     "name": "stdout",
     "output_type": "stream",
     "text": [
      "Year 2017 - Best C: 100, Best ACC: 0.021, Time: 673.17 seconds\n"
     ]
    },
    {
     "name": "stderr",
     "output_type": "stream",
     "text": [
      "/opt/conda/lib/python3.10/site-packages/sklearn/linear_model/_sag.py:350: ConvergenceWarning: The max_iter was reached which means the coef_ did not converge\n",
      "  warnings.warn(\n",
      "/opt/conda/lib/python3.10/site-packages/sklearn/linear_model/_sag.py:350: ConvergenceWarning: The max_iter was reached which means the coef_ did not converge\n",
      "  warnings.warn(\n",
      "/opt/conda/lib/python3.10/site-packages/sklearn/linear_model/_sag.py:350: ConvergenceWarning: The max_iter was reached which means the coef_ did not converge\n",
      "  warnings.warn(\n",
      "/opt/conda/lib/python3.10/site-packages/sklearn/linear_model/_sag.py:350: ConvergenceWarning: The max_iter was reached which means the coef_ did not converge\n",
      "  warnings.warn(\n"
     ]
    },
    {
     "name": "stdout",
     "output_type": "stream",
     "text": [
      "Year 2018 - Best C: 100, Best ACC: 0.0221, Time: 659.13 seconds\n"
     ]
    },
    {
     "name": "stderr",
     "output_type": "stream",
     "text": [
      "/opt/conda/lib/python3.10/site-packages/sklearn/linear_model/_sag.py:350: ConvergenceWarning: The max_iter was reached which means the coef_ did not converge\n",
      "  warnings.warn(\n",
      "/opt/conda/lib/python3.10/site-packages/sklearn/linear_model/_sag.py:350: ConvergenceWarning: The max_iter was reached which means the coef_ did not converge\n",
      "  warnings.warn(\n",
      "/opt/conda/lib/python3.10/site-packages/sklearn/linear_model/_sag.py:350: ConvergenceWarning: The max_iter was reached which means the coef_ did not converge\n",
      "  warnings.warn(\n",
      "/opt/conda/lib/python3.10/site-packages/sklearn/linear_model/_sag.py:350: ConvergenceWarning: The max_iter was reached which means the coef_ did not converge\n",
      "  warnings.warn(\n"
     ]
    },
    {
     "name": "stdout",
     "output_type": "stream",
     "text": [
      "Year 2019 - Best C: 10, Best ACC: 0.0238, Time: 653.39 seconds\n"
     ]
    },
    {
     "name": "stderr",
     "output_type": "stream",
     "text": [
      "/opt/conda/lib/python3.10/site-packages/sklearn/linear_model/_sag.py:350: ConvergenceWarning: The max_iter was reached which means the coef_ did not converge\n",
      "  warnings.warn(\n",
      "/opt/conda/lib/python3.10/site-packages/sklearn/linear_model/_sag.py:350: ConvergenceWarning: The max_iter was reached which means the coef_ did not converge\n",
      "  warnings.warn(\n",
      "/opt/conda/lib/python3.10/site-packages/sklearn/linear_model/_sag.py:350: ConvergenceWarning: The max_iter was reached which means the coef_ did not converge\n",
      "  warnings.warn(\n",
      "/opt/conda/lib/python3.10/site-packages/sklearn/linear_model/_sag.py:350: ConvergenceWarning: The max_iter was reached which means the coef_ did not converge\n",
      "  warnings.warn(\n"
     ]
    },
    {
     "name": "stdout",
     "output_type": "stream",
     "text": [
      "Year 2020 - Best C: 100, Best ACC: 0.0184, Time: 640.47 seconds\n"
     ]
    },
    {
     "name": "stderr",
     "output_type": "stream",
     "text": [
      "/opt/conda/lib/python3.10/site-packages/sklearn/linear_model/_sag.py:350: ConvergenceWarning: The max_iter was reached which means the coef_ did not converge\n",
      "  warnings.warn(\n",
      "/opt/conda/lib/python3.10/site-packages/sklearn/linear_model/_sag.py:350: ConvergenceWarning: The max_iter was reached which means the coef_ did not converge\n",
      "  warnings.warn(\n",
      "/opt/conda/lib/python3.10/site-packages/sklearn/linear_model/_sag.py:350: ConvergenceWarning: The max_iter was reached which means the coef_ did not converge\n",
      "  warnings.warn(\n",
      "/opt/conda/lib/python3.10/site-packages/sklearn/linear_model/_sag.py:350: ConvergenceWarning: The max_iter was reached which means the coef_ did not converge\n",
      "  warnings.warn(\n"
     ]
    },
    {
     "name": "stdout",
     "output_type": "stream",
     "text": [
      "Year 2021 - Best C: 10, Best ACC: 0.0335, Time: 629.65 seconds\n"
     ]
    },
    {
     "name": "stderr",
     "output_type": "stream",
     "text": [
      "/opt/conda/lib/python3.10/site-packages/sklearn/linear_model/_sag.py:350: ConvergenceWarning: The max_iter was reached which means the coef_ did not converge\n",
      "  warnings.warn(\n",
      "/opt/conda/lib/python3.10/site-packages/sklearn/linear_model/_sag.py:350: ConvergenceWarning: The max_iter was reached which means the coef_ did not converge\n",
      "  warnings.warn(\n",
      "/opt/conda/lib/python3.10/site-packages/sklearn/linear_model/_sag.py:350: ConvergenceWarning: The max_iter was reached which means the coef_ did not converge\n",
      "  warnings.warn(\n"
     ]
    },
    {
     "name": "stdout",
     "output_type": "stream",
     "text": [
      "Year 2022 - Best C: 10, Best ACC: 0.045, Time: 613.99 seconds\n",
      "Total time: 36842.77 seconds\n"
     ]
    },
    {
     "name": "stderr",
     "output_type": "stream",
     "text": [
      "/opt/conda/lib/python3.10/site-packages/sklearn/linear_model/_sag.py:350: ConvergenceWarning: The max_iter was reached which means the coef_ did not converge\n",
      "  warnings.warn(\n"
     ]
    }
   ],
   "source": [
    "############################################\n",
    "# LASSO CLASSIFICATION MODEL - MSE\n",
    "############################################\n",
    "\n",
    "model_name = 'lasso_clas_roll5_MSE'  # Name of the new column for storing predictions\n",
    "start_time2 = time.time()  # Start timing\n",
    "\n",
    "\n",
    "# Predefined set of C values for hyperparameter tuning\n",
    "HP1 = [0.01, 0.1, 1, 10, 100] # C\n",
    "\n",
    "# Update the column name for storing Decision Tree regression predictions\n",
    "df[model_name] = np.nan\n",
    "\n",
    "# Ensure the new column is in the prediction_cols list\n",
    "if model_name not in prediction_cols:\n",
    "    prediction_cols.append(model_name)\n",
    "\n",
    "# Define the start year for modeling based on having at least 7 years of data\n",
    "start_modeling_year = df['year'].min() + 6\n",
    "\n",
    "for year in range(start_modeling_year, df['year'].max() + 1):\n",
    "    start_time = time.time()  # Start timing\n",
    "    \n",
    "    # Determine the start year of the training window based on the current year\n",
    "    train_start_year = max(year - rolling_window, df['year'].min())  # Ensure it does not go below the earliest year\n",
    "    \n",
    "    # Select the training data based on the calculated start year\n",
    "    train_data = df[(df['year'] >= train_start_year) & (df['year'] < year)]\n",
    "    \n",
    "    # Split training data into actual training and tuning sets\n",
    "    # Use the last year of the training data for tuning\n",
    "    tuning_data = train_data[train_data['year'] == year - 1]\n",
    "    actual_train_data = train_data[train_data['year'] < year - 1]\n",
    "    \n",
    "    X_train = actual_train_data[X_col]\n",
    "    y_train = actual_train_data['y']\n",
    "    \n",
    "    X_tune = tuning_data[X_col]\n",
    "    y_tune = tuning_data['y']\n",
    "       \n",
    "    best_HP1 = None\n",
    "    best_mse = np.inf  # Initialize the best MSE to infinity\n",
    "    \n",
    "    # Hyperparameter tuning\n",
    "    for hp1 in HP1:\n",
    "        model = LogisticRegression(C=hp1, max_iter=1000, penalty='l1', solver='saga')  # Ridge\n",
    "        model.fit(X_train, y_train)\n",
    "        probabilities = model.predict(X_tune)\n",
    "        mse = mean_squared_error(y_tune, probabilities)  # Calculate MSE\n",
    "        \n",
    "        if mse < best_mse:  # Lower MSE is better\n",
    "            best_mse = mse\n",
    "            best_HP1 = hp1\n",
    "    \n",
    "    \n",
    "    # Retrain on the entire training window (excluding tuning year) with the best C value\n",
    "    model = LogisticRegression(C=best_HP1, max_iter=1000, penalty='l1', solver='saga')\n",
    "    model.fit(X_train, y_train)\n",
    "    \n",
    "    # Predict for the next year\n",
    "    next_year_data = df[df['year'] == year]\n",
    "    X_next_year = next_year_data[X_col]\n",
    "    \n",
    "    if not X_next_year.empty:\n",
    "        next_year_probabilities = model.predict_proba(X_next_year)[:, 1]  # Probability of the positive class\n",
    "        df.loc[df['year'] == year, model_name] = next_year_probabilities\n",
    "    \n",
    "    end_time = time.time()  # End timing\n",
    "    iteration_time = end_time - start_time  # Calculate iteration time\n",
    "    \n",
    "    print(f\"Year {year} - Best C: {best_HP1}, Best ACC: {round(best_mse,4)}, Time: {iteration_time:.2f} seconds\")\n",
    "\n",
    "\n",
    "end_time2 = time.time()  # End timing\n",
    "print(f\"Total time: {end_time2 - start_time2:.2f} seconds\")"
   ]
  },
  {
   "cell_type": "markdown",
   "id": "6ea46f1c",
   "metadata": {
    "papermill": {
     "duration": 0.0249,
     "end_time": "2024-03-01T00:29:40.791573",
     "exception": false,
     "start_time": "2024-03-01T00:29:40.766673",
     "status": "completed"
    },
    "tags": []
   },
   "source": [
    "## Forming Portfolios, Value-weighted portfolio returns"
   ]
  },
  {
   "cell_type": "code",
   "execution_count": 9,
   "id": "4f8f3303",
   "metadata": {
    "execution": {
     "iopub.execute_input": "2024-03-01T00:29:40.837961Z",
     "iopub.status.busy": "2024-03-01T00:29:40.837609Z",
     "iopub.status.idle": "2024-03-01T00:29:40.875494Z",
     "shell.execute_reply": "2024-03-01T00:29:40.874544Z"
    },
    "papermill": {
     "duration": 0.060445,
     "end_time": "2024-03-01T00:29:40.877091",
     "exception": false,
     "start_time": "2024-03-01T00:29:40.816646",
     "status": "completed"
    },
    "tags": []
   },
   "outputs": [
    {
     "data": {
      "text/html": [
       "<div>\n",
       "<style scoped>\n",
       "    .dataframe tbody tr th:only-of-type {\n",
       "        vertical-align: middle;\n",
       "    }\n",
       "\n",
       "    .dataframe tbody tr th {\n",
       "        vertical-align: top;\n",
       "    }\n",
       "\n",
       "    .dataframe thead th {\n",
       "        text-align: right;\n",
       "    }\n",
       "</style>\n",
       "<table border=\"1\" class=\"dataframe\">\n",
       "  <thead>\n",
       "    <tr style=\"text-align: right;\">\n",
       "      <th></th>\n",
       "      <th>PERMNO</th>\n",
       "      <th>date</th>\n",
       "      <th>y</th>\n",
       "      <th>RET</th>\n",
       "      <th>LME</th>\n",
       "      <th>ME</th>\n",
       "      <th>bull_D</th>\n",
       "      <th>bear_D</th>\n",
       "      <th>bull_W</th>\n",
       "      <th>bear_W</th>\n",
       "      <th>bull_M</th>\n",
       "      <th>bear_M</th>\n",
       "      <th>SPREAD_L</th>\n",
       "      <th>LTURNOVER</th>\n",
       "      <th>IVOL</th>\n",
       "      <th>IVOL2</th>\n",
       "      <th>IVOL3</th>\n",
       "      <th>STR</th>\n",
       "      <th>LTR</th>\n",
       "      <th>IMOM</th>\n",
       "      <th>MOM</th>\n",
       "      <th>PCTHIGH</th>\n",
       "      <th>MVOL</th>\n",
       "      <th>MVOL2</th>\n",
       "      <th>MVOL3</th>\n",
       "      <th>LMKT</th>\n",
       "      <th>LMKT2</th>\n",
       "      <th>LMKT3</th>\n",
       "      <th>MMOM</th>\n",
       "      <th>MIMOM</th>\n",
       "      <th>MLTR</th>\n",
       "      <th>release_L</th>\n",
       "      <th>LAT</th>\n",
       "      <th>DPI2A_L</th>\n",
       "      <th>CTO_L</th>\n",
       "      <th>D2A_L</th>\n",
       "      <th>NOA_L</th>\n",
       "      <th>OL_L</th>\n",
       "      <th>PCM_L</th>\n",
       "      <th>FC2Y_L</th>\n",
       "      <th>INVEST_L</th>\n",
       "      <th>RNA_L</th>\n",
       "      <th>S2E_L</th>\n",
       "      <th>PROF_L</th>\n",
       "      <th>PM_L</th>\n",
       "      <th>ATO_L</th>\n",
       "      <th>ROA_L</th>\n",
       "      <th>FCF_L</th>\n",
       "      <th>A2ME_L</th>\n",
       "      <th>B2ME_L</th>\n",
       "      <th>S2P_L</th>\n",
       "      <th>ROE_L</th>\n",
       "      <th>LEV_L</th>\n",
       "      <th>TQ_L</th>\n",
       "      <th>year</th>\n",
       "      <th>lasso_clas_roll5_MSE</th>\n",
       "    </tr>\n",
       "  </thead>\n",
       "  <tbody>\n",
       "    <tr>\n",
       "      <th>0</th>\n",
       "      <td>31464</td>\n",
       "      <td>1970-04-30</td>\n",
       "      <td>0</td>\n",
       "      <td>-0.102941</td>\n",
       "      <td>41412.0</td>\n",
       "      <td>37149.0</td>\n",
       "      <td>0.0</td>\n",
       "      <td>0.000000</td>\n",
       "      <td>0.0</td>\n",
       "      <td>0.166667</td>\n",
       "      <td>0.0</td>\n",
       "      <td>0.416667</td>\n",
       "      <td>0.003421</td>\n",
       "      <td>0.000006</td>\n",
       "      <td>0.000046</td>\n",
       "      <td>0.000034</td>\n",
       "      <td>0.000047</td>\n",
       "      <td>0.039638</td>\n",
       "      <td>0.731272</td>\n",
       "      <td>0.612170</td>\n",
       "      <td>0.670081</td>\n",
       "      <td>0.413984</td>\n",
       "      <td>0.012852</td>\n",
       "      <td>0.012583</td>\n",
       "      <td>0.010420</td>\n",
       "      <td>0.564331</td>\n",
       "      <td>0.723312</td>\n",
       "      <td>0.385732</td>\n",
       "      <td>0.408401</td>\n",
       "      <td>0.496787</td>\n",
       "      <td>0.647683</td>\n",
       "      <td>1.0</td>\n",
       "      <td>0.000119</td>\n",
       "      <td>0.006682</td>\n",
       "      <td>0.000433</td>\n",
       "      <td>0.000149</td>\n",
       "      <td>0.000386</td>\n",
       "      <td>0.00062</td>\n",
       "      <td>0.907359</td>\n",
       "      <td>0.105362</td>\n",
       "      <td>0.000386</td>\n",
       "      <td>0.261588</td>\n",
       "      <td>0.217478</td>\n",
       "      <td>0.304686</td>\n",
       "      <td>0.956350</td>\n",
       "      <td>0.008189</td>\n",
       "      <td>0.785605</td>\n",
       "      <td>0.141009</td>\n",
       "      <td>0.001061</td>\n",
       "      <td>0.797682</td>\n",
       "      <td>0.010881</td>\n",
       "      <td>0.522705</td>\n",
       "      <td>0.000224</td>\n",
       "      <td>0.000016</td>\n",
       "      <td>1970</td>\n",
       "      <td>NaN</td>\n",
       "    </tr>\n",
       "    <tr>\n",
       "      <th>1</th>\n",
       "      <td>31464</td>\n",
       "      <td>1970-05-31</td>\n",
       "      <td>0</td>\n",
       "      <td>-0.065574</td>\n",
       "      <td>37149.0</td>\n",
       "      <td>34713.0</td>\n",
       "      <td>0.0</td>\n",
       "      <td>0.000000</td>\n",
       "      <td>0.0</td>\n",
       "      <td>0.000000</td>\n",
       "      <td>0.0</td>\n",
       "      <td>0.500000</td>\n",
       "      <td>0.004576</td>\n",
       "      <td>0.000006</td>\n",
       "      <td>0.000013</td>\n",
       "      <td>0.000046</td>\n",
       "      <td>0.000034</td>\n",
       "      <td>0.035635</td>\n",
       "      <td>0.722584</td>\n",
       "      <td>0.625955</td>\n",
       "      <td>0.672735</td>\n",
       "      <td>0.400651</td>\n",
       "      <td>0.017869</td>\n",
       "      <td>0.012852</td>\n",
       "      <td>0.012583</td>\n",
       "      <td>0.309299</td>\n",
       "      <td>0.564331</td>\n",
       "      <td>0.723312</td>\n",
       "      <td>0.385646</td>\n",
       "      <td>0.535558</td>\n",
       "      <td>0.630483</td>\n",
       "      <td>0.0</td>\n",
       "      <td>0.000119</td>\n",
       "      <td>0.006682</td>\n",
       "      <td>0.000433</td>\n",
       "      <td>0.000149</td>\n",
       "      <td>0.000386</td>\n",
       "      <td>0.00062</td>\n",
       "      <td>0.907359</td>\n",
       "      <td>0.105362</td>\n",
       "      <td>0.000386</td>\n",
       "      <td>0.261588</td>\n",
       "      <td>0.217478</td>\n",
       "      <td>0.304686</td>\n",
       "      <td>0.956350</td>\n",
       "      <td>0.008189</td>\n",
       "      <td>0.785605</td>\n",
       "      <td>0.141009</td>\n",
       "      <td>0.001061</td>\n",
       "      <td>0.797682</td>\n",
       "      <td>0.010881</td>\n",
       "      <td>0.522707</td>\n",
       "      <td>0.000250</td>\n",
       "      <td>0.000014</td>\n",
       "      <td>1970</td>\n",
       "      <td>NaN</td>\n",
       "    </tr>\n",
       "    <tr>\n",
       "      <th>2</th>\n",
       "      <td>31464</td>\n",
       "      <td>1970-06-30</td>\n",
       "      <td>0</td>\n",
       "      <td>-0.143860</td>\n",
       "      <td>34713.0</td>\n",
       "      <td>29232.0</td>\n",
       "      <td>0.0</td>\n",
       "      <td>0.000000</td>\n",
       "      <td>0.0</td>\n",
       "      <td>0.250000</td>\n",
       "      <td>0.0</td>\n",
       "      <td>0.583333</td>\n",
       "      <td>0.006530</td>\n",
       "      <td>0.000008</td>\n",
       "      <td>0.000062</td>\n",
       "      <td>0.000013</td>\n",
       "      <td>0.000046</td>\n",
       "      <td>0.037131</td>\n",
       "      <td>0.721443</td>\n",
       "      <td>0.622612</td>\n",
       "      <td>0.670797</td>\n",
       "      <td>0.455396</td>\n",
       "      <td>0.127382</td>\n",
       "      <td>0.017869</td>\n",
       "      <td>0.012852</td>\n",
       "      <td>0.414013</td>\n",
       "      <td>0.309299</td>\n",
       "      <td>0.564331</td>\n",
       "      <td>0.279599</td>\n",
       "      <td>0.494936</td>\n",
       "      <td>0.666119</td>\n",
       "      <td>0.0</td>\n",
       "      <td>0.000119</td>\n",
       "      <td>0.006682</td>\n",
       "      <td>0.000433</td>\n",
       "      <td>0.000149</td>\n",
       "      <td>0.000386</td>\n",
       "      <td>0.00062</td>\n",
       "      <td>0.907359</td>\n",
       "      <td>0.105362</td>\n",
       "      <td>0.000386</td>\n",
       "      <td>0.261588</td>\n",
       "      <td>0.217478</td>\n",
       "      <td>0.304686</td>\n",
       "      <td>0.956350</td>\n",
       "      <td>0.008189</td>\n",
       "      <td>0.785605</td>\n",
       "      <td>0.141009</td>\n",
       "      <td>0.001061</td>\n",
       "      <td>0.797682</td>\n",
       "      <td>0.010881</td>\n",
       "      <td>0.522708</td>\n",
       "      <td>0.000267</td>\n",
       "      <td>0.000013</td>\n",
       "      <td>1970</td>\n",
       "      <td>NaN</td>\n",
       "    </tr>\n",
       "    <tr>\n",
       "      <th>3</th>\n",
       "      <td>31464</td>\n",
       "      <td>1970-07-31</td>\n",
       "      <td>0</td>\n",
       "      <td>-0.125000</td>\n",
       "      <td>29232.0</td>\n",
       "      <td>25578.0</td>\n",
       "      <td>0.0</td>\n",
       "      <td>0.083333</td>\n",
       "      <td>0.0</td>\n",
       "      <td>0.000000</td>\n",
       "      <td>0.0</td>\n",
       "      <td>0.666667</td>\n",
       "      <td>0.004847</td>\n",
       "      <td>0.000004</td>\n",
       "      <td>0.000020</td>\n",
       "      <td>0.000062</td>\n",
       "      <td>0.000013</td>\n",
       "      <td>0.033998</td>\n",
       "      <td>0.698329</td>\n",
       "      <td>0.624735</td>\n",
       "      <td>0.678001</td>\n",
       "      <td>0.447986</td>\n",
       "      <td>0.035887</td>\n",
       "      <td>0.127382</td>\n",
       "      <td>0.017869</td>\n",
       "      <td>0.444076</td>\n",
       "      <td>0.414013</td>\n",
       "      <td>0.309299</td>\n",
       "      <td>0.282368</td>\n",
       "      <td>0.548597</td>\n",
       "      <td>0.589858</td>\n",
       "      <td>1.0</td>\n",
       "      <td>0.000119</td>\n",
       "      <td>0.006682</td>\n",
       "      <td>0.000424</td>\n",
       "      <td>0.000149</td>\n",
       "      <td>0.000386</td>\n",
       "      <td>0.00062</td>\n",
       "      <td>0.907347</td>\n",
       "      <td>0.105364</td>\n",
       "      <td>0.000386</td>\n",
       "      <td>0.261588</td>\n",
       "      <td>0.217477</td>\n",
       "      <td>0.304686</td>\n",
       "      <td>0.956351</td>\n",
       "      <td>0.008181</td>\n",
       "      <td>0.785544</td>\n",
       "      <td>0.140986</td>\n",
       "      <td>0.001061</td>\n",
       "      <td>0.797682</td>\n",
       "      <td>0.010711</td>\n",
       "      <td>0.522684</td>\n",
       "      <td>0.000316</td>\n",
       "      <td>0.000011</td>\n",
       "      <td>1970</td>\n",
       "      <td>NaN</td>\n",
       "    </tr>\n",
       "    <tr>\n",
       "      <th>4</th>\n",
       "      <td>31464</td>\n",
       "      <td>1970-08-31</td>\n",
       "      <td>1</td>\n",
       "      <td>0.047619</td>\n",
       "      <td>25578.0</td>\n",
       "      <td>26796.0</td>\n",
       "      <td>0.0</td>\n",
       "      <td>0.000000</td>\n",
       "      <td>0.0</td>\n",
       "      <td>0.000000</td>\n",
       "      <td>0.0</td>\n",
       "      <td>0.000000</td>\n",
       "      <td>0.003877</td>\n",
       "      <td>0.000005</td>\n",
       "      <td>0.000047</td>\n",
       "      <td>0.000020</td>\n",
       "      <td>0.000062</td>\n",
       "      <td>0.034753</td>\n",
       "      <td>0.687449</td>\n",
       "      <td>0.638067</td>\n",
       "      <td>0.679698</td>\n",
       "      <td>0.391849</td>\n",
       "      <td>0.023573</td>\n",
       "      <td>0.035887</td>\n",
       "      <td>0.127382</td>\n",
       "      <td>0.766624</td>\n",
       "      <td>0.444076</td>\n",
       "      <td>0.414013</td>\n",
       "      <td>0.294738</td>\n",
       "      <td>0.536452</td>\n",
       "      <td>0.498298</td>\n",
       "      <td>0.0</td>\n",
       "      <td>0.000119</td>\n",
       "      <td>0.006682</td>\n",
       "      <td>0.000424</td>\n",
       "      <td>0.000149</td>\n",
       "      <td>0.000386</td>\n",
       "      <td>0.00062</td>\n",
       "      <td>0.907347</td>\n",
       "      <td>0.105364</td>\n",
       "      <td>0.000386</td>\n",
       "      <td>0.261588</td>\n",
       "      <td>0.217477</td>\n",
       "      <td>0.304686</td>\n",
       "      <td>0.956351</td>\n",
       "      <td>0.008181</td>\n",
       "      <td>0.785544</td>\n",
       "      <td>0.140986</td>\n",
       "      <td>0.001061</td>\n",
       "      <td>0.797682</td>\n",
       "      <td>0.010711</td>\n",
       "      <td>0.522684</td>\n",
       "      <td>0.000361</td>\n",
       "      <td>0.000010</td>\n",
       "      <td>1970</td>\n",
       "      <td>NaN</td>\n",
       "    </tr>\n",
       "  </tbody>\n",
       "</table>\n",
       "</div>"
      ],
      "text/plain": [
       "   PERMNO       date  y       RET      LME       ME  bull_D    bear_D  bull_W  \\\n",
       "0   31464 1970-04-30  0 -0.102941  41412.0  37149.0     0.0  0.000000     0.0   \n",
       "1   31464 1970-05-31  0 -0.065574  37149.0  34713.0     0.0  0.000000     0.0   \n",
       "2   31464 1970-06-30  0 -0.143860  34713.0  29232.0     0.0  0.000000     0.0   \n",
       "3   31464 1970-07-31  0 -0.125000  29232.0  25578.0     0.0  0.083333     0.0   \n",
       "4   31464 1970-08-31  1  0.047619  25578.0  26796.0     0.0  0.000000     0.0   \n",
       "\n",
       "     bear_W  bull_M    bear_M  SPREAD_L  LTURNOVER      IVOL     IVOL2  \\\n",
       "0  0.166667     0.0  0.416667  0.003421   0.000006  0.000046  0.000034   \n",
       "1  0.000000     0.0  0.500000  0.004576   0.000006  0.000013  0.000046   \n",
       "2  0.250000     0.0  0.583333  0.006530   0.000008  0.000062  0.000013   \n",
       "3  0.000000     0.0  0.666667  0.004847   0.000004  0.000020  0.000062   \n",
       "4  0.000000     0.0  0.000000  0.003877   0.000005  0.000047  0.000020   \n",
       "\n",
       "      IVOL3       STR       LTR      IMOM       MOM   PCTHIGH      MVOL  \\\n",
       "0  0.000047  0.039638  0.731272  0.612170  0.670081  0.413984  0.012852   \n",
       "1  0.000034  0.035635  0.722584  0.625955  0.672735  0.400651  0.017869   \n",
       "2  0.000046  0.037131  0.721443  0.622612  0.670797  0.455396  0.127382   \n",
       "3  0.000013  0.033998  0.698329  0.624735  0.678001  0.447986  0.035887   \n",
       "4  0.000062  0.034753  0.687449  0.638067  0.679698  0.391849  0.023573   \n",
       "\n",
       "      MVOL2     MVOL3      LMKT     LMKT2     LMKT3      MMOM     MIMOM  \\\n",
       "0  0.012583  0.010420  0.564331  0.723312  0.385732  0.408401  0.496787   \n",
       "1  0.012852  0.012583  0.309299  0.564331  0.723312  0.385646  0.535558   \n",
       "2  0.017869  0.012852  0.414013  0.309299  0.564331  0.279599  0.494936   \n",
       "3  0.127382  0.017869  0.444076  0.414013  0.309299  0.282368  0.548597   \n",
       "4  0.035887  0.127382  0.766624  0.444076  0.414013  0.294738  0.536452   \n",
       "\n",
       "       MLTR  release_L       LAT   DPI2A_L     CTO_L     D2A_L     NOA_L  \\\n",
       "0  0.647683        1.0  0.000119  0.006682  0.000433  0.000149  0.000386   \n",
       "1  0.630483        0.0  0.000119  0.006682  0.000433  0.000149  0.000386   \n",
       "2  0.666119        0.0  0.000119  0.006682  0.000433  0.000149  0.000386   \n",
       "3  0.589858        1.0  0.000119  0.006682  0.000424  0.000149  0.000386   \n",
       "4  0.498298        0.0  0.000119  0.006682  0.000424  0.000149  0.000386   \n",
       "\n",
       "      OL_L     PCM_L    FC2Y_L  INVEST_L     RNA_L     S2E_L    PROF_L  \\\n",
       "0  0.00062  0.907359  0.105362  0.000386  0.261588  0.217478  0.304686   \n",
       "1  0.00062  0.907359  0.105362  0.000386  0.261588  0.217478  0.304686   \n",
       "2  0.00062  0.907359  0.105362  0.000386  0.261588  0.217478  0.304686   \n",
       "3  0.00062  0.907347  0.105364  0.000386  0.261588  0.217477  0.304686   \n",
       "4  0.00062  0.907347  0.105364  0.000386  0.261588  0.217477  0.304686   \n",
       "\n",
       "       PM_L     ATO_L     ROA_L     FCF_L    A2ME_L    B2ME_L     S2P_L  \\\n",
       "0  0.956350  0.008189  0.785605  0.141009  0.001061  0.797682  0.010881   \n",
       "1  0.956350  0.008189  0.785605  0.141009  0.001061  0.797682  0.010881   \n",
       "2  0.956350  0.008189  0.785605  0.141009  0.001061  0.797682  0.010881   \n",
       "3  0.956351  0.008181  0.785544  0.140986  0.001061  0.797682  0.010711   \n",
       "4  0.956351  0.008181  0.785544  0.140986  0.001061  0.797682  0.010711   \n",
       "\n",
       "      ROE_L     LEV_L      TQ_L  year  lasso_clas_roll5_MSE  \n",
       "0  0.522705  0.000224  0.000016  1970                   NaN  \n",
       "1  0.522707  0.000250  0.000014  1970                   NaN  \n",
       "2  0.522708  0.000267  0.000013  1970                   NaN  \n",
       "3  0.522684  0.000316  0.000011  1970                   NaN  \n",
       "4  0.522684  0.000361  0.000010  1970                   NaN  "
      ]
     },
     "execution_count": 9,
     "metadata": {},
     "output_type": "execute_result"
    }
   ],
   "source": [
    "df.head()"
   ]
  },
  {
   "cell_type": "code",
   "execution_count": 10,
   "id": "373343bc",
   "metadata": {
    "execution": {
     "iopub.execute_input": "2024-03-01T00:29:40.917800Z",
     "iopub.status.busy": "2024-03-01T00:29:40.917483Z",
     "iopub.status.idle": "2024-03-01T00:29:40.922268Z",
     "shell.execute_reply": "2024-03-01T00:29:40.921568Z"
    },
    "papermill": {
     "duration": 0.026814,
     "end_time": "2024-03-01T00:29:40.923787",
     "exception": false,
     "start_time": "2024-03-01T00:29:40.896973",
     "status": "completed"
    },
    "tags": []
   },
   "outputs": [
    {
     "data": {
      "text/plain": [
       "['lasso_clas_roll5_MSE']"
      ]
     },
     "execution_count": 10,
     "metadata": {},
     "output_type": "execute_result"
    }
   ],
   "source": [
    "prediction_cols\n",
    "# prediction_cols = ['logit_default','OLS_default','logit_roll6','DT_reg_roll']"
   ]
  },
  {
   "cell_type": "code",
   "execution_count": 11,
   "id": "ac4f5663",
   "metadata": {
    "execution": {
     "iopub.execute_input": "2024-03-01T00:29:40.963920Z",
     "iopub.status.busy": "2024-03-01T00:29:40.963679Z",
     "iopub.status.idle": "2024-03-01T00:29:41.058194Z",
     "shell.execute_reply": "2024-03-01T00:29:41.056845Z"
    },
    "papermill": {
     "duration": 0.116517,
     "end_time": "2024-03-01T00:29:41.060062",
     "exception": false,
     "start_time": "2024-03-01T00:29:40.943545",
     "status": "completed"
    },
    "tags": []
   },
   "outputs": [
    {
     "data": {
      "text/html": [
       "<div>\n",
       "<style scoped>\n",
       "    .dataframe tbody tr th:only-of-type {\n",
       "        vertical-align: middle;\n",
       "    }\n",
       "\n",
       "    .dataframe tbody tr th {\n",
       "        vertical-align: top;\n",
       "    }\n",
       "\n",
       "    .dataframe thead th {\n",
       "        text-align: right;\n",
       "    }\n",
       "</style>\n",
       "<table border=\"1\" class=\"dataframe\">\n",
       "  <thead>\n",
       "    <tr style=\"text-align: right;\">\n",
       "      <th></th>\n",
       "      <th>date</th>\n",
       "      <th>RET</th>\n",
       "      <th>ME</th>\n",
       "      <th>y</th>\n",
       "      <th>lasso_clas_roll5_MSE</th>\n",
       "    </tr>\n",
       "  </thead>\n",
       "  <tbody>\n",
       "    <tr>\n",
       "      <th>80751</th>\n",
       "      <td>1976-01-31</td>\n",
       "      <td>0.147541</td>\n",
       "      <td>99391.25</td>\n",
       "      <td>1</td>\n",
       "      <td>0.875884</td>\n",
       "    </tr>\n",
       "    <tr>\n",
       "      <th>80752</th>\n",
       "      <td>1976-01-31</td>\n",
       "      <td>0.266187</td>\n",
       "      <td>87802.00</td>\n",
       "      <td>1</td>\n",
       "      <td>0.979566</td>\n",
       "    </tr>\n",
       "    <tr>\n",
       "      <th>80753</th>\n",
       "      <td>1976-01-31</td>\n",
       "      <td>0.124031</td>\n",
       "      <td>113172.50</td>\n",
       "      <td>1</td>\n",
       "      <td>1.000000</td>\n",
       "    </tr>\n",
       "    <tr>\n",
       "      <th>80754</th>\n",
       "      <td>1976-01-31</td>\n",
       "      <td>0.319444</td>\n",
       "      <td>12801.25</td>\n",
       "      <td>1</td>\n",
       "      <td>1.000000</td>\n",
       "    </tr>\n",
       "    <tr>\n",
       "      <th>80755</th>\n",
       "      <td>1976-01-31</td>\n",
       "      <td>0.000000</td>\n",
       "      <td>8228.50</td>\n",
       "      <td>0</td>\n",
       "      <td>0.063539</td>\n",
       "    </tr>\n",
       "  </tbody>\n",
       "</table>\n",
       "</div>"
      ],
      "text/plain": [
       "            date       RET         ME  y  lasso_clas_roll5_MSE\n",
       "80751 1976-01-31  0.147541   99391.25  1              0.875884\n",
       "80752 1976-01-31  0.266187   87802.00  1              0.979566\n",
       "80753 1976-01-31  0.124031  113172.50  1              1.000000\n",
       "80754 1976-01-31  0.319444   12801.25  1              1.000000\n",
       "80755 1976-01-31  0.000000    8228.50  0              0.063539"
      ]
     },
     "execution_count": 11,
     "metadata": {},
     "output_type": "execute_result"
    }
   ],
   "source": [
    "portfolio = df[['date', 'RET', 'ME', 'y'] + prediction_cols].copy()\n",
    "portfolio['date'] = pd.to_datetime(portfolio['date'])\n",
    "\n",
    "# drop rows with missing values\n",
    "portfolio.dropna(inplace=True)\n",
    "\n",
    "portfolio.head()"
   ]
  },
  {
   "cell_type": "code",
   "execution_count": 12,
   "id": "1cc69f60",
   "metadata": {
    "execution": {
     "iopub.execute_input": "2024-03-01T00:29:41.102576Z",
     "iopub.status.busy": "2024-03-01T00:29:41.102209Z",
     "iopub.status.idle": "2024-03-01T00:29:41.111560Z",
     "shell.execute_reply": "2024-03-01T00:29:41.110839Z"
    },
    "papermill": {
     "duration": 0.032352,
     "end_time": "2024-03-01T00:29:41.113207",
     "exception": false,
     "start_time": "2024-03-01T00:29:41.080855",
     "status": "completed"
    },
    "tags": []
   },
   "outputs": [
    {
     "data": {
      "text/html": [
       "<div>\n",
       "<style scoped>\n",
       "    .dataframe tbody tr th:only-of-type {\n",
       "        vertical-align: middle;\n",
       "    }\n",
       "\n",
       "    .dataframe tbody tr th {\n",
       "        vertical-align: top;\n",
       "    }\n",
       "\n",
       "    .dataframe thead th {\n",
       "        text-align: right;\n",
       "    }\n",
       "</style>\n",
       "<table border=\"1\" class=\"dataframe\">\n",
       "  <thead>\n",
       "    <tr style=\"text-align: right;\">\n",
       "      <th></th>\n",
       "      <th>date</th>\n",
       "      <th>RET</th>\n",
       "      <th>ME</th>\n",
       "      <th>y</th>\n",
       "      <th>lasso_clas_roll5_MSE</th>\n",
       "    </tr>\n",
       "  </thead>\n",
       "  <tbody>\n",
       "    <tr>\n",
       "      <th>1795158</th>\n",
       "      <td>2022-07-31</td>\n",
       "      <td>-0.211268</td>\n",
       "      <td>3.603768e+05</td>\n",
       "      <td>0</td>\n",
       "      <td>0.003037</td>\n",
       "    </tr>\n",
       "    <tr>\n",
       "      <th>1795159</th>\n",
       "      <td>2022-07-31</td>\n",
       "      <td>0.020794</td>\n",
       "      <td>9.562860e+05</td>\n",
       "      <td>1</td>\n",
       "      <td>1.000000</td>\n",
       "    </tr>\n",
       "    <tr>\n",
       "      <th>1795160</th>\n",
       "      <td>2022-07-31</td>\n",
       "      <td>0.066548</td>\n",
       "      <td>9.219528e+05</td>\n",
       "      <td>1</td>\n",
       "      <td>0.982230</td>\n",
       "    </tr>\n",
       "    <tr>\n",
       "      <th>1795161</th>\n",
       "      <td>2022-07-31</td>\n",
       "      <td>0.087452</td>\n",
       "      <td>1.216028e+05</td>\n",
       "      <td>1</td>\n",
       "      <td>0.999221</td>\n",
       "    </tr>\n",
       "    <tr>\n",
       "      <th>1795162</th>\n",
       "      <td>2022-07-31</td>\n",
       "      <td>0.323765</td>\n",
       "      <td>9.311106e+08</td>\n",
       "      <td>1</td>\n",
       "      <td>0.998633</td>\n",
       "    </tr>\n",
       "  </tbody>\n",
       "</table>\n",
       "</div>"
      ],
      "text/plain": [
       "              date       RET            ME  y  lasso_clas_roll5_MSE\n",
       "1795158 2022-07-31 -0.211268  3.603768e+05  0              0.003037\n",
       "1795159 2022-07-31  0.020794  9.562860e+05  1              1.000000\n",
       "1795160 2022-07-31  0.066548  9.219528e+05  1              0.982230\n",
       "1795161 2022-07-31  0.087452  1.216028e+05  1              0.999221\n",
       "1795162 2022-07-31  0.323765  9.311106e+08  1              0.998633"
      ]
     },
     "execution_count": 12,
     "metadata": {},
     "output_type": "execute_result"
    }
   ],
   "source": [
    "portfolio.tail()"
   ]
  },
  {
   "cell_type": "code",
   "execution_count": 13,
   "id": "377c7c7e",
   "metadata": {
    "execution": {
     "iopub.execute_input": "2024-03-01T00:29:41.154227Z",
     "iopub.status.busy": "2024-03-01T00:29:41.153949Z",
     "iopub.status.idle": "2024-03-01T00:29:42.342165Z",
     "shell.execute_reply": "2024-03-01T00:29:42.341509Z"
    },
    "papermill": {
     "duration": 1.210666,
     "end_time": "2024-03-01T00:29:42.344062",
     "exception": false,
     "start_time": "2024-03-01T00:29:41.133396",
     "status": "completed"
    },
    "tags": []
   },
   "outputs": [
    {
     "name": "stderr",
     "output_type": "stream",
     "text": [
      "/tmp/ipykernel_18/2999037948.py:15: DeprecationWarning: DataFrameGroupBy.apply operated on the grouping columns. This behavior is deprecated, and in a future version of pandas the grouping columns will be excluded from the operation. Either pass `include_groups=False` to exclude the groupings or explicitly select the grouping columns after groupby to silence this warning.\n",
      "  vwreturns_temp = portfolio.groupby('date').apply(lambda x: np.sum(x['RET'] * x['ME'] * x[position_col]) / np.sum(x['ME'])).reset_index(name=vwret_col)\n"
     ]
    }
   ],
   "source": [
    "# Initialize an empty DataFrame to store value-weighted returns for each model\n",
    "vwreturns = pd.DataFrame(portfolio['date'].unique(), columns=['date'])  # Ensures all dates are included\n",
    "\n",
    "for pred_col in prediction_cols:\n",
    "    # Calculate deciles for this prediction\n",
    "    decile_col = f'decile_{pred_col}'\n",
    "    portfolio[decile_col] = portfolio.groupby(['date'])[pred_col].transform(lambda x: pd.qcut(x, 10, labels=False, duplicates='drop'))\n",
    "    \n",
    "    # Determine position based on deciles\n",
    "    position_col = f'position_{pred_col}'\n",
    "    portfolio[position_col] = np.where(portfolio[decile_col] == 9, 1, np.where(portfolio[decile_col] == 0, -1, 0))\n",
    "    \n",
    "    # Calculate the value-weighted return for this prediction\n",
    "    vwret_col = f'vwreturn_{pred_col}'\n",
    "    vwreturns_temp = portfolio.groupby('date').apply(lambda x: np.sum(x['RET'] * x['ME'] * x[position_col]) / np.sum(x['ME'])).reset_index(name=vwret_col)\n",
    "    \n",
    "    # Merge the temporary value-weighted returns with the main vwreturns DataFrame\n",
    "    vwreturns = vwreturns.merge(vwreturns_temp, on='date', how='left')\n",
    "\n",
    "# Ensure the 'date' column is the first column and is sorted\n",
    "vwreturns = vwreturns.sort_values('date').reset_index(drop=True)\n"
   ]
  },
  {
   "cell_type": "code",
   "execution_count": 14,
   "id": "be09c9f9",
   "metadata": {
    "execution": {
     "iopub.execute_input": "2024-03-01T00:29:42.386952Z",
     "iopub.status.busy": "2024-03-01T00:29:42.386170Z",
     "iopub.status.idle": "2024-03-01T00:29:42.395002Z",
     "shell.execute_reply": "2024-03-01T00:29:42.394132Z"
    },
    "papermill": {
     "duration": 0.032003,
     "end_time": "2024-03-01T00:29:42.396918",
     "exception": false,
     "start_time": "2024-03-01T00:29:42.364915",
     "status": "completed"
    },
    "tags": []
   },
   "outputs": [
    {
     "data": {
      "text/html": [
       "<div>\n",
       "<style scoped>\n",
       "    .dataframe tbody tr th:only-of-type {\n",
       "        vertical-align: middle;\n",
       "    }\n",
       "\n",
       "    .dataframe tbody tr th {\n",
       "        vertical-align: top;\n",
       "    }\n",
       "\n",
       "    .dataframe thead th {\n",
       "        text-align: right;\n",
       "    }\n",
       "</style>\n",
       "<table border=\"1\" class=\"dataframe\">\n",
       "  <thead>\n",
       "    <tr style=\"text-align: right;\">\n",
       "      <th></th>\n",
       "      <th>date</th>\n",
       "      <th>vwreturn_lasso_clas_roll5_MSE</th>\n",
       "    </tr>\n",
       "  </thead>\n",
       "  <tbody>\n",
       "    <tr>\n",
       "      <th>0</th>\n",
       "      <td>1976-01-31</td>\n",
       "      <td>-0.001181</td>\n",
       "    </tr>\n",
       "    <tr>\n",
       "      <th>1</th>\n",
       "      <td>1976-02-29</td>\n",
       "      <td>0.003720</td>\n",
       "    </tr>\n",
       "    <tr>\n",
       "      <th>2</th>\n",
       "      <td>1976-03-31</td>\n",
       "      <td>0.002116</td>\n",
       "    </tr>\n",
       "    <tr>\n",
       "      <th>3</th>\n",
       "      <td>1976-04-30</td>\n",
       "      <td>0.002856</td>\n",
       "    </tr>\n",
       "    <tr>\n",
       "      <th>4</th>\n",
       "      <td>1976-05-31</td>\n",
       "      <td>0.016825</td>\n",
       "    </tr>\n",
       "  </tbody>\n",
       "</table>\n",
       "</div>"
      ],
      "text/plain": [
       "        date  vwreturn_lasso_clas_roll5_MSE\n",
       "0 1976-01-31                      -0.001181\n",
       "1 1976-02-29                       0.003720\n",
       "2 1976-03-31                       0.002116\n",
       "3 1976-04-30                       0.002856\n",
       "4 1976-05-31                       0.016825"
      ]
     },
     "execution_count": 14,
     "metadata": {},
     "output_type": "execute_result"
    }
   ],
   "source": [
    "vwreturns.head()"
   ]
  },
  {
   "cell_type": "markdown",
   "id": "6a8f63fb",
   "metadata": {
    "papermill": {
     "duration": 0.020206,
     "end_time": "2024-03-01T00:29:42.438741",
     "exception": false,
     "start_time": "2024-03-01T00:29:42.418535",
     "status": "completed"
    },
    "tags": []
   },
   "source": [
    "### Compare to market data"
   ]
  },
  {
   "cell_type": "code",
   "execution_count": 15,
   "id": "1a45be6d",
   "metadata": {
    "execution": {
     "iopub.execute_input": "2024-03-01T00:29:42.481842Z",
     "iopub.status.busy": "2024-03-01T00:29:42.481523Z",
     "iopub.status.idle": "2024-03-01T00:29:42.532766Z",
     "shell.execute_reply": "2024-03-01T00:29:42.531782Z"
    },
    "papermill": {
     "duration": 0.075791,
     "end_time": "2024-03-01T00:29:42.534832",
     "exception": false,
     "start_time": "2024-03-01T00:29:42.459041",
     "status": "completed"
    },
    "tags": []
   },
   "outputs": [],
   "source": [
    "#market = pd.read_csv('FF3_clean.csv')\n",
    "market = pd.read_csv('/kaggle/input/sign-prediction-datasets/FF3_clean.csv')"
   ]
  },
  {
   "cell_type": "code",
   "execution_count": 16,
   "id": "6f942962",
   "metadata": {
    "execution": {
     "iopub.execute_input": "2024-03-01T00:29:42.577882Z",
     "iopub.status.busy": "2024-03-01T00:29:42.577540Z",
     "iopub.status.idle": "2024-03-01T00:29:42.587510Z",
     "shell.execute_reply": "2024-03-01T00:29:42.586478Z"
    },
    "papermill": {
     "duration": 0.033568,
     "end_time": "2024-03-01T00:29:42.589587",
     "exception": false,
     "start_time": "2024-03-01T00:29:42.556019",
     "status": "completed"
    },
    "tags": []
   },
   "outputs": [
    {
     "data": {
      "text/html": [
       "<div>\n",
       "<style scoped>\n",
       "    .dataframe tbody tr th:only-of-type {\n",
       "        vertical-align: middle;\n",
       "    }\n",
       "\n",
       "    .dataframe tbody tr th {\n",
       "        vertical-align: top;\n",
       "    }\n",
       "\n",
       "    .dataframe thead th {\n",
       "        text-align: right;\n",
       "    }\n",
       "</style>\n",
       "<table border=\"1\" class=\"dataframe\">\n",
       "  <thead>\n",
       "    <tr style=\"text-align: right;\">\n",
       "      <th></th>\n",
       "      <th>date</th>\n",
       "      <th>Mkt-RF</th>\n",
       "      <th>SMB</th>\n",
       "      <th>HML</th>\n",
       "      <th>RF</th>\n",
       "    </tr>\n",
       "  </thead>\n",
       "  <tbody>\n",
       "    <tr>\n",
       "      <th>0</th>\n",
       "      <td>1926-07-31</td>\n",
       "      <td>2.96</td>\n",
       "      <td>-2.56</td>\n",
       "      <td>-2.43</td>\n",
       "      <td>0.22</td>\n",
       "    </tr>\n",
       "    <tr>\n",
       "      <th>1</th>\n",
       "      <td>1926-08-31</td>\n",
       "      <td>2.64</td>\n",
       "      <td>-1.17</td>\n",
       "      <td>3.82</td>\n",
       "      <td>0.25</td>\n",
       "    </tr>\n",
       "    <tr>\n",
       "      <th>2</th>\n",
       "      <td>1926-09-30</td>\n",
       "      <td>0.36</td>\n",
       "      <td>-1.40</td>\n",
       "      <td>0.13</td>\n",
       "      <td>0.23</td>\n",
       "    </tr>\n",
       "    <tr>\n",
       "      <th>3</th>\n",
       "      <td>1926-10-31</td>\n",
       "      <td>-3.24</td>\n",
       "      <td>-0.09</td>\n",
       "      <td>0.70</td>\n",
       "      <td>0.32</td>\n",
       "    </tr>\n",
       "    <tr>\n",
       "      <th>4</th>\n",
       "      <td>1926-11-30</td>\n",
       "      <td>2.53</td>\n",
       "      <td>-0.10</td>\n",
       "      <td>-0.51</td>\n",
       "      <td>0.31</td>\n",
       "    </tr>\n",
       "  </tbody>\n",
       "</table>\n",
       "</div>"
      ],
      "text/plain": [
       "         date  Mkt-RF   SMB   HML    RF\n",
       "0  1926-07-31    2.96 -2.56 -2.43  0.22\n",
       "1  1926-08-31    2.64 -1.17  3.82  0.25\n",
       "2  1926-09-30    0.36 -1.40  0.13  0.23\n",
       "3  1926-10-31   -3.24 -0.09  0.70  0.32\n",
       "4  1926-11-30    2.53 -0.10 -0.51  0.31"
      ]
     },
     "execution_count": 16,
     "metadata": {},
     "output_type": "execute_result"
    }
   ],
   "source": [
    "market.head()"
   ]
  },
  {
   "cell_type": "code",
   "execution_count": 17,
   "id": "4e5297da",
   "metadata": {
    "execution": {
     "iopub.execute_input": "2024-03-01T00:29:42.634216Z",
     "iopub.status.busy": "2024-03-01T00:29:42.633500Z",
     "iopub.status.idle": "2024-03-01T00:29:42.649282Z",
     "shell.execute_reply": "2024-03-01T00:29:42.648690Z"
    },
    "papermill": {
     "duration": 0.03987,
     "end_time": "2024-03-01T00:29:42.650804",
     "exception": false,
     "start_time": "2024-03-01T00:29:42.610934",
     "status": "completed"
    },
    "tags": []
   },
   "outputs": [],
   "source": [
    "# create a new 'Mkt' which is a sum of Mkt-RF and RF\n",
    "market['Mkt'] = market['Mkt-RF'] + market['RF']\n",
    "\n",
    "# divide all columns by 100 except 'date'\n",
    "market.iloc[:, 1:] = market.iloc[:, 1:] / 100\n",
    "\n",
    "#set the 'date' column to datetime format\n",
    "market['date'] = pd.to_datetime(market['date'])\n",
    "\n",
    "# merge the market data (only date and Mkt columns) with the vwreturns DataFrame\n",
    "vwreturns = vwreturns.merge(market[['date', 'Mkt']], on='date', how='left')\n",
    "\n",
    "# transform all columns (except 'date') to a log: log(x+1) and save the result as lvwreturns\n",
    "lvwreturns = vwreturns.copy()\n",
    "lvwreturns.iloc[:, 1:] = np.log(vwreturns.iloc[:, 1:] + 1)"
   ]
  },
  {
   "cell_type": "code",
   "execution_count": 18,
   "id": "ed11498c",
   "metadata": {
    "execution": {
     "iopub.execute_input": "2024-03-01T00:29:42.693682Z",
     "iopub.status.busy": "2024-03-01T00:29:42.693201Z",
     "iopub.status.idle": "2024-03-01T00:29:42.700875Z",
     "shell.execute_reply": "2024-03-01T00:29:42.700326Z"
    },
    "papermill": {
     "duration": 0.030491,
     "end_time": "2024-03-01T00:29:42.702358",
     "exception": false,
     "start_time": "2024-03-01T00:29:42.671867",
     "status": "completed"
    },
    "tags": []
   },
   "outputs": [
    {
     "data": {
      "text/html": [
       "<div>\n",
       "<style scoped>\n",
       "    .dataframe tbody tr th:only-of-type {\n",
       "        vertical-align: middle;\n",
       "    }\n",
       "\n",
       "    .dataframe tbody tr th {\n",
       "        vertical-align: top;\n",
       "    }\n",
       "\n",
       "    .dataframe thead th {\n",
       "        text-align: right;\n",
       "    }\n",
       "</style>\n",
       "<table border=\"1\" class=\"dataframe\">\n",
       "  <thead>\n",
       "    <tr style=\"text-align: right;\">\n",
       "      <th></th>\n",
       "      <th>date</th>\n",
       "      <th>vwreturn_lasso_clas_roll5_MSE</th>\n",
       "      <th>Mkt</th>\n",
       "    </tr>\n",
       "  </thead>\n",
       "  <tbody>\n",
       "    <tr>\n",
       "      <th>0</th>\n",
       "      <td>1976-01-31</td>\n",
       "      <td>-0.001181</td>\n",
       "      <td>0.1263</td>\n",
       "    </tr>\n",
       "    <tr>\n",
       "      <th>1</th>\n",
       "      <td>1976-02-29</td>\n",
       "      <td>0.003720</td>\n",
       "      <td>0.0066</td>\n",
       "    </tr>\n",
       "    <tr>\n",
       "      <th>2</th>\n",
       "      <td>1976-03-31</td>\n",
       "      <td>0.002116</td>\n",
       "      <td>0.0272</td>\n",
       "    </tr>\n",
       "    <tr>\n",
       "      <th>3</th>\n",
       "      <td>1976-04-30</td>\n",
       "      <td>0.002856</td>\n",
       "      <td>-0.0107</td>\n",
       "    </tr>\n",
       "    <tr>\n",
       "      <th>4</th>\n",
       "      <td>1976-05-31</td>\n",
       "      <td>0.016825</td>\n",
       "      <td>-0.0097</td>\n",
       "    </tr>\n",
       "  </tbody>\n",
       "</table>\n",
       "</div>"
      ],
      "text/plain": [
       "        date  vwreturn_lasso_clas_roll5_MSE     Mkt\n",
       "0 1976-01-31                      -0.001181  0.1263\n",
       "1 1976-02-29                       0.003720  0.0066\n",
       "2 1976-03-31                       0.002116  0.0272\n",
       "3 1976-04-30                       0.002856 -0.0107\n",
       "4 1976-05-31                       0.016825 -0.0097"
      ]
     },
     "execution_count": 18,
     "metadata": {},
     "output_type": "execute_result"
    }
   ],
   "source": [
    "vwreturns.head()"
   ]
  },
  {
   "cell_type": "code",
   "execution_count": 19,
   "id": "5868f177",
   "metadata": {
    "execution": {
     "iopub.execute_input": "2024-03-01T00:29:42.747340Z",
     "iopub.status.busy": "2024-03-01T00:29:42.746858Z",
     "iopub.status.idle": "2024-03-01T00:29:42.754091Z",
     "shell.execute_reply": "2024-03-01T00:29:42.753557Z"
    },
    "papermill": {
     "duration": 0.031501,
     "end_time": "2024-03-01T00:29:42.755560",
     "exception": false,
     "start_time": "2024-03-01T00:29:42.724059",
     "status": "completed"
    },
    "tags": []
   },
   "outputs": [
    {
     "data": {
      "text/html": [
       "<div>\n",
       "<style scoped>\n",
       "    .dataframe tbody tr th:only-of-type {\n",
       "        vertical-align: middle;\n",
       "    }\n",
       "\n",
       "    .dataframe tbody tr th {\n",
       "        vertical-align: top;\n",
       "    }\n",
       "\n",
       "    .dataframe thead th {\n",
       "        text-align: right;\n",
       "    }\n",
       "</style>\n",
       "<table border=\"1\" class=\"dataframe\">\n",
       "  <thead>\n",
       "    <tr style=\"text-align: right;\">\n",
       "      <th></th>\n",
       "      <th>date</th>\n",
       "      <th>vwreturn_lasso_clas_roll5_MSE</th>\n",
       "      <th>Mkt</th>\n",
       "    </tr>\n",
       "  </thead>\n",
       "  <tbody>\n",
       "    <tr>\n",
       "      <th>0</th>\n",
       "      <td>1976-01-31</td>\n",
       "      <td>-0.001181</td>\n",
       "      <td>0.118938</td>\n",
       "    </tr>\n",
       "    <tr>\n",
       "      <th>1</th>\n",
       "      <td>1976-02-29</td>\n",
       "      <td>0.003713</td>\n",
       "      <td>0.006578</td>\n",
       "    </tr>\n",
       "    <tr>\n",
       "      <th>2</th>\n",
       "      <td>1976-03-31</td>\n",
       "      <td>0.002113</td>\n",
       "      <td>0.026837</td>\n",
       "    </tr>\n",
       "    <tr>\n",
       "      <th>3</th>\n",
       "      <td>1976-04-30</td>\n",
       "      <td>0.002852</td>\n",
       "      <td>-0.010758</td>\n",
       "    </tr>\n",
       "    <tr>\n",
       "      <th>4</th>\n",
       "      <td>1976-05-31</td>\n",
       "      <td>0.016685</td>\n",
       "      <td>-0.009747</td>\n",
       "    </tr>\n",
       "  </tbody>\n",
       "</table>\n",
       "</div>"
      ],
      "text/plain": [
       "        date  vwreturn_lasso_clas_roll5_MSE       Mkt\n",
       "0 1976-01-31                      -0.001181  0.118938\n",
       "1 1976-02-29                       0.003713  0.006578\n",
       "2 1976-03-31                       0.002113  0.026837\n",
       "3 1976-04-30                       0.002852 -0.010758\n",
       "4 1976-05-31                       0.016685 -0.009747"
      ]
     },
     "execution_count": 19,
     "metadata": {},
     "output_type": "execute_result"
    }
   ],
   "source": [
    "lvwreturns.head()"
   ]
  },
  {
   "cell_type": "code",
   "execution_count": 20,
   "id": "b324b93e",
   "metadata": {
    "execution": {
     "iopub.execute_input": "2024-03-01T00:29:42.798825Z",
     "iopub.status.busy": "2024-03-01T00:29:42.798549Z",
     "iopub.status.idle": "2024-03-01T00:29:42.813258Z",
     "shell.execute_reply": "2024-03-01T00:29:42.812500Z"
    },
    "papermill": {
     "duration": 0.038085,
     "end_time": "2024-03-01T00:29:42.814999",
     "exception": false,
     "start_time": "2024-03-01T00:29:42.776914",
     "status": "completed"
    },
    "tags": []
   },
   "outputs": [
    {
     "data": {
      "text/html": [
       "<div>\n",
       "<style scoped>\n",
       "    .dataframe tbody tr th:only-of-type {\n",
       "        vertical-align: middle;\n",
       "    }\n",
       "\n",
       "    .dataframe tbody tr th {\n",
       "        vertical-align: top;\n",
       "    }\n",
       "\n",
       "    .dataframe thead th {\n",
       "        text-align: right;\n",
       "    }\n",
       "</style>\n",
       "<table border=\"1\" class=\"dataframe\">\n",
       "  <thead>\n",
       "    <tr style=\"text-align: right;\">\n",
       "      <th></th>\n",
       "      <th>date</th>\n",
       "      <th>vwreturn_lasso_clas_roll5_MSE</th>\n",
       "      <th>Mkt</th>\n",
       "    </tr>\n",
       "  </thead>\n",
       "  <tbody>\n",
       "    <tr>\n",
       "      <th>count</th>\n",
       "      <td>559</td>\n",
       "      <td>559.000000</td>\n",
       "      <td>559.000000</td>\n",
       "    </tr>\n",
       "    <tr>\n",
       "      <th>mean</th>\n",
       "      <td>1999-05-01 04:22:45.295169920</td>\n",
       "      <td>0.005775</td>\n",
       "      <td>0.009303</td>\n",
       "    </tr>\n",
       "    <tr>\n",
       "      <th>min</th>\n",
       "      <td>1976-01-31 00:00:00</td>\n",
       "      <td>-0.024715</td>\n",
       "      <td>-0.256700</td>\n",
       "    </tr>\n",
       "    <tr>\n",
       "      <th>25%</th>\n",
       "      <td>1987-09-15 00:00:00</td>\n",
       "      <td>0.002053</td>\n",
       "      <td>-0.015672</td>\n",
       "    </tr>\n",
       "    <tr>\n",
       "      <th>50%</th>\n",
       "      <td>1999-04-30 00:00:00</td>\n",
       "      <td>0.003340</td>\n",
       "      <td>0.013804</td>\n",
       "    </tr>\n",
       "    <tr>\n",
       "      <th>75%</th>\n",
       "      <td>2010-12-15 12:00:00</td>\n",
       "      <td>0.008377</td>\n",
       "      <td>0.038162</td>\n",
       "    </tr>\n",
       "    <tr>\n",
       "      <th>max</th>\n",
       "      <td>2022-07-31 00:00:00</td>\n",
       "      <td>0.037848</td>\n",
       "      <td>0.127953</td>\n",
       "    </tr>\n",
       "    <tr>\n",
       "      <th>std</th>\n",
       "      <td>NaN</td>\n",
       "      <td>0.005694</td>\n",
       "      <td>0.045169</td>\n",
       "    </tr>\n",
       "  </tbody>\n",
       "</table>\n",
       "</div>"
      ],
      "text/plain": [
       "                                date  vwreturn_lasso_clas_roll5_MSE  \\\n",
       "count                            559                     559.000000   \n",
       "mean   1999-05-01 04:22:45.295169920                       0.005775   \n",
       "min              1976-01-31 00:00:00                      -0.024715   \n",
       "25%              1987-09-15 00:00:00                       0.002053   \n",
       "50%              1999-04-30 00:00:00                       0.003340   \n",
       "75%              2010-12-15 12:00:00                       0.008377   \n",
       "max              2022-07-31 00:00:00                       0.037848   \n",
       "std                              NaN                       0.005694   \n",
       "\n",
       "              Mkt  \n",
       "count  559.000000  \n",
       "mean     0.009303  \n",
       "min     -0.256700  \n",
       "25%     -0.015672  \n",
       "50%      0.013804  \n",
       "75%      0.038162  \n",
       "max      0.127953  \n",
       "std      0.045169  "
      ]
     },
     "execution_count": 20,
     "metadata": {},
     "output_type": "execute_result"
    }
   ],
   "source": [
    "lvwreturns.describe()"
   ]
  },
  {
   "cell_type": "code",
   "execution_count": 21,
   "id": "441d31f7",
   "metadata": {
    "execution": {
     "iopub.execute_input": "2024-03-01T00:29:42.859838Z",
     "iopub.status.busy": "2024-03-01T00:29:42.859358Z",
     "iopub.status.idle": "2024-03-01T00:29:43.379050Z",
     "shell.execute_reply": "2024-03-01T00:29:43.377886Z"
    },
    "papermill": {
     "duration": 0.544584,
     "end_time": "2024-03-01T00:29:43.381496",
     "exception": false,
     "start_time": "2024-03-01T00:29:42.836912",
     "status": "completed"
    },
    "tags": []
   },
   "outputs": [],
   "source": [
    "# save the lvwreturns and portfolio DataFrame to a parquet file into 'outputs' folder\n",
    "\n",
    "# for reproducibility and visualization purposes\n",
    "lvwreturns.to_parquet('fin_lvwreturns_class2.parquet')\n",
    "portfolio.to_parquet('fin_portfolio_class2.parquet')\n",
    "\n",
    "# save vwreturns DataFrame to a .dta file into 'outputs' folder\n",
    "#vwreturns.to_stata('outputs/vwreturns.dta') # for backtasting in R - we need normal returns, not log returns\n"
   ]
  }
 ],
 "metadata": {
  "kaggle": {
   "accelerator": "none",
   "dataSources": [
    {
     "datasetId": 4464890,
     "sourceId": 7720907,
     "sourceType": "datasetVersion"
    }
   ],
   "dockerImageVersionId": 30664,
   "isGpuEnabled": false,
   "isInternetEnabled": true,
   "language": "python",
   "sourceType": "notebook"
  },
  "kernelspec": {
   "display_name": "base",
   "language": "python",
   "name": "python3"
  },
  "language_info": {
   "codemirror_mode": {
    "name": "ipython",
    "version": 3
   },
   "file_extension": ".py",
   "mimetype": "text/x-python",
   "name": "python",
   "nbconvert_exporter": "python",
   "pygments_lexer": "ipython3",
   "version": "3.10.13"
  },
  "papermill": {
   "default_parameters": {},
   "duration": 36856.304175,
   "end_time": "2024-03-01T00:29:44.076234",
   "environment_variables": {},
   "exception": null,
   "input_path": "__notebook__.ipynb",
   "output_path": "__notebook__.ipynb",
   "parameters": {},
   "start_time": "2024-02-29T14:15:27.772059",
   "version": "2.5.0"
  }
 },
 "nbformat": 4,
 "nbformat_minor": 5
}
